{
 "cells": [
  {
   "cell_type": "code",
   "execution_count": 3,
   "id": "ffe22d3b",
   "metadata": {},
   "outputs": [],
   "source": [
    "import pandas as pd\n",
    "import numpy as np"
   ]
  },
  {
   "cell_type": "code",
   "execution_count": 2,
   "id": "04aed303",
   "metadata": {},
   "outputs": [],
   "source": [
    "# Начинаем с серии\n",
    "\n",
    "lst = ['asd', 'qwe', None, np.nan, 'asdf']"
   ]
  },
  {
   "cell_type": "code",
   "execution_count": 3,
   "id": "454c5ebd",
   "metadata": {},
   "outputs": [],
   "source": [
    "s = pd.Series(lst)"
   ]
  },
  {
   "cell_type": "code",
   "execution_count": 4,
   "id": "d2603b8d",
   "metadata": {},
   "outputs": [
    {
     "data": {
      "text/plain": [
       "0    False\n",
       "1    False\n",
       "2     True\n",
       "3     True\n",
       "4    False\n",
       "dtype: bool"
      ]
     },
     "execution_count": 4,
     "metadata": {},
     "output_type": "execute_result"
    }
   ],
   "source": [
    "s.isnull()"
   ]
  },
  {
   "cell_type": "code",
   "execution_count": 7,
   "id": "4cef7e42",
   "metadata": {},
   "outputs": [
    {
     "data": {
      "text/plain": [
       "0     asd\n",
       "1     qwe\n",
       "4    asdf\n",
       "dtype: object"
      ]
     },
     "execution_count": 7,
     "metadata": {},
     "output_type": "execute_result"
    }
   ],
   "source": [
    "# эта функция является маской:\n",
    "\n",
    "s[s.isnull()]\n",
    "s[~s.isnull()]\n",
    "s[s.notnull()]"
   ]
  },
  {
   "cell_type": "code",
   "execution_count": null,
   "id": "54d4ef36",
   "metadata": {},
   "outputs": [],
   "source": [
    "# Еще возможности фильтрации nan"
   ]
  },
  {
   "cell_type": "code",
   "execution_count": 8,
   "id": "973525b2",
   "metadata": {},
   "outputs": [],
   "source": [
    "from numpy import nan as NA"
   ]
  },
  {
   "cell_type": "code",
   "execution_count": 9,
   "id": "17efd043",
   "metadata": {},
   "outputs": [],
   "source": [
    "s2 = pd.Series([10, NA, 40, NA, 100])"
   ]
  },
  {
   "cell_type": "code",
   "execution_count": 10,
   "id": "8cba9d88",
   "metadata": {},
   "outputs": [
    {
     "data": {
      "text/plain": [
       "0     10.0\n",
       "1      NaN\n",
       "2     40.0\n",
       "3      NaN\n",
       "4    100.0\n",
       "dtype: float64"
      ]
     },
     "execution_count": 10,
     "metadata": {},
     "output_type": "execute_result"
    }
   ],
   "source": [
    "s2"
   ]
  },
  {
   "cell_type": "code",
   "execution_count": 12,
   "id": "580ca561",
   "metadata": {},
   "outputs": [
    {
     "data": {
      "text/plain": [
       "0     10.0\n",
       "2     40.0\n",
       "4    100.0\n",
       "dtype: float64"
      ]
     },
     "execution_count": 12,
     "metadata": {},
     "output_type": "execute_result"
    }
   ],
   "source": [
    "s2.dropna()"
   ]
  },
  {
   "cell_type": "code",
   "execution_count": 13,
   "id": "5fd01ea7",
   "metadata": {},
   "outputs": [
    {
     "data": {
      "text/plain": [
       "0     10.0\n",
       "1      NaN\n",
       "2     40.0\n",
       "3      NaN\n",
       "4    100.0\n",
       "dtype: float64"
      ]
     },
     "execution_count": 13,
     "metadata": {},
     "output_type": "execute_result"
    }
   ],
   "source": [
    "s2"
   ]
  },
  {
   "cell_type": "code",
   "execution_count": null,
   "id": "cabfb819",
   "metadata": {},
   "outputs": [],
   "source": []
  },
  {
   "cell_type": "code",
   "execution_count": 14,
   "id": "de65700a",
   "metadata": {},
   "outputs": [],
   "source": [
    "df = pd.DataFrame([[1,7,9],[2, NA, NA],[NA, NA, NA],[NA, 10, 4]])"
   ]
  },
  {
   "cell_type": "code",
   "execution_count": 15,
   "id": "da8fcffa",
   "metadata": {},
   "outputs": [
    {
     "data": {
      "text/html": [
       "<div>\n",
       "<style scoped>\n",
       "    .dataframe tbody tr th:only-of-type {\n",
       "        vertical-align: middle;\n",
       "    }\n",
       "\n",
       "    .dataframe tbody tr th {\n",
       "        vertical-align: top;\n",
       "    }\n",
       "\n",
       "    .dataframe thead th {\n",
       "        text-align: right;\n",
       "    }\n",
       "</style>\n",
       "<table border=\"1\" class=\"dataframe\">\n",
       "  <thead>\n",
       "    <tr style=\"text-align: right;\">\n",
       "      <th></th>\n",
       "      <th>0</th>\n",
       "      <th>1</th>\n",
       "      <th>2</th>\n",
       "    </tr>\n",
       "  </thead>\n",
       "  <tbody>\n",
       "    <tr>\n",
       "      <th>0</th>\n",
       "      <td>1.0</td>\n",
       "      <td>7.0</td>\n",
       "      <td>9.0</td>\n",
       "    </tr>\n",
       "    <tr>\n",
       "      <th>1</th>\n",
       "      <td>2.0</td>\n",
       "      <td>NaN</td>\n",
       "      <td>NaN</td>\n",
       "    </tr>\n",
       "    <tr>\n",
       "      <th>2</th>\n",
       "      <td>NaN</td>\n",
       "      <td>NaN</td>\n",
       "      <td>NaN</td>\n",
       "    </tr>\n",
       "    <tr>\n",
       "      <th>3</th>\n",
       "      <td>NaN</td>\n",
       "      <td>10.0</td>\n",
       "      <td>4.0</td>\n",
       "    </tr>\n",
       "  </tbody>\n",
       "</table>\n",
       "</div>"
      ],
      "text/plain": [
       "     0     1    2\n",
       "0  1.0   7.0  9.0\n",
       "1  2.0   NaN  NaN\n",
       "2  NaN   NaN  NaN\n",
       "3  NaN  10.0  4.0"
      ]
     },
     "execution_count": 15,
     "metadata": {},
     "output_type": "execute_result"
    }
   ],
   "source": [
    "df"
   ]
  },
  {
   "cell_type": "code",
   "execution_count": 16,
   "id": "26a51464",
   "metadata": {},
   "outputs": [],
   "source": [
    "df11 = df.dropna()"
   ]
  },
  {
   "cell_type": "code",
   "execution_count": 17,
   "id": "129e3b43",
   "metadata": {
    "scrolled": true
   },
   "outputs": [
    {
     "data": {
      "text/html": [
       "<div>\n",
       "<style scoped>\n",
       "    .dataframe tbody tr th:only-of-type {\n",
       "        vertical-align: middle;\n",
       "    }\n",
       "\n",
       "    .dataframe tbody tr th {\n",
       "        vertical-align: top;\n",
       "    }\n",
       "\n",
       "    .dataframe thead th {\n",
       "        text-align: right;\n",
       "    }\n",
       "</style>\n",
       "<table border=\"1\" class=\"dataframe\">\n",
       "  <thead>\n",
       "    <tr style=\"text-align: right;\">\n",
       "      <th></th>\n",
       "      <th>0</th>\n",
       "      <th>1</th>\n",
       "      <th>2</th>\n",
       "    </tr>\n",
       "  </thead>\n",
       "  <tbody>\n",
       "    <tr>\n",
       "      <th>0</th>\n",
       "      <td>1.0</td>\n",
       "      <td>7.0</td>\n",
       "      <td>9.0</td>\n",
       "    </tr>\n",
       "  </tbody>\n",
       "</table>\n",
       "</div>"
      ],
      "text/plain": [
       "     0    1    2\n",
       "0  1.0  7.0  9.0"
      ]
     },
     "execution_count": 17,
     "metadata": {},
     "output_type": "execute_result"
    }
   ],
   "source": [
    "# по умолчанию идем по строкам\n",
    "# в итоге остаются только строчки где нет ни одного пропуска\n",
    "df11"
   ]
  },
  {
   "cell_type": "code",
   "execution_count": 20,
   "id": "f5fdf002",
   "metadata": {},
   "outputs": [],
   "source": [
    "# если надо удалять только строки, в которых все nan - нет ни одного значения вообще прописываем параметр how"
   ]
  },
  {
   "cell_type": "code",
   "execution_count": 21,
   "id": "40384006",
   "metadata": {},
   "outputs": [],
   "source": [
    "df11 = df.dropna(how = 'all')"
   ]
  },
  {
   "cell_type": "code",
   "execution_count": 22,
   "id": "bab201f8",
   "metadata": {},
   "outputs": [
    {
     "data": {
      "text/html": [
       "<div>\n",
       "<style scoped>\n",
       "    .dataframe tbody tr th:only-of-type {\n",
       "        vertical-align: middle;\n",
       "    }\n",
       "\n",
       "    .dataframe tbody tr th {\n",
       "        vertical-align: top;\n",
       "    }\n",
       "\n",
       "    .dataframe thead th {\n",
       "        text-align: right;\n",
       "    }\n",
       "</style>\n",
       "<table border=\"1\" class=\"dataframe\">\n",
       "  <thead>\n",
       "    <tr style=\"text-align: right;\">\n",
       "      <th></th>\n",
       "      <th>0</th>\n",
       "      <th>1</th>\n",
       "      <th>2</th>\n",
       "    </tr>\n",
       "  </thead>\n",
       "  <tbody>\n",
       "    <tr>\n",
       "      <th>0</th>\n",
       "      <td>1.0</td>\n",
       "      <td>7.0</td>\n",
       "      <td>9.0</td>\n",
       "    </tr>\n",
       "    <tr>\n",
       "      <th>1</th>\n",
       "      <td>2.0</td>\n",
       "      <td>NaN</td>\n",
       "      <td>NaN</td>\n",
       "    </tr>\n",
       "    <tr>\n",
       "      <th>3</th>\n",
       "      <td>NaN</td>\n",
       "      <td>10.0</td>\n",
       "      <td>4.0</td>\n",
       "    </tr>\n",
       "  </tbody>\n",
       "</table>\n",
       "</div>"
      ],
      "text/plain": [
       "     0     1    2\n",
       "0  1.0   7.0  9.0\n",
       "1  2.0   NaN  NaN\n",
       "3  NaN  10.0  4.0"
      ]
     },
     "execution_count": 22,
     "metadata": {},
     "output_type": "execute_result"
    }
   ],
   "source": [
    "df11"
   ]
  },
  {
   "cell_type": "code",
   "execution_count": 23,
   "id": "a5d18bdc",
   "metadata": {},
   "outputs": [],
   "source": [
    "df11 = df.dropna(axis = 1, how = 'all')"
   ]
  },
  {
   "cell_type": "code",
   "execution_count": 24,
   "id": "cd7bbf05",
   "metadata": {},
   "outputs": [
    {
     "data": {
      "text/html": [
       "<div>\n",
       "<style scoped>\n",
       "    .dataframe tbody tr th:only-of-type {\n",
       "        vertical-align: middle;\n",
       "    }\n",
       "\n",
       "    .dataframe tbody tr th {\n",
       "        vertical-align: top;\n",
       "    }\n",
       "\n",
       "    .dataframe thead th {\n",
       "        text-align: right;\n",
       "    }\n",
       "</style>\n",
       "<table border=\"1\" class=\"dataframe\">\n",
       "  <thead>\n",
       "    <tr style=\"text-align: right;\">\n",
       "      <th></th>\n",
       "      <th>0</th>\n",
       "      <th>1</th>\n",
       "      <th>2</th>\n",
       "    </tr>\n",
       "  </thead>\n",
       "  <tbody>\n",
       "    <tr>\n",
       "      <th>0</th>\n",
       "      <td>1.0</td>\n",
       "      <td>7.0</td>\n",
       "      <td>9.0</td>\n",
       "    </tr>\n",
       "    <tr>\n",
       "      <th>1</th>\n",
       "      <td>2.0</td>\n",
       "      <td>NaN</td>\n",
       "      <td>NaN</td>\n",
       "    </tr>\n",
       "    <tr>\n",
       "      <th>2</th>\n",
       "      <td>NaN</td>\n",
       "      <td>NaN</td>\n",
       "      <td>NaN</td>\n",
       "    </tr>\n",
       "    <tr>\n",
       "      <th>3</th>\n",
       "      <td>NaN</td>\n",
       "      <td>10.0</td>\n",
       "      <td>4.0</td>\n",
       "    </tr>\n",
       "  </tbody>\n",
       "</table>\n",
       "</div>"
      ],
      "text/plain": [
       "     0     1    2\n",
       "0  1.0   7.0  9.0\n",
       "1  2.0   NaN  NaN\n",
       "2  NaN   NaN  NaN\n",
       "3  NaN  10.0  4.0"
      ]
     },
     "execution_count": 24,
     "metadata": {},
     "output_type": "execute_result"
    }
   ],
   "source": [
    "df11"
   ]
  },
  {
   "cell_type": "code",
   "execution_count": null,
   "id": "c41fa412",
   "metadata": {},
   "outputs": [],
   "source": [
    "# Параметром thresh \n",
    "\n",
    "# мы можем сообщать функции dropna сколько не пустых значений должно \n",
    "# быть в нашей строке/колонке. Например, если thresh=3, то функция dropna будет проверять \n",
    "# чтобы в строке/колонке было минимум 3 непропущенных значения. Если больше, то хорошо, \n",
    "# а вот если меньше, то такая строка будет удалена."
   ]
  },
  {
   "cell_type": "code",
   "execution_count": null,
   "id": "a637548f",
   "metadata": {},
   "outputs": [],
   "source": []
  },
  {
   "cell_type": "code",
   "execution_count": null,
   "id": "31f779f8",
   "metadata": {},
   "outputs": [],
   "source": []
  },
  {
   "cell_type": "code",
   "execution_count": 2,
   "id": "b089a0d6",
   "metadata": {},
   "outputs": [],
   "source": [
    "# Задание \n",
    "\n",
    "# На вход функции подаётся датафрейм:\n",
    "\n",
    "\n",
    "_df = pd.DataFrame([[0, np.nan, np.nan, 3, 4, 5, 6, 7, 8, np.nan],\n",
    "                    [np.nan, 11, np.nan, 13, 14, 15, 16, 17, 18, np.nan],\n",
    "                    [np.nan, np.nan, 22, 23, 24, 25, 26, 27, 28, np.nan],\n",
    "                    [30, 31, 32, 33, 34, np.nan, 36, 37, 38, np.nan],\n",
    "                    [40, 41, np.nan, 43, 44, 45, 46, 47, 48, np.nan],\n",
    "                    [50, 51, 52, np.nan, 54, 55, np.nan, 57, 58, np.nan],\n",
    "                    [60, 61, 62, 63, 64, np.nan, 66, 67, np.nan, np.nan],\n",
    "                    [np.nan, 71, 72, 73, 74, 75, 76, 77, 78, np.nan],\n",
    "                    [80, 81, 82, 83, 84, 85, np.nan, 87, 88, np.nan],\n",
    "                    [90, 91, 92, 93, 94, 95, 96, 97, 98, np.nan]],\n",
    "                   columns=[\"A\", \"B\", \"C\", \"D\", \"E\", \"F\", \"G\", \"H\", \"J\", \"K\"])\n",
    "\n",
    "# При помощи функции dropna удалите колонки в которых полностью отсутствуют значения (везде NaN)"
   ]
  },
  {
   "cell_type": "code",
   "execution_count": 3,
   "id": "23bcdd0b",
   "metadata": {},
   "outputs": [
    {
     "data": {
      "text/html": [
       "<div>\n",
       "<style scoped>\n",
       "    .dataframe tbody tr th:only-of-type {\n",
       "        vertical-align: middle;\n",
       "    }\n",
       "\n",
       "    .dataframe tbody tr th {\n",
       "        vertical-align: top;\n",
       "    }\n",
       "\n",
       "    .dataframe thead th {\n",
       "        text-align: right;\n",
       "    }\n",
       "</style>\n",
       "<table border=\"1\" class=\"dataframe\">\n",
       "  <thead>\n",
       "    <tr style=\"text-align: right;\">\n",
       "      <th></th>\n",
       "      <th>A</th>\n",
       "      <th>B</th>\n",
       "      <th>C</th>\n",
       "      <th>D</th>\n",
       "      <th>E</th>\n",
       "      <th>F</th>\n",
       "      <th>G</th>\n",
       "      <th>H</th>\n",
       "      <th>J</th>\n",
       "    </tr>\n",
       "  </thead>\n",
       "  <tbody>\n",
       "    <tr>\n",
       "      <th>0</th>\n",
       "      <td>0.0</td>\n",
       "      <td>NaN</td>\n",
       "      <td>NaN</td>\n",
       "      <td>3.0</td>\n",
       "      <td>4</td>\n",
       "      <td>5.0</td>\n",
       "      <td>6.0</td>\n",
       "      <td>7</td>\n",
       "      <td>8.0</td>\n",
       "    </tr>\n",
       "    <tr>\n",
       "      <th>1</th>\n",
       "      <td>NaN</td>\n",
       "      <td>11.0</td>\n",
       "      <td>NaN</td>\n",
       "      <td>13.0</td>\n",
       "      <td>14</td>\n",
       "      <td>15.0</td>\n",
       "      <td>16.0</td>\n",
       "      <td>17</td>\n",
       "      <td>18.0</td>\n",
       "    </tr>\n",
       "    <tr>\n",
       "      <th>2</th>\n",
       "      <td>NaN</td>\n",
       "      <td>NaN</td>\n",
       "      <td>22.0</td>\n",
       "      <td>23.0</td>\n",
       "      <td>24</td>\n",
       "      <td>25.0</td>\n",
       "      <td>26.0</td>\n",
       "      <td>27</td>\n",
       "      <td>28.0</td>\n",
       "    </tr>\n",
       "    <tr>\n",
       "      <th>3</th>\n",
       "      <td>30.0</td>\n",
       "      <td>31.0</td>\n",
       "      <td>32.0</td>\n",
       "      <td>33.0</td>\n",
       "      <td>34</td>\n",
       "      <td>NaN</td>\n",
       "      <td>36.0</td>\n",
       "      <td>37</td>\n",
       "      <td>38.0</td>\n",
       "    </tr>\n",
       "    <tr>\n",
       "      <th>4</th>\n",
       "      <td>40.0</td>\n",
       "      <td>41.0</td>\n",
       "      <td>NaN</td>\n",
       "      <td>43.0</td>\n",
       "      <td>44</td>\n",
       "      <td>45.0</td>\n",
       "      <td>46.0</td>\n",
       "      <td>47</td>\n",
       "      <td>48.0</td>\n",
       "    </tr>\n",
       "    <tr>\n",
       "      <th>5</th>\n",
       "      <td>50.0</td>\n",
       "      <td>51.0</td>\n",
       "      <td>52.0</td>\n",
       "      <td>NaN</td>\n",
       "      <td>54</td>\n",
       "      <td>55.0</td>\n",
       "      <td>NaN</td>\n",
       "      <td>57</td>\n",
       "      <td>58.0</td>\n",
       "    </tr>\n",
       "    <tr>\n",
       "      <th>6</th>\n",
       "      <td>60.0</td>\n",
       "      <td>61.0</td>\n",
       "      <td>62.0</td>\n",
       "      <td>63.0</td>\n",
       "      <td>64</td>\n",
       "      <td>NaN</td>\n",
       "      <td>66.0</td>\n",
       "      <td>67</td>\n",
       "      <td>NaN</td>\n",
       "    </tr>\n",
       "    <tr>\n",
       "      <th>7</th>\n",
       "      <td>NaN</td>\n",
       "      <td>71.0</td>\n",
       "      <td>72.0</td>\n",
       "      <td>73.0</td>\n",
       "      <td>74</td>\n",
       "      <td>75.0</td>\n",
       "      <td>76.0</td>\n",
       "      <td>77</td>\n",
       "      <td>78.0</td>\n",
       "    </tr>\n",
       "    <tr>\n",
       "      <th>8</th>\n",
       "      <td>80.0</td>\n",
       "      <td>81.0</td>\n",
       "      <td>82.0</td>\n",
       "      <td>83.0</td>\n",
       "      <td>84</td>\n",
       "      <td>85.0</td>\n",
       "      <td>NaN</td>\n",
       "      <td>87</td>\n",
       "      <td>88.0</td>\n",
       "    </tr>\n",
       "    <tr>\n",
       "      <th>9</th>\n",
       "      <td>90.0</td>\n",
       "      <td>91.0</td>\n",
       "      <td>92.0</td>\n",
       "      <td>93.0</td>\n",
       "      <td>94</td>\n",
       "      <td>95.0</td>\n",
       "      <td>96.0</td>\n",
       "      <td>97</td>\n",
       "      <td>98.0</td>\n",
       "    </tr>\n",
       "  </tbody>\n",
       "</table>\n",
       "</div>"
      ],
      "text/plain": [
       "      A     B     C     D   E     F     G   H     J\n",
       "0   0.0   NaN   NaN   3.0   4   5.0   6.0   7   8.0\n",
       "1   NaN  11.0   NaN  13.0  14  15.0  16.0  17  18.0\n",
       "2   NaN   NaN  22.0  23.0  24  25.0  26.0  27  28.0\n",
       "3  30.0  31.0  32.0  33.0  34   NaN  36.0  37  38.0\n",
       "4  40.0  41.0   NaN  43.0  44  45.0  46.0  47  48.0\n",
       "5  50.0  51.0  52.0   NaN  54  55.0   NaN  57  58.0\n",
       "6  60.0  61.0  62.0  63.0  64   NaN  66.0  67   NaN\n",
       "7   NaN  71.0  72.0  73.0  74  75.0  76.0  77  78.0\n",
       "8  80.0  81.0  82.0  83.0  84  85.0   NaN  87  88.0\n",
       "9  90.0  91.0  92.0  93.0  94  95.0  96.0  97  98.0"
      ]
     },
     "execution_count": 3,
     "metadata": {},
     "output_type": "execute_result"
    }
   ],
   "source": [
    "_df.dropna(axis = 1, how = 'all')"
   ]
  },
  {
   "cell_type": "code",
   "execution_count": 32,
   "id": "97a46223",
   "metadata": {},
   "outputs": [
    {
     "data": {
      "text/plain": [
       "Index(['A', 'B', 'C', 'D', 'E', 'F', 'G', 'H', 'J', 'K'], dtype='object')"
      ]
     },
     "execution_count": 32,
     "metadata": {},
     "output_type": "execute_result"
    }
   ],
   "source": [
    "# При помощи функции dropna удалите строчки, где в ячейках А, С, D, G меньше трех значений \n",
    "# (т.е. строки с двумя и более пропущенными значениями в ячейках А, С, D, G должны быть удалены;\n",
    "#  c одним пропуском - ок)\n",
    "\n",
    "_df.columns"
   ]
  },
  {
   "cell_type": "code",
   "execution_count": 74,
   "id": "b862a70c",
   "metadata": {},
   "outputs": [],
   "source": [
    "_df1 = _df[['A', 'C', 'D', 'G']]"
   ]
  },
  {
   "cell_type": "code",
   "execution_count": 75,
   "id": "e21a3ef0",
   "metadata": {
    "scrolled": true
   },
   "outputs": [
    {
     "data": {
      "text/html": [
       "<div>\n",
       "<style scoped>\n",
       "    .dataframe tbody tr th:only-of-type {\n",
       "        vertical-align: middle;\n",
       "    }\n",
       "\n",
       "    .dataframe tbody tr th {\n",
       "        vertical-align: top;\n",
       "    }\n",
       "\n",
       "    .dataframe thead th {\n",
       "        text-align: right;\n",
       "    }\n",
       "</style>\n",
       "<table border=\"1\" class=\"dataframe\">\n",
       "  <thead>\n",
       "    <tr style=\"text-align: right;\">\n",
       "      <th></th>\n",
       "      <th>A</th>\n",
       "      <th>C</th>\n",
       "      <th>D</th>\n",
       "      <th>G</th>\n",
       "    </tr>\n",
       "  </thead>\n",
       "  <tbody>\n",
       "    <tr>\n",
       "      <th>0</th>\n",
       "      <td>0.0</td>\n",
       "      <td>NaN</td>\n",
       "      <td>3.0</td>\n",
       "      <td>6.0</td>\n",
       "    </tr>\n",
       "    <tr>\n",
       "      <th>1</th>\n",
       "      <td>NaN</td>\n",
       "      <td>NaN</td>\n",
       "      <td>13.0</td>\n",
       "      <td>16.0</td>\n",
       "    </tr>\n",
       "    <tr>\n",
       "      <th>2</th>\n",
       "      <td>NaN</td>\n",
       "      <td>22.0</td>\n",
       "      <td>23.0</td>\n",
       "      <td>26.0</td>\n",
       "    </tr>\n",
       "    <tr>\n",
       "      <th>3</th>\n",
       "      <td>30.0</td>\n",
       "      <td>32.0</td>\n",
       "      <td>33.0</td>\n",
       "      <td>36.0</td>\n",
       "    </tr>\n",
       "    <tr>\n",
       "      <th>4</th>\n",
       "      <td>40.0</td>\n",
       "      <td>NaN</td>\n",
       "      <td>43.0</td>\n",
       "      <td>46.0</td>\n",
       "    </tr>\n",
       "    <tr>\n",
       "      <th>5</th>\n",
       "      <td>50.0</td>\n",
       "      <td>52.0</td>\n",
       "      <td>NaN</td>\n",
       "      <td>NaN</td>\n",
       "    </tr>\n",
       "    <tr>\n",
       "      <th>6</th>\n",
       "      <td>60.0</td>\n",
       "      <td>62.0</td>\n",
       "      <td>63.0</td>\n",
       "      <td>66.0</td>\n",
       "    </tr>\n",
       "    <tr>\n",
       "      <th>7</th>\n",
       "      <td>NaN</td>\n",
       "      <td>72.0</td>\n",
       "      <td>73.0</td>\n",
       "      <td>76.0</td>\n",
       "    </tr>\n",
       "    <tr>\n",
       "      <th>8</th>\n",
       "      <td>80.0</td>\n",
       "      <td>82.0</td>\n",
       "      <td>83.0</td>\n",
       "      <td>NaN</td>\n",
       "    </tr>\n",
       "    <tr>\n",
       "      <th>9</th>\n",
       "      <td>90.0</td>\n",
       "      <td>92.0</td>\n",
       "      <td>93.0</td>\n",
       "      <td>96.0</td>\n",
       "    </tr>\n",
       "  </tbody>\n",
       "</table>\n",
       "</div>"
      ],
      "text/plain": [
       "      A     C     D     G\n",
       "0   0.0   NaN   3.0   6.0\n",
       "1   NaN   NaN  13.0  16.0\n",
       "2   NaN  22.0  23.0  26.0\n",
       "3  30.0  32.0  33.0  36.0\n",
       "4  40.0   NaN  43.0  46.0\n",
       "5  50.0  52.0   NaN   NaN\n",
       "6  60.0  62.0  63.0  66.0\n",
       "7   NaN  72.0  73.0  76.0\n",
       "8  80.0  82.0  83.0   NaN\n",
       "9  90.0  92.0  93.0  96.0"
      ]
     },
     "execution_count": 75,
     "metadata": {},
     "output_type": "execute_result"
    }
   ],
   "source": [
    "_df1"
   ]
  },
  {
   "cell_type": "code",
   "execution_count": 76,
   "id": "40eb5636",
   "metadata": {},
   "outputs": [
    {
     "data": {
      "text/plain": [
       "Int64Index([0, 2, 3, 4, 6, 7, 8, 9], dtype='int64')"
      ]
     },
     "execution_count": 76,
     "metadata": {},
     "output_type": "execute_result"
    }
   ],
   "source": [
    "_df1.dropna(thresh=3).index"
   ]
  },
  {
   "cell_type": "code",
   "execution_count": 95,
   "id": "ae1667ca",
   "metadata": {},
   "outputs": [
    {
     "data": {
      "text/html": [
       "<div>\n",
       "<style scoped>\n",
       "    .dataframe tbody tr th:only-of-type {\n",
       "        vertical-align: middle;\n",
       "    }\n",
       "\n",
       "    .dataframe tbody tr th {\n",
       "        vertical-align: top;\n",
       "    }\n",
       "\n",
       "    .dataframe thead th {\n",
       "        text-align: right;\n",
       "    }\n",
       "</style>\n",
       "<table border=\"1\" class=\"dataframe\">\n",
       "  <thead>\n",
       "    <tr style=\"text-align: right;\">\n",
       "      <th></th>\n",
       "      <th>A</th>\n",
       "      <th>B</th>\n",
       "      <th>C</th>\n",
       "      <th>D</th>\n",
       "      <th>E</th>\n",
       "      <th>F</th>\n",
       "      <th>G</th>\n",
       "      <th>H</th>\n",
       "      <th>J</th>\n",
       "      <th>K</th>\n",
       "    </tr>\n",
       "  </thead>\n",
       "  <tbody>\n",
       "    <tr>\n",
       "      <th>0</th>\n",
       "      <td>0.0</td>\n",
       "      <td>NaN</td>\n",
       "      <td>NaN</td>\n",
       "      <td>3.0</td>\n",
       "      <td>4</td>\n",
       "      <td>5.0</td>\n",
       "      <td>6.0</td>\n",
       "      <td>7</td>\n",
       "      <td>8.0</td>\n",
       "      <td>NaN</td>\n",
       "    </tr>\n",
       "    <tr>\n",
       "      <th>2</th>\n",
       "      <td>NaN</td>\n",
       "      <td>NaN</td>\n",
       "      <td>22.0</td>\n",
       "      <td>23.0</td>\n",
       "      <td>24</td>\n",
       "      <td>25.0</td>\n",
       "      <td>26.0</td>\n",
       "      <td>27</td>\n",
       "      <td>28.0</td>\n",
       "      <td>NaN</td>\n",
       "    </tr>\n",
       "    <tr>\n",
       "      <th>3</th>\n",
       "      <td>30.0</td>\n",
       "      <td>31.0</td>\n",
       "      <td>32.0</td>\n",
       "      <td>33.0</td>\n",
       "      <td>34</td>\n",
       "      <td>NaN</td>\n",
       "      <td>36.0</td>\n",
       "      <td>37</td>\n",
       "      <td>38.0</td>\n",
       "      <td>NaN</td>\n",
       "    </tr>\n",
       "    <tr>\n",
       "      <th>4</th>\n",
       "      <td>40.0</td>\n",
       "      <td>41.0</td>\n",
       "      <td>NaN</td>\n",
       "      <td>43.0</td>\n",
       "      <td>44</td>\n",
       "      <td>45.0</td>\n",
       "      <td>46.0</td>\n",
       "      <td>47</td>\n",
       "      <td>48.0</td>\n",
       "      <td>NaN</td>\n",
       "    </tr>\n",
       "    <tr>\n",
       "      <th>6</th>\n",
       "      <td>60.0</td>\n",
       "      <td>61.0</td>\n",
       "      <td>62.0</td>\n",
       "      <td>63.0</td>\n",
       "      <td>64</td>\n",
       "      <td>NaN</td>\n",
       "      <td>66.0</td>\n",
       "      <td>67</td>\n",
       "      <td>NaN</td>\n",
       "      <td>NaN</td>\n",
       "    </tr>\n",
       "    <tr>\n",
       "      <th>7</th>\n",
       "      <td>NaN</td>\n",
       "      <td>71.0</td>\n",
       "      <td>72.0</td>\n",
       "      <td>73.0</td>\n",
       "      <td>74</td>\n",
       "      <td>75.0</td>\n",
       "      <td>76.0</td>\n",
       "      <td>77</td>\n",
       "      <td>78.0</td>\n",
       "      <td>NaN</td>\n",
       "    </tr>\n",
       "    <tr>\n",
       "      <th>8</th>\n",
       "      <td>80.0</td>\n",
       "      <td>81.0</td>\n",
       "      <td>82.0</td>\n",
       "      <td>83.0</td>\n",
       "      <td>84</td>\n",
       "      <td>85.0</td>\n",
       "      <td>NaN</td>\n",
       "      <td>87</td>\n",
       "      <td>88.0</td>\n",
       "      <td>NaN</td>\n",
       "    </tr>\n",
       "    <tr>\n",
       "      <th>9</th>\n",
       "      <td>90.0</td>\n",
       "      <td>91.0</td>\n",
       "      <td>92.0</td>\n",
       "      <td>93.0</td>\n",
       "      <td>94</td>\n",
       "      <td>95.0</td>\n",
       "      <td>96.0</td>\n",
       "      <td>97</td>\n",
       "      <td>98.0</td>\n",
       "      <td>NaN</td>\n",
       "    </tr>\n",
       "  </tbody>\n",
       "</table>\n",
       "</div>"
      ],
      "text/plain": [
       "      A     B     C     D   E     F     G   H     J   K\n",
       "0   0.0   NaN   NaN   3.0   4   5.0   6.0   7   8.0 NaN\n",
       "2   NaN   NaN  22.0  23.0  24  25.0  26.0  27  28.0 NaN\n",
       "3  30.0  31.0  32.0  33.0  34   NaN  36.0  37  38.0 NaN\n",
       "4  40.0  41.0   NaN  43.0  44  45.0  46.0  47  48.0 NaN\n",
       "6  60.0  61.0  62.0  63.0  64   NaN  66.0  67   NaN NaN\n",
       "7   NaN  71.0  72.0  73.0  74  75.0  76.0  77  78.0 NaN\n",
       "8  80.0  81.0  82.0  83.0  84  85.0   NaN  87  88.0 NaN\n",
       "9  90.0  91.0  92.0  93.0  94  95.0  96.0  97  98.0 NaN"
      ]
     },
     "execution_count": 95,
     "metadata": {},
     "output_type": "execute_result"
    }
   ],
   "source": [
    "_df.loc[_df1.dropna(thresh=3).index]"
   ]
  },
  {
   "cell_type": "code",
   "execution_count": null,
   "id": "7a741af1",
   "metadata": {},
   "outputs": [],
   "source": []
  },
  {
   "cell_type": "code",
   "execution_count": null,
   "id": "05b5f5d0",
   "metadata": {},
   "outputs": [],
   "source": [
    "# Не пользуясь функцией dropna, отфильтруйте датафрейм так чтобы остались строчки, где в ячейках C и G нет пропусков."
   ]
  },
  {
   "cell_type": "code",
   "execution_count": 98,
   "id": "2b568793",
   "metadata": {},
   "outputs": [
    {
     "data": {
      "text/html": [
       "<div>\n",
       "<style scoped>\n",
       "    .dataframe tbody tr th:only-of-type {\n",
       "        vertical-align: middle;\n",
       "    }\n",
       "\n",
       "    .dataframe tbody tr th {\n",
       "        vertical-align: top;\n",
       "    }\n",
       "\n",
       "    .dataframe thead th {\n",
       "        text-align: right;\n",
       "    }\n",
       "</style>\n",
       "<table border=\"1\" class=\"dataframe\">\n",
       "  <thead>\n",
       "    <tr style=\"text-align: right;\">\n",
       "      <th></th>\n",
       "      <th>A</th>\n",
       "      <th>B</th>\n",
       "      <th>C</th>\n",
       "      <th>D</th>\n",
       "      <th>E</th>\n",
       "      <th>F</th>\n",
       "      <th>G</th>\n",
       "      <th>H</th>\n",
       "      <th>J</th>\n",
       "      <th>K</th>\n",
       "    </tr>\n",
       "  </thead>\n",
       "  <tbody>\n",
       "    <tr>\n",
       "      <th>0</th>\n",
       "      <td>0.0</td>\n",
       "      <td>NaN</td>\n",
       "      <td>NaN</td>\n",
       "      <td>3.0</td>\n",
       "      <td>4</td>\n",
       "      <td>5.0</td>\n",
       "      <td>6.0</td>\n",
       "      <td>7</td>\n",
       "      <td>8.0</td>\n",
       "      <td>NaN</td>\n",
       "    </tr>\n",
       "    <tr>\n",
       "      <th>1</th>\n",
       "      <td>NaN</td>\n",
       "      <td>11.0</td>\n",
       "      <td>NaN</td>\n",
       "      <td>13.0</td>\n",
       "      <td>14</td>\n",
       "      <td>15.0</td>\n",
       "      <td>16.0</td>\n",
       "      <td>17</td>\n",
       "      <td>18.0</td>\n",
       "      <td>NaN</td>\n",
       "    </tr>\n",
       "    <tr>\n",
       "      <th>2</th>\n",
       "      <td>NaN</td>\n",
       "      <td>NaN</td>\n",
       "      <td>22.0</td>\n",
       "      <td>23.0</td>\n",
       "      <td>24</td>\n",
       "      <td>25.0</td>\n",
       "      <td>26.0</td>\n",
       "      <td>27</td>\n",
       "      <td>28.0</td>\n",
       "      <td>NaN</td>\n",
       "    </tr>\n",
       "    <tr>\n",
       "      <th>3</th>\n",
       "      <td>30.0</td>\n",
       "      <td>31.0</td>\n",
       "      <td>32.0</td>\n",
       "      <td>33.0</td>\n",
       "      <td>34</td>\n",
       "      <td>NaN</td>\n",
       "      <td>36.0</td>\n",
       "      <td>37</td>\n",
       "      <td>38.0</td>\n",
       "      <td>NaN</td>\n",
       "    </tr>\n",
       "    <tr>\n",
       "      <th>4</th>\n",
       "      <td>40.0</td>\n",
       "      <td>41.0</td>\n",
       "      <td>NaN</td>\n",
       "      <td>43.0</td>\n",
       "      <td>44</td>\n",
       "      <td>45.0</td>\n",
       "      <td>46.0</td>\n",
       "      <td>47</td>\n",
       "      <td>48.0</td>\n",
       "      <td>NaN</td>\n",
       "    </tr>\n",
       "    <tr>\n",
       "      <th>5</th>\n",
       "      <td>50.0</td>\n",
       "      <td>51.0</td>\n",
       "      <td>52.0</td>\n",
       "      <td>NaN</td>\n",
       "      <td>54</td>\n",
       "      <td>55.0</td>\n",
       "      <td>NaN</td>\n",
       "      <td>57</td>\n",
       "      <td>58.0</td>\n",
       "      <td>NaN</td>\n",
       "    </tr>\n",
       "    <tr>\n",
       "      <th>6</th>\n",
       "      <td>60.0</td>\n",
       "      <td>61.0</td>\n",
       "      <td>62.0</td>\n",
       "      <td>63.0</td>\n",
       "      <td>64</td>\n",
       "      <td>NaN</td>\n",
       "      <td>66.0</td>\n",
       "      <td>67</td>\n",
       "      <td>NaN</td>\n",
       "      <td>NaN</td>\n",
       "    </tr>\n",
       "    <tr>\n",
       "      <th>7</th>\n",
       "      <td>NaN</td>\n",
       "      <td>71.0</td>\n",
       "      <td>72.0</td>\n",
       "      <td>73.0</td>\n",
       "      <td>74</td>\n",
       "      <td>75.0</td>\n",
       "      <td>76.0</td>\n",
       "      <td>77</td>\n",
       "      <td>78.0</td>\n",
       "      <td>NaN</td>\n",
       "    </tr>\n",
       "    <tr>\n",
       "      <th>8</th>\n",
       "      <td>80.0</td>\n",
       "      <td>81.0</td>\n",
       "      <td>82.0</td>\n",
       "      <td>83.0</td>\n",
       "      <td>84</td>\n",
       "      <td>85.0</td>\n",
       "      <td>NaN</td>\n",
       "      <td>87</td>\n",
       "      <td>88.0</td>\n",
       "      <td>NaN</td>\n",
       "    </tr>\n",
       "    <tr>\n",
       "      <th>9</th>\n",
       "      <td>90.0</td>\n",
       "      <td>91.0</td>\n",
       "      <td>92.0</td>\n",
       "      <td>93.0</td>\n",
       "      <td>94</td>\n",
       "      <td>95.0</td>\n",
       "      <td>96.0</td>\n",
       "      <td>97</td>\n",
       "      <td>98.0</td>\n",
       "      <td>NaN</td>\n",
       "    </tr>\n",
       "  </tbody>\n",
       "</table>\n",
       "</div>"
      ],
      "text/plain": [
       "      A     B     C     D   E     F     G   H     J   K\n",
       "0   0.0   NaN   NaN   3.0   4   5.0   6.0   7   8.0 NaN\n",
       "1   NaN  11.0   NaN  13.0  14  15.0  16.0  17  18.0 NaN\n",
       "2   NaN   NaN  22.0  23.0  24  25.0  26.0  27  28.0 NaN\n",
       "3  30.0  31.0  32.0  33.0  34   NaN  36.0  37  38.0 NaN\n",
       "4  40.0  41.0   NaN  43.0  44  45.0  46.0  47  48.0 NaN\n",
       "5  50.0  51.0  52.0   NaN  54  55.0   NaN  57  58.0 NaN\n",
       "6  60.0  61.0  62.0  63.0  64   NaN  66.0  67   NaN NaN\n",
       "7   NaN  71.0  72.0  73.0  74  75.0  76.0  77  78.0 NaN\n",
       "8  80.0  81.0  82.0  83.0  84  85.0   NaN  87  88.0 NaN\n",
       "9  90.0  91.0  92.0  93.0  94  95.0  96.0  97  98.0 NaN"
      ]
     },
     "execution_count": 98,
     "metadata": {},
     "output_type": "execute_result"
    }
   ],
   "source": [
    "_df"
   ]
  },
  {
   "cell_type": "code",
   "execution_count": 97,
   "id": "f93516c8",
   "metadata": {},
   "outputs": [
    {
     "data": {
      "text/html": [
       "<div>\n",
       "<style scoped>\n",
       "    .dataframe tbody tr th:only-of-type {\n",
       "        vertical-align: middle;\n",
       "    }\n",
       "\n",
       "    .dataframe tbody tr th {\n",
       "        vertical-align: top;\n",
       "    }\n",
       "\n",
       "    .dataframe thead th {\n",
       "        text-align: right;\n",
       "    }\n",
       "</style>\n",
       "<table border=\"1\" class=\"dataframe\">\n",
       "  <thead>\n",
       "    <tr style=\"text-align: right;\">\n",
       "      <th></th>\n",
       "      <th>C</th>\n",
       "      <th>G</th>\n",
       "    </tr>\n",
       "  </thead>\n",
       "  <tbody>\n",
       "    <tr>\n",
       "      <th>0</th>\n",
       "      <td>NaN</td>\n",
       "      <td>6.0</td>\n",
       "    </tr>\n",
       "    <tr>\n",
       "      <th>1</th>\n",
       "      <td>NaN</td>\n",
       "      <td>16.0</td>\n",
       "    </tr>\n",
       "    <tr>\n",
       "      <th>2</th>\n",
       "      <td>22.0</td>\n",
       "      <td>26.0</td>\n",
       "    </tr>\n",
       "    <tr>\n",
       "      <th>3</th>\n",
       "      <td>32.0</td>\n",
       "      <td>36.0</td>\n",
       "    </tr>\n",
       "    <tr>\n",
       "      <th>4</th>\n",
       "      <td>NaN</td>\n",
       "      <td>46.0</td>\n",
       "    </tr>\n",
       "    <tr>\n",
       "      <th>5</th>\n",
       "      <td>52.0</td>\n",
       "      <td>NaN</td>\n",
       "    </tr>\n",
       "    <tr>\n",
       "      <th>6</th>\n",
       "      <td>62.0</td>\n",
       "      <td>66.0</td>\n",
       "    </tr>\n",
       "    <tr>\n",
       "      <th>7</th>\n",
       "      <td>72.0</td>\n",
       "      <td>76.0</td>\n",
       "    </tr>\n",
       "    <tr>\n",
       "      <th>8</th>\n",
       "      <td>82.0</td>\n",
       "      <td>NaN</td>\n",
       "    </tr>\n",
       "    <tr>\n",
       "      <th>9</th>\n",
       "      <td>92.0</td>\n",
       "      <td>96.0</td>\n",
       "    </tr>\n",
       "  </tbody>\n",
       "</table>\n",
       "</div>"
      ],
      "text/plain": [
       "      C     G\n",
       "0   NaN   6.0\n",
       "1   NaN  16.0\n",
       "2  22.0  26.0\n",
       "3  32.0  36.0\n",
       "4   NaN  46.0\n",
       "5  52.0   NaN\n",
       "6  62.0  66.0\n",
       "7  72.0  76.0\n",
       "8  82.0   NaN\n",
       "9  92.0  96.0"
      ]
     },
     "execution_count": 97,
     "metadata": {},
     "output_type": "execute_result"
    }
   ],
   "source": [
    "_df[['C', 'G']]"
   ]
  },
  {
   "cell_type": "code",
   "execution_count": 124,
   "id": "dcc7d0c0",
   "metadata": {},
   "outputs": [
    {
     "data": {
      "text/plain": [
       "0    False\n",
       "1    False\n",
       "2     True\n",
       "3     True\n",
       "4    False\n",
       "5    False\n",
       "6     True\n",
       "7     True\n",
       "8    False\n",
       "9     True\n",
       "dtype: bool"
      ]
     },
     "execution_count": 124,
     "metadata": {},
     "output_type": "execute_result"
    }
   ],
   "source": [
    "_df['C'].notna() & _df['G'].notna()"
   ]
  },
  {
   "cell_type": "code",
   "execution_count": 125,
   "id": "6cd01336",
   "metadata": {},
   "outputs": [
    {
     "data": {
      "text/html": [
       "<div>\n",
       "<style scoped>\n",
       "    .dataframe tbody tr th:only-of-type {\n",
       "        vertical-align: middle;\n",
       "    }\n",
       "\n",
       "    .dataframe tbody tr th {\n",
       "        vertical-align: top;\n",
       "    }\n",
       "\n",
       "    .dataframe thead th {\n",
       "        text-align: right;\n",
       "    }\n",
       "</style>\n",
       "<table border=\"1\" class=\"dataframe\">\n",
       "  <thead>\n",
       "    <tr style=\"text-align: right;\">\n",
       "      <th></th>\n",
       "      <th>A</th>\n",
       "      <th>B</th>\n",
       "      <th>C</th>\n",
       "      <th>D</th>\n",
       "      <th>E</th>\n",
       "      <th>F</th>\n",
       "      <th>G</th>\n",
       "      <th>H</th>\n",
       "      <th>J</th>\n",
       "      <th>K</th>\n",
       "    </tr>\n",
       "  </thead>\n",
       "  <tbody>\n",
       "    <tr>\n",
       "      <th>2</th>\n",
       "      <td>NaN</td>\n",
       "      <td>NaN</td>\n",
       "      <td>22.0</td>\n",
       "      <td>23.0</td>\n",
       "      <td>24</td>\n",
       "      <td>25.0</td>\n",
       "      <td>26.0</td>\n",
       "      <td>27</td>\n",
       "      <td>28.0</td>\n",
       "      <td>NaN</td>\n",
       "    </tr>\n",
       "    <tr>\n",
       "      <th>3</th>\n",
       "      <td>30.0</td>\n",
       "      <td>31.0</td>\n",
       "      <td>32.0</td>\n",
       "      <td>33.0</td>\n",
       "      <td>34</td>\n",
       "      <td>NaN</td>\n",
       "      <td>36.0</td>\n",
       "      <td>37</td>\n",
       "      <td>38.0</td>\n",
       "      <td>NaN</td>\n",
       "    </tr>\n",
       "    <tr>\n",
       "      <th>6</th>\n",
       "      <td>60.0</td>\n",
       "      <td>61.0</td>\n",
       "      <td>62.0</td>\n",
       "      <td>63.0</td>\n",
       "      <td>64</td>\n",
       "      <td>NaN</td>\n",
       "      <td>66.0</td>\n",
       "      <td>67</td>\n",
       "      <td>NaN</td>\n",
       "      <td>NaN</td>\n",
       "    </tr>\n",
       "    <tr>\n",
       "      <th>7</th>\n",
       "      <td>NaN</td>\n",
       "      <td>71.0</td>\n",
       "      <td>72.0</td>\n",
       "      <td>73.0</td>\n",
       "      <td>74</td>\n",
       "      <td>75.0</td>\n",
       "      <td>76.0</td>\n",
       "      <td>77</td>\n",
       "      <td>78.0</td>\n",
       "      <td>NaN</td>\n",
       "    </tr>\n",
       "    <tr>\n",
       "      <th>9</th>\n",
       "      <td>90.0</td>\n",
       "      <td>91.0</td>\n",
       "      <td>92.0</td>\n",
       "      <td>93.0</td>\n",
       "      <td>94</td>\n",
       "      <td>95.0</td>\n",
       "      <td>96.0</td>\n",
       "      <td>97</td>\n",
       "      <td>98.0</td>\n",
       "      <td>NaN</td>\n",
       "    </tr>\n",
       "  </tbody>\n",
       "</table>\n",
       "</div>"
      ],
      "text/plain": [
       "      A     B     C     D   E     F     G   H     J   K\n",
       "2   NaN   NaN  22.0  23.0  24  25.0  26.0  27  28.0 NaN\n",
       "3  30.0  31.0  32.0  33.0  34   NaN  36.0  37  38.0 NaN\n",
       "6  60.0  61.0  62.0  63.0  64   NaN  66.0  67   NaN NaN\n",
       "7   NaN  71.0  72.0  73.0  74  75.0  76.0  77  78.0 NaN\n",
       "9  90.0  91.0  92.0  93.0  94  95.0  96.0  97  98.0 NaN"
      ]
     },
     "execution_count": 125,
     "metadata": {},
     "output_type": "execute_result"
    }
   ],
   "source": [
    "_df[_df['C'].notna() & _df['G'].notna()]"
   ]
  },
  {
   "cell_type": "code",
   "execution_count": null,
   "id": "d7289363",
   "metadata": {},
   "outputs": [],
   "source": []
  },
  {
   "cell_type": "markdown",
   "id": "62b8d730",
   "metadata": {},
   "source": [
    "# Заполнение пропущенных значений"
   ]
  },
  {
   "cell_type": "code",
   "execution_count": 127,
   "id": "82e98874",
   "metadata": {},
   "outputs": [
    {
     "data": {
      "text/html": [
       "<div>\n",
       "<style scoped>\n",
       "    .dataframe tbody tr th:only-of-type {\n",
       "        vertical-align: middle;\n",
       "    }\n",
       "\n",
       "    .dataframe tbody tr th {\n",
       "        vertical-align: top;\n",
       "    }\n",
       "\n",
       "    .dataframe thead th {\n",
       "        text-align: right;\n",
       "    }\n",
       "</style>\n",
       "<table border=\"1\" class=\"dataframe\">\n",
       "  <thead>\n",
       "    <tr style=\"text-align: right;\">\n",
       "      <th></th>\n",
       "      <th>A</th>\n",
       "      <th>B</th>\n",
       "      <th>C</th>\n",
       "      <th>D</th>\n",
       "      <th>E</th>\n",
       "      <th>F</th>\n",
       "      <th>G</th>\n",
       "      <th>H</th>\n",
       "      <th>J</th>\n",
       "      <th>K</th>\n",
       "    </tr>\n",
       "  </thead>\n",
       "  <tbody>\n",
       "    <tr>\n",
       "      <th>0</th>\n",
       "      <td>0.0</td>\n",
       "      <td>NaN</td>\n",
       "      <td>NaN</td>\n",
       "      <td>3.0</td>\n",
       "      <td>4</td>\n",
       "      <td>5.0</td>\n",
       "      <td>6.0</td>\n",
       "      <td>7</td>\n",
       "      <td>8.0</td>\n",
       "      <td>NaN</td>\n",
       "    </tr>\n",
       "    <tr>\n",
       "      <th>1</th>\n",
       "      <td>NaN</td>\n",
       "      <td>11.0</td>\n",
       "      <td>NaN</td>\n",
       "      <td>13.0</td>\n",
       "      <td>14</td>\n",
       "      <td>15.0</td>\n",
       "      <td>16.0</td>\n",
       "      <td>17</td>\n",
       "      <td>18.0</td>\n",
       "      <td>NaN</td>\n",
       "    </tr>\n",
       "    <tr>\n",
       "      <th>2</th>\n",
       "      <td>NaN</td>\n",
       "      <td>NaN</td>\n",
       "      <td>22.0</td>\n",
       "      <td>23.0</td>\n",
       "      <td>24</td>\n",
       "      <td>25.0</td>\n",
       "      <td>26.0</td>\n",
       "      <td>27</td>\n",
       "      <td>28.0</td>\n",
       "      <td>NaN</td>\n",
       "    </tr>\n",
       "    <tr>\n",
       "      <th>3</th>\n",
       "      <td>30.0</td>\n",
       "      <td>31.0</td>\n",
       "      <td>32.0</td>\n",
       "      <td>33.0</td>\n",
       "      <td>34</td>\n",
       "      <td>NaN</td>\n",
       "      <td>36.0</td>\n",
       "      <td>37</td>\n",
       "      <td>38.0</td>\n",
       "      <td>NaN</td>\n",
       "    </tr>\n",
       "    <tr>\n",
       "      <th>4</th>\n",
       "      <td>40.0</td>\n",
       "      <td>41.0</td>\n",
       "      <td>NaN</td>\n",
       "      <td>43.0</td>\n",
       "      <td>44</td>\n",
       "      <td>45.0</td>\n",
       "      <td>46.0</td>\n",
       "      <td>47</td>\n",
       "      <td>48.0</td>\n",
       "      <td>NaN</td>\n",
       "    </tr>\n",
       "    <tr>\n",
       "      <th>5</th>\n",
       "      <td>50.0</td>\n",
       "      <td>51.0</td>\n",
       "      <td>52.0</td>\n",
       "      <td>NaN</td>\n",
       "      <td>54</td>\n",
       "      <td>55.0</td>\n",
       "      <td>NaN</td>\n",
       "      <td>57</td>\n",
       "      <td>58.0</td>\n",
       "      <td>NaN</td>\n",
       "    </tr>\n",
       "    <tr>\n",
       "      <th>6</th>\n",
       "      <td>60.0</td>\n",
       "      <td>61.0</td>\n",
       "      <td>62.0</td>\n",
       "      <td>63.0</td>\n",
       "      <td>64</td>\n",
       "      <td>NaN</td>\n",
       "      <td>66.0</td>\n",
       "      <td>67</td>\n",
       "      <td>NaN</td>\n",
       "      <td>NaN</td>\n",
       "    </tr>\n",
       "    <tr>\n",
       "      <th>7</th>\n",
       "      <td>NaN</td>\n",
       "      <td>71.0</td>\n",
       "      <td>72.0</td>\n",
       "      <td>73.0</td>\n",
       "      <td>74</td>\n",
       "      <td>75.0</td>\n",
       "      <td>76.0</td>\n",
       "      <td>77</td>\n",
       "      <td>78.0</td>\n",
       "      <td>NaN</td>\n",
       "    </tr>\n",
       "    <tr>\n",
       "      <th>8</th>\n",
       "      <td>80.0</td>\n",
       "      <td>81.0</td>\n",
       "      <td>82.0</td>\n",
       "      <td>83.0</td>\n",
       "      <td>84</td>\n",
       "      <td>85.0</td>\n",
       "      <td>NaN</td>\n",
       "      <td>87</td>\n",
       "      <td>88.0</td>\n",
       "      <td>NaN</td>\n",
       "    </tr>\n",
       "    <tr>\n",
       "      <th>9</th>\n",
       "      <td>90.0</td>\n",
       "      <td>91.0</td>\n",
       "      <td>92.0</td>\n",
       "      <td>93.0</td>\n",
       "      <td>94</td>\n",
       "      <td>95.0</td>\n",
       "      <td>96.0</td>\n",
       "      <td>97</td>\n",
       "      <td>98.0</td>\n",
       "      <td>NaN</td>\n",
       "    </tr>\n",
       "  </tbody>\n",
       "</table>\n",
       "</div>"
      ],
      "text/plain": [
       "      A     B     C     D   E     F     G   H     J   K\n",
       "0   0.0   NaN   NaN   3.0   4   5.0   6.0   7   8.0 NaN\n",
       "1   NaN  11.0   NaN  13.0  14  15.0  16.0  17  18.0 NaN\n",
       "2   NaN   NaN  22.0  23.0  24  25.0  26.0  27  28.0 NaN\n",
       "3  30.0  31.0  32.0  33.0  34   NaN  36.0  37  38.0 NaN\n",
       "4  40.0  41.0   NaN  43.0  44  45.0  46.0  47  48.0 NaN\n",
       "5  50.0  51.0  52.0   NaN  54  55.0   NaN  57  58.0 NaN\n",
       "6  60.0  61.0  62.0  63.0  64   NaN  66.0  67   NaN NaN\n",
       "7   NaN  71.0  72.0  73.0  74  75.0  76.0  77  78.0 NaN\n",
       "8  80.0  81.0  82.0  83.0  84  85.0   NaN  87  88.0 NaN\n",
       "9  90.0  91.0  92.0  93.0  94  95.0  96.0  97  98.0 NaN"
      ]
     },
     "execution_count": 127,
     "metadata": {},
     "output_type": "execute_result"
    }
   ],
   "source": [
    "_df"
   ]
  },
  {
   "cell_type": "code",
   "execution_count": 128,
   "id": "fbecef95",
   "metadata": {},
   "outputs": [
    {
     "data": {
      "text/html": [
       "<div>\n",
       "<style scoped>\n",
       "    .dataframe tbody tr th:only-of-type {\n",
       "        vertical-align: middle;\n",
       "    }\n",
       "\n",
       "    .dataframe tbody tr th {\n",
       "        vertical-align: top;\n",
       "    }\n",
       "\n",
       "    .dataframe thead th {\n",
       "        text-align: right;\n",
       "    }\n",
       "</style>\n",
       "<table border=\"1\" class=\"dataframe\">\n",
       "  <thead>\n",
       "    <tr style=\"text-align: right;\">\n",
       "      <th></th>\n",
       "      <th>A</th>\n",
       "      <th>B</th>\n",
       "      <th>C</th>\n",
       "      <th>D</th>\n",
       "      <th>E</th>\n",
       "      <th>F</th>\n",
       "      <th>G</th>\n",
       "      <th>H</th>\n",
       "      <th>J</th>\n",
       "      <th>K</th>\n",
       "    </tr>\n",
       "  </thead>\n",
       "  <tbody>\n",
       "    <tr>\n",
       "      <th>0</th>\n",
       "      <td>0.0</td>\n",
       "      <td>0.0</td>\n",
       "      <td>0.0</td>\n",
       "      <td>3.0</td>\n",
       "      <td>4</td>\n",
       "      <td>5.0</td>\n",
       "      <td>6.0</td>\n",
       "      <td>7</td>\n",
       "      <td>8.0</td>\n",
       "      <td>0.0</td>\n",
       "    </tr>\n",
       "    <tr>\n",
       "      <th>1</th>\n",
       "      <td>0.0</td>\n",
       "      <td>11.0</td>\n",
       "      <td>0.0</td>\n",
       "      <td>13.0</td>\n",
       "      <td>14</td>\n",
       "      <td>15.0</td>\n",
       "      <td>16.0</td>\n",
       "      <td>17</td>\n",
       "      <td>18.0</td>\n",
       "      <td>0.0</td>\n",
       "    </tr>\n",
       "    <tr>\n",
       "      <th>2</th>\n",
       "      <td>0.0</td>\n",
       "      <td>0.0</td>\n",
       "      <td>22.0</td>\n",
       "      <td>23.0</td>\n",
       "      <td>24</td>\n",
       "      <td>25.0</td>\n",
       "      <td>26.0</td>\n",
       "      <td>27</td>\n",
       "      <td>28.0</td>\n",
       "      <td>0.0</td>\n",
       "    </tr>\n",
       "    <tr>\n",
       "      <th>3</th>\n",
       "      <td>30.0</td>\n",
       "      <td>31.0</td>\n",
       "      <td>32.0</td>\n",
       "      <td>33.0</td>\n",
       "      <td>34</td>\n",
       "      <td>0.0</td>\n",
       "      <td>36.0</td>\n",
       "      <td>37</td>\n",
       "      <td>38.0</td>\n",
       "      <td>0.0</td>\n",
       "    </tr>\n",
       "    <tr>\n",
       "      <th>4</th>\n",
       "      <td>40.0</td>\n",
       "      <td>41.0</td>\n",
       "      <td>0.0</td>\n",
       "      <td>43.0</td>\n",
       "      <td>44</td>\n",
       "      <td>45.0</td>\n",
       "      <td>46.0</td>\n",
       "      <td>47</td>\n",
       "      <td>48.0</td>\n",
       "      <td>0.0</td>\n",
       "    </tr>\n",
       "    <tr>\n",
       "      <th>5</th>\n",
       "      <td>50.0</td>\n",
       "      <td>51.0</td>\n",
       "      <td>52.0</td>\n",
       "      <td>0.0</td>\n",
       "      <td>54</td>\n",
       "      <td>55.0</td>\n",
       "      <td>0.0</td>\n",
       "      <td>57</td>\n",
       "      <td>58.0</td>\n",
       "      <td>0.0</td>\n",
       "    </tr>\n",
       "    <tr>\n",
       "      <th>6</th>\n",
       "      <td>60.0</td>\n",
       "      <td>61.0</td>\n",
       "      <td>62.0</td>\n",
       "      <td>63.0</td>\n",
       "      <td>64</td>\n",
       "      <td>0.0</td>\n",
       "      <td>66.0</td>\n",
       "      <td>67</td>\n",
       "      <td>0.0</td>\n",
       "      <td>0.0</td>\n",
       "    </tr>\n",
       "    <tr>\n",
       "      <th>7</th>\n",
       "      <td>0.0</td>\n",
       "      <td>71.0</td>\n",
       "      <td>72.0</td>\n",
       "      <td>73.0</td>\n",
       "      <td>74</td>\n",
       "      <td>75.0</td>\n",
       "      <td>76.0</td>\n",
       "      <td>77</td>\n",
       "      <td>78.0</td>\n",
       "      <td>0.0</td>\n",
       "    </tr>\n",
       "    <tr>\n",
       "      <th>8</th>\n",
       "      <td>80.0</td>\n",
       "      <td>81.0</td>\n",
       "      <td>82.0</td>\n",
       "      <td>83.0</td>\n",
       "      <td>84</td>\n",
       "      <td>85.0</td>\n",
       "      <td>0.0</td>\n",
       "      <td>87</td>\n",
       "      <td>88.0</td>\n",
       "      <td>0.0</td>\n",
       "    </tr>\n",
       "    <tr>\n",
       "      <th>9</th>\n",
       "      <td>90.0</td>\n",
       "      <td>91.0</td>\n",
       "      <td>92.0</td>\n",
       "      <td>93.0</td>\n",
       "      <td>94</td>\n",
       "      <td>95.0</td>\n",
       "      <td>96.0</td>\n",
       "      <td>97</td>\n",
       "      <td>98.0</td>\n",
       "      <td>0.0</td>\n",
       "    </tr>\n",
       "  </tbody>\n",
       "</table>\n",
       "</div>"
      ],
      "text/plain": [
       "      A     B     C     D   E     F     G   H     J    K\n",
       "0   0.0   0.0   0.0   3.0   4   5.0   6.0   7   8.0  0.0\n",
       "1   0.0  11.0   0.0  13.0  14  15.0  16.0  17  18.0  0.0\n",
       "2   0.0   0.0  22.0  23.0  24  25.0  26.0  27  28.0  0.0\n",
       "3  30.0  31.0  32.0  33.0  34   0.0  36.0  37  38.0  0.0\n",
       "4  40.0  41.0   0.0  43.0  44  45.0  46.0  47  48.0  0.0\n",
       "5  50.0  51.0  52.0   0.0  54  55.0   0.0  57  58.0  0.0\n",
       "6  60.0  61.0  62.0  63.0  64   0.0  66.0  67   0.0  0.0\n",
       "7   0.0  71.0  72.0  73.0  74  75.0  76.0  77  78.0  0.0\n",
       "8  80.0  81.0  82.0  83.0  84  85.0   0.0  87  88.0  0.0\n",
       "9  90.0  91.0  92.0  93.0  94  95.0  96.0  97  98.0  0.0"
      ]
     },
     "execution_count": 128,
     "metadata": {},
     "output_type": "execute_result"
    }
   ],
   "source": [
    "_df.fillna(0)"
   ]
  },
  {
   "cell_type": "code",
   "execution_count": 129,
   "id": "cfb90ff7",
   "metadata": {},
   "outputs": [
    {
     "data": {
      "text/html": [
       "<div>\n",
       "<style scoped>\n",
       "    .dataframe tbody tr th:only-of-type {\n",
       "        vertical-align: middle;\n",
       "    }\n",
       "\n",
       "    .dataframe tbody tr th {\n",
       "        vertical-align: top;\n",
       "    }\n",
       "\n",
       "    .dataframe thead th {\n",
       "        text-align: right;\n",
       "    }\n",
       "</style>\n",
       "<table border=\"1\" class=\"dataframe\">\n",
       "  <thead>\n",
       "    <tr style=\"text-align: right;\">\n",
       "      <th></th>\n",
       "      <th>A</th>\n",
       "      <th>B</th>\n",
       "      <th>C</th>\n",
       "      <th>D</th>\n",
       "      <th>E</th>\n",
       "      <th>F</th>\n",
       "      <th>G</th>\n",
       "      <th>H</th>\n",
       "      <th>J</th>\n",
       "      <th>K</th>\n",
       "    </tr>\n",
       "  </thead>\n",
       "  <tbody>\n",
       "    <tr>\n",
       "      <th>0</th>\n",
       "      <td>0.0</td>\n",
       "      <td>hui</td>\n",
       "      <td>NaN</td>\n",
       "      <td>3.0</td>\n",
       "      <td>4</td>\n",
       "      <td>5.0</td>\n",
       "      <td>6.0</td>\n",
       "      <td>7</td>\n",
       "      <td>8.0</td>\n",
       "      <td>NaN</td>\n",
       "    </tr>\n",
       "    <tr>\n",
       "      <th>1</th>\n",
       "      <td>0.0</td>\n",
       "      <td>11.0</td>\n",
       "      <td>NaN</td>\n",
       "      <td>13.0</td>\n",
       "      <td>14</td>\n",
       "      <td>15.0</td>\n",
       "      <td>16.0</td>\n",
       "      <td>17</td>\n",
       "      <td>18.0</td>\n",
       "      <td>NaN</td>\n",
       "    </tr>\n",
       "    <tr>\n",
       "      <th>2</th>\n",
       "      <td>0.0</td>\n",
       "      <td>hui</td>\n",
       "      <td>22.0</td>\n",
       "      <td>23.0</td>\n",
       "      <td>24</td>\n",
       "      <td>25.0</td>\n",
       "      <td>26.0</td>\n",
       "      <td>27</td>\n",
       "      <td>28.0</td>\n",
       "      <td>NaN</td>\n",
       "    </tr>\n",
       "    <tr>\n",
       "      <th>3</th>\n",
       "      <td>30.0</td>\n",
       "      <td>31.0</td>\n",
       "      <td>32.0</td>\n",
       "      <td>33.0</td>\n",
       "      <td>34</td>\n",
       "      <td>NaN</td>\n",
       "      <td>36.0</td>\n",
       "      <td>37</td>\n",
       "      <td>38.0</td>\n",
       "      <td>NaN</td>\n",
       "    </tr>\n",
       "    <tr>\n",
       "      <th>4</th>\n",
       "      <td>40.0</td>\n",
       "      <td>41.0</td>\n",
       "      <td>NaN</td>\n",
       "      <td>43.0</td>\n",
       "      <td>44</td>\n",
       "      <td>45.0</td>\n",
       "      <td>46.0</td>\n",
       "      <td>47</td>\n",
       "      <td>48.0</td>\n",
       "      <td>NaN</td>\n",
       "    </tr>\n",
       "    <tr>\n",
       "      <th>5</th>\n",
       "      <td>50.0</td>\n",
       "      <td>51.0</td>\n",
       "      <td>52.0</td>\n",
       "      <td>NaN</td>\n",
       "      <td>54</td>\n",
       "      <td>55.0</td>\n",
       "      <td>NaN</td>\n",
       "      <td>57</td>\n",
       "      <td>58.0</td>\n",
       "      <td>NaN</td>\n",
       "    </tr>\n",
       "    <tr>\n",
       "      <th>6</th>\n",
       "      <td>60.0</td>\n",
       "      <td>61.0</td>\n",
       "      <td>62.0</td>\n",
       "      <td>63.0</td>\n",
       "      <td>64</td>\n",
       "      <td>NaN</td>\n",
       "      <td>66.0</td>\n",
       "      <td>67</td>\n",
       "      <td>NaN</td>\n",
       "      <td>NaN</td>\n",
       "    </tr>\n",
       "    <tr>\n",
       "      <th>7</th>\n",
       "      <td>0.0</td>\n",
       "      <td>71.0</td>\n",
       "      <td>72.0</td>\n",
       "      <td>73.0</td>\n",
       "      <td>74</td>\n",
       "      <td>75.0</td>\n",
       "      <td>76.0</td>\n",
       "      <td>77</td>\n",
       "      <td>78.0</td>\n",
       "      <td>NaN</td>\n",
       "    </tr>\n",
       "    <tr>\n",
       "      <th>8</th>\n",
       "      <td>80.0</td>\n",
       "      <td>81.0</td>\n",
       "      <td>82.0</td>\n",
       "      <td>83.0</td>\n",
       "      <td>84</td>\n",
       "      <td>85.0</td>\n",
       "      <td>NaN</td>\n",
       "      <td>87</td>\n",
       "      <td>88.0</td>\n",
       "      <td>NaN</td>\n",
       "    </tr>\n",
       "    <tr>\n",
       "      <th>9</th>\n",
       "      <td>90.0</td>\n",
       "      <td>91.0</td>\n",
       "      <td>92.0</td>\n",
       "      <td>93.0</td>\n",
       "      <td>94</td>\n",
       "      <td>95.0</td>\n",
       "      <td>96.0</td>\n",
       "      <td>97</td>\n",
       "      <td>98.0</td>\n",
       "      <td>NaN</td>\n",
       "    </tr>\n",
       "  </tbody>\n",
       "</table>\n",
       "</div>"
      ],
      "text/plain": [
       "      A     B     C     D   E     F     G   H     J   K\n",
       "0   0.0   hui   NaN   3.0   4   5.0   6.0   7   8.0 NaN\n",
       "1   0.0  11.0   NaN  13.0  14  15.0  16.0  17  18.0 NaN\n",
       "2   0.0   hui  22.0  23.0  24  25.0  26.0  27  28.0 NaN\n",
       "3  30.0  31.0  32.0  33.0  34   NaN  36.0  37  38.0 NaN\n",
       "4  40.0  41.0   NaN  43.0  44  45.0  46.0  47  48.0 NaN\n",
       "5  50.0  51.0  52.0   NaN  54  55.0   NaN  57  58.0 NaN\n",
       "6  60.0  61.0  62.0  63.0  64   NaN  66.0  67   NaN NaN\n",
       "7   0.0  71.0  72.0  73.0  74  75.0  76.0  77  78.0 NaN\n",
       "8  80.0  81.0  82.0  83.0  84  85.0   NaN  87  88.0 NaN\n",
       "9  90.0  91.0  92.0  93.0  94  95.0  96.0  97  98.0 NaN"
      ]
     },
     "execution_count": 129,
     "metadata": {},
     "output_type": "execute_result"
    }
   ],
   "source": [
    "# Кастомизируем заполнение ячеек:\n",
    "\n",
    "_df.fillna({'A': 0, 'B': 'hui'})"
   ]
  },
  {
   "cell_type": "code",
   "execution_count": null,
   "id": "8c9d2fff",
   "metadata": {},
   "outputs": [],
   "source": []
  },
  {
   "cell_type": "code",
   "execution_count": 131,
   "id": "c4752ed9",
   "metadata": {},
   "outputs": [],
   "source": [
    "# более продвинутые способы заполнения значений\n",
    "\n",
    "# Методы заполнения:\n",
    "\n",
    "# method='ffill':  распространяет последнее наблюдаемое значение вперед, пока не встретится другое значение.\n",
    "# method='bfill':  распространяет первое наблюдаемое значение назад, пока не встретится другое значение.\n",
    "\n",
    "\n",
    "# регулируем как заполнять:\n",
    "\n",
    "df3 = pd.DataFrame(np.random.rand(6, 3))\n",
    "df3.iloc[2:, 1] = np.NaN\n",
    "df3.iloc[4:, 2] = np.NaN\n"
   ]
  },
  {
   "cell_type": "code",
   "execution_count": 133,
   "id": "432c197f",
   "metadata": {},
   "outputs": [
    {
     "data": {
      "text/html": [
       "<div>\n",
       "<style scoped>\n",
       "    .dataframe tbody tr th:only-of-type {\n",
       "        vertical-align: middle;\n",
       "    }\n",
       "\n",
       "    .dataframe tbody tr th {\n",
       "        vertical-align: top;\n",
       "    }\n",
       "\n",
       "    .dataframe thead th {\n",
       "        text-align: right;\n",
       "    }\n",
       "</style>\n",
       "<table border=\"1\" class=\"dataframe\">\n",
       "  <thead>\n",
       "    <tr style=\"text-align: right;\">\n",
       "      <th></th>\n",
       "      <th>0</th>\n",
       "      <th>1</th>\n",
       "      <th>2</th>\n",
       "    </tr>\n",
       "  </thead>\n",
       "  <tbody>\n",
       "    <tr>\n",
       "      <th>0</th>\n",
       "      <td>0.538274</td>\n",
       "      <td>0.267049</td>\n",
       "      <td>0.550702</td>\n",
       "    </tr>\n",
       "    <tr>\n",
       "      <th>1</th>\n",
       "      <td>0.001706</td>\n",
       "      <td>0.557345</td>\n",
       "      <td>0.973431</td>\n",
       "    </tr>\n",
       "    <tr>\n",
       "      <th>2</th>\n",
       "      <td>0.978978</td>\n",
       "      <td>NaN</td>\n",
       "      <td>0.392511</td>\n",
       "    </tr>\n",
       "    <tr>\n",
       "      <th>3</th>\n",
       "      <td>0.884089</td>\n",
       "      <td>NaN</td>\n",
       "      <td>0.900421</td>\n",
       "    </tr>\n",
       "    <tr>\n",
       "      <th>4</th>\n",
       "      <td>0.178159</td>\n",
       "      <td>NaN</td>\n",
       "      <td>NaN</td>\n",
       "    </tr>\n",
       "    <tr>\n",
       "      <th>5</th>\n",
       "      <td>0.579322</td>\n",
       "      <td>NaN</td>\n",
       "      <td>NaN</td>\n",
       "    </tr>\n",
       "  </tbody>\n",
       "</table>\n",
       "</div>"
      ],
      "text/plain": [
       "          0         1         2\n",
       "0  0.538274  0.267049  0.550702\n",
       "1  0.001706  0.557345  0.973431\n",
       "2  0.978978       NaN  0.392511\n",
       "3  0.884089       NaN  0.900421\n",
       "4  0.178159       NaN       NaN\n",
       "5  0.579322       NaN       NaN"
      ]
     },
     "execution_count": 133,
     "metadata": {},
     "output_type": "execute_result"
    }
   ],
   "source": [
    "df3"
   ]
  },
  {
   "cell_type": "code",
   "execution_count": 135,
   "id": "bf8a6ff2",
   "metadata": {},
   "outputs": [
    {
     "data": {
      "text/html": [
       "<div>\n",
       "<style scoped>\n",
       "    .dataframe tbody tr th:only-of-type {\n",
       "        vertical-align: middle;\n",
       "    }\n",
       "\n",
       "    .dataframe tbody tr th {\n",
       "        vertical-align: top;\n",
       "    }\n",
       "\n",
       "    .dataframe thead th {\n",
       "        text-align: right;\n",
       "    }\n",
       "</style>\n",
       "<table border=\"1\" class=\"dataframe\">\n",
       "  <thead>\n",
       "    <tr style=\"text-align: right;\">\n",
       "      <th></th>\n",
       "      <th>0</th>\n",
       "      <th>1</th>\n",
       "      <th>2</th>\n",
       "    </tr>\n",
       "  </thead>\n",
       "  <tbody>\n",
       "    <tr>\n",
       "      <th>0</th>\n",
       "      <td>0.538274</td>\n",
       "      <td>0.267049</td>\n",
       "      <td>0.550702</td>\n",
       "    </tr>\n",
       "    <tr>\n",
       "      <th>1</th>\n",
       "      <td>0.001706</td>\n",
       "      <td>0.557345</td>\n",
       "      <td>0.973431</td>\n",
       "    </tr>\n",
       "    <tr>\n",
       "      <th>2</th>\n",
       "      <td>0.978978</td>\n",
       "      <td>0.557345</td>\n",
       "      <td>0.392511</td>\n",
       "    </tr>\n",
       "    <tr>\n",
       "      <th>3</th>\n",
       "      <td>0.884089</td>\n",
       "      <td>0.557345</td>\n",
       "      <td>0.900421</td>\n",
       "    </tr>\n",
       "    <tr>\n",
       "      <th>4</th>\n",
       "      <td>0.178159</td>\n",
       "      <td>0.557345</td>\n",
       "      <td>0.900421</td>\n",
       "    </tr>\n",
       "    <tr>\n",
       "      <th>5</th>\n",
       "      <td>0.579322</td>\n",
       "      <td>0.557345</td>\n",
       "      <td>0.900421</td>\n",
       "    </tr>\n",
       "  </tbody>\n",
       "</table>\n",
       "</div>"
      ],
      "text/plain": [
       "          0         1         2\n",
       "0  0.538274  0.267049  0.550702\n",
       "1  0.001706  0.557345  0.973431\n",
       "2  0.978978  0.557345  0.392511\n",
       "3  0.884089  0.557345  0.900421\n",
       "4  0.178159  0.557345  0.900421\n",
       "5  0.579322  0.557345  0.900421"
      ]
     },
     "execution_count": 135,
     "metadata": {},
     "output_type": "execute_result"
    }
   ],
   "source": [
    "df3.fillna(method = 'ffill')"
   ]
  },
  {
   "cell_type": "code",
   "execution_count": 137,
   "id": "40146789",
   "metadata": {},
   "outputs": [
    {
     "data": {
      "text/html": [
       "<div>\n",
       "<style scoped>\n",
       "    .dataframe tbody tr th:only-of-type {\n",
       "        vertical-align: middle;\n",
       "    }\n",
       "\n",
       "    .dataframe tbody tr th {\n",
       "        vertical-align: top;\n",
       "    }\n",
       "\n",
       "    .dataframe thead th {\n",
       "        text-align: right;\n",
       "    }\n",
       "</style>\n",
       "<table border=\"1\" class=\"dataframe\">\n",
       "  <thead>\n",
       "    <tr style=\"text-align: right;\">\n",
       "      <th></th>\n",
       "      <th>0</th>\n",
       "      <th>1</th>\n",
       "      <th>2</th>\n",
       "    </tr>\n",
       "  </thead>\n",
       "  <tbody>\n",
       "    <tr>\n",
       "      <th>0</th>\n",
       "      <td>0.538274</td>\n",
       "      <td>0.267049</td>\n",
       "      <td>0.550702</td>\n",
       "    </tr>\n",
       "    <tr>\n",
       "      <th>1</th>\n",
       "      <td>0.001706</td>\n",
       "      <td>0.557345</td>\n",
       "      <td>0.973431</td>\n",
       "    </tr>\n",
       "    <tr>\n",
       "      <th>2</th>\n",
       "      <td>0.978978</td>\n",
       "      <td>0.557345</td>\n",
       "      <td>0.392511</td>\n",
       "    </tr>\n",
       "    <tr>\n",
       "      <th>3</th>\n",
       "      <td>0.884089</td>\n",
       "      <td>NaN</td>\n",
       "      <td>0.900421</td>\n",
       "    </tr>\n",
       "    <tr>\n",
       "      <th>4</th>\n",
       "      <td>0.178159</td>\n",
       "      <td>NaN</td>\n",
       "      <td>0.900421</td>\n",
       "    </tr>\n",
       "    <tr>\n",
       "      <th>5</th>\n",
       "      <td>0.579322</td>\n",
       "      <td>NaN</td>\n",
       "      <td>NaN</td>\n",
       "    </tr>\n",
       "  </tbody>\n",
       "</table>\n",
       "</div>"
      ],
      "text/plain": [
       "          0         1         2\n",
       "0  0.538274  0.267049  0.550702\n",
       "1  0.001706  0.557345  0.973431\n",
       "2  0.978978  0.557345  0.392511\n",
       "3  0.884089       NaN  0.900421\n",
       "4  0.178159       NaN  0.900421\n",
       "5  0.579322       NaN       NaN"
      ]
     },
     "execution_count": 137,
     "metadata": {},
     "output_type": "execute_result"
    }
   ],
   "source": [
    "# заполняет вперед заданное количество ячеек\n",
    "\n",
    "df3.fillna(method = 'ffill', limit = 1)"
   ]
  },
  {
   "cell_type": "code",
   "execution_count": null,
   "id": "6314dd6e",
   "metadata": {},
   "outputs": [],
   "source": []
  },
  {
   "cell_type": "code",
   "execution_count": null,
   "id": "cb8b918d",
   "metadata": {},
   "outputs": [],
   "source": []
  },
  {
   "cell_type": "code",
   "execution_count": 139,
   "id": "7690e663",
   "metadata": {},
   "outputs": [
    {
     "data": {
      "text/html": [
       "<div>\n",
       "<style scoped>\n",
       "    .dataframe tbody tr th:only-of-type {\n",
       "        vertical-align: middle;\n",
       "    }\n",
       "\n",
       "    .dataframe tbody tr th {\n",
       "        vertical-align: top;\n",
       "    }\n",
       "\n",
       "    .dataframe thead th {\n",
       "        text-align: right;\n",
       "    }\n",
       "</style>\n",
       "<table border=\"1\" class=\"dataframe\">\n",
       "  <thead>\n",
       "    <tr style=\"text-align: right;\">\n",
       "      <th></th>\n",
       "      <th>0</th>\n",
       "      <th>1</th>\n",
       "      <th>2</th>\n",
       "    </tr>\n",
       "  </thead>\n",
       "  <tbody>\n",
       "    <tr>\n",
       "      <th>0</th>\n",
       "      <td>0.538274</td>\n",
       "      <td>0.267049</td>\n",
       "      <td>0.550702</td>\n",
       "    </tr>\n",
       "    <tr>\n",
       "      <th>1</th>\n",
       "      <td>0.001706</td>\n",
       "      <td>0.557345</td>\n",
       "      <td>0.973431</td>\n",
       "    </tr>\n",
       "    <tr>\n",
       "      <th>2</th>\n",
       "      <td>0.978978</td>\n",
       "      <td>NaN</td>\n",
       "      <td>0.392511</td>\n",
       "    </tr>\n",
       "    <tr>\n",
       "      <th>3</th>\n",
       "      <td>0.884089</td>\n",
       "      <td>NaN</td>\n",
       "      <td>0.900421</td>\n",
       "    </tr>\n",
       "    <tr>\n",
       "      <th>4</th>\n",
       "      <td>0.178159</td>\n",
       "      <td>NaN</td>\n",
       "      <td>NaN</td>\n",
       "    </tr>\n",
       "    <tr>\n",
       "      <th>5</th>\n",
       "      <td>0.579322</td>\n",
       "      <td>NaN</td>\n",
       "      <td>NaN</td>\n",
       "    </tr>\n",
       "  </tbody>\n",
       "</table>\n",
       "</div>"
      ],
      "text/plain": [
       "          0         1         2\n",
       "0  0.538274  0.267049  0.550702\n",
       "1  0.001706  0.557345  0.973431\n",
       "2  0.978978       NaN  0.392511\n",
       "3  0.884089       NaN  0.900421\n",
       "4  0.178159       NaN       NaN\n",
       "5  0.579322       NaN       NaN"
      ]
     },
     "execution_count": 139,
     "metadata": {},
     "output_type": "execute_result"
    }
   ],
   "source": [
    "df3"
   ]
  },
  {
   "cell_type": "code",
   "execution_count": 140,
   "id": "84f3043e",
   "metadata": {},
   "outputs": [],
   "source": [
    "df3.iloc[0, 0] = NA"
   ]
  },
  {
   "cell_type": "code",
   "execution_count": 141,
   "id": "c2449557",
   "metadata": {},
   "outputs": [
    {
     "data": {
      "text/html": [
       "<div>\n",
       "<style scoped>\n",
       "    .dataframe tbody tr th:only-of-type {\n",
       "        vertical-align: middle;\n",
       "    }\n",
       "\n",
       "    .dataframe tbody tr th {\n",
       "        vertical-align: top;\n",
       "    }\n",
       "\n",
       "    .dataframe thead th {\n",
       "        text-align: right;\n",
       "    }\n",
       "</style>\n",
       "<table border=\"1\" class=\"dataframe\">\n",
       "  <thead>\n",
       "    <tr style=\"text-align: right;\">\n",
       "      <th></th>\n",
       "      <th>0</th>\n",
       "      <th>1</th>\n",
       "      <th>2</th>\n",
       "    </tr>\n",
       "  </thead>\n",
       "  <tbody>\n",
       "    <tr>\n",
       "      <th>0</th>\n",
       "      <td>NaN</td>\n",
       "      <td>0.267049</td>\n",
       "      <td>0.550702</td>\n",
       "    </tr>\n",
       "    <tr>\n",
       "      <th>1</th>\n",
       "      <td>0.001706</td>\n",
       "      <td>0.557345</td>\n",
       "      <td>0.973431</td>\n",
       "    </tr>\n",
       "    <tr>\n",
       "      <th>2</th>\n",
       "      <td>0.978978</td>\n",
       "      <td>NaN</td>\n",
       "      <td>0.392511</td>\n",
       "    </tr>\n",
       "    <tr>\n",
       "      <th>3</th>\n",
       "      <td>0.884089</td>\n",
       "      <td>NaN</td>\n",
       "      <td>0.900421</td>\n",
       "    </tr>\n",
       "    <tr>\n",
       "      <th>4</th>\n",
       "      <td>0.178159</td>\n",
       "      <td>NaN</td>\n",
       "      <td>NaN</td>\n",
       "    </tr>\n",
       "    <tr>\n",
       "      <th>5</th>\n",
       "      <td>0.579322</td>\n",
       "      <td>NaN</td>\n",
       "      <td>NaN</td>\n",
       "    </tr>\n",
       "  </tbody>\n",
       "</table>\n",
       "</div>"
      ],
      "text/plain": [
       "          0         1         2\n",
       "0       NaN  0.267049  0.550702\n",
       "1  0.001706  0.557345  0.973431\n",
       "2  0.978978       NaN  0.392511\n",
       "3  0.884089       NaN  0.900421\n",
       "4  0.178159       NaN       NaN\n",
       "5  0.579322       NaN       NaN"
      ]
     },
     "execution_count": 141,
     "metadata": {},
     "output_type": "execute_result"
    }
   ],
   "source": [
    "df3"
   ]
  },
  {
   "cell_type": "code",
   "execution_count": 142,
   "id": "f32f22cf",
   "metadata": {},
   "outputs": [
    {
     "data": {
      "text/html": [
       "<div>\n",
       "<style scoped>\n",
       "    .dataframe tbody tr th:only-of-type {\n",
       "        vertical-align: middle;\n",
       "    }\n",
       "\n",
       "    .dataframe tbody tr th {\n",
       "        vertical-align: top;\n",
       "    }\n",
       "\n",
       "    .dataframe thead th {\n",
       "        text-align: right;\n",
       "    }\n",
       "</style>\n",
       "<table border=\"1\" class=\"dataframe\">\n",
       "  <thead>\n",
       "    <tr style=\"text-align: right;\">\n",
       "      <th></th>\n",
       "      <th>0</th>\n",
       "      <th>1</th>\n",
       "      <th>2</th>\n",
       "    </tr>\n",
       "  </thead>\n",
       "  <tbody>\n",
       "    <tr>\n",
       "      <th>0</th>\n",
       "      <td>0.001706</td>\n",
       "      <td>0.267049</td>\n",
       "      <td>0.550702</td>\n",
       "    </tr>\n",
       "    <tr>\n",
       "      <th>1</th>\n",
       "      <td>0.001706</td>\n",
       "      <td>0.557345</td>\n",
       "      <td>0.973431</td>\n",
       "    </tr>\n",
       "    <tr>\n",
       "      <th>2</th>\n",
       "      <td>0.978978</td>\n",
       "      <td>NaN</td>\n",
       "      <td>0.392511</td>\n",
       "    </tr>\n",
       "    <tr>\n",
       "      <th>3</th>\n",
       "      <td>0.884089</td>\n",
       "      <td>NaN</td>\n",
       "      <td>0.900421</td>\n",
       "    </tr>\n",
       "    <tr>\n",
       "      <th>4</th>\n",
       "      <td>0.178159</td>\n",
       "      <td>NaN</td>\n",
       "      <td>NaN</td>\n",
       "    </tr>\n",
       "    <tr>\n",
       "      <th>5</th>\n",
       "      <td>0.579322</td>\n",
       "      <td>NaN</td>\n",
       "      <td>NaN</td>\n",
       "    </tr>\n",
       "  </tbody>\n",
       "</table>\n",
       "</div>"
      ],
      "text/plain": [
       "          0         1         2\n",
       "0  0.001706  0.267049  0.550702\n",
       "1  0.001706  0.557345  0.973431\n",
       "2  0.978978       NaN  0.392511\n",
       "3  0.884089       NaN  0.900421\n",
       "4  0.178159       NaN       NaN\n",
       "5  0.579322       NaN       NaN"
      ]
     },
     "execution_count": 142,
     "metadata": {},
     "output_type": "execute_result"
    }
   ],
   "source": [
    "# вышестоящие ячейки с методом 'bfill' заполняются значениями нижестоящих:\n",
    "\n",
    "df3.fillna(method = 'bfill')"
   ]
  },
  {
   "cell_type": "code",
   "execution_count": null,
   "id": "fa890c07",
   "metadata": {},
   "outputs": [],
   "source": [
    "# Вы можете встретить в чужом коде method='pad' - это аналог method='ffill'. \n",
    "\n",
    "# Если вы встретите method='backfill'-это аналог method='bfill'."
   ]
  },
  {
   "cell_type": "code",
   "execution_count": null,
   "id": "3cb94e5a",
   "metadata": {},
   "outputs": [],
   "source": []
  },
  {
   "cell_type": "code",
   "execution_count": null,
   "id": "229d8894",
   "metadata": {},
   "outputs": [],
   "source": [
    "## заполнение на основе среднего значения"
   ]
  },
  {
   "cell_type": "code",
   "execution_count": 143,
   "id": "18775eec",
   "metadata": {},
   "outputs": [],
   "source": [
    "lst = [5, 6, None, np.nan, 8]"
   ]
  },
  {
   "cell_type": "code",
   "execution_count": 144,
   "id": "42aaa900",
   "metadata": {},
   "outputs": [],
   "source": [
    "s = pd.Series(lst)"
   ]
  },
  {
   "cell_type": "code",
   "execution_count": 145,
   "id": "47bc357e",
   "metadata": {},
   "outputs": [
    {
     "data": {
      "text/plain": [
       "0    5.000000\n",
       "1    6.000000\n",
       "2    6.333333\n",
       "3    6.333333\n",
       "4    8.000000\n",
       "dtype: float64"
      ]
     },
     "execution_count": 145,
     "metadata": {},
     "output_type": "execute_result"
    }
   ],
   "source": [
    "s.fillna(s.mean())"
   ]
  },
  {
   "cell_type": "code",
   "execution_count": null,
   "id": "477f548e",
   "metadata": {},
   "outputs": [],
   "source": []
  },
  {
   "cell_type": "code",
   "execution_count": null,
   "id": "2eff5a01",
   "metadata": {},
   "outputs": [],
   "source": []
  },
  {
   "cell_type": "markdown",
   "id": "bfea318e",
   "metadata": {},
   "source": [
    "# Проверяем данные на дубликаты и избавляемся от них"
   ]
  },
  {
   "cell_type": "code",
   "execution_count": 146,
   "id": "0529f631",
   "metadata": {},
   "outputs": [],
   "source": [
    "df = pd.DataFrame({'group_name': ['A', 'B', 'A', 'B', 'A', 'B', 'B'],\n",
    "                  'group_value': [10, 10, 20, 30, 30, 40, 40]})"
   ]
  },
  {
   "cell_type": "code",
   "execution_count": 147,
   "id": "7570ef65",
   "metadata": {},
   "outputs": [
    {
     "data": {
      "text/html": [
       "<div>\n",
       "<style scoped>\n",
       "    .dataframe tbody tr th:only-of-type {\n",
       "        vertical-align: middle;\n",
       "    }\n",
       "\n",
       "    .dataframe tbody tr th {\n",
       "        vertical-align: top;\n",
       "    }\n",
       "\n",
       "    .dataframe thead th {\n",
       "        text-align: right;\n",
       "    }\n",
       "</style>\n",
       "<table border=\"1\" class=\"dataframe\">\n",
       "  <thead>\n",
       "    <tr style=\"text-align: right;\">\n",
       "      <th></th>\n",
       "      <th>group_name</th>\n",
       "      <th>group_value</th>\n",
       "    </tr>\n",
       "  </thead>\n",
       "  <tbody>\n",
       "    <tr>\n",
       "      <th>0</th>\n",
       "      <td>A</td>\n",
       "      <td>10</td>\n",
       "    </tr>\n",
       "    <tr>\n",
       "      <th>1</th>\n",
       "      <td>B</td>\n",
       "      <td>10</td>\n",
       "    </tr>\n",
       "    <tr>\n",
       "      <th>2</th>\n",
       "      <td>A</td>\n",
       "      <td>20</td>\n",
       "    </tr>\n",
       "    <tr>\n",
       "      <th>3</th>\n",
       "      <td>B</td>\n",
       "      <td>30</td>\n",
       "    </tr>\n",
       "    <tr>\n",
       "      <th>4</th>\n",
       "      <td>A</td>\n",
       "      <td>30</td>\n",
       "    </tr>\n",
       "    <tr>\n",
       "      <th>5</th>\n",
       "      <td>B</td>\n",
       "      <td>40</td>\n",
       "    </tr>\n",
       "    <tr>\n",
       "      <th>6</th>\n",
       "      <td>B</td>\n",
       "      <td>40</td>\n",
       "    </tr>\n",
       "  </tbody>\n",
       "</table>\n",
       "</div>"
      ],
      "text/plain": [
       "  group_name  group_value\n",
       "0          A           10\n",
       "1          B           10\n",
       "2          A           20\n",
       "3          B           30\n",
       "4          A           30\n",
       "5          B           40\n",
       "6          B           40"
      ]
     },
     "execution_count": 147,
     "metadata": {},
     "output_type": "execute_result"
    }
   ],
   "source": [
    "df"
   ]
  },
  {
   "cell_type": "code",
   "execution_count": 148,
   "id": "e6f57a96",
   "metadata": {},
   "outputs": [
    {
     "data": {
      "text/plain": [
       "0    False\n",
       "1    False\n",
       "2    False\n",
       "3    False\n",
       "4    False\n",
       "5    False\n",
       "6     True\n",
       "dtype: bool"
      ]
     },
     "execution_count": 148,
     "metadata": {},
     "output_type": "execute_result"
    }
   ],
   "source": [
    "# по всему датафрейму - ответ на вопрос - является ли строка дубликатом или нет:\n",
    "\n",
    "df.duplicated()"
   ]
  },
  {
   "cell_type": "code",
   "execution_count": null,
   "id": "5289b67f",
   "metadata": {},
   "outputs": [],
   "source": [
    "# У функции duplicated можно поменять режим проверки дубликатов при помощи параметра keep:\n",
    "\n",
    "# keep = 'first': пометить дубликаты как True, за исключением первого вхождения. \n",
    "# Т.е. первое значение не будет считаться дубликатом.\n",
    "\n",
    "# keep = 'last': пометить дубликаты как True, за исключением последнего вхождения.\n",
    "# Т.е. последнее значение не будет считаться дубликатом.\n",
    "\n",
    "# keep = False : пометить все дубликаты как True. Т.е. все значения будут считаться дубликатами."
   ]
  },
  {
   "cell_type": "code",
   "execution_count": null,
   "id": "c5959d7e",
   "metadata": {},
   "outputs": [],
   "source": []
  },
  {
   "cell_type": "code",
   "execution_count": 149,
   "id": "1ac7ca21",
   "metadata": {},
   "outputs": [
    {
     "data": {
      "text/html": [
       "<div>\n",
       "<style scoped>\n",
       "    .dataframe tbody tr th:only-of-type {\n",
       "        vertical-align: middle;\n",
       "    }\n",
       "\n",
       "    .dataframe tbody tr th {\n",
       "        vertical-align: top;\n",
       "    }\n",
       "\n",
       "    .dataframe thead th {\n",
       "        text-align: right;\n",
       "    }\n",
       "</style>\n",
       "<table border=\"1\" class=\"dataframe\">\n",
       "  <thead>\n",
       "    <tr style=\"text-align: right;\">\n",
       "      <th></th>\n",
       "      <th>group_name</th>\n",
       "      <th>group_value</th>\n",
       "    </tr>\n",
       "  </thead>\n",
       "  <tbody>\n",
       "    <tr>\n",
       "      <th>6</th>\n",
       "      <td>B</td>\n",
       "      <td>40</td>\n",
       "    </tr>\n",
       "  </tbody>\n",
       "</table>\n",
       "</div>"
      ],
      "text/plain": [
       "  group_name  group_value\n",
       "6          B           40"
      ]
     },
     "execution_count": 149,
     "metadata": {},
     "output_type": "execute_result"
    }
   ],
   "source": [
    "df[df.duplicated()]"
   ]
  },
  {
   "cell_type": "code",
   "execution_count": null,
   "id": "53bf6d43",
   "metadata": {},
   "outputs": [],
   "source": []
  },
  {
   "cell_type": "code",
   "execution_count": 150,
   "id": "c50ecfdd",
   "metadata": {},
   "outputs": [
    {
     "data": {
      "text/html": [
       "<div>\n",
       "<style scoped>\n",
       "    .dataframe tbody tr th:only-of-type {\n",
       "        vertical-align: middle;\n",
       "    }\n",
       "\n",
       "    .dataframe tbody tr th {\n",
       "        vertical-align: top;\n",
       "    }\n",
       "\n",
       "    .dataframe thead th {\n",
       "        text-align: right;\n",
       "    }\n",
       "</style>\n",
       "<table border=\"1\" class=\"dataframe\">\n",
       "  <thead>\n",
       "    <tr style=\"text-align: right;\">\n",
       "      <th></th>\n",
       "      <th>group_name</th>\n",
       "      <th>group_value</th>\n",
       "    </tr>\n",
       "  </thead>\n",
       "  <tbody>\n",
       "    <tr>\n",
       "      <th>0</th>\n",
       "      <td>A</td>\n",
       "      <td>10</td>\n",
       "    </tr>\n",
       "    <tr>\n",
       "      <th>1</th>\n",
       "      <td>B</td>\n",
       "      <td>10</td>\n",
       "    </tr>\n",
       "    <tr>\n",
       "      <th>2</th>\n",
       "      <td>A</td>\n",
       "      <td>20</td>\n",
       "    </tr>\n",
       "    <tr>\n",
       "      <th>3</th>\n",
       "      <td>B</td>\n",
       "      <td>30</td>\n",
       "    </tr>\n",
       "    <tr>\n",
       "      <th>4</th>\n",
       "      <td>A</td>\n",
       "      <td>30</td>\n",
       "    </tr>\n",
       "    <tr>\n",
       "      <th>5</th>\n",
       "      <td>B</td>\n",
       "      <td>40</td>\n",
       "    </tr>\n",
       "  </tbody>\n",
       "</table>\n",
       "</div>"
      ],
      "text/plain": [
       "  group_name  group_value\n",
       "0          A           10\n",
       "1          B           10\n",
       "2          A           20\n",
       "3          B           30\n",
       "4          A           30\n",
       "5          B           40"
      ]
     },
     "execution_count": 150,
     "metadata": {},
     "output_type": "execute_result"
    }
   ],
   "source": [
    "df.drop_duplicates()"
   ]
  },
  {
   "cell_type": "code",
   "execution_count": 151,
   "id": "62daa564",
   "metadata": {},
   "outputs": [
    {
     "data": {
      "text/html": [
       "<div>\n",
       "<style scoped>\n",
       "    .dataframe tbody tr th:only-of-type {\n",
       "        vertical-align: middle;\n",
       "    }\n",
       "\n",
       "    .dataframe tbody tr th {\n",
       "        vertical-align: top;\n",
       "    }\n",
       "\n",
       "    .dataframe thead th {\n",
       "        text-align: right;\n",
       "    }\n",
       "</style>\n",
       "<table border=\"1\" class=\"dataframe\">\n",
       "  <thead>\n",
       "    <tr style=\"text-align: right;\">\n",
       "      <th></th>\n",
       "      <th>group_name</th>\n",
       "      <th>group_value</th>\n",
       "    </tr>\n",
       "  </thead>\n",
       "  <tbody>\n",
       "    <tr>\n",
       "      <th>0</th>\n",
       "      <td>A</td>\n",
       "      <td>10</td>\n",
       "    </tr>\n",
       "    <tr>\n",
       "      <th>1</th>\n",
       "      <td>B</td>\n",
       "      <td>10</td>\n",
       "    </tr>\n",
       "  </tbody>\n",
       "</table>\n",
       "</div>"
      ],
      "text/plain": [
       "  group_name  group_value\n",
       "0          A           10\n",
       "1          B           10"
      ]
     },
     "execution_count": 151,
     "metadata": {},
     "output_type": "execute_result"
    }
   ],
   "source": [
    "# выше расчет идет по двум колонкам. По group_name и group_value\n",
    "\n",
    "# если мы хотим, чтобы дубли ловились только по одной колонке, например только по group_name:\n",
    "\n",
    "df.drop_duplicates('group_name')"
   ]
  },
  {
   "cell_type": "code",
   "execution_count": null,
   "id": "75402809",
   "metadata": {},
   "outputs": [],
   "source": [
    "# Параметр keep у функции drop_duplicates очень важен и вы часто будете его задавать! \n",
    "    \n",
    "# Он определяет, какие дубликаты (если они есть) нужно сохранить. Вот значения, которые может принимать параметр keep:\n",
    "\n",
    "# - first : удалить дубликаты, кроме первого вхождения.\n",
    "\n",
    "# - last : удалить дубликаты, кроме последнего вхождения.\n",
    "\n",
    "# - False : удалить все дубликаты."
   ]
  },
  {
   "cell_type": "code",
   "execution_count": null,
   "id": "08f42097",
   "metadata": {},
   "outputs": [],
   "source": []
  },
  {
   "cell_type": "markdown",
   "id": "30c799d7",
   "metadata": {},
   "source": [
    "# Функция map() заточена на работу с Сериями и словарями"
   ]
  },
  {
   "cell_type": "code",
   "execution_count": 4,
   "id": "1813226c",
   "metadata": {},
   "outputs": [],
   "source": [
    "airport_data = pd.DataFrame({'airline': ['Air China', 'Jet Airways', 'Aeroflot', 'easyJet'], 'planes': [10, 4, 30, 2]})\n",
    "country = {'Air China': 'China', 'Jet Airways': 'India', 'Aeroflot': 'Russia', 'easyJet': 'United Kingdom'}"
   ]
  },
  {
   "cell_type": "code",
   "execution_count": 153,
   "id": "8d0c3ef1",
   "metadata": {},
   "outputs": [
    {
     "data": {
      "text/html": [
       "<div>\n",
       "<style scoped>\n",
       "    .dataframe tbody tr th:only-of-type {\n",
       "        vertical-align: middle;\n",
       "    }\n",
       "\n",
       "    .dataframe tbody tr th {\n",
       "        vertical-align: top;\n",
       "    }\n",
       "\n",
       "    .dataframe thead th {\n",
       "        text-align: right;\n",
       "    }\n",
       "</style>\n",
       "<table border=\"1\" class=\"dataframe\">\n",
       "  <thead>\n",
       "    <tr style=\"text-align: right;\">\n",
       "      <th></th>\n",
       "      <th>airline</th>\n",
       "      <th>planes</th>\n",
       "    </tr>\n",
       "  </thead>\n",
       "  <tbody>\n",
       "    <tr>\n",
       "      <th>0</th>\n",
       "      <td>Air China</td>\n",
       "      <td>10</td>\n",
       "    </tr>\n",
       "    <tr>\n",
       "      <th>1</th>\n",
       "      <td>Jet Airways</td>\n",
       "      <td>4</td>\n",
       "    </tr>\n",
       "    <tr>\n",
       "      <th>2</th>\n",
       "      <td>Aeroflot</td>\n",
       "      <td>30</td>\n",
       "    </tr>\n",
       "    <tr>\n",
       "      <th>3</th>\n",
       "      <td>easyJet</td>\n",
       "      <td>2</td>\n",
       "    </tr>\n",
       "  </tbody>\n",
       "</table>\n",
       "</div>"
      ],
      "text/plain": [
       "       airline  planes\n",
       "0    Air China      10\n",
       "1  Jet Airways       4\n",
       "2     Aeroflot      30\n",
       "3      easyJet       2"
      ]
     },
     "execution_count": 153,
     "metadata": {},
     "output_type": "execute_result"
    }
   ],
   "source": [
    "airport_data"
   ]
  },
  {
   "cell_type": "code",
   "execution_count": 5,
   "id": "34a4124e",
   "metadata": {},
   "outputs": [
    {
     "data": {
      "text/plain": [
       "0             China\n",
       "1             India\n",
       "2            Russia\n",
       "3    United Kingdom\n",
       "Name: airline, dtype: object"
      ]
     },
     "execution_count": 5,
     "metadata": {},
     "output_type": "execute_result"
    }
   ],
   "source": [
    "# функция map пробегает по всем ключам в словаре country и подставляет в Series значения этого словаря\n",
    "\n",
    "# осуществляется перевод по словарю функцией map(dictionary)\n",
    "\n",
    "airport_data['airline'].map(country)"
   ]
  },
  {
   "cell_type": "code",
   "execution_count": 6,
   "id": "303fed66",
   "metadata": {},
   "outputs": [],
   "source": [
    "airport_data['country'] = airport_data['airline'].map(country)"
   ]
  },
  {
   "cell_type": "code",
   "execution_count": 7,
   "id": "569bb8f4",
   "metadata": {},
   "outputs": [
    {
     "data": {
      "text/html": [
       "<div>\n",
       "<style scoped>\n",
       "    .dataframe tbody tr th:only-of-type {\n",
       "        vertical-align: middle;\n",
       "    }\n",
       "\n",
       "    .dataframe tbody tr th {\n",
       "        vertical-align: top;\n",
       "    }\n",
       "\n",
       "    .dataframe thead th {\n",
       "        text-align: right;\n",
       "    }\n",
       "</style>\n",
       "<table border=\"1\" class=\"dataframe\">\n",
       "  <thead>\n",
       "    <tr style=\"text-align: right;\">\n",
       "      <th></th>\n",
       "      <th>airline</th>\n",
       "      <th>planes</th>\n",
       "      <th>country</th>\n",
       "    </tr>\n",
       "  </thead>\n",
       "  <tbody>\n",
       "    <tr>\n",
       "      <th>0</th>\n",
       "      <td>Air China</td>\n",
       "      <td>10</td>\n",
       "      <td>China</td>\n",
       "    </tr>\n",
       "    <tr>\n",
       "      <th>1</th>\n",
       "      <td>Jet Airways</td>\n",
       "      <td>4</td>\n",
       "      <td>India</td>\n",
       "    </tr>\n",
       "    <tr>\n",
       "      <th>2</th>\n",
       "      <td>Aeroflot</td>\n",
       "      <td>30</td>\n",
       "      <td>Russia</td>\n",
       "    </tr>\n",
       "    <tr>\n",
       "      <th>3</th>\n",
       "      <td>easyJet</td>\n",
       "      <td>2</td>\n",
       "      <td>United Kingdom</td>\n",
       "    </tr>\n",
       "  </tbody>\n",
       "</table>\n",
       "</div>"
      ],
      "text/plain": [
       "       airline  planes         country\n",
       "0    Air China      10           China\n",
       "1  Jet Airways       4           India\n",
       "2     Aeroflot      30          Russia\n",
       "3      easyJet       2  United Kingdom"
      ]
     },
     "execution_count": 7,
     "metadata": {},
     "output_type": "execute_result"
    }
   ],
   "source": [
    "airport_data"
   ]
  },
  {
   "cell_type": "code",
   "execution_count": null,
   "id": "5a190ec4",
   "metadata": {},
   "outputs": [],
   "source": []
  },
  {
   "cell_type": "code",
   "execution_count": 8,
   "id": "f8a15d96",
   "metadata": {},
   "outputs": [
    {
     "data": {
      "text/plain": [
       "0    1\n",
       "1    2\n",
       "2    3\n",
       "3    4\n",
       "Name: airline, dtype: int64"
      ]
     },
     "execution_count": 8,
     "metadata": {},
     "output_type": "execute_result"
    }
   ],
   "source": [
    "#В функцию map() вместо словаря можно передать и Серию:\n",
    "    \n",
    "ss = pd.Series([1,2,3,4], index = ['Air China', 'Jet Airways', 'Aeroflot', 'easyJet'])\n",
    "\n",
    "airport_data['airline'].map(ss)"
   ]
  },
  {
   "cell_type": "code",
   "execution_count": null,
   "id": "84da4dd1",
   "metadata": {},
   "outputs": [],
   "source": []
  },
  {
   "cell_type": "code",
   "execution_count": 11,
   "id": "06d726c9",
   "metadata": {},
   "outputs": [
    {
     "data": {
      "text/plain": [
       "0      Air China #\n",
       "1    Jet Airways #\n",
       "2       Aeroflot #\n",
       "3        easyJet #\n",
       "Name: airline, dtype: object"
      ]
     },
     "execution_count": 11,
     "metadata": {},
     "output_type": "execute_result"
    }
   ],
   "source": [
    "# Добавлять что-то к строке датафрейма:\n",
    "\n",
    "airport_data['airline'] + ' #'"
   ]
  },
  {
   "cell_type": "code",
   "execution_count": 12,
   "id": "298f1dfa",
   "metadata": {},
   "outputs": [
    {
     "data": {
      "text/plain": [
       "0      Air China *\n",
       "1    Jet Airways *\n",
       "2       Aeroflot *\n",
       "3        easyJet *\n",
       "Name: airline, dtype: object"
      ]
     },
     "execution_count": 12,
     "metadata": {},
     "output_type": "execute_result"
    }
   ],
   "source": [
    "# также можно сделать через функцию:\n",
    "\n",
    "def funk(value):\n",
    "    return value + ' *'\n",
    "\n",
    "airport_data['airline'].map(funk)"
   ]
  },
  {
   "cell_type": "code",
   "execution_count": null,
   "id": "d6b5b14e",
   "metadata": {},
   "outputs": [],
   "source": []
  },
  {
   "cell_type": "code",
   "execution_count": null,
   "id": "ac7b03cf",
   "metadata": {},
   "outputs": [],
   "source": [
    "# Задания!"
   ]
  },
  {
   "cell_type": "code",
   "execution_count": 13,
   "id": "22bf0367",
   "metadata": {},
   "outputs": [],
   "source": [
    "# На вход функции подается датафрейм, который содержит информацию о предпочитаемом классе в самолете для некоторых клиентов:\n",
    "    \n",
    "dic = {'client':['Sergey','Viktor','Pavel','Andrey','Petr'],'class':['A','B','A','C','D']}\n",
    "df = pd.DataFrame(dic)\n",
    "\n",
    "# В функцию также передается словарь, в котором лежит расшифровка каждого класса:\n",
    "data = {'a':'business','b':'comfort','c':'econom','d':'promo'}\n",
    "\n",
    "# Примените функцию map для создания дополнительного столбца class-info, который расшифровывает букву класса:"
   ]
  },
  {
   "cell_type": "code",
   "execution_count": 14,
   "id": "87e36adc",
   "metadata": {},
   "outputs": [
    {
     "data": {
      "text/html": [
       "<div>\n",
       "<style scoped>\n",
       "    .dataframe tbody tr th:only-of-type {\n",
       "        vertical-align: middle;\n",
       "    }\n",
       "\n",
       "    .dataframe tbody tr th {\n",
       "        vertical-align: top;\n",
       "    }\n",
       "\n",
       "    .dataframe thead th {\n",
       "        text-align: right;\n",
       "    }\n",
       "</style>\n",
       "<table border=\"1\" class=\"dataframe\">\n",
       "  <thead>\n",
       "    <tr style=\"text-align: right;\">\n",
       "      <th></th>\n",
       "      <th>client</th>\n",
       "      <th>class</th>\n",
       "    </tr>\n",
       "  </thead>\n",
       "  <tbody>\n",
       "    <tr>\n",
       "      <th>0</th>\n",
       "      <td>Sergey</td>\n",
       "      <td>A</td>\n",
       "    </tr>\n",
       "    <tr>\n",
       "      <th>1</th>\n",
       "      <td>Viktor</td>\n",
       "      <td>B</td>\n",
       "    </tr>\n",
       "    <tr>\n",
       "      <th>2</th>\n",
       "      <td>Pavel</td>\n",
       "      <td>A</td>\n",
       "    </tr>\n",
       "    <tr>\n",
       "      <th>3</th>\n",
       "      <td>Andrey</td>\n",
       "      <td>C</td>\n",
       "    </tr>\n",
       "    <tr>\n",
       "      <th>4</th>\n",
       "      <td>Petr</td>\n",
       "      <td>D</td>\n",
       "    </tr>\n",
       "  </tbody>\n",
       "</table>\n",
       "</div>"
      ],
      "text/plain": [
       "   client class\n",
       "0  Sergey     A\n",
       "1  Viktor     B\n",
       "2   Pavel     A\n",
       "3  Andrey     C\n",
       "4    Petr     D"
      ]
     },
     "execution_count": 14,
     "metadata": {},
     "output_type": "execute_result"
    }
   ],
   "source": [
    "df"
   ]
  },
  {
   "cell_type": "code",
   "execution_count": 19,
   "id": "64eeb6e2",
   "metadata": {},
   "outputs": [],
   "source": [
    "df['class-info'] = df['class'].str.lower().map(data)"
   ]
  },
  {
   "cell_type": "code",
   "execution_count": 20,
   "id": "8a0b84da",
   "metadata": {},
   "outputs": [
    {
     "data": {
      "text/html": [
       "<div>\n",
       "<style scoped>\n",
       "    .dataframe tbody tr th:only-of-type {\n",
       "        vertical-align: middle;\n",
       "    }\n",
       "\n",
       "    .dataframe tbody tr th {\n",
       "        vertical-align: top;\n",
       "    }\n",
       "\n",
       "    .dataframe thead th {\n",
       "        text-align: right;\n",
       "    }\n",
       "</style>\n",
       "<table border=\"1\" class=\"dataframe\">\n",
       "  <thead>\n",
       "    <tr style=\"text-align: right;\">\n",
       "      <th></th>\n",
       "      <th>client</th>\n",
       "      <th>class</th>\n",
       "      <th>class-info</th>\n",
       "    </tr>\n",
       "  </thead>\n",
       "  <tbody>\n",
       "    <tr>\n",
       "      <th>0</th>\n",
       "      <td>Sergey</td>\n",
       "      <td>A</td>\n",
       "      <td>business</td>\n",
       "    </tr>\n",
       "    <tr>\n",
       "      <th>1</th>\n",
       "      <td>Viktor</td>\n",
       "      <td>B</td>\n",
       "      <td>comfort</td>\n",
       "    </tr>\n",
       "    <tr>\n",
       "      <th>2</th>\n",
       "      <td>Pavel</td>\n",
       "      <td>A</td>\n",
       "      <td>business</td>\n",
       "    </tr>\n",
       "    <tr>\n",
       "      <th>3</th>\n",
       "      <td>Andrey</td>\n",
       "      <td>C</td>\n",
       "      <td>econom</td>\n",
       "    </tr>\n",
       "    <tr>\n",
       "      <th>4</th>\n",
       "      <td>Petr</td>\n",
       "      <td>D</td>\n",
       "      <td>promo</td>\n",
       "    </tr>\n",
       "  </tbody>\n",
       "</table>\n",
       "</div>"
      ],
      "text/plain": [
       "   client class class-info\n",
       "0  Sergey     A   business\n",
       "1  Viktor     B    comfort\n",
       "2   Pavel     A   business\n",
       "3  Andrey     C     econom\n",
       "4    Petr     D      promo"
      ]
     },
     "execution_count": 20,
     "metadata": {},
     "output_type": "execute_result"
    }
   ],
   "source": [
    "df"
   ]
  },
  {
   "cell_type": "code",
   "execution_count": null,
   "id": "a444f3dd",
   "metadata": {},
   "outputs": [],
   "source": []
  },
  {
   "cell_type": "code",
   "execution_count": null,
   "id": "d296f6ac",
   "metadata": {},
   "outputs": [],
   "source": []
  },
  {
   "cell_type": "code",
   "execution_count": 61,
   "id": "5e82efe9",
   "metadata": {},
   "outputs": [],
   "source": [
    "# Задание.\n",
    "\n",
    "# Заполните пропуски по следующим правилам: ЗАПОЛНИТЕ ПРОПУСКИ\n",
    "\n",
    "\n",
    "# Столбец А: 0\n",
    "# Столбец B: среднее значение из столбца Е\n",
    "# Столбец С: максимальное значение из столбца H\n",
    "# Стобец F: по методу ffill\n",
    "# Столбец G: по методу bfill\n",
    "\n",
    "# Дополнительно:\n",
    "\n",
    "# Удалите столбец в котором все значения пропущены. Функцию drop не использовать!\n",
    "# Удалите строки, в которых хотя бы одно значение пропущено\n",
    "\n",
    "df = pd.DataFrame([[0, np.nan, np.nan, 3, 4, 5, 6, 7, 8, np.nan],\n",
    "\n",
    "                    [np.nan, 11, np.nan, 13, 14, 15, 16, 17, 18, np.nan],\n",
    "\n",
    "                    [np.nan, np.nan, 22, 23, 24, 25, 26, 27, 28, np.nan],\n",
    "\n",
    "                    [30, 31, 32, 33, 34, np.nan, 36, 37, 38, np.nan],\n",
    "\n",
    "                    [40, 41, np.nan, 43, 44, 45, 46, 47, 48, np.nan],\n",
    "\n",
    "                    [50, 51, 52, np.nan, 54, 55, np.nan, 57, 58, np.nan],\n",
    "\n",
    "                    [60, 61, 62, 63, 64, np.nan, 66, 67, np.nan, np.nan],\n",
    "\n",
    "                    [np.nan, 71, 72, 73, 74, 75, 76, 77, 78, np.nan],\n",
    "\n",
    "                    [80, 81, 82, 83, 84, 85, np.nan, 87, 88, np.nan],\n",
    "\n",
    "                    [90, 91, 92, 93, 94, 95, 96, 97, 98, np.nan]],\n",
    "\n",
    "                   columns=[\"A\", \"B\", \"C\", \"D\", \"E\", \"F\", \"G\", \"H\", \"J\", \"K\"])"
   ]
  },
  {
   "cell_type": "code",
   "execution_count": 63,
   "id": "1e7cbb27",
   "metadata": {},
   "outputs": [],
   "source": [
    "df['A'] = df['A'].fillna(0)"
   ]
  },
  {
   "cell_type": "code",
   "execution_count": 55,
   "id": "ee495c50",
   "metadata": {},
   "outputs": [],
   "source": [
    "df['B'] = df['B'].fillna(df['E'].mean())"
   ]
  },
  {
   "cell_type": "code",
   "execution_count": 56,
   "id": "3f325ad5",
   "metadata": {},
   "outputs": [],
   "source": [
    "df['C'] = df['B'].fillna(df['H'].max())"
   ]
  },
  {
   "cell_type": "code",
   "execution_count": 57,
   "id": "39a4b961",
   "metadata": {},
   "outputs": [],
   "source": [
    "df['F'] = df['F'].fillna(method = 'ffill')"
   ]
  },
  {
   "cell_type": "code",
   "execution_count": 58,
   "id": "6f7838df",
   "metadata": {},
   "outputs": [],
   "source": [
    "df['G'] = df['G'].fillna(method = 'bfill')"
   ]
  },
  {
   "cell_type": "code",
   "execution_count": 59,
   "id": "af66c13d",
   "metadata": {},
   "outputs": [],
   "source": [
    "df = df.dropna(how = 'all', axis = 1)"
   ]
  },
  {
   "cell_type": "code",
   "execution_count": 60,
   "id": "3de9f32d",
   "metadata": {},
   "outputs": [
    {
     "data": {
      "text/html": [
       "<div>\n",
       "<style scoped>\n",
       "    .dataframe tbody tr th:only-of-type {\n",
       "        vertical-align: middle;\n",
       "    }\n",
       "\n",
       "    .dataframe tbody tr th {\n",
       "        vertical-align: top;\n",
       "    }\n",
       "\n",
       "    .dataframe thead th {\n",
       "        text-align: right;\n",
       "    }\n",
       "</style>\n",
       "<table border=\"1\" class=\"dataframe\">\n",
       "  <thead>\n",
       "    <tr style=\"text-align: right;\">\n",
       "      <th></th>\n",
       "      <th>A</th>\n",
       "      <th>B</th>\n",
       "      <th>C</th>\n",
       "      <th>D</th>\n",
       "      <th>E</th>\n",
       "      <th>F</th>\n",
       "      <th>G</th>\n",
       "      <th>H</th>\n",
       "      <th>J</th>\n",
       "    </tr>\n",
       "  </thead>\n",
       "  <tbody>\n",
       "    <tr>\n",
       "      <th>0</th>\n",
       "      <td>0</td>\n",
       "      <td>49.0</td>\n",
       "      <td>97</td>\n",
       "      <td>3.0</td>\n",
       "      <td>4</td>\n",
       "      <td>5.0</td>\n",
       "      <td>6.0</td>\n",
       "      <td>7</td>\n",
       "      <td>8.0</td>\n",
       "    </tr>\n",
       "    <tr>\n",
       "      <th>1</th>\n",
       "      <td>0</td>\n",
       "      <td>49.0</td>\n",
       "      <td>97</td>\n",
       "      <td>13.0</td>\n",
       "      <td>14</td>\n",
       "      <td>15.0</td>\n",
       "      <td>16.0</td>\n",
       "      <td>17</td>\n",
       "      <td>18.0</td>\n",
       "    </tr>\n",
       "    <tr>\n",
       "      <th>2</th>\n",
       "      <td>0</td>\n",
       "      <td>49.0</td>\n",
       "      <td>97</td>\n",
       "      <td>23.0</td>\n",
       "      <td>24</td>\n",
       "      <td>25.0</td>\n",
       "      <td>26.0</td>\n",
       "      <td>27</td>\n",
       "      <td>28.0</td>\n",
       "    </tr>\n",
       "    <tr>\n",
       "      <th>3</th>\n",
       "      <td>0</td>\n",
       "      <td>49.0</td>\n",
       "      <td>97</td>\n",
       "      <td>33.0</td>\n",
       "      <td>34</td>\n",
       "      <td>25.0</td>\n",
       "      <td>36.0</td>\n",
       "      <td>37</td>\n",
       "      <td>38.0</td>\n",
       "    </tr>\n",
       "    <tr>\n",
       "      <th>4</th>\n",
       "      <td>0</td>\n",
       "      <td>49.0</td>\n",
       "      <td>97</td>\n",
       "      <td>43.0</td>\n",
       "      <td>44</td>\n",
       "      <td>45.0</td>\n",
       "      <td>46.0</td>\n",
       "      <td>47</td>\n",
       "      <td>48.0</td>\n",
       "    </tr>\n",
       "    <tr>\n",
       "      <th>7</th>\n",
       "      <td>0</td>\n",
       "      <td>49.0</td>\n",
       "      <td>97</td>\n",
       "      <td>73.0</td>\n",
       "      <td>74</td>\n",
       "      <td>75.0</td>\n",
       "      <td>76.0</td>\n",
       "      <td>77</td>\n",
       "      <td>78.0</td>\n",
       "    </tr>\n",
       "    <tr>\n",
       "      <th>8</th>\n",
       "      <td>0</td>\n",
       "      <td>49.0</td>\n",
       "      <td>97</td>\n",
       "      <td>83.0</td>\n",
       "      <td>84</td>\n",
       "      <td>85.0</td>\n",
       "      <td>96.0</td>\n",
       "      <td>87</td>\n",
       "      <td>88.0</td>\n",
       "    </tr>\n",
       "    <tr>\n",
       "      <th>9</th>\n",
       "      <td>0</td>\n",
       "      <td>49.0</td>\n",
       "      <td>97</td>\n",
       "      <td>93.0</td>\n",
       "      <td>94</td>\n",
       "      <td>95.0</td>\n",
       "      <td>96.0</td>\n",
       "      <td>97</td>\n",
       "      <td>98.0</td>\n",
       "    </tr>\n",
       "  </tbody>\n",
       "</table>\n",
       "</div>"
      ],
      "text/plain": [
       "   A     B   C     D   E     F     G   H     J\n",
       "0  0  49.0  97   3.0   4   5.0   6.0   7   8.0\n",
       "1  0  49.0  97  13.0  14  15.0  16.0  17  18.0\n",
       "2  0  49.0  97  23.0  24  25.0  26.0  27  28.0\n",
       "3  0  49.0  97  33.0  34  25.0  36.0  37  38.0\n",
       "4  0  49.0  97  43.0  44  45.0  46.0  47  48.0\n",
       "7  0  49.0  97  73.0  74  75.0  76.0  77  78.0\n",
       "8  0  49.0  97  83.0  84  85.0  96.0  87  88.0\n",
       "9  0  49.0  97  93.0  94  95.0  96.0  97  98.0"
      ]
     },
     "execution_count": 60,
     "metadata": {},
     "output_type": "execute_result"
    }
   ],
   "source": [
    "df.dropna()"
   ]
  },
  {
   "cell_type": "code",
   "execution_count": 64,
   "id": "96613210",
   "metadata": {},
   "outputs": [],
   "source": [
    "df['A'] = df['A'].fillna(0)\n",
    "df['B'] = df['B'].fillna(df['E'].mean())\n",
    "df['C'] = df['B'].fillna(df['H'].max())\n",
    "df['F'] = df['F'].fillna(method = 'ffill')\n",
    "df['G'] = df['G'].fillna(method = 'bfill')\n",
    "df = df.dropna(how = 'all', axis = 1)\n",
    "result = df.dropna()"
   ]
  },
  {
   "cell_type": "code",
   "execution_count": null,
   "id": "712849cb",
   "metadata": {},
   "outputs": [],
   "source": []
  },
  {
   "cell_type": "code",
   "execution_count": 3,
   "id": "30a3259a",
   "metadata": {},
   "outputs": [],
   "source": [
    "# Задание\n",
    "\n",
    "# Найдите все повторяющиеся записи в датафрейме. \n",
    "\n",
    "# Функция должна вернуть новый датафрейм в котором будут оригинал записи + его дубликаты. \n",
    "# Записи, которые не имеют дубликатов не должны попасть в новый датафрейм.\n",
    "\n",
    "dic = {'client':['Sergey','Viktor','Pavel','Andrey','Petr', 'Sergey'],'class':['A','B','A','C','D', 'A']}\n",
    "df = pd.DataFrame(dic)"
   ]
  },
  {
   "cell_type": "code",
   "execution_count": 4,
   "id": "3623528e",
   "metadata": {},
   "outputs": [
    {
     "data": {
      "text/html": [
       "<div>\n",
       "<style scoped>\n",
       "    .dataframe tbody tr th:only-of-type {\n",
       "        vertical-align: middle;\n",
       "    }\n",
       "\n",
       "    .dataframe tbody tr th {\n",
       "        vertical-align: top;\n",
       "    }\n",
       "\n",
       "    .dataframe thead th {\n",
       "        text-align: right;\n",
       "    }\n",
       "</style>\n",
       "<table border=\"1\" class=\"dataframe\">\n",
       "  <thead>\n",
       "    <tr style=\"text-align: right;\">\n",
       "      <th></th>\n",
       "      <th>client</th>\n",
       "      <th>class</th>\n",
       "    </tr>\n",
       "  </thead>\n",
       "  <tbody>\n",
       "    <tr>\n",
       "      <th>3</th>\n",
       "      <td>Andrey</td>\n",
       "      <td>C</td>\n",
       "    </tr>\n",
       "    <tr>\n",
       "      <th>2</th>\n",
       "      <td>Pavel</td>\n",
       "      <td>A</td>\n",
       "    </tr>\n",
       "    <tr>\n",
       "      <th>4</th>\n",
       "      <td>Petr</td>\n",
       "      <td>D</td>\n",
       "    </tr>\n",
       "    <tr>\n",
       "      <th>0</th>\n",
       "      <td>Sergey</td>\n",
       "      <td>A</td>\n",
       "    </tr>\n",
       "    <tr>\n",
       "      <th>5</th>\n",
       "      <td>Sergey</td>\n",
       "      <td>A</td>\n",
       "    </tr>\n",
       "    <tr>\n",
       "      <th>1</th>\n",
       "      <td>Viktor</td>\n",
       "      <td>B</td>\n",
       "    </tr>\n",
       "  </tbody>\n",
       "</table>\n",
       "</div>"
      ],
      "text/plain": [
       "   client class\n",
       "3  Andrey     C\n",
       "2   Pavel     A\n",
       "4    Petr     D\n",
       "0  Sergey     A\n",
       "5  Sergey     A\n",
       "1  Viktor     B"
      ]
     },
     "execution_count": 4,
     "metadata": {},
     "output_type": "execute_result"
    }
   ],
   "source": [
    "df.sort_values(by = 'client')"
   ]
  },
  {
   "cell_type": "code",
   "execution_count": 5,
   "id": "b3c6720d",
   "metadata": {},
   "outputs": [
    {
     "data": {
      "text/plain": [
       "0     True\n",
       "1    False\n",
       "2    False\n",
       "3    False\n",
       "4    False\n",
       "5     True\n",
       "dtype: bool"
      ]
     },
     "execution_count": 5,
     "metadata": {},
     "output_type": "execute_result"
    }
   ],
   "source": [
    "df.duplicated(keep = False)"
   ]
  },
  {
   "cell_type": "code",
   "execution_count": 6,
   "id": "ee31678a",
   "metadata": {},
   "outputs": [
    {
     "data": {
      "text/html": [
       "<div>\n",
       "<style scoped>\n",
       "    .dataframe tbody tr th:only-of-type {\n",
       "        vertical-align: middle;\n",
       "    }\n",
       "\n",
       "    .dataframe tbody tr th {\n",
       "        vertical-align: top;\n",
       "    }\n",
       "\n",
       "    .dataframe thead th {\n",
       "        text-align: right;\n",
       "    }\n",
       "</style>\n",
       "<table border=\"1\" class=\"dataframe\">\n",
       "  <thead>\n",
       "    <tr style=\"text-align: right;\">\n",
       "      <th></th>\n",
       "      <th>client</th>\n",
       "      <th>class</th>\n",
       "    </tr>\n",
       "  </thead>\n",
       "  <tbody>\n",
       "    <tr>\n",
       "      <th>0</th>\n",
       "      <td>Sergey</td>\n",
       "      <td>A</td>\n",
       "    </tr>\n",
       "    <tr>\n",
       "      <th>5</th>\n",
       "      <td>Sergey</td>\n",
       "      <td>A</td>\n",
       "    </tr>\n",
       "  </tbody>\n",
       "</table>\n",
       "</div>"
      ],
      "text/plain": [
       "   client class\n",
       "0  Sergey     A\n",
       "5  Sergey     A"
      ]
     },
     "execution_count": 6,
     "metadata": {},
     "output_type": "execute_result"
    }
   ],
   "source": [
    "df[df.duplicated(keep = False)]"
   ]
  },
  {
   "cell_type": "code",
   "execution_count": 7,
   "id": "e1828389",
   "metadata": {},
   "outputs": [
    {
     "data": {
      "text/html": [
       "<div>\n",
       "<style scoped>\n",
       "    .dataframe tbody tr th:only-of-type {\n",
       "        vertical-align: middle;\n",
       "    }\n",
       "\n",
       "    .dataframe tbody tr th {\n",
       "        vertical-align: top;\n",
       "    }\n",
       "\n",
       "    .dataframe thead th {\n",
       "        text-align: right;\n",
       "    }\n",
       "</style>\n",
       "<table border=\"1\" class=\"dataframe\">\n",
       "  <thead>\n",
       "    <tr style=\"text-align: right;\">\n",
       "      <th></th>\n",
       "      <th>client</th>\n",
       "      <th>class</th>\n",
       "    </tr>\n",
       "  </thead>\n",
       "  <tbody>\n",
       "    <tr>\n",
       "      <th>1</th>\n",
       "      <td>Viktor</td>\n",
       "      <td>B</td>\n",
       "    </tr>\n",
       "    <tr>\n",
       "      <th>2</th>\n",
       "      <td>Pavel</td>\n",
       "      <td>A</td>\n",
       "    </tr>\n",
       "    <tr>\n",
       "      <th>3</th>\n",
       "      <td>Andrey</td>\n",
       "      <td>C</td>\n",
       "    </tr>\n",
       "    <tr>\n",
       "      <th>4</th>\n",
       "      <td>Petr</td>\n",
       "      <td>D</td>\n",
       "    </tr>\n",
       "  </tbody>\n",
       "</table>\n",
       "</div>"
      ],
      "text/plain": [
       "   client class\n",
       "1  Viktor     B\n",
       "2   Pavel     A\n",
       "3  Andrey     C\n",
       "4    Petr     D"
      ]
     },
     "execution_count": 7,
     "metadata": {},
     "output_type": "execute_result"
    }
   ],
   "source": [
    "df.drop_duplicates(keep = False)"
   ]
  },
  {
   "cell_type": "code",
   "execution_count": 2,
   "id": "89219e53",
   "metadata": {},
   "outputs": [],
   "source": [
    "# Параметр keep у функции drop_duplicates очень важен и вы часто будете его задавать! \n",
    "    \n",
    "# Он определяет, какие дубликаты (если они есть) нужно сохранить. Вот значения, которые может принимать параметр keep:\n",
    "\n",
    "# - first : удалить дубликаты, кроме первого вхождения.\n",
    "\n",
    "# - last : удалить дубликаты, кроме последнего вхождения.\n",
    "\n",
    "# - False : удалить все дубликаты."
   ]
  },
  {
   "cell_type": "markdown",
   "id": "d423992d",
   "metadata": {},
   "source": [
    "# Про замену значений и дискретизацию"
   ]
  },
  {
   "cell_type": "code",
   "execution_count": 113,
   "id": "245b78e0",
   "metadata": {},
   "outputs": [],
   "source": [
    "temp = pd.Series([24, -9999, 22, -8888, 18, 26, -9999])"
   ]
  },
  {
   "cell_type": "code",
   "execution_count": 114,
   "id": "4db812c9",
   "metadata": {},
   "outputs": [
    {
     "data": {
      "text/plain": [
       "0      24\n",
       "1   -9999\n",
       "2      22\n",
       "3   -8888\n",
       "4      18\n",
       "5      26\n",
       "6   -9999\n",
       "dtype: int64"
      ]
     },
     "execution_count": 114,
     "metadata": {},
     "output_type": "execute_result"
    }
   ],
   "source": [
    "temp"
   ]
  },
  {
   "cell_type": "code",
   "execution_count": 83,
   "id": "7c5ce8e0",
   "metadata": {},
   "outputs": [
    {
     "data": {
      "text/plain": [
       "0    24.0\n",
       "1     NaN\n",
       "2    22.0\n",
       "3     NaN\n",
       "4    18.0\n",
       "5    26.0\n",
       "6     NaN\n",
       "dtype: float64"
      ]
     },
     "execution_count": 83,
     "metadata": {},
     "output_type": "execute_result"
    }
   ],
   "source": [
    "# replace всех значений в листе на nan (или одного значения - тогда уже без [])\n",
    "temp.replace([-9999, -8888], np.nan)"
   ]
  },
  {
   "cell_type": "code",
   "execution_count": 84,
   "id": "cb4f8bdd",
   "metadata": {},
   "outputs": [
    {
     "data": {
      "text/plain": [
       "0    24.0\n",
       "1     NaN\n",
       "2    22.0\n",
       "3    -1.0\n",
       "4    18.0\n",
       "5    26.0\n",
       "6     NaN\n",
       "dtype: float64"
      ]
     },
     "execution_count": 84,
     "metadata": {},
     "output_type": "execute_result"
    }
   ],
   "source": [
    "# replace каждого значения в списке [] на другое значение в другом списке []\n",
    "temp.replace([-9999, -8888], [np.nan, -1])"
   ]
  },
  {
   "cell_type": "code",
   "execution_count": 115,
   "id": "35abde62",
   "metadata": {},
   "outputs": [
    {
     "data": {
      "text/plain": [
       "0    24\n",
       "1     F\n",
       "2    22\n",
       "3     M\n",
       "4    18\n",
       "5    26\n",
       "6     F\n",
       "dtype: object"
      ]
     },
     "execution_count": 115,
     "metadata": {},
     "output_type": "execute_result"
    }
   ],
   "source": [
    "# replace можно делать через словарь:\n",
    "temp.replace({-9999: 'F',  -8888: 'M'})"
   ]
  },
  {
   "cell_type": "code",
   "execution_count": null,
   "id": "eede39af",
   "metadata": {},
   "outputs": [],
   "source": []
  },
  {
   "cell_type": "markdown",
   "id": "4213b5dc",
   "metadata": {},
   "source": [
    "### Замена и модификация лэйблов строк и столбцов"
   ]
  },
  {
   "cell_type": "code",
   "execution_count": 4,
   "id": "216353ca",
   "metadata": {},
   "outputs": [],
   "source": [
    "# Сначала зададим df с которым будем работать:\n",
    "\n",
    "df = pd.DataFrame({'airline': ['Air China', 'Jet Airways', 'Aeroflot', 'easyJet'], 'planes': [10, 4, 30, 2]})\n",
    "country = {'Air China': 'China', 'Jet Airways': 'India', 'Aeroflot': 'Russia', 'easyJet': 'United Kingdom'}"
   ]
  },
  {
   "cell_type": "code",
   "execution_count": 165,
   "id": "1b8c156d",
   "metadata": {},
   "outputs": [],
   "source": [
    "def funk(x):\n",
    "    if x == 'Aeroflot':\n",
    "        return 'RU'\n",
    "    return 'not-RU'\n"
   ]
  },
  {
   "cell_type": "code",
   "execution_count": null,
   "id": "e6227dd9",
   "metadata": {},
   "outputs": [],
   "source": [
    "# применение map c функцией! \n",
    "\n",
    "df['is_russia'] = df['airline'].map(funk)"
   ]
  },
  {
   "cell_type": "code",
   "execution_count": 166,
   "id": "7097e095",
   "metadata": {},
   "outputs": [],
   "source": [
    "df.index = df['airline']"
   ]
  },
  {
   "cell_type": "code",
   "execution_count": 167,
   "id": "affa4df2",
   "metadata": {},
   "outputs": [
    {
     "data": {
      "text/html": [
       "<div>\n",
       "<style scoped>\n",
       "    .dataframe tbody tr th:only-of-type {\n",
       "        vertical-align: middle;\n",
       "    }\n",
       "\n",
       "    .dataframe tbody tr th {\n",
       "        vertical-align: top;\n",
       "    }\n",
       "\n",
       "    .dataframe thead th {\n",
       "        text-align: right;\n",
       "    }\n",
       "</style>\n",
       "<table border=\"1\" class=\"dataframe\">\n",
       "  <thead>\n",
       "    <tr style=\"text-align: right;\">\n",
       "      <th></th>\n",
       "      <th>airline</th>\n",
       "      <th>planes</th>\n",
       "      <th>is_russia</th>\n",
       "    </tr>\n",
       "    <tr>\n",
       "      <th>airline</th>\n",
       "      <th></th>\n",
       "      <th></th>\n",
       "      <th></th>\n",
       "    </tr>\n",
       "  </thead>\n",
       "  <tbody>\n",
       "    <tr>\n",
       "      <th>Air China</th>\n",
       "      <td>Air China</td>\n",
       "      <td>10</td>\n",
       "      <td>not-RU</td>\n",
       "    </tr>\n",
       "    <tr>\n",
       "      <th>Jet Airways</th>\n",
       "      <td>Jet Airways</td>\n",
       "      <td>4</td>\n",
       "      <td>not-RU</td>\n",
       "    </tr>\n",
       "    <tr>\n",
       "      <th>Aeroflot</th>\n",
       "      <td>Aeroflot</td>\n",
       "      <td>30</td>\n",
       "      <td>RU</td>\n",
       "    </tr>\n",
       "    <tr>\n",
       "      <th>easyJet</th>\n",
       "      <td>easyJet</td>\n",
       "      <td>2</td>\n",
       "      <td>not-RU</td>\n",
       "    </tr>\n",
       "  </tbody>\n",
       "</table>\n",
       "</div>"
      ],
      "text/plain": [
       "                 airline  planes is_russia\n",
       "airline                                   \n",
       "Air China      Air China      10    not-RU\n",
       "Jet Airways  Jet Airways       4    not-RU\n",
       "Aeroflot        Aeroflot      30        RU\n",
       "easyJet          easyJet       2    not-RU"
      ]
     },
     "execution_count": 167,
     "metadata": {},
     "output_type": "execute_result"
    }
   ],
   "source": [
    "df"
   ]
  },
  {
   "cell_type": "code",
   "execution_count": 112,
   "id": "f9b985da",
   "metadata": {},
   "outputs": [
    {
     "data": {
      "text/plain": [
       "Index(['Air China', 'Jet Airways', 'Aeroflot', 'easyJet'], dtype='object', name='airline')"
      ]
     },
     "execution_count": 112,
     "metadata": {},
     "output_type": "execute_result"
    }
   ],
   "source": [
    "# 1. Замена/изменение индекса\n",
    "\n",
    "# смотрим на индексы:\n",
    "df.index"
   ]
  },
  {
   "cell_type": "code",
   "execution_count": 168,
   "id": "ac6b0098",
   "metadata": {},
   "outputs": [],
   "source": [
    "# пишем функцию замены индекса по правилу - первые пять символов должны быть upper:\n",
    "\n",
    "def rename_index(x):\n",
    "    return x[:5].upper()"
   ]
  },
  {
   "cell_type": "code",
   "execution_count": 169,
   "id": "86d3cf1c",
   "metadata": {},
   "outputs": [],
   "source": [
    "df.index = df.index.map(rename_index)"
   ]
  },
  {
   "cell_type": "code",
   "execution_count": 170,
   "id": "f03030fb",
   "metadata": {},
   "outputs": [
    {
     "data": {
      "text/html": [
       "<div>\n",
       "<style scoped>\n",
       "    .dataframe tbody tr th:only-of-type {\n",
       "        vertical-align: middle;\n",
       "    }\n",
       "\n",
       "    .dataframe tbody tr th {\n",
       "        vertical-align: top;\n",
       "    }\n",
       "\n",
       "    .dataframe thead th {\n",
       "        text-align: right;\n",
       "    }\n",
       "</style>\n",
       "<table border=\"1\" class=\"dataframe\">\n",
       "  <thead>\n",
       "    <tr style=\"text-align: right;\">\n",
       "      <th></th>\n",
       "      <th>airline</th>\n",
       "      <th>planes</th>\n",
       "      <th>is_russia</th>\n",
       "    </tr>\n",
       "    <tr>\n",
       "      <th>airline</th>\n",
       "      <th></th>\n",
       "      <th></th>\n",
       "      <th></th>\n",
       "    </tr>\n",
       "  </thead>\n",
       "  <tbody>\n",
       "    <tr>\n",
       "      <th>AIR C</th>\n",
       "      <td>Air China</td>\n",
       "      <td>10</td>\n",
       "      <td>not-RU</td>\n",
       "    </tr>\n",
       "    <tr>\n",
       "      <th>JET A</th>\n",
       "      <td>Jet Airways</td>\n",
       "      <td>4</td>\n",
       "      <td>not-RU</td>\n",
       "    </tr>\n",
       "    <tr>\n",
       "      <th>AEROF</th>\n",
       "      <td>Aeroflot</td>\n",
       "      <td>30</td>\n",
       "      <td>RU</td>\n",
       "    </tr>\n",
       "    <tr>\n",
       "      <th>EASYJ</th>\n",
       "      <td>easyJet</td>\n",
       "      <td>2</td>\n",
       "      <td>not-RU</td>\n",
       "    </tr>\n",
       "  </tbody>\n",
       "</table>\n",
       "</div>"
      ],
      "text/plain": [
       "             airline  planes is_russia\n",
       "airline                               \n",
       "AIR C      Air China      10    not-RU\n",
       "JET A    Jet Airways       4    not-RU\n",
       "AEROF       Aeroflot      30        RU\n",
       "EASYJ        easyJet       2    not-RU"
      ]
     },
     "execution_count": 170,
     "metadata": {},
     "output_type": "execute_result"
    }
   ],
   "source": [
    "df"
   ]
  },
  {
   "cell_type": "code",
   "execution_count": null,
   "id": "c81e5bec",
   "metadata": {},
   "outputs": [],
   "source": []
  },
  {
   "cell_type": "code",
   "execution_count": null,
   "id": "34dbefb1",
   "metadata": {},
   "outputs": [],
   "source": [
    "# С применением lambda функции"
   ]
  },
  {
   "cell_type": "code",
   "execution_count": 159,
   "id": "1b772c83",
   "metadata": {},
   "outputs": [],
   "source": [
    "# 1 - зададим обычную функцию:\n",
    "def rename_columns(x):\n",
    "    return x.upper()\n",
    "df.columns = df.columns.map(rename_columns)"
   ]
  },
  {
   "cell_type": "code",
   "execution_count": 175,
   "id": "acbec459",
   "metadata": {},
   "outputs": [],
   "source": [
    "# применение map с lambda функцией:\n",
    "\n",
    "# вместо этй многострочной функции - зададим lambda функцию:\n",
    "\n",
    "lambda_rename_columns = lambda x: x.upper()\n",
    "df.columns = df.columns.map(lambda_rename_columns)\n",
    "\n",
    "\n",
    "# или сразу\n",
    "df.columns = df.columns.map(lambda x: x.upper())"
   ]
  },
  {
   "cell_type": "code",
   "execution_count": 176,
   "id": "ff2bbc12",
   "metadata": {},
   "outputs": [
    {
     "data": {
      "text/html": [
       "<div>\n",
       "<style scoped>\n",
       "    .dataframe tbody tr th:only-of-type {\n",
       "        vertical-align: middle;\n",
       "    }\n",
       "\n",
       "    .dataframe tbody tr th {\n",
       "        vertical-align: top;\n",
       "    }\n",
       "\n",
       "    .dataframe thead th {\n",
       "        text-align: right;\n",
       "    }\n",
       "</style>\n",
       "<table border=\"1\" class=\"dataframe\">\n",
       "  <thead>\n",
       "    <tr style=\"text-align: right;\">\n",
       "      <th></th>\n",
       "      <th>AIRLINE</th>\n",
       "      <th>PLANES</th>\n",
       "    </tr>\n",
       "  </thead>\n",
       "  <tbody>\n",
       "    <tr>\n",
       "      <th>0</th>\n",
       "      <td>Air China</td>\n",
       "      <td>10</td>\n",
       "    </tr>\n",
       "    <tr>\n",
       "      <th>1</th>\n",
       "      <td>Jet Airways</td>\n",
       "      <td>4</td>\n",
       "    </tr>\n",
       "    <tr>\n",
       "      <th>2</th>\n",
       "      <td>Aeroflot</td>\n",
       "      <td>30</td>\n",
       "    </tr>\n",
       "    <tr>\n",
       "      <th>3</th>\n",
       "      <td>easyJet</td>\n",
       "      <td>2</td>\n",
       "    </tr>\n",
       "  </tbody>\n",
       "</table>\n",
       "</div>"
      ],
      "text/plain": [
       "       AIRLINE  PLANES\n",
       "0    Air China      10\n",
       "1  Jet Airways       4\n",
       "2     Aeroflot      30\n",
       "3      easyJet       2"
      ]
     },
     "execution_count": 176,
     "metadata": {},
     "output_type": "execute_result"
    }
   ],
   "source": [
    "df"
   ]
  },
  {
   "cell_type": "code",
   "execution_count": null,
   "id": "91bfb4a5",
   "metadata": {},
   "outputs": [],
   "source": []
  },
  {
   "cell_type": "markdown",
   "id": "539f0f17",
   "metadata": {},
   "source": [
    "### rename columns & index"
   ]
  },
  {
   "cell_type": "code",
   "execution_count": 5,
   "id": "bc1a09de",
   "metadata": {},
   "outputs": [
    {
     "data": {
      "text/html": [
       "<div>\n",
       "<style scoped>\n",
       "    .dataframe tbody tr th:only-of-type {\n",
       "        vertical-align: middle;\n",
       "    }\n",
       "\n",
       "    .dataframe tbody tr th {\n",
       "        vertical-align: top;\n",
       "    }\n",
       "\n",
       "    .dataframe thead th {\n",
       "        text-align: right;\n",
       "    }\n",
       "</style>\n",
       "<table border=\"1\" class=\"dataframe\">\n",
       "  <thead>\n",
       "    <tr style=\"text-align: right;\">\n",
       "      <th></th>\n",
       "      <th>airline</th>\n",
       "      <th>planes</th>\n",
       "    </tr>\n",
       "  </thead>\n",
       "  <tbody>\n",
       "    <tr>\n",
       "      <th>0</th>\n",
       "      <td>Air China</td>\n",
       "      <td>10</td>\n",
       "    </tr>\n",
       "    <tr>\n",
       "      <th>1</th>\n",
       "      <td>Jet Airways</td>\n",
       "      <td>4</td>\n",
       "    </tr>\n",
       "    <tr>\n",
       "      <th>2</th>\n",
       "      <td>Aeroflot</td>\n",
       "      <td>30</td>\n",
       "    </tr>\n",
       "    <tr>\n",
       "      <th>3</th>\n",
       "      <td>easyJet</td>\n",
       "      <td>2</td>\n",
       "    </tr>\n",
       "  </tbody>\n",
       "</table>\n",
       "</div>"
      ],
      "text/plain": [
       "       airline  planes\n",
       "0    Air China      10\n",
       "1  Jet Airways       4\n",
       "2     Aeroflot      30\n",
       "3      easyJet       2"
      ]
     },
     "execution_count": 5,
     "metadata": {},
     "output_type": "execute_result"
    }
   ],
   "source": [
    "df"
   ]
  },
  {
   "cell_type": "code",
   "execution_count": 10,
   "id": "755ba1a0",
   "metadata": {},
   "outputs": [
    {
     "data": {
      "text/html": [
       "<div>\n",
       "<style scoped>\n",
       "    .dataframe tbody tr th:only-of-type {\n",
       "        vertical-align: middle;\n",
       "    }\n",
       "\n",
       "    .dataframe tbody tr th {\n",
       "        vertical-align: top;\n",
       "    }\n",
       "\n",
       "    .dataframe thead th {\n",
       "        text-align: right;\n",
       "    }\n",
       "</style>\n",
       "<table border=\"1\" class=\"dataframe\">\n",
       "  <thead>\n",
       "    <tr style=\"text-align: right;\">\n",
       "      <th></th>\n",
       "      <th>qwerty</th>\n",
       "      <th>poiuyt</th>\n",
       "    </tr>\n",
       "  </thead>\n",
       "  <tbody>\n",
       "    <tr>\n",
       "      <th>0</th>\n",
       "      <td>Air China</td>\n",
       "      <td>10</td>\n",
       "    </tr>\n",
       "    <tr>\n",
       "      <th>1</th>\n",
       "      <td>Jet Airways</td>\n",
       "      <td>4</td>\n",
       "    </tr>\n",
       "    <tr>\n",
       "      <th>2</th>\n",
       "      <td>Aeroflot</td>\n",
       "      <td>30</td>\n",
       "    </tr>\n",
       "    <tr>\n",
       "      <th>3</th>\n",
       "      <td>easyJet</td>\n",
       "      <td>2</td>\n",
       "    </tr>\n",
       "  </tbody>\n",
       "</table>\n",
       "</div>"
      ],
      "text/plain": [
       "        qwerty  poiuyt\n",
       "0    Air China      10\n",
       "1  Jet Airways       4\n",
       "2     Aeroflot      30\n",
       "3      easyJet       2"
      ]
     },
     "execution_count": 10,
     "metadata": {},
     "output_type": "execute_result"
    }
   ],
   "source": [
    "# rename colomns\n",
    "df.rename(columns = {'airline': 'qwerty', 'planes': 'poiuyt'})"
   ]
  },
  {
   "cell_type": "code",
   "execution_count": null,
   "id": "19473ace",
   "metadata": {},
   "outputs": [],
   "source": [
    "# rename index"
   ]
  },
  {
   "cell_type": "code",
   "execution_count": 11,
   "id": "f7d2dfb8",
   "metadata": {},
   "outputs": [
    {
     "data": {
      "text/html": [
       "<div>\n",
       "<style scoped>\n",
       "    .dataframe tbody tr th:only-of-type {\n",
       "        vertical-align: middle;\n",
       "    }\n",
       "\n",
       "    .dataframe tbody tr th {\n",
       "        vertical-align: top;\n",
       "    }\n",
       "\n",
       "    .dataframe thead th {\n",
       "        text-align: right;\n",
       "    }\n",
       "</style>\n",
       "<table border=\"1\" class=\"dataframe\">\n",
       "  <thead>\n",
       "    <tr style=\"text-align: right;\">\n",
       "      <th></th>\n",
       "      <th>airline</th>\n",
       "      <th>planes</th>\n",
       "    </tr>\n",
       "  </thead>\n",
       "  <tbody>\n",
       "    <tr>\n",
       "      <th>a</th>\n",
       "      <td>Air China</td>\n",
       "      <td>10</td>\n",
       "    </tr>\n",
       "    <tr>\n",
       "      <th>b</th>\n",
       "      <td>Jet Airways</td>\n",
       "      <td>4</td>\n",
       "    </tr>\n",
       "    <tr>\n",
       "      <th>c</th>\n",
       "      <td>Aeroflot</td>\n",
       "      <td>30</td>\n",
       "    </tr>\n",
       "    <tr>\n",
       "      <th>3</th>\n",
       "      <td>easyJet</td>\n",
       "      <td>2</td>\n",
       "    </tr>\n",
       "  </tbody>\n",
       "</table>\n",
       "</div>"
      ],
      "text/plain": [
       "       airline  planes\n",
       "a    Air China      10\n",
       "b  Jet Airways       4\n",
       "c     Aeroflot      30\n",
       "3      easyJet       2"
      ]
     },
     "execution_count": 11,
     "metadata": {},
     "output_type": "execute_result"
    }
   ],
   "source": [
    "df.rename(index = {0:'a', 1:'b', 2: 'c'})"
   ]
  },
  {
   "cell_type": "code",
   "execution_count": null,
   "id": "55687a11",
   "metadata": {},
   "outputs": [],
   "source": [
    "# rename colomns & index"
   ]
  },
  {
   "cell_type": "code",
   "execution_count": 13,
   "id": "ccc5f98a",
   "metadata": {},
   "outputs": [
    {
     "data": {
      "text/html": [
       "<div>\n",
       "<style scoped>\n",
       "    .dataframe tbody tr th:only-of-type {\n",
       "        vertical-align: middle;\n",
       "    }\n",
       "\n",
       "    .dataframe tbody tr th {\n",
       "        vertical-align: top;\n",
       "    }\n",
       "\n",
       "    .dataframe thead th {\n",
       "        text-align: right;\n",
       "    }\n",
       "</style>\n",
       "<table border=\"1\" class=\"dataframe\">\n",
       "  <thead>\n",
       "    <tr style=\"text-align: right;\">\n",
       "      <th></th>\n",
       "      <th>qwerty</th>\n",
       "      <th>poiuyt</th>\n",
       "    </tr>\n",
       "  </thead>\n",
       "  <tbody>\n",
       "    <tr>\n",
       "      <th>a</th>\n",
       "      <td>Air China</td>\n",
       "      <td>10</td>\n",
       "    </tr>\n",
       "    <tr>\n",
       "      <th>b</th>\n",
       "      <td>Jet Airways</td>\n",
       "      <td>4</td>\n",
       "    </tr>\n",
       "    <tr>\n",
       "      <th>c</th>\n",
       "      <td>Aeroflot</td>\n",
       "      <td>30</td>\n",
       "    </tr>\n",
       "    <tr>\n",
       "      <th>3</th>\n",
       "      <td>easyJet</td>\n",
       "      <td>2</td>\n",
       "    </tr>\n",
       "  </tbody>\n",
       "</table>\n",
       "</div>"
      ],
      "text/plain": [
       "        qwerty  poiuyt\n",
       "a    Air China      10\n",
       "b  Jet Airways       4\n",
       "c     Aeroflot      30\n",
       "3      easyJet       2"
      ]
     },
     "execution_count": 13,
     "metadata": {},
     "output_type": "execute_result"
    }
   ],
   "source": [
    "df.rename(columns = {'airline': 'qwerty', 'planes': 'poiuyt'}, index = {0:'a', 1:'b', 2: 'c'})"
   ]
  },
  {
   "cell_type": "code",
   "execution_count": null,
   "id": "68ba66c2",
   "metadata": {},
   "outputs": [],
   "source": []
  },
  {
   "cell_type": "markdown",
   "id": "385eb8e8",
   "metadata": {},
   "source": [
    "# Группировка"
   ]
  },
  {
   "cell_type": "code",
   "execution_count": 15,
   "id": "3d7041f3",
   "metadata": {},
   "outputs": [],
   "source": [
    "ages = [20, 22, 25, 27, 21, 23, 37, 31, 61, 45, 41, 32]"
   ]
  },
  {
   "cell_type": "code",
   "execution_count": null,
   "id": "7536c958",
   "metadata": {},
   "outputs": [],
   "source": [
    "# определяем группы:\n",
    "\n",
    "18 - 25\n",
    "26 - 35\n",
    "36 - 60\n",
    "61 - 100"
   ]
  },
  {
   "cell_type": "code",
   "execution_count": 17,
   "id": "7653a3ff",
   "metadata": {},
   "outputs": [],
   "source": [
    "# задаем соответствующие интервалы bins\n",
    "\n",
    "bins = [18, 25, 35, 60, 100]"
   ]
  },
  {
   "cell_type": "code",
   "execution_count": 18,
   "id": "45581b58",
   "metadata": {},
   "outputs": [
    {
     "data": {
      "text/plain": [
       "[(18, 25], (18, 25], (18, 25], (25, 35], (18, 25], ..., (25, 35], (60, 100], (35, 60], (35, 60], (25, 35]]\n",
       "Length: 12\n",
       "Categories (4, interval[int64, right]): [(18, 25] < (25, 35] < (35, 60] < (60, 100]]"
      ]
     },
     "execution_count": 18,
     "metadata": {},
     "output_type": "execute_result"
    }
   ],
   "source": [
    "# функция pd.cut разделяет всю коллекцию на равные интервалы и смотрит сколько в каждый bin попало значений\n",
    "# (в отличае от функции pd.qcut - которая делит все значения на равное количество и уже потом строит интервалы для них)\n",
    "\n",
    "pd.cut(ages, bins)"
   ]
  },
  {
   "cell_type": "code",
   "execution_count": 21,
   "id": "8da26f9a",
   "metadata": {},
   "outputs": [
    {
     "data": {
      "text/plain": [
       "[[18, 25), [18, 25), [25, 35), [25, 35), [18, 25), ..., [25, 35), [60, 100), [35, 60), [35, 60), [25, 35)]\n",
       "Length: 12\n",
       "Categories (4, interval[int64, left]): [[18, 25) < [25, 35) < [35, 60) < [60, 100)]"
      ]
     },
     "execution_count": 21,
     "metadata": {},
     "output_type": "execute_result"
    }
   ],
   "source": [
    "# регулирует отркытые и заркытые интервалы справа/слева\n",
    "\n",
    "pd.cut(ages, bins, right = False)"
   ]
  },
  {
   "cell_type": "code",
   "execution_count": 22,
   "id": "30b64791",
   "metadata": {},
   "outputs": [],
   "source": [
    "result = pd.cut(ages, bins)"
   ]
  },
  {
   "cell_type": "code",
   "execution_count": 23,
   "id": "377d9f41",
   "metadata": {},
   "outputs": [
    {
     "data": {
      "text/plain": [
       "IntervalIndex([(18, 25], (25, 35], (35, 60], (60, 100]], dtype='interval[int64, right]')"
      ]
     },
     "execution_count": 23,
     "metadata": {},
     "output_type": "execute_result"
    }
   ],
   "source": [
    "result.categories"
   ]
  },
  {
   "cell_type": "code",
   "execution_count": 24,
   "id": "9b8a125e",
   "metadata": {},
   "outputs": [
    {
     "data": {
      "text/plain": [
       "Interval(18, 25, closed='right')"
      ]
     },
     "execution_count": 24,
     "metadata": {},
     "output_type": "execute_result"
    }
   ],
   "source": [
    "result.categories[0]"
   ]
  },
  {
   "cell_type": "code",
   "execution_count": 25,
   "id": "5da36b88",
   "metadata": {},
   "outputs": [
    {
     "data": {
      "text/plain": [
       "Interval(25, 35, closed='right')"
      ]
     },
     "execution_count": 25,
     "metadata": {},
     "output_type": "execute_result"
    }
   ],
   "source": [
    "result.categories[1]"
   ]
  },
  {
   "cell_type": "code",
   "execution_count": 26,
   "id": "ce59bc8e",
   "metadata": {},
   "outputs": [
    {
     "data": {
      "text/plain": [
       "array([0, 0, 0, 1, 0, 0, 2, 1, 3, 2, 2, 1], dtype=int8)"
      ]
     },
     "execution_count": 26,
     "metadata": {},
     "output_type": "execute_result"
    }
   ],
   "source": [
    "# здесь показывается к какому индексу категории относится то или иное значение в ages\n",
    "\n",
    "result.codes"
   ]
  },
  {
   "cell_type": "code",
   "execution_count": null,
   "id": "33de8a32",
   "metadata": {},
   "outputs": [],
   "source": []
  },
  {
   "cell_type": "code",
   "execution_count": 28,
   "id": "737f9768",
   "metadata": {},
   "outputs": [
    {
     "data": {
      "text/plain": [
       "(18, 25]     5\n",
       "(25, 35]     3\n",
       "(35, 60]     3\n",
       "(60, 100]    1\n",
       "dtype: int64"
      ]
     },
     "execution_count": 28,
     "metadata": {},
     "output_type": "execute_result"
    }
   ],
   "source": [
    "## Чтобы посчитать сколько в каждом интервале значений:\n",
    "\n",
    "pd.value_counts(result)"
   ]
  },
  {
   "cell_type": "code",
   "execution_count": null,
   "id": "d57e7126",
   "metadata": {},
   "outputs": [],
   "source": []
  },
  {
   "cell_type": "code",
   "execution_count": 29,
   "id": "7712cd7f",
   "metadata": {},
   "outputs": [
    {
     "data": {
      "text/plain": [
       "[20, 22, 25, 27, 21, 23, 37, 31, 61, 45, 41, 32]"
      ]
     },
     "execution_count": 29,
     "metadata": {},
     "output_type": "execute_result"
    }
   ],
   "source": [
    "# задаём лейблы:\n",
    "\n",
    "ages"
   ]
  },
  {
   "cell_type": "code",
   "execution_count": 31,
   "id": "bae1b2db",
   "metadata": {},
   "outputs": [
    {
     "data": {
      "text/plain": [
       "[18, 25, 35, 60, 100]"
      ]
     },
     "execution_count": 31,
     "metadata": {},
     "output_type": "execute_result"
    }
   ],
   "source": [
    "bins"
   ]
  },
  {
   "cell_type": "code",
   "execution_count": 34,
   "id": "bc77e377",
   "metadata": {},
   "outputs": [],
   "source": [
    "result = pd.cut(ages, bins, labels = [\"Young\", \"Middle\", \"Adult\", \"Senior\"])"
   ]
  },
  {
   "cell_type": "code",
   "execution_count": 35,
   "id": "2cdd9949",
   "metadata": {},
   "outputs": [
    {
     "data": {
      "text/plain": [
       "['Young', 'Young', 'Young', 'Middle', 'Young', ..., 'Middle', 'Senior', 'Adult', 'Adult', 'Middle']\n",
       "Length: 12\n",
       "Categories (4, object): ['Young' < 'Middle' < 'Adult' < 'Senior']"
      ]
     },
     "execution_count": 35,
     "metadata": {},
     "output_type": "execute_result"
    }
   ],
   "source": [
    "result"
   ]
  },
  {
   "cell_type": "code",
   "execution_count": 40,
   "id": "666fac2f",
   "metadata": {},
   "outputs": [
    {
     "data": {
      "text/plain": [
       "array([0, 0, 0, 1, 0, 0, 2, 1, 3, 2, 2, 1], dtype=int8)"
      ]
     },
     "execution_count": 40,
     "metadata": {},
     "output_type": "execute_result"
    }
   ],
   "source": [
    "result.codes"
   ]
  },
  {
   "cell_type": "code",
   "execution_count": 41,
   "id": "041694da",
   "metadata": {},
   "outputs": [
    {
     "data": {
      "text/plain": [
       "Young     5\n",
       "Middle    3\n",
       "Adult     3\n",
       "Senior    1\n",
       "dtype: int64"
      ]
     },
     "execution_count": 41,
     "metadata": {},
     "output_type": "execute_result"
    }
   ],
   "source": [
    "pd.value_counts(result)"
   ]
  },
  {
   "cell_type": "code",
   "execution_count": null,
   "id": "aa3a5042",
   "metadata": {},
   "outputs": [],
   "source": []
  },
  {
   "cell_type": "code",
   "execution_count": 42,
   "id": "dfa0607e",
   "metadata": {},
   "outputs": [],
   "source": [
    "car_gas = [200, 220, 205, 207, 201, 230, 307, 310, 601, 405, 401, 302]"
   ]
  },
  {
   "cell_type": "code",
   "execution_count": 47,
   "id": "1c5f9643",
   "metadata": {},
   "outputs": [],
   "source": [
    "rez = pd.cut(car_gas, 10)"
   ]
  },
  {
   "cell_type": "code",
   "execution_count": 54,
   "id": "7733ffba",
   "metadata": {},
   "outputs": [
    {
     "data": {
      "text/plain": [
       "<Axes: >"
      ]
     },
     "execution_count": 54,
     "metadata": {},
     "output_type": "execute_result"
    },
    {
     "data": {
      "image/png": "[encoded data removed]",
      "text/plain": [
       "<Figure size 640x480 with 1 Axes>"
      ]
     },
     "metadata": {},
     "output_type": "display_data"
    }
   ],
   "source": [
    "rez.value_counts().plot(kind = 'bar')"
   ]
  },
  {
   "cell_type": "code",
   "execution_count": null,
   "id": "85b334df",
   "metadata": {},
   "outputs": [],
   "source": []
  },
  {
   "cell_type": "code",
   "execution_count": 55,
   "id": "8edbba40",
   "metadata": {},
   "outputs": [],
   "source": [
    "# Задача\n",
    "\n",
    "s = pd.Series([8, 9, 2, 0, 3 ,8, 3, 9, 6, 5])"
   ]
  },
  {
   "cell_type": "code",
   "execution_count": 56,
   "id": "4697939d",
   "metadata": {},
   "outputs": [
    {
     "data": {
      "text/plain": [
       "0    8\n",
       "1    9\n",
       "2    2\n",
       "3    0\n",
       "4    3\n",
       "5    8\n",
       "6    3\n",
       "7    9\n",
       "8    6\n",
       "9    5\n",
       "dtype: int64"
      ]
     },
     "execution_count": 56,
     "metadata": {},
     "output_type": "execute_result"
    }
   ],
   "source": [
    "s"
   ]
  },
  {
   "cell_type": "code",
   "execution_count": 75,
   "id": "1d5583f4",
   "metadata": {},
   "outputs": [],
   "source": [
    "# разделяем на интервалы. \n",
    "# первый интервал задается -1 - это значит первый интервал от 0 до 4:\n",
    "\n",
    "bins = [-1, 4, 7, 10]"
   ]
  },
  {
   "cell_type": "code",
   "execution_count": 76,
   "id": "33c47e7c",
   "metadata": {},
   "outputs": [],
   "source": [
    "# перед тем, как задавать labels необходимо проверить result.categories чтобы посмотреть значения разбивки интервалов\n",
    "result = pd.cut(s.values, bins)"
   ]
  },
  {
   "cell_type": "code",
   "execution_count": 77,
   "id": "c28b754d",
   "metadata": {},
   "outputs": [
    {
     "data": {
      "text/plain": [
       "IntervalIndex([(-1, 4], (4, 7], (7, 10]], dtype='interval[int64, right]')"
      ]
     },
     "execution_count": 77,
     "metadata": {},
     "output_type": "execute_result"
    }
   ],
   "source": [
    "result.categories"
   ]
  },
  {
   "cell_type": "code",
   "execution_count": 82,
   "id": "f38dd846",
   "metadata": {},
   "outputs": [],
   "source": [
    "result = pd.cut(s.values, bins, labels = ['Плохо', 'Так себе', 'Отлично'])"
   ]
  },
  {
   "cell_type": "code",
   "execution_count": 83,
   "id": "3b5eec87",
   "metadata": {},
   "outputs": [
    {
     "data": {
      "text/plain": [
       "Index(['Плохо', 'Так себе', 'Отлично'], dtype='object')"
      ]
     },
     "execution_count": 83,
     "metadata": {},
     "output_type": "execute_result"
    }
   ],
   "source": [
    "result.categories"
   ]
  },
  {
   "cell_type": "code",
   "execution_count": 80,
   "id": "c15416b5",
   "metadata": {},
   "outputs": [
    {
     "data": {
      "text/plain": [
       "['Отлично', 'Отлично', 'Плохо', 'Плохо', 'Плохо', 'Отлично', 'Плохо', 'Отлично', 'Так себе', 'Так себе']\n",
       "Categories (3, object): ['Плохо' < 'Так себе' < 'Отлично']"
      ]
     },
     "execution_count": 80,
     "metadata": {},
     "output_type": "execute_result"
    }
   ],
   "source": [
    "result"
   ]
  },
  {
   "cell_type": "code",
   "execution_count": 81,
   "id": "ae77c39d",
   "metadata": {},
   "outputs": [
    {
     "data": {
      "text/plain": [
       "Плохо       4\n",
       "Так себе    2\n",
       "Отлично     4\n",
       "dtype: int64"
      ]
     },
     "execution_count": 81,
     "metadata": {},
     "output_type": "execute_result"
    }
   ],
   "source": [
    "result.value_counts()"
   ]
  },
  {
   "cell_type": "code",
   "execution_count": null,
   "id": "77fe1b1e",
   "metadata": {},
   "outputs": [],
   "source": []
  },
  {
   "cell_type": "code",
   "execution_count": 9,
   "id": "ed5659e2",
   "metadata": {},
   "outputs": [],
   "source": [
    "# # Задача\n",
    "\n",
    "# Исправить функцию:    \n",
    "   \n",
    "# import pandas as pd\n",
    "\n",
    "# \"\"\"\n",
    "# На вход функции get_sklad_number подается имя склада\n",
    "# Функция разбивает имя склада на слово Sklad и его номер\n",
    "# Номер склада преобразуется из str в int\n",
    "# Функция возвращает номер склада\n",
    "# \"\"\"\n",
    "# def get_sklad_number():\n",
    "#     sklad_number = sklad_name.split(' ')[1]\n",
    "#     number_as_int = int(sklad_number)\n",
    "#     return number_as_int\n",
    "\n",
    "# def solution(s1):\n",
    "#     result = s1.map(get_sklad_number())\n",
    "#     return result    "
   ]
  },
  {
   "cell_type": "code",
   "execution_count": 32,
   "id": "b8287353",
   "metadata": {},
   "outputs": [],
   "source": [
    "def get_sklad_number(sklad_name):\n",
    "    sklad_number = sklad_name.split(' ')[1]\n",
    "    number_as_int = int(sklad_number)\n",
    "    return number_as_int\n",
    "\n",
    "def solution(s1):\n",
    "    result = s1.map(get_sklad_number)\n",
    "    print (result)    "
   ]
  },
  {
   "cell_type": "code",
   "execution_count": 33,
   "id": "8356e39e",
   "metadata": {},
   "outputs": [
    {
     "name": "stdout",
     "output_type": "stream",
     "text": [
      "0    1\n",
      "1    2\n",
      "2    3\n",
      "dtype: int64\n"
     ]
    }
   ],
   "source": [
    "s1 = pd.Series(['Sklad 1', 'Sklad 2', 'Sklad 3'])\n",
    "solution(s1)"
   ]
  },
  {
   "cell_type": "code",
   "execution_count": null,
   "id": "3add283b",
   "metadata": {},
   "outputs": [],
   "source": []
  },
  {
   "cell_type": "code",
   "execution_count": 208,
   "id": "26b29595",
   "metadata": {
    "scrolled": false
   },
   "outputs": [
    {
     "data": {
      "text/html": [
       "<div>\n",
       "<style scoped>\n",
       "    .dataframe tbody tr th:only-of-type {\n",
       "        vertical-align: middle;\n",
       "    }\n",
       "\n",
       "    .dataframe tbody tr th {\n",
       "        vertical-align: top;\n",
       "    }\n",
       "\n",
       "    .dataframe thead th {\n",
       "        text-align: right;\n",
       "    }\n",
       "</style>\n",
       "<table border=\"1\" class=\"dataframe\">\n",
       "  <thead>\n",
       "    <tr style=\"text-align: right;\">\n",
       "      <th></th>\n",
       "      <th>Веб-сайт</th>\n",
       "      <th>Просмотры</th>\n",
       "    </tr>\n",
       "  </thead>\n",
       "  <tbody>\n",
       "    <tr>\n",
       "      <th>0</th>\n",
       "      <td>google.cm</td>\n",
       "      <td>1</td>\n",
       "    </tr>\n",
       "    <tr>\n",
       "      <th>1</th>\n",
       "      <td>youtube.com</td>\n",
       "      <td>2</td>\n",
       "    </tr>\n",
       "    <tr>\n",
       "      <th>2</th>\n",
       "      <td>facebook.cm</td>\n",
       "      <td>3</td>\n",
       "    </tr>\n",
       "    <tr>\n",
       "      <th>3</th>\n",
       "      <td>twitter.com</td>\n",
       "      <td>4</td>\n",
       "    </tr>\n",
       "    <tr>\n",
       "      <th>4</th>\n",
       "      <td>instagram.com</td>\n",
       "      <td>5</td>\n",
       "    </tr>\n",
       "    <tr>\n",
       "      <th>5</th>\n",
       "      <td>baidu.com</td>\n",
       "      <td>6</td>\n",
       "    </tr>\n",
       "    <tr>\n",
       "      <th>6</th>\n",
       "      <td>wikipedia.org</td>\n",
       "      <td>7</td>\n",
       "    </tr>\n",
       "    <tr>\n",
       "      <th>7</th>\n",
       "      <td>yandex.рф</td>\n",
       "      <td>8</td>\n",
       "    </tr>\n",
       "    <tr>\n",
       "      <th>8</th>\n",
       "      <td>yahoo.cm</td>\n",
       "      <td>9</td>\n",
       "    </tr>\n",
       "    <tr>\n",
       "      <th>9</th>\n",
       "      <td>whatsapp.om</td>\n",
       "      <td>10</td>\n",
       "    </tr>\n",
       "  </tbody>\n",
       "</table>\n",
       "</div>"
      ],
      "text/plain": [
       "        Веб-сайт Просмотры\n",
       "0      google.cm         1\n",
       "1    youtube.com         2\n",
       "2    facebook.cm         3\n",
       "3    twitter.com         4\n",
       "4  instagram.com         5\n",
       "5      baidu.com         6\n",
       "6  wikipedia.org         7\n",
       "7      yandex.рф         8\n",
       "8       yahoo.cm         9\n",
       "9    whatsapp.om        10"
      ]
     },
     "execution_count": 208,
     "metadata": {},
     "output_type": "execute_result"
    }
   ],
   "source": [
    "## Задача\n",
    "\n",
    "df = pd.DataFrame({'Веб-сайт': ['google.cm', 'youtube.com', 'facebook.cm',\n",
    "                  'twitter.com', 'instagram.com', 'baidu.com', 'wikipedia.org',\n",
    "                   'yandex.рф', 'yahoo.cm', 'whatsapp.om'], 'Просмотры': ['1', '2', '3',\n",
    "                  '4', '5', '6', '7',\n",
    "                   '8', '9', '10']})\n",
    "df"
   ]
  },
  {
   "cell_type": "code",
   "execution_count": 169,
   "id": "ed84afe9",
   "metadata": {},
   "outputs": [],
   "source": [
    "# при помощи функции map(цикла) - разделяем каждое значение df['Веб-сайт'] по точке и берем элемент [1]\n",
    "s1 = df['Веб-сайт'].map(lambda x : (x.split('.')[1]))"
   ]
  },
  {
   "cell_type": "code",
   "execution_count": 171,
   "id": "d06ac137",
   "metadata": {},
   "outputs": [
    {
     "data": {
      "text/plain": [
       "0    com\n",
       "1    com\n",
       "2    com\n",
       "3    com\n",
       "4    com\n",
       "5    com\n",
       "6    org\n",
       "7     ru\n",
       "8    com\n",
       "9    com\n",
       "Name: Веб-сайт, dtype: object"
      ]
     },
     "execution_count": 171,
     "metadata": {},
     "output_type": "execute_result"
    }
   ],
   "source": [
    "s1"
   ]
  },
  {
   "cell_type": "code",
   "execution_count": 165,
   "id": "fda1c9e7",
   "metadata": {},
   "outputs": [
    {
     "data": {
      "text/plain": [
       "0    com\n",
       "1    com\n",
       "2    com\n",
       "3    com\n",
       "4    com\n",
       "5    com\n",
       "6    org\n",
       "7     ru\n",
       "8    com\n",
       "9    com\n",
       "Name: Веб-сайт, dtype: object"
      ]
     },
     "execution_count": 165,
     "metadata": {},
     "output_type": "execute_result"
    }
   ],
   "source": [
    "# заменяем \n",
    "s1.replace({'cm':'com','рф':'ru','om':'com'})"
   ]
  },
  {
   "cell_type": "code",
   "execution_count": 172,
   "id": "689086cd",
   "metadata": {},
   "outputs": [],
   "source": [
    "# создаем еще одну серию с первым элементом до сплита по точке\n",
    "s2 = df['Веб-сайт'].map(lambda x : (x.split('.')[0]))"
   ]
  },
  {
   "cell_type": "code",
   "execution_count": 173,
   "id": "eeaea4e4",
   "metadata": {},
   "outputs": [],
   "source": [
    "# соединяем серии в одну серию df['Веб-сайт']\n",
    "df['Веб-сайт'] = s2 + '.' + s1.replace({'cm':'com','рф':'ru','om':'com'})"
   ]
  },
  {
   "cell_type": "code",
   "execution_count": 187,
   "id": "12d7c7c7",
   "metadata": {},
   "outputs": [
    {
     "data": {
      "text/html": [
       "<div>\n",
       "<style scoped>\n",
       "    .dataframe tbody tr th:only-of-type {\n",
       "        vertical-align: middle;\n",
       "    }\n",
       "\n",
       "    .dataframe tbody tr th {\n",
       "        vertical-align: top;\n",
       "    }\n",
       "\n",
       "    .dataframe thead th {\n",
       "        text-align: right;\n",
       "    }\n",
       "</style>\n",
       "<table border=\"1\" class=\"dataframe\">\n",
       "  <thead>\n",
       "    <tr style=\"text-align: right;\">\n",
       "      <th></th>\n",
       "      <th>Веб-сайт</th>\n",
       "      <th>Просмотры</th>\n",
       "    </tr>\n",
       "  </thead>\n",
       "  <tbody>\n",
       "    <tr>\n",
       "      <th>0</th>\n",
       "      <td>google.cm</td>\n",
       "      <td>1</td>\n",
       "    </tr>\n",
       "    <tr>\n",
       "      <th>1</th>\n",
       "      <td>youtube.com</td>\n",
       "      <td>2</td>\n",
       "    </tr>\n",
       "    <tr>\n",
       "      <th>2</th>\n",
       "      <td>facebook.cm</td>\n",
       "      <td>3</td>\n",
       "    </tr>\n",
       "    <tr>\n",
       "      <th>3</th>\n",
       "      <td>twitter.com</td>\n",
       "      <td>4</td>\n",
       "    </tr>\n",
       "    <tr>\n",
       "      <th>4</th>\n",
       "      <td>instagram.com</td>\n",
       "      <td>5</td>\n",
       "    </tr>\n",
       "    <tr>\n",
       "      <th>5</th>\n",
       "      <td>baidu.com</td>\n",
       "      <td>6</td>\n",
       "    </tr>\n",
       "    <tr>\n",
       "      <th>6</th>\n",
       "      <td>wikipedia.org</td>\n",
       "      <td>7</td>\n",
       "    </tr>\n",
       "    <tr>\n",
       "      <th>7</th>\n",
       "      <td>yandex.рф</td>\n",
       "      <td>8</td>\n",
       "    </tr>\n",
       "    <tr>\n",
       "      <th>8</th>\n",
       "      <td>yahoo.cm</td>\n",
       "      <td>9</td>\n",
       "    </tr>\n",
       "    <tr>\n",
       "      <th>9</th>\n",
       "      <td>whatsapp.om</td>\n",
       "      <td>10</td>\n",
       "    </tr>\n",
       "  </tbody>\n",
       "</table>\n",
       "</div>"
      ],
      "text/plain": [
       "        Веб-сайт Просмотры\n",
       "0      google.cm         1\n",
       "1    youtube.com         2\n",
       "2    facebook.cm         3\n",
       "3    twitter.com         4\n",
       "4  instagram.com         5\n",
       "5      baidu.com         6\n",
       "6  wikipedia.org         7\n",
       "7      yandex.рф         8\n",
       "8       yahoo.cm         9\n",
       "9    whatsapp.om        10"
      ]
     },
     "execution_count": 187,
     "metadata": {},
     "output_type": "execute_result"
    }
   ],
   "source": [
    "df"
   ]
  },
  {
   "cell_type": "code",
   "execution_count": 221,
   "id": "7463ce53",
   "metadata": {},
   "outputs": [
    {
     "data": {
      "text/plain": [
       "0       google.ru\n",
       "1      youtube.ru\n",
       "2     facebook.ru\n",
       "3      twitter.ru\n",
       "4    instagram.ru\n",
       "5        baidu.ru\n",
       "6    wikipedia.ru\n",
       "7       yandex.ru\n",
       "8        yahoo.ru\n",
       "9     whatsapp.ru\n",
       "Name: Веб-сайт, dtype: object"
      ]
     },
     "execution_count": 221,
     "metadata": {},
     "output_type": "execute_result"
    }
   ],
   "source": [
    "df['Веб-сайт'].map(lambda x: (x.split('.')[0])+ '.' + 'ru')"
   ]
  },
  {
   "cell_type": "code",
   "execution_count": null,
   "id": "ed8b14a9",
   "metadata": {},
   "outputs": [],
   "source": []
  },
  {
   "cell_type": "code",
   "execution_count": null,
   "id": "f0d5a58b",
   "metadata": {},
   "outputs": [],
   "source": []
  },
  {
   "cell_type": "markdown",
   "id": "c07dd299",
   "metadata": {},
   "source": [
    "# !!! Устранение выбросов !!!"
   ]
  },
  {
   "cell_type": "code",
   "execution_count": 33,
   "id": "9ea9ab43",
   "metadata": {},
   "outputs": [
    {
     "data": {
      "text/html": [
       "<div>\n",
       "<style scoped>\n",
       "    .dataframe tbody tr th:only-of-type {\n",
       "        vertical-align: middle;\n",
       "    }\n",
       "\n",
       "    .dataframe tbody tr th {\n",
       "        vertical-align: top;\n",
       "    }\n",
       "\n",
       "    .dataframe thead th {\n",
       "        text-align: right;\n",
       "    }\n",
       "</style>\n",
       "<table border=\"1\" class=\"dataframe\">\n",
       "  <thead>\n",
       "    <tr style=\"text-align: right;\">\n",
       "      <th></th>\n",
       "      <th>IZM_1</th>\n",
       "      <th>IZM_2</th>\n",
       "      <th>IZM_3</th>\n",
       "    </tr>\n",
       "  </thead>\n",
       "  <tbody>\n",
       "    <tr>\n",
       "      <th>TEST#1</th>\n",
       "      <td>-1.63</td>\n",
       "      <td>0.22</td>\n",
       "      <td>-0.31</td>\n",
       "    </tr>\n",
       "    <tr>\n",
       "      <th>TEST#2</th>\n",
       "      <td>0.51</td>\n",
       "      <td>0.41</td>\n",
       "      <td>0.41</td>\n",
       "    </tr>\n",
       "    <tr>\n",
       "      <th>TEST#3</th>\n",
       "      <td>-1.33</td>\n",
       "      <td>-2.07</td>\n",
       "      <td>1.26</td>\n",
       "    </tr>\n",
       "    <tr>\n",
       "      <th>TEST#4</th>\n",
       "      <td>-0.83</td>\n",
       "      <td>-0.74</td>\n",
       "      <td>-0.41</td>\n",
       "    </tr>\n",
       "    <tr>\n",
       "      <th>TEST#5</th>\n",
       "      <td>0.27</td>\n",
       "      <td>-0.68</td>\n",
       "      <td>-0.62</td>\n",
       "    </tr>\n",
       "    <tr>\n",
       "      <th>TEST#6</th>\n",
       "      <td>1.28</td>\n",
       "      <td>-0.62</td>\n",
       "      <td>-0.76</td>\n",
       "    </tr>\n",
       "    <tr>\n",
       "      <th>TEST#7</th>\n",
       "      <td>0.36</td>\n",
       "      <td>0.83</td>\n",
       "      <td>0.02</td>\n",
       "    </tr>\n",
       "    <tr>\n",
       "      <th>TEST#8</th>\n",
       "      <td>2.01</td>\n",
       "      <td>0.30</td>\n",
       "      <td>0.42</td>\n",
       "    </tr>\n",
       "    <tr>\n",
       "      <th>TEST#9</th>\n",
       "      <td>-0.43</td>\n",
       "      <td>-0.72</td>\n",
       "      <td>-1.48</td>\n",
       "    </tr>\n",
       "    <tr>\n",
       "      <th>TEST#10</th>\n",
       "      <td>-0.52</td>\n",
       "      <td>-0.14</td>\n",
       "      <td>0.71</td>\n",
       "    </tr>\n",
       "  </tbody>\n",
       "</table>\n",
       "</div>"
      ],
      "text/plain": [
       "         IZM_1  IZM_2  IZM_3\n",
       "TEST#1   -1.63   0.22  -0.31\n",
       "TEST#2    0.51   0.41   0.41\n",
       "TEST#3   -1.33  -2.07   1.26\n",
       "TEST#4   -0.83  -0.74  -0.41\n",
       "TEST#5    0.27  -0.68  -0.62\n",
       "TEST#6    1.28  -0.62  -0.76\n",
       "TEST#7    0.36   0.83   0.02\n",
       "TEST#8    2.01   0.30   0.42\n",
       "TEST#9   -0.43  -0.72  -1.48\n",
       "TEST#10  -0.52  -0.14   0.71"
      ]
     },
     "execution_count": 33,
     "metadata": {},
     "output_type": "execute_result"
    }
   ],
   "source": [
    "df = pd.DataFrame({\n",
    "    'IZM_1' : [-1.63, 0.51, -1.33, -0.83, 0.27, 1.28, 0.36, 2.01, -0.43, -0.52],\n",
    "    'IZM_2' : [0.22, 0.41, -2.07, -0.74, -0.68, -0.62, 0.83, 0.30, -0.72, -0.14],\n",
    "    'IZM_3' : [-0.31, 0.41, 1.26, -0.41, -0.62, -0.76, 0.02, 0.42, -1.48, 0.71]\n",
    "}, index = ['TEST#1', 'TEST#2', 'TEST#3', 'TEST#4', 'TEST#5', 'TEST#6', 'TEST#7', 'TEST#8', 'TEST#9', 'TEST#10'])\n",
    "df"
   ]
  },
  {
   "cell_type": "code",
   "execution_count": 36,
   "id": "7058ba39",
   "metadata": {},
   "outputs": [],
   "source": [
    "# правильная задача датафрейма\n",
    "df = pd.DataFrame(np.random.randn(10, 3),\n",
    "                   index=['TEST#' + str(i) for i in range(1, 11)],\n",
    "                   columns=['IZM_' + str(i) for i in range (1,4)])"
   ]
  },
  {
   "cell_type": "code",
   "execution_count": 37,
   "id": "82c480b3",
   "metadata": {},
   "outputs": [
    {
     "data": {
      "text/html": [
       "<div>\n",
       "<style scoped>\n",
       "    .dataframe tbody tr th:only-of-type {\n",
       "        vertical-align: middle;\n",
       "    }\n",
       "\n",
       "    .dataframe tbody tr th {\n",
       "        vertical-align: top;\n",
       "    }\n",
       "\n",
       "    .dataframe thead th {\n",
       "        text-align: right;\n",
       "    }\n",
       "</style>\n",
       "<table border=\"1\" class=\"dataframe\">\n",
       "  <thead>\n",
       "    <tr style=\"text-align: right;\">\n",
       "      <th></th>\n",
       "      <th>IZM_1</th>\n",
       "      <th>IZM_2</th>\n",
       "      <th>IZM_3</th>\n",
       "    </tr>\n",
       "  </thead>\n",
       "  <tbody>\n",
       "    <tr>\n",
       "      <th>TEST#1</th>\n",
       "      <td>0.248028</td>\n",
       "      <td>0.475186</td>\n",
       "      <td>0.228971</td>\n",
       "    </tr>\n",
       "    <tr>\n",
       "      <th>TEST#2</th>\n",
       "      <td>0.929629</td>\n",
       "      <td>-0.381543</td>\n",
       "      <td>1.175445</td>\n",
       "    </tr>\n",
       "    <tr>\n",
       "      <th>TEST#3</th>\n",
       "      <td>-0.195746</td>\n",
       "      <td>-0.287470</td>\n",
       "      <td>0.503468</td>\n",
       "    </tr>\n",
       "    <tr>\n",
       "      <th>TEST#4</th>\n",
       "      <td>0.875086</td>\n",
       "      <td>0.260893</td>\n",
       "      <td>-1.525968</td>\n",
       "    </tr>\n",
       "    <tr>\n",
       "      <th>TEST#5</th>\n",
       "      <td>-0.751578</td>\n",
       "      <td>2.128888</td>\n",
       "      <td>0.329170</td>\n",
       "    </tr>\n",
       "    <tr>\n",
       "      <th>TEST#6</th>\n",
       "      <td>0.183036</td>\n",
       "      <td>0.268395</td>\n",
       "      <td>-1.619239</td>\n",
       "    </tr>\n",
       "    <tr>\n",
       "      <th>TEST#7</th>\n",
       "      <td>-1.682281</td>\n",
       "      <td>0.385874</td>\n",
       "      <td>-0.095046</td>\n",
       "    </tr>\n",
       "    <tr>\n",
       "      <th>TEST#8</th>\n",
       "      <td>-1.188488</td>\n",
       "      <td>-0.567332</td>\n",
       "      <td>-1.406999</td>\n",
       "    </tr>\n",
       "    <tr>\n",
       "      <th>TEST#9</th>\n",
       "      <td>-0.002391</td>\n",
       "      <td>-0.028460</td>\n",
       "      <td>0.897636</td>\n",
       "    </tr>\n",
       "    <tr>\n",
       "      <th>TEST#10</th>\n",
       "      <td>-0.095710</td>\n",
       "      <td>0.104546</td>\n",
       "      <td>-1.922930</td>\n",
       "    </tr>\n",
       "  </tbody>\n",
       "</table>\n",
       "</div>"
      ],
      "text/plain": [
       "            IZM_1     IZM_2     IZM_3\n",
       "TEST#1   0.248028  0.475186  0.228971\n",
       "TEST#2   0.929629 -0.381543  1.175445\n",
       "TEST#3  -0.195746 -0.287470  0.503468\n",
       "TEST#4   0.875086  0.260893 -1.525968\n",
       "TEST#5  -0.751578  2.128888  0.329170\n",
       "TEST#6   0.183036  0.268395 -1.619239\n",
       "TEST#7  -1.682281  0.385874 -0.095046\n",
       "TEST#8  -1.188488 -0.567332 -1.406999\n",
       "TEST#9  -0.002391 -0.028460  0.897636\n",
       "TEST#10 -0.095710  0.104546 -1.922930"
      ]
     },
     "execution_count": 37,
     "metadata": {},
     "output_type": "execute_result"
    }
   ],
   "source": [
    "df"
   ]
  },
  {
   "cell_type": "code",
   "execution_count": 3,
   "id": "468bc79d",
   "metadata": {},
   "outputs": [
    {
     "data": {
      "text/html": [
       "<div>\n",
       "<style scoped>\n",
       "    .dataframe tbody tr th:only-of-type {\n",
       "        vertical-align: middle;\n",
       "    }\n",
       "\n",
       "    .dataframe tbody tr th {\n",
       "        vertical-align: top;\n",
       "    }\n",
       "\n",
       "    .dataframe thead th {\n",
       "        text-align: right;\n",
       "    }\n",
       "</style>\n",
       "<table border=\"1\" class=\"dataframe\">\n",
       "  <thead>\n",
       "    <tr style=\"text-align: right;\">\n",
       "      <th></th>\n",
       "      <th>IZM_1</th>\n",
       "      <th>IZM_2</th>\n",
       "      <th>IZM_3</th>\n",
       "    </tr>\n",
       "  </thead>\n",
       "  <tbody>\n",
       "    <tr>\n",
       "      <th>TEST#3</th>\n",
       "      <td>-1.33</td>\n",
       "      <td>-2.07</td>\n",
       "      <td>1.26</td>\n",
       "    </tr>\n",
       "    <tr>\n",
       "      <th>TEST#9</th>\n",
       "      <td>-0.43</td>\n",
       "      <td>-0.72</td>\n",
       "      <td>-1.48</td>\n",
       "    </tr>\n",
       "  </tbody>\n",
       "</table>\n",
       "</div>"
      ],
      "text/plain": [
       "        IZM_1  IZM_2  IZM_3\n",
       "TEST#3  -1.33  -2.07   1.26\n",
       "TEST#9  -0.43  -0.72  -1.48"
      ]
     },
     "execution_count": 3,
     "metadata": {},
     "output_type": "execute_result"
    }
   ],
   "source": [
    "# условие только для IZM_3\n",
    "df[(df['IZM_3']>1) |  (df['IZM_3'] < -1)]"
   ]
  },
  {
   "cell_type": "code",
   "execution_count": 228,
   "id": "0f799564",
   "metadata": {},
   "outputs": [
    {
     "data": {
      "text/html": [
       "<div>\n",
       "<style scoped>\n",
       "    .dataframe tbody tr th:only-of-type {\n",
       "        vertical-align: middle;\n",
       "    }\n",
       "\n",
       "    .dataframe tbody tr th {\n",
       "        vertical-align: top;\n",
       "    }\n",
       "\n",
       "    .dataframe thead th {\n",
       "        text-align: right;\n",
       "    }\n",
       "</style>\n",
       "<table border=\"1\" class=\"dataframe\">\n",
       "  <thead>\n",
       "    <tr style=\"text-align: right;\">\n",
       "      <th></th>\n",
       "      <th>IZM_1</th>\n",
       "      <th>IZM_2</th>\n",
       "      <th>IZM_3</th>\n",
       "    </tr>\n",
       "  </thead>\n",
       "  <tbody>\n",
       "    <tr>\n",
       "      <th>TEST#3</th>\n",
       "      <td>-1.33</td>\n",
       "      <td>-2.07</td>\n",
       "      <td>1.26</td>\n",
       "    </tr>\n",
       "    <tr>\n",
       "      <th>TEST#9</th>\n",
       "      <td>-0.43</td>\n",
       "      <td>-0.72</td>\n",
       "      <td>-1.48</td>\n",
       "    </tr>\n",
       "  </tbody>\n",
       "</table>\n",
       "</div>"
      ],
      "text/plain": [
       "        IZM_1  IZM_2  IZM_3\n",
       "TEST#3  -1.33  -2.07   1.26\n",
       "TEST#9  -0.43  -0.72  -1.48"
      ]
     },
     "execution_count": 228,
     "metadata": {},
     "output_type": "execute_result"
    }
   ],
   "source": [
    "# берем abs()\n",
    "df[abs(df['IZM_3'])>1]"
   ]
  },
  {
   "cell_type": "code",
   "execution_count": 4,
   "id": "2cef1991",
   "metadata": {},
   "outputs": [
    {
     "name": "stderr",
     "output_type": "stream",
     "text": [
      "C:\\Users\\roman\\AppData\\Local\\Temp\\ipykernel_57244\\3823657092.py:5: FutureWarning: In a future version of pandas all arguments of DataFrame.any and Series.any will be keyword-only.\n",
      "  df[(np.abs(df)>1).any(1)]\n"
     ]
    },
    {
     "data": {
      "text/html": [
       "<div>\n",
       "<style scoped>\n",
       "    .dataframe tbody tr th:only-of-type {\n",
       "        vertical-align: middle;\n",
       "    }\n",
       "\n",
       "    .dataframe tbody tr th {\n",
       "        vertical-align: top;\n",
       "    }\n",
       "\n",
       "    .dataframe thead th {\n",
       "        text-align: right;\n",
       "    }\n",
       "</style>\n",
       "<table border=\"1\" class=\"dataframe\">\n",
       "  <thead>\n",
       "    <tr style=\"text-align: right;\">\n",
       "      <th></th>\n",
       "      <th>IZM_1</th>\n",
       "      <th>IZM_2</th>\n",
       "      <th>IZM_3</th>\n",
       "    </tr>\n",
       "  </thead>\n",
       "  <tbody>\n",
       "    <tr>\n",
       "      <th>TEST#1</th>\n",
       "      <td>-1.63</td>\n",
       "      <td>0.22</td>\n",
       "      <td>-0.31</td>\n",
       "    </tr>\n",
       "    <tr>\n",
       "      <th>TEST#3</th>\n",
       "      <td>-1.33</td>\n",
       "      <td>-2.07</td>\n",
       "      <td>1.26</td>\n",
       "    </tr>\n",
       "    <tr>\n",
       "      <th>TEST#6</th>\n",
       "      <td>1.28</td>\n",
       "      <td>-0.62</td>\n",
       "      <td>-0.76</td>\n",
       "    </tr>\n",
       "    <tr>\n",
       "      <th>TEST#8</th>\n",
       "      <td>2.01</td>\n",
       "      <td>0.30</td>\n",
       "      <td>0.42</td>\n",
       "    </tr>\n",
       "    <tr>\n",
       "      <th>TEST#9</th>\n",
       "      <td>-0.43</td>\n",
       "      <td>-0.72</td>\n",
       "      <td>-1.48</td>\n",
       "    </tr>\n",
       "  </tbody>\n",
       "</table>\n",
       "</div>"
      ],
      "text/plain": [
       "        IZM_1  IZM_2  IZM_3\n",
       "TEST#1  -1.63   0.22  -0.31\n",
       "TEST#3  -1.33  -2.07   1.26\n",
       "TEST#6   1.28  -0.62  -0.76\n",
       "TEST#8   2.01   0.30   0.42\n",
       "TEST#9  -0.43  -0.72  -1.48"
      ]
     },
     "execution_count": 4,
     "metadata": {},
     "output_type": "execute_result"
    }
   ],
   "source": [
    "# mask.any() - задает условие если хотябы один True в строке (создает одномерную маску)\n",
    "\n",
    "# mask.any(1) - то же самое, но в столбце\n",
    "\n",
    "df[(np.abs(df)>1).any(1)]"
   ]
  },
  {
   "cell_type": "code",
   "execution_count": 5,
   "id": "4edd1364",
   "metadata": {},
   "outputs": [],
   "source": [
    "mask = np.abs(df)>1"
   ]
  },
  {
   "cell_type": "code",
   "execution_count": 8,
   "id": "f0880740",
   "metadata": {},
   "outputs": [
    {
     "data": {
      "text/html": [
       "<div>\n",
       "<style scoped>\n",
       "    .dataframe tbody tr th:only-of-type {\n",
       "        vertical-align: middle;\n",
       "    }\n",
       "\n",
       "    .dataframe tbody tr th {\n",
       "        vertical-align: top;\n",
       "    }\n",
       "\n",
       "    .dataframe thead th {\n",
       "        text-align: right;\n",
       "    }\n",
       "</style>\n",
       "<table border=\"1\" class=\"dataframe\">\n",
       "  <thead>\n",
       "    <tr style=\"text-align: right;\">\n",
       "      <th></th>\n",
       "      <th>IZM_1</th>\n",
       "      <th>IZM_2</th>\n",
       "      <th>IZM_3</th>\n",
       "    </tr>\n",
       "  </thead>\n",
       "  <tbody>\n",
       "    <tr>\n",
       "      <th>TEST#1</th>\n",
       "      <td>True</td>\n",
       "      <td>False</td>\n",
       "      <td>False</td>\n",
       "    </tr>\n",
       "    <tr>\n",
       "      <th>TEST#2</th>\n",
       "      <td>False</td>\n",
       "      <td>False</td>\n",
       "      <td>False</td>\n",
       "    </tr>\n",
       "    <tr>\n",
       "      <th>TEST#3</th>\n",
       "      <td>True</td>\n",
       "      <td>True</td>\n",
       "      <td>True</td>\n",
       "    </tr>\n",
       "    <tr>\n",
       "      <th>TEST#4</th>\n",
       "      <td>False</td>\n",
       "      <td>False</td>\n",
       "      <td>False</td>\n",
       "    </tr>\n",
       "    <tr>\n",
       "      <th>TEST#5</th>\n",
       "      <td>False</td>\n",
       "      <td>False</td>\n",
       "      <td>False</td>\n",
       "    </tr>\n",
       "    <tr>\n",
       "      <th>TEST#6</th>\n",
       "      <td>True</td>\n",
       "      <td>False</td>\n",
       "      <td>False</td>\n",
       "    </tr>\n",
       "    <tr>\n",
       "      <th>TEST#7</th>\n",
       "      <td>False</td>\n",
       "      <td>False</td>\n",
       "      <td>False</td>\n",
       "    </tr>\n",
       "    <tr>\n",
       "      <th>TEST#8</th>\n",
       "      <td>True</td>\n",
       "      <td>False</td>\n",
       "      <td>False</td>\n",
       "    </tr>\n",
       "    <tr>\n",
       "      <th>TEST#9</th>\n",
       "      <td>False</td>\n",
       "      <td>False</td>\n",
       "      <td>True</td>\n",
       "    </tr>\n",
       "    <tr>\n",
       "      <th>TEST#10</th>\n",
       "      <td>False</td>\n",
       "      <td>False</td>\n",
       "      <td>False</td>\n",
       "    </tr>\n",
       "  </tbody>\n",
       "</table>\n",
       "</div>"
      ],
      "text/plain": [
       "         IZM_1  IZM_2  IZM_3\n",
       "TEST#1    True  False  False\n",
       "TEST#2   False  False  False\n",
       "TEST#3    True   True   True\n",
       "TEST#4   False  False  False\n",
       "TEST#5   False  False  False\n",
       "TEST#6    True  False  False\n",
       "TEST#7   False  False  False\n",
       "TEST#8    True  False  False\n",
       "TEST#9   False  False   True\n",
       "TEST#10  False  False  False"
      ]
     },
     "execution_count": 8,
     "metadata": {},
     "output_type": "execute_result"
    }
   ],
   "source": [
    "mask"
   ]
  },
  {
   "cell_type": "code",
   "execution_count": 9,
   "id": "13fd6121",
   "metadata": {},
   "outputs": [
    {
     "data": {
      "text/plain": [
       "IZM_1    True\n",
       "IZM_2    True\n",
       "IZM_3    True\n",
       "dtype: bool"
      ]
     },
     "execution_count": 9,
     "metadata": {},
     "output_type": "execute_result"
    }
   ],
   "source": [
    "# для каждого столбца по всем строкам проверяет есть ли хотя бы один True\n",
    "mask.any()"
   ]
  },
  {
   "cell_type": "code",
   "execution_count": 249,
   "id": "271474b8",
   "metadata": {},
   "outputs": [
    {
     "name": "stderr",
     "output_type": "stream",
     "text": [
      "C:\\Users\\roman\\AppData\\Local\\Temp\\ipykernel_65596\\3784093248.py:1: FutureWarning: In a future version of pandas all arguments of DataFrame.any and Series.any will be keyword-only.\n",
      "  mask.any(1)\n"
     ]
    },
    {
     "data": {
      "text/plain": [
       "TEST#1      True\n",
       "TEST#2     False\n",
       "TEST#3      True\n",
       "TEST#4     False\n",
       "TEST#5     False\n",
       "TEST#6      True\n",
       "TEST#7     False\n",
       "TEST#8      True\n",
       "TEST#9      True\n",
       "TEST#10    False\n",
       "dtype: bool"
      ]
     },
     "execution_count": 249,
     "metadata": {},
     "output_type": "execute_result"
    }
   ],
   "source": [
    "# для каждой строки по всем столбцам \n",
    "mask.any(1)"
   ]
  },
  {
   "cell_type": "code",
   "execution_count": 250,
   "id": "7baee987",
   "metadata": {},
   "outputs": [
    {
     "name": "stderr",
     "output_type": "stream",
     "text": [
      "C:\\Users\\roman\\AppData\\Local\\Temp\\ipykernel_65596\\92201544.py:1: FutureWarning: In a future version of pandas all arguments of DataFrame.any and Series.any will be keyword-only.\n",
      "  df[mask.any(1)]\n"
     ]
    },
    {
     "data": {
      "text/html": [
       "<div>\n",
       "<style scoped>\n",
       "    .dataframe tbody tr th:only-of-type {\n",
       "        vertical-align: middle;\n",
       "    }\n",
       "\n",
       "    .dataframe tbody tr th {\n",
       "        vertical-align: top;\n",
       "    }\n",
       "\n",
       "    .dataframe thead th {\n",
       "        text-align: right;\n",
       "    }\n",
       "</style>\n",
       "<table border=\"1\" class=\"dataframe\">\n",
       "  <thead>\n",
       "    <tr style=\"text-align: right;\">\n",
       "      <th></th>\n",
       "      <th>IZM_1</th>\n",
       "      <th>IZM_2</th>\n",
       "      <th>IZM_3</th>\n",
       "    </tr>\n",
       "  </thead>\n",
       "  <tbody>\n",
       "    <tr>\n",
       "      <th>TEST#1</th>\n",
       "      <td>-1.63</td>\n",
       "      <td>0.22</td>\n",
       "      <td>-0.31</td>\n",
       "    </tr>\n",
       "    <tr>\n",
       "      <th>TEST#3</th>\n",
       "      <td>-1.33</td>\n",
       "      <td>-2.07</td>\n",
       "      <td>1.26</td>\n",
       "    </tr>\n",
       "    <tr>\n",
       "      <th>TEST#6</th>\n",
       "      <td>1.28</td>\n",
       "      <td>-0.62</td>\n",
       "      <td>-0.76</td>\n",
       "    </tr>\n",
       "    <tr>\n",
       "      <th>TEST#8</th>\n",
       "      <td>2.01</td>\n",
       "      <td>0.30</td>\n",
       "      <td>0.42</td>\n",
       "    </tr>\n",
       "    <tr>\n",
       "      <th>TEST#9</th>\n",
       "      <td>-0.43</td>\n",
       "      <td>-0.72</td>\n",
       "      <td>-1.48</td>\n",
       "    </tr>\n",
       "  </tbody>\n",
       "</table>\n",
       "</div>"
      ],
      "text/plain": [
       "        IZM_1  IZM_2  IZM_3\n",
       "TEST#1  -1.63   0.22  -0.31\n",
       "TEST#3  -1.33  -2.07   1.26\n",
       "TEST#6   1.28  -0.62  -0.76\n",
       "TEST#8   2.01   0.30   0.42\n",
       "TEST#9  -0.43  -0.72  -1.48"
      ]
     },
     "execution_count": 250,
     "metadata": {},
     "output_type": "execute_result"
    }
   ],
   "source": [
    "df[mask.any(1)]"
   ]
  },
  {
   "cell_type": "code",
   "execution_count": 258,
   "id": "d25a1903",
   "metadata": {},
   "outputs": [
    {
     "data": {
      "text/html": [
       "<div>\n",
       "<style scoped>\n",
       "    .dataframe tbody tr th:only-of-type {\n",
       "        vertical-align: middle;\n",
       "    }\n",
       "\n",
       "    .dataframe tbody tr th {\n",
       "        vertical-align: top;\n",
       "    }\n",
       "\n",
       "    .dataframe thead th {\n",
       "        text-align: right;\n",
       "    }\n",
       "</style>\n",
       "<table border=\"1\" class=\"dataframe\">\n",
       "  <thead>\n",
       "    <tr style=\"text-align: right;\">\n",
       "      <th></th>\n",
       "      <th>IZM_1</th>\n",
       "      <th>IZM_2</th>\n",
       "      <th>IZM_3</th>\n",
       "    </tr>\n",
       "  </thead>\n",
       "  <tbody>\n",
       "    <tr>\n",
       "      <th>TEST#1</th>\n",
       "      <td>-1.63</td>\n",
       "      <td>0.22</td>\n",
       "      <td>-0.31</td>\n",
       "    </tr>\n",
       "    <tr>\n",
       "      <th>TEST#3</th>\n",
       "      <td>-1.33</td>\n",
       "      <td>-2.07</td>\n",
       "      <td>1.26</td>\n",
       "    </tr>\n",
       "    <tr>\n",
       "      <th>TEST#6</th>\n",
       "      <td>1.28</td>\n",
       "      <td>-0.62</td>\n",
       "      <td>-0.76</td>\n",
       "    </tr>\n",
       "    <tr>\n",
       "      <th>TEST#8</th>\n",
       "      <td>2.01</td>\n",
       "      <td>0.30</td>\n",
       "      <td>0.42</td>\n",
       "    </tr>\n",
       "    <tr>\n",
       "      <th>TEST#9</th>\n",
       "      <td>-0.43</td>\n",
       "      <td>-0.72</td>\n",
       "      <td>-1.48</td>\n",
       "    </tr>\n",
       "  </tbody>\n",
       "</table>\n",
       "</div>"
      ],
      "text/plain": [
       "        IZM_1  IZM_2  IZM_3\n",
       "TEST#1  -1.63   0.22  -0.31\n",
       "TEST#3  -1.33  -2.07   1.26\n",
       "TEST#6   1.28  -0.62  -0.76\n",
       "TEST#8   2.01   0.30   0.42\n",
       "TEST#9  -0.43  -0.72  -1.48"
      ]
     },
     "execution_count": 258,
     "metadata": {},
     "output_type": "execute_result"
    }
   ],
   "source": [
    "# мое первоначальное решение без any()\n",
    "\n",
    "df[np.abs(df.values)>1].drop_duplicates(keep = 'first')"
   ]
  },
  {
   "cell_type": "code",
   "execution_count": null,
   "id": "b1cf8913",
   "metadata": {},
   "outputs": [],
   "source": []
  },
  {
   "cell_type": "code",
   "execution_count": null,
   "id": "b670186a",
   "metadata": {},
   "outputs": [],
   "source": []
  },
  {
   "cell_type": "code",
   "execution_count": null,
   "id": "7c3c4cbe",
   "metadata": {},
   "outputs": [],
   "source": []
  },
  {
   "cell_type": "markdown",
   "id": "2b2beb3d",
   "metadata": {},
   "source": [
    "### Стратегия работы с выбросами"
   ]
  },
  {
   "cell_type": "markdown",
   "id": "73fbb468",
   "metadata": {},
   "source": [
    "#### 1. Стратегия. Занулять выбросы"
   ]
  },
  {
   "cell_type": "code",
   "execution_count": 10,
   "id": "58d7054a",
   "metadata": {},
   "outputs": [
    {
     "data": {
      "text/html": [
       "<div>\n",
       "<style scoped>\n",
       "    .dataframe tbody tr th:only-of-type {\n",
       "        vertical-align: middle;\n",
       "    }\n",
       "\n",
       "    .dataframe tbody tr th {\n",
       "        vertical-align: top;\n",
       "    }\n",
       "\n",
       "    .dataframe thead th {\n",
       "        text-align: right;\n",
       "    }\n",
       "</style>\n",
       "<table border=\"1\" class=\"dataframe\">\n",
       "  <thead>\n",
       "    <tr style=\"text-align: right;\">\n",
       "      <th></th>\n",
       "      <th>IZM_1</th>\n",
       "      <th>IZM_2</th>\n",
       "      <th>IZM_3</th>\n",
       "    </tr>\n",
       "  </thead>\n",
       "  <tbody>\n",
       "    <tr>\n",
       "      <th>TEST#1</th>\n",
       "      <td>True</td>\n",
       "      <td>False</td>\n",
       "      <td>False</td>\n",
       "    </tr>\n",
       "    <tr>\n",
       "      <th>TEST#2</th>\n",
       "      <td>False</td>\n",
       "      <td>False</td>\n",
       "      <td>False</td>\n",
       "    </tr>\n",
       "    <tr>\n",
       "      <th>TEST#3</th>\n",
       "      <td>True</td>\n",
       "      <td>True</td>\n",
       "      <td>True</td>\n",
       "    </tr>\n",
       "    <tr>\n",
       "      <th>TEST#4</th>\n",
       "      <td>False</td>\n",
       "      <td>False</td>\n",
       "      <td>False</td>\n",
       "    </tr>\n",
       "    <tr>\n",
       "      <th>TEST#5</th>\n",
       "      <td>False</td>\n",
       "      <td>False</td>\n",
       "      <td>False</td>\n",
       "    </tr>\n",
       "    <tr>\n",
       "      <th>TEST#6</th>\n",
       "      <td>True</td>\n",
       "      <td>False</td>\n",
       "      <td>False</td>\n",
       "    </tr>\n",
       "    <tr>\n",
       "      <th>TEST#7</th>\n",
       "      <td>False</td>\n",
       "      <td>False</td>\n",
       "      <td>False</td>\n",
       "    </tr>\n",
       "    <tr>\n",
       "      <th>TEST#8</th>\n",
       "      <td>True</td>\n",
       "      <td>False</td>\n",
       "      <td>False</td>\n",
       "    </tr>\n",
       "    <tr>\n",
       "      <th>TEST#9</th>\n",
       "      <td>False</td>\n",
       "      <td>False</td>\n",
       "      <td>True</td>\n",
       "    </tr>\n",
       "    <tr>\n",
       "      <th>TEST#10</th>\n",
       "      <td>False</td>\n",
       "      <td>False</td>\n",
       "      <td>False</td>\n",
       "    </tr>\n",
       "  </tbody>\n",
       "</table>\n",
       "</div>"
      ],
      "text/plain": [
       "         IZM_1  IZM_2  IZM_3\n",
       "TEST#1    True  False  False\n",
       "TEST#2   False  False  False\n",
       "TEST#3    True   True   True\n",
       "TEST#4   False  False  False\n",
       "TEST#5   False  False  False\n",
       "TEST#6    True  False  False\n",
       "TEST#7   False  False  False\n",
       "TEST#8    True  False  False\n",
       "TEST#9   False  False   True\n",
       "TEST#10  False  False  False"
      ]
     },
     "execution_count": 10,
     "metadata": {},
     "output_type": "execute_result"
    }
   ],
   "source": [
    "mask"
   ]
  },
  {
   "cell_type": "code",
   "execution_count": 12,
   "id": "3fb70c01",
   "metadata": {},
   "outputs": [],
   "source": [
    "df[mask] = 0"
   ]
  },
  {
   "cell_type": "code",
   "execution_count": 14,
   "id": "226b4e6c",
   "metadata": {},
   "outputs": [
    {
     "data": {
      "text/html": [
       "<div>\n",
       "<style scoped>\n",
       "    .dataframe tbody tr th:only-of-type {\n",
       "        vertical-align: middle;\n",
       "    }\n",
       "\n",
       "    .dataframe tbody tr th {\n",
       "        vertical-align: top;\n",
       "    }\n",
       "\n",
       "    .dataframe thead th {\n",
       "        text-align: right;\n",
       "    }\n",
       "</style>\n",
       "<table border=\"1\" class=\"dataframe\">\n",
       "  <thead>\n",
       "    <tr style=\"text-align: right;\">\n",
       "      <th></th>\n",
       "      <th>IZM_1</th>\n",
       "      <th>IZM_2</th>\n",
       "      <th>IZM_3</th>\n",
       "    </tr>\n",
       "  </thead>\n",
       "  <tbody>\n",
       "    <tr>\n",
       "      <th>TEST#1</th>\n",
       "      <td>0.00</td>\n",
       "      <td>0.22</td>\n",
       "      <td>-0.31</td>\n",
       "    </tr>\n",
       "    <tr>\n",
       "      <th>TEST#2</th>\n",
       "      <td>0.51</td>\n",
       "      <td>0.41</td>\n",
       "      <td>0.41</td>\n",
       "    </tr>\n",
       "    <tr>\n",
       "      <th>TEST#3</th>\n",
       "      <td>0.00</td>\n",
       "      <td>0.00</td>\n",
       "      <td>0.00</td>\n",
       "    </tr>\n",
       "    <tr>\n",
       "      <th>TEST#4</th>\n",
       "      <td>-0.83</td>\n",
       "      <td>-0.74</td>\n",
       "      <td>-0.41</td>\n",
       "    </tr>\n",
       "    <tr>\n",
       "      <th>TEST#5</th>\n",
       "      <td>0.27</td>\n",
       "      <td>-0.68</td>\n",
       "      <td>-0.62</td>\n",
       "    </tr>\n",
       "    <tr>\n",
       "      <th>TEST#6</th>\n",
       "      <td>0.00</td>\n",
       "      <td>-0.62</td>\n",
       "      <td>-0.76</td>\n",
       "    </tr>\n",
       "    <tr>\n",
       "      <th>TEST#7</th>\n",
       "      <td>0.36</td>\n",
       "      <td>0.83</td>\n",
       "      <td>0.02</td>\n",
       "    </tr>\n",
       "    <tr>\n",
       "      <th>TEST#8</th>\n",
       "      <td>0.00</td>\n",
       "      <td>0.30</td>\n",
       "      <td>0.42</td>\n",
       "    </tr>\n",
       "    <tr>\n",
       "      <th>TEST#9</th>\n",
       "      <td>-0.43</td>\n",
       "      <td>-0.72</td>\n",
       "      <td>0.00</td>\n",
       "    </tr>\n",
       "    <tr>\n",
       "      <th>TEST#10</th>\n",
       "      <td>-0.52</td>\n",
       "      <td>-0.14</td>\n",
       "      <td>0.71</td>\n",
       "    </tr>\n",
       "  </tbody>\n",
       "</table>\n",
       "</div>"
      ],
      "text/plain": [
       "         IZM_1  IZM_2  IZM_3\n",
       "TEST#1    0.00   0.22  -0.31\n",
       "TEST#2    0.51   0.41   0.41\n",
       "TEST#3    0.00   0.00   0.00\n",
       "TEST#4   -0.83  -0.74  -0.41\n",
       "TEST#5    0.27  -0.68  -0.62\n",
       "TEST#6    0.00  -0.62  -0.76\n",
       "TEST#7    0.36   0.83   0.02\n",
       "TEST#8    0.00   0.30   0.42\n",
       "TEST#9   -0.43  -0.72   0.00\n",
       "TEST#10  -0.52  -0.14   0.71"
      ]
     },
     "execution_count": 14,
     "metadata": {},
     "output_type": "execute_result"
    }
   ],
   "source": [
    "df"
   ]
  },
  {
   "cell_type": "code",
   "execution_count": null,
   "id": "02138d62",
   "metadata": {},
   "outputs": [],
   "source": []
  },
  {
   "cell_type": "markdown",
   "id": "7902ca70",
   "metadata": {},
   "source": [
    "#### 2. Стратегия. \n",
    "#### Значения, которые меньше -1 приводим к значению -1\n",
    "#### Значения, которые больше 1 приводим к значению 1"
   ]
  },
  {
   "cell_type": "code",
   "execution_count": 17,
   "id": "ce67e39c",
   "metadata": {},
   "outputs": [
    {
     "data": {
      "text/html": [
       "<div>\n",
       "<style scoped>\n",
       "    .dataframe tbody tr th:only-of-type {\n",
       "        vertical-align: middle;\n",
       "    }\n",
       "\n",
       "    .dataframe tbody tr th {\n",
       "        vertical-align: top;\n",
       "    }\n",
       "\n",
       "    .dataframe thead th {\n",
       "        text-align: right;\n",
       "    }\n",
       "</style>\n",
       "<table border=\"1\" class=\"dataframe\">\n",
       "  <thead>\n",
       "    <tr style=\"text-align: right;\">\n",
       "      <th></th>\n",
       "      <th>IZM_1</th>\n",
       "      <th>IZM_2</th>\n",
       "      <th>IZM_3</th>\n",
       "    </tr>\n",
       "  </thead>\n",
       "  <tbody>\n",
       "    <tr>\n",
       "      <th>TEST#1</th>\n",
       "      <td>-1.63</td>\n",
       "      <td>0.22</td>\n",
       "      <td>-0.31</td>\n",
       "    </tr>\n",
       "    <tr>\n",
       "      <th>TEST#2</th>\n",
       "      <td>0.51</td>\n",
       "      <td>0.41</td>\n",
       "      <td>0.41</td>\n",
       "    </tr>\n",
       "    <tr>\n",
       "      <th>TEST#3</th>\n",
       "      <td>-1.33</td>\n",
       "      <td>-2.07</td>\n",
       "      <td>1.26</td>\n",
       "    </tr>\n",
       "    <tr>\n",
       "      <th>TEST#4</th>\n",
       "      <td>-0.83</td>\n",
       "      <td>-0.74</td>\n",
       "      <td>-0.41</td>\n",
       "    </tr>\n",
       "    <tr>\n",
       "      <th>TEST#5</th>\n",
       "      <td>0.27</td>\n",
       "      <td>-0.68</td>\n",
       "      <td>-0.62</td>\n",
       "    </tr>\n",
       "    <tr>\n",
       "      <th>TEST#6</th>\n",
       "      <td>1.28</td>\n",
       "      <td>-0.62</td>\n",
       "      <td>-0.76</td>\n",
       "    </tr>\n",
       "    <tr>\n",
       "      <th>TEST#7</th>\n",
       "      <td>0.36</td>\n",
       "      <td>0.83</td>\n",
       "      <td>0.02</td>\n",
       "    </tr>\n",
       "    <tr>\n",
       "      <th>TEST#8</th>\n",
       "      <td>2.01</td>\n",
       "      <td>0.30</td>\n",
       "      <td>0.42</td>\n",
       "    </tr>\n",
       "    <tr>\n",
       "      <th>TEST#9</th>\n",
       "      <td>-0.43</td>\n",
       "      <td>-0.72</td>\n",
       "      <td>-1.48</td>\n",
       "    </tr>\n",
       "    <tr>\n",
       "      <th>TEST#10</th>\n",
       "      <td>-0.52</td>\n",
       "      <td>-0.14</td>\n",
       "      <td>0.71</td>\n",
       "    </tr>\n",
       "  </tbody>\n",
       "</table>\n",
       "</div>"
      ],
      "text/plain": [
       "         IZM_1  IZM_2  IZM_3\n",
       "TEST#1   -1.63   0.22  -0.31\n",
       "TEST#2    0.51   0.41   0.41\n",
       "TEST#3   -1.33  -2.07   1.26\n",
       "TEST#4   -0.83  -0.74  -0.41\n",
       "TEST#5    0.27  -0.68  -0.62\n",
       "TEST#6    1.28  -0.62  -0.76\n",
       "TEST#7    0.36   0.83   0.02\n",
       "TEST#8    2.01   0.30   0.42\n",
       "TEST#9   -0.43  -0.72  -1.48\n",
       "TEST#10  -0.52  -0.14   0.71"
      ]
     },
     "execution_count": 17,
     "metadata": {},
     "output_type": "execute_result"
    }
   ],
   "source": [
    "df"
   ]
  },
  {
   "cell_type": "code",
   "execution_count": 18,
   "id": "456ab09f",
   "metadata": {},
   "outputs": [],
   "source": [
    "# сначала находим выбросы\n",
    "mask = df[np.abs(df) > 1]"
   ]
  },
  {
   "cell_type": "code",
   "execution_count": 19,
   "id": "0891654e",
   "metadata": {},
   "outputs": [
    {
     "data": {
      "text/html": [
       "<div>\n",
       "<style scoped>\n",
       "    .dataframe tbody tr th:only-of-type {\n",
       "        vertical-align: middle;\n",
       "    }\n",
       "\n",
       "    .dataframe tbody tr th {\n",
       "        vertical-align: top;\n",
       "    }\n",
       "\n",
       "    .dataframe thead th {\n",
       "        text-align: right;\n",
       "    }\n",
       "</style>\n",
       "<table border=\"1\" class=\"dataframe\">\n",
       "  <thead>\n",
       "    <tr style=\"text-align: right;\">\n",
       "      <th></th>\n",
       "      <th>IZM_1</th>\n",
       "      <th>IZM_2</th>\n",
       "      <th>IZM_3</th>\n",
       "    </tr>\n",
       "  </thead>\n",
       "  <tbody>\n",
       "    <tr>\n",
       "      <th>TEST#1</th>\n",
       "      <td>-1.63</td>\n",
       "      <td>NaN</td>\n",
       "      <td>NaN</td>\n",
       "    </tr>\n",
       "    <tr>\n",
       "      <th>TEST#2</th>\n",
       "      <td>NaN</td>\n",
       "      <td>NaN</td>\n",
       "      <td>NaN</td>\n",
       "    </tr>\n",
       "    <tr>\n",
       "      <th>TEST#3</th>\n",
       "      <td>-1.33</td>\n",
       "      <td>-2.07</td>\n",
       "      <td>1.26</td>\n",
       "    </tr>\n",
       "    <tr>\n",
       "      <th>TEST#4</th>\n",
       "      <td>NaN</td>\n",
       "      <td>NaN</td>\n",
       "      <td>NaN</td>\n",
       "    </tr>\n",
       "    <tr>\n",
       "      <th>TEST#5</th>\n",
       "      <td>NaN</td>\n",
       "      <td>NaN</td>\n",
       "      <td>NaN</td>\n",
       "    </tr>\n",
       "    <tr>\n",
       "      <th>TEST#6</th>\n",
       "      <td>1.28</td>\n",
       "      <td>NaN</td>\n",
       "      <td>NaN</td>\n",
       "    </tr>\n",
       "    <tr>\n",
       "      <th>TEST#7</th>\n",
       "      <td>NaN</td>\n",
       "      <td>NaN</td>\n",
       "      <td>NaN</td>\n",
       "    </tr>\n",
       "    <tr>\n",
       "      <th>TEST#8</th>\n",
       "      <td>2.01</td>\n",
       "      <td>NaN</td>\n",
       "      <td>NaN</td>\n",
       "    </tr>\n",
       "    <tr>\n",
       "      <th>TEST#9</th>\n",
       "      <td>NaN</td>\n",
       "      <td>NaN</td>\n",
       "      <td>-1.48</td>\n",
       "    </tr>\n",
       "    <tr>\n",
       "      <th>TEST#10</th>\n",
       "      <td>NaN</td>\n",
       "      <td>NaN</td>\n",
       "      <td>NaN</td>\n",
       "    </tr>\n",
       "  </tbody>\n",
       "</table>\n",
       "</div>"
      ],
      "text/plain": [
       "         IZM_1  IZM_2  IZM_3\n",
       "TEST#1   -1.63    NaN    NaN\n",
       "TEST#2     NaN    NaN    NaN\n",
       "TEST#3   -1.33  -2.07   1.26\n",
       "TEST#4     NaN    NaN    NaN\n",
       "TEST#5     NaN    NaN    NaN\n",
       "TEST#6    1.28    NaN    NaN\n",
       "TEST#7     NaN    NaN    NaN\n",
       "TEST#8    2.01    NaN    NaN\n",
       "TEST#9     NaN    NaN  -1.48\n",
       "TEST#10    NaN    NaN    NaN"
      ]
     },
     "execution_count": 19,
     "metadata": {},
     "output_type": "execute_result"
    }
   ],
   "source": [
    "mask"
   ]
  },
  {
   "cell_type": "code",
   "execution_count": 21,
   "id": "879c1ef5",
   "metadata": {},
   "outputs": [
    {
     "data": {
      "text/html": [
       "<div>\n",
       "<style scoped>\n",
       "    .dataframe tbody tr th:only-of-type {\n",
       "        vertical-align: middle;\n",
       "    }\n",
       "\n",
       "    .dataframe tbody tr th {\n",
       "        vertical-align: top;\n",
       "    }\n",
       "\n",
       "    .dataframe thead th {\n",
       "        text-align: right;\n",
       "    }\n",
       "</style>\n",
       "<table border=\"1\" class=\"dataframe\">\n",
       "  <thead>\n",
       "    <tr style=\"text-align: right;\">\n",
       "      <th></th>\n",
       "      <th>IZM_1</th>\n",
       "      <th>IZM_2</th>\n",
       "      <th>IZM_3</th>\n",
       "    </tr>\n",
       "  </thead>\n",
       "  <tbody>\n",
       "    <tr>\n",
       "      <th>TEST#1</th>\n",
       "      <td>-1.0</td>\n",
       "      <td>1.0</td>\n",
       "      <td>-1.0</td>\n",
       "    </tr>\n",
       "    <tr>\n",
       "      <th>TEST#2</th>\n",
       "      <td>1.0</td>\n",
       "      <td>1.0</td>\n",
       "      <td>1.0</td>\n",
       "    </tr>\n",
       "    <tr>\n",
       "      <th>TEST#3</th>\n",
       "      <td>-1.0</td>\n",
       "      <td>-1.0</td>\n",
       "      <td>1.0</td>\n",
       "    </tr>\n",
       "    <tr>\n",
       "      <th>TEST#4</th>\n",
       "      <td>-1.0</td>\n",
       "      <td>-1.0</td>\n",
       "      <td>-1.0</td>\n",
       "    </tr>\n",
       "    <tr>\n",
       "      <th>TEST#5</th>\n",
       "      <td>1.0</td>\n",
       "      <td>-1.0</td>\n",
       "      <td>-1.0</td>\n",
       "    </tr>\n",
       "    <tr>\n",
       "      <th>TEST#6</th>\n",
       "      <td>1.0</td>\n",
       "      <td>-1.0</td>\n",
       "      <td>-1.0</td>\n",
       "    </tr>\n",
       "    <tr>\n",
       "      <th>TEST#7</th>\n",
       "      <td>1.0</td>\n",
       "      <td>1.0</td>\n",
       "      <td>1.0</td>\n",
       "    </tr>\n",
       "    <tr>\n",
       "      <th>TEST#8</th>\n",
       "      <td>1.0</td>\n",
       "      <td>1.0</td>\n",
       "      <td>1.0</td>\n",
       "    </tr>\n",
       "    <tr>\n",
       "      <th>TEST#9</th>\n",
       "      <td>-1.0</td>\n",
       "      <td>-1.0</td>\n",
       "      <td>-1.0</td>\n",
       "    </tr>\n",
       "    <tr>\n",
       "      <th>TEST#10</th>\n",
       "      <td>-1.0</td>\n",
       "      <td>-1.0</td>\n",
       "      <td>1.0</td>\n",
       "    </tr>\n",
       "  </tbody>\n",
       "</table>\n",
       "</div>"
      ],
      "text/plain": [
       "         IZM_1  IZM_2  IZM_3\n",
       "TEST#1    -1.0    1.0   -1.0\n",
       "TEST#2     1.0    1.0    1.0\n",
       "TEST#3    -1.0   -1.0    1.0\n",
       "TEST#4    -1.0   -1.0   -1.0\n",
       "TEST#5     1.0   -1.0   -1.0\n",
       "TEST#6     1.0   -1.0   -1.0\n",
       "TEST#7     1.0    1.0    1.0\n",
       "TEST#8     1.0    1.0    1.0\n",
       "TEST#9    -1.0   -1.0   -1.0\n",
       "TEST#10   -1.0   -1.0    1.0"
      ]
     },
     "execution_count": 21,
     "metadata": {},
     "output_type": "execute_result"
    }
   ],
   "source": [
    "# функция sign - определяет знака каждого элемента в датафрейме:\n",
    "\n",
    "np.sign(df)"
   ]
  },
  {
   "cell_type": "code",
   "execution_count": null,
   "id": "d5703ee9",
   "metadata": {},
   "outputs": [],
   "source": [
    "# для каждого значения True по маске можно вывести с помощью sign(df) - единицу или минус единицу"
   ]
  },
  {
   "cell_type": "code",
   "execution_count": 24,
   "id": "786b2728",
   "metadata": {},
   "outputs": [],
   "source": [
    "df[np.abs(df) >1] = np.sign(df)"
   ]
  },
  {
   "cell_type": "code",
   "execution_count": 25,
   "id": "ab6a0a46",
   "metadata": {},
   "outputs": [
    {
     "data": {
      "text/html": [
       "<div>\n",
       "<style scoped>\n",
       "    .dataframe tbody tr th:only-of-type {\n",
       "        vertical-align: middle;\n",
       "    }\n",
       "\n",
       "    .dataframe tbody tr th {\n",
       "        vertical-align: top;\n",
       "    }\n",
       "\n",
       "    .dataframe thead th {\n",
       "        text-align: right;\n",
       "    }\n",
       "</style>\n",
       "<table border=\"1\" class=\"dataframe\">\n",
       "  <thead>\n",
       "    <tr style=\"text-align: right;\">\n",
       "      <th></th>\n",
       "      <th>IZM_1</th>\n",
       "      <th>IZM_2</th>\n",
       "      <th>IZM_3</th>\n",
       "    </tr>\n",
       "  </thead>\n",
       "  <tbody>\n",
       "    <tr>\n",
       "      <th>TEST#1</th>\n",
       "      <td>-1.00</td>\n",
       "      <td>0.22</td>\n",
       "      <td>-0.31</td>\n",
       "    </tr>\n",
       "    <tr>\n",
       "      <th>TEST#2</th>\n",
       "      <td>0.51</td>\n",
       "      <td>0.41</td>\n",
       "      <td>0.41</td>\n",
       "    </tr>\n",
       "    <tr>\n",
       "      <th>TEST#3</th>\n",
       "      <td>-1.00</td>\n",
       "      <td>-1.00</td>\n",
       "      <td>1.00</td>\n",
       "    </tr>\n",
       "    <tr>\n",
       "      <th>TEST#4</th>\n",
       "      <td>-0.83</td>\n",
       "      <td>-0.74</td>\n",
       "      <td>-0.41</td>\n",
       "    </tr>\n",
       "    <tr>\n",
       "      <th>TEST#5</th>\n",
       "      <td>0.27</td>\n",
       "      <td>-0.68</td>\n",
       "      <td>-0.62</td>\n",
       "    </tr>\n",
       "    <tr>\n",
       "      <th>TEST#6</th>\n",
       "      <td>1.00</td>\n",
       "      <td>-0.62</td>\n",
       "      <td>-0.76</td>\n",
       "    </tr>\n",
       "    <tr>\n",
       "      <th>TEST#7</th>\n",
       "      <td>0.36</td>\n",
       "      <td>0.83</td>\n",
       "      <td>0.02</td>\n",
       "    </tr>\n",
       "    <tr>\n",
       "      <th>TEST#8</th>\n",
       "      <td>1.00</td>\n",
       "      <td>0.30</td>\n",
       "      <td>0.42</td>\n",
       "    </tr>\n",
       "    <tr>\n",
       "      <th>TEST#9</th>\n",
       "      <td>-0.43</td>\n",
       "      <td>-0.72</td>\n",
       "      <td>-1.00</td>\n",
       "    </tr>\n",
       "    <tr>\n",
       "      <th>TEST#10</th>\n",
       "      <td>-0.52</td>\n",
       "      <td>-0.14</td>\n",
       "      <td>0.71</td>\n",
       "    </tr>\n",
       "  </tbody>\n",
       "</table>\n",
       "</div>"
      ],
      "text/plain": [
       "         IZM_1  IZM_2  IZM_3\n",
       "TEST#1   -1.00   0.22  -0.31\n",
       "TEST#2    0.51   0.41   0.41\n",
       "TEST#3   -1.00  -1.00   1.00\n",
       "TEST#4   -0.83  -0.74  -0.41\n",
       "TEST#5    0.27  -0.68  -0.62\n",
       "TEST#6    1.00  -0.62  -0.76\n",
       "TEST#7    0.36   0.83   0.02\n",
       "TEST#8    1.00   0.30   0.42\n",
       "TEST#9   -0.43  -0.72  -1.00\n",
       "TEST#10  -0.52  -0.14   0.71"
      ]
     },
     "execution_count": 25,
     "metadata": {},
     "output_type": "execute_result"
    }
   ],
   "source": [
    "df"
   ]
  },
  {
   "cell_type": "code",
   "execution_count": 26,
   "id": "110a2e58",
   "metadata": {},
   "outputs": [
    {
     "data": {
      "text/html": [
       "<div>\n",
       "<style scoped>\n",
       "    .dataframe tbody tr th:only-of-type {\n",
       "        vertical-align: middle;\n",
       "    }\n",
       "\n",
       "    .dataframe tbody tr th {\n",
       "        vertical-align: top;\n",
       "    }\n",
       "\n",
       "    .dataframe thead th {\n",
       "        text-align: right;\n",
       "    }\n",
       "</style>\n",
       "<table border=\"1\" class=\"dataframe\">\n",
       "  <thead>\n",
       "    <tr style=\"text-align: right;\">\n",
       "      <th></th>\n",
       "      <th>IZM_1</th>\n",
       "      <th>IZM_2</th>\n",
       "      <th>IZM_3</th>\n",
       "    </tr>\n",
       "  </thead>\n",
       "  <tbody>\n",
       "    <tr>\n",
       "      <th>count</th>\n",
       "      <td>10.000000</td>\n",
       "      <td>10.000000</td>\n",
       "      <td>10.000000</td>\n",
       "    </tr>\n",
       "    <tr>\n",
       "      <th>mean</th>\n",
       "      <td>-0.064000</td>\n",
       "      <td>-0.214000</td>\n",
       "      <td>-0.054000</td>\n",
       "    </tr>\n",
       "    <tr>\n",
       "      <th>std</th>\n",
       "      <td>0.786401</td>\n",
       "      <td>0.620917</td>\n",
       "      <td>0.670492</td>\n",
       "    </tr>\n",
       "    <tr>\n",
       "      <th>min</th>\n",
       "      <td>-1.000000</td>\n",
       "      <td>-1.000000</td>\n",
       "      <td>-1.000000</td>\n",
       "    </tr>\n",
       "    <tr>\n",
       "      <th>25%</th>\n",
       "      <td>-0.752500</td>\n",
       "      <td>-0.710000</td>\n",
       "      <td>-0.567500</td>\n",
       "    </tr>\n",
       "    <tr>\n",
       "      <th>50%</th>\n",
       "      <td>-0.080000</td>\n",
       "      <td>-0.380000</td>\n",
       "      <td>-0.145000</td>\n",
       "    </tr>\n",
       "    <tr>\n",
       "      <th>75%</th>\n",
       "      <td>0.472500</td>\n",
       "      <td>0.280000</td>\n",
       "      <td>0.417500</td>\n",
       "    </tr>\n",
       "    <tr>\n",
       "      <th>max</th>\n",
       "      <td>1.000000</td>\n",
       "      <td>0.830000</td>\n",
       "      <td>1.000000</td>\n",
       "    </tr>\n",
       "  </tbody>\n",
       "</table>\n",
       "</div>"
      ],
      "text/plain": [
       "           IZM_1      IZM_2      IZM_3\n",
       "count  10.000000  10.000000  10.000000\n",
       "mean   -0.064000  -0.214000  -0.054000\n",
       "std     0.786401   0.620917   0.670492\n",
       "min    -1.000000  -1.000000  -1.000000\n",
       "25%    -0.752500  -0.710000  -0.567500\n",
       "50%    -0.080000  -0.380000  -0.145000\n",
       "75%     0.472500   0.280000   0.417500\n",
       "max     1.000000   0.830000   1.000000"
      ]
     },
     "execution_count": 26,
     "metadata": {},
     "output_type": "execute_result"
    }
   ],
   "source": [
    "# после этого проверим Минимальное и Максимально значение в датафрейме:\n",
    "df.describe()"
   ]
  },
  {
   "cell_type": "code",
   "execution_count": null,
   "id": "be735a4d",
   "metadata": {},
   "outputs": [],
   "source": [
    "## Кстати лучше и более кастомизированнее для таких задач подойдет функция df.clip()\n",
    "\n",
    "https://pandas.pydata.org/pandas-docs/stable/reference/api/pandas.DataFrame.clip.html"
   ]
  },
  {
   "cell_type": "code",
   "execution_count": 38,
   "id": "785dcb1f",
   "metadata": {},
   "outputs": [],
   "source": []
  },
  {
   "cell_type": "code",
   "execution_count": null,
   "id": "863475a5",
   "metadata": {},
   "outputs": [],
   "source": []
  },
  {
   "cell_type": "code",
   "execution_count": null,
   "id": "4886b179",
   "metadata": {},
   "outputs": [],
   "source": []
  },
  {
   "cell_type": "code",
   "execution_count": null,
   "id": "95d71638",
   "metadata": {},
   "outputs": [],
   "source": []
  },
  {
   "cell_type": "code",
   "execution_count": null,
   "id": "c8b92cbd",
   "metadata": {},
   "outputs": [],
   "source": []
  },
  {
   "cell_type": "code",
   "execution_count": 6,
   "id": "cacb793b",
   "metadata": {},
   "outputs": [],
   "source": [
    "list = [i for i in range(30)]"
   ]
  },
  {
   "cell_type": "code",
   "execution_count": 7,
   "id": "8ba363c5",
   "metadata": {},
   "outputs": [],
   "source": [
    "array = np.array(list).reshape(10,3)"
   ]
  },
  {
   "cell_type": "code",
   "execution_count": 8,
   "id": "56376bd9",
   "metadata": {},
   "outputs": [],
   "source": [
    "df = pd.DataFrame(array)"
   ]
  },
  {
   "cell_type": "code",
   "execution_count": 9,
   "id": "1d47f392",
   "metadata": {},
   "outputs": [
    {
     "data": {
      "text/html": [
       "<div>\n",
       "<style scoped>\n",
       "    .dataframe tbody tr th:only-of-type {\n",
       "        vertical-align: middle;\n",
       "    }\n",
       "\n",
       "    .dataframe tbody tr th {\n",
       "        vertical-align: top;\n",
       "    }\n",
       "\n",
       "    .dataframe thead th {\n",
       "        text-align: right;\n",
       "    }\n",
       "</style>\n",
       "<table border=\"1\" class=\"dataframe\">\n",
       "  <thead>\n",
       "    <tr style=\"text-align: right;\">\n",
       "      <th></th>\n",
       "      <th>0</th>\n",
       "      <th>1</th>\n",
       "      <th>2</th>\n",
       "    </tr>\n",
       "  </thead>\n",
       "  <tbody>\n",
       "    <tr>\n",
       "      <th>0</th>\n",
       "      <td>0</td>\n",
       "      <td>1</td>\n",
       "      <td>2</td>\n",
       "    </tr>\n",
       "    <tr>\n",
       "      <th>1</th>\n",
       "      <td>3</td>\n",
       "      <td>4</td>\n",
       "      <td>5</td>\n",
       "    </tr>\n",
       "    <tr>\n",
       "      <th>2</th>\n",
       "      <td>6</td>\n",
       "      <td>7</td>\n",
       "      <td>8</td>\n",
       "    </tr>\n",
       "    <tr>\n",
       "      <th>3</th>\n",
       "      <td>9</td>\n",
       "      <td>10</td>\n",
       "      <td>11</td>\n",
       "    </tr>\n",
       "    <tr>\n",
       "      <th>4</th>\n",
       "      <td>12</td>\n",
       "      <td>13</td>\n",
       "      <td>14</td>\n",
       "    </tr>\n",
       "    <tr>\n",
       "      <th>5</th>\n",
       "      <td>15</td>\n",
       "      <td>16</td>\n",
       "      <td>17</td>\n",
       "    </tr>\n",
       "    <tr>\n",
       "      <th>6</th>\n",
       "      <td>18</td>\n",
       "      <td>19</td>\n",
       "      <td>20</td>\n",
       "    </tr>\n",
       "    <tr>\n",
       "      <th>7</th>\n",
       "      <td>21</td>\n",
       "      <td>22</td>\n",
       "      <td>23</td>\n",
       "    </tr>\n",
       "    <tr>\n",
       "      <th>8</th>\n",
       "      <td>24</td>\n",
       "      <td>25</td>\n",
       "      <td>26</td>\n",
       "    </tr>\n",
       "    <tr>\n",
       "      <th>9</th>\n",
       "      <td>27</td>\n",
       "      <td>28</td>\n",
       "      <td>29</td>\n",
       "    </tr>\n",
       "  </tbody>\n",
       "</table>\n",
       "</div>"
      ],
      "text/plain": [
       "    0   1   2\n",
       "0   0   1   2\n",
       "1   3   4   5\n",
       "2   6   7   8\n",
       "3   9  10  11\n",
       "4  12  13  14\n",
       "5  15  16  17\n",
       "6  18  19  20\n",
       "7  21  22  23\n",
       "8  24  25  26\n",
       "9  27  28  29"
      ]
     },
     "execution_count": 9,
     "metadata": {},
     "output_type": "execute_result"
    }
   ],
   "source": [
    "df"
   ]
  },
  {
   "cell_type": "code",
   "execution_count": 13,
   "id": "d31cc0f4",
   "metadata": {},
   "outputs": [],
   "source": [
    "from numpy import random"
   ]
  },
  {
   "cell_type": "code",
   "execution_count": 22,
   "id": "1b97e1eb",
   "metadata": {},
   "outputs": [],
   "source": [
    "df = pd.DataFrame(random.permutation(df))"
   ]
  },
  {
   "cell_type": "code",
   "execution_count": 19,
   "id": "61f08287",
   "metadata": {},
   "outputs": [
    {
     "data": {
      "text/html": [
       "<div>\n",
       "<style scoped>\n",
       "    .dataframe tbody tr th:only-of-type {\n",
       "        vertical-align: middle;\n",
       "    }\n",
       "\n",
       "    .dataframe tbody tr th {\n",
       "        vertical-align: top;\n",
       "    }\n",
       "\n",
       "    .dataframe thead th {\n",
       "        text-align: right;\n",
       "    }\n",
       "</style>\n",
       "<table border=\"1\" class=\"dataframe\">\n",
       "  <thead>\n",
       "    <tr style=\"text-align: right;\">\n",
       "      <th></th>\n",
       "      <th>0</th>\n",
       "      <th>1</th>\n",
       "      <th>2</th>\n",
       "    </tr>\n",
       "  </thead>\n",
       "  <tbody>\n",
       "    <tr>\n",
       "      <th>0</th>\n",
       "      <td>6</td>\n",
       "      <td>7</td>\n",
       "      <td>8</td>\n",
       "    </tr>\n",
       "    <tr>\n",
       "      <th>1</th>\n",
       "      <td>3</td>\n",
       "      <td>4</td>\n",
       "      <td>5</td>\n",
       "    </tr>\n",
       "    <tr>\n",
       "      <th>2</th>\n",
       "      <td>15</td>\n",
       "      <td>16</td>\n",
       "      <td>17</td>\n",
       "    </tr>\n",
       "    <tr>\n",
       "      <th>3</th>\n",
       "      <td>27</td>\n",
       "      <td>28</td>\n",
       "      <td>29</td>\n",
       "    </tr>\n",
       "    <tr>\n",
       "      <th>4</th>\n",
       "      <td>21</td>\n",
       "      <td>22</td>\n",
       "      <td>23</td>\n",
       "    </tr>\n",
       "    <tr>\n",
       "      <th>5</th>\n",
       "      <td>9</td>\n",
       "      <td>10</td>\n",
       "      <td>11</td>\n",
       "    </tr>\n",
       "    <tr>\n",
       "      <th>6</th>\n",
       "      <td>24</td>\n",
       "      <td>25</td>\n",
       "      <td>26</td>\n",
       "    </tr>\n",
       "    <tr>\n",
       "      <th>7</th>\n",
       "      <td>12</td>\n",
       "      <td>13</td>\n",
       "      <td>14</td>\n",
       "    </tr>\n",
       "    <tr>\n",
       "      <th>8</th>\n",
       "      <td>0</td>\n",
       "      <td>1</td>\n",
       "      <td>2</td>\n",
       "    </tr>\n",
       "    <tr>\n",
       "      <th>9</th>\n",
       "      <td>18</td>\n",
       "      <td>19</td>\n",
       "      <td>20</td>\n",
       "    </tr>\n",
       "  </tbody>\n",
       "</table>\n",
       "</div>"
      ],
      "text/plain": [
       "    0   1   2\n",
       "0   6   7   8\n",
       "1   3   4   5\n",
       "2  15  16  17\n",
       "3  27  28  29\n",
       "4  21  22  23\n",
       "5   9  10  11\n",
       "6  24  25  26\n",
       "7  12  13  14\n",
       "8   0   1   2\n",
       "9  18  19  20"
      ]
     },
     "execution_count": 19,
     "metadata": {},
     "output_type": "execute_result"
    }
   ],
   "source": [
    "df"
   ]
  },
  {
   "cell_type": "code",
   "execution_count": 27,
   "id": "2398d08f",
   "metadata": {},
   "outputs": [
    {
     "data": {
      "text/html": [
       "<div>\n",
       "<style scoped>\n",
       "    .dataframe tbody tr th:only-of-type {\n",
       "        vertical-align: middle;\n",
       "    }\n",
       "\n",
       "    .dataframe tbody tr th {\n",
       "        vertical-align: top;\n",
       "    }\n",
       "\n",
       "    .dataframe thead th {\n",
       "        text-align: right;\n",
       "    }\n",
       "</style>\n",
       "<table border=\"1\" class=\"dataframe\">\n",
       "  <thead>\n",
       "    <tr style=\"text-align: right;\">\n",
       "      <th></th>\n",
       "      <th>0</th>\n",
       "      <th>1</th>\n",
       "      <th>2</th>\n",
       "    </tr>\n",
       "  </thead>\n",
       "  <tbody>\n",
       "    <tr>\n",
       "      <th>5</th>\n",
       "      <td>27</td>\n",
       "      <td>28</td>\n",
       "      <td>29</td>\n",
       "    </tr>\n",
       "    <tr>\n",
       "      <th>3</th>\n",
       "      <td>24</td>\n",
       "      <td>25</td>\n",
       "      <td>26</td>\n",
       "    </tr>\n",
       "    <tr>\n",
       "      <th>1</th>\n",
       "      <td>6</td>\n",
       "      <td>7</td>\n",
       "      <td>8</td>\n",
       "    </tr>\n",
       "  </tbody>\n",
       "</table>\n",
       "</div>"
      ],
      "text/plain": [
       "    0   1   2\n",
       "5  27  28  29\n",
       "3  24  25  26\n",
       "1   6   7   8"
      ]
     },
     "execution_count": 27,
     "metadata": {},
     "output_type": "execute_result"
    }
   ],
   "source": [
    "# перемешать можно так - передать в df.iloc[[]] - рандомный list - d соотвтствии с ним расположатся и строки\n",
    "df.iloc[[5,3,1]]"
   ]
  },
  {
   "cell_type": "code",
   "execution_count": 29,
   "id": "9cdf2f7e",
   "metadata": {},
   "outputs": [
    {
     "data": {
      "text/html": [
       "<div>\n",
       "<style scoped>\n",
       "    .dataframe tbody tr th:only-of-type {\n",
       "        vertical-align: middle;\n",
       "    }\n",
       "\n",
       "    .dataframe tbody tr th {\n",
       "        vertical-align: top;\n",
       "    }\n",
       "\n",
       "    .dataframe thead th {\n",
       "        text-align: right;\n",
       "    }\n",
       "</style>\n",
       "<table border=\"1\" class=\"dataframe\">\n",
       "  <thead>\n",
       "    <tr style=\"text-align: right;\">\n",
       "      <th></th>\n",
       "      <th>0</th>\n",
       "      <th>1</th>\n",
       "      <th>2</th>\n",
       "    </tr>\n",
       "  </thead>\n",
       "  <tbody>\n",
       "    <tr>\n",
       "      <th>5</th>\n",
       "      <td>27</td>\n",
       "      <td>28</td>\n",
       "      <td>29</td>\n",
       "    </tr>\n",
       "    <tr>\n",
       "      <th>3</th>\n",
       "      <td>24</td>\n",
       "      <td>25</td>\n",
       "      <td>26</td>\n",
       "    </tr>\n",
       "    <tr>\n",
       "      <th>1</th>\n",
       "      <td>6</td>\n",
       "      <td>7</td>\n",
       "      <td>8</td>\n",
       "    </tr>\n",
       "  </tbody>\n",
       "</table>\n",
       "</div>"
      ],
      "text/plain": [
       "    0   1   2\n",
       "5  27  28  29\n",
       "3  24  25  26\n",
       "1   6   7   8"
      ]
     },
     "execution_count": 29,
     "metadata": {},
     "output_type": "execute_result"
    }
   ],
   "source": [
    "# аналог:\n",
    "df.take([5, 3, 1])"
   ]
  },
  {
   "cell_type": "code",
   "execution_count": 31,
   "id": "d89b30ba",
   "metadata": {},
   "outputs": [
    {
     "data": {
      "text/html": [
       "<div>\n",
       "<style scoped>\n",
       "    .dataframe tbody tr th:only-of-type {\n",
       "        vertical-align: middle;\n",
       "    }\n",
       "\n",
       "    .dataframe tbody tr th {\n",
       "        vertical-align: top;\n",
       "    }\n",
       "\n",
       "    .dataframe thead th {\n",
       "        text-align: right;\n",
       "    }\n",
       "</style>\n",
       "<table border=\"1\" class=\"dataframe\">\n",
       "  <thead>\n",
       "    <tr style=\"text-align: right;\">\n",
       "      <th></th>\n",
       "      <th>2</th>\n",
       "      <th>0</th>\n",
       "      <th>1</th>\n",
       "    </tr>\n",
       "  </thead>\n",
       "  <tbody>\n",
       "    <tr>\n",
       "      <th>0</th>\n",
       "      <td>14</td>\n",
       "      <td>12</td>\n",
       "      <td>13</td>\n",
       "    </tr>\n",
       "    <tr>\n",
       "      <th>1</th>\n",
       "      <td>8</td>\n",
       "      <td>6</td>\n",
       "      <td>7</td>\n",
       "    </tr>\n",
       "    <tr>\n",
       "      <th>2</th>\n",
       "      <td>11</td>\n",
       "      <td>9</td>\n",
       "      <td>10</td>\n",
       "    </tr>\n",
       "    <tr>\n",
       "      <th>3</th>\n",
       "      <td>26</td>\n",
       "      <td>24</td>\n",
       "      <td>25</td>\n",
       "    </tr>\n",
       "    <tr>\n",
       "      <th>4</th>\n",
       "      <td>5</td>\n",
       "      <td>3</td>\n",
       "      <td>4</td>\n",
       "    </tr>\n",
       "    <tr>\n",
       "      <th>5</th>\n",
       "      <td>29</td>\n",
       "      <td>27</td>\n",
       "      <td>28</td>\n",
       "    </tr>\n",
       "    <tr>\n",
       "      <th>6</th>\n",
       "      <td>20</td>\n",
       "      <td>18</td>\n",
       "      <td>19</td>\n",
       "    </tr>\n",
       "    <tr>\n",
       "      <th>7</th>\n",
       "      <td>2</td>\n",
       "      <td>0</td>\n",
       "      <td>1</td>\n",
       "    </tr>\n",
       "    <tr>\n",
       "      <th>8</th>\n",
       "      <td>23</td>\n",
       "      <td>21</td>\n",
       "      <td>22</td>\n",
       "    </tr>\n",
       "    <tr>\n",
       "      <th>9</th>\n",
       "      <td>17</td>\n",
       "      <td>15</td>\n",
       "      <td>16</td>\n",
       "    </tr>\n",
       "  </tbody>\n",
       "</table>\n",
       "</div>"
      ],
      "text/plain": [
       "    2   0   1\n",
       "0  14  12  13\n",
       "1   8   6   7\n",
       "2  11   9  10\n",
       "3  26  24  25\n",
       "4   5   3   4\n",
       "5  29  27  28\n",
       "6  20  18  19\n",
       "7   2   0   1\n",
       "8  23  21  22\n",
       "9  17  15  16"
      ]
     },
     "execution_count": 31,
     "metadata": {},
     "output_type": "execute_result"
    }
   ],
   "source": [
    "df.take([2, 0, 1], axis=1)"
   ]
  },
  {
   "cell_type": "code",
   "execution_count": null,
   "id": "a878cc7c",
   "metadata": {},
   "outputs": [],
   "source": [
    "# Чтобы взять несоклько строк случайным образом\n",
    "\n",
    "# применяем df.sample(n)\n",
    "\n",
    "# где n - число строк, которые нужно взять случайным образом"
   ]
  },
  {
   "cell_type": "code",
   "execution_count": 32,
   "id": "18c63695",
   "metadata": {},
   "outputs": [
    {
     "data": {
      "text/html": [
       "<div>\n",
       "<style scoped>\n",
       "    .dataframe tbody tr th:only-of-type {\n",
       "        vertical-align: middle;\n",
       "    }\n",
       "\n",
       "    .dataframe tbody tr th {\n",
       "        vertical-align: top;\n",
       "    }\n",
       "\n",
       "    .dataframe thead th {\n",
       "        text-align: right;\n",
       "    }\n",
       "</style>\n",
       "<table border=\"1\" class=\"dataframe\">\n",
       "  <thead>\n",
       "    <tr style=\"text-align: right;\">\n",
       "      <th></th>\n",
       "      <th>0</th>\n",
       "      <th>1</th>\n",
       "      <th>2</th>\n",
       "    </tr>\n",
       "  </thead>\n",
       "  <tbody>\n",
       "    <tr>\n",
       "      <th>0</th>\n",
       "      <td>12</td>\n",
       "      <td>13</td>\n",
       "      <td>14</td>\n",
       "    </tr>\n",
       "    <tr>\n",
       "      <th>2</th>\n",
       "      <td>9</td>\n",
       "      <td>10</td>\n",
       "      <td>11</td>\n",
       "    </tr>\n",
       "    <tr>\n",
       "      <th>6</th>\n",
       "      <td>18</td>\n",
       "      <td>19</td>\n",
       "      <td>20</td>\n",
       "    </tr>\n",
       "    <tr>\n",
       "      <th>1</th>\n",
       "      <td>6</td>\n",
       "      <td>7</td>\n",
       "      <td>8</td>\n",
       "    </tr>\n",
       "    <tr>\n",
       "      <th>5</th>\n",
       "      <td>27</td>\n",
       "      <td>28</td>\n",
       "      <td>29</td>\n",
       "    </tr>\n",
       "  </tbody>\n",
       "</table>\n",
       "</div>"
      ],
      "text/plain": [
       "    0   1   2\n",
       "0  12  13  14\n",
       "2   9  10  11\n",
       "6  18  19  20\n",
       "1   6   7   8\n",
       "5  27  28  29"
      ]
     },
     "execution_count": 32,
     "metadata": {},
     "output_type": "execute_result"
    }
   ],
   "source": [
    "# на практике это потребуется при исследовании набора данных или при проведении эксперимента. \n",
    "# Иногда при проведении эксперимента может потребоваться взять n-ое количество записей случайным образом. \n",
    "# Когда ты берешь первые n или последние n или n в середине, то это уже не случайная выборка.\n",
    "\n",
    "df.sample(5)"
   ]
  },
  {
   "cell_type": "code",
   "execution_count": 33,
   "id": "18f7f4f3",
   "metadata": {},
   "outputs": [
    {
     "data": {
      "text/html": [
       "<div>\n",
       "<style scoped>\n",
       "    .dataframe tbody tr th:only-of-type {\n",
       "        vertical-align: middle;\n",
       "    }\n",
       "\n",
       "    .dataframe tbody tr th {\n",
       "        vertical-align: top;\n",
       "    }\n",
       "\n",
       "    .dataframe thead th {\n",
       "        text-align: right;\n",
       "    }\n",
       "</style>\n",
       "<table border=\"1\" class=\"dataframe\">\n",
       "  <thead>\n",
       "    <tr style=\"text-align: right;\">\n",
       "      <th></th>\n",
       "      <th>0</th>\n",
       "      <th>1</th>\n",
       "      <th>2</th>\n",
       "    </tr>\n",
       "  </thead>\n",
       "  <tbody>\n",
       "    <tr>\n",
       "      <th>8</th>\n",
       "      <td>21</td>\n",
       "      <td>22</td>\n",
       "      <td>23</td>\n",
       "    </tr>\n",
       "    <tr>\n",
       "      <th>6</th>\n",
       "      <td>18</td>\n",
       "      <td>19</td>\n",
       "      <td>20</td>\n",
       "    </tr>\n",
       "    <tr>\n",
       "      <th>6</th>\n",
       "      <td>18</td>\n",
       "      <td>19</td>\n",
       "      <td>20</td>\n",
       "    </tr>\n",
       "    <tr>\n",
       "      <th>3</th>\n",
       "      <td>24</td>\n",
       "      <td>25</td>\n",
       "      <td>26</td>\n",
       "    </tr>\n",
       "    <tr>\n",
       "      <th>6</th>\n",
       "      <td>18</td>\n",
       "      <td>19</td>\n",
       "      <td>20</td>\n",
       "    </tr>\n",
       "  </tbody>\n",
       "</table>\n",
       "</div>"
      ],
      "text/plain": [
       "    0   1   2\n",
       "8  21  22  23\n",
       "6  18  19  20\n",
       "6  18  19  20\n",
       "3  24  25  26\n",
       "6  18  19  20"
      ]
     },
     "execution_count": 33,
     "metadata": {},
     "output_type": "execute_result"
    }
   ],
   "source": [
    "# чтобы строчки в выборке могли повторятся:\n",
    "\n",
    "df.sample(5, replace = True)"
   ]
  },
  {
   "cell_type": "code",
   "execution_count": null,
   "id": "0340bf95",
   "metadata": {},
   "outputs": [],
   "source": []
  },
  {
   "cell_type": "code",
   "execution_count": 34,
   "id": "e1caddd1",
   "metadata": {},
   "outputs": [],
   "source": [
    "# Задание.\n",
    "\n",
    "# Посчитать среднее\n",
    "\n",
    "_df = pd.DataFrame(\n",
    "    {'site_visits': {'2022-01-01': 3.0, '2022-01-02': 8.0, \n",
    "                     '2022-01-03': 0.0, '2022-01-04': 9.0, \n",
    "                     '2022-01-05': 9.0, '2022-01-06': 2.0, '2022-01-07': 7.0, \n",
    "                     '2022-01-08': -1.0, '2022-01-09': 7.0, '2022-01-10': 5.0, \n",
    "                     '2022-01-11': 9.0, '2022-01-12': 1.0, '2022-01-13': 4.0, \n",
    "                     '2022-01-14': -1.0, '2022-01-15': 5.0, '2022-01-16': 5.0, \n",
    "                     '2022-01-17': None, '2022-01-18': 5.0, '2022-01-19': 6.0, \n",
    "                     '2022-01-20': 6.0, '2022-01-21': 8.0, '2022-01-22': 4.0, \n",
    "                     '2022-01-23': 1.0, '2022-01-24': 0.0, '2022-01-25': 1.0, \n",
    "                     '2022-01-26': 9.0, '2022-01-27': -1.0, '2022-01-28': 8.0, \n",
    "                     '2022-01-29': 9.0, '2022-01-30': 2.0, '2022-01-31': 8.0}})"
   ]
  },
  {
   "cell_type": "code",
   "execution_count": 44,
   "id": "d8af7c8b",
   "metadata": {},
   "outputs": [],
   "source": [
    "result = _df['site_visits'].replace(-1, 0).fillna(0).mean()"
   ]
  },
  {
   "cell_type": "code",
   "execution_count": null,
   "id": "bf7e55a2",
   "metadata": {},
   "outputs": [],
   "source": []
  },
  {
   "cell_type": "code",
   "execution_count": 52,
   "id": "6e01179a",
   "metadata": {},
   "outputs": [],
   "source": [
    "# Задание.\n",
    "\n",
    "# Заменить в df все отрицательные значения на 0\n",
    "\n",
    "\n",
    "_df[_df['site_visits']< 0] = 0"
   ]
  },
  {
   "cell_type": "code",
   "execution_count": null,
   "id": "2c7969f6",
   "metadata": {},
   "outputs": [],
   "source": []
  },
  {
   "cell_type": "code",
   "execution_count": 109,
   "id": "7baae412",
   "metadata": {},
   "outputs": [],
   "source": [
    "# Задание.\n",
    "# Посчитайте % тестов, в которых нет ни одного выброса. Выбросом считать значения, которые меньше -1 или больше 1.\n",
    "# Результат не округляйте и не добавляйте знак '%'\n",
    "\n",
    "df = pd.DataFrame(random.randn(10,3))"
   ]
  },
  {
   "cell_type": "code",
   "execution_count": 112,
   "id": "6fe6183f",
   "metadata": {},
   "outputs": [],
   "source": [
    "df = df[np.abs(df)<1]"
   ]
  },
  {
   "cell_type": "code",
   "execution_count": 105,
   "id": "9576eaeb",
   "metadata": {},
   "outputs": [
    {
     "data": {
      "text/plain": [
       "1"
      ]
     },
     "execution_count": 105,
     "metadata": {},
     "output_type": "execute_result"
    }
   ],
   "source": [
    "len(df.dropna())"
   ]
  },
  {
   "cell_type": "code",
   "execution_count": 108,
   "id": "37add1bd",
   "metadata": {},
   "outputs": [
    {
     "data": {
      "text/plain": [
       "10.0"
      ]
     },
     "execution_count": 108,
     "metadata": {},
     "output_type": "execute_result"
    }
   ],
   "source": [
    "len(df.dropna())/len(df)*100"
   ]
  },
  {
   "cell_type": "code",
   "execution_count": 107,
   "id": "b0e847d8",
   "metadata": {},
   "outputs": [
    {
     "data": {
      "text/plain": [
       "10"
      ]
     },
     "execution_count": 107,
     "metadata": {},
     "output_type": "execute_result"
    }
   ],
   "source": [
    "len(df)"
   ]
  },
  {
   "cell_type": "code",
   "execution_count": null,
   "id": "274585f8",
   "metadata": {},
   "outputs": [],
   "source": []
  },
  {
   "cell_type": "markdown",
   "id": "a8024613",
   "metadata": {},
   "source": [
    "# dummy Фиктивные переменные"
   ]
  },
  {
   "cell_type": "code",
   "execution_count": 161,
   "id": "8b400ff5",
   "metadata": {},
   "outputs": [],
   "source": [
    "df = pd.DataFrame(\n",
    "            data = {\n",
    "                \"Film\": [\"Анчартед на картах не значится\", \n",
    "                        \"Доктор Стрендж\", \n",
    "                        \"Соник2\", \n",
    "                        \"Одиннадцать молчаливых мужчин\", \n",
    "                        \"Тор: Любовь и гром\", \n",
    "                        \"Мистер Нокаут\",\n",
    "                        \"Я краснею\"],\n",
    "                \"Duration\": [115, 126, 122, 121, 119, 118, 100],\n",
    "                \"Genre\": [\"боевик\", \"фантастика\", \"боевик\", \"драма\", \"фантастика\", \"спорт\", \n",
    "                          \"приключения\"]\n",
    "                    }\n",
    "                )"
   ]
  },
  {
   "cell_type": "code",
   "execution_count": 162,
   "id": "279878fd",
   "metadata": {},
   "outputs": [
    {
     "data": {
      "text/html": [
       "<div>\n",
       "<style scoped>\n",
       "    .dataframe tbody tr th:only-of-type {\n",
       "        vertical-align: middle;\n",
       "    }\n",
       "\n",
       "    .dataframe tbody tr th {\n",
       "        vertical-align: top;\n",
       "    }\n",
       "\n",
       "    .dataframe thead th {\n",
       "        text-align: right;\n",
       "    }\n",
       "</style>\n",
       "<table border=\"1\" class=\"dataframe\">\n",
       "  <thead>\n",
       "    <tr style=\"text-align: right;\">\n",
       "      <th></th>\n",
       "      <th>Film</th>\n",
       "      <th>Duration</th>\n",
       "      <th>Genre</th>\n",
       "    </tr>\n",
       "  </thead>\n",
       "  <tbody>\n",
       "    <tr>\n",
       "      <th>0</th>\n",
       "      <td>Анчартед на картах не значится</td>\n",
       "      <td>115</td>\n",
       "      <td>боевик</td>\n",
       "    </tr>\n",
       "    <tr>\n",
       "      <th>1</th>\n",
       "      <td>Доктор Стрендж</td>\n",
       "      <td>126</td>\n",
       "      <td>фантастика</td>\n",
       "    </tr>\n",
       "    <tr>\n",
       "      <th>2</th>\n",
       "      <td>Соник2</td>\n",
       "      <td>122</td>\n",
       "      <td>боевик</td>\n",
       "    </tr>\n",
       "    <tr>\n",
       "      <th>3</th>\n",
       "      <td>Одиннадцать молчаливых мужчин</td>\n",
       "      <td>121</td>\n",
       "      <td>драма</td>\n",
       "    </tr>\n",
       "    <tr>\n",
       "      <th>4</th>\n",
       "      <td>Тор: Любовь и гром</td>\n",
       "      <td>119</td>\n",
       "      <td>фантастика</td>\n",
       "    </tr>\n",
       "    <tr>\n",
       "      <th>5</th>\n",
       "      <td>Мистер Нокаут</td>\n",
       "      <td>118</td>\n",
       "      <td>спорт</td>\n",
       "    </tr>\n",
       "    <tr>\n",
       "      <th>6</th>\n",
       "      <td>Я краснею</td>\n",
       "      <td>100</td>\n",
       "      <td>приключения</td>\n",
       "    </tr>\n",
       "  </tbody>\n",
       "</table>\n",
       "</div>"
      ],
      "text/plain": [
       "                             Film  Duration        Genre\n",
       "0  Анчартед на картах не значится       115       боевик\n",
       "1                  Доктор Стрендж       126   фантастика\n",
       "2                          Соник2       122       боевик\n",
       "3   Одиннадцать молчаливых мужчин       121        драма\n",
       "4              Тор: Любовь и гром       119   фантастика\n",
       "5                   Мистер Нокаут       118        спорт\n",
       "6                       Я краснею       100  приключения"
      ]
     },
     "execution_count": 162,
     "metadata": {},
     "output_type": "execute_result"
    }
   ],
   "source": [
    "df"
   ]
  },
  {
   "cell_type": "code",
   "execution_count": 163,
   "id": "25ae5047",
   "metadata": {},
   "outputs": [
    {
     "data": {
      "text/html": [
       "<div>\n",
       "<style scoped>\n",
       "    .dataframe tbody tr th:only-of-type {\n",
       "        vertical-align: middle;\n",
       "    }\n",
       "\n",
       "    .dataframe tbody tr th {\n",
       "        vertical-align: top;\n",
       "    }\n",
       "\n",
       "    .dataframe thead th {\n",
       "        text-align: right;\n",
       "    }\n",
       "</style>\n",
       "<table border=\"1\" class=\"dataframe\">\n",
       "  <thead>\n",
       "    <tr style=\"text-align: right;\">\n",
       "      <th></th>\n",
       "      <th>боевик</th>\n",
       "      <th>драма</th>\n",
       "      <th>приключения</th>\n",
       "      <th>спорт</th>\n",
       "      <th>фантастика</th>\n",
       "    </tr>\n",
       "  </thead>\n",
       "  <tbody>\n",
       "    <tr>\n",
       "      <th>0</th>\n",
       "      <td>1</td>\n",
       "      <td>0</td>\n",
       "      <td>0</td>\n",
       "      <td>0</td>\n",
       "      <td>0</td>\n",
       "    </tr>\n",
       "    <tr>\n",
       "      <th>1</th>\n",
       "      <td>0</td>\n",
       "      <td>0</td>\n",
       "      <td>0</td>\n",
       "      <td>0</td>\n",
       "      <td>1</td>\n",
       "    </tr>\n",
       "    <tr>\n",
       "      <th>2</th>\n",
       "      <td>1</td>\n",
       "      <td>0</td>\n",
       "      <td>0</td>\n",
       "      <td>0</td>\n",
       "      <td>0</td>\n",
       "    </tr>\n",
       "    <tr>\n",
       "      <th>3</th>\n",
       "      <td>0</td>\n",
       "      <td>1</td>\n",
       "      <td>0</td>\n",
       "      <td>0</td>\n",
       "      <td>0</td>\n",
       "    </tr>\n",
       "    <tr>\n",
       "      <th>4</th>\n",
       "      <td>0</td>\n",
       "      <td>0</td>\n",
       "      <td>0</td>\n",
       "      <td>0</td>\n",
       "      <td>1</td>\n",
       "    </tr>\n",
       "    <tr>\n",
       "      <th>5</th>\n",
       "      <td>0</td>\n",
       "      <td>0</td>\n",
       "      <td>0</td>\n",
       "      <td>1</td>\n",
       "      <td>0</td>\n",
       "    </tr>\n",
       "    <tr>\n",
       "      <th>6</th>\n",
       "      <td>0</td>\n",
       "      <td>0</td>\n",
       "      <td>1</td>\n",
       "      <td>0</td>\n",
       "      <td>0</td>\n",
       "    </tr>\n",
       "  </tbody>\n",
       "</table>\n",
       "</div>"
      ],
      "text/plain": [
       "   боевик  драма  приключения  спорт  фантастика\n",
       "0       1      0            0      0           0\n",
       "1       0      0            0      0           1\n",
       "2       1      0            0      0           0\n",
       "3       0      1            0      0           0\n",
       "4       0      0            0      0           1\n",
       "5       0      0            0      1           0\n",
       "6       0      0            1      0           0"
      ]
     },
     "execution_count": 163,
     "metadata": {},
     "output_type": "execute_result"
    }
   ],
   "source": [
    "# получить матрицу фиктивных значений\n",
    "pd.get_dummies(df['Genre'])"
   ]
  },
  {
   "cell_type": "code",
   "execution_count": 164,
   "id": "17deb1a0",
   "metadata": {},
   "outputs": [],
   "source": [
    "# Для того, чтобы объединить исходную и фиктивную матрицу используем join:\n",
    "# зададим имя фиктивной матрице: \n",
    "\n",
    "m = pd.get_dummies(df['Genre'])"
   ]
  },
  {
   "cell_type": "code",
   "execution_count": 165,
   "id": "ae8055fa",
   "metadata": {},
   "outputs": [
    {
     "data": {
      "text/html": [
       "<div>\n",
       "<style scoped>\n",
       "    .dataframe tbody tr th:only-of-type {\n",
       "        vertical-align: middle;\n",
       "    }\n",
       "\n",
       "    .dataframe tbody tr th {\n",
       "        vertical-align: top;\n",
       "    }\n",
       "\n",
       "    .dataframe thead th {\n",
       "        text-align: right;\n",
       "    }\n",
       "</style>\n",
       "<table border=\"1\" class=\"dataframe\">\n",
       "  <thead>\n",
       "    <tr style=\"text-align: right;\">\n",
       "      <th></th>\n",
       "      <th>Film</th>\n",
       "      <th>Duration</th>\n",
       "      <th>Genre</th>\n",
       "      <th>боевик</th>\n",
       "      <th>драма</th>\n",
       "      <th>приключения</th>\n",
       "      <th>спорт</th>\n",
       "      <th>фантастика</th>\n",
       "    </tr>\n",
       "  </thead>\n",
       "  <tbody>\n",
       "    <tr>\n",
       "      <th>0</th>\n",
       "      <td>Анчартед на картах не значится</td>\n",
       "      <td>115</td>\n",
       "      <td>боевик</td>\n",
       "      <td>1</td>\n",
       "      <td>0</td>\n",
       "      <td>0</td>\n",
       "      <td>0</td>\n",
       "      <td>0</td>\n",
       "    </tr>\n",
       "    <tr>\n",
       "      <th>1</th>\n",
       "      <td>Доктор Стрендж</td>\n",
       "      <td>126</td>\n",
       "      <td>фантастика</td>\n",
       "      <td>0</td>\n",
       "      <td>0</td>\n",
       "      <td>0</td>\n",
       "      <td>0</td>\n",
       "      <td>1</td>\n",
       "    </tr>\n",
       "    <tr>\n",
       "      <th>2</th>\n",
       "      <td>Соник2</td>\n",
       "      <td>122</td>\n",
       "      <td>боевик</td>\n",
       "      <td>1</td>\n",
       "      <td>0</td>\n",
       "      <td>0</td>\n",
       "      <td>0</td>\n",
       "      <td>0</td>\n",
       "    </tr>\n",
       "    <tr>\n",
       "      <th>3</th>\n",
       "      <td>Одиннадцать молчаливых мужчин</td>\n",
       "      <td>121</td>\n",
       "      <td>драма</td>\n",
       "      <td>0</td>\n",
       "      <td>1</td>\n",
       "      <td>0</td>\n",
       "      <td>0</td>\n",
       "      <td>0</td>\n",
       "    </tr>\n",
       "    <tr>\n",
       "      <th>4</th>\n",
       "      <td>Тор: Любовь и гром</td>\n",
       "      <td>119</td>\n",
       "      <td>фантастика</td>\n",
       "      <td>0</td>\n",
       "      <td>0</td>\n",
       "      <td>0</td>\n",
       "      <td>0</td>\n",
       "      <td>1</td>\n",
       "    </tr>\n",
       "    <tr>\n",
       "      <th>5</th>\n",
       "      <td>Мистер Нокаут</td>\n",
       "      <td>118</td>\n",
       "      <td>спорт</td>\n",
       "      <td>0</td>\n",
       "      <td>0</td>\n",
       "      <td>0</td>\n",
       "      <td>1</td>\n",
       "      <td>0</td>\n",
       "    </tr>\n",
       "    <tr>\n",
       "      <th>6</th>\n",
       "      <td>Я краснею</td>\n",
       "      <td>100</td>\n",
       "      <td>приключения</td>\n",
       "      <td>0</td>\n",
       "      <td>0</td>\n",
       "      <td>1</td>\n",
       "      <td>0</td>\n",
       "      <td>0</td>\n",
       "    </tr>\n",
       "  </tbody>\n",
       "</table>\n",
       "</div>"
      ],
      "text/plain": [
       "                             Film  Duration        Genre  боевик  драма  \\\n",
       "0  Анчартед на картах не значится       115       боевик       1      0   \n",
       "1                  Доктор Стрендж       126   фантастика       0      0   \n",
       "2                          Соник2       122       боевик       1      0   \n",
       "3   Одиннадцать молчаливых мужчин       121        драма       0      1   \n",
       "4              Тор: Любовь и гром       119   фантастика       0      0   \n",
       "5                   Мистер Нокаут       118        спорт       0      0   \n",
       "6                       Я краснею       100  приключения       0      0   \n",
       "\n",
       "   приключения  спорт  фантастика  \n",
       "0            0      0           0  \n",
       "1            0      0           1  \n",
       "2            0      0           0  \n",
       "3            0      0           0  \n",
       "4            0      0           1  \n",
       "5            0      1           0  \n",
       "6            1      0           0  "
      ]
     },
     "execution_count": 165,
     "metadata": {},
     "output_type": "execute_result"
    }
   ],
   "source": [
    "# объединяем:\n",
    "\n",
    "df.join(m)"
   ]
  },
  {
   "cell_type": "code",
   "execution_count": 166,
   "id": "aac314b7",
   "metadata": {},
   "outputs": [
    {
     "data": {
      "text/html": [
       "<div>\n",
       "<style scoped>\n",
       "    .dataframe tbody tr th:only-of-type {\n",
       "        vertical-align: middle;\n",
       "    }\n",
       "\n",
       "    .dataframe tbody tr th {\n",
       "        vertical-align: top;\n",
       "    }\n",
       "\n",
       "    .dataframe thead th {\n",
       "        text-align: right;\n",
       "    }\n",
       "</style>\n",
       "<table border=\"1\" class=\"dataframe\">\n",
       "  <thead>\n",
       "    <tr style=\"text-align: right;\">\n",
       "      <th></th>\n",
       "      <th>Film</th>\n",
       "      <th>Duration</th>\n",
       "      <th>боевик</th>\n",
       "      <th>драма</th>\n",
       "      <th>приключения</th>\n",
       "      <th>спорт</th>\n",
       "      <th>фантастика</th>\n",
       "    </tr>\n",
       "  </thead>\n",
       "  <tbody>\n",
       "    <tr>\n",
       "      <th>0</th>\n",
       "      <td>Анчартед на картах не значится</td>\n",
       "      <td>115</td>\n",
       "      <td>1</td>\n",
       "      <td>0</td>\n",
       "      <td>0</td>\n",
       "      <td>0</td>\n",
       "      <td>0</td>\n",
       "    </tr>\n",
       "    <tr>\n",
       "      <th>1</th>\n",
       "      <td>Доктор Стрендж</td>\n",
       "      <td>126</td>\n",
       "      <td>0</td>\n",
       "      <td>0</td>\n",
       "      <td>0</td>\n",
       "      <td>0</td>\n",
       "      <td>1</td>\n",
       "    </tr>\n",
       "    <tr>\n",
       "      <th>2</th>\n",
       "      <td>Соник2</td>\n",
       "      <td>122</td>\n",
       "      <td>1</td>\n",
       "      <td>0</td>\n",
       "      <td>0</td>\n",
       "      <td>0</td>\n",
       "      <td>0</td>\n",
       "    </tr>\n",
       "    <tr>\n",
       "      <th>3</th>\n",
       "      <td>Одиннадцать молчаливых мужчин</td>\n",
       "      <td>121</td>\n",
       "      <td>0</td>\n",
       "      <td>1</td>\n",
       "      <td>0</td>\n",
       "      <td>0</td>\n",
       "      <td>0</td>\n",
       "    </tr>\n",
       "    <tr>\n",
       "      <th>4</th>\n",
       "      <td>Тор: Любовь и гром</td>\n",
       "      <td>119</td>\n",
       "      <td>0</td>\n",
       "      <td>0</td>\n",
       "      <td>0</td>\n",
       "      <td>0</td>\n",
       "      <td>1</td>\n",
       "    </tr>\n",
       "    <tr>\n",
       "      <th>5</th>\n",
       "      <td>Мистер Нокаут</td>\n",
       "      <td>118</td>\n",
       "      <td>0</td>\n",
       "      <td>0</td>\n",
       "      <td>0</td>\n",
       "      <td>1</td>\n",
       "      <td>0</td>\n",
       "    </tr>\n",
       "    <tr>\n",
       "      <th>6</th>\n",
       "      <td>Я краснею</td>\n",
       "      <td>100</td>\n",
       "      <td>0</td>\n",
       "      <td>0</td>\n",
       "      <td>1</td>\n",
       "      <td>0</td>\n",
       "      <td>0</td>\n",
       "    </tr>\n",
       "  </tbody>\n",
       "</table>\n",
       "</div>"
      ],
      "text/plain": [
       "                             Film  Duration  боевик  драма  приключения  \\\n",
       "0  Анчартед на картах не значится       115       1      0            0   \n",
       "1                  Доктор Стрендж       126       0      0            0   \n",
       "2                          Соник2       122       1      0            0   \n",
       "3   Одиннадцать молчаливых мужчин       121       0      1            0   \n",
       "4              Тор: Любовь и гром       119       0      0            0   \n",
       "5                   Мистер Нокаут       118       0      0            0   \n",
       "6                       Я краснею       100       0      0            1   \n",
       "\n",
       "   спорт  фантастика  \n",
       "0      0           0  \n",
       "1      0           1  \n",
       "2      0           0  \n",
       "3      0           0  \n",
       "4      0           1  \n",
       "5      1           0  \n",
       "6      0           0  "
      ]
     },
     "execution_count": 166,
     "metadata": {},
     "output_type": "execute_result"
    }
   ],
   "source": [
    "# объединяем только с нужными столбцами:\n",
    "\n",
    "df[['Film', 'Duration']].join(m)"
   ]
  },
  {
   "cell_type": "code",
   "execution_count": 167,
   "id": "12e1ac6f",
   "metadata": {},
   "outputs": [
    {
     "data": {
      "text/html": [
       "<div>\n",
       "<style scoped>\n",
       "    .dataframe tbody tr th:only-of-type {\n",
       "        vertical-align: middle;\n",
       "    }\n",
       "\n",
       "    .dataframe tbody tr th {\n",
       "        vertical-align: top;\n",
       "    }\n",
       "\n",
       "    .dataframe thead th {\n",
       "        text-align: right;\n",
       "    }\n",
       "</style>\n",
       "<table border=\"1\" class=\"dataframe\">\n",
       "  <thead>\n",
       "    <tr style=\"text-align: right;\">\n",
       "      <th></th>\n",
       "      <th>Film</th>\n",
       "      <th>Duration</th>\n",
       "      <th>Genre_боевик</th>\n",
       "      <th>Genre_драма</th>\n",
       "      <th>Genre_приключения</th>\n",
       "      <th>Genre_спорт</th>\n",
       "      <th>Genre_фантастика</th>\n",
       "    </tr>\n",
       "  </thead>\n",
       "  <tbody>\n",
       "    <tr>\n",
       "      <th>0</th>\n",
       "      <td>Анчартед на картах не значится</td>\n",
       "      <td>115</td>\n",
       "      <td>1</td>\n",
       "      <td>0</td>\n",
       "      <td>0</td>\n",
       "      <td>0</td>\n",
       "      <td>0</td>\n",
       "    </tr>\n",
       "    <tr>\n",
       "      <th>1</th>\n",
       "      <td>Доктор Стрендж</td>\n",
       "      <td>126</td>\n",
       "      <td>0</td>\n",
       "      <td>0</td>\n",
       "      <td>0</td>\n",
       "      <td>0</td>\n",
       "      <td>1</td>\n",
       "    </tr>\n",
       "    <tr>\n",
       "      <th>2</th>\n",
       "      <td>Соник2</td>\n",
       "      <td>122</td>\n",
       "      <td>1</td>\n",
       "      <td>0</td>\n",
       "      <td>0</td>\n",
       "      <td>0</td>\n",
       "      <td>0</td>\n",
       "    </tr>\n",
       "    <tr>\n",
       "      <th>3</th>\n",
       "      <td>Одиннадцать молчаливых мужчин</td>\n",
       "      <td>121</td>\n",
       "      <td>0</td>\n",
       "      <td>1</td>\n",
       "      <td>0</td>\n",
       "      <td>0</td>\n",
       "      <td>0</td>\n",
       "    </tr>\n",
       "    <tr>\n",
       "      <th>4</th>\n",
       "      <td>Тор: Любовь и гром</td>\n",
       "      <td>119</td>\n",
       "      <td>0</td>\n",
       "      <td>0</td>\n",
       "      <td>0</td>\n",
       "      <td>0</td>\n",
       "      <td>1</td>\n",
       "    </tr>\n",
       "    <tr>\n",
       "      <th>5</th>\n",
       "      <td>Мистер Нокаут</td>\n",
       "      <td>118</td>\n",
       "      <td>0</td>\n",
       "      <td>0</td>\n",
       "      <td>0</td>\n",
       "      <td>1</td>\n",
       "      <td>0</td>\n",
       "    </tr>\n",
       "    <tr>\n",
       "      <th>6</th>\n",
       "      <td>Я краснею</td>\n",
       "      <td>100</td>\n",
       "      <td>0</td>\n",
       "      <td>0</td>\n",
       "      <td>1</td>\n",
       "      <td>0</td>\n",
       "      <td>0</td>\n",
       "    </tr>\n",
       "  </tbody>\n",
       "</table>\n",
       "</div>"
      ],
      "text/plain": [
       "                             Film  Duration  Genre_боевик  Genre_драма  \\\n",
       "0  Анчартед на картах не значится       115             1            0   \n",
       "1                  Доктор Стрендж       126             0            0   \n",
       "2                          Соник2       122             1            0   \n",
       "3   Одиннадцать молчаливых мужчин       121             0            1   \n",
       "4              Тор: Любовь и гром       119             0            0   \n",
       "5                   Мистер Нокаут       118             0            0   \n",
       "6                       Я краснею       100             0            0   \n",
       "\n",
       "   Genre_приключения  Genre_спорт  Genre_фантастика  \n",
       "0                  0            0                 0  \n",
       "1                  0            0                 1  \n",
       "2                  0            0                 0  \n",
       "3                  0            0                 0  \n",
       "4                  0            0                 1  \n",
       "5                  0            1                 0  \n",
       "6                  1            0                 0  "
      ]
     },
     "execution_count": 167,
     "metadata": {},
     "output_type": "execute_result"
    }
   ],
   "source": [
    "# объединяем только с нужными столбцами и добавляем prefix, чтобы в дальнейшем понимать откуда что взялось:\n",
    "\n",
    "m = pd.get_dummies(df['Genre'], prefix = 'Genre')\n",
    "df[['Film', 'Duration']].join(m)"
   ]
  },
  {
   "cell_type": "code",
   "execution_count": 168,
   "id": "cfb69e74",
   "metadata": {},
   "outputs": [
    {
     "data": {
      "text/html": [
       "<div>\n",
       "<style scoped>\n",
       "    .dataframe tbody tr th:only-of-type {\n",
       "        vertical-align: middle;\n",
       "    }\n",
       "\n",
       "    .dataframe tbody tr th {\n",
       "        vertical-align: top;\n",
       "    }\n",
       "\n",
       "    .dataframe thead th {\n",
       "        text-align: right;\n",
       "    }\n",
       "</style>\n",
       "<table border=\"1\" class=\"dataframe\">\n",
       "  <thead>\n",
       "    <tr style=\"text-align: right;\">\n",
       "      <th></th>\n",
       "      <th>Film</th>\n",
       "      <th>Duration</th>\n",
       "      <th>Genre_боевик</th>\n",
       "      <th>Genre_драма</th>\n",
       "      <th>Genre_приключения</th>\n",
       "      <th>Genre_спорт</th>\n",
       "      <th>Genre_фантастика</th>\n",
       "    </tr>\n",
       "  </thead>\n",
       "  <tbody>\n",
       "    <tr>\n",
       "      <th>0</th>\n",
       "      <td>Анчартед на картах не значится</td>\n",
       "      <td>115</td>\n",
       "      <td>1</td>\n",
       "      <td>0</td>\n",
       "      <td>0</td>\n",
       "      <td>0</td>\n",
       "      <td>0</td>\n",
       "    </tr>\n",
       "    <tr>\n",
       "      <th>1</th>\n",
       "      <td>Доктор Стрендж</td>\n",
       "      <td>126</td>\n",
       "      <td>0</td>\n",
       "      <td>0</td>\n",
       "      <td>0</td>\n",
       "      <td>0</td>\n",
       "      <td>1</td>\n",
       "    </tr>\n",
       "    <tr>\n",
       "      <th>2</th>\n",
       "      <td>Соник2</td>\n",
       "      <td>122</td>\n",
       "      <td>1</td>\n",
       "      <td>0</td>\n",
       "      <td>0</td>\n",
       "      <td>0</td>\n",
       "      <td>0</td>\n",
       "    </tr>\n",
       "    <tr>\n",
       "      <th>3</th>\n",
       "      <td>Одиннадцать молчаливых мужчин</td>\n",
       "      <td>121</td>\n",
       "      <td>0</td>\n",
       "      <td>1</td>\n",
       "      <td>0</td>\n",
       "      <td>0</td>\n",
       "      <td>0</td>\n",
       "    </tr>\n",
       "    <tr>\n",
       "      <th>4</th>\n",
       "      <td>Тор: Любовь и гром</td>\n",
       "      <td>119</td>\n",
       "      <td>0</td>\n",
       "      <td>0</td>\n",
       "      <td>0</td>\n",
       "      <td>0</td>\n",
       "      <td>1</td>\n",
       "    </tr>\n",
       "    <tr>\n",
       "      <th>5</th>\n",
       "      <td>Мистер Нокаут</td>\n",
       "      <td>118</td>\n",
       "      <td>0</td>\n",
       "      <td>0</td>\n",
       "      <td>0</td>\n",
       "      <td>1</td>\n",
       "      <td>0</td>\n",
       "    </tr>\n",
       "    <tr>\n",
       "      <th>6</th>\n",
       "      <td>Я краснею</td>\n",
       "      <td>100</td>\n",
       "      <td>0</td>\n",
       "      <td>0</td>\n",
       "      <td>1</td>\n",
       "      <td>0</td>\n",
       "      <td>0</td>\n",
       "    </tr>\n",
       "  </tbody>\n",
       "</table>\n",
       "</div>"
      ],
      "text/plain": [
       "                             Film  Duration  Genre_боевик  Genre_драма  \\\n",
       "0  Анчартед на картах не значится       115             1            0   \n",
       "1                  Доктор Стрендж       126             0            0   \n",
       "2                          Соник2       122             1            0   \n",
       "3   Одиннадцать молчаливых мужчин       121             0            1   \n",
       "4              Тор: Любовь и гром       119             0            0   \n",
       "5                   Мистер Нокаут       118             0            0   \n",
       "6                       Я краснею       100             0            0   \n",
       "\n",
       "   Genre_приключения  Genre_спорт  Genre_фантастика  \n",
       "0                  0            0                 0  \n",
       "1                  0            0                 1  \n",
       "2                  0            0                 0  \n",
       "3                  0            0                 0  \n",
       "4                  0            0                 1  \n",
       "5                  0            1                 0  \n",
       "6                  1            0                 0  "
      ]
     },
     "execution_count": 168,
     "metadata": {},
     "output_type": "execute_result"
    }
   ],
   "source": [
    "# тот же результат достигается с\n",
    "pd.get_dummies(df, prefix='Genre_', prefix_sep='', columns=['Genre'])"
   ]
  },
  {
   "cell_type": "code",
   "execution_count": null,
   "id": "8831b2f9",
   "metadata": {},
   "outputs": [],
   "source": []
  },
  {
   "cell_type": "code",
   "execution_count": null,
   "id": "84285290",
   "metadata": {},
   "outputs": [],
   "source": []
  },
  {
   "cell_type": "code",
   "execution_count": 169,
   "id": "aaf6d876",
   "metadata": {},
   "outputs": [],
   "source": [
    "# Если жанров несколько (разделены вертикальной чертой):"
   ]
  },
  {
   "cell_type": "code",
   "execution_count": 380,
   "id": "0ca3c2ed",
   "metadata": {},
   "outputs": [],
   "source": [
    "films = pd.DataFrame([['Анчартед', 115, 'боевик|приключения'], \n",
    "                      ['Доктор Стрэндж', 126, 'фантастика|боевик|приключения'], \n",
    "                      ['Соник', 122, 'боевик|приключения'], \n",
    "                      ['Одиннадцать', 121, 'драма|спорт'], \n",
    "                      ['Тор', 119, 'фантастика|боевик'], \n",
    "                      ['Мистер нокаут', 118, 'спорт'],\n",
    "                      ['Я краснею', 100, 'приключения']], columns=['Film', 'Duration', 'Genre'])"
   ]
  },
  {
   "cell_type": "code",
   "execution_count": 381,
   "id": "0f421d2f",
   "metadata": {},
   "outputs": [
    {
     "data": {
      "text/html": [
       "<div>\n",
       "<style scoped>\n",
       "    .dataframe tbody tr th:only-of-type {\n",
       "        vertical-align: middle;\n",
       "    }\n",
       "\n",
       "    .dataframe tbody tr th {\n",
       "        vertical-align: top;\n",
       "    }\n",
       "\n",
       "    .dataframe thead th {\n",
       "        text-align: right;\n",
       "    }\n",
       "</style>\n",
       "<table border=\"1\" class=\"dataframe\">\n",
       "  <thead>\n",
       "    <tr style=\"text-align: right;\">\n",
       "      <th></th>\n",
       "      <th>Film</th>\n",
       "      <th>Duration</th>\n",
       "      <th>Genre</th>\n",
       "    </tr>\n",
       "  </thead>\n",
       "  <tbody>\n",
       "    <tr>\n",
       "      <th>0</th>\n",
       "      <td>Анчартед</td>\n",
       "      <td>115</td>\n",
       "      <td>боевик|приключения</td>\n",
       "    </tr>\n",
       "    <tr>\n",
       "      <th>1</th>\n",
       "      <td>Доктор Стрэндж</td>\n",
       "      <td>126</td>\n",
       "      <td>фантастика|боевик|приключения</td>\n",
       "    </tr>\n",
       "    <tr>\n",
       "      <th>2</th>\n",
       "      <td>Соник</td>\n",
       "      <td>122</td>\n",
       "      <td>боевик|приключения</td>\n",
       "    </tr>\n",
       "    <tr>\n",
       "      <th>3</th>\n",
       "      <td>Одиннадцать</td>\n",
       "      <td>121</td>\n",
       "      <td>драма|спорт</td>\n",
       "    </tr>\n",
       "    <tr>\n",
       "      <th>4</th>\n",
       "      <td>Тор</td>\n",
       "      <td>119</td>\n",
       "      <td>фантастика|боевик</td>\n",
       "    </tr>\n",
       "    <tr>\n",
       "      <th>5</th>\n",
       "      <td>Мистер нокаут</td>\n",
       "      <td>118</td>\n",
       "      <td>спорт</td>\n",
       "    </tr>\n",
       "    <tr>\n",
       "      <th>6</th>\n",
       "      <td>Я краснею</td>\n",
       "      <td>100</td>\n",
       "      <td>приключения</td>\n",
       "    </tr>\n",
       "  </tbody>\n",
       "</table>\n",
       "</div>"
      ],
      "text/plain": [
       "             Film  Duration                          Genre\n",
       "0        Анчартед       115             боевик|приключения\n",
       "1  Доктор Стрэндж       126  фантастика|боевик|приключения\n",
       "2           Соник       122             боевик|приключения\n",
       "3     Одиннадцать       121                    драма|спорт\n",
       "4             Тор       119              фантастика|боевик\n",
       "5   Мистер нокаут       118                          спорт\n",
       "6       Я краснею       100                    приключения"
      ]
     },
     "execution_count": 381,
     "metadata": {},
     "output_type": "execute_result"
    }
   ],
   "source": [
    "films"
   ]
  },
  {
   "cell_type": "code",
   "execution_count": 382,
   "id": "5293f8c3",
   "metadata": {},
   "outputs": [
    {
     "name": "stdout",
     "output_type": "stream",
     "text": [
      "['боевик', 'приключения']\n",
      "['фантастика', 'боевик', 'приключения']\n",
      "['боевик', 'приключения']\n",
      "['драма', 'спорт']\n",
      "['фантастика', 'боевик']\n",
      "['спорт']\n",
      "['приключения']\n"
     ]
    }
   ],
   "source": [
    "genres = []\n",
    "for i in films['Genre']:\n",
    "    print(i.split('|'))\n",
    "    genres.extend(i.split('|'))"
   ]
  },
  {
   "cell_type": "code",
   "execution_count": 383,
   "id": "ff89bfc3",
   "metadata": {},
   "outputs": [
    {
     "data": {
      "text/plain": [
       "['боевик',\n",
       " 'приключения',\n",
       " 'фантастика',\n",
       " 'боевик',\n",
       " 'приключения',\n",
       " 'боевик',\n",
       " 'приключения',\n",
       " 'драма',\n",
       " 'спорт',\n",
       " 'фантастика',\n",
       " 'боевик',\n",
       " 'спорт',\n",
       " 'приключения']"
      ]
     },
     "execution_count": 383,
     "metadata": {},
     "output_type": "execute_result"
    }
   ],
   "source": [
    "genres"
   ]
  },
  {
   "cell_type": "code",
   "execution_count": 384,
   "id": "7d50c377",
   "metadata": {},
   "outputs": [],
   "source": [
    "# оставляем только уникальные жанры:\n",
    "unique_genres = pd.unique(genres)"
   ]
  },
  {
   "cell_type": "code",
   "execution_count": null,
   "id": "3f222db4",
   "metadata": {},
   "outputs": [],
   "source": []
  },
  {
   "cell_type": "code",
   "execution_count": 385,
   "id": "158d72e2",
   "metadata": {},
   "outputs": [
    {
     "data": {
      "text/plain": [
       "array([[0., 0., 0., 0., 0.],\n",
       "       [0., 0., 0., 0., 0.],\n",
       "       [0., 0., 0., 0., 0.],\n",
       "       [0., 0., 0., 0., 0.],\n",
       "       [0., 0., 0., 0., 0.],\n",
       "       [0., 0., 0., 0., 0.],\n",
       "       [0., 0., 0., 0., 0.]])"
      ]
     },
     "execution_count": 385,
     "metadata": {},
     "output_type": "execute_result"
    }
   ],
   "source": [
    "# теперь необходимо задать пустую матрицу:\n",
    "\n",
    "np.zeros((len(films), len(unique_genres)))"
   ]
  },
  {
   "cell_type": "code",
   "execution_count": 386,
   "id": "54aaab44",
   "metadata": {},
   "outputs": [],
   "source": [
    "# задаем имя и передаем в новый датафрейм:\n",
    "\n",
    "m = np.zeros((len(films), len(unique_genres)))\n",
    "matrix = pd.DataFrame(m, columns = unique_genres, dtype = 'int64')"
   ]
  },
  {
   "cell_type": "code",
   "execution_count": 387,
   "id": "a8f0acdc",
   "metadata": {},
   "outputs": [
    {
     "data": {
      "text/html": [
       "<div>\n",
       "<style scoped>\n",
       "    .dataframe tbody tr th:only-of-type {\n",
       "        vertical-align: middle;\n",
       "    }\n",
       "\n",
       "    .dataframe tbody tr th {\n",
       "        vertical-align: top;\n",
       "    }\n",
       "\n",
       "    .dataframe thead th {\n",
       "        text-align: right;\n",
       "    }\n",
       "</style>\n",
       "<table border=\"1\" class=\"dataframe\">\n",
       "  <thead>\n",
       "    <tr style=\"text-align: right;\">\n",
       "      <th></th>\n",
       "      <th>боевик</th>\n",
       "      <th>приключения</th>\n",
       "      <th>фантастика</th>\n",
       "      <th>драма</th>\n",
       "      <th>спорт</th>\n",
       "    </tr>\n",
       "  </thead>\n",
       "  <tbody>\n",
       "    <tr>\n",
       "      <th>0</th>\n",
       "      <td>0</td>\n",
       "      <td>0</td>\n",
       "      <td>0</td>\n",
       "      <td>0</td>\n",
       "      <td>0</td>\n",
       "    </tr>\n",
       "    <tr>\n",
       "      <th>1</th>\n",
       "      <td>0</td>\n",
       "      <td>0</td>\n",
       "      <td>0</td>\n",
       "      <td>0</td>\n",
       "      <td>0</td>\n",
       "    </tr>\n",
       "    <tr>\n",
       "      <th>2</th>\n",
       "      <td>0</td>\n",
       "      <td>0</td>\n",
       "      <td>0</td>\n",
       "      <td>0</td>\n",
       "      <td>0</td>\n",
       "    </tr>\n",
       "    <tr>\n",
       "      <th>3</th>\n",
       "      <td>0</td>\n",
       "      <td>0</td>\n",
       "      <td>0</td>\n",
       "      <td>0</td>\n",
       "      <td>0</td>\n",
       "    </tr>\n",
       "    <tr>\n",
       "      <th>4</th>\n",
       "      <td>0</td>\n",
       "      <td>0</td>\n",
       "      <td>0</td>\n",
       "      <td>0</td>\n",
       "      <td>0</td>\n",
       "    </tr>\n",
       "    <tr>\n",
       "      <th>5</th>\n",
       "      <td>0</td>\n",
       "      <td>0</td>\n",
       "      <td>0</td>\n",
       "      <td>0</td>\n",
       "      <td>0</td>\n",
       "    </tr>\n",
       "    <tr>\n",
       "      <th>6</th>\n",
       "      <td>0</td>\n",
       "      <td>0</td>\n",
       "      <td>0</td>\n",
       "      <td>0</td>\n",
       "      <td>0</td>\n",
       "    </tr>\n",
       "  </tbody>\n",
       "</table>\n",
       "</div>"
      ],
      "text/plain": [
       "   боевик  приключения  фантастика  драма  спорт\n",
       "0       0            0           0      0      0\n",
       "1       0            0           0      0      0\n",
       "2       0            0           0      0      0\n",
       "3       0            0           0      0      0\n",
       "4       0            0           0      0      0\n",
       "5       0            0           0      0      0\n",
       "6       0            0           0      0      0"
      ]
     },
     "execution_count": 387,
     "metadata": {},
     "output_type": "execute_result"
    }
   ],
   "source": [
    "matrix"
   ]
  },
  {
   "cell_type": "code",
   "execution_count": null,
   "id": "57a04d5e",
   "metadata": {},
   "outputs": [],
   "source": []
  },
  {
   "cell_type": "code",
   "execution_count": 388,
   "id": "18c64d2e",
   "metadata": {},
   "outputs": [
    {
     "data": {
      "text/plain": [
       "['боевик', 'приключения']"
      ]
     },
     "execution_count": 388,
     "metadata": {},
     "output_type": "execute_result"
    }
   ],
   "source": [
    "films['Genre'][0].split('|')"
   ]
  },
  {
   "cell_type": "code",
   "execution_count": 389,
   "id": "832313ad",
   "metadata": {},
   "outputs": [
    {
     "data": {
      "text/plain": [
       "array([0, 1], dtype=int64)"
      ]
     },
     "execution_count": 389,
     "metadata": {},
     "output_type": "execute_result"
    }
   ],
   "source": [
    "# специальная функция get_indexer - которая определяет индекс колонок, к которым относится переданный список:\n",
    "\n",
    "matrix.columns.get_indexer(['боевик', 'приключения'])"
   ]
  },
  {
   "cell_type": "code",
   "execution_count": null,
   "id": "75ea43f3",
   "metadata": {},
   "outputs": [],
   "source": []
  },
  {
   "cell_type": "code",
   "execution_count": 390,
   "id": "97401f19",
   "metadata": {},
   "outputs": [
    {
     "name": "stdout",
     "output_type": "stream",
     "text": [
      "боевик|приключения\n",
      "фантастика|боевик|приключения\n",
      "боевик|приключения\n",
      "драма|спорт\n",
      "фантастика|боевик\n",
      "спорт\n",
      "приключения\n"
     ]
    }
   ],
   "source": [
    "for i in films['Genre']:\n",
    "    print(i)"
   ]
  },
  {
   "cell_type": "code",
   "execution_count": 391,
   "id": "91080ba0",
   "metadata": {},
   "outputs": [
    {
     "name": "stdout",
     "output_type": "stream",
     "text": [
      "0 боевик|приключения\n",
      "1 фантастика|боевик|приключения\n",
      "2 боевик|приключения\n",
      "3 драма|спорт\n",
      "4 фантастика|боевик\n",
      "5 спорт\n",
      "6 приключения\n"
     ]
    }
   ],
   "source": [
    "# при помощи enumerate получаем индекс строк:\n",
    "\n",
    "for i, genre in enumerate(films['Genre']):\n",
    "    print(i, genre)"
   ]
  },
  {
   "cell_type": "code",
   "execution_count": 392,
   "id": "c8c2a6c6",
   "metadata": {},
   "outputs": [
    {
     "name": "stdout",
     "output_type": "stream",
     "text": [
      "0 [0 1]\n",
      "1 [2 0 1]\n",
      "2 [0 1]\n",
      "3 [3 4]\n",
      "4 [2 0]\n",
      "5 [4]\n",
      "6 [1]\n"
     ]
    }
   ],
   "source": [
    "# в цикле получаем индексы столбцов (indx_columns)\n",
    "\n",
    "for i, genre in enumerate(films['Genre']):\n",
    "    indx_columns = matrix.columns.get_indexer(genre.split('|'))\n",
    "    print(i, indx_columns)\n",
    "    \n",
    "    # передаем индексы строк (i) и индексы столбцов (indx_columns) в фиктивную матрицу matrix:\n",
    "    matrix.iloc[i, indx_columns] = 1"
   ]
  },
  {
   "cell_type": "code",
   "execution_count": 196,
   "id": "bef575fe",
   "metadata": {},
   "outputs": [
    {
     "data": {
      "text/html": [
       "<div>\n",
       "<style scoped>\n",
       "    .dataframe tbody tr th:only-of-type {\n",
       "        vertical-align: middle;\n",
       "    }\n",
       "\n",
       "    .dataframe tbody tr th {\n",
       "        vertical-align: top;\n",
       "    }\n",
       "\n",
       "    .dataframe thead th {\n",
       "        text-align: right;\n",
       "    }\n",
       "</style>\n",
       "<table border=\"1\" class=\"dataframe\">\n",
       "  <thead>\n",
       "    <tr style=\"text-align: right;\">\n",
       "      <th></th>\n",
       "      <th>боевик</th>\n",
       "      <th>приключения</th>\n",
       "      <th>фантастика</th>\n",
       "      <th>драма</th>\n",
       "      <th>спорт</th>\n",
       "    </tr>\n",
       "  </thead>\n",
       "  <tbody>\n",
       "    <tr>\n",
       "      <th>0</th>\n",
       "      <td>1</td>\n",
       "      <td>1</td>\n",
       "      <td>0</td>\n",
       "      <td>0</td>\n",
       "      <td>0</td>\n",
       "    </tr>\n",
       "    <tr>\n",
       "      <th>1</th>\n",
       "      <td>1</td>\n",
       "      <td>1</td>\n",
       "      <td>1</td>\n",
       "      <td>0</td>\n",
       "      <td>0</td>\n",
       "    </tr>\n",
       "    <tr>\n",
       "      <th>2</th>\n",
       "      <td>1</td>\n",
       "      <td>1</td>\n",
       "      <td>0</td>\n",
       "      <td>0</td>\n",
       "      <td>0</td>\n",
       "    </tr>\n",
       "    <tr>\n",
       "      <th>3</th>\n",
       "      <td>0</td>\n",
       "      <td>0</td>\n",
       "      <td>0</td>\n",
       "      <td>1</td>\n",
       "      <td>1</td>\n",
       "    </tr>\n",
       "    <tr>\n",
       "      <th>4</th>\n",
       "      <td>1</td>\n",
       "      <td>0</td>\n",
       "      <td>1</td>\n",
       "      <td>0</td>\n",
       "      <td>0</td>\n",
       "    </tr>\n",
       "    <tr>\n",
       "      <th>5</th>\n",
       "      <td>0</td>\n",
       "      <td>0</td>\n",
       "      <td>0</td>\n",
       "      <td>0</td>\n",
       "      <td>1</td>\n",
       "    </tr>\n",
       "    <tr>\n",
       "      <th>6</th>\n",
       "      <td>0</td>\n",
       "      <td>1</td>\n",
       "      <td>0</td>\n",
       "      <td>0</td>\n",
       "      <td>0</td>\n",
       "    </tr>\n",
       "  </tbody>\n",
       "</table>\n",
       "</div>"
      ],
      "text/plain": [
       "   боевик  приключения  фантастика  драма  спорт\n",
       "0       1            1           0      0      0\n",
       "1       1            1           1      0      0\n",
       "2       1            1           0      0      0\n",
       "3       0            0           0      1      1\n",
       "4       1            0           1      0      0\n",
       "5       0            0           0      0      1\n",
       "6       0            1           0      0      0"
      ]
     },
     "execution_count": 196,
     "metadata": {},
     "output_type": "execute_result"
    }
   ],
   "source": [
    "matrix"
   ]
  },
  {
   "cell_type": "code",
   "execution_count": 199,
   "id": "3ba60b44",
   "metadata": {},
   "outputs": [
    {
     "data": {
      "text/html": [
       "<div>\n",
       "<style scoped>\n",
       "    .dataframe tbody tr th:only-of-type {\n",
       "        vertical-align: middle;\n",
       "    }\n",
       "\n",
       "    .dataframe tbody tr th {\n",
       "        vertical-align: top;\n",
       "    }\n",
       "\n",
       "    .dataframe thead th {\n",
       "        text-align: right;\n",
       "    }\n",
       "</style>\n",
       "<table border=\"1\" class=\"dataframe\">\n",
       "  <thead>\n",
       "    <tr style=\"text-align: right;\">\n",
       "      <th></th>\n",
       "      <th>Film</th>\n",
       "      <th>Duration</th>\n",
       "      <th>Genre</th>\n",
       "      <th>Genre_боевик</th>\n",
       "      <th>Genre_приключения</th>\n",
       "      <th>Genre_фантастика</th>\n",
       "      <th>Genre_драма</th>\n",
       "      <th>Genre_спорт</th>\n",
       "    </tr>\n",
       "  </thead>\n",
       "  <tbody>\n",
       "    <tr>\n",
       "      <th>0</th>\n",
       "      <td>Анчартед</td>\n",
       "      <td>115</td>\n",
       "      <td>боевик|приключения</td>\n",
       "      <td>1</td>\n",
       "      <td>1</td>\n",
       "      <td>0</td>\n",
       "      <td>0</td>\n",
       "      <td>0</td>\n",
       "    </tr>\n",
       "    <tr>\n",
       "      <th>1</th>\n",
       "      <td>Доктор Стрэндж</td>\n",
       "      <td>126</td>\n",
       "      <td>фантастика|боевик|приключения</td>\n",
       "      <td>1</td>\n",
       "      <td>1</td>\n",
       "      <td>1</td>\n",
       "      <td>0</td>\n",
       "      <td>0</td>\n",
       "    </tr>\n",
       "    <tr>\n",
       "      <th>2</th>\n",
       "      <td>Соник</td>\n",
       "      <td>122</td>\n",
       "      <td>боевик|приключения</td>\n",
       "      <td>1</td>\n",
       "      <td>1</td>\n",
       "      <td>0</td>\n",
       "      <td>0</td>\n",
       "      <td>0</td>\n",
       "    </tr>\n",
       "    <tr>\n",
       "      <th>3</th>\n",
       "      <td>Одиннадцать</td>\n",
       "      <td>121</td>\n",
       "      <td>драма|спорт</td>\n",
       "      <td>0</td>\n",
       "      <td>0</td>\n",
       "      <td>0</td>\n",
       "      <td>1</td>\n",
       "      <td>1</td>\n",
       "    </tr>\n",
       "    <tr>\n",
       "      <th>4</th>\n",
       "      <td>Тор</td>\n",
       "      <td>119</td>\n",
       "      <td>фантастика|боевик</td>\n",
       "      <td>1</td>\n",
       "      <td>0</td>\n",
       "      <td>1</td>\n",
       "      <td>0</td>\n",
       "      <td>0</td>\n",
       "    </tr>\n",
       "    <tr>\n",
       "      <th>5</th>\n",
       "      <td>Мистер нокаут</td>\n",
       "      <td>118</td>\n",
       "      <td>спорт</td>\n",
       "      <td>0</td>\n",
       "      <td>0</td>\n",
       "      <td>0</td>\n",
       "      <td>0</td>\n",
       "      <td>1</td>\n",
       "    </tr>\n",
       "    <tr>\n",
       "      <th>6</th>\n",
       "      <td>Я краснею</td>\n",
       "      <td>100</td>\n",
       "      <td>приключения</td>\n",
       "      <td>0</td>\n",
       "      <td>1</td>\n",
       "      <td>0</td>\n",
       "      <td>0</td>\n",
       "      <td>0</td>\n",
       "    </tr>\n",
       "  </tbody>\n",
       "</table>\n",
       "</div>"
      ],
      "text/plain": [
       "             Film  Duration                          Genre  Genre_боевик  \\\n",
       "0        Анчартед       115             боевик|приключения             1   \n",
       "1  Доктор Стрэндж       126  фантастика|боевик|приключения             1   \n",
       "2           Соник       122             боевик|приключения             1   \n",
       "3     Одиннадцать       121                    драма|спорт             0   \n",
       "4             Тор       119              фантастика|боевик             1   \n",
       "5   Мистер нокаут       118                          спорт             0   \n",
       "6       Я краснею       100                    приключения             0   \n",
       "\n",
       "   Genre_приключения  Genre_фантастика  Genre_драма  Genre_спорт  \n",
       "0                  1                 0            0            0  \n",
       "1                  1                 1            0            0  \n",
       "2                  1                 0            0            0  \n",
       "3                  0                 0            1            1  \n",
       "4                  0                 1            0            0  \n",
       "5                  0                 0            0            1  \n",
       "6                  1                 0            0            0  "
      ]
     },
     "execution_count": 199,
     "metadata": {},
     "output_type": "execute_result"
    }
   ],
   "source": [
    "# теперь объединим df и получившуюся матрицу:\n",
    "\n",
    "films.join(matrix.add_prefix('Genre_'))"
   ]
  },
  {
   "cell_type": "code",
   "execution_count": null,
   "id": "9ab014cd",
   "metadata": {},
   "outputs": [],
   "source": []
  },
  {
   "cell_type": "code",
   "execution_count": 204,
   "id": "1021276f",
   "metadata": {},
   "outputs": [
    {
     "data": {
      "text/plain": [
       "0    (99.999, 119.0]\n",
       "1     (119.0, 126.0]\n",
       "2     (119.0, 126.0]\n",
       "3     (119.0, 126.0]\n",
       "4    (99.999, 119.0]\n",
       "5    (99.999, 119.0]\n",
       "6    (99.999, 119.0]\n",
       "Name: Duration, dtype: category\n",
       "Categories (2, interval[float64, right]): [(99.999, 119.0] < (119.0, 126.0]]"
      ]
     },
     "execution_count": 204,
     "metadata": {},
     "output_type": "execute_result"
    }
   ],
   "source": [
    "# Матрицу фиктивных переменных можно строить на непрерывных (количественных) переменных, не только на категориальных:\n",
    "\n",
    "# Используя функции cut и qcut\n",
    "\n",
    "# разобъем длительность на два интервала:\n",
    "pd.qcut(films['Duration'],2)"
   ]
  },
  {
   "cell_type": "code",
   "execution_count": 210,
   "id": "ec9e91d8",
   "metadata": {},
   "outputs": [],
   "source": [
    "# зададим имя:\n",
    "\n",
    "m = pd.qcut(films['Duration'],2)"
   ]
  },
  {
   "cell_type": "code",
   "execution_count": 211,
   "id": "95b268a7",
   "metadata": {},
   "outputs": [
    {
     "data": {
      "text/plain": [
       "0    (99.999, 119.0]\n",
       "1     (119.0, 126.0]\n",
       "2     (119.0, 126.0]\n",
       "3     (119.0, 126.0]\n",
       "4    (99.999, 119.0]\n",
       "5    (99.999, 119.0]\n",
       "6    (99.999, 119.0]\n",
       "Name: Duration, dtype: category\n",
       "Categories (2, interval[float64, right]): [(99.999, 119.0] < (119.0, 126.0]]"
      ]
     },
     "execution_count": 211,
     "metadata": {},
     "output_type": "execute_result"
    }
   ],
   "source": [
    "m"
   ]
  },
  {
   "cell_type": "code",
   "execution_count": 212,
   "id": "e6453f96",
   "metadata": {},
   "outputs": [
    {
     "data": {
      "text/html": [
       "<div>\n",
       "<style scoped>\n",
       "    .dataframe tbody tr th:only-of-type {\n",
       "        vertical-align: middle;\n",
       "    }\n",
       "\n",
       "    .dataframe tbody tr th {\n",
       "        vertical-align: top;\n",
       "    }\n",
       "\n",
       "    .dataframe thead th {\n",
       "        text-align: right;\n",
       "    }\n",
       "</style>\n",
       "<table border=\"1\" class=\"dataframe\">\n",
       "  <thead>\n",
       "    <tr style=\"text-align: right;\">\n",
       "      <th></th>\n",
       "      <th>(99.999, 119.0]</th>\n",
       "      <th>(119.0, 126.0]</th>\n",
       "    </tr>\n",
       "  </thead>\n",
       "  <tbody>\n",
       "    <tr>\n",
       "      <th>0</th>\n",
       "      <td>1</td>\n",
       "      <td>0</td>\n",
       "    </tr>\n",
       "    <tr>\n",
       "      <th>1</th>\n",
       "      <td>0</td>\n",
       "      <td>1</td>\n",
       "    </tr>\n",
       "    <tr>\n",
       "      <th>2</th>\n",
       "      <td>0</td>\n",
       "      <td>1</td>\n",
       "    </tr>\n",
       "    <tr>\n",
       "      <th>3</th>\n",
       "      <td>0</td>\n",
       "      <td>1</td>\n",
       "    </tr>\n",
       "    <tr>\n",
       "      <th>4</th>\n",
       "      <td>1</td>\n",
       "      <td>0</td>\n",
       "    </tr>\n",
       "    <tr>\n",
       "      <th>5</th>\n",
       "      <td>1</td>\n",
       "      <td>0</td>\n",
       "    </tr>\n",
       "    <tr>\n",
       "      <th>6</th>\n",
       "      <td>1</td>\n",
       "      <td>0</td>\n",
       "    </tr>\n",
       "  </tbody>\n",
       "</table>\n",
       "</div>"
      ],
      "text/plain": [
       "   (99.999, 119.0]  (119.0, 126.0]\n",
       "0                1               0\n",
       "1                0               1\n",
       "2                0               1\n",
       "3                0               1\n",
       "4                1               0\n",
       "5                1               0\n",
       "6                1               0"
      ]
     },
     "execution_count": 212,
     "metadata": {},
     "output_type": "execute_result"
    }
   ],
   "source": [
    "# Серию m можно передать функции get_dummies и получить матрицу фиктивных значений:\n",
    "\n",
    "pd.get_dummies(m)"
   ]
  },
  {
   "cell_type": "code",
   "execution_count": 213,
   "id": "25c4b504",
   "metadata": {},
   "outputs": [
    {
     "data": {
      "text/html": [
       "<div>\n",
       "<style scoped>\n",
       "    .dataframe tbody tr th:only-of-type {\n",
       "        vertical-align: middle;\n",
       "    }\n",
       "\n",
       "    .dataframe tbody tr th {\n",
       "        vertical-align: top;\n",
       "    }\n",
       "\n",
       "    .dataframe thead th {\n",
       "        text-align: right;\n",
       "    }\n",
       "</style>\n",
       "<table border=\"1\" class=\"dataframe\">\n",
       "  <thead>\n",
       "    <tr style=\"text-align: right;\">\n",
       "      <th></th>\n",
       "      <th>Film</th>\n",
       "      <th>Duration</th>\n",
       "      <th>Genre</th>\n",
       "      <th>(99.999, 119.0]</th>\n",
       "      <th>(119.0, 126.0]</th>\n",
       "    </tr>\n",
       "  </thead>\n",
       "  <tbody>\n",
       "    <tr>\n",
       "      <th>0</th>\n",
       "      <td>Анчартед</td>\n",
       "      <td>115</td>\n",
       "      <td>боевик|приключения</td>\n",
       "      <td>1</td>\n",
       "      <td>0</td>\n",
       "    </tr>\n",
       "    <tr>\n",
       "      <th>1</th>\n",
       "      <td>Доктор Стрэндж</td>\n",
       "      <td>126</td>\n",
       "      <td>фантастика|боевик|приключения</td>\n",
       "      <td>0</td>\n",
       "      <td>1</td>\n",
       "    </tr>\n",
       "    <tr>\n",
       "      <th>2</th>\n",
       "      <td>Соник</td>\n",
       "      <td>122</td>\n",
       "      <td>боевик|приключения</td>\n",
       "      <td>0</td>\n",
       "      <td>1</td>\n",
       "    </tr>\n",
       "    <tr>\n",
       "      <th>3</th>\n",
       "      <td>Одиннадцать</td>\n",
       "      <td>121</td>\n",
       "      <td>драма|спорт</td>\n",
       "      <td>0</td>\n",
       "      <td>1</td>\n",
       "    </tr>\n",
       "    <tr>\n",
       "      <th>4</th>\n",
       "      <td>Тор</td>\n",
       "      <td>119</td>\n",
       "      <td>фантастика|боевик</td>\n",
       "      <td>1</td>\n",
       "      <td>0</td>\n",
       "    </tr>\n",
       "    <tr>\n",
       "      <th>5</th>\n",
       "      <td>Мистер нокаут</td>\n",
       "      <td>118</td>\n",
       "      <td>спорт</td>\n",
       "      <td>1</td>\n",
       "      <td>0</td>\n",
       "    </tr>\n",
       "    <tr>\n",
       "      <th>6</th>\n",
       "      <td>Я краснею</td>\n",
       "      <td>100</td>\n",
       "      <td>приключения</td>\n",
       "      <td>1</td>\n",
       "      <td>0</td>\n",
       "    </tr>\n",
       "  </tbody>\n",
       "</table>\n",
       "</div>"
      ],
      "text/plain": [
       "             Film  Duration                          Genre  (99.999, 119.0]  \\\n",
       "0        Анчартед       115             боевик|приключения                1   \n",
       "1  Доктор Стрэндж       126  фантастика|боевик|приключения                0   \n",
       "2           Соник       122             боевик|приключения                0   \n",
       "3     Одиннадцать       121                    драма|спорт                0   \n",
       "4             Тор       119              фантастика|боевик                1   \n",
       "5   Мистер нокаут       118                          спорт                1   \n",
       "6       Я краснею       100                    приключения                1   \n",
       "\n",
       "   (119.0, 126.0]  \n",
       "0               0  \n",
       "1               1  \n",
       "2               1  \n",
       "3               1  \n",
       "4               0  \n",
       "5               0  \n",
       "6               0  "
      ]
     },
     "execution_count": 213,
     "metadata": {},
     "output_type": "execute_result"
    }
   ],
   "source": [
    "# теперь эту матрицу можно так же сджойнить с названиями и другими параметрами фильмов:\n",
    "\n",
    "matrix = pd.get_dummies(m)\n",
    "\n",
    "films.join(matrix)\n"
   ]
  },
  {
   "cell_type": "code",
   "execution_count": null,
   "id": "19a85e0e",
   "metadata": {},
   "outputs": [],
   "source": []
  },
  {
   "cell_type": "code",
   "execution_count": 243,
   "id": "d7eefae8",
   "metadata": {},
   "outputs": [],
   "source": [
    "# Задача\n",
    "\n",
    "# account - аккаунт пользователя\n",
    "# lang - предпочитаемый язык озвучки фильма у пользователя\n",
    "# tarif - активный тариф пользователя\n",
    "\n",
    "# Постройте две матрицы фиктивных переменных: одну для lang, а \n",
    "# вторую для tarif. Объедините их с исходным датафреймом. \n",
    "# А затем удалите столбцы lang и tarif.\n",
    "\n",
    "_df = pd.DataFrame([['ivan333@gmail.com', 'matvey443@mail.ru', 'jeck44@meil.ru',\n",
    "                     'katy4443@mail.ru', 'roma443@mail.ru'],\n",
    "                   ['ru', 'en', 'jp', 'ru', 'kz'],\n",
    "                    ['demo', 'demo', 'regular', 'regular', np.NAN]]\n",
    "                   ).T\n",
    "_df.columns = ['account', 'lang', 'tarif']\n",
    "\n",
    "\n",
    "# Важные дополнения:\n",
    "# -Если у пользователя пропущен тариф, то установите тариф regular."
   ]
  },
  {
   "cell_type": "code",
   "execution_count": 244,
   "id": "25c55e9e",
   "metadata": {},
   "outputs": [],
   "source": [
    "_df['tarif'] = _df['tarif'].fillna('regular')"
   ]
  },
  {
   "cell_type": "code",
   "execution_count": 245,
   "id": "4b254c1e",
   "metadata": {},
   "outputs": [
    {
     "data": {
      "text/html": [
       "<div>\n",
       "<style scoped>\n",
       "    .dataframe tbody tr th:only-of-type {\n",
       "        vertical-align: middle;\n",
       "    }\n",
       "\n",
       "    .dataframe tbody tr th {\n",
       "        vertical-align: top;\n",
       "    }\n",
       "\n",
       "    .dataframe thead th {\n",
       "        text-align: right;\n",
       "    }\n",
       "</style>\n",
       "<table border=\"1\" class=\"dataframe\">\n",
       "  <thead>\n",
       "    <tr style=\"text-align: right;\">\n",
       "      <th></th>\n",
       "      <th>account</th>\n",
       "      <th>lang</th>\n",
       "      <th>tarif</th>\n",
       "    </tr>\n",
       "  </thead>\n",
       "  <tbody>\n",
       "    <tr>\n",
       "      <th>0</th>\n",
       "      <td>ivan333@gmail.com</td>\n",
       "      <td>ru</td>\n",
       "      <td>demo</td>\n",
       "    </tr>\n",
       "    <tr>\n",
       "      <th>1</th>\n",
       "      <td>matvey443@mail.ru</td>\n",
       "      <td>en</td>\n",
       "      <td>demo</td>\n",
       "    </tr>\n",
       "    <tr>\n",
       "      <th>2</th>\n",
       "      <td>jeck44@meil.ru</td>\n",
       "      <td>jp</td>\n",
       "      <td>regular</td>\n",
       "    </tr>\n",
       "    <tr>\n",
       "      <th>3</th>\n",
       "      <td>katy4443@mail.ru</td>\n",
       "      <td>ru</td>\n",
       "      <td>regular</td>\n",
       "    </tr>\n",
       "    <tr>\n",
       "      <th>4</th>\n",
       "      <td>roma443@mail.ru</td>\n",
       "      <td>kz</td>\n",
       "      <td>regular</td>\n",
       "    </tr>\n",
       "  </tbody>\n",
       "</table>\n",
       "</div>"
      ],
      "text/plain": [
       "             account lang    tarif\n",
       "0  ivan333@gmail.com   ru     demo\n",
       "1  matvey443@mail.ru   en     demo\n",
       "2     jeck44@meil.ru   jp  regular\n",
       "3   katy4443@mail.ru   ru  regular\n",
       "4    roma443@mail.ru   kz  regular"
      ]
     },
     "execution_count": 245,
     "metadata": {},
     "output_type": "execute_result"
    }
   ],
   "source": [
    "_df"
   ]
  },
  {
   "cell_type": "code",
   "execution_count": 252,
   "id": "d2440992",
   "metadata": {},
   "outputs": [],
   "source": [
    "lang_matrix = pd.get_dummies(_df['lang'], prefix = 'lang')"
   ]
  },
  {
   "cell_type": "code",
   "execution_count": 253,
   "id": "834a931e",
   "metadata": {},
   "outputs": [],
   "source": [
    "lang_tarif = pd.get_dummies(_df['tarif'], prefix = 'tarif')"
   ]
  },
  {
   "cell_type": "code",
   "execution_count": 254,
   "id": "6964a884",
   "metadata": {
    "scrolled": true
   },
   "outputs": [
    {
     "data": {
      "text/html": [
       "<div>\n",
       "<style scoped>\n",
       "    .dataframe tbody tr th:only-of-type {\n",
       "        vertical-align: middle;\n",
       "    }\n",
       "\n",
       "    .dataframe tbody tr th {\n",
       "        vertical-align: top;\n",
       "    }\n",
       "\n",
       "    .dataframe thead th {\n",
       "        text-align: right;\n",
       "    }\n",
       "</style>\n",
       "<table border=\"1\" class=\"dataframe\">\n",
       "  <thead>\n",
       "    <tr style=\"text-align: right;\">\n",
       "      <th></th>\n",
       "      <th>account</th>\n",
       "      <th>lang</th>\n",
       "      <th>tarif</th>\n",
       "      <th>lang_en</th>\n",
       "      <th>lang_jp</th>\n",
       "      <th>lang_kz</th>\n",
       "      <th>lang_ru</th>\n",
       "      <th>tarif_demo</th>\n",
       "      <th>tarif_regular</th>\n",
       "    </tr>\n",
       "  </thead>\n",
       "  <tbody>\n",
       "    <tr>\n",
       "      <th>0</th>\n",
       "      <td>ivan333@gmail.com</td>\n",
       "      <td>ru</td>\n",
       "      <td>demo</td>\n",
       "      <td>0</td>\n",
       "      <td>0</td>\n",
       "      <td>0</td>\n",
       "      <td>1</td>\n",
       "      <td>1</td>\n",
       "      <td>0</td>\n",
       "    </tr>\n",
       "    <tr>\n",
       "      <th>1</th>\n",
       "      <td>matvey443@mail.ru</td>\n",
       "      <td>en</td>\n",
       "      <td>demo</td>\n",
       "      <td>1</td>\n",
       "      <td>0</td>\n",
       "      <td>0</td>\n",
       "      <td>0</td>\n",
       "      <td>1</td>\n",
       "      <td>0</td>\n",
       "    </tr>\n",
       "    <tr>\n",
       "      <th>2</th>\n",
       "      <td>jeck44@meil.ru</td>\n",
       "      <td>jp</td>\n",
       "      <td>regular</td>\n",
       "      <td>0</td>\n",
       "      <td>1</td>\n",
       "      <td>0</td>\n",
       "      <td>0</td>\n",
       "      <td>0</td>\n",
       "      <td>1</td>\n",
       "    </tr>\n",
       "    <tr>\n",
       "      <th>3</th>\n",
       "      <td>katy4443@mail.ru</td>\n",
       "      <td>ru</td>\n",
       "      <td>regular</td>\n",
       "      <td>0</td>\n",
       "      <td>0</td>\n",
       "      <td>0</td>\n",
       "      <td>1</td>\n",
       "      <td>0</td>\n",
       "      <td>1</td>\n",
       "    </tr>\n",
       "    <tr>\n",
       "      <th>4</th>\n",
       "      <td>roma443@mail.ru</td>\n",
       "      <td>kz</td>\n",
       "      <td>regular</td>\n",
       "      <td>0</td>\n",
       "      <td>0</td>\n",
       "      <td>1</td>\n",
       "      <td>0</td>\n",
       "      <td>0</td>\n",
       "      <td>1</td>\n",
       "    </tr>\n",
       "  </tbody>\n",
       "</table>\n",
       "</div>"
      ],
      "text/plain": [
       "             account lang    tarif  lang_en  lang_jp  lang_kz  lang_ru  \\\n",
       "0  ivan333@gmail.com   ru     demo        0        0        0        1   \n",
       "1  matvey443@mail.ru   en     demo        1        0        0        0   \n",
       "2     jeck44@meil.ru   jp  regular        0        1        0        0   \n",
       "3   katy4443@mail.ru   ru  regular        0        0        0        1   \n",
       "4    roma443@mail.ru   kz  regular        0        0        1        0   \n",
       "\n",
       "   tarif_demo  tarif_regular  \n",
       "0           1              0  \n",
       "1           1              0  \n",
       "2           0              1  \n",
       "3           0              1  \n",
       "4           0              1  "
      ]
     },
     "execution_count": 254,
     "metadata": {},
     "output_type": "execute_result"
    }
   ],
   "source": [
    "_df.join(lang_matrix).join(lang_tarif)"
   ]
  },
  {
   "cell_type": "code",
   "execution_count": 255,
   "id": "f881dd6e",
   "metadata": {},
   "outputs": [],
   "source": [
    "matrix = _df.join(lang_matrix).join(lang_tarif)"
   ]
  },
  {
   "cell_type": "code",
   "execution_count": 256,
   "id": "8eed4d20",
   "metadata": {},
   "outputs": [
    {
     "data": {
      "text/html": [
       "<div>\n",
       "<style scoped>\n",
       "    .dataframe tbody tr th:only-of-type {\n",
       "        vertical-align: middle;\n",
       "    }\n",
       "\n",
       "    .dataframe tbody tr th {\n",
       "        vertical-align: top;\n",
       "    }\n",
       "\n",
       "    .dataframe thead th {\n",
       "        text-align: right;\n",
       "    }\n",
       "</style>\n",
       "<table border=\"1\" class=\"dataframe\">\n",
       "  <thead>\n",
       "    <tr style=\"text-align: right;\">\n",
       "      <th></th>\n",
       "      <th>account</th>\n",
       "      <th>lang_en</th>\n",
       "      <th>lang_jp</th>\n",
       "      <th>lang_kz</th>\n",
       "      <th>lang_ru</th>\n",
       "      <th>tarif_demo</th>\n",
       "      <th>tarif_regular</th>\n",
       "    </tr>\n",
       "  </thead>\n",
       "  <tbody>\n",
       "    <tr>\n",
       "      <th>0</th>\n",
       "      <td>ivan333@gmail.com</td>\n",
       "      <td>0</td>\n",
       "      <td>0</td>\n",
       "      <td>0</td>\n",
       "      <td>1</td>\n",
       "      <td>1</td>\n",
       "      <td>0</td>\n",
       "    </tr>\n",
       "    <tr>\n",
       "      <th>1</th>\n",
       "      <td>matvey443@mail.ru</td>\n",
       "      <td>1</td>\n",
       "      <td>0</td>\n",
       "      <td>0</td>\n",
       "      <td>0</td>\n",
       "      <td>1</td>\n",
       "      <td>0</td>\n",
       "    </tr>\n",
       "    <tr>\n",
       "      <th>2</th>\n",
       "      <td>jeck44@meil.ru</td>\n",
       "      <td>0</td>\n",
       "      <td>1</td>\n",
       "      <td>0</td>\n",
       "      <td>0</td>\n",
       "      <td>0</td>\n",
       "      <td>1</td>\n",
       "    </tr>\n",
       "    <tr>\n",
       "      <th>3</th>\n",
       "      <td>katy4443@mail.ru</td>\n",
       "      <td>0</td>\n",
       "      <td>0</td>\n",
       "      <td>0</td>\n",
       "      <td>1</td>\n",
       "      <td>0</td>\n",
       "      <td>1</td>\n",
       "    </tr>\n",
       "    <tr>\n",
       "      <th>4</th>\n",
       "      <td>roma443@mail.ru</td>\n",
       "      <td>0</td>\n",
       "      <td>0</td>\n",
       "      <td>1</td>\n",
       "      <td>0</td>\n",
       "      <td>0</td>\n",
       "      <td>1</td>\n",
       "    </tr>\n",
       "  </tbody>\n",
       "</table>\n",
       "</div>"
      ],
      "text/plain": [
       "             account  lang_en  lang_jp  lang_kz  lang_ru  tarif_demo  \\\n",
       "0  ivan333@gmail.com        0        0        0        1           1   \n",
       "1  matvey443@mail.ru        1        0        0        0           1   \n",
       "2     jeck44@meil.ru        0        1        0        0           0   \n",
       "3   katy4443@mail.ru        0        0        0        1           0   \n",
       "4    roma443@mail.ru        0        0        1        0           0   \n",
       "\n",
       "   tarif_regular  \n",
       "0              0  \n",
       "1              0  \n",
       "2              1  \n",
       "3              1  \n",
       "4              1  "
      ]
     },
     "execution_count": 256,
     "metadata": {},
     "output_type": "execute_result"
    }
   ],
   "source": [
    "matrix.drop(['lang', 'tarif'], axis = 1)"
   ]
  },
  {
   "cell_type": "code",
   "execution_count": 257,
   "id": "41463d98",
   "metadata": {},
   "outputs": [
    {
     "data": {
      "text/html": [
       "<div>\n",
       "<style scoped>\n",
       "    .dataframe tbody tr th:only-of-type {\n",
       "        vertical-align: middle;\n",
       "    }\n",
       "\n",
       "    .dataframe tbody tr th {\n",
       "        vertical-align: top;\n",
       "    }\n",
       "\n",
       "    .dataframe thead th {\n",
       "        text-align: right;\n",
       "    }\n",
       "</style>\n",
       "<table border=\"1\" class=\"dataframe\">\n",
       "  <thead>\n",
       "    <tr style=\"text-align: right;\">\n",
       "      <th></th>\n",
       "      <th>account</th>\n",
       "      <th>lang_en</th>\n",
       "      <th>lang_jp</th>\n",
       "      <th>lang_kz</th>\n",
       "      <th>lang_ru</th>\n",
       "      <th>tarif_demo</th>\n",
       "      <th>tarif_regular</th>\n",
       "    </tr>\n",
       "  </thead>\n",
       "  <tbody>\n",
       "    <tr>\n",
       "      <th>0</th>\n",
       "      <td>ivan333@gmail.com</td>\n",
       "      <td>0</td>\n",
       "      <td>0</td>\n",
       "      <td>0</td>\n",
       "      <td>1</td>\n",
       "      <td>1</td>\n",
       "      <td>0</td>\n",
       "    </tr>\n",
       "    <tr>\n",
       "      <th>1</th>\n",
       "      <td>matvey443@mail.ru</td>\n",
       "      <td>1</td>\n",
       "      <td>0</td>\n",
       "      <td>0</td>\n",
       "      <td>0</td>\n",
       "      <td>1</td>\n",
       "      <td>0</td>\n",
       "    </tr>\n",
       "    <tr>\n",
       "      <th>2</th>\n",
       "      <td>jeck44@meil.ru</td>\n",
       "      <td>0</td>\n",
       "      <td>1</td>\n",
       "      <td>0</td>\n",
       "      <td>0</td>\n",
       "      <td>0</td>\n",
       "      <td>1</td>\n",
       "    </tr>\n",
       "    <tr>\n",
       "      <th>3</th>\n",
       "      <td>katy4443@mail.ru</td>\n",
       "      <td>0</td>\n",
       "      <td>0</td>\n",
       "      <td>0</td>\n",
       "      <td>1</td>\n",
       "      <td>0</td>\n",
       "      <td>1</td>\n",
       "    </tr>\n",
       "    <tr>\n",
       "      <th>4</th>\n",
       "      <td>roma443@mail.ru</td>\n",
       "      <td>0</td>\n",
       "      <td>0</td>\n",
       "      <td>1</td>\n",
       "      <td>0</td>\n",
       "      <td>0</td>\n",
       "      <td>1</td>\n",
       "    </tr>\n",
       "  </tbody>\n",
       "</table>\n",
       "</div>"
      ],
      "text/plain": [
       "             account  lang_en  lang_jp  lang_kz  lang_ru  tarif_demo  \\\n",
       "0  ivan333@gmail.com        0        0        0        1           1   \n",
       "1  matvey443@mail.ru        1        0        0        0           1   \n",
       "2     jeck44@meil.ru        0        1        0        0           0   \n",
       "3   katy4443@mail.ru        0        0        0        1           0   \n",
       "4    roma443@mail.ru        0        0        1        0           0   \n",
       "\n",
       "   tarif_regular  \n",
       "0              0  \n",
       "1              0  \n",
       "2              1  \n",
       "3              1  \n",
       "4              1  "
      ]
     },
     "execution_count": 257,
     "metadata": {},
     "output_type": "execute_result"
    }
   ],
   "source": [
    "# Всё в одну строчку:\n",
    "\n",
    "_df.join(lang_matrix).join(lang_tarif).drop(['lang', 'tarif'], axis = 1)"
   ]
  },
  {
   "cell_type": "code",
   "execution_count": null,
   "id": "0a06aaeb",
   "metadata": {},
   "outputs": [],
   "source": []
  },
  {
   "cell_type": "code",
   "execution_count": null,
   "id": "d950bc06",
   "metadata": {},
   "outputs": [],
   "source": []
  },
  {
   "cell_type": "code",
   "execution_count": null,
   "id": "57fccce0",
   "metadata": {},
   "outputs": [],
   "source": []
  },
  {
   "cell_type": "code",
   "execution_count": null,
   "id": "669ef202",
   "metadata": {},
   "outputs": [],
   "source": []
  },
  {
   "cell_type": "code",
   "execution_count": 446,
   "id": "cffa3cb7",
   "metadata": {},
   "outputs": [],
   "source": [
    "# Задача, в столбце lang теперь несколько языков:\n",
    "\n",
    "df = pd.DataFrame({'account': {0: 'ivan111@gmail.com', 1: 'ivan000@mail.ru', 2: 'je=ack123@mail.ru', 3: 'petr432@yandex.ru', 4: 'jack000@yandex.ru'},\n",
    "\n",
    "      'lang': {0: 'ru', 1: 'en,jp', 2: 'jp,en', 3: 'ru,en', 4: 'jp,ru'},\n",
    "\n",
    "      'tarif': {0: 'demo', 1: 'demo', 2: 'regular', 3: 'regular', 4: 'demo'}})"
   ]
  },
  {
   "cell_type": "code",
   "execution_count": 447,
   "id": "f858035c",
   "metadata": {},
   "outputs": [
    {
     "data": {
      "text/html": [
       "<div>\n",
       "<style scoped>\n",
       "    .dataframe tbody tr th:only-of-type {\n",
       "        vertical-align: middle;\n",
       "    }\n",
       "\n",
       "    .dataframe tbody tr th {\n",
       "        vertical-align: top;\n",
       "    }\n",
       "\n",
       "    .dataframe thead th {\n",
       "        text-align: right;\n",
       "    }\n",
       "</style>\n",
       "<table border=\"1\" class=\"dataframe\">\n",
       "  <thead>\n",
       "    <tr style=\"text-align: right;\">\n",
       "      <th></th>\n",
       "      <th>account</th>\n",
       "      <th>lang</th>\n",
       "      <th>tarif</th>\n",
       "    </tr>\n",
       "  </thead>\n",
       "  <tbody>\n",
       "    <tr>\n",
       "      <th>0</th>\n",
       "      <td>ivan111@gmail.com</td>\n",
       "      <td>ru</td>\n",
       "      <td>demo</td>\n",
       "    </tr>\n",
       "    <tr>\n",
       "      <th>1</th>\n",
       "      <td>ivan000@mail.ru</td>\n",
       "      <td>en,jp</td>\n",
       "      <td>demo</td>\n",
       "    </tr>\n",
       "    <tr>\n",
       "      <th>2</th>\n",
       "      <td>je=ack123@mail.ru</td>\n",
       "      <td>jp,en</td>\n",
       "      <td>regular</td>\n",
       "    </tr>\n",
       "    <tr>\n",
       "      <th>3</th>\n",
       "      <td>petr432@yandex.ru</td>\n",
       "      <td>ru,en</td>\n",
       "      <td>regular</td>\n",
       "    </tr>\n",
       "    <tr>\n",
       "      <th>4</th>\n",
       "      <td>jack000@yandex.ru</td>\n",
       "      <td>jp,ru</td>\n",
       "      <td>demo</td>\n",
       "    </tr>\n",
       "  </tbody>\n",
       "</table>\n",
       "</div>"
      ],
      "text/plain": [
       "             account   lang    tarif\n",
       "0  ivan111@gmail.com     ru     demo\n",
       "1    ivan000@mail.ru  en,jp     demo\n",
       "2  je=ack123@mail.ru  jp,en  regular\n",
       "3  petr432@yandex.ru  ru,en  regular\n",
       "4  jack000@yandex.ru  jp,ru     demo"
      ]
     },
     "execution_count": 447,
     "metadata": {},
     "output_type": "execute_result"
    }
   ],
   "source": [
    "df"
   ]
  },
  {
   "cell_type": "code",
   "execution_count": 421,
   "id": "4e9698e0",
   "metadata": {},
   "outputs": [
    {
     "name": "stdout",
     "output_type": "stream",
     "text": [
      "0 ru\n",
      "1 en,jp\n",
      "2 jp,en\n",
      "3 ru,en\n",
      "4 jp,ru\n"
     ]
    }
   ],
   "source": [
    "# получаем индексы строк и значения языков для каждой строки:\n",
    "\n",
    "for i, lang in enumerate(df['lang']):\n",
    "    print(i, lang)"
   ]
  },
  {
   "cell_type": "code",
   "execution_count": 448,
   "id": "d170830e",
   "metadata": {},
   "outputs": [
    {
     "name": "stdout",
     "output_type": "stream",
     "text": [
      "['ru']\n",
      "['en', 'jp']\n",
      "['jp', 'en']\n",
      "['ru', 'en']\n",
      "['jp', 'ru']\n"
     ]
    }
   ],
   "source": [
    "# собираем все значения языков в список langs:\n",
    "\n",
    "langs = []\n",
    "for i in df['lang']:\n",
    "    print(i.split(','))\n",
    "    langs.extend(i.split(','))"
   ]
  },
  {
   "cell_type": "code",
   "execution_count": 451,
   "id": "6d70766f",
   "metadata": {},
   "outputs": [
    {
     "data": {
      "text/plain": [
       "array(['en', 'jp', 'ru'], dtype=object)"
      ]
     },
     "execution_count": 451,
     "metadata": {},
     "output_type": "execute_result"
    }
   ],
   "source": [
    "# оставляем только уникальные языки\n",
    "langs_unique = pd.unique(sorted(langs))\n",
    "langs_unique"
   ]
  },
  {
   "cell_type": "code",
   "execution_count": 452,
   "id": "72abd5bc",
   "metadata": {},
   "outputs": [
    {
     "data": {
      "text/plain": [
       "array([[0., 0., 0.],\n",
       "       [0., 0., 0.],\n",
       "       [0., 0., 0.],\n",
       "       [0., 0., 0.],\n",
       "       [0., 0., 0.]])"
      ]
     },
     "execution_count": 452,
     "metadata": {},
     "output_type": "execute_result"
    }
   ],
   "source": [
    "# задаем матрицу нулей по размерам как фиктивная матрица:\n",
    "\n",
    "np.zeros((len(df), len(langs_unique)))"
   ]
  },
  {
   "cell_type": "code",
   "execution_count": 453,
   "id": "91237a04",
   "metadata": {},
   "outputs": [
    {
     "data": {
      "text/html": [
       "<div>\n",
       "<style scoped>\n",
       "    .dataframe tbody tr th:only-of-type {\n",
       "        vertical-align: middle;\n",
       "    }\n",
       "\n",
       "    .dataframe tbody tr th {\n",
       "        vertical-align: top;\n",
       "    }\n",
       "\n",
       "    .dataframe thead th {\n",
       "        text-align: right;\n",
       "    }\n",
       "</style>\n",
       "<table border=\"1\" class=\"dataframe\">\n",
       "  <thead>\n",
       "    <tr style=\"text-align: right;\">\n",
       "      <th></th>\n",
       "      <th>en</th>\n",
       "      <th>jp</th>\n",
       "      <th>ru</th>\n",
       "    </tr>\n",
       "  </thead>\n",
       "  <tbody>\n",
       "    <tr>\n",
       "      <th>0</th>\n",
       "      <td>0</td>\n",
       "      <td>0</td>\n",
       "      <td>0</td>\n",
       "    </tr>\n",
       "    <tr>\n",
       "      <th>1</th>\n",
       "      <td>0</td>\n",
       "      <td>0</td>\n",
       "      <td>0</td>\n",
       "    </tr>\n",
       "    <tr>\n",
       "      <th>2</th>\n",
       "      <td>0</td>\n",
       "      <td>0</td>\n",
       "      <td>0</td>\n",
       "    </tr>\n",
       "    <tr>\n",
       "      <th>3</th>\n",
       "      <td>0</td>\n",
       "      <td>0</td>\n",
       "      <td>0</td>\n",
       "    </tr>\n",
       "    <tr>\n",
       "      <th>4</th>\n",
       "      <td>0</td>\n",
       "      <td>0</td>\n",
       "      <td>0</td>\n",
       "    </tr>\n",
       "  </tbody>\n",
       "</table>\n",
       "</div>"
      ],
      "text/plain": [
       "   en  jp  ru\n",
       "0   0   0   0\n",
       "1   0   0   0\n",
       "2   0   0   0\n",
       "3   0   0   0\n",
       "4   0   0   0"
      ]
     },
     "execution_count": 453,
     "metadata": {},
     "output_type": "execute_result"
    }
   ],
   "source": [
    "# делаем из этой матрицы датафрейм, задаем название колонок как langs_unique\n",
    "\n",
    "matrix = np.zeros((len(df), len(langs_unique)))\n",
    "df_matrix = pd.DataFrame(matrix, dtype = 'int64')\n",
    "df_matrix.columns = langs_unique\n",
    "df_matrix"
   ]
  },
  {
   "cell_type": "code",
   "execution_count": 454,
   "id": "0251c86a",
   "metadata": {},
   "outputs": [
    {
     "data": {
      "text/plain": [
       "array([0, 1], dtype=int64)"
      ]
     },
     "execution_count": 454,
     "metadata": {},
     "output_type": "execute_result"
    }
   ],
   "source": [
    "# тренируемся получать значения столбцов из df_matrix по списку языков:\n",
    "\n",
    "df_matrix.columns.get_indexer(['en', 'jp'])"
   ]
  },
  {
   "cell_type": "code",
   "execution_count": 455,
   "id": "17e4aded",
   "metadata": {},
   "outputs": [
    {
     "name": "stdout",
     "output_type": "stream",
     "text": [
      "[2]\n",
      "[0 1]\n",
      "[1 0]\n",
      "[2 0]\n",
      "[1 2]\n"
     ]
    }
   ],
   "source": [
    "# получаем все значения столбцов\n",
    "\n",
    "for i in df['lang']:\n",
    "    print(df_matrix.columns.get_indexer(i.split(',')))      "
   ]
  },
  {
   "cell_type": "code",
   "execution_count": 456,
   "id": "f8563c5a",
   "metadata": {},
   "outputs": [
    {
     "name": "stdout",
     "output_type": "stream",
     "text": [
      "0 ['ru']\n",
      "1 ['en', 'jp']\n",
      "2 ['jp', 'en']\n",
      "3 ['ru', 'en']\n",
      "4 ['jp', 'ru']\n"
     ]
    }
   ],
   "source": [
    "# получаем значение строк i\n",
    "\n",
    "for i, lang in enumerate(df['lang']):\n",
    "    print(i, lang.split(','))"
   ]
  },
  {
   "cell_type": "code",
   "execution_count": 457,
   "id": "7fe6a5e3",
   "metadata": {},
   "outputs": [
    {
     "name": "stdout",
     "output_type": "stream",
     "text": [
      "0 [2]\n",
      "1 [0 1]\n",
      "2 [1 0]\n",
      "3 [2 0]\n",
      "4 [1 2]\n"
     ]
    }
   ],
   "source": [
    "# получаем и значение строк i и также значения столбцов относящихся к языку:\n",
    "\n",
    "for i, lang in enumerate(df['lang']):\n",
    "    print(i, df_matrix.columns.get_indexer(lang.split(',')))"
   ]
  },
  {
   "cell_type": "code",
   "execution_count": 458,
   "id": "a34e4aac",
   "metadata": {},
   "outputs": [
    {
     "name": "stdout",
     "output_type": "stream",
     "text": [
      "0 [2]\n",
      "1 [0 1]\n",
      "2 [1 0]\n",
      "3 [2 0]\n",
      "4 [1 2]\n"
     ]
    }
   ],
   "source": [
    "# при помощи iloc присваиваем еденицу значениям в df_matrix по координатам нужных строк и столбцов:\n",
    "\n",
    "for i, lang in enumerate(df['lang']):\n",
    "    indx_columns = df_matrix.columns.get_indexer(lang.split(','))\n",
    "    print(i, indx_columns)\n",
    "    df_matrix.iloc[i, indx_columns] = 1"
   ]
  },
  {
   "cell_type": "code",
   "execution_count": 459,
   "id": "1ba0290f",
   "metadata": {},
   "outputs": [],
   "source": [
    "# только здесь удается присовить префикс\n",
    "\n",
    "df_matrix.columns = 'lang_' + df_matrix.columns"
   ]
  },
  {
   "cell_type": "code",
   "execution_count": 460,
   "id": "bcf04282",
   "metadata": {},
   "outputs": [
    {
     "data": {
      "text/html": [
       "<div>\n",
       "<style scoped>\n",
       "    .dataframe tbody tr th:only-of-type {\n",
       "        vertical-align: middle;\n",
       "    }\n",
       "\n",
       "    .dataframe tbody tr th {\n",
       "        vertical-align: top;\n",
       "    }\n",
       "\n",
       "    .dataframe thead th {\n",
       "        text-align: right;\n",
       "    }\n",
       "</style>\n",
       "<table border=\"1\" class=\"dataframe\">\n",
       "  <thead>\n",
       "    <tr style=\"text-align: right;\">\n",
       "      <th></th>\n",
       "      <th>lang_en</th>\n",
       "      <th>lang_jp</th>\n",
       "      <th>lang_ru</th>\n",
       "    </tr>\n",
       "  </thead>\n",
       "  <tbody>\n",
       "    <tr>\n",
       "      <th>0</th>\n",
       "      <td>0</td>\n",
       "      <td>0</td>\n",
       "      <td>1</td>\n",
       "    </tr>\n",
       "    <tr>\n",
       "      <th>1</th>\n",
       "      <td>1</td>\n",
       "      <td>1</td>\n",
       "      <td>0</td>\n",
       "    </tr>\n",
       "    <tr>\n",
       "      <th>2</th>\n",
       "      <td>1</td>\n",
       "      <td>1</td>\n",
       "      <td>0</td>\n",
       "    </tr>\n",
       "    <tr>\n",
       "      <th>3</th>\n",
       "      <td>1</td>\n",
       "      <td>0</td>\n",
       "      <td>1</td>\n",
       "    </tr>\n",
       "    <tr>\n",
       "      <th>4</th>\n",
       "      <td>0</td>\n",
       "      <td>1</td>\n",
       "      <td>1</td>\n",
       "    </tr>\n",
       "  </tbody>\n",
       "</table>\n",
       "</div>"
      ],
      "text/plain": [
       "   lang_en  lang_jp  lang_ru\n",
       "0        0        0        1\n",
       "1        1        1        0\n",
       "2        1        1        0\n",
       "3        1        0        1\n",
       "4        0        1        1"
      ]
     },
     "execution_count": 460,
     "metadata": {},
     "output_type": "execute_result"
    }
   ],
   "source": [
    "df_matrix"
   ]
  },
  {
   "cell_type": "code",
   "execution_count": 461,
   "id": "2d9f8ed7",
   "metadata": {},
   "outputs": [
    {
     "data": {
      "text/html": [
       "<div>\n",
       "<style scoped>\n",
       "    .dataframe tbody tr th:only-of-type {\n",
       "        vertical-align: middle;\n",
       "    }\n",
       "\n",
       "    .dataframe tbody tr th {\n",
       "        vertical-align: top;\n",
       "    }\n",
       "\n",
       "    .dataframe thead th {\n",
       "        text-align: right;\n",
       "    }\n",
       "</style>\n",
       "<table border=\"1\" class=\"dataframe\">\n",
       "  <thead>\n",
       "    <tr style=\"text-align: right;\">\n",
       "      <th></th>\n",
       "      <th>account</th>\n",
       "      <th>lang</th>\n",
       "      <th>tarif</th>\n",
       "      <th>lang_en</th>\n",
       "      <th>lang_jp</th>\n",
       "      <th>lang_ru</th>\n",
       "    </tr>\n",
       "  </thead>\n",
       "  <tbody>\n",
       "    <tr>\n",
       "      <th>0</th>\n",
       "      <td>ivan111@gmail.com</td>\n",
       "      <td>ru</td>\n",
       "      <td>demo</td>\n",
       "      <td>0</td>\n",
       "      <td>0</td>\n",
       "      <td>1</td>\n",
       "    </tr>\n",
       "    <tr>\n",
       "      <th>1</th>\n",
       "      <td>ivan000@mail.ru</td>\n",
       "      <td>en,jp</td>\n",
       "      <td>demo</td>\n",
       "      <td>1</td>\n",
       "      <td>1</td>\n",
       "      <td>0</td>\n",
       "    </tr>\n",
       "    <tr>\n",
       "      <th>2</th>\n",
       "      <td>je=ack123@mail.ru</td>\n",
       "      <td>jp,en</td>\n",
       "      <td>regular</td>\n",
       "      <td>1</td>\n",
       "      <td>1</td>\n",
       "      <td>0</td>\n",
       "    </tr>\n",
       "    <tr>\n",
       "      <th>3</th>\n",
       "      <td>petr432@yandex.ru</td>\n",
       "      <td>ru,en</td>\n",
       "      <td>regular</td>\n",
       "      <td>1</td>\n",
       "      <td>0</td>\n",
       "      <td>1</td>\n",
       "    </tr>\n",
       "    <tr>\n",
       "      <th>4</th>\n",
       "      <td>jack000@yandex.ru</td>\n",
       "      <td>jp,ru</td>\n",
       "      <td>demo</td>\n",
       "      <td>0</td>\n",
       "      <td>1</td>\n",
       "      <td>1</td>\n",
       "    </tr>\n",
       "  </tbody>\n",
       "</table>\n",
       "</div>"
      ],
      "text/plain": [
       "             account   lang    tarif  lang_en  lang_jp  lang_ru\n",
       "0  ivan111@gmail.com     ru     demo        0        0        1\n",
       "1    ivan000@mail.ru  en,jp     demo        1        1        0\n",
       "2  je=ack123@mail.ru  jp,en  regular        1        1        0\n",
       "3  petr432@yandex.ru  ru,en  regular        1        0        1\n",
       "4  jack000@yandex.ru  jp,ru     demo        0        1        1"
      ]
     },
     "execution_count": 461,
     "metadata": {},
     "output_type": "execute_result"
    }
   ],
   "source": [
    "df.join(df_matrix)"
   ]
  },
  {
   "cell_type": "code",
   "execution_count": 462,
   "id": "bb9796f0",
   "metadata": {},
   "outputs": [
    {
     "data": {
      "text/html": [
       "<div>\n",
       "<style scoped>\n",
       "    .dataframe tbody tr th:only-of-type {\n",
       "        vertical-align: middle;\n",
       "    }\n",
       "\n",
       "    .dataframe tbody tr th {\n",
       "        vertical-align: top;\n",
       "    }\n",
       "\n",
       "    .dataframe thead th {\n",
       "        text-align: right;\n",
       "    }\n",
       "</style>\n",
       "<table border=\"1\" class=\"dataframe\">\n",
       "  <thead>\n",
       "    <tr style=\"text-align: right;\">\n",
       "      <th></th>\n",
       "      <th>demo</th>\n",
       "      <th>regular</th>\n",
       "    </tr>\n",
       "  </thead>\n",
       "  <tbody>\n",
       "    <tr>\n",
       "      <th>0</th>\n",
       "      <td>1</td>\n",
       "      <td>0</td>\n",
       "    </tr>\n",
       "    <tr>\n",
       "      <th>1</th>\n",
       "      <td>1</td>\n",
       "      <td>0</td>\n",
       "    </tr>\n",
       "    <tr>\n",
       "      <th>2</th>\n",
       "      <td>0</td>\n",
       "      <td>1</td>\n",
       "    </tr>\n",
       "    <tr>\n",
       "      <th>3</th>\n",
       "      <td>0</td>\n",
       "      <td>1</td>\n",
       "    </tr>\n",
       "    <tr>\n",
       "      <th>4</th>\n",
       "      <td>1</td>\n",
       "      <td>0</td>\n",
       "    </tr>\n",
       "  </tbody>\n",
       "</table>\n",
       "</div>"
      ],
      "text/plain": [
       "   demo  regular\n",
       "0     1        0\n",
       "1     1        0\n",
       "2     0        1\n",
       "3     0        1\n",
       "4     1        0"
      ]
     },
     "execution_count": 462,
     "metadata": {},
     "output_type": "execute_result"
    }
   ],
   "source": [
    "# получаем матрицу для параметра тарифа:\n",
    "\n",
    "pd.get_dummies(df['tarif'])"
   ]
  },
  {
   "cell_type": "code",
   "execution_count": 463,
   "id": "e91b24f8",
   "metadata": {},
   "outputs": [],
   "source": [
    "tarif_matrix = pd.get_dummies(df['tarif'], prefix = 'tarif')"
   ]
  },
  {
   "cell_type": "code",
   "execution_count": 464,
   "id": "1722cd8e",
   "metadata": {},
   "outputs": [
    {
     "data": {
      "text/html": [
       "<div>\n",
       "<style scoped>\n",
       "    .dataframe tbody tr th:only-of-type {\n",
       "        vertical-align: middle;\n",
       "    }\n",
       "\n",
       "    .dataframe tbody tr th {\n",
       "        vertical-align: top;\n",
       "    }\n",
       "\n",
       "    .dataframe thead th {\n",
       "        text-align: right;\n",
       "    }\n",
       "</style>\n",
       "<table border=\"1\" class=\"dataframe\">\n",
       "  <thead>\n",
       "    <tr style=\"text-align: right;\">\n",
       "      <th></th>\n",
       "      <th>account</th>\n",
       "      <th>lang_en</th>\n",
       "      <th>lang_jp</th>\n",
       "      <th>lang_ru</th>\n",
       "      <th>tarif_demo</th>\n",
       "      <th>tarif_regular</th>\n",
       "    </tr>\n",
       "  </thead>\n",
       "  <tbody>\n",
       "    <tr>\n",
       "      <th>0</th>\n",
       "      <td>ivan111@gmail.com</td>\n",
       "      <td>0</td>\n",
       "      <td>0</td>\n",
       "      <td>1</td>\n",
       "      <td>1</td>\n",
       "      <td>0</td>\n",
       "    </tr>\n",
       "    <tr>\n",
       "      <th>1</th>\n",
       "      <td>ivan000@mail.ru</td>\n",
       "      <td>1</td>\n",
       "      <td>1</td>\n",
       "      <td>0</td>\n",
       "      <td>1</td>\n",
       "      <td>0</td>\n",
       "    </tr>\n",
       "    <tr>\n",
       "      <th>2</th>\n",
       "      <td>je=ack123@mail.ru</td>\n",
       "      <td>1</td>\n",
       "      <td>1</td>\n",
       "      <td>0</td>\n",
       "      <td>0</td>\n",
       "      <td>1</td>\n",
       "    </tr>\n",
       "    <tr>\n",
       "      <th>3</th>\n",
       "      <td>petr432@yandex.ru</td>\n",
       "      <td>1</td>\n",
       "      <td>0</td>\n",
       "      <td>1</td>\n",
       "      <td>0</td>\n",
       "      <td>1</td>\n",
       "    </tr>\n",
       "    <tr>\n",
       "      <th>4</th>\n",
       "      <td>jack000@yandex.ru</td>\n",
       "      <td>0</td>\n",
       "      <td>1</td>\n",
       "      <td>1</td>\n",
       "      <td>1</td>\n",
       "      <td>0</td>\n",
       "    </tr>\n",
       "  </tbody>\n",
       "</table>\n",
       "</div>"
      ],
      "text/plain": [
       "             account  lang_en  lang_jp  lang_ru  tarif_demo  tarif_regular\n",
       "0  ivan111@gmail.com        0        0        1           1              0\n",
       "1    ivan000@mail.ru        1        1        0           1              0\n",
       "2  je=ack123@mail.ru        1        1        0           0              1\n",
       "3  petr432@yandex.ru        1        0        1           0              1\n",
       "4  jack000@yandex.ru        0        1        1           1              0"
      ]
     },
     "execution_count": 464,
     "metadata": {},
     "output_type": "execute_result"
    }
   ],
   "source": [
    "df.join(df_matrix).join(tarif_matrix).drop(['lang', 'tarif'], axis = 1)"
   ]
  },
  {
   "cell_type": "code",
   "execution_count": null,
   "id": "3e1bcb62",
   "metadata": {},
   "outputs": [],
   "source": []
  },
  {
   "cell_type": "code",
   "execution_count": null,
   "id": "b9c9c2c0",
   "metadata": {},
   "outputs": [],
   "source": [
    "# Задача наоборот. Из dummy индексов сделать обычный столбец с tarif\n",
    "\n",
    "# Ниже идет сначала мое решение с циклом..."
   ]
  },
  {
   "cell_type": "code",
   "execution_count": 523,
   "id": "30a5cb33",
   "metadata": {},
   "outputs": [],
   "source": [
    "clm = ['account', 'tarif_demo', 'tarif_premium', 'tarif_regular']\n",
    "_df = pd.DataFrame([['ivan333@gmail.com', 1, 0, 0], \n",
    "       ['matvey443@mail.ru', 1, 0, 0], \n",
    "       ['jeck44@meil.ru', 0, 1, 0], \n",
    "       ['katy4443@mail.ru', 0, 1, 0], \n",
    "       ['roma443@mail.ru', 0, 0, 1]], columns = clm)"
   ]
  },
  {
   "cell_type": "code",
   "execution_count": 524,
   "id": "74a257c1",
   "metadata": {},
   "outputs": [
    {
     "data": {
      "text/html": [
       "<div>\n",
       "<style scoped>\n",
       "    .dataframe tbody tr th:only-of-type {\n",
       "        vertical-align: middle;\n",
       "    }\n",
       "\n",
       "    .dataframe tbody tr th {\n",
       "        vertical-align: top;\n",
       "    }\n",
       "\n",
       "    .dataframe thead th {\n",
       "        text-align: right;\n",
       "    }\n",
       "</style>\n",
       "<table border=\"1\" class=\"dataframe\">\n",
       "  <thead>\n",
       "    <tr style=\"text-align: right;\">\n",
       "      <th></th>\n",
       "      <th>account</th>\n",
       "      <th>tarif_demo</th>\n",
       "      <th>tarif_premium</th>\n",
       "      <th>tarif_regular</th>\n",
       "    </tr>\n",
       "  </thead>\n",
       "  <tbody>\n",
       "    <tr>\n",
       "      <th>0</th>\n",
       "      <td>ivan333@gmail.com</td>\n",
       "      <td>1</td>\n",
       "      <td>0</td>\n",
       "      <td>0</td>\n",
       "    </tr>\n",
       "    <tr>\n",
       "      <th>1</th>\n",
       "      <td>matvey443@mail.ru</td>\n",
       "      <td>1</td>\n",
       "      <td>0</td>\n",
       "      <td>0</td>\n",
       "    </tr>\n",
       "    <tr>\n",
       "      <th>2</th>\n",
       "      <td>jeck44@meil.ru</td>\n",
       "      <td>0</td>\n",
       "      <td>1</td>\n",
       "      <td>0</td>\n",
       "    </tr>\n",
       "    <tr>\n",
       "      <th>3</th>\n",
       "      <td>katy4443@mail.ru</td>\n",
       "      <td>0</td>\n",
       "      <td>1</td>\n",
       "      <td>0</td>\n",
       "    </tr>\n",
       "    <tr>\n",
       "      <th>4</th>\n",
       "      <td>roma443@mail.ru</td>\n",
       "      <td>0</td>\n",
       "      <td>0</td>\n",
       "      <td>1</td>\n",
       "    </tr>\n",
       "  </tbody>\n",
       "</table>\n",
       "</div>"
      ],
      "text/plain": [
       "             account  tarif_demo  tarif_premium  tarif_regular\n",
       "0  ivan333@gmail.com           1              0              0\n",
       "1  matvey443@mail.ru           1              0              0\n",
       "2     jeck44@meil.ru           0              1              0\n",
       "3   katy4443@mail.ru           0              1              0\n",
       "4    roma443@mail.ru           0              0              1"
      ]
     },
     "execution_count": 524,
     "metadata": {},
     "output_type": "execute_result"
    }
   ],
   "source": [
    "_df"
   ]
  },
  {
   "cell_type": "code",
   "execution_count": 525,
   "id": "0aadfadd",
   "metadata": {},
   "outputs": [],
   "source": [
    "new_df = _df[['account']]"
   ]
  },
  {
   "cell_type": "code",
   "execution_count": 526,
   "id": "1f7fcee8",
   "metadata": {},
   "outputs": [
    {
     "data": {
      "text/plain": [
       "array([['ivan333@gmail.com', 1, 0, 0],\n",
       "       ['matvey443@mail.ru', 1, 0, 0],\n",
       "       ['jeck44@meil.ru', 0, 1, 0],\n",
       "       ['katy4443@mail.ru', 0, 1, 0],\n",
       "       ['roma443@mail.ru', 0, 0, 1]], dtype=object)"
      ]
     },
     "execution_count": 526,
     "metadata": {},
     "output_type": "execute_result"
    }
   ],
   "source": [
    "_df.values"
   ]
  },
  {
   "cell_type": "code",
   "execution_count": 527,
   "id": "31f33927",
   "metadata": {},
   "outputs": [],
   "source": [
    "tarif = []\n",
    "for i in range(len(_df)):\n",
    "\n",
    "    if _df.iloc[i, 1] == 1:\n",
    "        tarif.append('demo')\n",
    "    if _df.iloc[i, 2] == 1:\n",
    "        tarif.append('premium')\n",
    "    if _df.iloc[i, 3] == 1:\n",
    "        tarif.append('regular')\n",
    "    "
   ]
  },
  {
   "cell_type": "code",
   "execution_count": 528,
   "id": "cca5dbff",
   "metadata": {},
   "outputs": [
    {
     "data": {
      "text/plain": [
       "['demo', 'demo', 'premium', 'premium', 'regular']"
      ]
     },
     "execution_count": 528,
     "metadata": {},
     "output_type": "execute_result"
    }
   ],
   "source": [
    "tarif"
   ]
  },
  {
   "cell_type": "code",
   "execution_count": 529,
   "id": "00b8e60b",
   "metadata": {},
   "outputs": [],
   "source": [
    "new_df.insert(1, 'tarif', tarif)"
   ]
  },
  {
   "cell_type": "code",
   "execution_count": 530,
   "id": "c9d321ba",
   "metadata": {},
   "outputs": [
    {
     "data": {
      "text/html": [
       "<div>\n",
       "<style scoped>\n",
       "    .dataframe tbody tr th:only-of-type {\n",
       "        vertical-align: middle;\n",
       "    }\n",
       "\n",
       "    .dataframe tbody tr th {\n",
       "        vertical-align: top;\n",
       "    }\n",
       "\n",
       "    .dataframe thead th {\n",
       "        text-align: right;\n",
       "    }\n",
       "</style>\n",
       "<table border=\"1\" class=\"dataframe\">\n",
       "  <thead>\n",
       "    <tr style=\"text-align: right;\">\n",
       "      <th></th>\n",
       "      <th>account</th>\n",
       "      <th>tarif</th>\n",
       "    </tr>\n",
       "  </thead>\n",
       "  <tbody>\n",
       "    <tr>\n",
       "      <th>0</th>\n",
       "      <td>ivan333@gmail.com</td>\n",
       "      <td>demo</td>\n",
       "    </tr>\n",
       "    <tr>\n",
       "      <th>1</th>\n",
       "      <td>matvey443@mail.ru</td>\n",
       "      <td>demo</td>\n",
       "    </tr>\n",
       "    <tr>\n",
       "      <th>2</th>\n",
       "      <td>jeck44@meil.ru</td>\n",
       "      <td>premium</td>\n",
       "    </tr>\n",
       "    <tr>\n",
       "      <th>3</th>\n",
       "      <td>katy4443@mail.ru</td>\n",
       "      <td>premium</td>\n",
       "    </tr>\n",
       "    <tr>\n",
       "      <th>4</th>\n",
       "      <td>roma443@mail.ru</td>\n",
       "      <td>regular</td>\n",
       "    </tr>\n",
       "  </tbody>\n",
       "</table>\n",
       "</div>"
      ],
      "text/plain": [
       "             account    tarif\n",
       "0  ivan333@gmail.com     demo\n",
       "1  matvey443@mail.ru     demo\n",
       "2     jeck44@meil.ru  premium\n",
       "3   katy4443@mail.ru  premium\n",
       "4    roma443@mail.ru  regular"
      ]
     },
     "execution_count": 530,
     "metadata": {},
     "output_type": "execute_result"
    }
   ],
   "source": [
    "new_df"
   ]
  },
  {
   "cell_type": "code",
   "execution_count": null,
   "id": "be872706",
   "metadata": {},
   "outputs": [],
   "source": []
  },
  {
   "cell_type": "code",
   "execution_count": 531,
   "id": "f0ec50c1",
   "metadata": {},
   "outputs": [
    {
     "data": {
      "text/html": [
       "<div>\n",
       "<style scoped>\n",
       "    .dataframe tbody tr th:only-of-type {\n",
       "        vertical-align: middle;\n",
       "    }\n",
       "\n",
       "    .dataframe tbody tr th {\n",
       "        vertical-align: top;\n",
       "    }\n",
       "\n",
       "    .dataframe thead th {\n",
       "        text-align: right;\n",
       "    }\n",
       "</style>\n",
       "<table border=\"1\" class=\"dataframe\">\n",
       "  <thead>\n",
       "    <tr style=\"text-align: right;\">\n",
       "      <th></th>\n",
       "      <th>account</th>\n",
       "      <th>tarif_demo</th>\n",
       "      <th>tarif_premium</th>\n",
       "      <th>tarif_regular</th>\n",
       "    </tr>\n",
       "  </thead>\n",
       "  <tbody>\n",
       "    <tr>\n",
       "      <th>0</th>\n",
       "      <td>ivan333@gmail.com</td>\n",
       "      <td>1</td>\n",
       "      <td>0</td>\n",
       "      <td>0</td>\n",
       "    </tr>\n",
       "    <tr>\n",
       "      <th>1</th>\n",
       "      <td>matvey443@mail.ru</td>\n",
       "      <td>1</td>\n",
       "      <td>0</td>\n",
       "      <td>0</td>\n",
       "    </tr>\n",
       "    <tr>\n",
       "      <th>2</th>\n",
       "      <td>jeck44@meil.ru</td>\n",
       "      <td>0</td>\n",
       "      <td>1</td>\n",
       "      <td>0</td>\n",
       "    </tr>\n",
       "    <tr>\n",
       "      <th>3</th>\n",
       "      <td>katy4443@mail.ru</td>\n",
       "      <td>0</td>\n",
       "      <td>1</td>\n",
       "      <td>0</td>\n",
       "    </tr>\n",
       "    <tr>\n",
       "      <th>4</th>\n",
       "      <td>roma443@mail.ru</td>\n",
       "      <td>0</td>\n",
       "      <td>0</td>\n",
       "      <td>1</td>\n",
       "    </tr>\n",
       "  </tbody>\n",
       "</table>\n",
       "</div>"
      ],
      "text/plain": [
       "             account  tarif_demo  tarif_premium  tarif_regular\n",
       "0  ivan333@gmail.com           1              0              0\n",
       "1  matvey443@mail.ru           1              0              0\n",
       "2     jeck44@meil.ru           0              1              0\n",
       "3   katy4443@mail.ru           0              1              0\n",
       "4    roma443@mail.ru           0              0              1"
      ]
     },
     "execution_count": 531,
     "metadata": {},
     "output_type": "execute_result"
    }
   ],
   "source": [
    "# теперь как надо было: используя pd.from_dummies(df)\n",
    "\n",
    "\n",
    "_df"
   ]
  },
  {
   "cell_type": "code",
   "execution_count": 534,
   "id": "9e3dbaf6",
   "metadata": {},
   "outputs": [
    {
     "data": {
      "text/html": [
       "<div>\n",
       "<style scoped>\n",
       "    .dataframe tbody tr th:only-of-type {\n",
       "        vertical-align: middle;\n",
       "    }\n",
       "\n",
       "    .dataframe tbody tr th {\n",
       "        vertical-align: top;\n",
       "    }\n",
       "\n",
       "    .dataframe thead th {\n",
       "        text-align: right;\n",
       "    }\n",
       "</style>\n",
       "<table border=\"1\" class=\"dataframe\">\n",
       "  <thead>\n",
       "    <tr style=\"text-align: right;\">\n",
       "      <th></th>\n",
       "      <th></th>\n",
       "    </tr>\n",
       "  </thead>\n",
       "  <tbody>\n",
       "    <tr>\n",
       "      <th>0</th>\n",
       "      <td>tarif_demo</td>\n",
       "    </tr>\n",
       "    <tr>\n",
       "      <th>1</th>\n",
       "      <td>tarif_demo</td>\n",
       "    </tr>\n",
       "    <tr>\n",
       "      <th>2</th>\n",
       "      <td>tarif_premium</td>\n",
       "    </tr>\n",
       "    <tr>\n",
       "      <th>3</th>\n",
       "      <td>tarif_premium</td>\n",
       "    </tr>\n",
       "    <tr>\n",
       "      <th>4</th>\n",
       "      <td>tarif_regular</td>\n",
       "    </tr>\n",
       "  </tbody>\n",
       "</table>\n",
       "</div>"
      ],
      "text/plain": [
       "                \n",
       "0     tarif_demo\n",
       "1     tarif_demo\n",
       "2  tarif_premium\n",
       "3  tarif_premium\n",
       "4  tarif_regular"
      ]
     },
     "execution_count": 534,
     "metadata": {},
     "output_type": "execute_result"
    }
   ],
   "source": [
    "pd.from_dummies(_df[['tarif_demo', 'tarif_premium', 'tarif_regular']])"
   ]
  },
  {
   "cell_type": "code",
   "execution_count": 543,
   "id": "dbefea59",
   "metadata": {},
   "outputs": [
    {
     "data": {
      "text/html": [
       "<div>\n",
       "<style scoped>\n",
       "    .dataframe tbody tr th:only-of-type {\n",
       "        vertical-align: middle;\n",
       "    }\n",
       "\n",
       "    .dataframe tbody tr th {\n",
       "        vertical-align: top;\n",
       "    }\n",
       "\n",
       "    .dataframe thead th {\n",
       "        text-align: right;\n",
       "    }\n",
       "</style>\n",
       "<table border=\"1\" class=\"dataframe\">\n",
       "  <thead>\n",
       "    <tr style=\"text-align: right;\">\n",
       "      <th></th>\n",
       "      <th>account</th>\n",
       "      <th>tarif</th>\n",
       "    </tr>\n",
       "  </thead>\n",
       "  <tbody>\n",
       "    <tr>\n",
       "      <th>0</th>\n",
       "      <td>ivan333@gmail.com</td>\n",
       "      <td>demo</td>\n",
       "    </tr>\n",
       "    <tr>\n",
       "      <th>1</th>\n",
       "      <td>matvey443@mail.ru</td>\n",
       "      <td>demo</td>\n",
       "    </tr>\n",
       "    <tr>\n",
       "      <th>2</th>\n",
       "      <td>jeck44@meil.ru</td>\n",
       "      <td>premium</td>\n",
       "    </tr>\n",
       "    <tr>\n",
       "      <th>3</th>\n",
       "      <td>katy4443@mail.ru</td>\n",
       "      <td>premium</td>\n",
       "    </tr>\n",
       "    <tr>\n",
       "      <th>4</th>\n",
       "      <td>roma443@mail.ru</td>\n",
       "      <td>regular</td>\n",
       "    </tr>\n",
       "  </tbody>\n",
       "</table>\n",
       "</div>"
      ],
      "text/plain": [
       "             account    tarif\n",
       "0  ivan333@gmail.com     demo\n",
       "1  matvey443@mail.ru     demo\n",
       "2     jeck44@meil.ru  premium\n",
       "3   katy4443@mail.ru  premium\n",
       "4    roma443@mail.ru  regular"
      ]
     },
     "execution_count": 543,
     "metadata": {},
     "output_type": "execute_result"
    }
   ],
   "source": [
    "_df.join(pd.from_dummies(_df[['tarif_demo', 'tarif_premium', 'tarif_regular']], sep=\"_\"))\n",
    ".drop(_df[['tarif_demo', 'tarif_premium', 'tarif_regular']], axis = 1)"
   ]
  },
  {
   "cell_type": "code",
   "execution_count": null,
   "id": "25826b35",
   "metadata": {},
   "outputs": [],
   "source": []
  },
  {
   "cell_type": "code",
   "execution_count": null,
   "id": "206d8ef4",
   "metadata": {},
   "outputs": [],
   "source": []
  },
  {
   "cell_type": "markdown",
   "id": "6897b5c6",
   "metadata": {},
   "source": [
    "## Примеры использования функции s.add_prefix и df.add_prefix"
   ]
  },
  {
   "cell_type": "code",
   "execution_count": 544,
   "id": "3e4404c8",
   "metadata": {},
   "outputs": [],
   "source": [
    "s = pd.Series([1,2,3,4,5])"
   ]
  },
  {
   "cell_type": "code",
   "execution_count": 547,
   "id": "4752455e",
   "metadata": {},
   "outputs": [
    {
     "data": {
      "text/plain": [
       "hi0    1\n",
       "hi1    2\n",
       "hi2    3\n",
       "hi3    4\n",
       "hi4    5\n",
       "dtype: int64"
      ]
     },
     "execution_count": 547,
     "metadata": {},
     "output_type": "execute_result"
    }
   ],
   "source": [
    "s.add_prefix('hi')"
   ]
  },
  {
   "cell_type": "code",
   "execution_count": 552,
   "id": "921d99b1",
   "metadata": {},
   "outputs": [],
   "source": [
    "df = pd.DataFrame({'x': [1,2,3,4,5], 'y': [5,4,3,2,1], 'z':[1,2,3,4,5]})"
   ]
  },
  {
   "cell_type": "code",
   "execution_count": 553,
   "id": "f961c8ac",
   "metadata": {},
   "outputs": [
    {
     "data": {
      "text/html": [
       "<div>\n",
       "<style scoped>\n",
       "    .dataframe tbody tr th:only-of-type {\n",
       "        vertical-align: middle;\n",
       "    }\n",
       "\n",
       "    .dataframe tbody tr th {\n",
       "        vertical-align: top;\n",
       "    }\n",
       "\n",
       "    .dataframe thead th {\n",
       "        text-align: right;\n",
       "    }\n",
       "</style>\n",
       "<table border=\"1\" class=\"dataframe\">\n",
       "  <thead>\n",
       "    <tr style=\"text-align: right;\">\n",
       "      <th></th>\n",
       "      <th>x</th>\n",
       "      <th>y</th>\n",
       "      <th>z</th>\n",
       "    </tr>\n",
       "  </thead>\n",
       "  <tbody>\n",
       "    <tr>\n",
       "      <th>0</th>\n",
       "      <td>1</td>\n",
       "      <td>5</td>\n",
       "      <td>1</td>\n",
       "    </tr>\n",
       "    <tr>\n",
       "      <th>1</th>\n",
       "      <td>2</td>\n",
       "      <td>4</td>\n",
       "      <td>2</td>\n",
       "    </tr>\n",
       "    <tr>\n",
       "      <th>2</th>\n",
       "      <td>3</td>\n",
       "      <td>3</td>\n",
       "      <td>3</td>\n",
       "    </tr>\n",
       "    <tr>\n",
       "      <th>3</th>\n",
       "      <td>4</td>\n",
       "      <td>2</td>\n",
       "      <td>4</td>\n",
       "    </tr>\n",
       "    <tr>\n",
       "      <th>4</th>\n",
       "      <td>5</td>\n",
       "      <td>1</td>\n",
       "      <td>5</td>\n",
       "    </tr>\n",
       "  </tbody>\n",
       "</table>\n",
       "</div>"
      ],
      "text/plain": [
       "   x  y  z\n",
       "0  1  5  1\n",
       "1  2  4  2\n",
       "2  3  3  3\n",
       "3  4  2  4\n",
       "4  5  1  5"
      ]
     },
     "execution_count": 553,
     "metadata": {},
     "output_type": "execute_result"
    }
   ],
   "source": [
    "df"
   ]
  },
  {
   "cell_type": "code",
   "execution_count": 554,
   "id": "54fdbbdf",
   "metadata": {},
   "outputs": [
    {
     "data": {
      "text/html": [
       "<div>\n",
       "<style scoped>\n",
       "    .dataframe tbody tr th:only-of-type {\n",
       "        vertical-align: middle;\n",
       "    }\n",
       "\n",
       "    .dataframe tbody tr th {\n",
       "        vertical-align: top;\n",
       "    }\n",
       "\n",
       "    .dataframe thead th {\n",
       "        text-align: right;\n",
       "    }\n",
       "</style>\n",
       "<table border=\"1\" class=\"dataframe\">\n",
       "  <thead>\n",
       "    <tr style=\"text-align: right;\">\n",
       "      <th></th>\n",
       "      <th>_coord_x</th>\n",
       "      <th>_coord_y</th>\n",
       "      <th>_coord_z</th>\n",
       "    </tr>\n",
       "  </thead>\n",
       "  <tbody>\n",
       "    <tr>\n",
       "      <th>0</th>\n",
       "      <td>1</td>\n",
       "      <td>5</td>\n",
       "      <td>1</td>\n",
       "    </tr>\n",
       "    <tr>\n",
       "      <th>1</th>\n",
       "      <td>2</td>\n",
       "      <td>4</td>\n",
       "      <td>2</td>\n",
       "    </tr>\n",
       "    <tr>\n",
       "      <th>2</th>\n",
       "      <td>3</td>\n",
       "      <td>3</td>\n",
       "      <td>3</td>\n",
       "    </tr>\n",
       "    <tr>\n",
       "      <th>3</th>\n",
       "      <td>4</td>\n",
       "      <td>2</td>\n",
       "      <td>4</td>\n",
       "    </tr>\n",
       "    <tr>\n",
       "      <th>4</th>\n",
       "      <td>5</td>\n",
       "      <td>1</td>\n",
       "      <td>5</td>\n",
       "    </tr>\n",
       "  </tbody>\n",
       "</table>\n",
       "</div>"
      ],
      "text/plain": [
       "   _coord_x  _coord_y  _coord_z\n",
       "0         1         5         1\n",
       "1         2         4         2\n",
       "2         3         3         3\n",
       "3         4         2         4\n",
       "4         5         1         5"
      ]
     },
     "execution_count": 554,
     "metadata": {},
     "output_type": "execute_result"
    }
   ],
   "source": [
    "df.add_prefix('_coord_')"
   ]
  }
 ],
 "metadata": {
  "kernelspec": {
   "display_name": "Python 3 (ipykernel)",
   "language": "python",
   "name": "python3"
  },
  "language_info": {
   "codemirror_mode": {
    "name": "ipython",
    "version": 3
   },
   "file_extension": ".py",
   "mimetype": "text/x-python",
   "name": "python",
   "nbconvert_exporter": "python",
   "pygments_lexer": "ipython3",
   "version": "3.10.0"
  }
 },
 "nbformat": 4,
 "nbformat_minor": 5
}
