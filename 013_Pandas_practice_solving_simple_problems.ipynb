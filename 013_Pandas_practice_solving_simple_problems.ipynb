{
 "cells": [
  {
   "cell_type": "code",
   "execution_count": 1,
   "id": "3c873b67",
   "metadata": {},
   "outputs": [],
   "source": [
    "import numpy as np\n",
    "import pandas as pd"
   ]
  },
  {
   "cell_type": "markdown",
   "id": "36925d2e",
   "metadata": {},
   "source": [
    "# ЗАДАЧА № 0"
   ]
  },
  {
   "cell_type": "code",
   "execution_count": 3,
   "id": "c7ff9bf4",
   "metadata": {},
   "outputs": [],
   "source": [
    "# Получите элементы s1, которые не присутствуют в s2. Функция должна вернуть серию."
   ]
  },
  {
   "cell_type": "code",
   "execution_count": 2,
   "id": "ac9b2ba1",
   "metadata": {},
   "outputs": [],
   "source": [
    "s1 = pd.Series([1, 2, 3, 4, 5])\n",
    "s2 = pd.Series([4, 5, 6, 7, 8])"
   ]
  },
  {
   "cell_type": "code",
   "execution_count": 3,
   "id": "96ca07aa",
   "metadata": {},
   "outputs": [
    {
     "data": {
      "text/plain": [
       "0    1\n",
       "1    2\n",
       "2    3\n",
       "3    4\n",
       "4    5\n",
       "dtype: int64"
      ]
     },
     "execution_count": 3,
     "metadata": {},
     "output_type": "execute_result"
    }
   ],
   "source": [
    "s1"
   ]
  },
  {
   "cell_type": "code",
   "execution_count": 4,
   "id": "8a90ef01",
   "metadata": {
    "scrolled": true
   },
   "outputs": [
    {
     "data": {
      "text/plain": [
       "0    4\n",
       "1    5\n",
       "2    6\n",
       "3    7\n",
       "4    8\n",
       "dtype: int64"
      ]
     },
     "execution_count": 4,
     "metadata": {},
     "output_type": "execute_result"
    }
   ],
   "source": [
    "s2"
   ]
  },
  {
   "cell_type": "code",
   "execution_count": 5,
   "id": "155a1e15",
   "metadata": {},
   "outputs": [
    {
     "data": {
      "text/plain": [
       "3    4\n",
       "4    5\n",
       "dtype: int64"
      ]
     },
     "execution_count": 5,
     "metadata": {},
     "output_type": "execute_result"
    }
   ],
   "source": [
    "s1[s1.isin(s2)]"
   ]
  },
  {
   "cell_type": "code",
   "execution_count": 6,
   "id": "97480550",
   "metadata": {
    "scrolled": true
   },
   "outputs": [
    {
     "data": {
      "text/plain": [
       "0    1\n",
       "1    2\n",
       "2    3\n",
       "dtype: int64"
      ]
     },
     "execution_count": 6,
     "metadata": {},
     "output_type": "execute_result"
    }
   ],
   "source": [
    "s1[~s1.isin(s2)]"
   ]
  },
  {
   "cell_type": "code",
   "execution_count": 7,
   "id": "e2ef3c68",
   "metadata": {},
   "outputs": [
    {
     "data": {
      "text/plain": [
       "0    1\n",
       "1    2\n",
       "2    3\n",
       "dtype: int64"
      ]
     },
     "execution_count": 7,
     "metadata": {},
     "output_type": "execute_result"
    }
   ],
   "source": [
    "s1[~np.isin(s1, s2)]"
   ]
  },
  {
   "cell_type": "code",
   "execution_count": 8,
   "id": "0f839593",
   "metadata": {},
   "outputs": [
    {
     "data": {
      "text/plain": [
       "2    3\n",
       "3    4\n",
       "4    5\n",
       "dtype: int64"
      ]
     },
     "execution_count": 8,
     "metadata": {},
     "output_type": "execute_result"
    }
   ],
   "source": [
    "s1[~np.isin(s2, s1)]"
   ]
  },
  {
   "cell_type": "code",
   "execution_count": 10,
   "id": "a11dae15",
   "metadata": {},
   "outputs": [
    {
     "data": {
      "text/plain": [
       "array([False, False, False,  True,  True])"
      ]
     },
     "execution_count": 10,
     "metadata": {},
     "output_type": "execute_result"
    }
   ],
   "source": [
    "np.isin(s1, s2)"
   ]
  },
  {
   "cell_type": "code",
   "execution_count": 11,
   "id": "1fc45a39",
   "metadata": {},
   "outputs": [
    {
     "data": {
      "text/plain": [
       "array([ True,  True, False, False, False])"
      ]
     },
     "execution_count": 11,
     "metadata": {},
     "output_type": "execute_result"
    }
   ],
   "source": [
    "np.isin(s2, s1)"
   ]
  },
  {
   "cell_type": "code",
   "execution_count": null,
   "id": "c5ad4051",
   "metadata": {},
   "outputs": [],
   "source": []
  },
  {
   "cell_type": "markdown",
   "id": "d947e375",
   "metadata": {},
   "source": [
    "# ЗАДАЧА №1"
   ]
  },
  {
   "cell_type": "code",
   "execution_count": null,
   "id": "e449a847",
   "metadata": {},
   "outputs": [],
   "source": [
    "# Создайте новый pandas.Series из элементов, которые присутствуют только в \n",
    "# одном из двух pandas.Series (переменные s1, s2).\n",
    "\n",
    "# Если элемент присутствует в двух Series, то включать его не надо."
   ]
  },
  {
   "cell_type": "code",
   "execution_count": 12,
   "id": "51b0d13d",
   "metadata": {},
   "outputs": [],
   "source": [
    "s1 = pd.Series([1, 2, 3, 4, 5])\n",
    "s2 = pd.Series([4, 5, 6, 7, 8])"
   ]
  },
  {
   "cell_type": "code",
   "execution_count": 13,
   "id": "cd49648a",
   "metadata": {},
   "outputs": [
    {
     "data": {
      "text/plain": [
       "0    1\n",
       "1    2\n",
       "2    3\n",
       "3    4\n",
       "4    5\n",
       "dtype: int64"
      ]
     },
     "execution_count": 13,
     "metadata": {},
     "output_type": "execute_result"
    }
   ],
   "source": [
    "s1"
   ]
  },
  {
   "cell_type": "code",
   "execution_count": 14,
   "id": "bffffc84",
   "metadata": {},
   "outputs": [
    {
     "data": {
      "text/plain": [
       "0    4\n",
       "1    5\n",
       "2    6\n",
       "3    7\n",
       "4    8\n",
       "dtype: int64"
      ]
     },
     "execution_count": 14,
     "metadata": {},
     "output_type": "execute_result"
    }
   ],
   "source": [
    "s2"
   ]
  },
  {
   "cell_type": "code",
   "execution_count": 17,
   "id": "1818a7c3",
   "metadata": {},
   "outputs": [
    {
     "data": {
      "text/plain": [
       "array([1, 2, 3, 4, 5, 6, 7, 8], dtype=int64)"
      ]
     },
     "execution_count": 17,
     "metadata": {},
     "output_type": "execute_result"
    }
   ],
   "source": [
    "s3 = np.union1d(s1,s2)\n",
    "s3"
   ]
  },
  {
   "cell_type": "code",
   "execution_count": 18,
   "id": "6ffd3d8c",
   "metadata": {},
   "outputs": [
    {
     "data": {
      "text/plain": [
       "array([4, 5], dtype=int64)"
      ]
     },
     "execution_count": 18,
     "metadata": {},
     "output_type": "execute_result"
    }
   ],
   "source": [
    "s4 = np.intersect1d(s1,s2)\n",
    "s4"
   ]
  },
  {
   "cell_type": "code",
   "execution_count": 61,
   "id": "7700c51a",
   "metadata": {},
   "outputs": [
    {
     "data": {
      "text/plain": [
       "array([1, 2, 3, 6, 7, 8], dtype=int64)"
      ]
     },
     "execution_count": 61,
     "metadata": {},
     "output_type": "execute_result"
    }
   ],
   "source": [
    "# можно так:\n",
    "s3[~np.isin(s3, s4)]"
   ]
  },
  {
   "cell_type": "code",
   "execution_count": 19,
   "id": "ce8188c3",
   "metadata": {},
   "outputs": [
    {
     "data": {
      "text/plain": [
       "array([False, False, False,  True,  True, False, False, False])"
      ]
     },
     "execution_count": 19,
     "metadata": {},
     "output_type": "execute_result"
    }
   ],
   "source": [
    "np.isin(s3, s4)"
   ]
  },
  {
   "cell_type": "code",
   "execution_count": null,
   "id": "19d6305d",
   "metadata": {},
   "outputs": [],
   "source": []
  },
  {
   "cell_type": "code",
   "execution_count": 92,
   "id": "a2f41cae",
   "metadata": {
    "scrolled": true
   },
   "outputs": [
    {
     "data": {
      "text/plain": [
       "0    1\n",
       "1    2\n",
       "2    3\n",
       "5    6\n",
       "6    7\n",
       "7    8\n",
       "dtype: int64"
      ]
     },
     "execution_count": 92,
     "metadata": {},
     "output_type": "execute_result"
    }
   ],
   "source": [
    "# можно так:\n",
    "s3[~s3.isin(s4)]"
   ]
  },
  {
   "cell_type": "code",
   "execution_count": 95,
   "id": "07d83888",
   "metadata": {},
   "outputs": [
    {
     "data": {
      "text/plain": [
       "0    1\n",
       "1    2\n",
       "2    3\n",
       "5    6\n",
       "6    7\n",
       "7    8\n",
       "dtype: int64"
      ]
     },
     "execution_count": 95,
     "metadata": {},
     "output_type": "execute_result"
    }
   ],
   "source": [
    "# можно так:\n",
    "s3[~np.isin(s3, np.intersect1d(s1,s2))]"
   ]
  },
  {
   "cell_type": "code",
   "execution_count": 126,
   "id": "004df143",
   "metadata": {},
   "outputs": [
    {
     "data": {
      "text/plain": [
       "0    1\n",
       "1    2\n",
       "2    3\n",
       "3    4\n",
       "4    5\n",
       "5    6\n",
       "6    7\n",
       "7    8\n",
       "dtype: int64"
      ]
     },
     "execution_count": 126,
     "metadata": {},
     "output_type": "execute_result"
    }
   ],
   "source": [
    "# чтобы Stepik принял задание нужно так:\n",
    "\n",
    "s3 = pd.Series(np.union1d(s1,s2))\n",
    "s3"
   ]
  },
  {
   "cell_type": "code",
   "execution_count": 127,
   "id": "4ecddfdc",
   "metadata": {},
   "outputs": [
    {
     "data": {
      "text/plain": [
       "0    4\n",
       "1    5\n",
       "dtype: int64"
      ]
     },
     "execution_count": 127,
     "metadata": {},
     "output_type": "execute_result"
    }
   ],
   "source": [
    "s4 = pd.Series(np.intersect1d(s1,s2))\n",
    "s4"
   ]
  },
  {
   "cell_type": "code",
   "execution_count": 130,
   "id": "64a18967",
   "metadata": {},
   "outputs": [
    {
     "data": {
      "text/plain": [
       "0    1\n",
       "1    2\n",
       "2    3\n",
       "5    6\n",
       "6    7\n",
       "7    8\n",
       "dtype: int64"
      ]
     },
     "execution_count": 130,
     "metadata": {},
     "output_type": "execute_result"
    }
   ],
   "source": [
    "s3[~s3.isin(s4)]"
   ]
  },
  {
   "cell_type": "code",
   "execution_count": 135,
   "id": "cf795c1d",
   "metadata": {},
   "outputs": [
    {
     "data": {
      "text/plain": [
       "0    1\n",
       "1    2\n",
       "2    3\n",
       "5    6\n",
       "6    7\n",
       "7    8\n",
       "dtype: int64"
      ]
     },
     "execution_count": 135,
     "metadata": {},
     "output_type": "execute_result"
    }
   ],
   "source": [
    "s3[~np.isin(s3,s4)]"
   ]
  },
  {
   "cell_type": "code",
   "execution_count": null,
   "id": "5cfc92d7",
   "metadata": {},
   "outputs": [],
   "source": []
  },
  {
   "cell_type": "markdown",
   "id": "94c871b5",
   "metadata": {},
   "source": [
    "# Задача №2"
   ]
  },
  {
   "cell_type": "code",
   "execution_count": null,
   "id": "d229942a",
   "metadata": {},
   "outputs": [],
   "source": [
    "# На вход подается pd.Series\n",
    "\n",
    "# Найти:\n",
    "\n",
    "# наименьшее значение\n",
    "# 25 перцентиль\n",
    "# медиану\n",
    "# 75 перцентиль\n",
    "# наибольшее значение\n",
    "# Все значения должны быть упакованы в серию."
   ]
  },
  {
   "cell_type": "code",
   "execution_count": 20,
   "id": "859653c0",
   "metadata": {},
   "outputs": [],
   "source": [
    "ser = pd.Series([12.539048, 5.688863, 16.247349, 9.601944, 5.551343, 5.591008, 10.093195, 11.189223, 10.067743, 1.822353])"
   ]
  },
  {
   "cell_type": "code",
   "execution_count": 21,
   "id": "a3247268",
   "metadata": {},
   "outputs": [
    {
     "data": {
      "text/plain": [
       "0    12.539048\n",
       "1     5.688863\n",
       "2    16.247349\n",
       "3     9.601944\n",
       "4     5.551343\n",
       "5     5.591008\n",
       "6    10.093195\n",
       "7    11.189223\n",
       "8    10.067743\n",
       "9     1.822353\n",
       "dtype: float64"
      ]
     },
     "execution_count": 21,
     "metadata": {},
     "output_type": "execute_result"
    }
   ],
   "source": [
    "ser"
   ]
  },
  {
   "cell_type": "code",
   "execution_count": 27,
   "id": "7fae8463",
   "metadata": {},
   "outputs": [
    {
     "data": {
      "text/plain": [
       "1.822353"
      ]
     },
     "execution_count": 27,
     "metadata": {},
     "output_type": "execute_result"
    }
   ],
   "source": [
    "minima = np.min(ser)\n",
    "minima"
   ]
  },
  {
   "cell_type": "code",
   "execution_count": 28,
   "id": "5f9ca0ca",
   "metadata": {},
   "outputs": [
    {
     "data": {
      "text/plain": [
       "5.61547175"
      ]
     },
     "execution_count": 28,
     "metadata": {},
     "output_type": "execute_result"
    }
   ],
   "source": [
    "percentile_25 = np.percentile(ser, 25)\n",
    "percentile_25"
   ]
  },
  {
   "cell_type": "code",
   "execution_count": 29,
   "id": "4ec2c856",
   "metadata": {},
   "outputs": [
    {
     "data": {
      "text/plain": [
       "9.8348435"
      ]
     },
     "execution_count": 29,
     "metadata": {},
     "output_type": "execute_result"
    }
   ],
   "source": [
    "mediana = np.median(ser)\n",
    "mediana"
   ]
  },
  {
   "cell_type": "code",
   "execution_count": 30,
   "id": "62a4c279",
   "metadata": {},
   "outputs": [
    {
     "data": {
      "text/plain": [
       "10.915216000000001"
      ]
     },
     "execution_count": 30,
     "metadata": {},
     "output_type": "execute_result"
    }
   ],
   "source": [
    "percentile_75 = np.percentile(ser, 75)\n",
    "percentile_75"
   ]
  },
  {
   "cell_type": "code",
   "execution_count": 31,
   "id": "b6cc2762",
   "metadata": {},
   "outputs": [
    {
     "data": {
      "text/plain": [
       "16.247349"
      ]
     },
     "execution_count": 31,
     "metadata": {},
     "output_type": "execute_result"
    }
   ],
   "source": [
    "maxi = np.max(ser)\n",
    "maxi"
   ]
  },
  {
   "cell_type": "code",
   "execution_count": 32,
   "id": "c496c2a6",
   "metadata": {},
   "outputs": [
    {
     "data": {
      "text/plain": [
       "0     1.822353\n",
       "1     5.615472\n",
       "2     9.834843\n",
       "3    10.915216\n",
       "4    16.247349\n",
       "dtype: float64"
      ]
     },
     "execution_count": 32,
     "metadata": {},
     "output_type": "execute_result"
    }
   ],
   "source": [
    "result = pd.Series([minima, percentile_25, mediana, percentile_75, maxi])\n",
    "result"
   ]
  },
  {
   "cell_type": "code",
   "execution_count": 33,
   "id": "4ff25909",
   "metadata": {},
   "outputs": [
    {
     "data": {
      "text/plain": [
       "array([ 1.822353  ,  5.61547175,  9.8348435 , 10.915216  , 16.247349  ])"
      ]
     },
     "execution_count": 33,
     "metadata": {},
     "output_type": "execute_result"
    }
   ],
   "source": [
    "# Процентиль - это некая граница, которая делит всю выборку данных на определенные части \n",
    "# соглано их частоте повторений. Другими словами, если у нас 100 студентов сдали экзамен \n",
    "# с некоторым результатом (5 студентов на отлично, 45 студентов на хорошо, 15 студентов \n",
    "# на удовлетворительно, а остальные - на неудовлетворительно), \n",
    "# то интерпретация будет такой: 5% студентов сдали на отлично (5% процентиль, т.е. все \n",
    "# отличники попали в группу, которая занимает не более 5% от всей выборки. \n",
    "# По остальным студентоам аналогично).\n",
    "# Поэтому, например, 25-я процентиль отсекает данные от общей выборки так, что в\n",
    "# ней остаются только те данные, что имеют частоту появления ниже 25%. Аналогично \n",
    "# и с 75-ой процентилью, которая делит выборку так, что остаются только те данные, \n",
    "# что встречаются не более 75%. С медианой (50%) всё аналогично.\n",
    "# А вот с минимум и максимум могу добавить только то, что наименьшему значению \n",
    "# соответствует нулевой процентиль, наибольшему - 100-й процентиль, как в аналогии, \n",
    "# что медиане соответствует 50-й процентиль и т.д.\n",
    "\n",
    "# https://www.youtube.com/watch?v=SaF2G5WMwt   \n",
    "\n",
    "\n",
    "# Поэтому правильный и локоничный код будет следующим:\n",
    "\n",
    "np.percentile(ser, [0, 25, 50, 75, 100])"
   ]
  },
  {
   "cell_type": "code",
   "execution_count": null,
   "id": "20e37ca4",
   "metadata": {},
   "outputs": [],
   "source": []
  },
  {
   "cell_type": "markdown",
   "id": "1123063e",
   "metadata": {},
   "source": [
    "# Задача №3"
   ]
  },
  {
   "cell_type": "code",
   "execution_count": null,
   "id": "56a1b9e5",
   "metadata": {},
   "outputs": [],
   "source": [
    "# Определите сколько раз встречается каждое значение в исходном pandas.Series (переменная s). \n",
    "# Функция должна вернуть серию с подсчитанным количеством каждого символа."
   ]
  },
  {
   "cell_type": "code",
   "execution_count": 33,
   "id": "6ffb790c",
   "metadata": {},
   "outputs": [],
   "source": [
    "s = pd.Series(list('abdcbdhafceeabcahbcaedadaecbbbecafgh'))"
   ]
  },
  {
   "cell_type": "code",
   "execution_count": 34,
   "id": "5ea35043",
   "metadata": {},
   "outputs": [
    {
     "data": {
      "text/plain": [
       "a    8\n",
       "b    7\n",
       "c    6\n",
       "e    5\n",
       "d    4\n",
       "h    3\n",
       "f    2\n",
       "g    1\n",
       "dtype: int64"
      ]
     },
     "execution_count": 34,
     "metadata": {},
     "output_type": "execute_result"
    }
   ],
   "source": [
    "s.value_counts()"
   ]
  },
  {
   "cell_type": "code",
   "execution_count": null,
   "id": "d3a235ea",
   "metadata": {},
   "outputs": [],
   "source": []
  },
  {
   "cell_type": "markdown",
   "id": "de21474c",
   "metadata": {},
   "source": [
    "# Задача №4"
   ]
  },
  {
   "cell_type": "code",
   "execution_count": 2,
   "id": "20e7adeb",
   "metadata": {},
   "outputs": [],
   "source": [
    "# Доработайте код таким образом, чтобы оставить только 2 наиболее встречающихся значения, а для остальных установите \n",
    "# значение 'Yet another value'.\n",
    "\n",
    "# Функция solution должна возвращать серию.\n",
    "\n",
    "# Финальный результат, который должен получиться:\n",
    "# 0                     a\n",
    "# 1                     b\n",
    "# 2     Yet another value\n",
    "# 3     Yet another value\n",
    "# 4                     b\n",
    "# .........................\n",
    "\n",
    "s = pd.Series(list('abdcbdhafceeabcahbcaedadaecbbbecafgh'))"
   ]
  },
  {
   "cell_type": "code",
   "execution_count": 3,
   "id": "37dd223a",
   "metadata": {},
   "outputs": [
    {
     "data": {
      "text/plain": [
       "c    erre\n",
       "e    erre\n",
       "d    erre\n",
       "h    erre\n",
       "f    erre\n",
       "g    erre\n",
       "dtype: object"
      ]
     },
     "execution_count": 3,
     "metadata": {},
     "output_type": "execute_result"
    }
   ],
   "source": [
    "s.value_counts()[2:].replace([s.value_counts()[2:]], 'erre')"
   ]
  },
  {
   "cell_type": "code",
   "execution_count": 13,
   "id": "65fa5897",
   "metadata": {},
   "outputs": [
    {
     "data": {
      "text/plain": [
       "a    8\n",
       "b    7\n",
       "c    6\n",
       "e    5\n",
       "d    4\n",
       "h    3\n",
       "f    2\n",
       "g    1\n",
       "dtype: int64"
      ]
     },
     "execution_count": 13,
     "metadata": {},
     "output_type": "execute_result"
    }
   ],
   "source": [
    "s.value_counts()"
   ]
  },
  {
   "cell_type": "code",
   "execution_count": 40,
   "id": "85896835",
   "metadata": {},
   "outputs": [
    {
     "data": {
      "text/plain": [
       "Index(['c', 'e', 'd', 'h', 'f', 'g'], dtype='object')"
      ]
     },
     "execution_count": 40,
     "metadata": {},
     "output_type": "execute_result"
    }
   ],
   "source": [
    "s.value_counts()[2:].index"
   ]
  },
  {
   "cell_type": "code",
   "execution_count": 15,
   "id": "f97ff5e7",
   "metadata": {
    "scrolled": false
   },
   "outputs": [
    {
     "data": {
      "text/plain": [
       "2     d\n",
       "3     c\n",
       "5     d\n",
       "6     h\n",
       "8     f\n",
       "9     c\n",
       "10    e\n",
       "11    e\n",
       "14    c\n",
       "16    h\n",
       "18    c\n",
       "20    e\n",
       "21    d\n",
       "23    d\n",
       "25    e\n",
       "26    c\n",
       "30    e\n",
       "31    c\n",
       "33    f\n",
       "34    g\n",
       "35    h\n",
       "dtype: object"
      ]
     },
     "execution_count": 15,
     "metadata": {},
     "output_type": "execute_result"
    }
   ],
   "source": [
    "s[s.isin(s.value_counts()[2:].index)]"
   ]
  },
  {
   "cell_type": "code",
   "execution_count": 59,
   "id": "26a0d337",
   "metadata": {},
   "outputs": [
    {
     "data": {
      "text/plain": [
       "['c', 'e', 'd', 'h', 'f', 'g']"
      ]
     },
     "execution_count": 59,
     "metadata": {},
     "output_type": "execute_result"
    }
   ],
   "source": [
    "list(s.value_counts()[2:].index)"
   ]
  },
  {
   "cell_type": "code",
   "execution_count": 18,
   "id": "7572c882",
   "metadata": {},
   "outputs": [
    {
     "data": {
      "text/plain": [
       "0                     a\n",
       "1                     b\n",
       "2     Yet another value\n",
       "3     Yet another value\n",
       "4                     b\n",
       "5     Yet another value\n",
       "6     Yet another value\n",
       "7                     a\n",
       "8     Yet another value\n",
       "9     Yet another value\n",
       "10    Yet another value\n",
       "11    Yet another value\n",
       "12                    a\n",
       "13                    b\n",
       "14    Yet another value\n",
       "15                    a\n",
       "16    Yet another value\n",
       "17                    b\n",
       "18    Yet another value\n",
       "19                    a\n",
       "20    Yet another value\n",
       "21    Yet another value\n",
       "22                    a\n",
       "23    Yet another value\n",
       "24                    a\n",
       "25    Yet another value\n",
       "26    Yet another value\n",
       "27                    b\n",
       "28                    b\n",
       "29                    b\n",
       "30    Yet another value\n",
       "31    Yet another value\n",
       "32                    a\n",
       "33    Yet another value\n",
       "34    Yet another value\n",
       "35    Yet another value\n",
       "dtype: object"
      ]
     },
     "execution_count": 18,
     "metadata": {},
     "output_type": "execute_result"
    }
   ],
   "source": [
    "s.replace(['c', 'e', 'd', 'h', 'f', 'g'], 'Yet another value')"
   ]
  },
  {
   "cell_type": "code",
   "execution_count": null,
   "id": "fbc010fa",
   "metadata": {},
   "outputs": [],
   "source": []
  },
  {
   "cell_type": "code",
   "execution_count": null,
   "id": "a6bc05ce",
   "metadata": {},
   "outputs": [],
   "source": []
  },
  {
   "cell_type": "code",
   "execution_count": null,
   "id": "7171e8b1",
   "metadata": {},
   "outputs": [],
   "source": []
  },
  {
   "cell_type": "markdown",
   "id": "b4ec7fe8",
   "metadata": {},
   "source": [
    "# Задача №5"
   ]
  },
  {
   "cell_type": "code",
   "execution_count": 50,
   "id": "f86f581e",
   "metadata": {},
   "outputs": [],
   "source": [
    "# Разбейте все значения из pandas.Series (переменная s1) на 3 интервала равного размера. Функция должна вернуть серию.\n",
    "\n",
    "s1 = pd.Series(reversed(range(0, 10)))"
   ]
  },
  {
   "cell_type": "code",
   "execution_count": 51,
   "id": "95647d17",
   "metadata": {},
   "outputs": [
    {
     "data": {
      "text/plain": [
       "0    9\n",
       "1    8\n",
       "2    7\n",
       "3    6\n",
       "4    5\n",
       "5    4\n",
       "6    3\n",
       "7    2\n",
       "8    1\n",
       "9    0\n",
       "dtype: int64"
      ]
     },
     "execution_count": 51,
     "metadata": {},
     "output_type": "execute_result"
    }
   ],
   "source": [
    "s1"
   ]
  },
  {
   "cell_type": "code",
   "execution_count": 52,
   "id": "6ad6f84e",
   "metadata": {},
   "outputs": [
    {
     "data": {
      "text/plain": [
       "0       (6.0, 9.0]\n",
       "1       (6.0, 9.0]\n",
       "2       (6.0, 9.0]\n",
       "3       (3.0, 6.0]\n",
       "4       (3.0, 6.0]\n",
       "5       (3.0, 6.0]\n",
       "6    (-0.001, 3.0]\n",
       "7    (-0.001, 3.0]\n",
       "8    (-0.001, 3.0]\n",
       "9    (-0.001, 3.0]\n",
       "dtype: category\n",
       "Categories (3, interval[float64, right]): [(-0.001, 3.0] < (3.0, 6.0] < (6.0, 9.0]]"
      ]
     },
     "execution_count": 52,
     "metadata": {},
     "output_type": "execute_result"
    }
   ],
   "source": [
    "pd.Series(pd.qcut(s1,3))"
   ]
  },
  {
   "cell_type": "code",
   "execution_count": null,
   "id": "3bc0c285",
   "metadata": {},
   "outputs": [],
   "source": []
  },
  {
   "cell_type": "markdown",
   "id": "1a3ec20c",
   "metadata": {},
   "source": [
    "# Задача №6"
   ]
  },
  {
   "cell_type": "code",
   "execution_count": 59,
   "id": "94deba57",
   "metadata": {},
   "outputs": [],
   "source": [
    "# Преобразуйте pandas.Series (переменная s1) в pandas.DataFrame размером 2 х 5.\n",
    "\n",
    "s1 = pd.Series(range(0, 10))"
   ]
  },
  {
   "cell_type": "code",
   "execution_count": 60,
   "id": "d050394a",
   "metadata": {},
   "outputs": [
    {
     "data": {
      "text/plain": [
       "0    0\n",
       "1    1\n",
       "2    2\n",
       "3    3\n",
       "4    4\n",
       "5    5\n",
       "6    6\n",
       "7    7\n",
       "8    8\n",
       "9    9\n",
       "dtype: int64"
      ]
     },
     "execution_count": 60,
     "metadata": {},
     "output_type": "execute_result"
    }
   ],
   "source": [
    "s1"
   ]
  },
  {
   "cell_type": "code",
   "execution_count": 61,
   "id": "1bf4c9ce",
   "metadata": {},
   "outputs": [
    {
     "data": {
      "text/plain": [
       "array([[0, 1, 2, 3, 4],\n",
       "       [5, 6, 7, 8, 9]], dtype=int64)"
      ]
     },
     "execution_count": 61,
     "metadata": {},
     "output_type": "execute_result"
    }
   ],
   "source": [
    "s1 = s1.values.reshape(2,5)\n",
    "s1"
   ]
  },
  {
   "cell_type": "code",
   "execution_count": 62,
   "id": "804ec22c",
   "metadata": {},
   "outputs": [
    {
     "data": {
      "text/html": [
       "<div>\n",
       "<style scoped>\n",
       "    .dataframe tbody tr th:only-of-type {\n",
       "        vertical-align: middle;\n",
       "    }\n",
       "\n",
       "    .dataframe tbody tr th {\n",
       "        vertical-align: top;\n",
       "    }\n",
       "\n",
       "    .dataframe thead th {\n",
       "        text-align: right;\n",
       "    }\n",
       "</style>\n",
       "<table border=\"1\" class=\"dataframe\">\n",
       "  <thead>\n",
       "    <tr style=\"text-align: right;\">\n",
       "      <th></th>\n",
       "      <th>0</th>\n",
       "      <th>1</th>\n",
       "      <th>2</th>\n",
       "      <th>3</th>\n",
       "      <th>4</th>\n",
       "    </tr>\n",
       "  </thead>\n",
       "  <tbody>\n",
       "    <tr>\n",
       "      <th>0</th>\n",
       "      <td>0</td>\n",
       "      <td>1</td>\n",
       "      <td>2</td>\n",
       "      <td>3</td>\n",
       "      <td>4</td>\n",
       "    </tr>\n",
       "    <tr>\n",
       "      <th>1</th>\n",
       "      <td>5</td>\n",
       "      <td>6</td>\n",
       "      <td>7</td>\n",
       "      <td>8</td>\n",
       "      <td>9</td>\n",
       "    </tr>\n",
       "  </tbody>\n",
       "</table>\n",
       "</div>"
      ],
      "text/plain": [
       "   0  1  2  3  4\n",
       "0  0  1  2  3  4\n",
       "1  5  6  7  8  9"
      ]
     },
     "execution_count": 62,
     "metadata": {},
     "output_type": "execute_result"
    }
   ],
   "source": [
    "pd.DataFrame(s1)"
   ]
  },
  {
   "cell_type": "code",
   "execution_count": null,
   "id": "2d7a219e",
   "metadata": {},
   "outputs": [],
   "source": []
  },
  {
   "cell_type": "code",
   "execution_count": null,
   "id": "3958acae",
   "metadata": {},
   "outputs": [],
   "source": [
    "# 27.05.2023"
   ]
  },
  {
   "cell_type": "markdown",
   "id": "294356a6",
   "metadata": {},
   "source": [
    "# Задача №7"
   ]
  },
  {
   "cell_type": "code",
   "execution_count": 63,
   "id": "6d9fa136",
   "metadata": {},
   "outputs": [],
   "source": [
    "# Найдите индексы значений, которые кратны 2.\n",
    "\n",
    "s1 = pd.Series([5, 10, 2, 3, 9, 12, 1])"
   ]
  },
  {
   "cell_type": "code",
   "execution_count": 64,
   "id": "12b8fc88",
   "metadata": {},
   "outputs": [
    {
     "data": {
      "text/plain": [
       "array([1, 2, 5], dtype=int64)"
      ]
     },
     "execution_count": 64,
     "metadata": {},
     "output_type": "execute_result"
    }
   ],
   "source": [
    "# не сходится с ответом т.к. каждое значение должно быть в []\n",
    "np.array(s1[s1%2 == 0].index)"
   ]
  },
  {
   "cell_type": "code",
   "execution_count": 42,
   "id": "80d718e6",
   "metadata": {},
   "outputs": [
    {
     "data": {
      "text/plain": [
       "array([[0, 1],\n",
       "       [0, 2],\n",
       "       [0, 5]], dtype=int64)"
      ]
     },
     "execution_count": 42,
     "metadata": {},
     "output_type": "execute_result"
    }
   ],
   "source": [
    "# так выдает с нулевым индексом, видимо потому что объект pd.Series\n",
    "np.argwhere([s1%2 == 0])"
   ]
  },
  {
   "cell_type": "code",
   "execution_count": 19,
   "id": "ec7faa5f",
   "metadata": {},
   "outputs": [
    {
     "data": {
      "text/plain": [
       "array([[1],\n",
       "       [2],\n",
       "       [5]], dtype=int64)"
      ]
     },
     "execution_count": 19,
     "metadata": {},
     "output_type": "execute_result"
    }
   ],
   "source": [
    "# в итоге надо: обернуть в np.array и уже потом искать по условию:\n",
    "\n",
    "np.argwhere(np.array(s1) % 2 == 0)"
   ]
  },
  {
   "cell_type": "code",
   "execution_count": null,
   "id": "8e0d9b95",
   "metadata": {},
   "outputs": [],
   "source": []
  },
  {
   "cell_type": "markdown",
   "id": "93672bab",
   "metadata": {},
   "source": [
    "# Задача №8"
   ]
  },
  {
   "cell_type": "code",
   "execution_count": 50,
   "id": "b3f41d66",
   "metadata": {},
   "outputs": [],
   "source": [
    "# Создайте новый pandas.Series из элементов, которые находятся по индексам: 0, 7, 12, 15, 19.\n",
    "# Функция solution должна вернуть серию.\n",
    "\n",
    "s1 = pd.Series(list('abcdefghijklmnopqrstuvwxyz'))"
   ]
  },
  {
   "cell_type": "code",
   "execution_count": 58,
   "id": "329278cd",
   "metadata": {},
   "outputs": [],
   "source": [
    "df = pd.DataFrame(s1)"
   ]
  },
  {
   "cell_type": "code",
   "execution_count": 63,
   "id": "ca8bf58b",
   "metadata": {},
   "outputs": [
    {
     "data": {
      "text/plain": [
       "0     a\n",
       "7     h\n",
       "12    m\n",
       "15    p\n",
       "19    t\n",
       "dtype: object"
      ]
     },
     "execution_count": 63,
     "metadata": {},
     "output_type": "execute_result"
    }
   ],
   "source": [
    "s1.take([0, 7, 12, 15, 19])"
   ]
  },
  {
   "cell_type": "code",
   "execution_count": 71,
   "id": "8760ede8",
   "metadata": {},
   "outputs": [
    {
     "data": {
      "text/plain": [
       "3    d\n",
       "dtype: object"
      ]
     },
     "execution_count": 71,
     "metadata": {},
     "output_type": "execute_result"
    }
   ],
   "source": [
    "s1.take([3])"
   ]
  },
  {
   "cell_type": "code",
   "execution_count": null,
   "id": "2225d966",
   "metadata": {},
   "outputs": [],
   "source": []
  },
  {
   "cell_type": "markdown",
   "id": "407450d8",
   "metadata": {},
   "source": [
    "# Задача №9"
   ]
  },
  {
   "cell_type": "code",
   "execution_count": 72,
   "id": "f0177f49",
   "metadata": {},
   "outputs": [],
   "source": [
    "# Преобразуйте элементы pandas.Series (переменная s1) из строк в даты. Функция solution должна вернуть серию.\n",
    "\n",
    "s1 = pd.Series(['01 Jan 2022', '02-02-2022', '20220303', '2022/04/04', '2022-05-05', '2022-06-06T12:20'])\n",
    "\n",
    "pandas.to_datetime"
   ]
  },
  {
   "cell_type": "code",
   "execution_count": 73,
   "id": "4686cc17",
   "metadata": {},
   "outputs": [
    {
     "data": {
      "text/plain": [
       "0         01 Jan 2022\n",
       "1          02-02-2022\n",
       "2            20220303\n",
       "3          2022/04/04\n",
       "4          2022-05-05\n",
       "5    2022-06-06T12:20\n",
       "dtype: object"
      ]
     },
     "execution_count": 73,
     "metadata": {},
     "output_type": "execute_result"
    }
   ],
   "source": [
    "s1"
   ]
  },
  {
   "cell_type": "code",
   "execution_count": 75,
   "id": "59de8676",
   "metadata": {},
   "outputs": [
    {
     "data": {
      "text/plain": [
       "0   2022-01-01 00:00:00\n",
       "1   2022-02-02 00:00:00\n",
       "2   2022-03-03 00:00:00\n",
       "3   2022-04-04 00:00:00\n",
       "4   2022-05-05 00:00:00\n",
       "5   2022-06-06 12:20:00\n",
       "dtype: datetime64[ns]"
      ]
     },
     "execution_count": 75,
     "metadata": {},
     "output_type": "execute_result"
    }
   ],
   "source": [
    "pd.to_datetime(s1)"
   ]
  },
  {
   "cell_type": "code",
   "execution_count": null,
   "id": "e9f9ec9f",
   "metadata": {},
   "outputs": [],
   "source": []
  },
  {
   "cell_type": "markdown",
   "id": "e3a0df64",
   "metadata": {},
   "source": [
    "# Задача №10"
   ]
  },
  {
   "cell_type": "code",
   "execution_count": 65,
   "id": "9bc22d95",
   "metadata": {},
   "outputs": [],
   "source": [
    "# Объект pandas.Series (переменная s1) содержит некоторые числовые значения. \n",
    "# Для значений хранящихся в s2 определите индексы под которыми они хранятся  \n",
    "# в s1. Функция должна вернуть список (python list):\n",
    "    \n",
    "# [5, 4, 0, 8]\n",
    "\n",
    "s1 = pd.Series([10, 9, 6, 5, 3, 1, 12, 8, 13])\n",
    "s2 = pd.Series([1, 3, 10, 13])"
   ]
  },
  {
   "cell_type": "code",
   "execution_count": 66,
   "id": "921fb90a",
   "metadata": {},
   "outputs": [
    {
     "data": {
      "text/plain": [
       "0    10\n",
       "1     9\n",
       "2     6\n",
       "3     5\n",
       "4     3\n",
       "5     1\n",
       "6    12\n",
       "7     8\n",
       "8    13\n",
       "dtype: int64"
      ]
     },
     "execution_count": 66,
     "metadata": {},
     "output_type": "execute_result"
    }
   ],
   "source": [
    "s1"
   ]
  },
  {
   "cell_type": "code",
   "execution_count": 67,
   "id": "79ce5f08",
   "metadata": {},
   "outputs": [
    {
     "data": {
      "text/plain": [
       "0     1\n",
       "1     3\n",
       "2    10\n",
       "3    13\n",
       "dtype: int64"
      ]
     },
     "execution_count": 67,
     "metadata": {},
     "output_type": "execute_result"
    }
   ],
   "source": [
    "s2"
   ]
  },
  {
   "cell_type": "code",
   "execution_count": 68,
   "id": "a34f9388",
   "metadata": {},
   "outputs": [
    {
     "data": {
      "text/plain": [
       "array([ 1,  3, 10, 13], dtype=int64)"
      ]
     },
     "execution_count": 68,
     "metadata": {},
     "output_type": "execute_result"
    }
   ],
   "source": [
    "s2.values"
   ]
  },
  {
   "cell_type": "code",
   "execution_count": 6,
   "id": "8049307b",
   "metadata": {},
   "outputs": [],
   "source": [
    "lst = []\n",
    "for i in s2:\n",
    "    lst += (s1[s1 == i].index.to_list())"
   ]
  },
  {
   "cell_type": "code",
   "execution_count": 7,
   "id": "e5997030",
   "metadata": {},
   "outputs": [
    {
     "data": {
      "text/plain": [
       "[5, 4, 0, 8]"
      ]
     },
     "execution_count": 7,
     "metadata": {},
     "output_type": "execute_result"
    }
   ],
   "source": [
    "lst"
   ]
  },
  {
   "cell_type": "code",
   "execution_count": 8,
   "id": "c122449e",
   "metadata": {
    "scrolled": true
   },
   "outputs": [
    {
     "data": {
      "text/plain": [
       "[5, 4, 0, 8]"
      ]
     },
     "execution_count": 8,
     "metadata": {},
     "output_type": "execute_result"
    }
   ],
   "source": [
    "# Внимание правильный ответ:\n",
    "\n",
    "list(pd.Index(s1).get_indexer(s2))"
   ]
  },
  {
   "cell_type": "code",
   "execution_count": 9,
   "id": "d27acc5e",
   "metadata": {},
   "outputs": [
    {
     "data": {
      "text/plain": [
       "Int64Index([10, 9, 6, 5, 3, 1, 12, 8, 13], dtype='int64')"
      ]
     },
     "execution_count": 9,
     "metadata": {},
     "output_type": "execute_result"
    }
   ],
   "source": [
    "# get_indexer работает с pd.Index\n",
    "\n",
    "pd.Index(s1)"
   ]
  },
  {
   "cell_type": "code",
   "execution_count": 14,
   "id": "f3687edd",
   "metadata": {},
   "outputs": [
    {
     "data": {
      "text/plain": [
       "array([2], dtype=int64)"
      ]
     },
     "execution_count": 14,
     "metadata": {},
     "output_type": "execute_result"
    }
   ],
   "source": [
    "# передавать в get_indexer надо коллекцию например так [10]\n",
    "\n",
    "pd.Index(s2).get_indexer([10])"
   ]
  },
  {
   "cell_type": "code",
   "execution_count": null,
   "id": "3cf76ca0",
   "metadata": {},
   "outputs": [],
   "source": []
  },
  {
   "cell_type": "code",
   "execution_count": null,
   "id": "4010e07e",
   "metadata": {},
   "outputs": [],
   "source": [
    "28.05.2023"
   ]
  },
  {
   "cell_type": "code",
   "execution_count": null,
   "id": "c6d4dee3",
   "metadata": {},
   "outputs": [],
   "source": []
  },
  {
   "cell_type": "markdown",
   "id": "13daf393",
   "metadata": {},
   "source": [
    "# Задача № 11"
   ]
  },
  {
   "cell_type": "code",
   "execution_count": 4,
   "id": "c0f29d1e",
   "metadata": {},
   "outputs": [],
   "source": [
    "# Даны следующие ряды данных:\n",
    "\n",
    "# s_forecast - ряд прогнозных значений\n",
    "\n",
    "# s_real - ряд фактических значений\n",
    " \n",
    "\n",
    "# Вычислите среднеквадратичную ошибку.\n",
    "\n",
    "\n",
    "s_forecast = pd.Series(range(10))\n",
    "s_real  = pd.Series(reversed(range(10)))\n"
   ]
  },
  {
   "cell_type": "code",
   "execution_count": 10,
   "id": "97440b26",
   "metadata": {},
   "outputs": [
    {
     "data": {
      "text/plain": [
       "0    0\n",
       "1    1\n",
       "2    2\n",
       "3    3\n",
       "4    4\n",
       "5    5\n",
       "6    6\n",
       "7    7\n",
       "8    8\n",
       "9    9\n",
       "dtype: int64"
      ]
     },
     "execution_count": 10,
     "metadata": {},
     "output_type": "execute_result"
    }
   ],
   "source": [
    "s1 = s_forecast\n",
    "s1"
   ]
  },
  {
   "cell_type": "code",
   "execution_count": 11,
   "id": "7b4c1075",
   "metadata": {},
   "outputs": [
    {
     "data": {
      "text/plain": [
       "0    9\n",
       "1    8\n",
       "2    7\n",
       "3    6\n",
       "4    5\n",
       "5    4\n",
       "6    3\n",
       "7    2\n",
       "8    1\n",
       "9    0\n",
       "dtype: int64"
      ]
     },
     "execution_count": 11,
     "metadata": {},
     "output_type": "execute_result"
    }
   ],
   "source": [
    "s2 = s_real\n",
    "s2"
   ]
  },
  {
   "cell_type": "code",
   "execution_count": null,
   "id": "ef2f72fc",
   "metadata": {},
   "outputs": [],
   "source": [
    "# Среднеквадратичная ошибка (Mean Squared Error) – Среднее арифметическое (Mean) \n",
    "# квадратов разностей между предсказанными и реальными значениями Модели (Model) \n",
    "# Машинного обучения (ML):\n",
    "\n",
    "# MSE позволяет оценить, насколько хорошо модель приближает истинные значения. \n",
    "# Чем меньше значение MSE, тем ближе предсказания модели к истинным значениям."
   ]
  },
  {
   "cell_type": "code",
   "execution_count": 14,
   "id": "a589c603",
   "metadata": {},
   "outputs": [
    {
     "data": {
      "text/plain": [
       "33.0"
      ]
     },
     "execution_count": 14,
     "metadata": {},
     "output_type": "execute_result"
    }
   ],
   "source": [
    "((s1 - s2)**2).mean()"
   ]
  },
  {
   "cell_type": "code",
   "execution_count": null,
   "id": "77d170fa",
   "metadata": {},
   "outputs": [],
   "source": []
  },
  {
   "cell_type": "markdown",
   "id": "9be2fdb0",
   "metadata": {},
   "source": [
    "# Задача № 12"
   ]
  },
  {
   "cell_type": "code",
   "execution_count": 50,
   "id": "3fba4036",
   "metadata": {},
   "outputs": [],
   "source": [
    "# Измените первый символ каждого слова на верхний регистр.\n",
    "\n",
    "s1 = pd.Series(['the', 'weather', 'is', 'fine']) "
   ]
  },
  {
   "cell_type": "code",
   "execution_count": 23,
   "id": "13d9733c",
   "metadata": {},
   "outputs": [
    {
     "data": {
      "text/plain": [
       "'t'"
      ]
     },
     "execution_count": 23,
     "metadata": {},
     "output_type": "execute_result"
    }
   ],
   "source": [
    "s1[0][0]"
   ]
  },
  {
   "cell_type": "code",
   "execution_count": 37,
   "id": "10dc0bde",
   "metadata": {},
   "outputs": [],
   "source": [
    "# с циклом:\n",
    "for i in range(len(s1)):\n",
    "    s1[i] = np.char.replace(s1[i], s1[i][0], s1[i][0].upper())"
   ]
  },
  {
   "cell_type": "code",
   "execution_count": 38,
   "id": "d3027195",
   "metadata": {
    "scrolled": true
   },
   "outputs": [
    {
     "data": {
      "text/plain": [
       "0        The\n",
       "1    Weather\n",
       "2         Is\n",
       "3       Fine\n",
       "dtype: object"
      ]
     },
     "execution_count": 38,
     "metadata": {},
     "output_type": "execute_result"
    }
   ],
   "source": [
    "s1"
   ]
  },
  {
   "cell_type": "code",
   "execution_count": null,
   "id": "918c6041",
   "metadata": {},
   "outputs": [],
   "source": [
    "# без цикла"
   ]
  },
  {
   "cell_type": "code",
   "execution_count": 53,
   "id": "b28c44b9",
   "metadata": {},
   "outputs": [
    {
     "data": {
      "text/plain": [
       "0        The\n",
       "1    Weather\n",
       "2         Is\n",
       "3       Fine\n",
       "dtype: object"
      ]
     },
     "execution_count": 53,
     "metadata": {},
     "output_type": "execute_result"
    }
   ],
   "source": [
    "s1.str.capitalize()"
   ]
  },
  {
   "cell_type": "code",
   "execution_count": null,
   "id": "a0282b5e",
   "metadata": {},
   "outputs": [],
   "source": []
  },
  {
   "cell_type": "markdown",
   "id": "2e97f37f",
   "metadata": {},
   "source": [
    "# Задача №13"
   ]
  },
  {
   "cell_type": "code",
   "execution_count": 66,
   "id": "a361f529",
   "metadata": {},
   "outputs": [],
   "source": [
    "# Подсчитайте количество символов в каждом слове. Функция solution должна вернуть серию.\n",
    "\n",
    "s1 = pd.Series(['the', 'weather', 'is', 'fine'])"
   ]
  },
  {
   "cell_type": "code",
   "execution_count": 77,
   "id": "d0bb1704",
   "metadata": {},
   "outputs": [
    {
     "data": {
      "text/plain": [
       "0    3\n",
       "1    7\n",
       "2    2\n",
       "3    4\n",
       "dtype: int64"
      ]
     },
     "execution_count": 77,
     "metadata": {},
     "output_type": "execute_result"
    }
   ],
   "source": [
    "result = pd.Series(s1.str.len())\n",
    "result"
   ]
  },
  {
   "cell_type": "code",
   "execution_count": null,
   "id": "fdeb6f1f",
   "metadata": {},
   "outputs": [],
   "source": []
  },
  {
   "cell_type": "code",
   "execution_count": null,
   "id": "39e7b854",
   "metadata": {},
   "outputs": [],
   "source": [
    "20.06.2023"
   ]
  },
  {
   "cell_type": "markdown",
   "id": "29ab8f6e",
   "metadata": {},
   "source": [
    "# Задача №14"
   ]
  },
  {
   "cell_type": "code",
   "execution_count": null,
   "id": "39e18b4d",
   "metadata": {},
   "outputs": [],
   "source": [
    "# Вытяните день месяца, номер недели, день года и день недели из серии (s1)\n",
    "\n",
    "# Date:  [5, 4, 3, 4, 5, 6]\n",
    "# Week number:  [1, 5, 13, 22, 9, 9]\n",
    "# Day number of year:  [5, 35, 93, 155, 64, 65]\n",
    "# Day of week:  ['Tuesday', 'Thursday', 'Saturday', 'Friday', 'Friday', 'Saturday']"
   ]
  },
  {
   "cell_type": "code",
   "execution_count": 69,
   "id": "27523a6e",
   "metadata": {},
   "outputs": [],
   "source": [
    "s1 = pd.Series(['05 Jan 2021', '02-04-2021', '20210403', '2021/06/04', '2021-03-05', '2021-03-06T12:20'])"
   ]
  },
  {
   "cell_type": "code",
   "execution_count": 91,
   "id": "916103fd",
   "metadata": {},
   "outputs": [
    {
     "name": "stdout",
     "output_type": "stream",
     "text": [
      "Date:  [5, 4, 3, 4, 5, 6]\n",
      "Week number:  [1, 5, 13, 22, 9, 9]\n",
      "Day number of year:  [5, 35, 93, 155, 64, 65]\n",
      "Day of week:  ['Tuesday', 'Thursday', 'Saturday', 'Friday', 'Friday', 'Saturday']\n"
     ]
    }
   ],
   "source": [
    "print('Date: ', list(pd.to_datetime(s1).dt.day))\n",
    "\n",
    "print('Week number: ', list(pd.to_datetime(s1).dt.isocalendar().week))\n",
    "\n",
    "print('Day number of year: ', list(pd.to_datetime(s1).dt.dayofyear))\n",
    "\n",
    "print('Day of week: ', list(pd.to_datetime(s1).dt.day_name()))"
   ]
  },
  {
   "cell_type": "code",
   "execution_count": null,
   "id": "d5c87570",
   "metadata": {},
   "outputs": [],
   "source": []
  },
  {
   "cell_type": "markdown",
   "id": "f4f6de0a",
   "metadata": {},
   "source": [
    "# Задача №15"
   ]
  },
  {
   "cell_type": "code",
   "execution_count": null,
   "id": "3717609c",
   "metadata": {},
   "outputs": [],
   "source": [
    "# Измените даты лежащие в серии (s1) таким образом чтобы они начинались с 10-го числа соответствующего месяца.\n",
    "\n",
    "# Требуемый финальный результат (наполнение):\n",
    "# 0   2022-01-10\n",
    "# 1   2022-02-10\n",
    "# 2   2022-03-10\n",
    "# dtype: datetime64[ns]"
   ]
  },
  {
   "cell_type": "code",
   "execution_count": 110,
   "id": "fbda2a30",
   "metadata": {},
   "outputs": [],
   "source": [
    "s1 = pd.Series(['Jan 2022', 'Feb 2022', 'Mar 2022'])"
   ]
  },
  {
   "cell_type": "code",
   "execution_count": 93,
   "id": "08cfacde",
   "metadata": {},
   "outputs": [
    {
     "data": {
      "text/plain": [
       "0    Jan 2022\n",
       "1    Feb 2022\n",
       "2    Mar 2022\n",
       "dtype: object"
      ]
     },
     "execution_count": 93,
     "metadata": {},
     "output_type": "execute_result"
    }
   ],
   "source": [
    "s1"
   ]
  },
  {
   "cell_type": "code",
   "execution_count": 96,
   "id": "4d5e17bc",
   "metadata": {},
   "outputs": [
    {
     "data": {
      "text/plain": [
       "0   2022-01-01\n",
       "1   2022-02-01\n",
       "2   2022-03-01\n",
       "dtype: datetime64[ns]"
      ]
     },
     "execution_count": 96,
     "metadata": {},
     "output_type": "execute_result"
    }
   ],
   "source": [
    "pd.to_datetime(s1)"
   ]
  },
  {
   "cell_type": "code",
   "execution_count": 101,
   "id": "42e6de2d",
   "metadata": {},
   "outputs": [
    {
     "data": {
      "text/plain": [
       "0    2022\n",
       "1    2022\n",
       "2    2022\n",
       "dtype: int64"
      ]
     },
     "execution_count": 101,
     "metadata": {},
     "output_type": "execute_result"
    }
   ],
   "source": [
    "pd.to_datetime(s1).dt.year"
   ]
  },
  {
   "cell_type": "code",
   "execution_count": 102,
   "id": "4bd7f59d",
   "metadata": {},
   "outputs": [
    {
     "data": {
      "text/plain": [
       "0    1\n",
       "1    2\n",
       "2    3\n",
       "dtype: int64"
      ]
     },
     "execution_count": 102,
     "metadata": {},
     "output_type": "execute_result"
    }
   ],
   "source": [
    "pd.to_datetime(s1).dt.month"
   ]
  },
  {
   "cell_type": "code",
   "execution_count": 114,
   "id": "da8693b2",
   "metadata": {},
   "outputs": [],
   "source": [
    "df = pd.DataFrame({'year': list(pd.to_datetime(s1).dt.year),\n",
    "                   'month': list(pd.to_datetime(s1).dt.month),\n",
    "                   'day': [10 for i in range (len(s1))]})"
   ]
  },
  {
   "cell_type": "code",
   "execution_count": 115,
   "id": "00996817",
   "metadata": {
    "scrolled": true
   },
   "outputs": [
    {
     "data": {
      "text/html": [
       "<div>\n",
       "<style scoped>\n",
       "    .dataframe tbody tr th:only-of-type {\n",
       "        vertical-align: middle;\n",
       "    }\n",
       "\n",
       "    .dataframe tbody tr th {\n",
       "        vertical-align: top;\n",
       "    }\n",
       "\n",
       "    .dataframe thead th {\n",
       "        text-align: right;\n",
       "    }\n",
       "</style>\n",
       "<table border=\"1\" class=\"dataframe\">\n",
       "  <thead>\n",
       "    <tr style=\"text-align: right;\">\n",
       "      <th></th>\n",
       "      <th>year</th>\n",
       "      <th>month</th>\n",
       "      <th>day</th>\n",
       "    </tr>\n",
       "  </thead>\n",
       "  <tbody>\n",
       "    <tr>\n",
       "      <th>0</th>\n",
       "      <td>2022</td>\n",
       "      <td>1</td>\n",
       "      <td>10</td>\n",
       "    </tr>\n",
       "    <tr>\n",
       "      <th>1</th>\n",
       "      <td>2022</td>\n",
       "      <td>2</td>\n",
       "      <td>10</td>\n",
       "    </tr>\n",
       "    <tr>\n",
       "      <th>2</th>\n",
       "      <td>2022</td>\n",
       "      <td>3</td>\n",
       "      <td>10</td>\n",
       "    </tr>\n",
       "  </tbody>\n",
       "</table>\n",
       "</div>"
      ],
      "text/plain": [
       "   year  month  day\n",
       "0  2022      1   10\n",
       "1  2022      2   10\n",
       "2  2022      3   10"
      ]
     },
     "execution_count": 115,
     "metadata": {},
     "output_type": "execute_result"
    }
   ],
   "source": [
    "df"
   ]
  },
  {
   "cell_type": "code",
   "execution_count": 117,
   "id": "a8a0806c",
   "metadata": {},
   "outputs": [
    {
     "data": {
      "text/plain": [
       "0   2022-01-10\n",
       "1   2022-02-10\n",
       "2   2022-03-10\n",
       "dtype: datetime64[ns]"
      ]
     },
     "execution_count": 117,
     "metadata": {},
     "output_type": "execute_result"
    }
   ],
   "source": [
    "pd.to_datetime(df)"
   ]
  },
  {
   "cell_type": "code",
   "execution_count": null,
   "id": "fb5611a5",
   "metadata": {},
   "outputs": [],
   "source": []
  },
  {
   "cell_type": "markdown",
   "id": "3d8d6f47",
   "metadata": {},
   "source": [
    "### Несколько вариантов решения этой задачи из комментариев:"
   ]
  },
  {
   "cell_type": "markdown",
   "id": "e047341d",
   "metadata": {},
   "source": [
    "### Вариант №1"
   ]
  },
  {
   "cell_type": "code",
   "execution_count": 120,
   "id": "e3055ad3",
   "metadata": {},
   "outputs": [],
   "source": [
    "# Шаг 1. Преобразуем изначальную серию old_series в серию с датами new_series:\n",
    "new_series = pd.to_datetime(s1)"
   ]
  },
  {
   "cell_type": "code",
   "execution_count": 121,
   "id": "33bf9207",
   "metadata": {},
   "outputs": [
    {
     "data": {
      "text/plain": [
       "0   2022-01-01\n",
       "1   2022-02-01\n",
       "2   2022-03-01\n",
       "dtype: datetime64[ns]"
      ]
     },
     "execution_count": 121,
     "metadata": {},
     "output_type": "execute_result"
    }
   ],
   "source": [
    "new_series"
   ]
  },
  {
   "cell_type": "code",
   "execution_count": 122,
   "id": "08ec925b",
   "metadata": {},
   "outputs": [],
   "source": [
    "# Шаг 2. Создадим значение количества дней, на которое нужно изменить new_serias:\n",
    "days_amount = pd.Timedelta(days=9)"
   ]
  },
  {
   "cell_type": "code",
   "execution_count": 125,
   "id": "8bdcbb24",
   "metadata": {},
   "outputs": [
    {
     "data": {
      "text/plain": [
       "Timedelta('9 days 00:00:00')"
      ]
     },
     "execution_count": 125,
     "metadata": {},
     "output_type": "execute_result"
    }
   ],
   "source": [
    "days_amount"
   ]
  },
  {
   "cell_type": "code",
   "execution_count": 123,
   "id": "cedbf4f5",
   "metadata": {},
   "outputs": [],
   "source": [
    "# Шаг 3. Преобразуем new_series в финальную с нужной датой final_series:\n",
    "final_series = new_series + days_amount"
   ]
  },
  {
   "cell_type": "code",
   "execution_count": 126,
   "id": "c3c93940",
   "metadata": {},
   "outputs": [
    {
     "data": {
      "text/plain": [
       "0   2022-01-10\n",
       "1   2022-02-10\n",
       "2   2022-03-10\n",
       "dtype: datetime64[ns]"
      ]
     },
     "execution_count": 126,
     "metadata": {},
     "output_type": "execute_result"
    }
   ],
   "source": [
    "final_series"
   ]
  },
  {
   "cell_type": "markdown",
   "id": "b7a398ed",
   "metadata": {},
   "source": [
    "### Вариант№2"
   ]
  },
  {
   "cell_type": "code",
   "execution_count": 127,
   "id": "a7cef2d3",
   "metadata": {},
   "outputs": [
    {
     "data": {
      "text/plain": [
       "0    Jan 2022\n",
       "1    Feb 2022\n",
       "2    Mar 2022\n",
       "dtype: object"
      ]
     },
     "execution_count": 127,
     "metadata": {},
     "output_type": "execute_result"
    }
   ],
   "source": [
    "s1"
   ]
  },
  {
   "cell_type": "code",
   "execution_count": 138,
   "id": "48c0f0f0",
   "metadata": {},
   "outputs": [],
   "source": [
    "s11 = pd.to_datetime(s1)"
   ]
  },
  {
   "cell_type": "code",
   "execution_count": 152,
   "id": "737ede07",
   "metadata": {},
   "outputs": [
    {
     "data": {
      "text/plain": [
       "0   2022-01-01\n",
       "1   2022-02-01\n",
       "2   2022-03-01\n",
       "dtype: datetime64[ns]"
      ]
     },
     "execution_count": 152,
     "metadata": {},
     "output_type": "execute_result"
    }
   ],
   "source": [
    "s11"
   ]
  },
  {
   "cell_type": "code",
   "execution_count": 154,
   "id": "a424c41c",
   "metadata": {},
   "outputs": [
    {
     "data": {
      "text/plain": [
       "0   2022-01-10\n",
       "1   2022-02-10\n",
       "2   2022-03-10\n",
       "dtype: datetime64[ns]"
      ]
     },
     "execution_count": 154,
     "metadata": {},
     "output_type": "execute_result"
    }
   ],
   "source": [
    "s11.apply(lambda x: x.replace(day=10))"
   ]
  },
  {
   "cell_type": "code",
   "execution_count": 157,
   "id": "1e27f433",
   "metadata": {},
   "outputs": [
    {
     "data": {
      "text/plain": [
       "Timestamp('2022-01-10 00:00:00')"
      ]
     },
     "execution_count": 157,
     "metadata": {},
     "output_type": "execute_result"
    }
   ],
   "source": [
    "s11[0].replace(day=10)"
   ]
  },
  {
   "cell_type": "code",
   "execution_count": null,
   "id": "aa468419",
   "metadata": {},
   "outputs": [],
   "source": []
  },
  {
   "cell_type": "code",
   "execution_count": null,
   "id": "ce52350e",
   "metadata": {},
   "outputs": [],
   "source": [
    "26.06.2023"
   ]
  },
  {
   "cell_type": "markdown",
   "id": "f846ce96",
   "metadata": {},
   "source": [
    "# Задача №16"
   ]
  },
  {
   "cell_type": "code",
   "execution_count": 138,
   "id": "5aee1041",
   "metadata": {},
   "outputs": [],
   "source": [
    "# Из серии (s1) вытяните слова, содержащие не менее 2 гласных.\n",
    "\n",
    "# Сложность: 💪💪💪 \n",
    "    \n",
    "s1 = pd.Series(['Apple', 'Orange', 'Plan', 'Sky', 'Money'])"
   ]
  },
  {
   "cell_type": "code",
   "execution_count": 69,
   "id": "953e519b",
   "metadata": {},
   "outputs": [],
   "source": [
    "vow = ['a', 'e', 'i', 'o', 'u']"
   ]
  },
  {
   "cell_type": "code",
   "execution_count": 37,
   "id": "b959db1c",
   "metadata": {
    "scrolled": true
   },
   "outputs": [
    {
     "data": {
      "text/plain": [
       "0    False\n",
       "1    False\n",
       "2    False\n",
       "3    False\n",
       "4    False\n",
       "dtype: bool"
      ]
     },
     "execution_count": 37,
     "metadata": {},
     "output_type": "execute_result"
    }
   ],
   "source": [
    "s1.apply(lambda x: x in vow)"
   ]
  },
  {
   "cell_type": "code",
   "execution_count": 136,
   "id": "71cb66a1",
   "metadata": {},
   "outputs": [],
   "source": [
    "lst = []\n",
    "lst_index = []\n",
    "def calc_vows(x):    \n",
    "    cnt = 0\n",
    "    for i in vow:\n",
    "        if i in x.lower():\n",
    "            cnt +=1\n",
    "            if cnt >= 2:\n",
    "                lst.append(x)\n",
    "                lst_index.append()\n",
    "                break\n",
    "    return lst"
   ]
  },
  {
   "cell_type": "code",
   "execution_count": 133,
   "id": "051b7b77",
   "metadata": {},
   "outputs": [
    {
     "data": {
      "text/plain": [
       "['Apple', 'Orange', 'Money']"
      ]
     },
     "execution_count": 133,
     "metadata": {},
     "output_type": "execute_result"
    }
   ],
   "source": [
    "lst"
   ]
  },
  {
   "cell_type": "code",
   "execution_count": 135,
   "id": "53a51219",
   "metadata": {},
   "outputs": [
    {
     "data": {
      "text/plain": [
       "[<function str.index>, <function str.index>, <function str.index>]"
      ]
     },
     "execution_count": 135,
     "metadata": {},
     "output_type": "execute_result"
    }
   ],
   "source": [
    "lst_index"
   ]
  },
  {
   "cell_type": "code",
   "execution_count": 121,
   "id": "3704b45b",
   "metadata": {},
   "outputs": [
    {
     "data": {
      "text/plain": [
       "0     Apple\n",
       "1    Orange\n",
       "2     Money\n",
       "dtype: object"
      ]
     },
     "execution_count": 121,
     "metadata": {},
     "output_type": "execute_result"
    }
   ],
   "source": [
    "pd.Series(lst)"
   ]
  },
  {
   "cell_type": "code",
   "execution_count": 150,
   "id": "93022b27",
   "metadata": {},
   "outputs": [],
   "source": [
    "import pandas as pd\n",
    "import numpy as np\n",
    "\n",
    "lst = []\n",
    "vow = ['a', 'e', 'i', 'o', 'u']\n",
    "def calc_vows(x):    \n",
    "    cnt = 0\n",
    "    for i in vow:\n",
    "        if i in x.lower():\n",
    "            cnt +=1\n",
    "            if cnt >= 2:\n",
    "                lst.append(x)\n",
    "                break\n",
    "    return lst\n",
    "\n",
    "\n",
    "def solution():\n",
    "    s1 = pd.Series(['Apple', 'Orange', 'Plan', 'Sky', 'Money'])\n",
    "    \n",
    "    s1.apply(lambda x: calc_vows(x))\n",
    "    result = pd.Series(list(lst), index = [pd.Index(s1).get_indexer(lst)])\n",
    "    return result"
   ]
  },
  {
   "cell_type": "code",
   "execution_count": 151,
   "id": "4d5d54c4",
   "metadata": {},
   "outputs": [
    {
     "data": {
      "text/plain": [
       "0     Apple\n",
       "1    Orange\n",
       "4     Money\n",
       "dtype: object"
      ]
     },
     "execution_count": 151,
     "metadata": {},
     "output_type": "execute_result"
    }
   ],
   "source": [
    "solution()"
   ]
  },
  {
   "cell_type": "code",
   "execution_count": 2,
   "id": "71a153b2",
   "metadata": {},
   "outputs": [
    {
     "name": "stdout",
     "output_type": "stream",
     "text": [
      "0     Apple\n",
      "1    Orange\n",
      "4     Money\n",
      "dtype: object\n"
     ]
    }
   ],
   "source": [
    "# Внимание правильное решение:\n",
    "\n",
    "import pandas as pd\n",
    "import numpy as np\n",
    "\n",
    "s1 = pd.Series(['Apple', 'Orange', 'Plan', 'Sky', 'Money'])\n",
    "s2 = s1.str.count('[aeiouyAEIOUY]')\n",
    "\n",
    "print(s1[s2 >= 2])"
   ]
  },
  {
   "cell_type": "code",
   "execution_count": 162,
   "id": "52e6c9e2",
   "metadata": {},
   "outputs": [
    {
     "data": {
      "text/plain": [
       "0    2\n",
       "1    3\n",
       "2    1\n",
       "3    1\n",
       "4    3\n",
       "dtype: int64"
      ]
     },
     "execution_count": 162,
     "metadata": {},
     "output_type": "execute_result"
    }
   ],
   "source": [
    "s1.str.count('[aeiouyAEIOUY]')"
   ]
  },
  {
   "cell_type": "code",
   "execution_count": null,
   "id": "6539dbaa",
   "metadata": {},
   "outputs": [],
   "source": []
  },
  {
   "cell_type": "code",
   "execution_count": null,
   "id": "2517cc38",
   "metadata": {},
   "outputs": [],
   "source": [
    "27.06.2023"
   ]
  },
  {
   "cell_type": "markdown",
   "id": "afc4c96a",
   "metadata": {},
   "source": [
    "# Задача №17"
   ]
  },
  {
   "cell_type": "code",
   "execution_count": null,
   "id": "82117913",
   "metadata": {},
   "outputs": [],
   "source": [
    "# Сложность: 💪💪💪 \n",
    "\n",
    "# Извлеките корректные почтовые адреса из серии (s1). Используйте pattern для этой задачи.\n",
    "\n",
    "# Требуемый финальный результат (наполнение):\n",
    "# 1          help@stepik.com\n",
    "# 2                user@t.co\n",
    "# 3    lovepandas@google.com\n",
    "# dtype: object"
   ]
  },
  {
   "cell_type": "code",
   "execution_count": 14,
   "id": "05bb7845",
   "metadata": {},
   "outputs": [],
   "source": [
    "# import pandas as pd\n",
    "# import numpy as np\n",
    "\n",
    "# def solution():\n",
    "#     s1 = pd.Series(['teach pandas at stepik.com', 'help@stepik.com', 'user@t.co', 'lovepandas@google.com'])\n",
    "#     pattern ='[A-Za-z0-9._%+-]+@[A-Za-z0-9.-]+\\\\.[A-Za-z]{2,4}'\n",
    "#     result = # ваш код здесь)\n",
    "#     return result"
   ]
  },
  {
   "cell_type": "code",
   "execution_count": 16,
   "id": "965cdf71",
   "metadata": {},
   "outputs": [],
   "source": [
    "s1 = pd.Series(['teach pandas at stepik.com', 'help@stepik.com', 'user@t.co', 'lovepandas@google.com'])\n",
    "pattern ='[A-Za-z0-9._%+-]+@[A-Za-z0-9.-]+\\\\.[A-Za-z]{2,4}'"
   ]
  },
  {
   "cell_type": "code",
   "execution_count": 44,
   "id": "73a78293",
   "metadata": {},
   "outputs": [
    {
     "data": {
      "text/plain": [
       "0                         []\n",
       "1          [help@stepik.com]\n",
       "2                [user@t.co]\n",
       "3    [lovepandas@google.com]\n",
       "dtype: object"
      ]
     },
     "execution_count": 44,
     "metadata": {},
     "output_type": "execute_result"
    }
   ],
   "source": [
    "# И снова рубрика \"небольшие подсказки\".\n",
    "# Шаг 1. Воспользуемся супер функций pandas.Series.str.findall (спасибо Роману Медведеву за подсказку),\n",
    "# эта функция принимает в себя аргумент в виде паттерна (или регулярное выражение), а возвращает все\n",
    "# совпадения с этим паттерном каждой строки серии. Т.е. если не будет совпадения, \n",
    "# то функция вернут пустой список.\n",
    "\n",
    "s = s1.str.findall(pattern)\n",
    "s"
   ]
  },
  {
   "cell_type": "code",
   "execution_count": 50,
   "id": "b09a87bd",
   "metadata": {},
   "outputs": [
    {
     "data": {
      "text/plain": [
       "1          [help@stepik.com]\n",
       "2                [user@t.co]\n",
       "3    [lovepandas@google.com]\n",
       "dtype: object"
      ]
     },
     "execution_count": 50,
     "metadata": {},
     "output_type": "execute_result"
    }
   ],
   "source": [
    "ss = s[s.str.len() != 0]\n",
    "ss"
   ]
  },
  {
   "cell_type": "code",
   "execution_count": 52,
   "id": "6f64b5a0",
   "metadata": {},
   "outputs": [],
   "source": [
    "# Избавимся от квадратных скобок. Нам поможет функция pandas.Series.explode,\n",
    "# которая ничего не принимает в виде аргумента, а возвращает dtype строк \n",
    "# подмножества в виде object. Нам это и нужно.\n",
    "# код:\n",
    "# s4 = s3.explode()"
   ]
  },
  {
   "cell_type": "code",
   "execution_count": 53,
   "id": "3f7d5dd8",
   "metadata": {},
   "outputs": [
    {
     "data": {
      "text/plain": [
       "1          help@stepik.com\n",
       "2                user@t.co\n",
       "3    lovepandas@google.com\n",
       "dtype: object"
      ]
     },
     "execution_count": 53,
     "metadata": {},
     "output_type": "execute_result"
    }
   ],
   "source": [
    "ss.explode()"
   ]
  },
  {
   "cell_type": "code",
   "execution_count": 49,
   "id": "cc1ad46e",
   "metadata": {},
   "outputs": [
    {
     "data": {
      "text/plain": [
       "1          help@stepik.com\n",
       "2                user@t.co\n",
       "3    lovepandas@google.com\n",
       "dtype: object"
      ]
     },
     "execution_count": 49,
     "metadata": {},
     "output_type": "execute_result"
    }
   ],
   "source": [
    "result = ss.apply(lambda x: x[0])\n",
    "result"
   ]
  },
  {
   "cell_type": "code",
   "execution_count": 51,
   "id": "33eca755",
   "metadata": {},
   "outputs": [
    {
     "data": {
      "text/plain": [
       "1          help@stepik.com\n",
       "2                user@t.co\n",
       "3    lovepandas@google.com\n",
       "dtype: object"
      ]
     },
     "execution_count": 51,
     "metadata": {},
     "output_type": "execute_result"
    }
   ],
   "source": [
    "s[s.str.len() != 0].apply(lambda x: x[0])"
   ]
  },
  {
   "cell_type": "code",
   "execution_count": null,
   "id": "9f49a04d",
   "metadata": {},
   "outputs": [],
   "source": []
  },
  {
   "cell_type": "markdown",
   "id": "159b3b3b",
   "metadata": {},
   "source": [
    "# Задача №18"
   ]
  },
  {
   "cell_type": "code",
   "execution_count": 5,
   "id": "f19c013b",
   "metadata": {},
   "outputs": [],
   "source": [
    "# Сложность: 💪💪 \n",
    "    \n",
    "# Вычислите среднее значение веса каждого фрукта.\n",
    "\n",
    "# Требуемый финальный результат (наполнение):\n",
    "# apple     6.0\n",
    "# banana    4.0\n",
    "# carrot    5.8\n",
    "# dtype: float64\n",
    "    \n",
    "    \n",
    "import pandas as pd\n",
    "import numpy as np\n",
    "\n",
    "def solution():\n",
    "    fruit_list = ['banana', 'carrot', 'apple', 'carrot', 'carrot', 'apple', 'banana', 'carrot', 'apple', 'carrot']\n",
    "    weights_list =  [1.0, 2.0, 3.0, 4.0, 5.0, 6.0, 7.0, 8.0, 9.0, 10.0]\n",
    "\n",
    "    fruits = pd.Series(fruit_list)\n",
    "    weights = pd.Series(weights_list)\n",
    "\n",
    "    #result = # ваш код здесь)\n",
    "    return result"
   ]
  },
  {
   "cell_type": "code",
   "execution_count": 8,
   "id": "f72265e0",
   "metadata": {},
   "outputs": [],
   "source": [
    "df = pd.DataFrame()\n",
    "\n",
    "fruit_list = ['banana', 'carrot', 'apple', 'carrot', 'carrot', 'apple', 'banana', 'carrot', 'apple', 'carrot']\n",
    "weights_list =  [1.0, 2.0, 3.0, 4.0, 5.0, 6.0, 7.0, 8.0, 9.0, 10.0]"
   ]
  },
  {
   "cell_type": "code",
   "execution_count": 9,
   "id": "1abcc9ca",
   "metadata": {},
   "outputs": [],
   "source": [
    "df['fruit_list'] = fruit_list\n",
    "df['weights_list'] = weights_list"
   ]
  },
  {
   "cell_type": "code",
   "execution_count": 10,
   "id": "81846cb9",
   "metadata": {},
   "outputs": [
    {
     "data": {
      "text/html": [
       "<div>\n",
       "<style scoped>\n",
       "    .dataframe tbody tr th:only-of-type {\n",
       "        vertical-align: middle;\n",
       "    }\n",
       "\n",
       "    .dataframe tbody tr th {\n",
       "        vertical-align: top;\n",
       "    }\n",
       "\n",
       "    .dataframe thead th {\n",
       "        text-align: right;\n",
       "    }\n",
       "</style>\n",
       "<table border=\"1\" class=\"dataframe\">\n",
       "  <thead>\n",
       "    <tr style=\"text-align: right;\">\n",
       "      <th></th>\n",
       "      <th>fruit_list</th>\n",
       "      <th>weights_list</th>\n",
       "    </tr>\n",
       "  </thead>\n",
       "  <tbody>\n",
       "    <tr>\n",
       "      <th>0</th>\n",
       "      <td>banana</td>\n",
       "      <td>1.0</td>\n",
       "    </tr>\n",
       "    <tr>\n",
       "      <th>1</th>\n",
       "      <td>carrot</td>\n",
       "      <td>2.0</td>\n",
       "    </tr>\n",
       "    <tr>\n",
       "      <th>2</th>\n",
       "      <td>apple</td>\n",
       "      <td>3.0</td>\n",
       "    </tr>\n",
       "    <tr>\n",
       "      <th>3</th>\n",
       "      <td>carrot</td>\n",
       "      <td>4.0</td>\n",
       "    </tr>\n",
       "    <tr>\n",
       "      <th>4</th>\n",
       "      <td>carrot</td>\n",
       "      <td>5.0</td>\n",
       "    </tr>\n",
       "    <tr>\n",
       "      <th>5</th>\n",
       "      <td>apple</td>\n",
       "      <td>6.0</td>\n",
       "    </tr>\n",
       "    <tr>\n",
       "      <th>6</th>\n",
       "      <td>banana</td>\n",
       "      <td>7.0</td>\n",
       "    </tr>\n",
       "    <tr>\n",
       "      <th>7</th>\n",
       "      <td>carrot</td>\n",
       "      <td>8.0</td>\n",
       "    </tr>\n",
       "    <tr>\n",
       "      <th>8</th>\n",
       "      <td>apple</td>\n",
       "      <td>9.0</td>\n",
       "    </tr>\n",
       "    <tr>\n",
       "      <th>9</th>\n",
       "      <td>carrot</td>\n",
       "      <td>10.0</td>\n",
       "    </tr>\n",
       "  </tbody>\n",
       "</table>\n",
       "</div>"
      ],
      "text/plain": [
       "  fruit_list  weights_list\n",
       "0     banana           1.0\n",
       "1     carrot           2.0\n",
       "2      apple           3.0\n",
       "3     carrot           4.0\n",
       "4     carrot           5.0\n",
       "5      apple           6.0\n",
       "6     banana           7.0\n",
       "7     carrot           8.0\n",
       "8      apple           9.0\n",
       "9     carrot          10.0"
      ]
     },
     "execution_count": 10,
     "metadata": {},
     "output_type": "execute_result"
    }
   ],
   "source": [
    "df"
   ]
  },
  {
   "cell_type": "code",
   "execution_count": 26,
   "id": "06667f12",
   "metadata": {},
   "outputs": [
    {
     "data": {
      "text/plain": [
       "fruit_list\n",
       "apple     6.0\n",
       "banana    4.0\n",
       "carrot    5.8\n",
       "Name: weights_list, dtype: float64"
      ]
     },
     "execution_count": 26,
     "metadata": {},
     "output_type": "execute_result"
    }
   ],
   "source": [
    "df_group = df.groupby('fruit_list')['weights_list'].mean()\n",
    "df_group"
   ]
  },
  {
   "cell_type": "code",
   "execution_count": 28,
   "id": "85818276",
   "metadata": {},
   "outputs": [],
   "source": [
    "df_group.name = None"
   ]
  },
  {
   "cell_type": "code",
   "execution_count": 33,
   "id": "d83f57c0",
   "metadata": {},
   "outputs": [],
   "source": [
    "df_group.index.name = None"
   ]
  },
  {
   "cell_type": "code",
   "execution_count": 34,
   "id": "235246ae",
   "metadata": {},
   "outputs": [
    {
     "data": {
      "text/plain": [
       "apple     6.0\n",
       "banana    4.0\n",
       "carrot    5.8\n",
       "dtype: float64"
      ]
     },
     "execution_count": 34,
     "metadata": {},
     "output_type": "execute_result"
    }
   ],
   "source": [
    "df_group"
   ]
  },
  {
   "cell_type": "code",
   "execution_count": null,
   "id": "4509cfcd",
   "metadata": {},
   "outputs": [],
   "source": []
  },
  {
   "cell_type": "code",
   "execution_count": 25,
   "id": "d94fd4aa",
   "metadata": {},
   "outputs": [
    {
     "data": {
      "text/plain": [
       "fruit_list\n",
       "apple     6.0\n",
       "banana    4.0\n",
       "carrot    5.8\n",
       "Name: weights_list, dtype: float64"
      ]
     },
     "execution_count": 25,
     "metadata": {},
     "output_type": "execute_result"
    }
   ],
   "source": [
    "s = pd.Series(df_group.weights_list, index = df_group.index)\n",
    "s"
   ]
  },
  {
   "cell_type": "code",
   "execution_count": null,
   "id": "f0c37876",
   "metadata": {},
   "outputs": [],
   "source": []
  },
  {
   "cell_type": "code",
   "execution_count": null,
   "id": "2529ce3d",
   "metadata": {},
   "outputs": [],
   "source": [
    "import pandas as pd\n",
    "import numpy as np\n",
    "\n",
    "def solution():\n",
    "    fruit_list = ['banana', 'carrot', 'apple', 'carrot', 'carrot', 'apple', 'banana', 'carrot', 'apple', 'carrot']\n",
    "    weights_list =  [1.0, 2.0, 3.0, 4.0, 5.0, 6.0, 7.0, 8.0, 9.0, 10.0]\n",
    "\n",
    "    fruits = pd.Series(fruit_list)\n",
    "    weights = pd.Series(weights_list)\n",
    "    \n",
    "    df = pd.DataFrame()\n",
    "    df['fruit_list'] = fruit_list\n",
    "    df['weights_list'] = weights_list\n",
    "    \n",
    "    df_group = df.groupby('fruit_list')['weights_list'].mean()\n",
    "    df_group.name = None\n",
    "    df_group.index.name = None\n",
    "        \n",
    "    return df_group"
   ]
  },
  {
   "cell_type": "code",
   "execution_count": null,
   "id": "4cc7e4f7",
   "metadata": {},
   "outputs": [],
   "source": [
    "# ПРАВИЛЬНЫЙ ОТВЕТ:\n",
    "    \n",
    "import pandas as pd\n",
    "import numpy as np\n",
    "\n",
    "fruit_list = ['banana', 'carrot', 'apple', 'carrot', 'carrot', 'apple', 'banana', 'carrot', 'apple', 'carrot']\n",
    "weights_list =  [1.0, 2.0, 3.0, 4.0, 5.0, 6.0, 7.0, 8.0, 9.0, 10.0]\n",
    "\n",
    "fruits = pd.Series(fruit_list)\n",
    "weights = pd.Series(weights_list)\n",
    "print(weights.groupby(fruits).mean())"
   ]
  },
  {
   "cell_type": "code",
   "execution_count": null,
   "id": "d9a8a4ff",
   "metadata": {},
   "outputs": [],
   "source": []
  },
  {
   "cell_type": "code",
   "execution_count": 2,
   "id": "37f5de0e",
   "metadata": {},
   "outputs": [],
   "source": [
    "# 08/07/2023"
   ]
  },
  {
   "cell_type": "markdown",
   "id": "8871d388",
   "metadata": {},
   "source": [
    "# Задача №19"
   ]
  },
  {
   "cell_type": "code",
   "execution_count": 3,
   "id": "2fbaa781",
   "metadata": {},
   "outputs": [],
   "source": [
    "# Вычислить евклидово расстояние между рядами (точками) X и Y\n",
    "\n",
    "X = pd.Series([1, 2, 3, 4, 5, 6, 7, 8, 9, 10])\n",
    "Y = pd.Series([10, 9, 8, 7, 6, 5, 4, 3, 2, 1])"
   ]
  },
  {
   "cell_type": "code",
   "execution_count": null,
   "id": "4daae953",
   "metadata": {},
   "outputs": [],
   "source": [
    "# Расстояние Евклида — это геометрическое расстояние в многомерном пространстве. Оно вычисляется по теореме Пифагора.\n",
    "\n",
    "# https://wiki.loginom.ru/articles/euclid-distance.html"
   ]
  },
  {
   "cell_type": "code",
   "execution_count": 16,
   "id": "84d3c50f",
   "metadata": {},
   "outputs": [],
   "source": [
    "df = pd.DataFrame([X, Y])"
   ]
  },
  {
   "cell_type": "code",
   "execution_count": 18,
   "id": "930dc029",
   "metadata": {},
   "outputs": [],
   "source": [
    "df = df.T"
   ]
  },
  {
   "cell_type": "code",
   "execution_count": 20,
   "id": "c4206433",
   "metadata": {},
   "outputs": [],
   "source": [
    "df.columns = ['X', 'Y']"
   ]
  },
  {
   "cell_type": "code",
   "execution_count": 22,
   "id": "b254eb79",
   "metadata": {},
   "outputs": [],
   "source": [
    "df['Raznost'] = df.X - df.Y"
   ]
  },
  {
   "cell_type": "code",
   "execution_count": 29,
   "id": "72c5a022",
   "metadata": {},
   "outputs": [],
   "source": [
    "df['R2'] = df['Raznost'].apply(lambda x: x**2)"
   ]
  },
  {
   "cell_type": "code",
   "execution_count": 36,
   "id": "d754411b",
   "metadata": {},
   "outputs": [
    {
     "data": {
      "text/html": [
       "<div>\n",
       "<style scoped>\n",
       "    .dataframe tbody tr th:only-of-type {\n",
       "        vertical-align: middle;\n",
       "    }\n",
       "\n",
       "    .dataframe tbody tr th {\n",
       "        vertical-align: top;\n",
       "    }\n",
       "\n",
       "    .dataframe thead th {\n",
       "        text-align: right;\n",
       "    }\n",
       "</style>\n",
       "<table border=\"1\" class=\"dataframe\">\n",
       "  <thead>\n",
       "    <tr style=\"text-align: right;\">\n",
       "      <th></th>\n",
       "      <th>X</th>\n",
       "      <th>Y</th>\n",
       "      <th>Raznost</th>\n",
       "      <th>R2</th>\n",
       "    </tr>\n",
       "  </thead>\n",
       "  <tbody>\n",
       "    <tr>\n",
       "      <th>0</th>\n",
       "      <td>1</td>\n",
       "      <td>10</td>\n",
       "      <td>-9</td>\n",
       "      <td>81</td>\n",
       "    </tr>\n",
       "    <tr>\n",
       "      <th>1</th>\n",
       "      <td>2</td>\n",
       "      <td>9</td>\n",
       "      <td>-7</td>\n",
       "      <td>49</td>\n",
       "    </tr>\n",
       "    <tr>\n",
       "      <th>2</th>\n",
       "      <td>3</td>\n",
       "      <td>8</td>\n",
       "      <td>-5</td>\n",
       "      <td>25</td>\n",
       "    </tr>\n",
       "    <tr>\n",
       "      <th>3</th>\n",
       "      <td>4</td>\n",
       "      <td>7</td>\n",
       "      <td>-3</td>\n",
       "      <td>9</td>\n",
       "    </tr>\n",
       "    <tr>\n",
       "      <th>4</th>\n",
       "      <td>5</td>\n",
       "      <td>6</td>\n",
       "      <td>-1</td>\n",
       "      <td>1</td>\n",
       "    </tr>\n",
       "    <tr>\n",
       "      <th>5</th>\n",
       "      <td>6</td>\n",
       "      <td>5</td>\n",
       "      <td>1</td>\n",
       "      <td>1</td>\n",
       "    </tr>\n",
       "    <tr>\n",
       "      <th>6</th>\n",
       "      <td>7</td>\n",
       "      <td>4</td>\n",
       "      <td>3</td>\n",
       "      <td>9</td>\n",
       "    </tr>\n",
       "    <tr>\n",
       "      <th>7</th>\n",
       "      <td>8</td>\n",
       "      <td>3</td>\n",
       "      <td>5</td>\n",
       "      <td>25</td>\n",
       "    </tr>\n",
       "    <tr>\n",
       "      <th>8</th>\n",
       "      <td>9</td>\n",
       "      <td>2</td>\n",
       "      <td>7</td>\n",
       "      <td>49</td>\n",
       "    </tr>\n",
       "    <tr>\n",
       "      <th>9</th>\n",
       "      <td>10</td>\n",
       "      <td>1</td>\n",
       "      <td>9</td>\n",
       "      <td>81</td>\n",
       "    </tr>\n",
       "  </tbody>\n",
       "</table>\n",
       "</div>"
      ],
      "text/plain": [
       "    X   Y  Raznost  R2\n",
       "0   1  10       -9  81\n",
       "1   2   9       -7  49\n",
       "2   3   8       -5  25\n",
       "3   4   7       -3   9\n",
       "4   5   6       -1   1\n",
       "5   6   5        1   1\n",
       "6   7   4        3   9\n",
       "7   8   3        5  25\n",
       "8   9   2        7  49\n",
       "9  10   1        9  81"
      ]
     },
     "execution_count": 36,
     "metadata": {},
     "output_type": "execute_result"
    }
   ],
   "source": [
    "df"
   ]
  },
  {
   "cell_type": "code",
   "execution_count": 31,
   "id": "22d44ad7",
   "metadata": {},
   "outputs": [],
   "source": [
    "rast_evklid = np.sqrt(sum(df.R2))"
   ]
  },
  {
   "cell_type": "code",
   "execution_count": 32,
   "id": "a77a94a1",
   "metadata": {},
   "outputs": [
    {
     "data": {
      "text/plain": [
       "18.16590212458495"
      ]
     },
     "execution_count": 32,
     "metadata": {},
     "output_type": "execute_result"
    }
   ],
   "source": [
    "rast_evklid"
   ]
  },
  {
   "cell_type": "code",
   "execution_count": 38,
   "id": "d7866346",
   "metadata": {},
   "outputs": [
    {
     "data": {
      "text/plain": [
       "0     1\n",
       "1     2\n",
       "2     3\n",
       "3     4\n",
       "4     5\n",
       "5     6\n",
       "6     7\n",
       "7     8\n",
       "8     9\n",
       "9    10\n",
       "dtype: int64"
      ]
     },
     "execution_count": 38,
     "metadata": {},
     "output_type": "execute_result"
    }
   ],
   "source": [
    "X"
   ]
  },
  {
   "cell_type": "code",
   "execution_count": 39,
   "id": "2e21b1fb",
   "metadata": {},
   "outputs": [
    {
     "data": {
      "text/plain": [
       "0    10\n",
       "1     9\n",
       "2     8\n",
       "3     7\n",
       "4     6\n",
       "5     5\n",
       "6     4\n",
       "7     3\n",
       "8     2\n",
       "9     1\n",
       "dtype: int64"
      ]
     },
     "execution_count": 39,
     "metadata": {},
     "output_type": "execute_result"
    }
   ],
   "source": [
    "Y"
   ]
  },
  {
   "cell_type": "code",
   "execution_count": 51,
   "id": "626be857",
   "metadata": {},
   "outputs": [
    {
     "data": {
      "text/plain": [
       "18.16590212458495"
      ]
     },
     "execution_count": 51,
     "metadata": {},
     "output_type": "execute_result"
    }
   ],
   "source": [
    "np.sqrt(sum((X - Y)**2))"
   ]
  },
  {
   "cell_type": "code",
   "execution_count": 54,
   "id": "d2d8b072",
   "metadata": {},
   "outputs": [],
   "source": [
    "# Внимание - правильный ответ на эту задачу:\n",
    "    \n",
    "print(np.linalg.norm(X - Y))\n",
    "\n",
    "d = sum(list(map(lambda x, y: (x - y)**2, X, Y)))**0.5\n",
    "print(d)\n"
   ]
  },
  {
   "cell_type": "code",
   "execution_count": 56,
   "id": "99b789cc",
   "metadata": {},
   "outputs": [
    {
     "data": {
      "text/plain": [
       "0   -9\n",
       "1   -7\n",
       "2   -5\n",
       "3   -3\n",
       "4   -1\n",
       "5    1\n",
       "6    3\n",
       "7    5\n",
       "8    7\n",
       "9    9\n",
       "dtype: int64"
      ]
     },
     "execution_count": 56,
     "metadata": {},
     "output_type": "execute_result"
    }
   ],
   "source": [
    "pd.Series(map(lambda x,y: (x - y), X, Y))"
   ]
  },
  {
   "cell_type": "code",
   "execution_count": null,
   "id": "420091b7",
   "metadata": {},
   "outputs": [],
   "source": []
  },
  {
   "cell_type": "markdown",
   "id": "a2a53fb5",
   "metadata": {},
   "source": [
    "# Задача №20"
   ]
  },
  {
   "cell_type": "code",
   "execution_count": null,
   "id": "965a7e3b",
   "metadata": {},
   "outputs": [],
   "source": [
    "# В серии (s1) находятся даты с 1 по 8 января 2022 года. \n",
    "# Однако некоторые даты и значения к датам пропущены.\n",
    "# Сделайте так, чтобы все отсутствующие даты отображались \n",
    "# и заполнялись значением из предыдущей даты."
   ]
  },
  {
   "cell_type": "code",
   "execution_count": 2,
   "id": "9a14a1d9",
   "metadata": {},
   "outputs": [],
   "source": [
    "s1 = pd.Series([1,10,3,np.nan], index=pd.to_datetime(['2022-01-01', '2022-01-03', '2022-01-06', '2022-01-08']))"
   ]
  },
  {
   "cell_type": "code",
   "execution_count": 38,
   "id": "606efd0a",
   "metadata": {},
   "outputs": [
    {
     "data": {
      "text/plain": [
       "2022-01-01     1.0\n",
       "2022-01-03    10.0\n",
       "2022-01-06     3.0\n",
       "2022-01-08     NaN\n",
       "dtype: float64"
      ]
     },
     "execution_count": 38,
     "metadata": {},
     "output_type": "execute_result"
    }
   ],
   "source": [
    "s1"
   ]
  },
  {
   "cell_type": "code",
   "execution_count": 40,
   "id": "227b3e11",
   "metadata": {},
   "outputs": [
    {
     "data": {
      "text/plain": [
       "2022-01-01     1.0\n",
       "2022-01-02     NaN\n",
       "2022-01-03    10.0\n",
       "2022-01-04     NaN\n",
       "2022-01-05     NaN\n",
       "2022-01-06     3.0\n",
       "2022-01-07     NaN\n",
       "2022-01-08     NaN\n",
       "Freq: D, dtype: float64"
      ]
     },
     "execution_count": 40,
     "metadata": {},
     "output_type": "execute_result"
    }
   ],
   "source": [
    "# пропуски в датах можно заполнить так:\n",
    "s11 = s1.asfreq(freq='D')\n",
    "s11"
   ]
  },
  {
   "cell_type": "code",
   "execution_count": null,
   "id": "fab9ccf1",
   "metadata": {},
   "outputs": [],
   "source": []
  },
  {
   "cell_type": "code",
   "execution_count": 14,
   "id": "410845d5",
   "metadata": {},
   "outputs": [],
   "source": [
    "# я же использую как обычно более сложный путь:\n",
    "rng = pd.date_range('1/1/2022', periods=8, freq='D')"
   ]
  },
  {
   "cell_type": "code",
   "execution_count": 35,
   "id": "6e7fae27",
   "metadata": {},
   "outputs": [
    {
     "data": {
      "text/plain": [
       "2022-01-01    0\n",
       "2022-01-02    0\n",
       "2022-01-03    0\n",
       "2022-01-04    0\n",
       "2022-01-05    0\n",
       "2022-01-06    0\n",
       "2022-01-07    0\n",
       "2022-01-08    0\n",
       "Freq: D, dtype: int64"
      ]
     },
     "execution_count": 35,
     "metadata": {},
     "output_type": "execute_result"
    }
   ],
   "source": [
    "s2 = pd.Series(0*8, index = rng)\n",
    "s2"
   ]
  },
  {
   "cell_type": "code",
   "execution_count": 36,
   "id": "54fa5763",
   "metadata": {},
   "outputs": [
    {
     "data": {
      "text/plain": [
       "2022-01-01     1.0\n",
       "2022-01-02     NaN\n",
       "2022-01-03    10.0\n",
       "2022-01-04     NaN\n",
       "2022-01-05     NaN\n",
       "2022-01-06     3.0\n",
       "2022-01-07     NaN\n",
       "2022-01-08     NaN\n",
       "dtype: float64"
      ]
     },
     "execution_count": 36,
     "metadata": {},
     "output_type": "execute_result"
    }
   ],
   "source": [
    "s3 = s2 + s1\n",
    "s3"
   ]
  },
  {
   "cell_type": "code",
   "execution_count": 37,
   "id": "490f5ca6",
   "metadata": {},
   "outputs": [
    {
     "data": {
      "text/plain": [
       "2022-01-01     1.0\n",
       "2022-01-02     1.0\n",
       "2022-01-03    10.0\n",
       "2022-01-04    10.0\n",
       "2022-01-05    10.0\n",
       "2022-01-06     3.0\n",
       "2022-01-07     3.0\n",
       "2022-01-08     3.0\n",
       "dtype: float64"
      ]
     },
     "execution_count": 37,
     "metadata": {},
     "output_type": "execute_result"
    }
   ],
   "source": [
    "s3.ffill()"
   ]
  },
  {
   "cell_type": "code",
   "execution_count": null,
   "id": "5ed6bc97",
   "metadata": {},
   "outputs": [],
   "source": []
  },
  {
   "cell_type": "markdown",
   "id": "3f489cb4",
   "metadata": {},
   "source": [
    "# Задача №21"
   ]
  },
  {
   "cell_type": "code",
   "execution_count": null,
   "id": "33bbea30",
   "metadata": {},
   "outputs": [],
   "source": [
    "# Отредактируйте название колонок датафрейма (df) следующим образом:\n",
    "\n",
    "# 1. user -> user_name\n",
    "\n",
    "# 2. все точки в названии колонок заменить нижним подчёркиванием"
   ]
  },
  {
   "cell_type": "code",
   "execution_count": 12,
   "id": "02625c30",
   "metadata": {},
   "outputs": [],
   "source": [
    "df = pd.DataFrame(data = {'user' : ['Ivan', 'Petr', 'Alex'], \n",
    "                          'user.balance' : [500, 200, 0], \n",
    "                          'user.age' : [34, 25, 18], \n",
    "                          'user.group' : ['A', 'B', 'A']})"
   ]
  },
  {
   "cell_type": "code",
   "execution_count": 13,
   "id": "9c6ee1ff",
   "metadata": {},
   "outputs": [
    {
     "data": {
      "text/html": [
       "<div>\n",
       "<style scoped>\n",
       "    .dataframe tbody tr th:only-of-type {\n",
       "        vertical-align: middle;\n",
       "    }\n",
       "\n",
       "    .dataframe tbody tr th {\n",
       "        vertical-align: top;\n",
       "    }\n",
       "\n",
       "    .dataframe thead th {\n",
       "        text-align: right;\n",
       "    }\n",
       "</style>\n",
       "<table border=\"1\" class=\"dataframe\">\n",
       "  <thead>\n",
       "    <tr style=\"text-align: right;\">\n",
       "      <th></th>\n",
       "      <th>user</th>\n",
       "      <th>user.balance</th>\n",
       "      <th>user.age</th>\n",
       "      <th>user.group</th>\n",
       "    </tr>\n",
       "  </thead>\n",
       "  <tbody>\n",
       "    <tr>\n",
       "      <th>0</th>\n",
       "      <td>Ivan</td>\n",
       "      <td>500</td>\n",
       "      <td>34</td>\n",
       "      <td>A</td>\n",
       "    </tr>\n",
       "    <tr>\n",
       "      <th>1</th>\n",
       "      <td>Petr</td>\n",
       "      <td>200</td>\n",
       "      <td>25</td>\n",
       "      <td>B</td>\n",
       "    </tr>\n",
       "    <tr>\n",
       "      <th>2</th>\n",
       "      <td>Alex</td>\n",
       "      <td>0</td>\n",
       "      <td>18</td>\n",
       "      <td>A</td>\n",
       "    </tr>\n",
       "  </tbody>\n",
       "</table>\n",
       "</div>"
      ],
      "text/plain": [
       "   user  user.balance  user.age user.group\n",
       "0  Ivan           500        34          A\n",
       "1  Petr           200        25          B\n",
       "2  Alex             0        18          A"
      ]
     },
     "execution_count": 13,
     "metadata": {},
     "output_type": "execute_result"
    }
   ],
   "source": [
    "df"
   ]
  },
  {
   "cell_type": "code",
   "execution_count": 14,
   "id": "b16cfc6e",
   "metadata": {},
   "outputs": [
    {
     "name": "stderr",
     "output_type": "stream",
     "text": [
      "C:\\Users\\roman\\AppData\\Local\\Temp\\ipykernel_69960\\2262415099.py:1: FutureWarning: The default value of regex will change from True to False in a future version. In addition, single character regular expressions will *not* be treated as literal strings when regex=True.\n",
      "  df.columns = df.columns.str.replace('.', '_')\n"
     ]
    }
   ],
   "source": [
    "df.columns = df.columns.str.replace('.', '_')"
   ]
  },
  {
   "cell_type": "code",
   "execution_count": 21,
   "id": "fb95eb91",
   "metadata": {},
   "outputs": [],
   "source": [
    "df.columns = ['user_name', 'user_balance', 'user_age', 'user_group']"
   ]
  },
  {
   "cell_type": "code",
   "execution_count": null,
   "id": "d468090e",
   "metadata": {},
   "outputs": [],
   "source": []
  },
  {
   "cell_type": "markdown",
   "id": "1232818d",
   "metadata": {},
   "source": [
    "# Задача № 22"
   ]
  },
  {
   "cell_type": "code",
   "execution_count": null,
   "id": "4a79ffdd",
   "metadata": {},
   "outputs": [],
   "source": [
    "# Проверьте, имеются ли пропущенные значения в датафрейме (df). \n",
    "\n",
    "# Если в строке датафрейма есть хотя-бы одно пропущенное значение - верните True иначе False.\n",
    "\n",
    "# Рекомендация:\n",
    "\n",
    "# pandas.isnull\n",
    "\n",
    "# pandas.DataFrame.any"
   ]
  },
  {
   "cell_type": "code",
   "execution_count": 2,
   "id": "560051bb",
   "metadata": {},
   "outputs": [],
   "source": [
    "df = pd.DataFrame(data = {'user' : ['Ivan', 'Petr', 'Alex'], 'user.balance' : [500, None, 0], 'user.age' : [34, 25, 18], 'user.group' : ['A', 'B', 'A']})"
   ]
  },
  {
   "cell_type": "code",
   "execution_count": 3,
   "id": "cd7b64bc",
   "metadata": {},
   "outputs": [
    {
     "data": {
      "text/html": [
       "<div>\n",
       "<style scoped>\n",
       "    .dataframe tbody tr th:only-of-type {\n",
       "        vertical-align: middle;\n",
       "    }\n",
       "\n",
       "    .dataframe tbody tr th {\n",
       "        vertical-align: top;\n",
       "    }\n",
       "\n",
       "    .dataframe thead th {\n",
       "        text-align: right;\n",
       "    }\n",
       "</style>\n",
       "<table border=\"1\" class=\"dataframe\">\n",
       "  <thead>\n",
       "    <tr style=\"text-align: right;\">\n",
       "      <th></th>\n",
       "      <th>user</th>\n",
       "      <th>user.balance</th>\n",
       "      <th>user.age</th>\n",
       "      <th>user.group</th>\n",
       "    </tr>\n",
       "  </thead>\n",
       "  <tbody>\n",
       "    <tr>\n",
       "      <th>0</th>\n",
       "      <td>Ivan</td>\n",
       "      <td>500.0</td>\n",
       "      <td>34</td>\n",
       "      <td>A</td>\n",
       "    </tr>\n",
       "    <tr>\n",
       "      <th>1</th>\n",
       "      <td>Petr</td>\n",
       "      <td>NaN</td>\n",
       "      <td>25</td>\n",
       "      <td>B</td>\n",
       "    </tr>\n",
       "    <tr>\n",
       "      <th>2</th>\n",
       "      <td>Alex</td>\n",
       "      <td>0.0</td>\n",
       "      <td>18</td>\n",
       "      <td>A</td>\n",
       "    </tr>\n",
       "  </tbody>\n",
       "</table>\n",
       "</div>"
      ],
      "text/plain": [
       "   user  user.balance  user.age user.group\n",
       "0  Ivan         500.0        34          A\n",
       "1  Petr           NaN        25          B\n",
       "2  Alex           0.0        18          A"
      ]
     },
     "execution_count": 3,
     "metadata": {},
     "output_type": "execute_result"
    }
   ],
   "source": [
    "df"
   ]
  },
  {
   "cell_type": "code",
   "execution_count": 7,
   "id": "2aa1c1ca",
   "metadata": {},
   "outputs": [
    {
     "data": {
      "text/html": [
       "<div>\n",
       "<style scoped>\n",
       "    .dataframe tbody tr th:only-of-type {\n",
       "        vertical-align: middle;\n",
       "    }\n",
       "\n",
       "    .dataframe tbody tr th {\n",
       "        vertical-align: top;\n",
       "    }\n",
       "\n",
       "    .dataframe thead th {\n",
       "        text-align: right;\n",
       "    }\n",
       "</style>\n",
       "<table border=\"1\" class=\"dataframe\">\n",
       "  <thead>\n",
       "    <tr style=\"text-align: right;\">\n",
       "      <th></th>\n",
       "      <th>user</th>\n",
       "      <th>user.balance</th>\n",
       "      <th>user.age</th>\n",
       "      <th>user.group</th>\n",
       "    </tr>\n",
       "  </thead>\n",
       "  <tbody>\n",
       "    <tr>\n",
       "      <th>0</th>\n",
       "      <td>False</td>\n",
       "      <td>False</td>\n",
       "      <td>False</td>\n",
       "      <td>False</td>\n",
       "    </tr>\n",
       "    <tr>\n",
       "      <th>1</th>\n",
       "      <td>False</td>\n",
       "      <td>True</td>\n",
       "      <td>False</td>\n",
       "      <td>False</td>\n",
       "    </tr>\n",
       "    <tr>\n",
       "      <th>2</th>\n",
       "      <td>False</td>\n",
       "      <td>False</td>\n",
       "      <td>False</td>\n",
       "      <td>False</td>\n",
       "    </tr>\n",
       "  </tbody>\n",
       "</table>\n",
       "</div>"
      ],
      "text/plain": [
       "    user  user.balance  user.age  user.group\n",
       "0  False         False     False       False\n",
       "1  False          True     False       False\n",
       "2  False         False     False       False"
      ]
     },
     "execution_count": 7,
     "metadata": {},
     "output_type": "execute_result"
    }
   ],
   "source": [
    "df.isnull()"
   ]
  },
  {
   "cell_type": "code",
   "execution_count": 12,
   "id": "8ba79edb",
   "metadata": {},
   "outputs": [
    {
     "data": {
      "text/plain": [
       "0    False\n",
       "1     True\n",
       "2    False\n",
       "dtype: bool"
      ]
     },
     "execution_count": 12,
     "metadata": {},
     "output_type": "execute_result"
    }
   ],
   "source": [
    "df.isnull().any(axis = 1)"
   ]
  },
  {
   "cell_type": "code",
   "execution_count": null,
   "id": "69f338a8",
   "metadata": {},
   "outputs": [],
   "source": []
  },
  {
   "cell_type": "markdown",
   "id": "5a3e4384",
   "metadata": {},
   "source": [
    "# Задача № 23"
   ]
  },
  {
   "cell_type": "code",
   "execution_count": 14,
   "id": "e8335b15",
   "metadata": {},
   "outputs": [],
   "source": [
    "# Подсчитайте количество пропущенных значений в каждом столбце.\n",
    "\n",
    "df = pd.DataFrame(data = {'user' : ['Ivan', 'Petr', 'Alex', 'Den'], 'user.balance' : [500, None, 0, None], 'user.age' : [34, None, 18, 43], 'user.group' : ['A', 'B', 'A', 'B']})"
   ]
  },
  {
   "cell_type": "code",
   "execution_count": 15,
   "id": "17ae451c",
   "metadata": {},
   "outputs": [
    {
     "data": {
      "text/html": [
       "<div>\n",
       "<style scoped>\n",
       "    .dataframe tbody tr th:only-of-type {\n",
       "        vertical-align: middle;\n",
       "    }\n",
       "\n",
       "    .dataframe tbody tr th {\n",
       "        vertical-align: top;\n",
       "    }\n",
       "\n",
       "    .dataframe thead th {\n",
       "        text-align: right;\n",
       "    }\n",
       "</style>\n",
       "<table border=\"1\" class=\"dataframe\">\n",
       "  <thead>\n",
       "    <tr style=\"text-align: right;\">\n",
       "      <th></th>\n",
       "      <th>user</th>\n",
       "      <th>user.balance</th>\n",
       "      <th>user.age</th>\n",
       "      <th>user.group</th>\n",
       "    </tr>\n",
       "  </thead>\n",
       "  <tbody>\n",
       "    <tr>\n",
       "      <th>0</th>\n",
       "      <td>Ivan</td>\n",
       "      <td>500.0</td>\n",
       "      <td>34.0</td>\n",
       "      <td>A</td>\n",
       "    </tr>\n",
       "    <tr>\n",
       "      <th>1</th>\n",
       "      <td>Petr</td>\n",
       "      <td>NaN</td>\n",
       "      <td>NaN</td>\n",
       "      <td>B</td>\n",
       "    </tr>\n",
       "    <tr>\n",
       "      <th>2</th>\n",
       "      <td>Alex</td>\n",
       "      <td>0.0</td>\n",
       "      <td>18.0</td>\n",
       "      <td>A</td>\n",
       "    </tr>\n",
       "    <tr>\n",
       "      <th>3</th>\n",
       "      <td>Den</td>\n",
       "      <td>NaN</td>\n",
       "      <td>43.0</td>\n",
       "      <td>B</td>\n",
       "    </tr>\n",
       "  </tbody>\n",
       "</table>\n",
       "</div>"
      ],
      "text/plain": [
       "   user  user.balance  user.age user.group\n",
       "0  Ivan         500.0      34.0          A\n",
       "1  Petr           NaN       NaN          B\n",
       "2  Alex           0.0      18.0          A\n",
       "3   Den           NaN      43.0          B"
      ]
     },
     "execution_count": 15,
     "metadata": {},
     "output_type": "execute_result"
    }
   ],
   "source": [
    "df"
   ]
  },
  {
   "cell_type": "code",
   "execution_count": 16,
   "id": "02d1a9ce",
   "metadata": {},
   "outputs": [
    {
     "data": {
      "text/plain": [
       "user            0\n",
       "user.balance    2\n",
       "user.age        1\n",
       "user.group      0\n",
       "dtype: int64"
      ]
     },
     "execution_count": 16,
     "metadata": {},
     "output_type": "execute_result"
    }
   ],
   "source": [
    "df.isna().sum()"
   ]
  },
  {
   "cell_type": "code",
   "execution_count": null,
   "id": "b216dbba",
   "metadata": {},
   "outputs": [],
   "source": []
  },
  {
   "cell_type": "markdown",
   "id": "7037341c",
   "metadata": {},
   "source": [
    "# Задача № 24"
   ]
  },
  {
   "cell_type": "code",
   "execution_count": 4,
   "id": "979cbdeb",
   "metadata": {},
   "outputs": [],
   "source": [
    "# Замените отсутствующие значения в столбцах user.speed и user.bag_weight их соответствующими средними значениями.\n",
    "\n",
    "df = pd.DataFrame(data = {'user' : ['Ivan', 'Petr', 'Alex', 'Den'],\n",
    "                          'user.speed' : [40, None, 42, 35],\n",
    "                          'user.bag_weight' : [8, None, 2, 4]})"
   ]
  },
  {
   "cell_type": "code",
   "execution_count": 5,
   "id": "7a1e73ed",
   "metadata": {},
   "outputs": [
    {
     "data": {
      "text/html": [
       "<div>\n",
       "<style scoped>\n",
       "    .dataframe tbody tr th:only-of-type {\n",
       "        vertical-align: middle;\n",
       "    }\n",
       "\n",
       "    .dataframe tbody tr th {\n",
       "        vertical-align: top;\n",
       "    }\n",
       "\n",
       "    .dataframe thead th {\n",
       "        text-align: right;\n",
       "    }\n",
       "</style>\n",
       "<table border=\"1\" class=\"dataframe\">\n",
       "  <thead>\n",
       "    <tr style=\"text-align: right;\">\n",
       "      <th></th>\n",
       "      <th>user</th>\n",
       "      <th>user.speed</th>\n",
       "      <th>user.bag_weight</th>\n",
       "    </tr>\n",
       "  </thead>\n",
       "  <tbody>\n",
       "    <tr>\n",
       "      <th>0</th>\n",
       "      <td>Ivan</td>\n",
       "      <td>40.0</td>\n",
       "      <td>8.0</td>\n",
       "    </tr>\n",
       "    <tr>\n",
       "      <th>1</th>\n",
       "      <td>Petr</td>\n",
       "      <td>NaN</td>\n",
       "      <td>NaN</td>\n",
       "    </tr>\n",
       "    <tr>\n",
       "      <th>2</th>\n",
       "      <td>Alex</td>\n",
       "      <td>42.0</td>\n",
       "      <td>2.0</td>\n",
       "    </tr>\n",
       "    <tr>\n",
       "      <th>3</th>\n",
       "      <td>Den</td>\n",
       "      <td>35.0</td>\n",
       "      <td>4.0</td>\n",
       "    </tr>\n",
       "  </tbody>\n",
       "</table>\n",
       "</div>"
      ],
      "text/plain": [
       "   user  user.speed  user.bag_weight\n",
       "0  Ivan        40.0              8.0\n",
       "1  Petr         NaN              NaN\n",
       "2  Alex        42.0              2.0\n",
       "3   Den        35.0              4.0"
      ]
     },
     "execution_count": 5,
     "metadata": {},
     "output_type": "execute_result"
    }
   ],
   "source": [
    "df"
   ]
  },
  {
   "cell_type": "code",
   "execution_count": 10,
   "id": "d7909590",
   "metadata": {},
   "outputs": [
    {
     "data": {
      "text/plain": [
       "39.0"
      ]
     },
     "execution_count": 10,
     "metadata": {},
     "output_type": "execute_result"
    }
   ],
   "source": [
    "df['user.speed'].mean()"
   ]
  },
  {
   "cell_type": "code",
   "execution_count": 11,
   "id": "a10c2182",
   "metadata": {},
   "outputs": [
    {
     "data": {
      "text/plain": [
       "0    40.0\n",
       "1    39.0\n",
       "2    42.0\n",
       "3    35.0\n",
       "Name: user.speed, dtype: float64"
      ]
     },
     "execution_count": 11,
     "metadata": {},
     "output_type": "execute_result"
    }
   ],
   "source": [
    "df['user.speed'].fillna(df['user.speed'].mean())"
   ]
  },
  {
   "cell_type": "code",
   "execution_count": 12,
   "id": "fb74e3ce",
   "metadata": {},
   "outputs": [
    {
     "data": {
      "text/plain": [
       "0    8.000000\n",
       "1    4.666667\n",
       "2    2.000000\n",
       "3    4.000000\n",
       "Name: user.bag_weight, dtype: float64"
      ]
     },
     "execution_count": 12,
     "metadata": {},
     "output_type": "execute_result"
    }
   ],
   "source": [
    "df['user.bag_weight'].fillna(df['user.bag_weight'].mean())"
   ]
  },
  {
   "cell_type": "code",
   "execution_count": 13,
   "id": "d3667f10",
   "metadata": {},
   "outputs": [
    {
     "data": {
      "text/html": [
       "<div>\n",
       "<style scoped>\n",
       "    .dataframe tbody tr th:only-of-type {\n",
       "        vertical-align: middle;\n",
       "    }\n",
       "\n",
       "    .dataframe tbody tr th {\n",
       "        vertical-align: top;\n",
       "    }\n",
       "\n",
       "    .dataframe thead th {\n",
       "        text-align: right;\n",
       "    }\n",
       "</style>\n",
       "<table border=\"1\" class=\"dataframe\">\n",
       "  <thead>\n",
       "    <tr style=\"text-align: right;\">\n",
       "      <th></th>\n",
       "      <th>user</th>\n",
       "      <th>user.speed</th>\n",
       "      <th>user.bag_weight</th>\n",
       "    </tr>\n",
       "  </thead>\n",
       "  <tbody>\n",
       "    <tr>\n",
       "      <th>0</th>\n",
       "      <td>Ivan</td>\n",
       "      <td>40.0</td>\n",
       "      <td>8.0</td>\n",
       "    </tr>\n",
       "    <tr>\n",
       "      <th>1</th>\n",
       "      <td>Petr</td>\n",
       "      <td>NaN</td>\n",
       "      <td>NaN</td>\n",
       "    </tr>\n",
       "    <tr>\n",
       "      <th>2</th>\n",
       "      <td>Alex</td>\n",
       "      <td>42.0</td>\n",
       "      <td>2.0</td>\n",
       "    </tr>\n",
       "    <tr>\n",
       "      <th>3</th>\n",
       "      <td>Den</td>\n",
       "      <td>35.0</td>\n",
       "      <td>4.0</td>\n",
       "    </tr>\n",
       "  </tbody>\n",
       "</table>\n",
       "</div>"
      ],
      "text/plain": [
       "   user  user.speed  user.bag_weight\n",
       "0  Ivan        40.0              8.0\n",
       "1  Petr         NaN              NaN\n",
       "2  Alex        42.0              2.0\n",
       "3   Den        35.0              4.0"
      ]
     },
     "execution_count": 13,
     "metadata": {},
     "output_type": "execute_result"
    }
   ],
   "source": [
    "df"
   ]
  },
  {
   "cell_type": "code",
   "execution_count": null,
   "id": "07d09cea",
   "metadata": {},
   "outputs": [],
   "source": []
  },
  {
   "cell_type": "markdown",
   "id": "9e184179",
   "metadata": {},
   "source": [
    "# Задача № 25"
   ]
  },
  {
   "cell_type": "code",
   "execution_count": 114,
   "id": "764a60dd",
   "metadata": {},
   "outputs": [],
   "source": [
    "# Используйте метод apply, чтобы заменить отсутствующие значения в user.speed средним значением столбца,\n",
    "# а в user.bag_weight — медианой столбца.\n",
    "\n",
    "# Попытайтесь в ответе использовать apply всего 1 раз.\n",
    "\n",
    "df = pd.DataFrame(data = {'user' : ['Ivan', 'Petr', 'Alex', 'Den'],\n",
    "                          'user.speed' : [40, None, 42, 35],\n",
    "                          'user.bag_weight' : [8, None, 2, 4]})"
   ]
  },
  {
   "cell_type": "code",
   "execution_count": 115,
   "id": "d8a487a6",
   "metadata": {},
   "outputs": [
    {
     "data": {
      "text/html": [
       "<div>\n",
       "<style scoped>\n",
       "    .dataframe tbody tr th:only-of-type {\n",
       "        vertical-align: middle;\n",
       "    }\n",
       "\n",
       "    .dataframe tbody tr th {\n",
       "        vertical-align: top;\n",
       "    }\n",
       "\n",
       "    .dataframe thead th {\n",
       "        text-align: right;\n",
       "    }\n",
       "</style>\n",
       "<table border=\"1\" class=\"dataframe\">\n",
       "  <thead>\n",
       "    <tr style=\"text-align: right;\">\n",
       "      <th></th>\n",
       "      <th>user</th>\n",
       "      <th>user.speed</th>\n",
       "      <th>user.bag_weight</th>\n",
       "    </tr>\n",
       "  </thead>\n",
       "  <tbody>\n",
       "    <tr>\n",
       "      <th>0</th>\n",
       "      <td>Ivan</td>\n",
       "      <td>40.0</td>\n",
       "      <td>8.0</td>\n",
       "    </tr>\n",
       "    <tr>\n",
       "      <th>1</th>\n",
       "      <td>Petr</td>\n",
       "      <td>NaN</td>\n",
       "      <td>NaN</td>\n",
       "    </tr>\n",
       "    <tr>\n",
       "      <th>2</th>\n",
       "      <td>Alex</td>\n",
       "      <td>42.0</td>\n",
       "      <td>2.0</td>\n",
       "    </tr>\n",
       "    <tr>\n",
       "      <th>3</th>\n",
       "      <td>Den</td>\n",
       "      <td>35.0</td>\n",
       "      <td>4.0</td>\n",
       "    </tr>\n",
       "  </tbody>\n",
       "</table>\n",
       "</div>"
      ],
      "text/plain": [
       "   user  user.speed  user.bag_weight\n",
       "0  Ivan        40.0              8.0\n",
       "1  Petr         NaN              NaN\n",
       "2  Alex        42.0              2.0\n",
       "3   Den        35.0              4.0"
      ]
     },
     "execution_count": 115,
     "metadata": {},
     "output_type": "execute_result"
    }
   ],
   "source": [
    "df"
   ]
  },
  {
   "cell_type": "code",
   "execution_count": 116,
   "id": "6559c063",
   "metadata": {},
   "outputs": [
    {
     "data": {
      "text/html": [
       "<div>\n",
       "<style scoped>\n",
       "    .dataframe tbody tr th:only-of-type {\n",
       "        vertical-align: middle;\n",
       "    }\n",
       "\n",
       "    .dataframe tbody tr th {\n",
       "        vertical-align: top;\n",
       "    }\n",
       "\n",
       "    .dataframe thead th {\n",
       "        text-align: right;\n",
       "    }\n",
       "</style>\n",
       "<table border=\"1\" class=\"dataframe\">\n",
       "  <thead>\n",
       "    <tr style=\"text-align: right;\">\n",
       "      <th></th>\n",
       "      <th>user</th>\n",
       "      <th>user.speed</th>\n",
       "      <th>user.bag_weight</th>\n",
       "    </tr>\n",
       "  </thead>\n",
       "  <tbody>\n",
       "    <tr>\n",
       "      <th>0</th>\n",
       "      <td>Ivan</td>\n",
       "      <td>40.0</td>\n",
       "      <td>8.0</td>\n",
       "    </tr>\n",
       "    <tr>\n",
       "      <th>1</th>\n",
       "      <td>Petr</td>\n",
       "      <td>39.0</td>\n",
       "      <td>4.0</td>\n",
       "    </tr>\n",
       "    <tr>\n",
       "      <th>2</th>\n",
       "      <td>Alex</td>\n",
       "      <td>42.0</td>\n",
       "      <td>2.0</td>\n",
       "    </tr>\n",
       "    <tr>\n",
       "      <th>3</th>\n",
       "      <td>Den</td>\n",
       "      <td>35.0</td>\n",
       "      <td>4.0</td>\n",
       "    </tr>\n",
       "  </tbody>\n",
       "</table>\n",
       "</div>"
      ],
      "text/plain": [
       "   user  user.speed  user.bag_weight\n",
       "0  Ivan        40.0              8.0\n",
       "1  Petr        39.0              4.0\n",
       "2  Alex        42.0              2.0\n",
       "3   Den        35.0              4.0"
      ]
     },
     "execution_count": 116,
     "metadata": {},
     "output_type": "execute_result"
    }
   ],
   "source": [
    "df.apply(lambda x: x.fillna(df['user.speed'].mean()) if x.name in ['user.speed'] else x.fillna(df['user.bag_weight'].median()))"
   ]
  },
  {
   "cell_type": "code",
   "execution_count": null,
   "id": "fbd20edb",
   "metadata": {},
   "outputs": [],
   "source": []
  },
  {
   "cell_type": "code",
   "execution_count": null,
   "id": "73079db7",
   "metadata": {},
   "outputs": [],
   "source": []
  },
  {
   "cell_type": "markdown",
   "id": "66f7acec",
   "metadata": {},
   "source": [
    "# Задача № 26"
   ]
  },
  {
   "cell_type": "code",
   "execution_count": 2,
   "id": "825a8a9f",
   "metadata": {},
   "outputs": [],
   "source": [
    "# Поменяйте столбцы А и Е местами в датафрейме:\n",
    "\n",
    "\n",
    "df = pd.DataFrame(np.arange(20).reshape(-1, 5), columns=list('abcde'))"
   ]
  },
  {
   "cell_type": "code",
   "execution_count": 3,
   "id": "b39e8449",
   "metadata": {},
   "outputs": [
    {
     "data": {
      "text/html": [
       "<div>\n",
       "<style scoped>\n",
       "    .dataframe tbody tr th:only-of-type {\n",
       "        vertical-align: middle;\n",
       "    }\n",
       "\n",
       "    .dataframe tbody tr th {\n",
       "        vertical-align: top;\n",
       "    }\n",
       "\n",
       "    .dataframe thead th {\n",
       "        text-align: right;\n",
       "    }\n",
       "</style>\n",
       "<table border=\"1\" class=\"dataframe\">\n",
       "  <thead>\n",
       "    <tr style=\"text-align: right;\">\n",
       "      <th></th>\n",
       "      <th>a</th>\n",
       "      <th>b</th>\n",
       "      <th>c</th>\n",
       "      <th>d</th>\n",
       "      <th>e</th>\n",
       "    </tr>\n",
       "  </thead>\n",
       "  <tbody>\n",
       "    <tr>\n",
       "      <th>0</th>\n",
       "      <td>0</td>\n",
       "      <td>1</td>\n",
       "      <td>2</td>\n",
       "      <td>3</td>\n",
       "      <td>4</td>\n",
       "    </tr>\n",
       "    <tr>\n",
       "      <th>1</th>\n",
       "      <td>5</td>\n",
       "      <td>6</td>\n",
       "      <td>7</td>\n",
       "      <td>8</td>\n",
       "      <td>9</td>\n",
       "    </tr>\n",
       "    <tr>\n",
       "      <th>2</th>\n",
       "      <td>10</td>\n",
       "      <td>11</td>\n",
       "      <td>12</td>\n",
       "      <td>13</td>\n",
       "      <td>14</td>\n",
       "    </tr>\n",
       "    <tr>\n",
       "      <th>3</th>\n",
       "      <td>15</td>\n",
       "      <td>16</td>\n",
       "      <td>17</td>\n",
       "      <td>18</td>\n",
       "      <td>19</td>\n",
       "    </tr>\n",
       "  </tbody>\n",
       "</table>\n",
       "</div>"
      ],
      "text/plain": [
       "    a   b   c   d   e\n",
       "0   0   1   2   3   4\n",
       "1   5   6   7   8   9\n",
       "2  10  11  12  13  14\n",
       "3  15  16  17  18  19"
      ]
     },
     "execution_count": 3,
     "metadata": {},
     "output_type": "execute_result"
    }
   ],
   "source": [
    "df"
   ]
  },
  {
   "cell_type": "code",
   "execution_count": 4,
   "id": "4ef4cf40",
   "metadata": {},
   "outputs": [
    {
     "data": {
      "text/plain": [
       "Index(['a', 'b', 'c', 'd', 'e'], dtype='object')"
      ]
     },
     "execution_count": 4,
     "metadata": {},
     "output_type": "execute_result"
    }
   ],
   "source": [
    "df.columns"
   ]
  },
  {
   "cell_type": "code",
   "execution_count": 5,
   "id": "153dbf23",
   "metadata": {},
   "outputs": [],
   "source": [
    "df.columns = ['e', 'b', 'c', 'd', 'a']"
   ]
  },
  {
   "cell_type": "code",
   "execution_count": 6,
   "id": "92f9f19a",
   "metadata": {},
   "outputs": [
    {
     "data": {
      "text/html": [
       "<div>\n",
       "<style scoped>\n",
       "    .dataframe tbody tr th:only-of-type {\n",
       "        vertical-align: middle;\n",
       "    }\n",
       "\n",
       "    .dataframe tbody tr th {\n",
       "        vertical-align: top;\n",
       "    }\n",
       "\n",
       "    .dataframe thead th {\n",
       "        text-align: right;\n",
       "    }\n",
       "</style>\n",
       "<table border=\"1\" class=\"dataframe\">\n",
       "  <thead>\n",
       "    <tr style=\"text-align: right;\">\n",
       "      <th></th>\n",
       "      <th>e</th>\n",
       "      <th>b</th>\n",
       "      <th>c</th>\n",
       "      <th>d</th>\n",
       "      <th>a</th>\n",
       "    </tr>\n",
       "  </thead>\n",
       "  <tbody>\n",
       "    <tr>\n",
       "      <th>0</th>\n",
       "      <td>0</td>\n",
       "      <td>1</td>\n",
       "      <td>2</td>\n",
       "      <td>3</td>\n",
       "      <td>4</td>\n",
       "    </tr>\n",
       "    <tr>\n",
       "      <th>1</th>\n",
       "      <td>5</td>\n",
       "      <td>6</td>\n",
       "      <td>7</td>\n",
       "      <td>8</td>\n",
       "      <td>9</td>\n",
       "    </tr>\n",
       "    <tr>\n",
       "      <th>2</th>\n",
       "      <td>10</td>\n",
       "      <td>11</td>\n",
       "      <td>12</td>\n",
       "      <td>13</td>\n",
       "      <td>14</td>\n",
       "    </tr>\n",
       "    <tr>\n",
       "      <th>3</th>\n",
       "      <td>15</td>\n",
       "      <td>16</td>\n",
       "      <td>17</td>\n",
       "      <td>18</td>\n",
       "      <td>19</td>\n",
       "    </tr>\n",
       "  </tbody>\n",
       "</table>\n",
       "</div>"
      ],
      "text/plain": [
       "    e   b   c   d   a\n",
       "0   0   1   2   3   4\n",
       "1   5   6   7   8   9\n",
       "2  10  11  12  13  14\n",
       "3  15  16  17  18  19"
      ]
     },
     "execution_count": 6,
     "metadata": {},
     "output_type": "execute_result"
    }
   ],
   "source": [
    "df"
   ]
  },
  {
   "cell_type": "code",
   "execution_count": null,
   "id": "0ceb53dd",
   "metadata": {},
   "outputs": [],
   "source": []
  },
  {
   "cell_type": "code",
   "execution_count": 9,
   "id": "0c583fb0",
   "metadata": {},
   "outputs": [
    {
     "data": {
      "text/html": [
       "<div>\n",
       "<style scoped>\n",
       "    .dataframe tbody tr th:only-of-type {\n",
       "        vertical-align: middle;\n",
       "    }\n",
       "\n",
       "    .dataframe tbody tr th {\n",
       "        vertical-align: top;\n",
       "    }\n",
       "\n",
       "    .dataframe thead th {\n",
       "        text-align: right;\n",
       "    }\n",
       "</style>\n",
       "<table border=\"1\" class=\"dataframe\">\n",
       "  <thead>\n",
       "    <tr style=\"text-align: right;\">\n",
       "      <th></th>\n",
       "      <th>e</th>\n",
       "      <th>b</th>\n",
       "      <th>c</th>\n",
       "      <th>d</th>\n",
       "      <th>a</th>\n",
       "    </tr>\n",
       "  </thead>\n",
       "  <tbody>\n",
       "    <tr>\n",
       "      <th>0</th>\n",
       "      <td>0</td>\n",
       "      <td>1</td>\n",
       "      <td>2</td>\n",
       "      <td>3</td>\n",
       "      <td>4</td>\n",
       "    </tr>\n",
       "    <tr>\n",
       "      <th>1</th>\n",
       "      <td>5</td>\n",
       "      <td>6</td>\n",
       "      <td>7</td>\n",
       "      <td>8</td>\n",
       "      <td>9</td>\n",
       "    </tr>\n",
       "    <tr>\n",
       "      <th>2</th>\n",
       "      <td>10</td>\n",
       "      <td>11</td>\n",
       "      <td>12</td>\n",
       "      <td>13</td>\n",
       "      <td>14</td>\n",
       "    </tr>\n",
       "    <tr>\n",
       "      <th>3</th>\n",
       "      <td>15</td>\n",
       "      <td>16</td>\n",
       "      <td>17</td>\n",
       "      <td>18</td>\n",
       "      <td>19</td>\n",
       "    </tr>\n",
       "  </tbody>\n",
       "</table>\n",
       "</div>"
      ],
      "text/plain": [
       "    e   b   c   d   a\n",
       "0   0   1   2   3   4\n",
       "1   5   6   7   8   9\n",
       "2  10  11  12  13  14\n",
       "3  15  16  17  18  19"
      ]
     },
     "execution_count": 9,
     "metadata": {},
     "output_type": "execute_result"
    }
   ],
   "source": [
    "df.reindex(['e', 'b', 'c', 'd', 'a'], axis = 1)"
   ]
  },
  {
   "cell_type": "code",
   "execution_count": 11,
   "id": "ef19a6cb",
   "metadata": {},
   "outputs": [],
   "source": [
    "# Варианты от мастеров:\n",
    "\n",
    "df = df[list('ebcda')]\n",
    "# print(df)"
   ]
  },
  {
   "cell_type": "code",
   "execution_count": null,
   "id": "0c08da9e",
   "metadata": {},
   "outputs": [],
   "source": [
    "print(df.iloc[:,[4,1,2,3,0]])"
   ]
  },
  {
   "cell_type": "code",
   "execution_count": null,
   "id": "ba3cc05e",
   "metadata": {},
   "outputs": [],
   "source": [
    "df.reindex(columns = [\"e\", \"b\", \"c\", \"d\", \"a\"])"
   ]
  },
  {
   "cell_type": "code",
   "execution_count": null,
   "id": "3ae21f62",
   "metadata": {},
   "outputs": [],
   "source": [
    "df = df.reindex(columns=list('ebcda'))"
   ]
  },
  {
   "cell_type": "code",
   "execution_count": 12,
   "id": "e685b3f5",
   "metadata": {},
   "outputs": [
    {
     "name": "stdout",
     "output_type": "stream",
     "text": [
      "    e   b   c   d   a\n",
      "0   0   1   2   3   4\n",
      "1   5   6   7   8   9\n",
      "2  10  11  12  13  14\n",
      "3  15  16  17  18  19\n"
     ]
    }
   ],
   "source": [
    "print(df[list('ebcda')])"
   ]
  },
  {
   "cell_type": "code",
   "execution_count": null,
   "id": "af494b4a",
   "metadata": {},
   "outputs": [],
   "source": []
  },
  {
   "cell_type": "markdown",
   "id": "37b5d4c2",
   "metadata": {},
   "source": [
    "# Задача № 27"
   ]
  },
  {
   "cell_type": "code",
   "execution_count": 42,
   "id": "d501ac4b",
   "metadata": {},
   "outputs": [
    {
     "data": {
      "text/html": [
       "<div>\n",
       "<style scoped>\n",
       "    .dataframe tbody tr th:only-of-type {\n",
       "        vertical-align: middle;\n",
       "    }\n",
       "\n",
       "    .dataframe tbody tr th {\n",
       "        vertical-align: top;\n",
       "    }\n",
       "\n",
       "    .dataframe thead th {\n",
       "        text-align: right;\n",
       "    }\n",
       "</style>\n",
       "<table border=\"1\" class=\"dataframe\">\n",
       "  <thead>\n",
       "    <tr style=\"text-align: right;\">\n",
       "      <th></th>\n",
       "      <th>a</th>\n",
       "      <th>b</th>\n",
       "      <th>c</th>\n",
       "      <th>d</th>\n",
       "      <th>e</th>\n",
       "    </tr>\n",
       "  </thead>\n",
       "  <tbody>\n",
       "    <tr>\n",
       "      <th>0</th>\n",
       "      <td>0</td>\n",
       "      <td>1</td>\n",
       "      <td>2</td>\n",
       "      <td>3</td>\n",
       "      <td>4</td>\n",
       "    </tr>\n",
       "    <tr>\n",
       "      <th>1</th>\n",
       "      <td>5</td>\n",
       "      <td>6</td>\n",
       "      <td>7</td>\n",
       "      <td>8</td>\n",
       "      <td>9</td>\n",
       "    </tr>\n",
       "    <tr>\n",
       "      <th>2</th>\n",
       "      <td>10</td>\n",
       "      <td>11</td>\n",
       "      <td>12</td>\n",
       "      <td>13</td>\n",
       "      <td>14</td>\n",
       "    </tr>\n",
       "    <tr>\n",
       "      <th>3</th>\n",
       "      <td>15</td>\n",
       "      <td>16</td>\n",
       "      <td>17</td>\n",
       "      <td>18</td>\n",
       "      <td>19</td>\n",
       "    </tr>\n",
       "  </tbody>\n",
       "</table>\n",
       "</div>"
      ],
      "text/plain": [
       "    a   b   c   d   e\n",
       "0   0   1   2   3   4\n",
       "1   5   6   7   8   9\n",
       "2  10  11  12  13  14\n",
       "3  15  16  17  18  19"
      ]
     },
     "execution_count": 42,
     "metadata": {},
     "output_type": "execute_result"
    }
   ],
   "source": [
    "# Поменяйте порядок столбцов в датафрейме от Е до А.\n",
    "\n",
    "df = pd.DataFrame(np.arange(20).reshape(-1, 5), columns=list('abcde'))\n",
    "df"
   ]
  },
  {
   "cell_type": "code",
   "execution_count": 34,
   "id": "6d85a96c",
   "metadata": {},
   "outputs": [],
   "source": [
    "cols = list(df.columns)"
   ]
  },
  {
   "cell_type": "code",
   "execution_count": 35,
   "id": "cb952c2a",
   "metadata": {},
   "outputs": [],
   "source": [
    "cols.reverse()"
   ]
  },
  {
   "cell_type": "code",
   "execution_count": 47,
   "id": "f122543a",
   "metadata": {},
   "outputs": [
    {
     "data": {
      "text/plain": [
       "['e', 'd', 'c', 'b', 'a']"
      ]
     },
     "execution_count": 47,
     "metadata": {},
     "output_type": "execute_result"
    }
   ],
   "source": [
    "cols"
   ]
  },
  {
   "cell_type": "code",
   "execution_count": 37,
   "id": "9471fbc1",
   "metadata": {},
   "outputs": [],
   "source": [
    "df.columns = cols"
   ]
  },
  {
   "cell_type": "code",
   "execution_count": 48,
   "id": "49f37cb8",
   "metadata": {},
   "outputs": [
    {
     "data": {
      "text/html": [
       "<div>\n",
       "<style scoped>\n",
       "    .dataframe tbody tr th:only-of-type {\n",
       "        vertical-align: middle;\n",
       "    }\n",
       "\n",
       "    .dataframe tbody tr th {\n",
       "        vertical-align: top;\n",
       "    }\n",
       "\n",
       "    .dataframe thead th {\n",
       "        text-align: right;\n",
       "    }\n",
       "</style>\n",
       "<table border=\"1\" class=\"dataframe\">\n",
       "  <thead>\n",
       "    <tr style=\"text-align: right;\">\n",
       "      <th></th>\n",
       "      <th>e</th>\n",
       "      <th>d</th>\n",
       "      <th>c</th>\n",
       "      <th>b</th>\n",
       "      <th>a</th>\n",
       "    </tr>\n",
       "  </thead>\n",
       "  <tbody>\n",
       "    <tr>\n",
       "      <th>0</th>\n",
       "      <td>4</td>\n",
       "      <td>3</td>\n",
       "      <td>2</td>\n",
       "      <td>1</td>\n",
       "      <td>0</td>\n",
       "    </tr>\n",
       "    <tr>\n",
       "      <th>1</th>\n",
       "      <td>9</td>\n",
       "      <td>8</td>\n",
       "      <td>7</td>\n",
       "      <td>6</td>\n",
       "      <td>5</td>\n",
       "    </tr>\n",
       "    <tr>\n",
       "      <th>2</th>\n",
       "      <td>14</td>\n",
       "      <td>13</td>\n",
       "      <td>12</td>\n",
       "      <td>11</td>\n",
       "      <td>10</td>\n",
       "    </tr>\n",
       "    <tr>\n",
       "      <th>3</th>\n",
       "      <td>19</td>\n",
       "      <td>18</td>\n",
       "      <td>17</td>\n",
       "      <td>16</td>\n",
       "      <td>15</td>\n",
       "    </tr>\n",
       "  </tbody>\n",
       "</table>\n",
       "</div>"
      ],
      "text/plain": [
       "    e   d   c   b   a\n",
       "0   4   3   2   1   0\n",
       "1   9   8   7   6   5\n",
       "2  14  13  12  11  10\n",
       "3  19  18  17  16  15"
      ]
     },
     "execution_count": 48,
     "metadata": {},
     "output_type": "execute_result"
    }
   ],
   "source": [
    "df[cols]"
   ]
  },
  {
   "cell_type": "code",
   "execution_count": null,
   "id": "50b7a913",
   "metadata": {},
   "outputs": [],
   "source": []
  },
  {
   "cell_type": "markdown",
   "id": "e09d716a",
   "metadata": {},
   "source": [
    "# Задача № 28"
   ]
  },
  {
   "cell_type": "code",
   "execution_count": 2,
   "id": "d371e9b4",
   "metadata": {},
   "outputs": [],
   "source": [
    "# Выведите на экран строки датафрейма с шагом 2.\n",
    "\n",
    "df = pd.DataFrame(data = {'user' : ['Ivan', 'Petr', 'Alex', 'Den', 'Viktor'], \n",
    "                          'user.speed' : [40, None, 42, 35, 60], \n",
    "                          'user.bag_weight' : [8, None, 2, 4, 19]})"
   ]
  },
  {
   "cell_type": "code",
   "execution_count": 3,
   "id": "ddfffe76",
   "metadata": {},
   "outputs": [
    {
     "data": {
      "text/html": [
       "<div>\n",
       "<style scoped>\n",
       "    .dataframe tbody tr th:only-of-type {\n",
       "        vertical-align: middle;\n",
       "    }\n",
       "\n",
       "    .dataframe tbody tr th {\n",
       "        vertical-align: top;\n",
       "    }\n",
       "\n",
       "    .dataframe thead th {\n",
       "        text-align: right;\n",
       "    }\n",
       "</style>\n",
       "<table border=\"1\" class=\"dataframe\">\n",
       "  <thead>\n",
       "    <tr style=\"text-align: right;\">\n",
       "      <th></th>\n",
       "      <th>user</th>\n",
       "      <th>user.speed</th>\n",
       "      <th>user.bag_weight</th>\n",
       "    </tr>\n",
       "  </thead>\n",
       "  <tbody>\n",
       "    <tr>\n",
       "      <th>0</th>\n",
       "      <td>Ivan</td>\n",
       "      <td>40.0</td>\n",
       "      <td>8.0</td>\n",
       "    </tr>\n",
       "    <tr>\n",
       "      <th>1</th>\n",
       "      <td>Petr</td>\n",
       "      <td>NaN</td>\n",
       "      <td>NaN</td>\n",
       "    </tr>\n",
       "    <tr>\n",
       "      <th>2</th>\n",
       "      <td>Alex</td>\n",
       "      <td>42.0</td>\n",
       "      <td>2.0</td>\n",
       "    </tr>\n",
       "    <tr>\n",
       "      <th>3</th>\n",
       "      <td>Den</td>\n",
       "      <td>35.0</td>\n",
       "      <td>4.0</td>\n",
       "    </tr>\n",
       "    <tr>\n",
       "      <th>4</th>\n",
       "      <td>Viktor</td>\n",
       "      <td>60.0</td>\n",
       "      <td>19.0</td>\n",
       "    </tr>\n",
       "  </tbody>\n",
       "</table>\n",
       "</div>"
      ],
      "text/plain": [
       "     user  user.speed  user.bag_weight\n",
       "0    Ivan        40.0              8.0\n",
       "1    Petr         NaN              NaN\n",
       "2    Alex        42.0              2.0\n",
       "3     Den        35.0              4.0\n",
       "4  Viktor        60.0             19.0"
      ]
     },
     "execution_count": 3,
     "metadata": {},
     "output_type": "execute_result"
    }
   ],
   "source": [
    "df"
   ]
  },
  {
   "cell_type": "code",
   "execution_count": 14,
   "id": "a584ed12",
   "metadata": {},
   "outputs": [
    {
     "data": {
      "text/html": [
       "<div>\n",
       "<style scoped>\n",
       "    .dataframe tbody tr th:only-of-type {\n",
       "        vertical-align: middle;\n",
       "    }\n",
       "\n",
       "    .dataframe tbody tr th {\n",
       "        vertical-align: top;\n",
       "    }\n",
       "\n",
       "    .dataframe thead th {\n",
       "        text-align: right;\n",
       "    }\n",
       "</style>\n",
       "<table border=\"1\" class=\"dataframe\">\n",
       "  <thead>\n",
       "    <tr style=\"text-align: right;\">\n",
       "      <th></th>\n",
       "      <th>user</th>\n",
       "      <th>user.speed</th>\n",
       "      <th>user.bag_weight</th>\n",
       "    </tr>\n",
       "  </thead>\n",
       "  <tbody>\n",
       "    <tr>\n",
       "      <th>0</th>\n",
       "      <td>Ivan</td>\n",
       "      <td>40.0</td>\n",
       "      <td>8.0</td>\n",
       "    </tr>\n",
       "    <tr>\n",
       "      <th>2</th>\n",
       "      <td>Alex</td>\n",
       "      <td>42.0</td>\n",
       "      <td>2.0</td>\n",
       "    </tr>\n",
       "    <tr>\n",
       "      <th>4</th>\n",
       "      <td>Viktor</td>\n",
       "      <td>60.0</td>\n",
       "      <td>19.0</td>\n",
       "    </tr>\n",
       "  </tbody>\n",
       "</table>\n",
       "</div>"
      ],
      "text/plain": [
       "     user  user.speed  user.bag_weight\n",
       "0    Ivan        40.0              8.0\n",
       "2    Alex        42.0              2.0\n",
       "4  Viktor        60.0             19.0"
      ]
     },
     "execution_count": 14,
     "metadata": {},
     "output_type": "execute_result"
    }
   ],
   "source": [
    "df.iloc[lambda x: x.index % 2 == 0]"
   ]
  },
  {
   "cell_type": "code",
   "execution_count": null,
   "id": "a9874a97",
   "metadata": {},
   "outputs": [],
   "source": []
  },
  {
   "cell_type": "markdown",
   "id": "cfb29fd7",
   "metadata": {},
   "source": [
    "# Задача № 29"
   ]
  },
  {
   "cell_type": "code",
   "execution_count": 2,
   "id": "5add98e2",
   "metadata": {},
   "outputs": [],
   "source": [
    "# Создайте составной индекс на основе колонок user и user.number для датафрейма:\n",
    "\n",
    "\n",
    "df = pd.DataFrame(data = {'user' : ['Ivan', 'Petr', 'Alex', 'Den', 'Viktor'],\n",
    "                          'user.number' : ['222-333', None, '222-555', '222-666', '222-777'],\n",
    "                          'user.speed' : [40, None, 42, 35, 60],\n",
    "                          'user.bag_weight' : [8, None, 2, 4, 19]})"
   ]
  },
  {
   "cell_type": "code",
   "execution_count": 70,
   "id": "a55845bd",
   "metadata": {},
   "outputs": [],
   "source": [
    "df['user.number'] = df['user.number'].fillna('missing')"
   ]
  },
  {
   "cell_type": "code",
   "execution_count": 71,
   "id": "1a801841",
   "metadata": {},
   "outputs": [
    {
     "data": {
      "text/html": [
       "<div>\n",
       "<style scoped>\n",
       "    .dataframe tbody tr th:only-of-type {\n",
       "        vertical-align: middle;\n",
       "    }\n",
       "\n",
       "    .dataframe tbody tr th {\n",
       "        vertical-align: top;\n",
       "    }\n",
       "\n",
       "    .dataframe thead th {\n",
       "        text-align: right;\n",
       "    }\n",
       "</style>\n",
       "<table border=\"1\" class=\"dataframe\">\n",
       "  <thead>\n",
       "    <tr style=\"text-align: right;\">\n",
       "      <th></th>\n",
       "      <th>user</th>\n",
       "      <th>user.number</th>\n",
       "      <th>user.speed</th>\n",
       "      <th>user.bag_weight</th>\n",
       "    </tr>\n",
       "  </thead>\n",
       "  <tbody>\n",
       "    <tr>\n",
       "      <th>0</th>\n",
       "      <td>Ivan</td>\n",
       "      <td>222-333</td>\n",
       "      <td>40.0</td>\n",
       "      <td>8.0</td>\n",
       "    </tr>\n",
       "    <tr>\n",
       "      <th>1</th>\n",
       "      <td>Petr</td>\n",
       "      <td>missing</td>\n",
       "      <td>NaN</td>\n",
       "      <td>NaN</td>\n",
       "    </tr>\n",
       "    <tr>\n",
       "      <th>2</th>\n",
       "      <td>Alex</td>\n",
       "      <td>222-555</td>\n",
       "      <td>42.0</td>\n",
       "      <td>2.0</td>\n",
       "    </tr>\n",
       "    <tr>\n",
       "      <th>3</th>\n",
       "      <td>Den</td>\n",
       "      <td>222-666</td>\n",
       "      <td>35.0</td>\n",
       "      <td>4.0</td>\n",
       "    </tr>\n",
       "    <tr>\n",
       "      <th>4</th>\n",
       "      <td>Viktor</td>\n",
       "      <td>222-777</td>\n",
       "      <td>60.0</td>\n",
       "      <td>19.0</td>\n",
       "    </tr>\n",
       "  </tbody>\n",
       "</table>\n",
       "</div>"
      ],
      "text/plain": [
       "     user user.number  user.speed  user.bag_weight\n",
       "0    Ivan     222-333        40.0              8.0\n",
       "1    Petr     missing         NaN              NaN\n",
       "2    Alex     222-555        42.0              2.0\n",
       "3     Den     222-666        35.0              4.0\n",
       "4  Viktor     222-777        60.0             19.0"
      ]
     },
     "execution_count": 71,
     "metadata": {},
     "output_type": "execute_result"
    }
   ],
   "source": [
    "df"
   ]
  },
  {
   "cell_type": "code",
   "execution_count": 72,
   "id": "86ca8f6c",
   "metadata": {},
   "outputs": [],
   "source": [
    "df['ind'] = df['user'].str.title() + '_' + df['user.number'].str.lower()"
   ]
  },
  {
   "cell_type": "code",
   "execution_count": 74,
   "id": "e4ed255f",
   "metadata": {},
   "outputs": [
    {
     "data": {
      "text/html": [
       "<div>\n",
       "<style scoped>\n",
       "    .dataframe tbody tr th:only-of-type {\n",
       "        vertical-align: middle;\n",
       "    }\n",
       "\n",
       "    .dataframe tbody tr th {\n",
       "        vertical-align: top;\n",
       "    }\n",
       "\n",
       "    .dataframe thead th {\n",
       "        text-align: right;\n",
       "    }\n",
       "</style>\n",
       "<table border=\"1\" class=\"dataframe\">\n",
       "  <thead>\n",
       "    <tr style=\"text-align: right;\">\n",
       "      <th></th>\n",
       "      <th>user</th>\n",
       "      <th>user.number</th>\n",
       "      <th>user.speed</th>\n",
       "      <th>user.bag_weight</th>\n",
       "      <th>ind</th>\n",
       "    </tr>\n",
       "  </thead>\n",
       "  <tbody>\n",
       "    <tr>\n",
       "      <th>0</th>\n",
       "      <td>Ivan</td>\n",
       "      <td>222-333</td>\n",
       "      <td>40.0</td>\n",
       "      <td>8.0</td>\n",
       "      <td>Ivan_222-333</td>\n",
       "    </tr>\n",
       "    <tr>\n",
       "      <th>1</th>\n",
       "      <td>Petr</td>\n",
       "      <td>missing</td>\n",
       "      <td>NaN</td>\n",
       "      <td>NaN</td>\n",
       "      <td>Petr_missing</td>\n",
       "    </tr>\n",
       "    <tr>\n",
       "      <th>2</th>\n",
       "      <td>Alex</td>\n",
       "      <td>222-555</td>\n",
       "      <td>42.0</td>\n",
       "      <td>2.0</td>\n",
       "      <td>Alex_222-555</td>\n",
       "    </tr>\n",
       "    <tr>\n",
       "      <th>3</th>\n",
       "      <td>Den</td>\n",
       "      <td>222-666</td>\n",
       "      <td>35.0</td>\n",
       "      <td>4.0</td>\n",
       "      <td>Den_222-666</td>\n",
       "    </tr>\n",
       "    <tr>\n",
       "      <th>4</th>\n",
       "      <td>Viktor</td>\n",
       "      <td>222-777</td>\n",
       "      <td>60.0</td>\n",
       "      <td>19.0</td>\n",
       "      <td>Viktor_222-777</td>\n",
       "    </tr>\n",
       "  </tbody>\n",
       "</table>\n",
       "</div>"
      ],
      "text/plain": [
       "     user user.number  user.speed  user.bag_weight             ind\n",
       "0    Ivan     222-333        40.0              8.0    Ivan_222-333\n",
       "1    Petr     missing         NaN              NaN    Petr_missing\n",
       "2    Alex     222-555        42.0              2.0    Alex_222-555\n",
       "3     Den     222-666        35.0              4.0     Den_222-666\n",
       "4  Viktor     222-777        60.0             19.0  Viktor_222-777"
      ]
     },
     "execution_count": 74,
     "metadata": {},
     "output_type": "execute_result"
    }
   ],
   "source": [
    "df"
   ]
  },
  {
   "cell_type": "code",
   "execution_count": 75,
   "id": "bbfb61a8",
   "metadata": {},
   "outputs": [],
   "source": [
    "df = df.set_index('ind')"
   ]
  },
  {
   "cell_type": "code",
   "execution_count": 79,
   "id": "cbf552c2",
   "metadata": {},
   "outputs": [],
   "source": [
    "df.index.name = None"
   ]
  },
  {
   "cell_type": "code",
   "execution_count": 80,
   "id": "79a9c396",
   "metadata": {},
   "outputs": [
    {
     "data": {
      "text/html": [
       "<div>\n",
       "<style scoped>\n",
       "    .dataframe tbody tr th:only-of-type {\n",
       "        vertical-align: middle;\n",
       "    }\n",
       "\n",
       "    .dataframe tbody tr th {\n",
       "        vertical-align: top;\n",
       "    }\n",
       "\n",
       "    .dataframe thead th {\n",
       "        text-align: right;\n",
       "    }\n",
       "</style>\n",
       "<table border=\"1\" class=\"dataframe\">\n",
       "  <thead>\n",
       "    <tr style=\"text-align: right;\">\n",
       "      <th></th>\n",
       "      <th>user</th>\n",
       "      <th>user.number</th>\n",
       "      <th>user.speed</th>\n",
       "      <th>user.bag_weight</th>\n",
       "    </tr>\n",
       "  </thead>\n",
       "  <tbody>\n",
       "    <tr>\n",
       "      <th>Ivan_222-333</th>\n",
       "      <td>Ivan</td>\n",
       "      <td>222-333</td>\n",
       "      <td>40.0</td>\n",
       "      <td>8.0</td>\n",
       "    </tr>\n",
       "    <tr>\n",
       "      <th>Petr_missing</th>\n",
       "      <td>Petr</td>\n",
       "      <td>missing</td>\n",
       "      <td>NaN</td>\n",
       "      <td>NaN</td>\n",
       "    </tr>\n",
       "    <tr>\n",
       "      <th>Alex_222-555</th>\n",
       "      <td>Alex</td>\n",
       "      <td>222-555</td>\n",
       "      <td>42.0</td>\n",
       "      <td>2.0</td>\n",
       "    </tr>\n",
       "    <tr>\n",
       "      <th>Den_222-666</th>\n",
       "      <td>Den</td>\n",
       "      <td>222-666</td>\n",
       "      <td>35.0</td>\n",
       "      <td>4.0</td>\n",
       "    </tr>\n",
       "    <tr>\n",
       "      <th>Viktor_222-777</th>\n",
       "      <td>Viktor</td>\n",
       "      <td>222-777</td>\n",
       "      <td>60.0</td>\n",
       "      <td>19.0</td>\n",
       "    </tr>\n",
       "  </tbody>\n",
       "</table>\n",
       "</div>"
      ],
      "text/plain": [
       "                  user user.number  user.speed  user.bag_weight\n",
       "Ivan_222-333      Ivan     222-333        40.0              8.0\n",
       "Petr_missing      Petr     missing         NaN              NaN\n",
       "Alex_222-555      Alex     222-555        42.0              2.0\n",
       "Den_222-666        Den     222-666        35.0              4.0\n",
       "Viktor_222-777  Viktor     222-777        60.0             19.0"
      ]
     },
     "execution_count": 80,
     "metadata": {},
     "output_type": "execute_result"
    }
   ],
   "source": [
    "df"
   ]
  },
  {
   "cell_type": "code",
   "execution_count": null,
   "id": "625d6350",
   "metadata": {},
   "outputs": [],
   "source": []
  },
  {
   "cell_type": "markdown",
   "id": "323e3cda",
   "metadata": {},
   "source": [
    "# Задача №30"
   ]
  },
  {
   "cell_type": "code",
   "execution_count": 3,
   "id": "b722eace",
   "metadata": {},
   "outputs": [
    {
     "data": {
      "text/html": [
       "<div>\n",
       "<style scoped>\n",
       "    .dataframe tbody tr th:only-of-type {\n",
       "        vertical-align: middle;\n",
       "    }\n",
       "\n",
       "    .dataframe tbody tr th {\n",
       "        vertical-align: top;\n",
       "    }\n",
       "\n",
       "    .dataframe thead th {\n",
       "        text-align: right;\n",
       "    }\n",
       "</style>\n",
       "<table border=\"1\" class=\"dataframe\">\n",
       "  <thead>\n",
       "    <tr style=\"text-align: right;\">\n",
       "      <th></th>\n",
       "      <th>user</th>\n",
       "      <th>user.number</th>\n",
       "      <th>user.speed</th>\n",
       "      <th>user.bag_weight</th>\n",
       "    </tr>\n",
       "  </thead>\n",
       "  <tbody>\n",
       "    <tr>\n",
       "      <th>0</th>\n",
       "      <td>Ivan</td>\n",
       "      <td>222-333</td>\n",
       "      <td>40.0</td>\n",
       "      <td>8.0</td>\n",
       "    </tr>\n",
       "    <tr>\n",
       "      <th>1</th>\n",
       "      <td>Petr</td>\n",
       "      <td>None</td>\n",
       "      <td>NaN</td>\n",
       "      <td>NaN</td>\n",
       "    </tr>\n",
       "    <tr>\n",
       "      <th>2</th>\n",
       "      <td>Alex</td>\n",
       "      <td>222-555</td>\n",
       "      <td>42.0</td>\n",
       "      <td>2.0</td>\n",
       "    </tr>\n",
       "    <tr>\n",
       "      <th>3</th>\n",
       "      <td>Den</td>\n",
       "      <td>222-666</td>\n",
       "      <td>35.0</td>\n",
       "      <td>4.0</td>\n",
       "    </tr>\n",
       "    <tr>\n",
       "      <th>4</th>\n",
       "      <td>Viktor</td>\n",
       "      <td>222-777</td>\n",
       "      <td>60.0</td>\n",
       "      <td>19.0</td>\n",
       "    </tr>\n",
       "  </tbody>\n",
       "</table>\n",
       "</div>"
      ],
      "text/plain": [
       "     user user.number  user.speed  user.bag_weight\n",
       "0    Ivan     222-333        40.0              8.0\n",
       "1    Petr        None         NaN              NaN\n",
       "2    Alex     222-555        42.0              2.0\n",
       "3     Den     222-666        35.0              4.0\n",
       "4  Viktor     222-777        60.0             19.0"
      ]
     },
     "execution_count": 3,
     "metadata": {},
     "output_type": "execute_result"
    }
   ],
   "source": [
    "# Как задать максимальное количество выводимых строк датафрейма?\n",
    "\n",
    "df"
   ]
  },
  {
   "cell_type": "code",
   "execution_count": 22,
   "id": "7677c2a1",
   "metadata": {},
   "outputs": [],
   "source": [
    "pd.set_option('display.max_rows', 20)"
   ]
  },
  {
   "cell_type": "code",
   "execution_count": 8,
   "id": "eeb65029",
   "metadata": {},
   "outputs": [
    {
     "data": {
      "text/html": [
       "<div>\n",
       "<style scoped>\n",
       "    .dataframe tbody tr th:only-of-type {\n",
       "        vertical-align: middle;\n",
       "    }\n",
       "\n",
       "    .dataframe tbody tr th {\n",
       "        vertical-align: top;\n",
       "    }\n",
       "\n",
       "    .dataframe thead th {\n",
       "        text-align: right;\n",
       "    }\n",
       "</style>\n",
       "<table border=\"1\" class=\"dataframe\">\n",
       "  <thead>\n",
       "    <tr style=\"text-align: right;\">\n",
       "      <th></th>\n",
       "      <th>user</th>\n",
       "      <th>user.number</th>\n",
       "      <th>user.speed</th>\n",
       "      <th>user.bag_weight</th>\n",
       "    </tr>\n",
       "  </thead>\n",
       "  <tbody>\n",
       "    <tr>\n",
       "      <th>0</th>\n",
       "      <td>Ivan</td>\n",
       "      <td>222-333</td>\n",
       "      <td>40.0</td>\n",
       "      <td>8.0</td>\n",
       "    </tr>\n",
       "    <tr>\n",
       "      <th>...</th>\n",
       "      <td>...</td>\n",
       "      <td>...</td>\n",
       "      <td>...</td>\n",
       "      <td>...</td>\n",
       "    </tr>\n",
       "    <tr>\n",
       "      <th>4</th>\n",
       "      <td>Viktor</td>\n",
       "      <td>222-777</td>\n",
       "      <td>60.0</td>\n",
       "      <td>19.0</td>\n",
       "    </tr>\n",
       "  </tbody>\n",
       "</table>\n",
       "<p>5 rows × 4 columns</p>\n",
       "</div>"
      ],
      "text/plain": [
       "      user user.number  user.speed  user.bag_weight\n",
       "0     Ivan     222-333        40.0              8.0\n",
       "..     ...         ...         ...              ...\n",
       "4   Viktor     222-777        60.0             19.0\n",
       "\n",
       "[5 rows x 4 columns]"
      ]
     },
     "execution_count": 8,
     "metadata": {},
     "output_type": "execute_result"
    }
   ],
   "source": [
    "df"
   ]
  },
  {
   "cell_type": "code",
   "execution_count": null,
   "id": "8af86747",
   "metadata": {},
   "outputs": [],
   "source": [
    "# Sets the value of the specified option.\n",
    "\n",
    "# Available options: ...\n",
    "\n",
    "# https://pandas.pydata.org/docs/reference/api/pandas.set_option.html?highlight=set_option#pandas.set_option"
   ]
  },
  {
   "cell_type": "code",
   "execution_count": null,
   "id": "de6c2e7d",
   "metadata": {},
   "outputs": [],
   "source": []
  },
  {
   "cell_type": "markdown",
   "id": "5f5f8f0d",
   "metadata": {},
   "source": [
    "# Задача № 31"
   ]
  },
  {
   "cell_type": "code",
   "execution_count": 14,
   "id": "d538e8ec",
   "metadata": {},
   "outputs": [],
   "source": [
    "# Для столбца А найдите индекс строки в которой находится второе наибольшее значение.\n",
    "\n",
    "df = pd.DataFrame([[16,24,29],[1,10,16],[26,21,10],[3,3,8],\n",
    "                   [6,17,17],[2,25,14],[9,13,21],[27,24,17],[19,29,1],[20,24,6]], columns=list('abc'))\n",
    "\n"
   ]
  },
  {
   "cell_type": "code",
   "execution_count": 23,
   "id": "dda4062a",
   "metadata": {},
   "outputs": [
    {
     "data": {
      "text/html": [
       "<div>\n",
       "<style scoped>\n",
       "    .dataframe tbody tr th:only-of-type {\n",
       "        vertical-align: middle;\n",
       "    }\n",
       "\n",
       "    .dataframe tbody tr th {\n",
       "        vertical-align: top;\n",
       "    }\n",
       "\n",
       "    .dataframe thead th {\n",
       "        text-align: right;\n",
       "    }\n",
       "</style>\n",
       "<table border=\"1\" class=\"dataframe\">\n",
       "  <thead>\n",
       "    <tr style=\"text-align: right;\">\n",
       "      <th></th>\n",
       "      <th>a</th>\n",
       "      <th>b</th>\n",
       "      <th>c</th>\n",
       "    </tr>\n",
       "  </thead>\n",
       "  <tbody>\n",
       "    <tr>\n",
       "      <th>0</th>\n",
       "      <td>16</td>\n",
       "      <td>24</td>\n",
       "      <td>29</td>\n",
       "    </tr>\n",
       "    <tr>\n",
       "      <th>1</th>\n",
       "      <td>1</td>\n",
       "      <td>10</td>\n",
       "      <td>16</td>\n",
       "    </tr>\n",
       "    <tr>\n",
       "      <th>2</th>\n",
       "      <td>26</td>\n",
       "      <td>21</td>\n",
       "      <td>10</td>\n",
       "    </tr>\n",
       "    <tr>\n",
       "      <th>3</th>\n",
       "      <td>3</td>\n",
       "      <td>3</td>\n",
       "      <td>8</td>\n",
       "    </tr>\n",
       "    <tr>\n",
       "      <th>4</th>\n",
       "      <td>6</td>\n",
       "      <td>17</td>\n",
       "      <td>17</td>\n",
       "    </tr>\n",
       "    <tr>\n",
       "      <th>5</th>\n",
       "      <td>2</td>\n",
       "      <td>25</td>\n",
       "      <td>14</td>\n",
       "    </tr>\n",
       "    <tr>\n",
       "      <th>6</th>\n",
       "      <td>9</td>\n",
       "      <td>13</td>\n",
       "      <td>21</td>\n",
       "    </tr>\n",
       "    <tr>\n",
       "      <th>7</th>\n",
       "      <td>27</td>\n",
       "      <td>24</td>\n",
       "      <td>17</td>\n",
       "    </tr>\n",
       "    <tr>\n",
       "      <th>8</th>\n",
       "      <td>19</td>\n",
       "      <td>29</td>\n",
       "      <td>1</td>\n",
       "    </tr>\n",
       "    <tr>\n",
       "      <th>9</th>\n",
       "      <td>20</td>\n",
       "      <td>24</td>\n",
       "      <td>6</td>\n",
       "    </tr>\n",
       "  </tbody>\n",
       "</table>\n",
       "</div>"
      ],
      "text/plain": [
       "    a   b   c\n",
       "0  16  24  29\n",
       "1   1  10  16\n",
       "2  26  21  10\n",
       "3   3   3   8\n",
       "4   6  17  17\n",
       "5   2  25  14\n",
       "6   9  13  21\n",
       "7  27  24  17\n",
       "8  19  29   1\n",
       "9  20  24   6"
      ]
     },
     "execution_count": 23,
     "metadata": {},
     "output_type": "execute_result"
    }
   ],
   "source": [
    "df"
   ]
  },
  {
   "cell_type": "code",
   "execution_count": 33,
   "id": "1f830302",
   "metadata": {},
   "outputs": [
    {
     "data": {
      "text/plain": [
       "2"
      ]
     },
     "execution_count": 33,
     "metadata": {},
     "output_type": "execute_result"
    }
   ],
   "source": [
    "df['a'].sort_values(ascending = False).index[1]"
   ]
  },
  {
   "cell_type": "code",
   "execution_count": null,
   "id": "45426536",
   "metadata": {},
   "outputs": [],
   "source": []
  },
  {
   "cell_type": "code",
   "execution_count": null,
   "id": "2f4f3ef7",
   "metadata": {},
   "outputs": [],
   "source": []
  },
  {
   "cell_type": "markdown",
   "id": "1f6f9288",
   "metadata": {},
   "source": [
    "# Задача № 32"
   ]
  },
  {
   "cell_type": "code",
   "execution_count": 19,
   "id": "bf7b71ca",
   "metadata": {},
   "outputs": [],
   "source": [
    "# Выведите последние две строки датафрейма, сумма ячеек которых больше 100.\n",
    "\n",
    "\n",
    "import pandas as pd\n",
    "import numpy as np\n",
    "\n",
    "df = pd.DataFrame([[23,33,16,35],\n",
    "                   [24,20,13,10],\n",
    "                   [32,33,30,28],\n",
    "                   [13,32,36,18],\n",
    "                   [25,27,31,10],\n",
    "                   [35,13,36,21],\n",
    "                   [32,32,25,17],\n",
    "                   [34,24,23,19]])"
   ]
  },
  {
   "cell_type": "code",
   "execution_count": 22,
   "id": "19f5b4c7",
   "metadata": {},
   "outputs": [],
   "source": [
    "df2 = df[df.sum(axis = 1) > 100]"
   ]
  },
  {
   "cell_type": "code",
   "execution_count": 25,
   "id": "17ef28d9",
   "metadata": {},
   "outputs": [
    {
     "data": {
      "text/html": [
       "<div>\n",
       "<style scoped>\n",
       "    .dataframe tbody tr th:only-of-type {\n",
       "        vertical-align: middle;\n",
       "    }\n",
       "\n",
       "    .dataframe tbody tr th {\n",
       "        vertical-align: top;\n",
       "    }\n",
       "\n",
       "    .dataframe thead th {\n",
       "        text-align: right;\n",
       "    }\n",
       "</style>\n",
       "<table border=\"1\" class=\"dataframe\">\n",
       "  <thead>\n",
       "    <tr style=\"text-align: right;\">\n",
       "      <th></th>\n",
       "      <th>0</th>\n",
       "      <th>1</th>\n",
       "      <th>2</th>\n",
       "      <th>3</th>\n",
       "    </tr>\n",
       "  </thead>\n",
       "  <tbody>\n",
       "    <tr>\n",
       "      <th>5</th>\n",
       "      <td>35</td>\n",
       "      <td>13</td>\n",
       "      <td>36</td>\n",
       "      <td>21</td>\n",
       "    </tr>\n",
       "    <tr>\n",
       "      <th>6</th>\n",
       "      <td>32</td>\n",
       "      <td>32</td>\n",
       "      <td>25</td>\n",
       "      <td>17</td>\n",
       "    </tr>\n",
       "  </tbody>\n",
       "</table>\n",
       "</div>"
      ],
      "text/plain": [
       "    0   1   2   3\n",
       "5  35  13  36  21\n",
       "6  32  32  25  17"
      ]
     },
     "execution_count": 25,
     "metadata": {},
     "output_type": "execute_result"
    }
   ],
   "source": [
    "df2.iloc[[-2,-1]]"
   ]
  },
  {
   "cell_type": "code",
   "execution_count": null,
   "id": "8ec4e7a9",
   "metadata": {},
   "outputs": [],
   "source": []
  },
  {
   "cell_type": "markdown",
   "id": "87bd8a35",
   "metadata": {},
   "source": [
    "# Задача № 33"
   ]
  },
  {
   "cell_type": "code",
   "execution_count": 2,
   "id": "c29dc79a",
   "metadata": {},
   "outputs": [],
   "source": [
    "import pandas as pd\n",
    "import numpy as np\n",
    "\n",
    "data = {'animal': ['cat', 'cat', 'snake', 'dog', 'dog', 'cat', 'snake', 'cat', 'dog', 'dog'],\n",
    "        'age': [2.5, 3, 0.5, np.nan, 5, 2, 4.5, np.nan, 7, 3],\n",
    "        'visits': [1, 3, 2, 3, 2, 3, 1, 1, 2, 1],\n",
    "        'priority': ['yes', 'yes', 'no', 'yes', 'no', 'no', 'no', 'yes', 'no', 'no']}\n",
    "\n",
    "labels = ['a', 'b', 'c', 'd', 'e', 'f', 'g', 'h', 'i', 'j']\n",
    "\n",
    "df = pd.DataFrame(data, index=labels)"
   ]
  },
  {
   "cell_type": "code",
   "execution_count": 3,
   "id": "49465c1b",
   "metadata": {},
   "outputs": [
    {
     "data": {
      "text/html": [
       "<div>\n",
       "<style scoped>\n",
       "    .dataframe tbody tr th:only-of-type {\n",
       "        vertical-align: middle;\n",
       "    }\n",
       "\n",
       "    .dataframe tbody tr th {\n",
       "        vertical-align: top;\n",
       "    }\n",
       "\n",
       "    .dataframe thead th {\n",
       "        text-align: right;\n",
       "    }\n",
       "</style>\n",
       "<table border=\"1\" class=\"dataframe\">\n",
       "  <thead>\n",
       "    <tr style=\"text-align: right;\">\n",
       "      <th></th>\n",
       "      <th>animal</th>\n",
       "      <th>age</th>\n",
       "      <th>visits</th>\n",
       "      <th>priority</th>\n",
       "    </tr>\n",
       "  </thead>\n",
       "  <tbody>\n",
       "    <tr>\n",
       "      <th>a</th>\n",
       "      <td>cat</td>\n",
       "      <td>2.5</td>\n",
       "      <td>1</td>\n",
       "      <td>yes</td>\n",
       "    </tr>\n",
       "    <tr>\n",
       "      <th>b</th>\n",
       "      <td>cat</td>\n",
       "      <td>3.0</td>\n",
       "      <td>3</td>\n",
       "      <td>yes</td>\n",
       "    </tr>\n",
       "    <tr>\n",
       "      <th>c</th>\n",
       "      <td>snake</td>\n",
       "      <td>0.5</td>\n",
       "      <td>2</td>\n",
       "      <td>no</td>\n",
       "    </tr>\n",
       "  </tbody>\n",
       "</table>\n",
       "</div>"
      ],
      "text/plain": [
       "  animal  age  visits priority\n",
       "a    cat  2.5       1      yes\n",
       "b    cat  3.0       3      yes\n",
       "c  snake  0.5       2       no"
      ]
     },
     "execution_count": 3,
     "metadata": {},
     "output_type": "execute_result"
    }
   ],
   "source": [
    "df.head(3)"
   ]
  },
  {
   "cell_type": "code",
   "execution_count": 4,
   "id": "fbdaafc4",
   "metadata": {},
   "outputs": [],
   "source": [
    "# Выведите на экран данные, которые хранятся в строках [3, 4, 8] и колонках ['animal', 'age']."
   ]
  },
  {
   "cell_type": "code",
   "execution_count": 17,
   "id": "5596d6a9",
   "metadata": {},
   "outputs": [
    {
     "data": {
      "text/html": [
       "<div>\n",
       "<style scoped>\n",
       "    .dataframe tbody tr th:only-of-type {\n",
       "        vertical-align: middle;\n",
       "    }\n",
       "\n",
       "    .dataframe tbody tr th {\n",
       "        vertical-align: top;\n",
       "    }\n",
       "\n",
       "    .dataframe thead th {\n",
       "        text-align: right;\n",
       "    }\n",
       "</style>\n",
       "<table border=\"1\" class=\"dataframe\">\n",
       "  <thead>\n",
       "    <tr style=\"text-align: right;\">\n",
       "      <th></th>\n",
       "      <th>animal</th>\n",
       "      <th>age</th>\n",
       "      <th>visits</th>\n",
       "      <th>priority</th>\n",
       "    </tr>\n",
       "  </thead>\n",
       "  <tbody>\n",
       "    <tr>\n",
       "      <th>a</th>\n",
       "      <td>cat</td>\n",
       "      <td>2.5</td>\n",
       "      <td>1</td>\n",
       "      <td>yes</td>\n",
       "    </tr>\n",
       "    <tr>\n",
       "      <th>b</th>\n",
       "      <td>cat</td>\n",
       "      <td>3.0</td>\n",
       "      <td>3</td>\n",
       "      <td>yes</td>\n",
       "    </tr>\n",
       "    <tr>\n",
       "      <th>c</th>\n",
       "      <td>snake</td>\n",
       "      <td>0.5</td>\n",
       "      <td>2</td>\n",
       "      <td>no</td>\n",
       "    </tr>\n",
       "    <tr>\n",
       "      <th>d</th>\n",
       "      <td>dog</td>\n",
       "      <td>NaN</td>\n",
       "      <td>3</td>\n",
       "      <td>yes</td>\n",
       "    </tr>\n",
       "    <tr>\n",
       "      <th>e</th>\n",
       "      <td>dog</td>\n",
       "      <td>5.0</td>\n",
       "      <td>2</td>\n",
       "      <td>no</td>\n",
       "    </tr>\n",
       "    <tr>\n",
       "      <th>f</th>\n",
       "      <td>cat</td>\n",
       "      <td>2.0</td>\n",
       "      <td>3</td>\n",
       "      <td>no</td>\n",
       "    </tr>\n",
       "    <tr>\n",
       "      <th>g</th>\n",
       "      <td>snake</td>\n",
       "      <td>4.5</td>\n",
       "      <td>1</td>\n",
       "      <td>no</td>\n",
       "    </tr>\n",
       "    <tr>\n",
       "      <th>h</th>\n",
       "      <td>cat</td>\n",
       "      <td>NaN</td>\n",
       "      <td>1</td>\n",
       "      <td>yes</td>\n",
       "    </tr>\n",
       "    <tr>\n",
       "      <th>i</th>\n",
       "      <td>dog</td>\n",
       "      <td>7.0</td>\n",
       "      <td>2</td>\n",
       "      <td>no</td>\n",
       "    </tr>\n",
       "    <tr>\n",
       "      <th>j</th>\n",
       "      <td>dog</td>\n",
       "      <td>3.0</td>\n",
       "      <td>1</td>\n",
       "      <td>no</td>\n",
       "    </tr>\n",
       "  </tbody>\n",
       "</table>\n",
       "</div>"
      ],
      "text/plain": [
       "  animal  age  visits priority\n",
       "a    cat  2.5       1      yes\n",
       "b    cat  3.0       3      yes\n",
       "c  snake  0.5       2       no\n",
       "d    dog  NaN       3      yes\n",
       "e    dog  5.0       2       no\n",
       "f    cat  2.0       3       no\n",
       "g  snake  4.5       1       no\n",
       "h    cat  NaN       1      yes\n",
       "i    dog  7.0       2       no\n",
       "j    dog  3.0       1       no"
      ]
     },
     "execution_count": 17,
     "metadata": {},
     "output_type": "execute_result"
    }
   ],
   "source": [
    "df"
   ]
  },
  {
   "cell_type": "code",
   "execution_count": 24,
   "id": "d440a9c9",
   "metadata": {},
   "outputs": [
    {
     "data": {
      "text/plain": [
       "Index(['animal', 'age', 'visits', 'priority'], dtype='object')"
      ]
     },
     "execution_count": 24,
     "metadata": {},
     "output_type": "execute_result"
    }
   ],
   "source": [
    "df.columns"
   ]
  },
  {
   "cell_type": "code",
   "execution_count": 27,
   "id": "e710335a",
   "metadata": {},
   "outputs": [],
   "source": [
    "col_args = []\n",
    "for i in range(len(df.columns)):\n",
    "    if df.columns[i] in ['animal', 'age']:\n",
    "        col_args.append(i)"
   ]
  },
  {
   "cell_type": "code",
   "execution_count": 28,
   "id": "c0e0ba34",
   "metadata": {},
   "outputs": [
    {
     "data": {
      "text/plain": [
       "[0, 1]"
      ]
     },
     "execution_count": 28,
     "metadata": {},
     "output_type": "execute_result"
    }
   ],
   "source": [
    "col_args"
   ]
  },
  {
   "cell_type": "code",
   "execution_count": 29,
   "id": "b36c2657",
   "metadata": {},
   "outputs": [
    {
     "data": {
      "text/html": [
       "<div>\n",
       "<style scoped>\n",
       "    .dataframe tbody tr th:only-of-type {\n",
       "        vertical-align: middle;\n",
       "    }\n",
       "\n",
       "    .dataframe tbody tr th {\n",
       "        vertical-align: top;\n",
       "    }\n",
       "\n",
       "    .dataframe thead th {\n",
       "        text-align: right;\n",
       "    }\n",
       "</style>\n",
       "<table border=\"1\" class=\"dataframe\">\n",
       "  <thead>\n",
       "    <tr style=\"text-align: right;\">\n",
       "      <th></th>\n",
       "      <th>animal</th>\n",
       "      <th>age</th>\n",
       "    </tr>\n",
       "  </thead>\n",
       "  <tbody>\n",
       "    <tr>\n",
       "      <th>d</th>\n",
       "      <td>dog</td>\n",
       "      <td>NaN</td>\n",
       "    </tr>\n",
       "    <tr>\n",
       "      <th>e</th>\n",
       "      <td>dog</td>\n",
       "      <td>5.0</td>\n",
       "    </tr>\n",
       "    <tr>\n",
       "      <th>i</th>\n",
       "      <td>dog</td>\n",
       "      <td>7.0</td>\n",
       "    </tr>\n",
       "  </tbody>\n",
       "</table>\n",
       "</div>"
      ],
      "text/plain": [
       "  animal  age\n",
       "d    dog  NaN\n",
       "e    dog  5.0\n",
       "i    dog  7.0"
      ]
     },
     "execution_count": 29,
     "metadata": {},
     "output_type": "execute_result"
    }
   ],
   "source": [
    "df.iloc[[3, 4, 8], col_args]"
   ]
  },
  {
   "cell_type": "code",
   "execution_count": 5,
   "id": "59b332e7",
   "metadata": {},
   "outputs": [
    {
     "data": {
      "text/html": [
       "<div>\n",
       "<style scoped>\n",
       "    .dataframe tbody tr th:only-of-type {\n",
       "        vertical-align: middle;\n",
       "    }\n",
       "\n",
       "    .dataframe tbody tr th {\n",
       "        vertical-align: top;\n",
       "    }\n",
       "\n",
       "    .dataframe thead th {\n",
       "        text-align: right;\n",
       "    }\n",
       "</style>\n",
       "<table border=\"1\" class=\"dataframe\">\n",
       "  <thead>\n",
       "    <tr style=\"text-align: right;\">\n",
       "      <th></th>\n",
       "      <th>animal</th>\n",
       "      <th>age</th>\n",
       "    </tr>\n",
       "  </thead>\n",
       "  <tbody>\n",
       "    <tr>\n",
       "      <th>d</th>\n",
       "      <td>dog</td>\n",
       "      <td>NaN</td>\n",
       "    </tr>\n",
       "    <tr>\n",
       "      <th>e</th>\n",
       "      <td>dog</td>\n",
       "      <td>5.0</td>\n",
       "    </tr>\n",
       "    <tr>\n",
       "      <th>i</th>\n",
       "      <td>dog</td>\n",
       "      <td>7.0</td>\n",
       "    </tr>\n",
       "  </tbody>\n",
       "</table>\n",
       "</div>"
      ],
      "text/plain": [
       "  animal  age\n",
       "d    dog  NaN\n",
       "e    dog  5.0\n",
       "i    dog  7.0"
      ]
     },
     "execution_count": 5,
     "metadata": {},
     "output_type": "execute_result"
    }
   ],
   "source": [
    "df.iloc[[3, 4, 8]][['animal', 'age']]"
   ]
  },
  {
   "cell_type": "code",
   "execution_count": null,
   "id": "98bd556e",
   "metadata": {},
   "outputs": [],
   "source": []
  },
  {
   "cell_type": "code",
   "execution_count": null,
   "id": "7ddb23d0",
   "metadata": {},
   "outputs": [],
   "source": [
    "# Выберите только те строки, в которых количество посещений (visits) больше 2."
   ]
  },
  {
   "cell_type": "code",
   "execution_count": 6,
   "id": "6e042232",
   "metadata": {},
   "outputs": [
    {
     "data": {
      "text/html": [
       "<div>\n",
       "<style scoped>\n",
       "    .dataframe tbody tr th:only-of-type {\n",
       "        vertical-align: middle;\n",
       "    }\n",
       "\n",
       "    .dataframe tbody tr th {\n",
       "        vertical-align: top;\n",
       "    }\n",
       "\n",
       "    .dataframe thead th {\n",
       "        text-align: right;\n",
       "    }\n",
       "</style>\n",
       "<table border=\"1\" class=\"dataframe\">\n",
       "  <thead>\n",
       "    <tr style=\"text-align: right;\">\n",
       "      <th></th>\n",
       "      <th>animal</th>\n",
       "      <th>age</th>\n",
       "      <th>visits</th>\n",
       "      <th>priority</th>\n",
       "    </tr>\n",
       "  </thead>\n",
       "  <tbody>\n",
       "    <tr>\n",
       "      <th>b</th>\n",
       "      <td>cat</td>\n",
       "      <td>3.0</td>\n",
       "      <td>3</td>\n",
       "      <td>yes</td>\n",
       "    </tr>\n",
       "    <tr>\n",
       "      <th>d</th>\n",
       "      <td>dog</td>\n",
       "      <td>NaN</td>\n",
       "      <td>3</td>\n",
       "      <td>yes</td>\n",
       "    </tr>\n",
       "    <tr>\n",
       "      <th>f</th>\n",
       "      <td>cat</td>\n",
       "      <td>2.0</td>\n",
       "      <td>3</td>\n",
       "      <td>no</td>\n",
       "    </tr>\n",
       "  </tbody>\n",
       "</table>\n",
       "</div>"
      ],
      "text/plain": [
       "  animal  age  visits priority\n",
       "b    cat  3.0       3      yes\n",
       "d    dog  NaN       3      yes\n",
       "f    cat  2.0       3       no"
      ]
     },
     "execution_count": 6,
     "metadata": {},
     "output_type": "execute_result"
    }
   ],
   "source": [
    "df[df['visits'] > 2]"
   ]
  },
  {
   "cell_type": "code",
   "execution_count": null,
   "id": "b524e7ce",
   "metadata": {},
   "outputs": [],
   "source": [
    "# Выберите строки датафрейма  в которых animal = cat, а age < 3."
   ]
  },
  {
   "cell_type": "code",
   "execution_count": 7,
   "id": "e4e644de",
   "metadata": {},
   "outputs": [
    {
     "data": {
      "text/html": [
       "<div>\n",
       "<style scoped>\n",
       "    .dataframe tbody tr th:only-of-type {\n",
       "        vertical-align: middle;\n",
       "    }\n",
       "\n",
       "    .dataframe tbody tr th {\n",
       "        vertical-align: top;\n",
       "    }\n",
       "\n",
       "    .dataframe thead th {\n",
       "        text-align: right;\n",
       "    }\n",
       "</style>\n",
       "<table border=\"1\" class=\"dataframe\">\n",
       "  <thead>\n",
       "    <tr style=\"text-align: right;\">\n",
       "      <th></th>\n",
       "      <th>animal</th>\n",
       "      <th>age</th>\n",
       "      <th>visits</th>\n",
       "      <th>priority</th>\n",
       "    </tr>\n",
       "  </thead>\n",
       "  <tbody>\n",
       "    <tr>\n",
       "      <th>a</th>\n",
       "      <td>cat</td>\n",
       "      <td>2.5</td>\n",
       "      <td>1</td>\n",
       "      <td>yes</td>\n",
       "    </tr>\n",
       "    <tr>\n",
       "      <th>f</th>\n",
       "      <td>cat</td>\n",
       "      <td>2.0</td>\n",
       "      <td>3</td>\n",
       "      <td>no</td>\n",
       "    </tr>\n",
       "  </tbody>\n",
       "</table>\n",
       "</div>"
      ],
      "text/plain": [
       "  animal  age  visits priority\n",
       "a    cat  2.5       1      yes\n",
       "f    cat  2.0       3       no"
      ]
     },
     "execution_count": 7,
     "metadata": {},
     "output_type": "execute_result"
    }
   ],
   "source": [
    "df[(df['animal'] == 'cat') & (df['age'] <3)]"
   ]
  },
  {
   "cell_type": "code",
   "execution_count": null,
   "id": "0e6b5a3e",
   "metadata": {},
   "outputs": [],
   "source": [
    "# В строке f замените значение в колонке age на 1.5"
   ]
  },
  {
   "cell_type": "code",
   "execution_count": 29,
   "id": "4bb72689",
   "metadata": {},
   "outputs": [
    {
     "data": {
      "text/plain": [
       "animal      cat\n",
       "age         1.5\n",
       "visits        3\n",
       "priority     no\n",
       "Name: f, dtype: object"
      ]
     },
     "execution_count": 29,
     "metadata": {},
     "output_type": "execute_result"
    }
   ],
   "source": [
    "df.loc['f'].replace(2, 1.5)"
   ]
  },
  {
   "cell_type": "code",
   "execution_count": 31,
   "id": "f185f90d",
   "metadata": {},
   "outputs": [],
   "source": [
    "df.loc['f'] = df.loc['f'].replace(2, 1.5)"
   ]
  },
  {
   "cell_type": "code",
   "execution_count": 34,
   "id": "a8605795",
   "metadata": {},
   "outputs": [
    {
     "data": {
      "text/html": [
       "<div>\n",
       "<style scoped>\n",
       "    .dataframe tbody tr th:only-of-type {\n",
       "        vertical-align: middle;\n",
       "    }\n",
       "\n",
       "    .dataframe tbody tr th {\n",
       "        vertical-align: top;\n",
       "    }\n",
       "\n",
       "    .dataframe thead th {\n",
       "        text-align: right;\n",
       "    }\n",
       "</style>\n",
       "<table border=\"1\" class=\"dataframe\">\n",
       "  <thead>\n",
       "    <tr style=\"text-align: right;\">\n",
       "      <th></th>\n",
       "      <th>animal</th>\n",
       "      <th>age</th>\n",
       "      <th>visits</th>\n",
       "      <th>priority</th>\n",
       "    </tr>\n",
       "  </thead>\n",
       "  <tbody>\n",
       "    <tr>\n",
       "      <th>a</th>\n",
       "      <td>cat</td>\n",
       "      <td>2.5</td>\n",
       "      <td>1</td>\n",
       "      <td>yes</td>\n",
       "    </tr>\n",
       "    <tr>\n",
       "      <th>b</th>\n",
       "      <td>cat</td>\n",
       "      <td>3.0</td>\n",
       "      <td>3</td>\n",
       "      <td>yes</td>\n",
       "    </tr>\n",
       "    <tr>\n",
       "      <th>c</th>\n",
       "      <td>snake</td>\n",
       "      <td>0.5</td>\n",
       "      <td>2</td>\n",
       "      <td>no</td>\n",
       "    </tr>\n",
       "    <tr>\n",
       "      <th>d</th>\n",
       "      <td>dog</td>\n",
       "      <td>NaN</td>\n",
       "      <td>3</td>\n",
       "      <td>yes</td>\n",
       "    </tr>\n",
       "    <tr>\n",
       "      <th>e</th>\n",
       "      <td>dog</td>\n",
       "      <td>5.0</td>\n",
       "      <td>2</td>\n",
       "      <td>no</td>\n",
       "    </tr>\n",
       "    <tr>\n",
       "      <th>f</th>\n",
       "      <td>cat</td>\n",
       "      <td>1.5</td>\n",
       "      <td>3</td>\n",
       "      <td>no</td>\n",
       "    </tr>\n",
       "    <tr>\n",
       "      <th>g</th>\n",
       "      <td>snake</td>\n",
       "      <td>4.5</td>\n",
       "      <td>1</td>\n",
       "      <td>no</td>\n",
       "    </tr>\n",
       "    <tr>\n",
       "      <th>h</th>\n",
       "      <td>cat</td>\n",
       "      <td>NaN</td>\n",
       "      <td>1</td>\n",
       "      <td>yes</td>\n",
       "    </tr>\n",
       "    <tr>\n",
       "      <th>i</th>\n",
       "      <td>dog</td>\n",
       "      <td>7.0</td>\n",
       "      <td>2</td>\n",
       "      <td>no</td>\n",
       "    </tr>\n",
       "    <tr>\n",
       "      <th>j</th>\n",
       "      <td>dog</td>\n",
       "      <td>3.0</td>\n",
       "      <td>1</td>\n",
       "      <td>no</td>\n",
       "    </tr>\n",
       "  </tbody>\n",
       "</table>\n",
       "</div>"
      ],
      "text/plain": [
       "  animal  age  visits priority\n",
       "a    cat  2.5       1      yes\n",
       "b    cat  3.0       3      yes\n",
       "c  snake  0.5       2       no\n",
       "d    dog  NaN       3      yes\n",
       "e    dog  5.0       2       no\n",
       "f    cat  1.5       3       no\n",
       "g  snake  4.5       1       no\n",
       "h    cat  NaN       1      yes\n",
       "i    dog  7.0       2       no\n",
       "j    dog  3.0       1       no"
      ]
     },
     "execution_count": 34,
     "metadata": {},
     "output_type": "execute_result"
    }
   ],
   "source": [
    "df"
   ]
  },
  {
   "cell_type": "code",
   "execution_count": null,
   "id": "8ecd30d0",
   "metadata": {},
   "outputs": [],
   "source": []
  },
  {
   "cell_type": "code",
   "execution_count": 33,
   "id": "776ee1e9",
   "metadata": {},
   "outputs": [],
   "source": [
    "# Посчитайте итоговое количество посещений (visits)"
   ]
  },
  {
   "cell_type": "code",
   "execution_count": 35,
   "id": "655b5289",
   "metadata": {},
   "outputs": [
    {
     "data": {
      "text/plain": [
       "19"
      ]
     },
     "execution_count": 35,
     "metadata": {},
     "output_type": "execute_result"
    }
   ],
   "source": [
    "df.visits.sum()"
   ]
  },
  {
   "cell_type": "code",
   "execution_count": 36,
   "id": "3ddf2fc1",
   "metadata": {},
   "outputs": [],
   "source": [
    "# Посчитайте средний возраст каждого вида животного (animal)"
   ]
  },
  {
   "cell_type": "code",
   "execution_count": 41,
   "id": "ab9a63d7",
   "metadata": {},
   "outputs": [
    {
     "data": {
      "text/plain": [
       "animal\n",
       "cat      2.5\n",
       "dog      5.0\n",
       "snake    2.5\n",
       "Name: age, dtype: float64"
      ]
     },
     "execution_count": 41,
     "metadata": {},
     "output_type": "execute_result"
    }
   ],
   "source": [
    "df.groupby('animal')['age'].agg('mean')"
   ]
  },
  {
   "cell_type": "code",
   "execution_count": null,
   "id": "01716961",
   "metadata": {},
   "outputs": [],
   "source": []
  },
  {
   "cell_type": "code",
   "execution_count": 43,
   "id": "4337878e",
   "metadata": {},
   "outputs": [],
   "source": [
    "# Отсортируйте датафрейм по столбцу age в порядке убывания, а затем по столбцу visits в порядке возрастания."
   ]
  },
  {
   "cell_type": "code",
   "execution_count": 74,
   "id": "aaae1474",
   "metadata": {},
   "outputs": [
    {
     "data": {
      "text/html": [
       "<div>\n",
       "<style scoped>\n",
       "    .dataframe tbody tr th:only-of-type {\n",
       "        vertical-align: middle;\n",
       "    }\n",
       "\n",
       "    .dataframe tbody tr th {\n",
       "        vertical-align: top;\n",
       "    }\n",
       "\n",
       "    .dataframe thead th {\n",
       "        text-align: right;\n",
       "    }\n",
       "</style>\n",
       "<table border=\"1\" class=\"dataframe\">\n",
       "  <thead>\n",
       "    <tr style=\"text-align: right;\">\n",
       "      <th></th>\n",
       "      <th>animal</th>\n",
       "      <th>age</th>\n",
       "      <th>visits</th>\n",
       "      <th>priority</th>\n",
       "    </tr>\n",
       "  </thead>\n",
       "  <tbody>\n",
       "    <tr>\n",
       "      <th>i</th>\n",
       "      <td>dog</td>\n",
       "      <td>7.0</td>\n",
       "      <td>2</td>\n",
       "      <td>no</td>\n",
       "    </tr>\n",
       "    <tr>\n",
       "      <th>e</th>\n",
       "      <td>dog</td>\n",
       "      <td>5.0</td>\n",
       "      <td>2</td>\n",
       "      <td>no</td>\n",
       "    </tr>\n",
       "    <tr>\n",
       "      <th>g</th>\n",
       "      <td>snake</td>\n",
       "      <td>4.5</td>\n",
       "      <td>1</td>\n",
       "      <td>no</td>\n",
       "    </tr>\n",
       "    <tr>\n",
       "      <th>j</th>\n",
       "      <td>dog</td>\n",
       "      <td>3.0</td>\n",
       "      <td>1</td>\n",
       "      <td>no</td>\n",
       "    </tr>\n",
       "    <tr>\n",
       "      <th>b</th>\n",
       "      <td>cat</td>\n",
       "      <td>3.0</td>\n",
       "      <td>3</td>\n",
       "      <td>yes</td>\n",
       "    </tr>\n",
       "    <tr>\n",
       "      <th>a</th>\n",
       "      <td>cat</td>\n",
       "      <td>2.5</td>\n",
       "      <td>1</td>\n",
       "      <td>yes</td>\n",
       "    </tr>\n",
       "    <tr>\n",
       "      <th>f</th>\n",
       "      <td>cat</td>\n",
       "      <td>2.0</td>\n",
       "      <td>3</td>\n",
       "      <td>no</td>\n",
       "    </tr>\n",
       "    <tr>\n",
       "      <th>c</th>\n",
       "      <td>snake</td>\n",
       "      <td>0.5</td>\n",
       "      <td>2</td>\n",
       "      <td>no</td>\n",
       "    </tr>\n",
       "    <tr>\n",
       "      <th>h</th>\n",
       "      <td>cat</td>\n",
       "      <td>NaN</td>\n",
       "      <td>1</td>\n",
       "      <td>yes</td>\n",
       "    </tr>\n",
       "    <tr>\n",
       "      <th>d</th>\n",
       "      <td>dog</td>\n",
       "      <td>NaN</td>\n",
       "      <td>3</td>\n",
       "      <td>yes</td>\n",
       "    </tr>\n",
       "  </tbody>\n",
       "</table>\n",
       "</div>"
      ],
      "text/plain": [
       "  animal  age  visits priority\n",
       "i    dog  7.0       2       no\n",
       "e    dog  5.0       2       no\n",
       "g  snake  4.5       1       no\n",
       "j    dog  3.0       1       no\n",
       "b    cat  3.0       3      yes\n",
       "a    cat  2.5       1      yes\n",
       "f    cat  2.0       3       no\n",
       "c  snake  0.5       2       no\n",
       "h    cat  NaN       1      yes\n",
       "d    dog  NaN       3      yes"
      ]
     },
     "execution_count": 74,
     "metadata": {},
     "output_type": "execute_result"
    }
   ],
   "source": [
    "df.sort_values(by = ['visits']).sort_values(by = ['age'], ascending = False)"
   ]
  },
  {
   "cell_type": "code",
   "execution_count": 59,
   "id": "f30fd536",
   "metadata": {},
   "outputs": [
    {
     "data": {
      "text/html": [
       "<div>\n",
       "<style scoped>\n",
       "    .dataframe tbody tr th:only-of-type {\n",
       "        vertical-align: middle;\n",
       "    }\n",
       "\n",
       "    .dataframe tbody tr th {\n",
       "        vertical-align: top;\n",
       "    }\n",
       "\n",
       "    .dataframe thead th {\n",
       "        text-align: right;\n",
       "    }\n",
       "</style>\n",
       "<table border=\"1\" class=\"dataframe\">\n",
       "  <thead>\n",
       "    <tr style=\"text-align: right;\">\n",
       "      <th></th>\n",
       "      <th>animal</th>\n",
       "      <th>age</th>\n",
       "      <th>visits</th>\n",
       "      <th>priority</th>\n",
       "    </tr>\n",
       "  </thead>\n",
       "  <tbody>\n",
       "    <tr>\n",
       "      <th>a</th>\n",
       "      <td>cat</td>\n",
       "      <td>2.5</td>\n",
       "      <td>1</td>\n",
       "      <td>yes</td>\n",
       "    </tr>\n",
       "    <tr>\n",
       "      <th>j</th>\n",
       "      <td>dog</td>\n",
       "      <td>3.0</td>\n",
       "      <td>1</td>\n",
       "      <td>no</td>\n",
       "    </tr>\n",
       "    <tr>\n",
       "      <th>g</th>\n",
       "      <td>snake</td>\n",
       "      <td>4.5</td>\n",
       "      <td>1</td>\n",
       "      <td>no</td>\n",
       "    </tr>\n",
       "    <tr>\n",
       "      <th>h</th>\n",
       "      <td>cat</td>\n",
       "      <td>NaN</td>\n",
       "      <td>1</td>\n",
       "      <td>yes</td>\n",
       "    </tr>\n",
       "    <tr>\n",
       "      <th>c</th>\n",
       "      <td>snake</td>\n",
       "      <td>0.5</td>\n",
       "      <td>2</td>\n",
       "      <td>no</td>\n",
       "    </tr>\n",
       "    <tr>\n",
       "      <th>e</th>\n",
       "      <td>dog</td>\n",
       "      <td>5.0</td>\n",
       "      <td>2</td>\n",
       "      <td>no</td>\n",
       "    </tr>\n",
       "    <tr>\n",
       "      <th>i</th>\n",
       "      <td>dog</td>\n",
       "      <td>7.0</td>\n",
       "      <td>2</td>\n",
       "      <td>no</td>\n",
       "    </tr>\n",
       "    <tr>\n",
       "      <th>f</th>\n",
       "      <td>cat</td>\n",
       "      <td>2.0</td>\n",
       "      <td>3</td>\n",
       "      <td>no</td>\n",
       "    </tr>\n",
       "    <tr>\n",
       "      <th>b</th>\n",
       "      <td>cat</td>\n",
       "      <td>3.0</td>\n",
       "      <td>3</td>\n",
       "      <td>yes</td>\n",
       "    </tr>\n",
       "    <tr>\n",
       "      <th>d</th>\n",
       "      <td>dog</td>\n",
       "      <td>NaN</td>\n",
       "      <td>3</td>\n",
       "      <td>yes</td>\n",
       "    </tr>\n",
       "  </tbody>\n",
       "</table>\n",
       "</div>"
      ],
      "text/plain": [
       "  animal  age  visits priority\n",
       "a    cat  2.5       1      yes\n",
       "j    dog  3.0       1       no\n",
       "g  snake  4.5       1       no\n",
       "h    cat  NaN       1      yes\n",
       "c  snake  0.5       2       no\n",
       "e    dog  5.0       2       no\n",
       "i    dog  7.0       2       no\n",
       "f    cat  2.0       3       no\n",
       "b    cat  3.0       3      yes\n",
       "d    dog  NaN       3      yes"
      ]
     },
     "execution_count": 59,
     "metadata": {},
     "output_type": "execute_result"
    }
   ],
   "source": [
    "df.sort_values(['visits','age'])"
   ]
  },
  {
   "cell_type": "code",
   "execution_count": null,
   "id": "f97b3fea",
   "metadata": {},
   "outputs": [],
   "source": []
  },
  {
   "cell_type": "code",
   "execution_count": 3,
   "id": "2d616a41",
   "metadata": {},
   "outputs": [],
   "source": [
    "# Столбец priority содержит строковые значения yes и no. Замените их на булевы True и False"
   ]
  },
  {
   "cell_type": "code",
   "execution_count": 6,
   "id": "0b047f85",
   "metadata": {},
   "outputs": [],
   "source": [
    "df['priority'] = np.where(df['priority'] == 'yes', True, False)"
   ]
  },
  {
   "cell_type": "code",
   "execution_count": 7,
   "id": "a5b20ca9",
   "metadata": {},
   "outputs": [
    {
     "data": {
      "text/html": [
       "<div>\n",
       "<style scoped>\n",
       "    .dataframe tbody tr th:only-of-type {\n",
       "        vertical-align: middle;\n",
       "    }\n",
       "\n",
       "    .dataframe tbody tr th {\n",
       "        vertical-align: top;\n",
       "    }\n",
       "\n",
       "    .dataframe thead th {\n",
       "        text-align: right;\n",
       "    }\n",
       "</style>\n",
       "<table border=\"1\" class=\"dataframe\">\n",
       "  <thead>\n",
       "    <tr style=\"text-align: right;\">\n",
       "      <th></th>\n",
       "      <th>animal</th>\n",
       "      <th>age</th>\n",
       "      <th>visits</th>\n",
       "      <th>priority</th>\n",
       "    </tr>\n",
       "  </thead>\n",
       "  <tbody>\n",
       "    <tr>\n",
       "      <th>a</th>\n",
       "      <td>cat</td>\n",
       "      <td>2.5</td>\n",
       "      <td>1</td>\n",
       "      <td>True</td>\n",
       "    </tr>\n",
       "    <tr>\n",
       "      <th>b</th>\n",
       "      <td>cat</td>\n",
       "      <td>3.0</td>\n",
       "      <td>3</td>\n",
       "      <td>True</td>\n",
       "    </tr>\n",
       "    <tr>\n",
       "      <th>c</th>\n",
       "      <td>snake</td>\n",
       "      <td>0.5</td>\n",
       "      <td>2</td>\n",
       "      <td>False</td>\n",
       "    </tr>\n",
       "    <tr>\n",
       "      <th>d</th>\n",
       "      <td>dog</td>\n",
       "      <td>NaN</td>\n",
       "      <td>3</td>\n",
       "      <td>True</td>\n",
       "    </tr>\n",
       "    <tr>\n",
       "      <th>e</th>\n",
       "      <td>dog</td>\n",
       "      <td>5.0</td>\n",
       "      <td>2</td>\n",
       "      <td>False</td>\n",
       "    </tr>\n",
       "    <tr>\n",
       "      <th>f</th>\n",
       "      <td>cat</td>\n",
       "      <td>2.0</td>\n",
       "      <td>3</td>\n",
       "      <td>False</td>\n",
       "    </tr>\n",
       "    <tr>\n",
       "      <th>g</th>\n",
       "      <td>snake</td>\n",
       "      <td>4.5</td>\n",
       "      <td>1</td>\n",
       "      <td>False</td>\n",
       "    </tr>\n",
       "    <tr>\n",
       "      <th>h</th>\n",
       "      <td>cat</td>\n",
       "      <td>NaN</td>\n",
       "      <td>1</td>\n",
       "      <td>True</td>\n",
       "    </tr>\n",
       "    <tr>\n",
       "      <th>i</th>\n",
       "      <td>dog</td>\n",
       "      <td>7.0</td>\n",
       "      <td>2</td>\n",
       "      <td>False</td>\n",
       "    </tr>\n",
       "    <tr>\n",
       "      <th>j</th>\n",
       "      <td>dog</td>\n",
       "      <td>3.0</td>\n",
       "      <td>1</td>\n",
       "      <td>False</td>\n",
       "    </tr>\n",
       "  </tbody>\n",
       "</table>\n",
       "</div>"
      ],
      "text/plain": [
       "  animal  age  visits  priority\n",
       "a    cat  2.5       1      True\n",
       "b    cat  3.0       3      True\n",
       "c  snake  0.5       2     False\n",
       "d    dog  NaN       3      True\n",
       "e    dog  5.0       2     False\n",
       "f    cat  2.0       3     False\n",
       "g  snake  4.5       1     False\n",
       "h    cat  NaN       1      True\n",
       "i    dog  7.0       2     False\n",
       "j    dog  3.0       1     False"
      ]
     },
     "execution_count": 7,
     "metadata": {},
     "output_type": "execute_result"
    }
   ],
   "source": [
    "df"
   ]
  },
  {
   "cell_type": "code",
   "execution_count": null,
   "id": "eff737dd",
   "metadata": {},
   "outputs": [],
   "source": []
  },
  {
   "cell_type": "code",
   "execution_count": 19,
   "id": "fdbb1321",
   "metadata": {},
   "outputs": [],
   "source": [
    "# Определите средний возраст для каждого типа животного и количества посещений.\n",
    "\n",
    "# (Другими словами, постройте сводную таблицу, где каждая строка — это тип животного,\n",
    "#  каждый столбец — количество посещений, а значения — средний возраст).\n",
    "\n",
    "df1 = df.groupby(['animal', 'visits'])['age'].agg('mean')"
   ]
  },
  {
   "cell_type": "code",
   "execution_count": 24,
   "id": "6b73bf29",
   "metadata": {},
   "outputs": [],
   "source": [
    "df2 = df1.to_frame()"
   ]
  },
  {
   "cell_type": "code",
   "execution_count": 28,
   "id": "f9f8fdb1",
   "metadata": {},
   "outputs": [],
   "source": [
    "df3 = df2.reset_index()"
   ]
  },
  {
   "cell_type": "code",
   "execution_count": 31,
   "id": "c92493b8",
   "metadata": {},
   "outputs": [
    {
     "data": {
      "text/html": [
       "<div>\n",
       "<style scoped>\n",
       "    .dataframe tbody tr th:only-of-type {\n",
       "        vertical-align: middle;\n",
       "    }\n",
       "\n",
       "    .dataframe tbody tr th {\n",
       "        vertical-align: top;\n",
       "    }\n",
       "\n",
       "    .dataframe thead th {\n",
       "        text-align: right;\n",
       "    }\n",
       "</style>\n",
       "<table border=\"1\" class=\"dataframe\">\n",
       "  <thead>\n",
       "    <tr style=\"text-align: right;\">\n",
       "      <th></th>\n",
       "      <th>animal</th>\n",
       "      <th>visits</th>\n",
       "      <th>age</th>\n",
       "    </tr>\n",
       "  </thead>\n",
       "  <tbody>\n",
       "    <tr>\n",
       "      <th>0</th>\n",
       "      <td>cat</td>\n",
       "      <td>1</td>\n",
       "      <td>2.5</td>\n",
       "    </tr>\n",
       "    <tr>\n",
       "      <th>1</th>\n",
       "      <td>cat</td>\n",
       "      <td>3</td>\n",
       "      <td>2.5</td>\n",
       "    </tr>\n",
       "    <tr>\n",
       "      <th>2</th>\n",
       "      <td>dog</td>\n",
       "      <td>1</td>\n",
       "      <td>3.0</td>\n",
       "    </tr>\n",
       "    <tr>\n",
       "      <th>3</th>\n",
       "      <td>dog</td>\n",
       "      <td>2</td>\n",
       "      <td>6.0</td>\n",
       "    </tr>\n",
       "    <tr>\n",
       "      <th>4</th>\n",
       "      <td>dog</td>\n",
       "      <td>3</td>\n",
       "      <td>NaN</td>\n",
       "    </tr>\n",
       "    <tr>\n",
       "      <th>5</th>\n",
       "      <td>snake</td>\n",
       "      <td>1</td>\n",
       "      <td>4.5</td>\n",
       "    </tr>\n",
       "    <tr>\n",
       "      <th>6</th>\n",
       "      <td>snake</td>\n",
       "      <td>2</td>\n",
       "      <td>0.5</td>\n",
       "    </tr>\n",
       "  </tbody>\n",
       "</table>\n",
       "</div>"
      ],
      "text/plain": [
       "  animal  visits  age\n",
       "0    cat       1  2.5\n",
       "1    cat       3  2.5\n",
       "2    dog       1  3.0\n",
       "3    dog       2  6.0\n",
       "4    dog       3  NaN\n",
       "5  snake       1  4.5\n",
       "6  snake       2  0.5"
      ]
     },
     "execution_count": 31,
     "metadata": {},
     "output_type": "execute_result"
    }
   ],
   "source": [
    "df3"
   ]
  },
  {
   "cell_type": "code",
   "execution_count": 32,
   "id": "d8a2ecb4",
   "metadata": {},
   "outputs": [
    {
     "data": {
      "text/html": [
       "<div>\n",
       "<style scoped>\n",
       "    .dataframe tbody tr th:only-of-type {\n",
       "        vertical-align: middle;\n",
       "    }\n",
       "\n",
       "    .dataframe tbody tr th {\n",
       "        vertical-align: top;\n",
       "    }\n",
       "\n",
       "    .dataframe thead th {\n",
       "        text-align: right;\n",
       "    }\n",
       "</style>\n",
       "<table border=\"1\" class=\"dataframe\">\n",
       "  <thead>\n",
       "    <tr style=\"text-align: right;\">\n",
       "      <th>visits</th>\n",
       "      <th>1</th>\n",
       "      <th>2</th>\n",
       "      <th>3</th>\n",
       "    </tr>\n",
       "    <tr>\n",
       "      <th>animal</th>\n",
       "      <th></th>\n",
       "      <th></th>\n",
       "      <th></th>\n",
       "    </tr>\n",
       "  </thead>\n",
       "  <tbody>\n",
       "    <tr>\n",
       "      <th>cat</th>\n",
       "      <td>2.5</td>\n",
       "      <td>NaN</td>\n",
       "      <td>2.5</td>\n",
       "    </tr>\n",
       "    <tr>\n",
       "      <th>dog</th>\n",
       "      <td>3.0</td>\n",
       "      <td>6.0</td>\n",
       "      <td>NaN</td>\n",
       "    </tr>\n",
       "    <tr>\n",
       "      <th>snake</th>\n",
       "      <td>4.5</td>\n",
       "      <td>0.5</td>\n",
       "      <td>NaN</td>\n",
       "    </tr>\n",
       "  </tbody>\n",
       "</table>\n",
       "</div>"
      ],
      "text/plain": [
       "visits    1    2    3\n",
       "animal               \n",
       "cat     2.5  NaN  2.5\n",
       "dog     3.0  6.0  NaN\n",
       "snake   4.5  0.5  NaN"
      ]
     },
     "execution_count": 32,
     "metadata": {},
     "output_type": "execute_result"
    }
   ],
   "source": [
    "df3.pivot(index='animal', columns='visits', values='age')"
   ]
  },
  {
   "cell_type": "code",
   "execution_count": null,
   "id": "d87c278b",
   "metadata": {},
   "outputs": [],
   "source": []
  },
  {
   "cell_type": "markdown",
   "id": "30549a56",
   "metadata": {},
   "source": [
    "# Задача № 34"
   ]
  },
  {
   "cell_type": "code",
   "execution_count": 33,
   "id": "deb3b291",
   "metadata": {},
   "outputs": [],
   "source": [
    "# Вычтите среднее значение строки из каждого элемента в строке.\n",
    "\n",
    "import pandas as pd\n",
    "import numpy as np\n",
    "\n",
    "df = pd.DataFrame([[0.020448, 0.456925, 0.992258], [0.743399, 0.555486, 0.089364], [0.094699, 0.283184, 0.216221]])"
   ]
  },
  {
   "cell_type": "code",
   "execution_count": 51,
   "id": "65a9acc6",
   "metadata": {},
   "outputs": [
    {
     "data": {
      "text/html": [
       "<div>\n",
       "<style scoped>\n",
       "    .dataframe tbody tr th:only-of-type {\n",
       "        vertical-align: middle;\n",
       "    }\n",
       "\n",
       "    .dataframe tbody tr th {\n",
       "        vertical-align: top;\n",
       "    }\n",
       "\n",
       "    .dataframe thead th {\n",
       "        text-align: right;\n",
       "    }\n",
       "</style>\n",
       "<table border=\"1\" class=\"dataframe\">\n",
       "  <thead>\n",
       "    <tr style=\"text-align: right;\">\n",
       "      <th></th>\n",
       "      <th>0</th>\n",
       "      <th>1</th>\n",
       "      <th>2</th>\n",
       "    </tr>\n",
       "  </thead>\n",
       "  <tbody>\n",
       "    <tr>\n",
       "      <th>0</th>\n",
       "      <td>0.020448</td>\n",
       "      <td>0.456925</td>\n",
       "      <td>0.992258</td>\n",
       "    </tr>\n",
       "    <tr>\n",
       "      <th>1</th>\n",
       "      <td>0.743399</td>\n",
       "      <td>0.555486</td>\n",
       "      <td>0.089364</td>\n",
       "    </tr>\n",
       "    <tr>\n",
       "      <th>2</th>\n",
       "      <td>0.094699</td>\n",
       "      <td>0.283184</td>\n",
       "      <td>0.216221</td>\n",
       "    </tr>\n",
       "  </tbody>\n",
       "</table>\n",
       "</div>"
      ],
      "text/plain": [
       "          0         1         2\n",
       "0  0.020448  0.456925  0.992258\n",
       "1  0.743399  0.555486  0.089364\n",
       "2  0.094699  0.283184  0.216221"
      ]
     },
     "execution_count": 51,
     "metadata": {},
     "output_type": "execute_result"
    }
   ],
   "source": [
    "df"
   ]
  },
  {
   "cell_type": "code",
   "execution_count": 40,
   "id": "8008f990",
   "metadata": {},
   "outputs": [
    {
     "data": {
      "text/plain": [
       "0    0.489877\n",
       "1    0.462750\n",
       "2    0.198035\n",
       "dtype: float64"
      ]
     },
     "execution_count": 40,
     "metadata": {},
     "output_type": "execute_result"
    }
   ],
   "source": [
    "df.mean(axis = 1)"
   ]
  },
  {
   "cell_type": "code",
   "execution_count": 41,
   "id": "abf4db8a",
   "metadata": {},
   "outputs": [
    {
     "data": {
      "text/html": [
       "<div>\n",
       "<style scoped>\n",
       "    .dataframe tbody tr th:only-of-type {\n",
       "        vertical-align: middle;\n",
       "    }\n",
       "\n",
       "    .dataframe tbody tr th {\n",
       "        vertical-align: top;\n",
       "    }\n",
       "\n",
       "    .dataframe thead th {\n",
       "        text-align: right;\n",
       "    }\n",
       "</style>\n",
       "<table border=\"1\" class=\"dataframe\">\n",
       "  <thead>\n",
       "    <tr style=\"text-align: right;\">\n",
       "      <th></th>\n",
       "      <th>0</th>\n",
       "      <th>1</th>\n",
       "      <th>2</th>\n",
       "    </tr>\n",
       "  </thead>\n",
       "  <tbody>\n",
       "    <tr>\n",
       "      <th>0</th>\n",
       "      <td>-0.469429</td>\n",
       "      <td>-0.005825</td>\n",
       "      <td>0.794223</td>\n",
       "    </tr>\n",
       "    <tr>\n",
       "      <th>1</th>\n",
       "      <td>0.253522</td>\n",
       "      <td>0.092736</td>\n",
       "      <td>-0.108671</td>\n",
       "    </tr>\n",
       "    <tr>\n",
       "      <th>2</th>\n",
       "      <td>-0.395178</td>\n",
       "      <td>-0.179566</td>\n",
       "      <td>0.018186</td>\n",
       "    </tr>\n",
       "  </tbody>\n",
       "</table>\n",
       "</div>"
      ],
      "text/plain": [
       "          0         1         2\n",
       "0 -0.469429 -0.005825  0.794223\n",
       "1  0.253522  0.092736 -0.108671\n",
       "2 -0.395178 -0.179566  0.018186"
      ]
     },
     "execution_count": 41,
     "metadata": {},
     "output_type": "execute_result"
    }
   ],
   "source": [
    "df - df.mean(axis = 1)"
   ]
  },
  {
   "cell_type": "code",
   "execution_count": null,
   "id": "4ac87af5",
   "metadata": {},
   "outputs": [],
   "source": [
    "0 -0.469429 -0.032952  0.502381\n",
    "1  0.280649  0.092736 -0.373386\n",
    "2 -0.103336  0.085149  0.018186"
   ]
  },
  {
   "cell_type": "code",
   "execution_count": 48,
   "id": "ef84d7e8",
   "metadata": {},
   "outputs": [
    {
     "data": {
      "text/plain": [
       "0   -0.469429\n",
       "1   -0.032952\n",
       "2    0.502381\n",
       "Name: 0, dtype: float64"
      ]
     },
     "execution_count": 48,
     "metadata": {},
     "output_type": "execute_result"
    }
   ],
   "source": [
    "df.loc[0] - df.loc[0].mean()"
   ]
  },
  {
   "cell_type": "code",
   "execution_count": 60,
   "id": "98700138",
   "metadata": {},
   "outputs": [
    {
     "data": {
      "text/html": [
       "<div>\n",
       "<style scoped>\n",
       "    .dataframe tbody tr th:only-of-type {\n",
       "        vertical-align: middle;\n",
       "    }\n",
       "\n",
       "    .dataframe tbody tr th {\n",
       "        vertical-align: top;\n",
       "    }\n",
       "\n",
       "    .dataframe thead th {\n",
       "        text-align: right;\n",
       "    }\n",
       "</style>\n",
       "<table border=\"1\" class=\"dataframe\">\n",
       "  <thead>\n",
       "    <tr style=\"text-align: right;\">\n",
       "      <th></th>\n",
       "      <th>0</th>\n",
       "      <th>1</th>\n",
       "      <th>2</th>\n",
       "    </tr>\n",
       "  </thead>\n",
       "  <tbody>\n",
       "    <tr>\n",
       "      <th>0</th>\n",
       "      <td>0.020448</td>\n",
       "      <td>0.456925</td>\n",
       "      <td>0.992258</td>\n",
       "    </tr>\n",
       "    <tr>\n",
       "      <th>1</th>\n",
       "      <td>0.743399</td>\n",
       "      <td>0.555486</td>\n",
       "      <td>0.089364</td>\n",
       "    </tr>\n",
       "    <tr>\n",
       "      <th>2</th>\n",
       "      <td>0.094699</td>\n",
       "      <td>0.283184</td>\n",
       "      <td>0.216221</td>\n",
       "    </tr>\n",
       "  </tbody>\n",
       "</table>\n",
       "</div>"
      ],
      "text/plain": [
       "          0         1         2\n",
       "0  0.020448  0.456925  0.992258\n",
       "1  0.743399  0.555486  0.089364\n",
       "2  0.094699  0.283184  0.216221"
      ]
     },
     "execution_count": 60,
     "metadata": {},
     "output_type": "execute_result"
    }
   ],
   "source": [
    "df.loc[[0,1,2]]"
   ]
  },
  {
   "cell_type": "code",
   "execution_count": 61,
   "id": "bf21bec0",
   "metadata": {},
   "outputs": [
    {
     "data": {
      "text/html": [
       "<div>\n",
       "<style scoped>\n",
       "    .dataframe tbody tr th:only-of-type {\n",
       "        vertical-align: middle;\n",
       "    }\n",
       "\n",
       "    .dataframe tbody tr th {\n",
       "        vertical-align: top;\n",
       "    }\n",
       "\n",
       "    .dataframe thead th {\n",
       "        text-align: right;\n",
       "    }\n",
       "</style>\n",
       "<table border=\"1\" class=\"dataframe\">\n",
       "  <thead>\n",
       "    <tr style=\"text-align: right;\">\n",
       "      <th></th>\n",
       "      <th>0</th>\n",
       "      <th>1</th>\n",
       "      <th>2</th>\n",
       "    </tr>\n",
       "  </thead>\n",
       "  <tbody>\n",
       "    <tr>\n",
       "      <th>0</th>\n",
       "      <td>-0.265734</td>\n",
       "      <td>0.025060</td>\n",
       "      <td>0.559644</td>\n",
       "    </tr>\n",
       "    <tr>\n",
       "      <th>1</th>\n",
       "      <td>0.457217</td>\n",
       "      <td>0.123621</td>\n",
       "      <td>-0.343250</td>\n",
       "    </tr>\n",
       "    <tr>\n",
       "      <th>2</th>\n",
       "      <td>-0.191483</td>\n",
       "      <td>-0.148681</td>\n",
       "      <td>-0.216393</td>\n",
       "    </tr>\n",
       "  </tbody>\n",
       "</table>\n",
       "</div>"
      ],
      "text/plain": [
       "          0         1         2\n",
       "0 -0.265734  0.025060  0.559644\n",
       "1  0.457217  0.123621 -0.343250\n",
       "2 -0.191483 -0.148681 -0.216393"
      ]
     },
     "execution_count": 61,
     "metadata": {},
     "output_type": "execute_result"
    }
   ],
   "source": [
    "df.loc[[0,1,2]] - df.loc[[0,1,2]].mean()"
   ]
  },
  {
   "cell_type": "code",
   "execution_count": 64,
   "id": "5f89dc41",
   "metadata": {},
   "outputs": [
    {
     "data": {
      "text/html": [
       "<div>\n",
       "<style scoped>\n",
       "    .dataframe tbody tr th:only-of-type {\n",
       "        vertical-align: middle;\n",
       "    }\n",
       "\n",
       "    .dataframe tbody tr th {\n",
       "        vertical-align: top;\n",
       "    }\n",
       "\n",
       "    .dataframe thead th {\n",
       "        text-align: right;\n",
       "    }\n",
       "</style>\n",
       "<table border=\"1\" class=\"dataframe\">\n",
       "  <thead>\n",
       "    <tr style=\"text-align: right;\">\n",
       "      <th></th>\n",
       "      <th>0</th>\n",
       "      <th>1</th>\n",
       "      <th>2</th>\n",
       "    </tr>\n",
       "  </thead>\n",
       "  <tbody>\n",
       "    <tr>\n",
       "      <th>0</th>\n",
       "      <td>-0.469429</td>\n",
       "      <td>-0.032952</td>\n",
       "      <td>0.502381</td>\n",
       "    </tr>\n",
       "    <tr>\n",
       "      <th>1</th>\n",
       "      <td>0.280649</td>\n",
       "      <td>0.092736</td>\n",
       "      <td>-0.373386</td>\n",
       "    </tr>\n",
       "    <tr>\n",
       "      <th>2</th>\n",
       "      <td>-0.103336</td>\n",
       "      <td>0.085149</td>\n",
       "      <td>0.018186</td>\n",
       "    </tr>\n",
       "  </tbody>\n",
       "</table>\n",
       "</div>"
      ],
      "text/plain": [
       "          0         1         2\n",
       "0 -0.469429 -0.032952  0.502381\n",
       "1  0.280649  0.092736 -0.373386\n",
       "2 -0.103336  0.085149  0.018186"
      ]
     },
     "execution_count": 64,
     "metadata": {},
     "output_type": "execute_result"
    }
   ],
   "source": [
    "df.apply(lambda x: x - x.mean(), axis = 1)"
   ]
  },
  {
   "cell_type": "code",
   "execution_count": null,
   "id": "d904be73",
   "metadata": {},
   "outputs": [],
   "source": []
  },
  {
   "cell_type": "markdown",
   "id": "e2ebe1da",
   "metadata": {},
   "source": [
    "# Задача № 35"
   ]
  },
  {
   "cell_type": "code",
   "execution_count": null,
   "id": "080499f2",
   "metadata": {},
   "outputs": [],
   "source": [
    "# В каком столбце чисел сумма наименьшая? Выведите на экран название этого столбца."
   ]
  },
  {
   "cell_type": "code",
   "execution_count": 2,
   "id": "aaee56d1",
   "metadata": {},
   "outputs": [],
   "source": [
    "df = pd.DataFrame([[0.020448, 0.456925, 0.992258], [0.743399, 0.555486, 0.089364], [0.094699, 0.283184, 0.216221]], columns=list('abc'))"
   ]
  },
  {
   "cell_type": "code",
   "execution_count": 51,
   "id": "157189a6",
   "metadata": {},
   "outputs": [
    {
     "data": {
      "text/html": [
       "<div>\n",
       "<style scoped>\n",
       "    .dataframe tbody tr th:only-of-type {\n",
       "        vertical-align: middle;\n",
       "    }\n",
       "\n",
       "    .dataframe tbody tr th {\n",
       "        vertical-align: top;\n",
       "    }\n",
       "\n",
       "    .dataframe thead th {\n",
       "        text-align: right;\n",
       "    }\n",
       "</style>\n",
       "<table border=\"1\" class=\"dataframe\">\n",
       "  <thead>\n",
       "    <tr style=\"text-align: right;\">\n",
       "      <th></th>\n",
       "      <th>a</th>\n",
       "      <th>b</th>\n",
       "      <th>c</th>\n",
       "    </tr>\n",
       "  </thead>\n",
       "  <tbody>\n",
       "    <tr>\n",
       "      <th>0</th>\n",
       "      <td>0.020448</td>\n",
       "      <td>0.456925</td>\n",
       "      <td>0.992258</td>\n",
       "    </tr>\n",
       "    <tr>\n",
       "      <th>1</th>\n",
       "      <td>0.743399</td>\n",
       "      <td>0.555486</td>\n",
       "      <td>0.089364</td>\n",
       "    </tr>\n",
       "    <tr>\n",
       "      <th>2</th>\n",
       "      <td>0.094699</td>\n",
       "      <td>0.283184</td>\n",
       "      <td>0.216221</td>\n",
       "    </tr>\n",
       "  </tbody>\n",
       "</table>\n",
       "</div>"
      ],
      "text/plain": [
       "          a         b         c\n",
       "0  0.020448  0.456925  0.992258\n",
       "1  0.743399  0.555486  0.089364\n",
       "2  0.094699  0.283184  0.216221"
      ]
     },
     "execution_count": 51,
     "metadata": {},
     "output_type": "execute_result"
    }
   ],
   "source": [
    "df"
   ]
  },
  {
   "cell_type": "code",
   "execution_count": 52,
   "id": "33916b37",
   "metadata": {},
   "outputs": [
    {
     "data": {
      "text/plain": [
       "0.858546"
      ]
     },
     "execution_count": 52,
     "metadata": {},
     "output_type": "execute_result"
    }
   ],
   "source": [
    "df.sum().min()"
   ]
  },
  {
   "cell_type": "code",
   "execution_count": 53,
   "id": "ffeb68bb",
   "metadata": {},
   "outputs": [
    {
     "data": {
      "text/plain": [
       "Index(['a', 'b', 'c'], dtype='object')"
      ]
     },
     "execution_count": 53,
     "metadata": {},
     "output_type": "execute_result"
    }
   ],
   "source": [
    "df.columns"
   ]
  },
  {
   "cell_type": "code",
   "execution_count": 56,
   "id": "37441ac8",
   "metadata": {},
   "outputs": [],
   "source": [
    "ans = df.columns[df.sum() == df.sum().min()]"
   ]
  },
  {
   "cell_type": "code",
   "execution_count": 63,
   "id": "67a1dedb",
   "metadata": {},
   "outputs": [
    {
     "data": {
      "text/plain": [
       "Index(['a'], dtype='object')"
      ]
     },
     "execution_count": 63,
     "metadata": {},
     "output_type": "execute_result"
    }
   ],
   "source": [
    "ans"
   ]
  },
  {
   "cell_type": "code",
   "execution_count": 70,
   "id": "5c5dc511",
   "metadata": {},
   "outputs": [
    {
     "data": {
      "text/plain": [
       "'a'"
      ]
     },
     "execution_count": 70,
     "metadata": {},
     "output_type": "execute_result"
    }
   ],
   "source": [
    "ans.item()"
   ]
  },
  {
   "cell_type": "code",
   "execution_count": null,
   "id": "c70e5d82",
   "metadata": {},
   "outputs": [],
   "source": []
  },
  {
   "cell_type": "code",
   "execution_count": 87,
   "id": "c3af0525",
   "metadata": {},
   "outputs": [],
   "source": [
    "# Как подсчитать, сколько уникальных строк имеет датафрейм (т. е. игнорировать все повторяющиеся строки)?\n",
    "\n",
    "df = pd.DataFrame([[0.020448, 0.456925, 0.992258],\n",
    "                   [0.743399, 0.555486, 0.089364],\n",
    "                   [0.020448, 0.456925, 0.992258],\n",
    "                   [0.094699, 0.283184, 0.216221]],\n",
    "                  columns=list('abc'))"
   ]
  },
  {
   "cell_type": "code",
   "execution_count": 88,
   "id": "4ba63278",
   "metadata": {},
   "outputs": [
    {
     "data": {
      "text/html": [
       "<div>\n",
       "<style scoped>\n",
       "    .dataframe tbody tr th:only-of-type {\n",
       "        vertical-align: middle;\n",
       "    }\n",
       "\n",
       "    .dataframe tbody tr th {\n",
       "        vertical-align: top;\n",
       "    }\n",
       "\n",
       "    .dataframe thead th {\n",
       "        text-align: right;\n",
       "    }\n",
       "</style>\n",
       "<table border=\"1\" class=\"dataframe\">\n",
       "  <thead>\n",
       "    <tr style=\"text-align: right;\">\n",
       "      <th></th>\n",
       "      <th>a</th>\n",
       "      <th>b</th>\n",
       "      <th>c</th>\n",
       "    </tr>\n",
       "  </thead>\n",
       "  <tbody>\n",
       "    <tr>\n",
       "      <th>0</th>\n",
       "      <td>0.020448</td>\n",
       "      <td>0.456925</td>\n",
       "      <td>0.992258</td>\n",
       "    </tr>\n",
       "    <tr>\n",
       "      <th>1</th>\n",
       "      <td>0.743399</td>\n",
       "      <td>0.555486</td>\n",
       "      <td>0.089364</td>\n",
       "    </tr>\n",
       "    <tr>\n",
       "      <th>2</th>\n",
       "      <td>0.020448</td>\n",
       "      <td>0.456925</td>\n",
       "      <td>0.992258</td>\n",
       "    </tr>\n",
       "    <tr>\n",
       "      <th>3</th>\n",
       "      <td>0.094699</td>\n",
       "      <td>0.283184</td>\n",
       "      <td>0.216221</td>\n",
       "    </tr>\n",
       "  </tbody>\n",
       "</table>\n",
       "</div>"
      ],
      "text/plain": [
       "          a         b         c\n",
       "0  0.020448  0.456925  0.992258\n",
       "1  0.743399  0.555486  0.089364\n",
       "2  0.020448  0.456925  0.992258\n",
       "3  0.094699  0.283184  0.216221"
      ]
     },
     "execution_count": 88,
     "metadata": {},
     "output_type": "execute_result"
    }
   ],
   "source": [
    "df"
   ]
  },
  {
   "cell_type": "code",
   "execution_count": 103,
   "id": "ffa0516a",
   "metadata": {},
   "outputs": [
    {
     "data": {
      "text/plain": [
       "2"
      ]
     },
     "execution_count": 103,
     "metadata": {},
     "output_type": "execute_result"
    }
   ],
   "source": [
    "df[df.duplicated(keep = False)].shape[0]"
   ]
  },
  {
   "cell_type": "code",
   "execution_count": null,
   "id": "588c3af5",
   "metadata": {},
   "outputs": [],
   "source": []
  },
  {
   "cell_type": "markdown",
   "id": "1669052a",
   "metadata": {},
   "source": [
    "# Задача № 36"
   ]
  },
  {
   "cell_type": "code",
   "execution_count": 106,
   "id": "acecba8c",
   "metadata": {},
   "outputs": [],
   "source": [
    "# Имеется датафрейм состоящий из 10 столбцов чисел с плавающей запятой. \n",
    "# Ровно 5 записей в каждой строке являются значениями NaN. \n",
    "# Для каждой строки датафрейма найдите столбец, содержащий третье значение NaN."
   ]
  },
  {
   "cell_type": "code",
   "execution_count": 2,
   "id": "0e47f41c",
   "metadata": {},
   "outputs": [],
   "source": [
    "nan = np.nan\n",
    "\n",
    "data = [[0.04,  nan,  nan, 0.25,  nan, 0.43, 0.71, 0.51,  nan,  nan],\n",
    "        [ nan,  nan,  nan, 0.04, 0.76,  nan,  nan, 0.67, 0.76, 0.16],\n",
    "        [ nan,  nan, 0.5 ,  nan, 0.31, 0.4 ,  nan,  nan, 0.24, 0.01],\n",
    "        [0.49,  nan,  nan, 0.62, 0.73, 0.26, 0.85,  nan,  nan,  nan],\n",
    "        [ nan,  nan, 0.41,  nan, 0.05,  nan, 0.61,  nan, 0.48, 0.68]]\n",
    "\n",
    "columns = list('abcdefghij')\n",
    "\n",
    "df = pd.DataFrame(data, columns=columns)"
   ]
  },
  {
   "cell_type": "code",
   "execution_count": 7,
   "id": "b72d0cf8",
   "metadata": {},
   "outputs": [
    {
     "data": {
      "text/html": [
       "<div>\n",
       "<style scoped>\n",
       "    .dataframe tbody tr th:only-of-type {\n",
       "        vertical-align: middle;\n",
       "    }\n",
       "\n",
       "    .dataframe tbody tr th {\n",
       "        vertical-align: top;\n",
       "    }\n",
       "\n",
       "    .dataframe thead th {\n",
       "        text-align: right;\n",
       "    }\n",
       "</style>\n",
       "<table border=\"1\" class=\"dataframe\">\n",
       "  <thead>\n",
       "    <tr style=\"text-align: right;\">\n",
       "      <th></th>\n",
       "      <th>a</th>\n",
       "      <th>b</th>\n",
       "      <th>c</th>\n",
       "      <th>d</th>\n",
       "      <th>e</th>\n",
       "      <th>f</th>\n",
       "      <th>g</th>\n",
       "      <th>h</th>\n",
       "      <th>i</th>\n",
       "      <th>j</th>\n",
       "    </tr>\n",
       "  </thead>\n",
       "  <tbody>\n",
       "    <tr>\n",
       "      <th>0</th>\n",
       "      <td>0.04</td>\n",
       "      <td>NaN</td>\n",
       "      <td>NaN</td>\n",
       "      <td>0.25</td>\n",
       "      <td>NaN</td>\n",
       "      <td>0.43</td>\n",
       "      <td>0.71</td>\n",
       "      <td>0.51</td>\n",
       "      <td>NaN</td>\n",
       "      <td>NaN</td>\n",
       "    </tr>\n",
       "    <tr>\n",
       "      <th>1</th>\n",
       "      <td>NaN</td>\n",
       "      <td>NaN</td>\n",
       "      <td>NaN</td>\n",
       "      <td>0.04</td>\n",
       "      <td>0.76</td>\n",
       "      <td>NaN</td>\n",
       "      <td>NaN</td>\n",
       "      <td>0.67</td>\n",
       "      <td>0.76</td>\n",
       "      <td>0.16</td>\n",
       "    </tr>\n",
       "    <tr>\n",
       "      <th>2</th>\n",
       "      <td>NaN</td>\n",
       "      <td>NaN</td>\n",
       "      <td>0.50</td>\n",
       "      <td>NaN</td>\n",
       "      <td>0.31</td>\n",
       "      <td>0.40</td>\n",
       "      <td>NaN</td>\n",
       "      <td>NaN</td>\n",
       "      <td>0.24</td>\n",
       "      <td>0.01</td>\n",
       "    </tr>\n",
       "    <tr>\n",
       "      <th>3</th>\n",
       "      <td>0.49</td>\n",
       "      <td>NaN</td>\n",
       "      <td>NaN</td>\n",
       "      <td>0.62</td>\n",
       "      <td>0.73</td>\n",
       "      <td>0.26</td>\n",
       "      <td>0.85</td>\n",
       "      <td>NaN</td>\n",
       "      <td>NaN</td>\n",
       "      <td>NaN</td>\n",
       "    </tr>\n",
       "    <tr>\n",
       "      <th>4</th>\n",
       "      <td>NaN</td>\n",
       "      <td>NaN</td>\n",
       "      <td>0.41</td>\n",
       "      <td>NaN</td>\n",
       "      <td>0.05</td>\n",
       "      <td>NaN</td>\n",
       "      <td>0.61</td>\n",
       "      <td>NaN</td>\n",
       "      <td>0.48</td>\n",
       "      <td>0.68</td>\n",
       "    </tr>\n",
       "  </tbody>\n",
       "</table>\n",
       "</div>"
      ],
      "text/plain": [
       "      a   b     c     d     e     f     g     h     i     j\n",
       "0  0.04 NaN   NaN  0.25   NaN  0.43  0.71  0.51   NaN   NaN\n",
       "1   NaN NaN   NaN  0.04  0.76   NaN   NaN  0.67  0.76  0.16\n",
       "2   NaN NaN  0.50   NaN  0.31  0.40   NaN   NaN  0.24  0.01\n",
       "3  0.49 NaN   NaN  0.62  0.73  0.26  0.85   NaN   NaN   NaN\n",
       "4   NaN NaN  0.41   NaN  0.05   NaN  0.61   NaN  0.48  0.68"
      ]
     },
     "execution_count": 7,
     "metadata": {},
     "output_type": "execute_result"
    }
   ],
   "source": [
    "df"
   ]
  },
  {
   "cell_type": "code",
   "execution_count": 4,
   "id": "f726883d",
   "metadata": {},
   "outputs": [
    {
     "data": {
      "text/plain": [
       "Index(['a', 'b', 'c', 'd', 'e', 'f', 'g', 'h', 'i', 'j'], dtype='object')"
      ]
     },
     "execution_count": 4,
     "metadata": {},
     "output_type": "execute_result"
    }
   ],
   "source": [
    "df.columns"
   ]
  },
  {
   "cell_type": "code",
   "execution_count": 10,
   "id": "fd6f0d30",
   "metadata": {},
   "outputs": [],
   "source": [
    "df1 = df.isna()*1"
   ]
  },
  {
   "cell_type": "code",
   "execution_count": 11,
   "id": "4589dc66",
   "metadata": {},
   "outputs": [
    {
     "data": {
      "text/html": [
       "<div>\n",
       "<style scoped>\n",
       "    .dataframe tbody tr th:only-of-type {\n",
       "        vertical-align: middle;\n",
       "    }\n",
       "\n",
       "    .dataframe tbody tr th {\n",
       "        vertical-align: top;\n",
       "    }\n",
       "\n",
       "    .dataframe thead th {\n",
       "        text-align: right;\n",
       "    }\n",
       "</style>\n",
       "<table border=\"1\" class=\"dataframe\">\n",
       "  <thead>\n",
       "    <tr style=\"text-align: right;\">\n",
       "      <th></th>\n",
       "      <th>a</th>\n",
       "      <th>b</th>\n",
       "      <th>c</th>\n",
       "      <th>d</th>\n",
       "      <th>e</th>\n",
       "      <th>f</th>\n",
       "      <th>g</th>\n",
       "      <th>h</th>\n",
       "      <th>i</th>\n",
       "      <th>j</th>\n",
       "    </tr>\n",
       "  </thead>\n",
       "  <tbody>\n",
       "    <tr>\n",
       "      <th>0</th>\n",
       "      <td>0</td>\n",
       "      <td>1</td>\n",
       "      <td>1</td>\n",
       "      <td>0</td>\n",
       "      <td>1</td>\n",
       "      <td>0</td>\n",
       "      <td>0</td>\n",
       "      <td>0</td>\n",
       "      <td>1</td>\n",
       "      <td>1</td>\n",
       "    </tr>\n",
       "    <tr>\n",
       "      <th>1</th>\n",
       "      <td>1</td>\n",
       "      <td>1</td>\n",
       "      <td>1</td>\n",
       "      <td>0</td>\n",
       "      <td>0</td>\n",
       "      <td>1</td>\n",
       "      <td>1</td>\n",
       "      <td>0</td>\n",
       "      <td>0</td>\n",
       "      <td>0</td>\n",
       "    </tr>\n",
       "    <tr>\n",
       "      <th>2</th>\n",
       "      <td>1</td>\n",
       "      <td>1</td>\n",
       "      <td>0</td>\n",
       "      <td>1</td>\n",
       "      <td>0</td>\n",
       "      <td>0</td>\n",
       "      <td>1</td>\n",
       "      <td>1</td>\n",
       "      <td>0</td>\n",
       "      <td>0</td>\n",
       "    </tr>\n",
       "    <tr>\n",
       "      <th>3</th>\n",
       "      <td>0</td>\n",
       "      <td>1</td>\n",
       "      <td>1</td>\n",
       "      <td>0</td>\n",
       "      <td>0</td>\n",
       "      <td>0</td>\n",
       "      <td>0</td>\n",
       "      <td>1</td>\n",
       "      <td>1</td>\n",
       "      <td>1</td>\n",
       "    </tr>\n",
       "    <tr>\n",
       "      <th>4</th>\n",
       "      <td>1</td>\n",
       "      <td>1</td>\n",
       "      <td>0</td>\n",
       "      <td>1</td>\n",
       "      <td>0</td>\n",
       "      <td>1</td>\n",
       "      <td>0</td>\n",
       "      <td>1</td>\n",
       "      <td>0</td>\n",
       "      <td>0</td>\n",
       "    </tr>\n",
       "  </tbody>\n",
       "</table>\n",
       "</div>"
      ],
      "text/plain": [
       "   a  b  c  d  e  f  g  h  i  j\n",
       "0  0  1  1  0  1  0  0  0  1  1\n",
       "1  1  1  1  0  0  1  1  0  0  0\n",
       "2  1  1  0  1  0  0  1  1  0  0\n",
       "3  0  1  1  0  0  0  0  1  1  1\n",
       "4  1  1  0  1  0  1  0  1  0  0"
      ]
     },
     "execution_count": 11,
     "metadata": {},
     "output_type": "execute_result"
    }
   ],
   "source": [
    "df1"
   ]
  },
  {
   "cell_type": "code",
   "execution_count": 12,
   "id": "addad727",
   "metadata": {},
   "outputs": [
    {
     "data": {
      "text/plain": [
       "5"
      ]
     },
     "execution_count": 12,
     "metadata": {},
     "output_type": "execute_result"
    }
   ],
   "source": [
    "len(df1)"
   ]
  },
  {
   "cell_type": "code",
   "execution_count": 45,
   "id": "4f3a1854",
   "metadata": {},
   "outputs": [],
   "source": [
    "lst = []\n",
    "summa = 0\n",
    "\n",
    "for i in range(len(df1)):\n",
    "    summa = 0\n",
    "    for j in range(-1, len(df1.columns)-1):\n",
    "\n",
    "        summa = summa + df1.iloc[i][j + 1]\n",
    "#         print(summa)\n",
    "        if summa == 3:\n",
    "#             print(df1.columns[[j + 1]])\n",
    "            lst.append(df1.columns[[j + 1]].item())\n",
    "            break\n",
    "            "
   ]
  },
  {
   "cell_type": "code",
   "execution_count": 48,
   "id": "2afdc0b1",
   "metadata": {},
   "outputs": [],
   "source": [
    "ans = pd.Series(lst)"
   ]
  },
  {
   "cell_type": "code",
   "execution_count": 49,
   "id": "a748fd2a",
   "metadata": {},
   "outputs": [
    {
     "data": {
      "text/plain": [
       "0    e\n",
       "1    c\n",
       "2    d\n",
       "3    h\n",
       "4    d\n",
       "dtype: object"
      ]
     },
     "execution_count": 49,
     "metadata": {},
     "output_type": "execute_result"
    }
   ],
   "source": [
    "ans"
   ]
  },
  {
   "cell_type": "code",
   "execution_count": null,
   "id": "100432dd",
   "metadata": {},
   "outputs": [],
   "source": []
  },
  {
   "cell_type": "code",
   "execution_count": 52,
   "id": "ee69ab15",
   "metadata": {},
   "outputs": [
    {
     "name": "stdout",
     "output_type": "stream",
     "text": [
      "0    e\n",
      "1    c\n",
      "2    d\n",
      "3    h\n",
      "4    d\n",
      "dtype: object\n"
     ]
    }
   ],
   "source": [
    "# Ответ в одну строку:\n",
    "\n",
    "print(pd.DataFrame(df.isna().cumsum(axis=1) == 3).idxmax(1))"
   ]
  },
  {
   "cell_type": "code",
   "execution_count": 54,
   "id": "c25141b9",
   "metadata": {},
   "outputs": [
    {
     "data": {
      "text/html": [
       "<div>\n",
       "<style scoped>\n",
       "    .dataframe tbody tr th:only-of-type {\n",
       "        vertical-align: middle;\n",
       "    }\n",
       "\n",
       "    .dataframe tbody tr th {\n",
       "        vertical-align: top;\n",
       "    }\n",
       "\n",
       "    .dataframe thead th {\n",
       "        text-align: right;\n",
       "    }\n",
       "</style>\n",
       "<table border=\"1\" class=\"dataframe\">\n",
       "  <thead>\n",
       "    <tr style=\"text-align: right;\">\n",
       "      <th></th>\n",
       "      <th>a</th>\n",
       "      <th>b</th>\n",
       "      <th>c</th>\n",
       "      <th>d</th>\n",
       "      <th>e</th>\n",
       "      <th>f</th>\n",
       "      <th>g</th>\n",
       "      <th>h</th>\n",
       "      <th>i</th>\n",
       "      <th>j</th>\n",
       "    </tr>\n",
       "  </thead>\n",
       "  <tbody>\n",
       "    <tr>\n",
       "      <th>0</th>\n",
       "      <td>False</td>\n",
       "      <td>False</td>\n",
       "      <td>False</td>\n",
       "      <td>False</td>\n",
       "      <td>True</td>\n",
       "      <td>True</td>\n",
       "      <td>True</td>\n",
       "      <td>True</td>\n",
       "      <td>False</td>\n",
       "      <td>False</td>\n",
       "    </tr>\n",
       "    <tr>\n",
       "      <th>1</th>\n",
       "      <td>False</td>\n",
       "      <td>False</td>\n",
       "      <td>True</td>\n",
       "      <td>True</td>\n",
       "      <td>True</td>\n",
       "      <td>False</td>\n",
       "      <td>False</td>\n",
       "      <td>False</td>\n",
       "      <td>False</td>\n",
       "      <td>False</td>\n",
       "    </tr>\n",
       "    <tr>\n",
       "      <th>2</th>\n",
       "      <td>False</td>\n",
       "      <td>False</td>\n",
       "      <td>False</td>\n",
       "      <td>True</td>\n",
       "      <td>True</td>\n",
       "      <td>True</td>\n",
       "      <td>False</td>\n",
       "      <td>False</td>\n",
       "      <td>False</td>\n",
       "      <td>False</td>\n",
       "    </tr>\n",
       "    <tr>\n",
       "      <th>3</th>\n",
       "      <td>False</td>\n",
       "      <td>False</td>\n",
       "      <td>False</td>\n",
       "      <td>False</td>\n",
       "      <td>False</td>\n",
       "      <td>False</td>\n",
       "      <td>False</td>\n",
       "      <td>True</td>\n",
       "      <td>False</td>\n",
       "      <td>False</td>\n",
       "    </tr>\n",
       "    <tr>\n",
       "      <th>4</th>\n",
       "      <td>False</td>\n",
       "      <td>False</td>\n",
       "      <td>False</td>\n",
       "      <td>True</td>\n",
       "      <td>True</td>\n",
       "      <td>False</td>\n",
       "      <td>False</td>\n",
       "      <td>False</td>\n",
       "      <td>False</td>\n",
       "      <td>False</td>\n",
       "    </tr>\n",
       "  </tbody>\n",
       "</table>\n",
       "</div>"
      ],
      "text/plain": [
       "       a      b      c      d      e      f      g      h      i      j\n",
       "0  False  False  False  False   True   True   True   True  False  False\n",
       "1  False  False   True   True   True  False  False  False  False  False\n",
       "2  False  False  False   True   True   True  False  False  False  False\n",
       "3  False  False  False  False  False  False  False   True  False  False\n",
       "4  False  False  False   True   True  False  False  False  False  False"
      ]
     },
     "execution_count": 54,
     "metadata": {},
     "output_type": "execute_result"
    }
   ],
   "source": [
    "df1.cumsum(axis = 1) == 3"
   ]
  },
  {
   "cell_type": "code",
   "execution_count": null,
   "id": "d4399e9f",
   "metadata": {},
   "outputs": [],
   "source": []
  },
  {
   "cell_type": "code",
   "execution_count": 56,
   "id": "db2a6906",
   "metadata": {},
   "outputs": [
    {
     "data": {
      "text/plain": [
       "0    e\n",
       "1    c\n",
       "2    d\n",
       "3    h\n",
       "4    d\n",
       "dtype: object"
      ]
     },
     "execution_count": 56,
     "metadata": {},
     "output_type": "execute_result"
    }
   ],
   "source": [
    "# Еще один ответ в одну строку:\n",
    "\n",
    "df.apply(lambda x: x[x.isnull()].index[2],axis=1)"
   ]
  },
  {
   "cell_type": "code",
   "execution_count": 70,
   "id": "3f28d80e",
   "metadata": {},
   "outputs": [
    {
     "data": {
      "text/html": [
       "<div>\n",
       "<style scoped>\n",
       "    .dataframe tbody tr th:only-of-type {\n",
       "        vertical-align: middle;\n",
       "    }\n",
       "\n",
       "    .dataframe tbody tr th {\n",
       "        vertical-align: top;\n",
       "    }\n",
       "\n",
       "    .dataframe thead th {\n",
       "        text-align: right;\n",
       "    }\n",
       "</style>\n",
       "<table border=\"1\" class=\"dataframe\">\n",
       "  <thead>\n",
       "    <tr style=\"text-align: right;\">\n",
       "      <th></th>\n",
       "      <th>a</th>\n",
       "      <th>b</th>\n",
       "      <th>c</th>\n",
       "      <th>d</th>\n",
       "      <th>e</th>\n",
       "      <th>f</th>\n",
       "      <th>g</th>\n",
       "      <th>h</th>\n",
       "      <th>i</th>\n",
       "      <th>j</th>\n",
       "    </tr>\n",
       "  </thead>\n",
       "  <tbody>\n",
       "    <tr>\n",
       "      <th>0</th>\n",
       "      <td>0.04</td>\n",
       "      <td>NaN</td>\n",
       "      <td>NaN</td>\n",
       "      <td>0.25</td>\n",
       "      <td>NaN</td>\n",
       "      <td>0.43</td>\n",
       "      <td>0.71</td>\n",
       "      <td>0.51</td>\n",
       "      <td>NaN</td>\n",
       "      <td>NaN</td>\n",
       "    </tr>\n",
       "    <tr>\n",
       "      <th>1</th>\n",
       "      <td>NaN</td>\n",
       "      <td>NaN</td>\n",
       "      <td>NaN</td>\n",
       "      <td>0.04</td>\n",
       "      <td>0.76</td>\n",
       "      <td>NaN</td>\n",
       "      <td>NaN</td>\n",
       "      <td>0.67</td>\n",
       "      <td>0.76</td>\n",
       "      <td>0.16</td>\n",
       "    </tr>\n",
       "    <tr>\n",
       "      <th>2</th>\n",
       "      <td>NaN</td>\n",
       "      <td>NaN</td>\n",
       "      <td>0.50</td>\n",
       "      <td>NaN</td>\n",
       "      <td>0.31</td>\n",
       "      <td>0.40</td>\n",
       "      <td>NaN</td>\n",
       "      <td>NaN</td>\n",
       "      <td>0.24</td>\n",
       "      <td>0.01</td>\n",
       "    </tr>\n",
       "    <tr>\n",
       "      <th>3</th>\n",
       "      <td>0.49</td>\n",
       "      <td>NaN</td>\n",
       "      <td>NaN</td>\n",
       "      <td>0.62</td>\n",
       "      <td>0.73</td>\n",
       "      <td>0.26</td>\n",
       "      <td>0.85</td>\n",
       "      <td>NaN</td>\n",
       "      <td>NaN</td>\n",
       "      <td>NaN</td>\n",
       "    </tr>\n",
       "    <tr>\n",
       "      <th>4</th>\n",
       "      <td>NaN</td>\n",
       "      <td>NaN</td>\n",
       "      <td>0.41</td>\n",
       "      <td>NaN</td>\n",
       "      <td>0.05</td>\n",
       "      <td>NaN</td>\n",
       "      <td>0.61</td>\n",
       "      <td>NaN</td>\n",
       "      <td>0.48</td>\n",
       "      <td>0.68</td>\n",
       "    </tr>\n",
       "  </tbody>\n",
       "</table>\n",
       "</div>"
      ],
      "text/plain": [
       "      a   b     c     d     e     f     g     h     i     j\n",
       "0  0.04 NaN   NaN  0.25   NaN  0.43  0.71  0.51   NaN   NaN\n",
       "1   NaN NaN   NaN  0.04  0.76   NaN   NaN  0.67  0.76  0.16\n",
       "2   NaN NaN  0.50   NaN  0.31  0.40   NaN   NaN  0.24  0.01\n",
       "3  0.49 NaN   NaN  0.62  0.73  0.26  0.85   NaN   NaN   NaN\n",
       "4   NaN NaN  0.41   NaN  0.05   NaN  0.61   NaN  0.48  0.68"
      ]
     },
     "execution_count": 70,
     "metadata": {},
     "output_type": "execute_result"
    }
   ],
   "source": [
    "df"
   ]
  },
  {
   "cell_type": "code",
   "execution_count": 73,
   "id": "ba08e8b9",
   "metadata": {},
   "outputs": [
    {
     "data": {
      "text/plain": [
       "0    b\n",
       "1    a\n",
       "2    a\n",
       "3    b\n",
       "4    a\n",
       "dtype: object"
      ]
     },
     "execution_count": 73,
     "metadata": {},
     "output_type": "execute_result"
    }
   ],
   "source": [
    "df.apply(lambda x: x[x.isnull()].index[0], axis = 1)"
   ]
  },
  {
   "cell_type": "code",
   "execution_count": null,
   "id": "a1231c44",
   "metadata": {},
   "outputs": [],
   "source": []
  },
  {
   "cell_type": "markdown",
   "id": "5b444148",
   "metadata": {},
   "source": [
    "# Задача № 37"
   ]
  },
  {
   "cell_type": "code",
   "execution_count": null,
   "id": "8de6baa1",
   "metadata": {},
   "outputs": [],
   "source": [
    "# Датафрейм содержит колонку grps (название некоторой группы) и колонку целочисленных значений vals.\n",
    "# Для каждой группы найдите сумму трех наибольших значений."
   ]
  },
  {
   "cell_type": "code",
   "execution_count": 2,
   "id": "2caae38a",
   "metadata": {},
   "outputs": [],
   "source": [
    "df = pd.DataFrame({'grps': list('aaabbcaabcccbbc'), \n",
    "                   'vals': [12,345,3,1,45,14,4,52,54,23,235,21,57,3,87]})"
   ]
  },
  {
   "cell_type": "code",
   "execution_count": 3,
   "id": "3aaa28d5",
   "metadata": {},
   "outputs": [
    {
     "data": {
      "text/html": [
       "<div>\n",
       "<style scoped>\n",
       "    .dataframe tbody tr th:only-of-type {\n",
       "        vertical-align: middle;\n",
       "    }\n",
       "\n",
       "    .dataframe tbody tr th {\n",
       "        vertical-align: top;\n",
       "    }\n",
       "\n",
       "    .dataframe thead th {\n",
       "        text-align: right;\n",
       "    }\n",
       "</style>\n",
       "<table border=\"1\" class=\"dataframe\">\n",
       "  <thead>\n",
       "    <tr style=\"text-align: right;\">\n",
       "      <th></th>\n",
       "      <th>grps</th>\n",
       "      <th>vals</th>\n",
       "    </tr>\n",
       "  </thead>\n",
       "  <tbody>\n",
       "    <tr>\n",
       "      <th>0</th>\n",
       "      <td>a</td>\n",
       "      <td>12</td>\n",
       "    </tr>\n",
       "    <tr>\n",
       "      <th>1</th>\n",
       "      <td>a</td>\n",
       "      <td>345</td>\n",
       "    </tr>\n",
       "    <tr>\n",
       "      <th>2</th>\n",
       "      <td>a</td>\n",
       "      <td>3</td>\n",
       "    </tr>\n",
       "    <tr>\n",
       "      <th>3</th>\n",
       "      <td>b</td>\n",
       "      <td>1</td>\n",
       "    </tr>\n",
       "    <tr>\n",
       "      <th>4</th>\n",
       "      <td>b</td>\n",
       "      <td>45</td>\n",
       "    </tr>\n",
       "    <tr>\n",
       "      <th>5</th>\n",
       "      <td>c</td>\n",
       "      <td>14</td>\n",
       "    </tr>\n",
       "    <tr>\n",
       "      <th>6</th>\n",
       "      <td>a</td>\n",
       "      <td>4</td>\n",
       "    </tr>\n",
       "    <tr>\n",
       "      <th>7</th>\n",
       "      <td>a</td>\n",
       "      <td>52</td>\n",
       "    </tr>\n",
       "    <tr>\n",
       "      <th>8</th>\n",
       "      <td>b</td>\n",
       "      <td>54</td>\n",
       "    </tr>\n",
       "    <tr>\n",
       "      <th>9</th>\n",
       "      <td>c</td>\n",
       "      <td>23</td>\n",
       "    </tr>\n",
       "    <tr>\n",
       "      <th>10</th>\n",
       "      <td>c</td>\n",
       "      <td>235</td>\n",
       "    </tr>\n",
       "    <tr>\n",
       "      <th>11</th>\n",
       "      <td>c</td>\n",
       "      <td>21</td>\n",
       "    </tr>\n",
       "    <tr>\n",
       "      <th>12</th>\n",
       "      <td>b</td>\n",
       "      <td>57</td>\n",
       "    </tr>\n",
       "    <tr>\n",
       "      <th>13</th>\n",
       "      <td>b</td>\n",
       "      <td>3</td>\n",
       "    </tr>\n",
       "    <tr>\n",
       "      <th>14</th>\n",
       "      <td>c</td>\n",
       "      <td>87</td>\n",
       "    </tr>\n",
       "  </tbody>\n",
       "</table>\n",
       "</div>"
      ],
      "text/plain": [
       "   grps  vals\n",
       "0     a    12\n",
       "1     a   345\n",
       "2     a     3\n",
       "3     b     1\n",
       "4     b    45\n",
       "5     c    14\n",
       "6     a     4\n",
       "7     a    52\n",
       "8     b    54\n",
       "9     c    23\n",
       "10    c   235\n",
       "11    c    21\n",
       "12    b    57\n",
       "13    b     3\n",
       "14    c    87"
      ]
     },
     "execution_count": 3,
     "metadata": {},
     "output_type": "execute_result"
    }
   ],
   "source": [
    "df"
   ]
  },
  {
   "cell_type": "code",
   "execution_count": 20,
   "id": "94e9fb91",
   "metadata": {},
   "outputs": [],
   "source": [
    "df1 = df.sort_values(by = ['grps', 'vals'], ascending = [True, False])"
   ]
  },
  {
   "cell_type": "code",
   "execution_count": 21,
   "id": "3e33d9a7",
   "metadata": {},
   "outputs": [
    {
     "data": {
      "text/html": [
       "<div>\n",
       "<style scoped>\n",
       "    .dataframe tbody tr th:only-of-type {\n",
       "        vertical-align: middle;\n",
       "    }\n",
       "\n",
       "    .dataframe tbody tr th {\n",
       "        vertical-align: top;\n",
       "    }\n",
       "\n",
       "    .dataframe thead th {\n",
       "        text-align: right;\n",
       "    }\n",
       "</style>\n",
       "<table border=\"1\" class=\"dataframe\">\n",
       "  <thead>\n",
       "    <tr style=\"text-align: right;\">\n",
       "      <th></th>\n",
       "      <th>grps</th>\n",
       "      <th>vals</th>\n",
       "    </tr>\n",
       "  </thead>\n",
       "  <tbody>\n",
       "    <tr>\n",
       "      <th>1</th>\n",
       "      <td>a</td>\n",
       "      <td>345</td>\n",
       "    </tr>\n",
       "    <tr>\n",
       "      <th>7</th>\n",
       "      <td>a</td>\n",
       "      <td>52</td>\n",
       "    </tr>\n",
       "    <tr>\n",
       "      <th>0</th>\n",
       "      <td>a</td>\n",
       "      <td>12</td>\n",
       "    </tr>\n",
       "    <tr>\n",
       "      <th>6</th>\n",
       "      <td>a</td>\n",
       "      <td>4</td>\n",
       "    </tr>\n",
       "    <tr>\n",
       "      <th>2</th>\n",
       "      <td>a</td>\n",
       "      <td>3</td>\n",
       "    </tr>\n",
       "    <tr>\n",
       "      <th>12</th>\n",
       "      <td>b</td>\n",
       "      <td>57</td>\n",
       "    </tr>\n",
       "    <tr>\n",
       "      <th>8</th>\n",
       "      <td>b</td>\n",
       "      <td>54</td>\n",
       "    </tr>\n",
       "    <tr>\n",
       "      <th>4</th>\n",
       "      <td>b</td>\n",
       "      <td>45</td>\n",
       "    </tr>\n",
       "    <tr>\n",
       "      <th>13</th>\n",
       "      <td>b</td>\n",
       "      <td>3</td>\n",
       "    </tr>\n",
       "    <tr>\n",
       "      <th>3</th>\n",
       "      <td>b</td>\n",
       "      <td>1</td>\n",
       "    </tr>\n",
       "    <tr>\n",
       "      <th>10</th>\n",
       "      <td>c</td>\n",
       "      <td>235</td>\n",
       "    </tr>\n",
       "    <tr>\n",
       "      <th>14</th>\n",
       "      <td>c</td>\n",
       "      <td>87</td>\n",
       "    </tr>\n",
       "    <tr>\n",
       "      <th>9</th>\n",
       "      <td>c</td>\n",
       "      <td>23</td>\n",
       "    </tr>\n",
       "    <tr>\n",
       "      <th>11</th>\n",
       "      <td>c</td>\n",
       "      <td>21</td>\n",
       "    </tr>\n",
       "    <tr>\n",
       "      <th>5</th>\n",
       "      <td>c</td>\n",
       "      <td>14</td>\n",
       "    </tr>\n",
       "  </tbody>\n",
       "</table>\n",
       "</div>"
      ],
      "text/plain": [
       "   grps  vals\n",
       "1     a   345\n",
       "7     a    52\n",
       "0     a    12\n",
       "6     a     4\n",
       "2     a     3\n",
       "12    b    57\n",
       "8     b    54\n",
       "4     b    45\n",
       "13    b     3\n",
       "3     b     1\n",
       "10    c   235\n",
       "14    c    87\n",
       "9     c    23\n",
       "11    c    21\n",
       "5     c    14"
      ]
     },
     "execution_count": 21,
     "metadata": {},
     "output_type": "execute_result"
    }
   ],
   "source": [
    "df1"
   ]
  },
  {
   "cell_type": "code",
   "execution_count": 23,
   "id": "552a1254",
   "metadata": {},
   "outputs": [
    {
     "data": {
      "text/plain": [
       "grps\n",
       "a    409\n",
       "b    156\n",
       "c    345\n",
       "Name: vals, dtype: int64"
      ]
     },
     "execution_count": 23,
     "metadata": {},
     "output_type": "execute_result"
    }
   ],
   "source": [
    "df1.groupby('grps')['vals'].agg(lambda x: x.head(3).sum())"
   ]
  },
  {
   "cell_type": "code",
   "execution_count": null,
   "id": "f0dee748",
   "metadata": {},
   "outputs": [],
   "source": []
  },
  {
   "cell_type": "markdown",
   "id": "0ef0f31e",
   "metadata": {},
   "source": [
    "# Задача № 38"
   ]
  },
  {
   "cell_type": "code",
   "execution_count": 40,
   "id": "d797d875",
   "metadata": {},
   "outputs": [],
   "source": [
    "# Датафрейм df имеет два целочисленных столбца «A» и «B». \n",
    "# Значения в «A» находятся в диапазоне от 1 до 100 (включительно).\n",
    "\n",
    "# Для каждой группы из 10 последовательных целых чисел в столбце А (т. е. (0, 10], (10, 20], ...) \n",
    "# вычислите сумму соответствующих значений в столбце B."
   ]
  },
  {
   "cell_type": "code",
   "execution_count": 115,
   "id": "770bca03",
   "metadata": {},
   "outputs": [],
   "source": [
    "df = pd.DataFrame(np.random.RandomState(8765).randint(1, 101, size=(100, 2)), columns = [\"A\", \"B\"])"
   ]
  },
  {
   "cell_type": "code",
   "execution_count": 116,
   "id": "f6daded6",
   "metadata": {},
   "outputs": [
    {
     "data": {
      "text/html": [
       "<div>\n",
       "<style scoped>\n",
       "    .dataframe tbody tr th:only-of-type {\n",
       "        vertical-align: middle;\n",
       "    }\n",
       "\n",
       "    .dataframe tbody tr th {\n",
       "        vertical-align: top;\n",
       "    }\n",
       "\n",
       "    .dataframe thead th {\n",
       "        text-align: right;\n",
       "    }\n",
       "</style>\n",
       "<table border=\"1\" class=\"dataframe\">\n",
       "  <thead>\n",
       "    <tr style=\"text-align: right;\">\n",
       "      <th></th>\n",
       "      <th>A</th>\n",
       "      <th>B</th>\n",
       "    </tr>\n",
       "  </thead>\n",
       "  <tbody>\n",
       "    <tr>\n",
       "      <th>0</th>\n",
       "      <td>46</td>\n",
       "      <td>29</td>\n",
       "    </tr>\n",
       "    <tr>\n",
       "      <th>1</th>\n",
       "      <td>75</td>\n",
       "      <td>22</td>\n",
       "    </tr>\n",
       "    <tr>\n",
       "      <th>2</th>\n",
       "      <td>49</td>\n",
       "      <td>63</td>\n",
       "    </tr>\n",
       "    <tr>\n",
       "      <th>3</th>\n",
       "      <td>33</td>\n",
       "      <td>43</td>\n",
       "    </tr>\n",
       "    <tr>\n",
       "      <th>4</th>\n",
       "      <td>71</td>\n",
       "      <td>75</td>\n",
       "    </tr>\n",
       "    <tr>\n",
       "      <th>...</th>\n",
       "      <td>...</td>\n",
       "      <td>...</td>\n",
       "    </tr>\n",
       "    <tr>\n",
       "      <th>95</th>\n",
       "      <td>60</td>\n",
       "      <td>87</td>\n",
       "    </tr>\n",
       "    <tr>\n",
       "      <th>96</th>\n",
       "      <td>57</td>\n",
       "      <td>40</td>\n",
       "    </tr>\n",
       "    <tr>\n",
       "      <th>97</th>\n",
       "      <td>86</td>\n",
       "      <td>19</td>\n",
       "    </tr>\n",
       "    <tr>\n",
       "      <th>98</th>\n",
       "      <td>50</td>\n",
       "      <td>56</td>\n",
       "    </tr>\n",
       "    <tr>\n",
       "      <th>99</th>\n",
       "      <td>97</td>\n",
       "      <td>94</td>\n",
       "    </tr>\n",
       "  </tbody>\n",
       "</table>\n",
       "<p>100 rows × 2 columns</p>\n",
       "</div>"
      ],
      "text/plain": [
       "     A   B\n",
       "0   46  29\n",
       "1   75  22\n",
       "2   49  63\n",
       "3   33  43\n",
       "4   71  75\n",
       "..  ..  ..\n",
       "95  60  87\n",
       "96  57  40\n",
       "97  86  19\n",
       "98  50  56\n",
       "99  97  94\n",
       "\n",
       "[100 rows x 2 columns]"
      ]
     },
     "execution_count": 116,
     "metadata": {},
     "output_type": "execute_result"
    }
   ],
   "source": [
    "df"
   ]
  },
  {
   "cell_type": "code",
   "execution_count": 117,
   "id": "3ebbbc66",
   "metadata": {},
   "outputs": [],
   "source": [
    "df_cut = pd.cut(df['A'], np.arange(0,110,10))"
   ]
  },
  {
   "cell_type": "code",
   "execution_count": 118,
   "id": "e5ba871d",
   "metadata": {
    "scrolled": true
   },
   "outputs": [
    {
     "data": {
      "text/plain": [
       "0      (40, 50]\n",
       "1      (70, 80]\n",
       "2      (40, 50]\n",
       "3      (30, 40]\n",
       "4      (70, 80]\n",
       "        ...    \n",
       "95     (50, 60]\n",
       "96     (50, 60]\n",
       "97     (80, 90]\n",
       "98     (40, 50]\n",
       "99    (90, 100]\n",
       "Name: A, Length: 100, dtype: category\n",
       "Categories (10, interval[int64, right]): [(0, 10] < (10, 20] < (20, 30] < (30, 40] ... (60, 70] < (70, 80] < (80, 90] < (90, 100]]"
      ]
     },
     "execution_count": 118,
     "metadata": {},
     "output_type": "execute_result"
    }
   ],
   "source": [
    "df_cut"
   ]
  },
  {
   "cell_type": "code",
   "execution_count": 119,
   "id": "93745aec",
   "metadata": {},
   "outputs": [],
   "source": [
    "df['A'] = df_cut"
   ]
  },
  {
   "cell_type": "code",
   "execution_count": 120,
   "id": "3ea9902c",
   "metadata": {},
   "outputs": [
    {
     "data": {
      "text/html": [
       "<div>\n",
       "<style scoped>\n",
       "    .dataframe tbody tr th:only-of-type {\n",
       "        vertical-align: middle;\n",
       "    }\n",
       "\n",
       "    .dataframe tbody tr th {\n",
       "        vertical-align: top;\n",
       "    }\n",
       "\n",
       "    .dataframe thead th {\n",
       "        text-align: right;\n",
       "    }\n",
       "</style>\n",
       "<table border=\"1\" class=\"dataframe\">\n",
       "  <thead>\n",
       "    <tr style=\"text-align: right;\">\n",
       "      <th></th>\n",
       "      <th>A</th>\n",
       "      <th>B</th>\n",
       "    </tr>\n",
       "  </thead>\n",
       "  <tbody>\n",
       "    <tr>\n",
       "      <th>0</th>\n",
       "      <td>(40, 50]</td>\n",
       "      <td>29</td>\n",
       "    </tr>\n",
       "    <tr>\n",
       "      <th>1</th>\n",
       "      <td>(70, 80]</td>\n",
       "      <td>22</td>\n",
       "    </tr>\n",
       "    <tr>\n",
       "      <th>2</th>\n",
       "      <td>(40, 50]</td>\n",
       "      <td>63</td>\n",
       "    </tr>\n",
       "    <tr>\n",
       "      <th>3</th>\n",
       "      <td>(30, 40]</td>\n",
       "      <td>43</td>\n",
       "    </tr>\n",
       "    <tr>\n",
       "      <th>4</th>\n",
       "      <td>(70, 80]</td>\n",
       "      <td>75</td>\n",
       "    </tr>\n",
       "    <tr>\n",
       "      <th>...</th>\n",
       "      <td>...</td>\n",
       "      <td>...</td>\n",
       "    </tr>\n",
       "    <tr>\n",
       "      <th>95</th>\n",
       "      <td>(50, 60]</td>\n",
       "      <td>87</td>\n",
       "    </tr>\n",
       "    <tr>\n",
       "      <th>96</th>\n",
       "      <td>(50, 60]</td>\n",
       "      <td>40</td>\n",
       "    </tr>\n",
       "    <tr>\n",
       "      <th>97</th>\n",
       "      <td>(80, 90]</td>\n",
       "      <td>19</td>\n",
       "    </tr>\n",
       "    <tr>\n",
       "      <th>98</th>\n",
       "      <td>(40, 50]</td>\n",
       "      <td>56</td>\n",
       "    </tr>\n",
       "    <tr>\n",
       "      <th>99</th>\n",
       "      <td>(90, 100]</td>\n",
       "      <td>94</td>\n",
       "    </tr>\n",
       "  </tbody>\n",
       "</table>\n",
       "<p>100 rows × 2 columns</p>\n",
       "</div>"
      ],
      "text/plain": [
       "            A   B\n",
       "0    (40, 50]  29\n",
       "1    (70, 80]  22\n",
       "2    (40, 50]  63\n",
       "3    (30, 40]  43\n",
       "4    (70, 80]  75\n",
       "..        ...  ..\n",
       "95   (50, 60]  87\n",
       "96   (50, 60]  40\n",
       "97   (80, 90]  19\n",
       "98   (40, 50]  56\n",
       "99  (90, 100]  94\n",
       "\n",
       "[100 rows x 2 columns]"
      ]
     },
     "execution_count": 120,
     "metadata": {},
     "output_type": "execute_result"
    }
   ],
   "source": [
    "df"
   ]
  },
  {
   "cell_type": "code",
   "execution_count": 121,
   "id": "50a80c4c",
   "metadata": {},
   "outputs": [
    {
     "data": {
      "text/plain": [
       "A\n",
       "(0, 10]      635\n",
       "(10, 20]     360\n",
       "(20, 30]     315\n",
       "(30, 40]     306\n",
       "(40, 50]     750\n",
       "(50, 60]     284\n",
       "(60, 70]     424\n",
       "(70, 80]     526\n",
       "(80, 90]     835\n",
       "(90, 100]    852\n",
       "Name: B, dtype: int32"
      ]
     },
     "execution_count": 121,
     "metadata": {},
     "output_type": "execute_result"
    }
   ],
   "source": [
    "df.groupby('A')['B'].agg('sum')"
   ]
  },
  {
   "cell_type": "code",
   "execution_count": null,
   "id": "5016bcb7",
   "metadata": {},
   "outputs": [],
   "source": []
  },
  {
   "cell_type": "markdown",
   "id": "125c4cf9",
   "metadata": {},
   "source": [
    "# Задача № 39"
   ]
  },
  {
   "cell_type": "code",
   "execution_count": 194,
   "id": "a66fc6bc",
   "metadata": {},
   "outputs": [],
   "source": [
    "# Создайте список индексов столбцов и строк для 3 самых больших значений в предлагаемом датафрейме.\n",
    "\n",
    "df = pd.DataFrame(np.random.RandomState(30).randint(1, 101, size=(8, 8)))"
   ]
  },
  {
   "cell_type": "code",
   "execution_count": 179,
   "id": "0745b714",
   "metadata": {},
   "outputs": [
    {
     "data": {
      "text/html": [
       "<div>\n",
       "<style scoped>\n",
       "    .dataframe tbody tr th:only-of-type {\n",
       "        vertical-align: middle;\n",
       "    }\n",
       "\n",
       "    .dataframe tbody tr th {\n",
       "        vertical-align: top;\n",
       "    }\n",
       "\n",
       "    .dataframe thead th {\n",
       "        text-align: right;\n",
       "    }\n",
       "</style>\n",
       "<table border=\"1\" class=\"dataframe\">\n",
       "  <thead>\n",
       "    <tr style=\"text-align: right;\">\n",
       "      <th></th>\n",
       "      <th>0</th>\n",
       "      <th>1</th>\n",
       "      <th>2</th>\n",
       "      <th>3</th>\n",
       "      <th>4</th>\n",
       "      <th>5</th>\n",
       "      <th>6</th>\n",
       "      <th>7</th>\n",
       "    </tr>\n",
       "  </thead>\n",
       "  <tbody>\n",
       "    <tr>\n",
       "      <th>0</th>\n",
       "      <td>38</td>\n",
       "      <td>38</td>\n",
       "      <td>46</td>\n",
       "      <td>46</td>\n",
       "      <td>13</td>\n",
       "      <td>24</td>\n",
       "      <td>3</td>\n",
       "      <td>54</td>\n",
       "    </tr>\n",
       "    <tr>\n",
       "      <th>1</th>\n",
       "      <td>18</td>\n",
       "      <td>47</td>\n",
       "      <td>4</td>\n",
       "      <td>42</td>\n",
       "      <td>8</td>\n",
       "      <td>66</td>\n",
       "      <td>50</td>\n",
       "      <td>46</td>\n",
       "    </tr>\n",
       "    <tr>\n",
       "      <th>2</th>\n",
       "      <td>62</td>\n",
       "      <td>36</td>\n",
       "      <td>19</td>\n",
       "      <td>19</td>\n",
       "      <td>77</td>\n",
       "      <td>17</td>\n",
       "      <td>7</td>\n",
       "      <td>63</td>\n",
       "    </tr>\n",
       "    <tr>\n",
       "      <th>3</th>\n",
       "      <td>28</td>\n",
       "      <td>47</td>\n",
       "      <td>46</td>\n",
       "      <td>65</td>\n",
       "      <td>63</td>\n",
       "      <td>12</td>\n",
       "      <td>16</td>\n",
       "      <td>24</td>\n",
       "    </tr>\n",
       "    <tr>\n",
       "      <th>4</th>\n",
       "      <td>14</td>\n",
       "      <td>51</td>\n",
       "      <td>34</td>\n",
       "      <td>56</td>\n",
       "      <td>29</td>\n",
       "      <td>59</td>\n",
       "      <td>92</td>\n",
       "      <td>79</td>\n",
       "    </tr>\n",
       "    <tr>\n",
       "      <th>5</th>\n",
       "      <td>58</td>\n",
       "      <td>76</td>\n",
       "      <td>96</td>\n",
       "      <td>45</td>\n",
       "      <td>38</td>\n",
       "      <td>76</td>\n",
       "      <td>58</td>\n",
       "      <td>40</td>\n",
       "    </tr>\n",
       "    <tr>\n",
       "      <th>6</th>\n",
       "      <td>10</td>\n",
       "      <td>34</td>\n",
       "      <td>48</td>\n",
       "      <td>40</td>\n",
       "      <td>37</td>\n",
       "      <td>23</td>\n",
       "      <td>41</td>\n",
       "      <td>26</td>\n",
       "    </tr>\n",
       "    <tr>\n",
       "      <th>7</th>\n",
       "      <td>55</td>\n",
       "      <td>70</td>\n",
       "      <td>91</td>\n",
       "      <td>27</td>\n",
       "      <td>79</td>\n",
       "      <td>92</td>\n",
       "      <td>20</td>\n",
       "      <td>31</td>\n",
       "    </tr>\n",
       "  </tbody>\n",
       "</table>\n",
       "</div>"
      ],
      "text/plain": [
       "    0   1   2   3   4   5   6   7\n",
       "0  38  38  46  46  13  24   3  54\n",
       "1  18  47   4  42   8  66  50  46\n",
       "2  62  36  19  19  77  17   7  63\n",
       "3  28  47  46  65  63  12  16  24\n",
       "4  14  51  34  56  29  59  92  79\n",
       "5  58  76  96  45  38  76  58  40\n",
       "6  10  34  48  40  37  23  41  26\n",
       "7  55  70  91  27  79  92  20  31"
      ]
     },
     "execution_count": 179,
     "metadata": {},
     "output_type": "execute_result"
    }
   ],
   "source": [
    "df"
   ]
  },
  {
   "cell_type": "code",
   "execution_count": 180,
   "id": "6c826390",
   "metadata": {},
   "outputs": [],
   "source": [
    "lst = []"
   ]
  },
  {
   "cell_type": "code",
   "execution_count": 181,
   "id": "bb0df3f5",
   "metadata": {},
   "outputs": [],
   "source": [
    "for i in range(3):\n",
    "    lst.append(df.unstack().idxmax())\n",
    "    \n",
    "    df.loc[df.unstack().idxmax()[-1], df.unstack().idxmax()[0]] = 0\n",
    "\n",
    "    "
   ]
  },
  {
   "cell_type": "code",
   "execution_count": 192,
   "id": "fea794d4",
   "metadata": {},
   "outputs": [
    {
     "data": {
      "text/plain": [
       "[(5, 7), (6, 4), (2, 5)]"
      ]
     },
     "execution_count": 192,
     "metadata": {},
     "output_type": "execute_result"
    }
   ],
   "source": [
    "[lst[1], lst[2], lst[0]]"
   ]
  },
  {
   "cell_type": "code",
   "execution_count": 195,
   "id": "ec3b9931",
   "metadata": {},
   "outputs": [
    {
     "data": {
      "text/plain": [
       "[(5, 7), (6, 4), (2, 5)]"
      ]
     },
     "execution_count": 195,
     "metadata": {},
     "output_type": "execute_result"
    }
   ],
   "source": [
    "# ВНИМАНИЕ ПРАВИЛЬНЫЙ ОТВЕТ:\n",
    "\n",
    "df.unstack().sort_values()[-3:].index.tolist()"
   ]
  },
  {
   "cell_type": "code",
   "execution_count": 197,
   "id": "34f3345e",
   "metadata": {},
   "outputs": [
    {
     "data": {
      "text/plain": [
       "6  0     3\n",
       "2  1     4\n",
       "6  2     7\n",
       "4  1     8\n",
       "0  6    10\n",
       "        ..\n",
       "7  4    79\n",
       "2  7    91\n",
       "5  7    92\n",
       "6  4    92\n",
       "2  5    96\n",
       "Length: 64, dtype: int32"
      ]
     },
     "execution_count": 197,
     "metadata": {},
     "output_type": "execute_result"
    }
   ],
   "source": [
    "df.unstack().sort_values()"
   ]
  },
  {
   "cell_type": "code",
   "execution_count": null,
   "id": "6b64d05b",
   "metadata": {},
   "outputs": [],
   "source": []
  },
  {
   "cell_type": "markdown",
   "id": "61219bc6",
   "metadata": {},
   "source": [
    "# Задача № 40"
   ]
  },
  {
   "cell_type": "code",
   "execution_count": 2,
   "id": "04c77b63",
   "metadata": {},
   "outputs": [],
   "source": [
    "# Создайте новый столбец patched_vals, который содержит те же значения, что и vals, \n",
    "# но отрицательные значения заменить средним значением группы."
   ]
  },
  {
   "cell_type": "code",
   "execution_count": 2,
   "id": "2cd20df5",
   "metadata": {},
   "outputs": [],
   "source": [
    "df = pd.DataFrame({\"vals\": np.random.RandomState(31).randint(-30, 30, size=15), \n",
    "                   \"grps\": np.random.RandomState(31).choice([\"A\", \"B\"], 15)})"
   ]
  },
  {
   "cell_type": "code",
   "execution_count": 3,
   "id": "1abf8684",
   "metadata": {},
   "outputs": [
    {
     "data": {
      "text/html": [
       "<div>\n",
       "<style scoped>\n",
       "    .dataframe tbody tr th:only-of-type {\n",
       "        vertical-align: middle;\n",
       "    }\n",
       "\n",
       "    .dataframe tbody tr th {\n",
       "        vertical-align: top;\n",
       "    }\n",
       "\n",
       "    .dataframe thead th {\n",
       "        text-align: right;\n",
       "    }\n",
       "</style>\n",
       "<table border=\"1\" class=\"dataframe\">\n",
       "  <thead>\n",
       "    <tr style=\"text-align: right;\">\n",
       "      <th></th>\n",
       "      <th>vals</th>\n",
       "      <th>grps</th>\n",
       "    </tr>\n",
       "  </thead>\n",
       "  <tbody>\n",
       "    <tr>\n",
       "      <th>0</th>\n",
       "      <td>-12</td>\n",
       "      <td>A</td>\n",
       "    </tr>\n",
       "    <tr>\n",
       "      <th>1</th>\n",
       "      <td>-7</td>\n",
       "      <td>B</td>\n",
       "    </tr>\n",
       "    <tr>\n",
       "      <th>2</th>\n",
       "      <td>-14</td>\n",
       "      <td>A</td>\n",
       "    </tr>\n",
       "    <tr>\n",
       "      <th>3</th>\n",
       "      <td>4</td>\n",
       "      <td>A</td>\n",
       "    </tr>\n",
       "    <tr>\n",
       "      <th>4</th>\n",
       "      <td>-7</td>\n",
       "      <td>A</td>\n",
       "    </tr>\n",
       "    <tr>\n",
       "      <th>5</th>\n",
       "      <td>28</td>\n",
       "      <td>B</td>\n",
       "    </tr>\n",
       "    <tr>\n",
       "      <th>6</th>\n",
       "      <td>-2</td>\n",
       "      <td>A</td>\n",
       "    </tr>\n",
       "    <tr>\n",
       "      <th>7</th>\n",
       "      <td>-1</td>\n",
       "      <td>A</td>\n",
       "    </tr>\n",
       "    <tr>\n",
       "      <th>8</th>\n",
       "      <td>8</td>\n",
       "      <td>A</td>\n",
       "    </tr>\n",
       "    <tr>\n",
       "      <th>9</th>\n",
       "      <td>-2</td>\n",
       "      <td>B</td>\n",
       "    </tr>\n",
       "    <tr>\n",
       "      <th>10</th>\n",
       "      <td>28</td>\n",
       "      <td>A</td>\n",
       "    </tr>\n",
       "    <tr>\n",
       "      <th>11</th>\n",
       "      <td>12</td>\n",
       "      <td>A</td>\n",
       "    </tr>\n",
       "    <tr>\n",
       "      <th>12</th>\n",
       "      <td>16</td>\n",
       "      <td>A</td>\n",
       "    </tr>\n",
       "    <tr>\n",
       "      <th>13</th>\n",
       "      <td>-24</td>\n",
       "      <td>A</td>\n",
       "    </tr>\n",
       "    <tr>\n",
       "      <th>14</th>\n",
       "      <td>-12</td>\n",
       "      <td>A</td>\n",
       "    </tr>\n",
       "  </tbody>\n",
       "</table>\n",
       "</div>"
      ],
      "text/plain": [
       "    vals grps\n",
       "0    -12    A\n",
       "1     -7    B\n",
       "2    -14    A\n",
       "3      4    A\n",
       "4     -7    A\n",
       "5     28    B\n",
       "6     -2    A\n",
       "7     -1    A\n",
       "8      8    A\n",
       "9     -2    B\n",
       "10    28    A\n",
       "11    12    A\n",
       "12    16    A\n",
       "13   -24    A\n",
       "14   -12    A"
      ]
     },
     "execution_count": 3,
     "metadata": {},
     "output_type": "execute_result"
    }
   ],
   "source": [
    "df"
   ]
  },
  {
   "cell_type": "code",
   "execution_count": 4,
   "id": "648a6a37",
   "metadata": {},
   "outputs": [],
   "source": [
    "df['patched_vals'] = df['vals']"
   ]
  },
  {
   "cell_type": "code",
   "execution_count": 6,
   "id": "b76a351b",
   "metadata": {
    "scrolled": true
   },
   "outputs": [
    {
     "data": {
      "text/html": [
       "<div>\n",
       "<style scoped>\n",
       "    .dataframe tbody tr th:only-of-type {\n",
       "        vertical-align: middle;\n",
       "    }\n",
       "\n",
       "    .dataframe tbody tr th {\n",
       "        vertical-align: top;\n",
       "    }\n",
       "\n",
       "    .dataframe thead th {\n",
       "        text-align: right;\n",
       "    }\n",
       "</style>\n",
       "<table border=\"1\" class=\"dataframe\">\n",
       "  <thead>\n",
       "    <tr style=\"text-align: right;\">\n",
       "      <th></th>\n",
       "      <th>vals</th>\n",
       "      <th>grps</th>\n",
       "      <th>patched_vals</th>\n",
       "    </tr>\n",
       "  </thead>\n",
       "  <tbody>\n",
       "    <tr>\n",
       "      <th>3</th>\n",
       "      <td>4</td>\n",
       "      <td>A</td>\n",
       "      <td>4</td>\n",
       "    </tr>\n",
       "    <tr>\n",
       "      <th>5</th>\n",
       "      <td>28</td>\n",
       "      <td>B</td>\n",
       "      <td>28</td>\n",
       "    </tr>\n",
       "    <tr>\n",
       "      <th>8</th>\n",
       "      <td>8</td>\n",
       "      <td>A</td>\n",
       "      <td>8</td>\n",
       "    </tr>\n",
       "    <tr>\n",
       "      <th>10</th>\n",
       "      <td>28</td>\n",
       "      <td>A</td>\n",
       "      <td>28</td>\n",
       "    </tr>\n",
       "    <tr>\n",
       "      <th>11</th>\n",
       "      <td>12</td>\n",
       "      <td>A</td>\n",
       "      <td>12</td>\n",
       "    </tr>\n",
       "    <tr>\n",
       "      <th>12</th>\n",
       "      <td>16</td>\n",
       "      <td>A</td>\n",
       "      <td>16</td>\n",
       "    </tr>\n",
       "  </tbody>\n",
       "</table>\n",
       "</div>"
      ],
      "text/plain": [
       "    vals grps  patched_vals\n",
       "3      4    A             4\n",
       "5     28    B            28\n",
       "8      8    A             8\n",
       "10    28    A            28\n",
       "11    12    A            12\n",
       "12    16    A            16"
      ]
     },
     "execution_count": 6,
     "metadata": {},
     "output_type": "execute_result"
    }
   ],
   "source": [
    "df1 = df[df['vals'] > 0]\n",
    "df1"
   ]
  },
  {
   "cell_type": "code",
   "execution_count": 7,
   "id": "8766d79a",
   "metadata": {},
   "outputs": [
    {
     "data": {
      "text/plain": [
       "grps\n",
       "A    13.6\n",
       "B    28.0\n",
       "Name: vals, dtype: float64"
      ]
     },
     "execution_count": 7,
     "metadata": {},
     "output_type": "execute_result"
    }
   ],
   "source": [
    "df1.groupby(['grps'])['vals'].agg('mean')"
   ]
  },
  {
   "cell_type": "code",
   "execution_count": 8,
   "id": "1a8e7b85",
   "metadata": {},
   "outputs": [
    {
     "data": {
      "text/plain": [
       "13.6"
      ]
     },
     "execution_count": 8,
     "metadata": {},
     "output_type": "execute_result"
    }
   ],
   "source": [
    "df1.groupby(['grps'])['vals'].agg('mean')['A']"
   ]
  },
  {
   "cell_type": "code",
   "execution_count": 9,
   "id": "a5f4b78b",
   "metadata": {},
   "outputs": [
    {
     "data": {
      "text/plain": [
       "28.0"
      ]
     },
     "execution_count": 9,
     "metadata": {},
     "output_type": "execute_result"
    }
   ],
   "source": [
    "df1.groupby(['grps'])['vals'].agg('mean')['B']"
   ]
  },
  {
   "cell_type": "code",
   "execution_count": 10,
   "id": "ac3189b3",
   "metadata": {},
   "outputs": [],
   "source": [
    "df['patched_vals'] = np.where((df['patched_vals'] < 0) & (df['grps'] == 'A'),  df1.groupby(['grps'])['vals'].agg('mean').loc['A'], df['patched_vals'])"
   ]
  },
  {
   "cell_type": "code",
   "execution_count": 13,
   "id": "c3434c43",
   "metadata": {},
   "outputs": [],
   "source": [
    "df['patched_vals'] = np.where((df['patched_vals'] < 0) & (df['grps'] == 'B'),  df1.groupby(['grps'])['vals'].agg('mean').loc['B'], df['patched_vals'])"
   ]
  },
  {
   "cell_type": "code",
   "execution_count": null,
   "id": "8cef21cd",
   "metadata": {},
   "outputs": [],
   "source": [
    "df"
   ]
  },
  {
   "cell_type": "code",
   "execution_count": null,
   "id": "29c834b0",
   "metadata": {},
   "outputs": [],
   "source": []
  },
  {
   "cell_type": "markdown",
   "id": "197307db",
   "metadata": {},
   "source": [
    "# Задача № 41"
   ]
  },
  {
   "cell_type": "code",
   "execution_count": 2,
   "id": "007d72c2",
   "metadata": {},
   "outputs": [],
   "source": [
    "# Найдите сумму всех значений, которые указаны для среды (Wednesday)\n",
    "\n",
    "dti = pd.date_range(start='2021-01-01', end='2021-12-31', freq='B') \n",
    "s = pd.Series(np.random.RandomState(30).rand(len(dti)), index=dti)"
   ]
  },
  {
   "cell_type": "code",
   "execution_count": 7,
   "id": "107446d0",
   "metadata": {},
   "outputs": [],
   "source": [
    "ss = s.to_frame().reset_index()"
   ]
  },
  {
   "cell_type": "code",
   "execution_count": 8,
   "id": "32683903",
   "metadata": {},
   "outputs": [
    {
     "data": {
      "text/html": [
       "<div>\n",
       "<style scoped>\n",
       "    .dataframe tbody tr th:only-of-type {\n",
       "        vertical-align: middle;\n",
       "    }\n",
       "\n",
       "    .dataframe tbody tr th {\n",
       "        vertical-align: top;\n",
       "    }\n",
       "\n",
       "    .dataframe thead th {\n",
       "        text-align: right;\n",
       "    }\n",
       "</style>\n",
       "<table border=\"1\" class=\"dataframe\">\n",
       "  <thead>\n",
       "    <tr style=\"text-align: right;\">\n",
       "      <th></th>\n",
       "      <th>index</th>\n",
       "      <th>0</th>\n",
       "    </tr>\n",
       "  </thead>\n",
       "  <tbody>\n",
       "    <tr>\n",
       "      <th>0</th>\n",
       "      <td>2021-01-01</td>\n",
       "      <td>0.644144</td>\n",
       "    </tr>\n",
       "    <tr>\n",
       "      <th>1</th>\n",
       "      <td>2021-01-04</td>\n",
       "      <td>0.380748</td>\n",
       "    </tr>\n",
       "    <tr>\n",
       "      <th>2</th>\n",
       "      <td>2021-01-05</td>\n",
       "      <td>0.663048</td>\n",
       "    </tr>\n",
       "    <tr>\n",
       "      <th>3</th>\n",
       "      <td>2021-01-06</td>\n",
       "      <td>0.163651</td>\n",
       "    </tr>\n",
       "    <tr>\n",
       "      <th>4</th>\n",
       "      <td>2021-01-07</td>\n",
       "      <td>0.962608</td>\n",
       "    </tr>\n",
       "    <tr>\n",
       "      <th>...</th>\n",
       "      <td>...</td>\n",
       "      <td>...</td>\n",
       "    </tr>\n",
       "    <tr>\n",
       "      <th>256</th>\n",
       "      <td>2021-12-27</td>\n",
       "      <td>0.358708</td>\n",
       "    </tr>\n",
       "    <tr>\n",
       "      <th>257</th>\n",
       "      <td>2021-12-28</td>\n",
       "      <td>0.391431</td>\n",
       "    </tr>\n",
       "    <tr>\n",
       "      <th>258</th>\n",
       "      <td>2021-12-29</td>\n",
       "      <td>0.608953</td>\n",
       "    </tr>\n",
       "    <tr>\n",
       "      <th>259</th>\n",
       "      <td>2021-12-30</td>\n",
       "      <td>0.721118</td>\n",
       "    </tr>\n",
       "    <tr>\n",
       "      <th>260</th>\n",
       "      <td>2021-12-31</td>\n",
       "      <td>0.698055</td>\n",
       "    </tr>\n",
       "  </tbody>\n",
       "</table>\n",
       "<p>261 rows × 2 columns</p>\n",
       "</div>"
      ],
      "text/plain": [
       "         index         0\n",
       "0   2021-01-01  0.644144\n",
       "1   2021-01-04  0.380748\n",
       "2   2021-01-05  0.663048\n",
       "3   2021-01-06  0.163651\n",
       "4   2021-01-07  0.962608\n",
       "..         ...       ...\n",
       "256 2021-12-27  0.358708\n",
       "257 2021-12-28  0.391431\n",
       "258 2021-12-29  0.608953\n",
       "259 2021-12-30  0.721118\n",
       "260 2021-12-31  0.698055\n",
       "\n",
       "[261 rows x 2 columns]"
      ]
     },
     "execution_count": 8,
     "metadata": {},
     "output_type": "execute_result"
    }
   ],
   "source": [
    "ss"
   ]
  },
  {
   "cell_type": "code",
   "execution_count": 22,
   "id": "56678e42",
   "metadata": {},
   "outputs": [
    {
     "data": {
      "text/plain": [
       "0      False\n",
       "1      False\n",
       "2      False\n",
       "3       True\n",
       "4      False\n",
       "       ...  \n",
       "256    False\n",
       "257    False\n",
       "258     True\n",
       "259    False\n",
       "260    False\n",
       "Name: index, Length: 261, dtype: bool"
      ]
     },
     "execution_count": 22,
     "metadata": {},
     "output_type": "execute_result"
    }
   ],
   "source": [
    "ss['index'].dt.day_name() == 'Wednesday'"
   ]
  },
  {
   "cell_type": "code",
   "execution_count": 25,
   "id": "b05f24b2",
   "metadata": {},
   "outputs": [
    {
     "data": {
      "text/plain": [
       "23.508792429234397"
      ]
     },
     "execution_count": 25,
     "metadata": {},
     "output_type": "execute_result"
    }
   ],
   "source": [
    "ss[ss['index'].dt.day_name() == 'Wednesday'].loc[:,0].sum()"
   ]
  },
  {
   "cell_type": "code",
   "execution_count": null,
   "id": "1c480e2f",
   "metadata": {},
   "outputs": [],
   "source": []
  },
  {
   "cell_type": "code",
   "execution_count": null,
   "id": "13c5ecbd",
   "metadata": {},
   "outputs": [],
   "source": [
    "# Для каждого месяца найдите среднее значение."
   ]
  },
  {
   "cell_type": "code",
   "execution_count": null,
   "id": "9caa4733",
   "metadata": {},
   "outputs": [],
   "source": [
    "dti_1 = pd.date_range(start='2021-01-01', end='2021-12-31', freq='M')"
   ]
  },
  {
   "cell_type": "code",
   "execution_count": 72,
   "id": "dc6081a7",
   "metadata": {},
   "outputs": [
    {
     "data": {
      "text/plain": [
       "DatetimeIndex(['2021-01-31', '2021-02-28', '2021-03-31', '2021-04-30',\n",
       "               '2021-05-31', '2021-06-30', '2021-07-31', '2021-08-31',\n",
       "               '2021-09-30', '2021-10-31', '2021-11-30', '2021-12-31'],\n",
       "              dtype='datetime64[ns]', freq='M')"
      ]
     },
     "execution_count": 72,
     "metadata": {},
     "output_type": "execute_result"
    }
   ],
   "source": [
    "dti_1"
   ]
  },
  {
   "cell_type": "code",
   "execution_count": null,
   "id": "770ee6d0",
   "metadata": {},
   "outputs": [],
   "source": []
  },
  {
   "cell_type": "code",
   "execution_count": 30,
   "id": "6e5d4da2",
   "metadata": {},
   "outputs": [
    {
     "data": {
      "text/plain": [
       "0       1\n",
       "1       1\n",
       "2       1\n",
       "3       1\n",
       "4       1\n",
       "       ..\n",
       "256    12\n",
       "257    12\n",
       "258    12\n",
       "259    12\n",
       "260    12\n",
       "Name: index, Length: 261, dtype: int64"
      ]
     },
     "execution_count": 30,
     "metadata": {},
     "output_type": "execute_result"
    }
   ],
   "source": [
    "ss['index'].dt.month"
   ]
  },
  {
   "cell_type": "code",
   "execution_count": 32,
   "id": "836ec9db",
   "metadata": {},
   "outputs": [],
   "source": [
    "ss['month'] = ss['index'].dt.month"
   ]
  },
  {
   "cell_type": "code",
   "execution_count": 33,
   "id": "08e532ce",
   "metadata": {},
   "outputs": [
    {
     "data": {
      "text/html": [
       "<div>\n",
       "<style scoped>\n",
       "    .dataframe tbody tr th:only-of-type {\n",
       "        vertical-align: middle;\n",
       "    }\n",
       "\n",
       "    .dataframe tbody tr th {\n",
       "        vertical-align: top;\n",
       "    }\n",
       "\n",
       "    .dataframe thead th {\n",
       "        text-align: right;\n",
       "    }\n",
       "</style>\n",
       "<table border=\"1\" class=\"dataframe\">\n",
       "  <thead>\n",
       "    <tr style=\"text-align: right;\">\n",
       "      <th></th>\n",
       "      <th>index</th>\n",
       "      <th>0</th>\n",
       "      <th>month</th>\n",
       "    </tr>\n",
       "  </thead>\n",
       "  <tbody>\n",
       "    <tr>\n",
       "      <th>0</th>\n",
       "      <td>2021-01-01</td>\n",
       "      <td>0.644144</td>\n",
       "      <td>1</td>\n",
       "    </tr>\n",
       "    <tr>\n",
       "      <th>1</th>\n",
       "      <td>2021-01-04</td>\n",
       "      <td>0.380748</td>\n",
       "      <td>1</td>\n",
       "    </tr>\n",
       "    <tr>\n",
       "      <th>2</th>\n",
       "      <td>2021-01-05</td>\n",
       "      <td>0.663048</td>\n",
       "      <td>1</td>\n",
       "    </tr>\n",
       "    <tr>\n",
       "      <th>3</th>\n",
       "      <td>2021-01-06</td>\n",
       "      <td>0.163651</td>\n",
       "      <td>1</td>\n",
       "    </tr>\n",
       "    <tr>\n",
       "      <th>4</th>\n",
       "      <td>2021-01-07</td>\n",
       "      <td>0.962608</td>\n",
       "      <td>1</td>\n",
       "    </tr>\n",
       "    <tr>\n",
       "      <th>...</th>\n",
       "      <td>...</td>\n",
       "      <td>...</td>\n",
       "      <td>...</td>\n",
       "    </tr>\n",
       "    <tr>\n",
       "      <th>256</th>\n",
       "      <td>2021-12-27</td>\n",
       "      <td>0.358708</td>\n",
       "      <td>12</td>\n",
       "    </tr>\n",
       "    <tr>\n",
       "      <th>257</th>\n",
       "      <td>2021-12-28</td>\n",
       "      <td>0.391431</td>\n",
       "      <td>12</td>\n",
       "    </tr>\n",
       "    <tr>\n",
       "      <th>258</th>\n",
       "      <td>2021-12-29</td>\n",
       "      <td>0.608953</td>\n",
       "      <td>12</td>\n",
       "    </tr>\n",
       "    <tr>\n",
       "      <th>259</th>\n",
       "      <td>2021-12-30</td>\n",
       "      <td>0.721118</td>\n",
       "      <td>12</td>\n",
       "    </tr>\n",
       "    <tr>\n",
       "      <th>260</th>\n",
       "      <td>2021-12-31</td>\n",
       "      <td>0.698055</td>\n",
       "      <td>12</td>\n",
       "    </tr>\n",
       "  </tbody>\n",
       "</table>\n",
       "<p>261 rows × 3 columns</p>\n",
       "</div>"
      ],
      "text/plain": [
       "         index         0  month\n",
       "0   2021-01-01  0.644144      1\n",
       "1   2021-01-04  0.380748      1\n",
       "2   2021-01-05  0.663048      1\n",
       "3   2021-01-06  0.163651      1\n",
       "4   2021-01-07  0.962608      1\n",
       "..         ...       ...    ...\n",
       "256 2021-12-27  0.358708     12\n",
       "257 2021-12-28  0.391431     12\n",
       "258 2021-12-29  0.608953     12\n",
       "259 2021-12-30  0.721118     12\n",
       "260 2021-12-31  0.698055     12\n",
       "\n",
       "[261 rows x 3 columns]"
      ]
     },
     "execution_count": 33,
     "metadata": {},
     "output_type": "execute_result"
    }
   ],
   "source": [
    "ss"
   ]
  },
  {
   "cell_type": "code",
   "execution_count": 47,
   "id": "f9e57344",
   "metadata": {},
   "outputs": [],
   "source": [
    "sss = ss.groupby(['month'])[0].agg('mean')"
   ]
  },
  {
   "cell_type": "code",
   "execution_count": 61,
   "id": "cc0d584e",
   "metadata": {},
   "outputs": [],
   "source": [
    "sss = sss.to_frame()"
   ]
  },
  {
   "cell_type": "code",
   "execution_count": 64,
   "id": "a1599da4",
   "metadata": {},
   "outputs": [],
   "source": [
    "sss = sss.set_index(dti_1)"
   ]
  },
  {
   "cell_type": "code",
   "execution_count": 66,
   "id": "b5f95952",
   "metadata": {},
   "outputs": [
    {
     "data": {
      "text/plain": [
       "2021-01-31    0.507726\n",
       "2021-02-28    0.462692\n",
       "2021-03-31    0.478605\n",
       "2021-04-30    0.564210\n",
       "2021-05-31    0.387735\n",
       "2021-06-30    0.451999\n",
       "2021-07-31    0.541958\n",
       "2021-08-31    0.553241\n",
       "2021-09-30    0.507650\n",
       "2021-10-31    0.453517\n",
       "2021-11-30    0.490528\n",
       "2021-12-31    0.495812\n",
       "Freq: M, Name: 0, dtype: float64"
      ]
     },
     "execution_count": 66,
     "metadata": {},
     "output_type": "execute_result"
    }
   ],
   "source": [
    "sss[0]"
   ]
  },
  {
   "cell_type": "code",
   "execution_count": 70,
   "id": "ebb0c315",
   "metadata": {},
   "outputs": [],
   "source": [
    "sss[0].name = None"
   ]
  },
  {
   "cell_type": "code",
   "execution_count": 71,
   "id": "f569c095",
   "metadata": {},
   "outputs": [
    {
     "data": {
      "text/plain": [
       "2021-01-31    0.507726\n",
       "2021-02-28    0.462692\n",
       "2021-03-31    0.478605\n",
       "2021-04-30    0.564210\n",
       "2021-05-31    0.387735\n",
       "2021-06-30    0.451999\n",
       "2021-07-31    0.541958\n",
       "2021-08-31    0.553241\n",
       "2021-09-30    0.507650\n",
       "2021-10-31    0.453517\n",
       "2021-11-30    0.490528\n",
       "2021-12-31    0.495812\n",
       "Freq: M, dtype: float64"
      ]
     },
     "execution_count": 71,
     "metadata": {},
     "output_type": "execute_result"
    }
   ],
   "source": [
    "sss[0]"
   ]
  },
  {
   "cell_type": "code",
   "execution_count": null,
   "id": "dc40d342",
   "metadata": {},
   "outputs": [],
   "source": []
  },
  {
   "cell_type": "markdown",
   "id": "4d6321a7",
   "metadata": {},
   "source": [
    "# Задача № 42"
   ]
  },
  {
   "cell_type": "code",
   "execution_count": 47,
   "id": "149186d9",
   "metadata": {},
   "outputs": [],
   "source": [
    "# Превратите датафрейм в квадрат с максимально возможной длиной стороны n, убрав отрицательные значения. \n",
    "# При необходимости удалите наименьшие значения. Порядок положительных чисел в результате должен оставаться \n",
    "# таким же, как и в оригинале.\n",
    "\n",
    "# Подсказка:\n",
    "\n",
    "# Шаг 1: Удалите отрицательные значения\n",
    "\n",
    "# Шаг 2: Определите наибольший размер стороны квадрата n, который может получиться\n",
    "\n",
    "# Шаг 3: Постройте квадрат со стороной n из ТОП n^2 наибольших значений\n",
    "\n",
    "df = pd.DataFrame(np.random.RandomState(30).randint(-20, 50, 100).reshape(10,-1))"
   ]
  },
  {
   "cell_type": "code",
   "execution_count": 48,
   "id": "649ae317",
   "metadata": {},
   "outputs": [
    {
     "data": {
      "text/html": [
       "<div>\n",
       "<style scoped>\n",
       "    .dataframe tbody tr th:only-of-type {\n",
       "        vertical-align: middle;\n",
       "    }\n",
       "\n",
       "    .dataframe tbody tr th {\n",
       "        vertical-align: top;\n",
       "    }\n",
       "\n",
       "    .dataframe thead th {\n",
       "        text-align: right;\n",
       "    }\n",
       "</style>\n",
       "<table border=\"1\" class=\"dataframe\">\n",
       "  <thead>\n",
       "    <tr style=\"text-align: right;\">\n",
       "      <th></th>\n",
       "      <th>0</th>\n",
       "      <th>1</th>\n",
       "      <th>2</th>\n",
       "      <th>3</th>\n",
       "      <th>4</th>\n",
       "      <th>5</th>\n",
       "      <th>6</th>\n",
       "      <th>7</th>\n",
       "      <th>8</th>\n",
       "      <th>9</th>\n",
       "    </tr>\n",
       "  </thead>\n",
       "  <tbody>\n",
       "    <tr>\n",
       "      <th>0</th>\n",
       "      <td>17</td>\n",
       "      <td>17</td>\n",
       "      <td>25</td>\n",
       "      <td>25</td>\n",
       "      <td>-8</td>\n",
       "      <td>3</td>\n",
       "      <td>-18</td>\n",
       "      <td>33</td>\n",
       "      <td>-3</td>\n",
       "      <td>26</td>\n",
       "    </tr>\n",
       "    <tr>\n",
       "      <th>1</th>\n",
       "      <td>-17</td>\n",
       "      <td>21</td>\n",
       "      <td>-13</td>\n",
       "      <td>45</td>\n",
       "      <td>29</td>\n",
       "      <td>25</td>\n",
       "      <td>41</td>\n",
       "      <td>15</td>\n",
       "      <td>-2</td>\n",
       "      <td>-2</td>\n",
       "    </tr>\n",
       "    <tr>\n",
       "      <th>2</th>\n",
       "      <td>-4</td>\n",
       "      <td>-14</td>\n",
       "      <td>42</td>\n",
       "      <td>7</td>\n",
       "      <td>26</td>\n",
       "      <td>25</td>\n",
       "      <td>44</td>\n",
       "      <td>42</td>\n",
       "      <td>-9</td>\n",
       "      <td>-5</td>\n",
       "    </tr>\n",
       "    <tr>\n",
       "      <th>3</th>\n",
       "      <td>3</td>\n",
       "      <td>-7</td>\n",
       "      <td>30</td>\n",
       "      <td>13</td>\n",
       "      <td>35</td>\n",
       "      <td>8</td>\n",
       "      <td>38</td>\n",
       "      <td>37</td>\n",
       "      <td>24</td>\n",
       "      <td>17</td>\n",
       "    </tr>\n",
       "    <tr>\n",
       "      <th>4</th>\n",
       "      <td>37</td>\n",
       "      <td>19</td>\n",
       "      <td>-11</td>\n",
       "      <td>13</td>\n",
       "      <td>27</td>\n",
       "      <td>19</td>\n",
       "      <td>16</td>\n",
       "      <td>2</td>\n",
       "      <td>20</td>\n",
       "      <td>5</td>\n",
       "    </tr>\n",
       "    <tr>\n",
       "      <th>5</th>\n",
       "      <td>34</td>\n",
       "      <td>49</td>\n",
       "      <td>6</td>\n",
       "      <td>-1</td>\n",
       "      <td>10</td>\n",
       "      <td>29</td>\n",
       "      <td>32</td>\n",
       "      <td>24</td>\n",
       "      <td>41</td>\n",
       "      <td>14</td>\n",
       "    </tr>\n",
       "    <tr>\n",
       "      <th>6</th>\n",
       "      <td>23</td>\n",
       "      <td>8</td>\n",
       "      <td>40</td>\n",
       "      <td>31</td>\n",
       "      <td>21</td>\n",
       "      <td>36</td>\n",
       "      <td>-4</td>\n",
       "      <td>19</td>\n",
       "      <td>13</td>\n",
       "      <td>-11</td>\n",
       "    </tr>\n",
       "    <tr>\n",
       "      <th>7</th>\n",
       "      <td>-9</td>\n",
       "      <td>-16</td>\n",
       "      <td>8</td>\n",
       "      <td>-10</td>\n",
       "      <td>-3</td>\n",
       "      <td>38</td>\n",
       "      <td>-11</td>\n",
       "      <td>25</td>\n",
       "      <td>28</td>\n",
       "      <td>35</td>\n",
       "    </tr>\n",
       "    <tr>\n",
       "      <th>8</th>\n",
       "      <td>-1</td>\n",
       "      <td>25</td>\n",
       "      <td>11</td>\n",
       "      <td>3</td>\n",
       "      <td>-9</td>\n",
       "      <td>9</td>\n",
       "      <td>24</td>\n",
       "      <td>9</td>\n",
       "      <td>-1</td>\n",
       "      <td>31</td>\n",
       "    </tr>\n",
       "    <tr>\n",
       "      <th>9</th>\n",
       "      <td>35</td>\n",
       "      <td>32</td>\n",
       "      <td>3</td>\n",
       "      <td>41</td>\n",
       "      <td>-14</td>\n",
       "      <td>19</td>\n",
       "      <td>10</td>\n",
       "      <td>24</td>\n",
       "      <td>27</td>\n",
       "      <td>-7</td>\n",
       "    </tr>\n",
       "  </tbody>\n",
       "</table>\n",
       "</div>"
      ],
      "text/plain": [
       "    0   1   2   3   4   5   6   7   8   9\n",
       "0  17  17  25  25  -8   3 -18  33  -3  26\n",
       "1 -17  21 -13  45  29  25  41  15  -2  -2\n",
       "2  -4 -14  42   7  26  25  44  42  -9  -5\n",
       "3   3  -7  30  13  35   8  38  37  24  17\n",
       "4  37  19 -11  13  27  19  16   2  20   5\n",
       "5  34  49   6  -1  10  29  32  24  41  14\n",
       "6  23   8  40  31  21  36  -4  19  13 -11\n",
       "7  -9 -16   8 -10  -3  38 -11  25  28  35\n",
       "8  -1  25  11   3  -9   9  24   9  -1  31\n",
       "9  35  32   3  41 -14  19  10  24  27  -7"
      ]
     },
     "execution_count": 48,
     "metadata": {},
     "output_type": "execute_result"
    }
   ],
   "source": [
    "df"
   ]
  },
  {
   "cell_type": "code",
   "execution_count": 49,
   "id": "15896849",
   "metadata": {},
   "outputs": [],
   "source": [
    "df_1 = df.values[df.values > 0]"
   ]
  },
  {
   "cell_type": "code",
   "execution_count": 50,
   "id": "0c5e089a",
   "metadata": {},
   "outputs": [
    {
     "data": {
      "text/plain": [
       "array([17, 17, 25, 25,  3, 33, 26, 21, 45, 29, 25, 41, 15, 42,  7, 26, 25,\n",
       "       44, 42,  3, 30, 13, 35,  8, 38, 37, 24, 17, 37, 19, 13, 27, 19, 16,\n",
       "        2, 20,  5, 34, 49,  6, 10, 29, 32, 24, 41, 14, 23,  8, 40, 31, 21,\n",
       "       36, 19, 13,  8, 38, 25, 28, 35, 25, 11,  3,  9, 24,  9, 31, 35, 32,\n",
       "        3, 41, 19, 10, 24, 27])"
      ]
     },
     "execution_count": 50,
     "metadata": {},
     "output_type": "execute_result"
    }
   ],
   "source": [
    "df_1"
   ]
  },
  {
   "cell_type": "code",
   "execution_count": 51,
   "id": "fa7470ae",
   "metadata": {},
   "outputs": [
    {
     "data": {
      "text/plain": [
       "74"
      ]
     },
     "execution_count": 51,
     "metadata": {},
     "output_type": "execute_result"
    }
   ],
   "source": [
    "len(df_1)"
   ]
  },
  {
   "cell_type": "code",
   "execution_count": 58,
   "id": "7e15c436",
   "metadata": {},
   "outputs": [],
   "source": [
    "n = np.sqrt(len(df_1))//1"
   ]
  },
  {
   "cell_type": "code",
   "execution_count": 59,
   "id": "f938042c",
   "metadata": {},
   "outputs": [
    {
     "data": {
      "text/plain": [
       "8.0"
      ]
     },
     "execution_count": 59,
     "metadata": {},
     "output_type": "execute_result"
    }
   ],
   "source": [
    "n"
   ]
  },
  {
   "cell_type": "code",
   "execution_count": 85,
   "id": "99d59535",
   "metadata": {},
   "outputs": [],
   "source": [
    "n = n.astype('int64')"
   ]
  },
  {
   "cell_type": "code",
   "execution_count": 61,
   "id": "2efe16c2",
   "metadata": {},
   "outputs": [],
   "source": [
    "r = len(df_1) - n**2"
   ]
  },
  {
   "cell_type": "code",
   "execution_count": 76,
   "id": "9780056a",
   "metadata": {},
   "outputs": [],
   "source": [
    "r = r.astype('int64')"
   ]
  },
  {
   "cell_type": "code",
   "execution_count": 77,
   "id": "ae09dc1d",
   "metadata": {},
   "outputs": [
    {
     "data": {
      "text/plain": [
       "dtype('int64')"
      ]
     },
     "execution_count": 77,
     "metadata": {},
     "output_type": "execute_result"
    }
   ],
   "source": [
    "r.dtype"
   ]
  },
  {
   "cell_type": "code",
   "execution_count": 69,
   "id": "c50b96e6",
   "metadata": {},
   "outputs": [
    {
     "data": {
      "text/plain": [
       "2"
      ]
     },
     "execution_count": 69,
     "metadata": {},
     "output_type": "execute_result"
    }
   ],
   "source": [
    "df_1.min()"
   ]
  },
  {
   "cell_type": "code",
   "execution_count": 79,
   "id": "43f868a0",
   "metadata": {},
   "outputs": [],
   "source": [
    "df_2 = list(df_1)"
   ]
  },
  {
   "cell_type": "code",
   "execution_count": 81,
   "id": "bbd4cbad",
   "metadata": {},
   "outputs": [],
   "source": [
    "for _ in range(r):\n",
    "    df_2.remove(min(df_2))    "
   ]
  },
  {
   "cell_type": "code",
   "execution_count": 83,
   "id": "ba7f5892",
   "metadata": {},
   "outputs": [
    {
     "data": {
      "text/plain": [
       "64"
      ]
     },
     "execution_count": 83,
     "metadata": {},
     "output_type": "execute_result"
    }
   ],
   "source": [
    "len(df_2)"
   ]
  },
  {
   "cell_type": "code",
   "execution_count": 92,
   "id": "b6c2ba7f",
   "metadata": {},
   "outputs": [
    {
     "name": "stdout",
     "output_type": "stream",
     "text": [
      "[[17. 17. 25. 25. 33. 26. 21. 45.]\n",
      " [29. 25. 41. 15. 42. 26. 25. 44.]\n",
      " [42. 30. 13. 35. 38. 37. 24. 17.]\n",
      " [37. 19. 13. 27. 19. 16. 20. 34.]\n",
      " [49. 10. 29. 32. 24. 41. 14. 23.]\n",
      " [40. 31. 21. 36. 19. 13.  8. 38.]\n",
      " [25. 28. 35. 25. 11.  9. 24.  9.]\n",
      " [31. 35. 32. 41. 19. 10. 24. 27.]]\n"
     ]
    }
   ],
   "source": [
    "print(np.array(df_2).reshape(n, n).astype(np.float32))"
   ]
  },
  {
   "cell_type": "code",
   "execution_count": null,
   "id": "b5262da6",
   "metadata": {},
   "outputs": [],
   "source": []
  },
  {
   "cell_type": "code",
   "execution_count": 2,
   "id": "2dd8c5b7",
   "metadata": {},
   "outputs": [],
   "source": [
    "# Поменяйте местами строки 1 и 2\n",
    "\n",
    "df = pd.DataFrame(np.arange(25).reshape(5, -1))"
   ]
  },
  {
   "cell_type": "code",
   "execution_count": 3,
   "id": "b98a8457",
   "metadata": {},
   "outputs": [
    {
     "data": {
      "text/html": [
       "<div>\n",
       "<style scoped>\n",
       "    .dataframe tbody tr th:only-of-type {\n",
       "        vertical-align: middle;\n",
       "    }\n",
       "\n",
       "    .dataframe tbody tr th {\n",
       "        vertical-align: top;\n",
       "    }\n",
       "\n",
       "    .dataframe thead th {\n",
       "        text-align: right;\n",
       "    }\n",
       "</style>\n",
       "<table border=\"1\" class=\"dataframe\">\n",
       "  <thead>\n",
       "    <tr style=\"text-align: right;\">\n",
       "      <th></th>\n",
       "      <th>0</th>\n",
       "      <th>1</th>\n",
       "      <th>2</th>\n",
       "      <th>3</th>\n",
       "      <th>4</th>\n",
       "    </tr>\n",
       "  </thead>\n",
       "  <tbody>\n",
       "    <tr>\n",
       "      <th>0</th>\n",
       "      <td>0</td>\n",
       "      <td>1</td>\n",
       "      <td>2</td>\n",
       "      <td>3</td>\n",
       "      <td>4</td>\n",
       "    </tr>\n",
       "    <tr>\n",
       "      <th>1</th>\n",
       "      <td>5</td>\n",
       "      <td>6</td>\n",
       "      <td>7</td>\n",
       "      <td>8</td>\n",
       "      <td>9</td>\n",
       "    </tr>\n",
       "    <tr>\n",
       "      <th>2</th>\n",
       "      <td>10</td>\n",
       "      <td>11</td>\n",
       "      <td>12</td>\n",
       "      <td>13</td>\n",
       "      <td>14</td>\n",
       "    </tr>\n",
       "    <tr>\n",
       "      <th>3</th>\n",
       "      <td>15</td>\n",
       "      <td>16</td>\n",
       "      <td>17</td>\n",
       "      <td>18</td>\n",
       "      <td>19</td>\n",
       "    </tr>\n",
       "    <tr>\n",
       "      <th>4</th>\n",
       "      <td>20</td>\n",
       "      <td>21</td>\n",
       "      <td>22</td>\n",
       "      <td>23</td>\n",
       "      <td>24</td>\n",
       "    </tr>\n",
       "  </tbody>\n",
       "</table>\n",
       "</div>"
      ],
      "text/plain": [
       "    0   1   2   3   4\n",
       "0   0   1   2   3   4\n",
       "1   5   6   7   8   9\n",
       "2  10  11  12  13  14\n",
       "3  15  16  17  18  19\n",
       "4  20  21  22  23  24"
      ]
     },
     "execution_count": 3,
     "metadata": {},
     "output_type": "execute_result"
    }
   ],
   "source": [
    "df"
   ]
  },
  {
   "cell_type": "code",
   "execution_count": 11,
   "id": "b4c58520",
   "metadata": {},
   "outputs": [],
   "source": [
    "df = df.iloc[[0, 2, 1, 3, 4]]"
   ]
  },
  {
   "cell_type": "code",
   "execution_count": 13,
   "id": "369ac042",
   "metadata": {},
   "outputs": [],
   "source": [
    "df.index = [0, 1, 2, 3, 4]"
   ]
  },
  {
   "cell_type": "code",
   "execution_count": 14,
   "id": "1a4eef54",
   "metadata": {},
   "outputs": [
    {
     "data": {
      "text/html": [
       "<div>\n",
       "<style scoped>\n",
       "    .dataframe tbody tr th:only-of-type {\n",
       "        vertical-align: middle;\n",
       "    }\n",
       "\n",
       "    .dataframe tbody tr th {\n",
       "        vertical-align: top;\n",
       "    }\n",
       "\n",
       "    .dataframe thead th {\n",
       "        text-align: right;\n",
       "    }\n",
       "</style>\n",
       "<table border=\"1\" class=\"dataframe\">\n",
       "  <thead>\n",
       "    <tr style=\"text-align: right;\">\n",
       "      <th></th>\n",
       "      <th>0</th>\n",
       "      <th>1</th>\n",
       "      <th>2</th>\n",
       "      <th>3</th>\n",
       "      <th>4</th>\n",
       "    </tr>\n",
       "  </thead>\n",
       "  <tbody>\n",
       "    <tr>\n",
       "      <th>0</th>\n",
       "      <td>0</td>\n",
       "      <td>1</td>\n",
       "      <td>2</td>\n",
       "      <td>3</td>\n",
       "      <td>4</td>\n",
       "    </tr>\n",
       "    <tr>\n",
       "      <th>1</th>\n",
       "      <td>10</td>\n",
       "      <td>11</td>\n",
       "      <td>12</td>\n",
       "      <td>13</td>\n",
       "      <td>14</td>\n",
       "    </tr>\n",
       "    <tr>\n",
       "      <th>2</th>\n",
       "      <td>5</td>\n",
       "      <td>6</td>\n",
       "      <td>7</td>\n",
       "      <td>8</td>\n",
       "      <td>9</td>\n",
       "    </tr>\n",
       "    <tr>\n",
       "      <th>3</th>\n",
       "      <td>15</td>\n",
       "      <td>16</td>\n",
       "      <td>17</td>\n",
       "      <td>18</td>\n",
       "      <td>19</td>\n",
       "    </tr>\n",
       "    <tr>\n",
       "      <th>4</th>\n",
       "      <td>20</td>\n",
       "      <td>21</td>\n",
       "      <td>22</td>\n",
       "      <td>23</td>\n",
       "      <td>24</td>\n",
       "    </tr>\n",
       "  </tbody>\n",
       "</table>\n",
       "</div>"
      ],
      "text/plain": [
       "    0   1   2   3   4\n",
       "0   0   1   2   3   4\n",
       "1  10  11  12  13  14\n",
       "2   5   6   7   8   9\n",
       "3  15  16  17  18  19\n",
       "4  20  21  22  23  24"
      ]
     },
     "execution_count": 14,
     "metadata": {},
     "output_type": "execute_result"
    }
   ],
   "source": [
    "df"
   ]
  },
  {
   "cell_type": "code",
   "execution_count": null,
   "id": "36c1ac20",
   "metadata": {},
   "outputs": [],
   "source": []
  },
  {
   "cell_type": "code",
   "execution_count": 2,
   "id": "61e96986",
   "metadata": {},
   "outputs": [],
   "source": [
    "# Измените порядок строк датафрейма таким образом, чтобы последние стали первыми, а первые последними (reverse)."
   ]
  },
  {
   "cell_type": "code",
   "execution_count": 3,
   "id": "202f281a",
   "metadata": {},
   "outputs": [],
   "source": [
    "df = pd.DataFrame(np.arange(25).reshape(5, -1))"
   ]
  },
  {
   "cell_type": "code",
   "execution_count": 4,
   "id": "9c0fe3a9",
   "metadata": {},
   "outputs": [
    {
     "data": {
      "text/html": [
       "<div>\n",
       "<style scoped>\n",
       "    .dataframe tbody tr th:only-of-type {\n",
       "        vertical-align: middle;\n",
       "    }\n",
       "\n",
       "    .dataframe tbody tr th {\n",
       "        vertical-align: top;\n",
       "    }\n",
       "\n",
       "    .dataframe thead th {\n",
       "        text-align: right;\n",
       "    }\n",
       "</style>\n",
       "<table border=\"1\" class=\"dataframe\">\n",
       "  <thead>\n",
       "    <tr style=\"text-align: right;\">\n",
       "      <th></th>\n",
       "      <th>0</th>\n",
       "      <th>1</th>\n",
       "      <th>2</th>\n",
       "      <th>3</th>\n",
       "      <th>4</th>\n",
       "    </tr>\n",
       "  </thead>\n",
       "  <tbody>\n",
       "    <tr>\n",
       "      <th>0</th>\n",
       "      <td>0</td>\n",
       "      <td>1</td>\n",
       "      <td>2</td>\n",
       "      <td>3</td>\n",
       "      <td>4</td>\n",
       "    </tr>\n",
       "    <tr>\n",
       "      <th>1</th>\n",
       "      <td>5</td>\n",
       "      <td>6</td>\n",
       "      <td>7</td>\n",
       "      <td>8</td>\n",
       "      <td>9</td>\n",
       "    </tr>\n",
       "    <tr>\n",
       "      <th>2</th>\n",
       "      <td>10</td>\n",
       "      <td>11</td>\n",
       "      <td>12</td>\n",
       "      <td>13</td>\n",
       "      <td>14</td>\n",
       "    </tr>\n",
       "    <tr>\n",
       "      <th>3</th>\n",
       "      <td>15</td>\n",
       "      <td>16</td>\n",
       "      <td>17</td>\n",
       "      <td>18</td>\n",
       "      <td>19</td>\n",
       "    </tr>\n",
       "    <tr>\n",
       "      <th>4</th>\n",
       "      <td>20</td>\n",
       "      <td>21</td>\n",
       "      <td>22</td>\n",
       "      <td>23</td>\n",
       "      <td>24</td>\n",
       "    </tr>\n",
       "  </tbody>\n",
       "</table>\n",
       "</div>"
      ],
      "text/plain": [
       "    0   1   2   3   4\n",
       "0   0   1   2   3   4\n",
       "1   5   6   7   8   9\n",
       "2  10  11  12  13  14\n",
       "3  15  16  17  18  19\n",
       "4  20  21  22  23  24"
      ]
     },
     "execution_count": 4,
     "metadata": {},
     "output_type": "execute_result"
    }
   ],
   "source": [
    "df"
   ]
  },
  {
   "cell_type": "code",
   "execution_count": 5,
   "id": "a9dfa6a6",
   "metadata": {},
   "outputs": [
    {
     "data": {
      "text/html": [
       "<div>\n",
       "<style scoped>\n",
       "    .dataframe tbody tr th:only-of-type {\n",
       "        vertical-align: middle;\n",
       "    }\n",
       "\n",
       "    .dataframe tbody tr th {\n",
       "        vertical-align: top;\n",
       "    }\n",
       "\n",
       "    .dataframe thead th {\n",
       "        text-align: right;\n",
       "    }\n",
       "</style>\n",
       "<table border=\"1\" class=\"dataframe\">\n",
       "  <thead>\n",
       "    <tr style=\"text-align: right;\">\n",
       "      <th></th>\n",
       "      <th>0</th>\n",
       "      <th>1</th>\n",
       "      <th>2</th>\n",
       "      <th>3</th>\n",
       "      <th>4</th>\n",
       "    </tr>\n",
       "  </thead>\n",
       "  <tbody>\n",
       "    <tr>\n",
       "      <th>4</th>\n",
       "      <td>20</td>\n",
       "      <td>21</td>\n",
       "      <td>22</td>\n",
       "      <td>23</td>\n",
       "      <td>24</td>\n",
       "    </tr>\n",
       "    <tr>\n",
       "      <th>3</th>\n",
       "      <td>15</td>\n",
       "      <td>16</td>\n",
       "      <td>17</td>\n",
       "      <td>18</td>\n",
       "      <td>19</td>\n",
       "    </tr>\n",
       "    <tr>\n",
       "      <th>2</th>\n",
       "      <td>10</td>\n",
       "      <td>11</td>\n",
       "      <td>12</td>\n",
       "      <td>13</td>\n",
       "      <td>14</td>\n",
       "    </tr>\n",
       "    <tr>\n",
       "      <th>1</th>\n",
       "      <td>5</td>\n",
       "      <td>6</td>\n",
       "      <td>7</td>\n",
       "      <td>8</td>\n",
       "      <td>9</td>\n",
       "    </tr>\n",
       "    <tr>\n",
       "      <th>0</th>\n",
       "      <td>0</td>\n",
       "      <td>1</td>\n",
       "      <td>2</td>\n",
       "      <td>3</td>\n",
       "      <td>4</td>\n",
       "    </tr>\n",
       "  </tbody>\n",
       "</table>\n",
       "</div>"
      ],
      "text/plain": [
       "    0   1   2   3   4\n",
       "4  20  21  22  23  24\n",
       "3  15  16  17  18  19\n",
       "2  10  11  12  13  14\n",
       "1   5   6   7   8   9\n",
       "0   0   1   2   3   4"
      ]
     },
     "execution_count": 5,
     "metadata": {},
     "output_type": "execute_result"
    }
   ],
   "source": [
    "df[::-1]"
   ]
  },
  {
   "cell_type": "code",
   "execution_count": null,
   "id": "d5b067fa",
   "metadata": {},
   "outputs": [],
   "source": []
  },
  {
   "cell_type": "code",
   "execution_count": 6,
   "id": "7ebeabed",
   "metadata": {},
   "outputs": [],
   "source": [
    "# Выполните one-hot encoding для столбца А и добавьте результат к датафрейму"
   ]
  },
  {
   "cell_type": "code",
   "execution_count": 7,
   "id": "4c0d14a8",
   "metadata": {},
   "outputs": [],
   "source": [
    "df = pd.DataFrame(np.arange(25).reshape(5,-1), columns=list('abcde'))"
   ]
  },
  {
   "cell_type": "code",
   "execution_count": 8,
   "id": "c6812bf1",
   "metadata": {},
   "outputs": [
    {
     "data": {
      "text/html": [
       "<div>\n",
       "<style scoped>\n",
       "    .dataframe tbody tr th:only-of-type {\n",
       "        vertical-align: middle;\n",
       "    }\n",
       "\n",
       "    .dataframe tbody tr th {\n",
       "        vertical-align: top;\n",
       "    }\n",
       "\n",
       "    .dataframe thead th {\n",
       "        text-align: right;\n",
       "    }\n",
       "</style>\n",
       "<table border=\"1\" class=\"dataframe\">\n",
       "  <thead>\n",
       "    <tr style=\"text-align: right;\">\n",
       "      <th></th>\n",
       "      <th>a</th>\n",
       "      <th>b</th>\n",
       "      <th>c</th>\n",
       "      <th>d</th>\n",
       "      <th>e</th>\n",
       "    </tr>\n",
       "  </thead>\n",
       "  <tbody>\n",
       "    <tr>\n",
       "      <th>0</th>\n",
       "      <td>0</td>\n",
       "      <td>1</td>\n",
       "      <td>2</td>\n",
       "      <td>3</td>\n",
       "      <td>4</td>\n",
       "    </tr>\n",
       "    <tr>\n",
       "      <th>1</th>\n",
       "      <td>5</td>\n",
       "      <td>6</td>\n",
       "      <td>7</td>\n",
       "      <td>8</td>\n",
       "      <td>9</td>\n",
       "    </tr>\n",
       "    <tr>\n",
       "      <th>2</th>\n",
       "      <td>10</td>\n",
       "      <td>11</td>\n",
       "      <td>12</td>\n",
       "      <td>13</td>\n",
       "      <td>14</td>\n",
       "    </tr>\n",
       "    <tr>\n",
       "      <th>3</th>\n",
       "      <td>15</td>\n",
       "      <td>16</td>\n",
       "      <td>17</td>\n",
       "      <td>18</td>\n",
       "      <td>19</td>\n",
       "    </tr>\n",
       "    <tr>\n",
       "      <th>4</th>\n",
       "      <td>20</td>\n",
       "      <td>21</td>\n",
       "      <td>22</td>\n",
       "      <td>23</td>\n",
       "      <td>24</td>\n",
       "    </tr>\n",
       "  </tbody>\n",
       "</table>\n",
       "</div>"
      ],
      "text/plain": [
       "    a   b   c   d   e\n",
       "0   0   1   2   3   4\n",
       "1   5   6   7   8   9\n",
       "2  10  11  12  13  14\n",
       "3  15  16  17  18  19\n",
       "4  20  21  22  23  24"
      ]
     },
     "execution_count": 8,
     "metadata": {},
     "output_type": "execute_result"
    }
   ],
   "source": [
    "df"
   ]
  },
  {
   "cell_type": "code",
   "execution_count": 16,
   "id": "3cedaca4",
   "metadata": {},
   "outputs": [],
   "source": [
    "df_1 = pd.get_dummies(df, columns = ['a'], prefix = '', prefix_sep='')"
   ]
  },
  {
   "cell_type": "code",
   "execution_count": 28,
   "id": "01ee8b7c",
   "metadata": {},
   "outputs": [
    {
     "data": {
      "text/html": [
       "<div>\n",
       "<style scoped>\n",
       "    .dataframe tbody tr th:only-of-type {\n",
       "        vertical-align: middle;\n",
       "    }\n",
       "\n",
       "    .dataframe tbody tr th {\n",
       "        vertical-align: top;\n",
       "    }\n",
       "\n",
       "    .dataframe thead th {\n",
       "        text-align: right;\n",
       "    }\n",
       "</style>\n",
       "<table border=\"1\" class=\"dataframe\">\n",
       "  <thead>\n",
       "    <tr style=\"text-align: right;\">\n",
       "      <th></th>\n",
       "      <th>b</th>\n",
       "      <th>c</th>\n",
       "      <th>d</th>\n",
       "      <th>e</th>\n",
       "      <th>0</th>\n",
       "      <th>5</th>\n",
       "      <th>10</th>\n",
       "      <th>15</th>\n",
       "      <th>20</th>\n",
       "    </tr>\n",
       "  </thead>\n",
       "  <tbody>\n",
       "    <tr>\n",
       "      <th>0</th>\n",
       "      <td>1</td>\n",
       "      <td>2</td>\n",
       "      <td>3</td>\n",
       "      <td>4</td>\n",
       "      <td>1</td>\n",
       "      <td>0</td>\n",
       "      <td>0</td>\n",
       "      <td>0</td>\n",
       "      <td>0</td>\n",
       "    </tr>\n",
       "    <tr>\n",
       "      <th>1</th>\n",
       "      <td>6</td>\n",
       "      <td>7</td>\n",
       "      <td>8</td>\n",
       "      <td>9</td>\n",
       "      <td>0</td>\n",
       "      <td>1</td>\n",
       "      <td>0</td>\n",
       "      <td>0</td>\n",
       "      <td>0</td>\n",
       "    </tr>\n",
       "    <tr>\n",
       "      <th>2</th>\n",
       "      <td>11</td>\n",
       "      <td>12</td>\n",
       "      <td>13</td>\n",
       "      <td>14</td>\n",
       "      <td>0</td>\n",
       "      <td>0</td>\n",
       "      <td>1</td>\n",
       "      <td>0</td>\n",
       "      <td>0</td>\n",
       "    </tr>\n",
       "    <tr>\n",
       "      <th>3</th>\n",
       "      <td>16</td>\n",
       "      <td>17</td>\n",
       "      <td>18</td>\n",
       "      <td>19</td>\n",
       "      <td>0</td>\n",
       "      <td>0</td>\n",
       "      <td>0</td>\n",
       "      <td>1</td>\n",
       "      <td>0</td>\n",
       "    </tr>\n",
       "    <tr>\n",
       "      <th>4</th>\n",
       "      <td>21</td>\n",
       "      <td>22</td>\n",
       "      <td>23</td>\n",
       "      <td>24</td>\n",
       "      <td>0</td>\n",
       "      <td>0</td>\n",
       "      <td>0</td>\n",
       "      <td>0</td>\n",
       "      <td>1</td>\n",
       "    </tr>\n",
       "  </tbody>\n",
       "</table>\n",
       "</div>"
      ],
      "text/plain": [
       "    b   c   d   e  0  5  10  15  20\n",
       "0   1   2   3   4  1  0   0   0   0\n",
       "1   6   7   8   9  0  1   0   0   0\n",
       "2  11  12  13  14  0  0   1   0   0\n",
       "3  16  17  18  19  0  0   0   1   0\n",
       "4  21  22  23  24  0  0   0   0   1"
      ]
     },
     "execution_count": 28,
     "metadata": {},
     "output_type": "execute_result"
    }
   ],
   "source": [
    "df_1"
   ]
  },
  {
   "cell_type": "code",
   "execution_count": 23,
   "id": "b993176e",
   "metadata": {},
   "outputs": [],
   "source": [
    "df_2 = df_1.drop(['b', 'c', 'd', 'e'], axis = 1 )"
   ]
  },
  {
   "cell_type": "code",
   "execution_count": 24,
   "id": "33062cc6",
   "metadata": {},
   "outputs": [
    {
     "data": {
      "text/html": [
       "<div>\n",
       "<style scoped>\n",
       "    .dataframe tbody tr th:only-of-type {\n",
       "        vertical-align: middle;\n",
       "    }\n",
       "\n",
       "    .dataframe tbody tr th {\n",
       "        vertical-align: top;\n",
       "    }\n",
       "\n",
       "    .dataframe thead th {\n",
       "        text-align: right;\n",
       "    }\n",
       "</style>\n",
       "<table border=\"1\" class=\"dataframe\">\n",
       "  <thead>\n",
       "    <tr style=\"text-align: right;\">\n",
       "      <th></th>\n",
       "      <th>0</th>\n",
       "      <th>5</th>\n",
       "      <th>10</th>\n",
       "      <th>15</th>\n",
       "      <th>20</th>\n",
       "    </tr>\n",
       "  </thead>\n",
       "  <tbody>\n",
       "    <tr>\n",
       "      <th>0</th>\n",
       "      <td>1</td>\n",
       "      <td>0</td>\n",
       "      <td>0</td>\n",
       "      <td>0</td>\n",
       "      <td>0</td>\n",
       "    </tr>\n",
       "    <tr>\n",
       "      <th>1</th>\n",
       "      <td>0</td>\n",
       "      <td>1</td>\n",
       "      <td>0</td>\n",
       "      <td>0</td>\n",
       "      <td>0</td>\n",
       "    </tr>\n",
       "    <tr>\n",
       "      <th>2</th>\n",
       "      <td>0</td>\n",
       "      <td>0</td>\n",
       "      <td>1</td>\n",
       "      <td>0</td>\n",
       "      <td>0</td>\n",
       "    </tr>\n",
       "    <tr>\n",
       "      <th>3</th>\n",
       "      <td>0</td>\n",
       "      <td>0</td>\n",
       "      <td>0</td>\n",
       "      <td>1</td>\n",
       "      <td>0</td>\n",
       "    </tr>\n",
       "    <tr>\n",
       "      <th>4</th>\n",
       "      <td>0</td>\n",
       "      <td>0</td>\n",
       "      <td>0</td>\n",
       "      <td>0</td>\n",
       "      <td>1</td>\n",
       "    </tr>\n",
       "  </tbody>\n",
       "</table>\n",
       "</div>"
      ],
      "text/plain": [
       "   0  5  10  15  20\n",
       "0  1  0   0   0   0\n",
       "1  0  1   0   0   0\n",
       "2  0  0   1   0   0\n",
       "3  0  0   0   1   0\n",
       "4  0  0   0   0   1"
      ]
     },
     "execution_count": 24,
     "metadata": {},
     "output_type": "execute_result"
    }
   ],
   "source": [
    "df_2"
   ]
  },
  {
   "cell_type": "code",
   "execution_count": null,
   "id": "5f679cb3",
   "metadata": {},
   "outputs": [],
   "source": []
  },
  {
   "cell_type": "code",
   "execution_count": 31,
   "id": "ceb6b2a2",
   "metadata": {},
   "outputs": [],
   "source": [
    "df_3 = df_2.merge(df.drop('a', axis = 1), left_index=True, right_index=True)"
   ]
  },
  {
   "cell_type": "code",
   "execution_count": 32,
   "id": "70db1ead",
   "metadata": {},
   "outputs": [
    {
     "data": {
      "text/html": [
       "<div>\n",
       "<style scoped>\n",
       "    .dataframe tbody tr th:only-of-type {\n",
       "        vertical-align: middle;\n",
       "    }\n",
       "\n",
       "    .dataframe tbody tr th {\n",
       "        vertical-align: top;\n",
       "    }\n",
       "\n",
       "    .dataframe thead th {\n",
       "        text-align: right;\n",
       "    }\n",
       "</style>\n",
       "<table border=\"1\" class=\"dataframe\">\n",
       "  <thead>\n",
       "    <tr style=\"text-align: right;\">\n",
       "      <th></th>\n",
       "      <th>0</th>\n",
       "      <th>5</th>\n",
       "      <th>10</th>\n",
       "      <th>15</th>\n",
       "      <th>20</th>\n",
       "      <th>b</th>\n",
       "      <th>c</th>\n",
       "      <th>d</th>\n",
       "      <th>e</th>\n",
       "    </tr>\n",
       "  </thead>\n",
       "  <tbody>\n",
       "    <tr>\n",
       "      <th>0</th>\n",
       "      <td>1</td>\n",
       "      <td>0</td>\n",
       "      <td>0</td>\n",
       "      <td>0</td>\n",
       "      <td>0</td>\n",
       "      <td>1</td>\n",
       "      <td>2</td>\n",
       "      <td>3</td>\n",
       "      <td>4</td>\n",
       "    </tr>\n",
       "    <tr>\n",
       "      <th>1</th>\n",
       "      <td>0</td>\n",
       "      <td>1</td>\n",
       "      <td>0</td>\n",
       "      <td>0</td>\n",
       "      <td>0</td>\n",
       "      <td>6</td>\n",
       "      <td>7</td>\n",
       "      <td>8</td>\n",
       "      <td>9</td>\n",
       "    </tr>\n",
       "    <tr>\n",
       "      <th>2</th>\n",
       "      <td>0</td>\n",
       "      <td>0</td>\n",
       "      <td>1</td>\n",
       "      <td>0</td>\n",
       "      <td>0</td>\n",
       "      <td>11</td>\n",
       "      <td>12</td>\n",
       "      <td>13</td>\n",
       "      <td>14</td>\n",
       "    </tr>\n",
       "    <tr>\n",
       "      <th>3</th>\n",
       "      <td>0</td>\n",
       "      <td>0</td>\n",
       "      <td>0</td>\n",
       "      <td>1</td>\n",
       "      <td>0</td>\n",
       "      <td>16</td>\n",
       "      <td>17</td>\n",
       "      <td>18</td>\n",
       "      <td>19</td>\n",
       "    </tr>\n",
       "    <tr>\n",
       "      <th>4</th>\n",
       "      <td>0</td>\n",
       "      <td>0</td>\n",
       "      <td>0</td>\n",
       "      <td>0</td>\n",
       "      <td>1</td>\n",
       "      <td>21</td>\n",
       "      <td>22</td>\n",
       "      <td>23</td>\n",
       "      <td>24</td>\n",
       "    </tr>\n",
       "  </tbody>\n",
       "</table>\n",
       "</div>"
      ],
      "text/plain": [
       "   0  5  10  15  20   b   c   d   e\n",
       "0  1  0   0   0   0   1   2   3   4\n",
       "1  0  1   0   0   0   6   7   8   9\n",
       "2  0  0   1   0   0  11  12  13  14\n",
       "3  0  0   0   1   0  16  17  18  19\n",
       "4  0  0   0   0   1  21  22  23  24"
      ]
     },
     "execution_count": 32,
     "metadata": {},
     "output_type": "execute_result"
    }
   ],
   "source": [
    "df_3"
   ]
  },
  {
   "cell_type": "code",
   "execution_count": null,
   "id": "9b190184",
   "metadata": {},
   "outputs": [],
   "source": []
  },
  {
   "cell_type": "code",
   "execution_count": null,
   "id": "4d2448d7",
   "metadata": {},
   "outputs": [],
   "source": []
  },
  {
   "cell_type": "code",
   "execution_count": 2,
   "id": "8e74d966",
   "metadata": {},
   "outputs": [],
   "source": [
    "# Задача № 43\n",
    "\n",
    "# Определите имя столбца с наибольшим количеством строковых максимумов. \n",
    "\n",
    "df = pd.DataFrame(np.random.RandomState(30).randint(1,100, 40).reshape(10, -1))\n"
   ]
  },
  {
   "cell_type": "code",
   "execution_count": 3,
   "id": "67ffa182",
   "metadata": {},
   "outputs": [
    {
     "data": {
      "text/html": [
       "<div>\n",
       "<style scoped>\n",
       "    .dataframe tbody tr th:only-of-type {\n",
       "        vertical-align: middle;\n",
       "    }\n",
       "\n",
       "    .dataframe tbody tr th {\n",
       "        vertical-align: top;\n",
       "    }\n",
       "\n",
       "    .dataframe thead th {\n",
       "        text-align: right;\n",
       "    }\n",
       "</style>\n",
       "<table border=\"1\" class=\"dataframe\">\n",
       "  <thead>\n",
       "    <tr style=\"text-align: right;\">\n",
       "      <th></th>\n",
       "      <th>0</th>\n",
       "      <th>1</th>\n",
       "      <th>2</th>\n",
       "      <th>3</th>\n",
       "    </tr>\n",
       "  </thead>\n",
       "  <tbody>\n",
       "    <tr>\n",
       "      <th>0</th>\n",
       "      <td>38</td>\n",
       "      <td>38</td>\n",
       "      <td>46</td>\n",
       "      <td>46</td>\n",
       "    </tr>\n",
       "    <tr>\n",
       "      <th>1</th>\n",
       "      <td>13</td>\n",
       "      <td>24</td>\n",
       "      <td>3</td>\n",
       "      <td>54</td>\n",
       "    </tr>\n",
       "    <tr>\n",
       "      <th>2</th>\n",
       "      <td>18</td>\n",
       "      <td>47</td>\n",
       "      <td>4</td>\n",
       "      <td>42</td>\n",
       "    </tr>\n",
       "    <tr>\n",
       "      <th>3</th>\n",
       "      <td>8</td>\n",
       "      <td>66</td>\n",
       "      <td>50</td>\n",
       "      <td>46</td>\n",
       "    </tr>\n",
       "    <tr>\n",
       "      <th>4</th>\n",
       "      <td>62</td>\n",
       "      <td>36</td>\n",
       "      <td>19</td>\n",
       "      <td>19</td>\n",
       "    </tr>\n",
       "    <tr>\n",
       "      <th>5</th>\n",
       "      <td>77</td>\n",
       "      <td>17</td>\n",
       "      <td>7</td>\n",
       "      <td>63</td>\n",
       "    </tr>\n",
       "    <tr>\n",
       "      <th>6</th>\n",
       "      <td>28</td>\n",
       "      <td>47</td>\n",
       "      <td>46</td>\n",
       "      <td>65</td>\n",
       "    </tr>\n",
       "    <tr>\n",
       "      <th>7</th>\n",
       "      <td>63</td>\n",
       "      <td>12</td>\n",
       "      <td>16</td>\n",
       "      <td>24</td>\n",
       "    </tr>\n",
       "    <tr>\n",
       "      <th>8</th>\n",
       "      <td>14</td>\n",
       "      <td>51</td>\n",
       "      <td>34</td>\n",
       "      <td>56</td>\n",
       "    </tr>\n",
       "    <tr>\n",
       "      <th>9</th>\n",
       "      <td>29</td>\n",
       "      <td>59</td>\n",
       "      <td>92</td>\n",
       "      <td>79</td>\n",
       "    </tr>\n",
       "  </tbody>\n",
       "</table>\n",
       "</div>"
      ],
      "text/plain": [
       "    0   1   2   3\n",
       "0  38  38  46  46\n",
       "1  13  24   3  54\n",
       "2  18  47   4  42\n",
       "3   8  66  50  46\n",
       "4  62  36  19  19\n",
       "5  77  17   7  63\n",
       "6  28  47  46  65\n",
       "7  63  12  16  24\n",
       "8  14  51  34  56\n",
       "9  29  59  92  79"
      ]
     },
     "execution_count": 3,
     "metadata": {},
     "output_type": "execute_result"
    }
   ],
   "source": [
    "df"
   ]
  },
  {
   "cell_type": "code",
   "execution_count": 24,
   "id": "817dbe45",
   "metadata": {},
   "outputs": [
    {
     "data": {
      "text/plain": [
       "46"
      ]
     },
     "execution_count": 24,
     "metadata": {},
     "output_type": "execute_result"
    }
   ],
   "source": [
    "df.max(axis = 1)"
   ]
  },
  {
   "cell_type": "code",
   "execution_count": 38,
   "id": "60a89308",
   "metadata": {},
   "outputs": [
    {
     "data": {
      "text/plain": [
       "38"
      ]
     },
     "execution_count": 38,
     "metadata": {},
     "output_type": "execute_result"
    }
   ],
   "source": [
    "df.iloc[0][0]"
   ]
  },
  {
   "cell_type": "code",
   "execution_count": 58,
   "id": "fcc67c4f",
   "metadata": {},
   "outputs": [
    {
     "data": {
      "text/plain": [
       "0    38\n",
       "1    38\n",
       "2    46\n",
       "3    46\n",
       "Name: 0, dtype: int32"
      ]
     },
     "execution_count": 58,
     "metadata": {},
     "output_type": "execute_result"
    }
   ],
   "source": [
    "df.iloc[0]"
   ]
  },
  {
   "cell_type": "code",
   "execution_count": null,
   "id": "90551c04",
   "metadata": {},
   "outputs": [],
   "source": []
  },
  {
   "cell_type": "code",
   "execution_count": 61,
   "id": "7a59e133",
   "metadata": {},
   "outputs": [
    {
     "data": {
      "text/plain": [
       "46"
      ]
     },
     "execution_count": 61,
     "metadata": {},
     "output_type": "execute_result"
    }
   ],
   "source": [
    "df.loc[0].max()"
   ]
  },
  {
   "cell_type": "code",
   "execution_count": 62,
   "id": "34da70b1",
   "metadata": {},
   "outputs": [
    {
     "data": {
      "text/plain": [
       "0    29\n",
       "1    59\n",
       "2    92\n",
       "3    79\n",
       "Name: 9, dtype: int32"
      ]
     },
     "execution_count": 62,
     "metadata": {},
     "output_type": "execute_result"
    }
   ],
   "source": [
    "df.loc[i]"
   ]
  },
  {
   "cell_type": "code",
   "execution_count": null,
   "id": "c392f151",
   "metadata": {},
   "outputs": [],
   "source": []
  },
  {
   "cell_type": "code",
   "execution_count": 34,
   "id": "9ab0e065",
   "metadata": {},
   "outputs": [
    {
     "data": {
      "text/plain": [
       "46"
      ]
     },
     "execution_count": 34,
     "metadata": {},
     "output_type": "execute_result"
    }
   ],
   "source": [
    "df.max(axis = 1)[0]"
   ]
  },
  {
   "cell_type": "code",
   "execution_count": 37,
   "id": "6481e338",
   "metadata": {},
   "outputs": [
    {
     "data": {
      "text/plain": [
       "0    False\n",
       "1    False\n",
       "2     True\n",
       "3     True\n",
       "Name: 0, dtype: bool"
      ]
     },
     "execution_count": 37,
     "metadata": {},
     "output_type": "execute_result"
    }
   ],
   "source": [
    "df.iloc[0] == df.max(axis = 1)[0]"
   ]
  },
  {
   "cell_type": "code",
   "execution_count": null,
   "id": "186569d3",
   "metadata": {},
   "outputs": [],
   "source": []
  },
  {
   "cell_type": "code",
   "execution_count": null,
   "id": "20a95bed",
   "metadata": {},
   "outputs": [],
   "source": []
  },
  {
   "cell_type": "code",
   "execution_count": 63,
   "id": "880fc867",
   "metadata": {},
   "outputs": [],
   "source": [
    "a = []\n",
    "for i in range(len(df)):\n",
    "    for j in range(4):\n",
    "        if df.iloc[i][j] == df.max(axis = 1)[i]:\n",
    "            a.append(j)\n",
    "        "
   ]
  },
  {
   "cell_type": "code",
   "execution_count": 67,
   "id": "17d68f2b",
   "metadata": {},
   "outputs": [
    {
     "data": {
      "text/plain": [
       "3"
      ]
     },
     "execution_count": 67,
     "metadata": {},
     "output_type": "execute_result"
    }
   ],
   "source": [
    "j"
   ]
  },
  {
   "cell_type": "code",
   "execution_count": 64,
   "id": "39fce3f0",
   "metadata": {},
   "outputs": [],
   "source": [
    "b = pd.Series(a)    "
   ]
  },
  {
   "cell_type": "code",
   "execution_count": 65,
   "id": "36bbfb8e",
   "metadata": {},
   "outputs": [
    {
     "data": {
      "text/plain": [
       "0"
      ]
     },
     "execution_count": 65,
     "metadata": {},
     "output_type": "execute_result"
    }
   ],
   "source": [
    "b.value_counts().argmax()"
   ]
  },
  {
   "cell_type": "code",
   "execution_count": 66,
   "id": "599d015a",
   "metadata": {},
   "outputs": [
    {
     "data": {
      "text/plain": [
       "3     True\n",
       "0    False\n",
       "2    False\n",
       "1    False\n",
       "dtype: bool"
      ]
     },
     "execution_count": 66,
     "metadata": {},
     "output_type": "execute_result"
    }
   ],
   "source": [
    "b.value_counts() == b.value_counts().max()"
   ]
  },
  {
   "cell_type": "code",
   "execution_count": 2,
   "id": "b632100f",
   "metadata": {},
   "outputs": [],
   "source": [
    "# b[b.value_counts() == b.value_counts().max()]"
   ]
  },
  {
   "cell_type": "code",
   "execution_count": null,
   "id": "f8437c1c",
   "metadata": {},
   "outputs": [],
   "source": []
  },
  {
   "cell_type": "markdown",
   "id": "cb638e7b",
   "metadata": {},
   "source": [
    "# Задача № 43"
   ]
  },
  {
   "cell_type": "code",
   "execution_count": 2,
   "id": "8b22ad6e",
   "metadata": {},
   "outputs": [],
   "source": [
    "# Создайте новый столбец таким образом, чтобы каждая строка содержала номер \n",
    "# наиболее удалённой строки-записи по евклидову расстоянию."
   ]
  },
  {
   "cell_type": "code",
   "execution_count": 177,
   "id": "ff3e4634",
   "metadata": {},
   "outputs": [],
   "source": [
    "df = pd.DataFrame(np.random.RandomState(30).randint(1,100, 40).reshape(10, -1))"
   ]
  },
  {
   "cell_type": "code",
   "execution_count": 178,
   "id": "dc50309d",
   "metadata": {},
   "outputs": [],
   "source": [
    "df.index = list('abcdefghij')"
   ]
  },
  {
   "cell_type": "code",
   "execution_count": 179,
   "id": "400190f3",
   "metadata": {},
   "outputs": [],
   "source": [
    "df.columns = list('abcd')"
   ]
  },
  {
   "cell_type": "code",
   "execution_count": 180,
   "id": "e9247ef1",
   "metadata": {},
   "outputs": [
    {
     "data": {
      "text/html": [
       "<div>\n",
       "<style scoped>\n",
       "    .dataframe tbody tr th:only-of-type {\n",
       "        vertical-align: middle;\n",
       "    }\n",
       "\n",
       "    .dataframe tbody tr th {\n",
       "        vertical-align: top;\n",
       "    }\n",
       "\n",
       "    .dataframe thead th {\n",
       "        text-align: right;\n",
       "    }\n",
       "</style>\n",
       "<table border=\"1\" class=\"dataframe\">\n",
       "  <thead>\n",
       "    <tr style=\"text-align: right;\">\n",
       "      <th></th>\n",
       "      <th>a</th>\n",
       "      <th>b</th>\n",
       "      <th>c</th>\n",
       "      <th>d</th>\n",
       "    </tr>\n",
       "  </thead>\n",
       "  <tbody>\n",
       "    <tr>\n",
       "      <th>a</th>\n",
       "      <td>38</td>\n",
       "      <td>38</td>\n",
       "      <td>46</td>\n",
       "      <td>46</td>\n",
       "    </tr>\n",
       "    <tr>\n",
       "      <th>b</th>\n",
       "      <td>13</td>\n",
       "      <td>24</td>\n",
       "      <td>3</td>\n",
       "      <td>54</td>\n",
       "    </tr>\n",
       "    <tr>\n",
       "      <th>c</th>\n",
       "      <td>18</td>\n",
       "      <td>47</td>\n",
       "      <td>4</td>\n",
       "      <td>42</td>\n",
       "    </tr>\n",
       "    <tr>\n",
       "      <th>d</th>\n",
       "      <td>8</td>\n",
       "      <td>66</td>\n",
       "      <td>50</td>\n",
       "      <td>46</td>\n",
       "    </tr>\n",
       "    <tr>\n",
       "      <th>e</th>\n",
       "      <td>62</td>\n",
       "      <td>36</td>\n",
       "      <td>19</td>\n",
       "      <td>19</td>\n",
       "    </tr>\n",
       "    <tr>\n",
       "      <th>f</th>\n",
       "      <td>77</td>\n",
       "      <td>17</td>\n",
       "      <td>7</td>\n",
       "      <td>63</td>\n",
       "    </tr>\n",
       "    <tr>\n",
       "      <th>g</th>\n",
       "      <td>28</td>\n",
       "      <td>47</td>\n",
       "      <td>46</td>\n",
       "      <td>65</td>\n",
       "    </tr>\n",
       "    <tr>\n",
       "      <th>h</th>\n",
       "      <td>63</td>\n",
       "      <td>12</td>\n",
       "      <td>16</td>\n",
       "      <td>24</td>\n",
       "    </tr>\n",
       "    <tr>\n",
       "      <th>i</th>\n",
       "      <td>14</td>\n",
       "      <td>51</td>\n",
       "      <td>34</td>\n",
       "      <td>56</td>\n",
       "    </tr>\n",
       "    <tr>\n",
       "      <th>j</th>\n",
       "      <td>29</td>\n",
       "      <td>59</td>\n",
       "      <td>92</td>\n",
       "      <td>79</td>\n",
       "    </tr>\n",
       "  </tbody>\n",
       "</table>\n",
       "</div>"
      ],
      "text/plain": [
       "    a   b   c   d\n",
       "a  38  38  46  46\n",
       "b  13  24   3  54\n",
       "c  18  47   4  42\n",
       "d   8  66  50  46\n",
       "e  62  36  19  19\n",
       "f  77  17   7  63\n",
       "g  28  47  46  65\n",
       "h  63  12  16  24\n",
       "i  14  51  34  56\n",
       "j  29  59  92  79"
      ]
     },
     "execution_count": 180,
     "metadata": {},
     "output_type": "execute_result"
    }
   ],
   "source": [
    "df"
   ]
  },
  {
   "cell_type": "code",
   "execution_count": 174,
   "id": "7f41b620",
   "metadata": {},
   "outputs": [
    {
     "data": {
      "text/plain": [
       "38"
      ]
     },
     "execution_count": 174,
     "metadata": {},
     "output_type": "execute_result"
    }
   ],
   "source": [
    "df.iloc[0][0]"
   ]
  },
  {
   "cell_type": "code",
   "execution_count": 175,
   "id": "bfe48223",
   "metadata": {},
   "outputs": [
    {
     "data": {
      "text/plain": [
       "13"
      ]
     },
     "execution_count": 175,
     "metadata": {},
     "output_type": "execute_result"
    }
   ],
   "source": [
    "df.iloc[1][0]"
   ]
  },
  {
   "cell_type": "code",
   "execution_count": 176,
   "id": "ce597403",
   "metadata": {},
   "outputs": [
    {
     "data": {
      "text/html": [
       "<div>\n",
       "<style scoped>\n",
       "    .dataframe tbody tr th:only-of-type {\n",
       "        vertical-align: middle;\n",
       "    }\n",
       "\n",
       "    .dataframe tbody tr th {\n",
       "        vertical-align: top;\n",
       "    }\n",
       "\n",
       "    .dataframe thead th {\n",
       "        text-align: right;\n",
       "    }\n",
       "</style>\n",
       "<table border=\"1\" class=\"dataframe\">\n",
       "  <thead>\n",
       "    <tr style=\"text-align: right;\">\n",
       "      <th></th>\n",
       "      <th>a</th>\n",
       "      <th>b</th>\n",
       "      <th>c</th>\n",
       "      <th>d</th>\n",
       "    </tr>\n",
       "  </thead>\n",
       "  <tbody>\n",
       "    <tr>\n",
       "      <th>b</th>\n",
       "      <td>13</td>\n",
       "      <td>24</td>\n",
       "      <td>3</td>\n",
       "      <td>54</td>\n",
       "    </tr>\n",
       "    <tr>\n",
       "      <th>c</th>\n",
       "      <td>18</td>\n",
       "      <td>47</td>\n",
       "      <td>4</td>\n",
       "      <td>42</td>\n",
       "    </tr>\n",
       "    <tr>\n",
       "      <th>d</th>\n",
       "      <td>8</td>\n",
       "      <td>66</td>\n",
       "      <td>50</td>\n",
       "      <td>46</td>\n",
       "    </tr>\n",
       "    <tr>\n",
       "      <th>e</th>\n",
       "      <td>62</td>\n",
       "      <td>36</td>\n",
       "      <td>19</td>\n",
       "      <td>19</td>\n",
       "    </tr>\n",
       "    <tr>\n",
       "      <th>f</th>\n",
       "      <td>77</td>\n",
       "      <td>17</td>\n",
       "      <td>7</td>\n",
       "      <td>63</td>\n",
       "    </tr>\n",
       "    <tr>\n",
       "      <th>g</th>\n",
       "      <td>28</td>\n",
       "      <td>47</td>\n",
       "      <td>46</td>\n",
       "      <td>65</td>\n",
       "    </tr>\n",
       "    <tr>\n",
       "      <th>h</th>\n",
       "      <td>63</td>\n",
       "      <td>12</td>\n",
       "      <td>16</td>\n",
       "      <td>24</td>\n",
       "    </tr>\n",
       "    <tr>\n",
       "      <th>i</th>\n",
       "      <td>14</td>\n",
       "      <td>51</td>\n",
       "      <td>34</td>\n",
       "      <td>56</td>\n",
       "    </tr>\n",
       "    <tr>\n",
       "      <th>j</th>\n",
       "      <td>29</td>\n",
       "      <td>59</td>\n",
       "      <td>92</td>\n",
       "      <td>79</td>\n",
       "    </tr>\n",
       "    <tr>\n",
       "      <th>a</th>\n",
       "      <td>38</td>\n",
       "      <td>38</td>\n",
       "      <td>46</td>\n",
       "      <td>46</td>\n",
       "    </tr>\n",
       "  </tbody>\n",
       "</table>\n",
       "</div>"
      ],
      "text/plain": [
       "    a   b   c   d\n",
       "b  13  24   3  54\n",
       "c  18  47   4  42\n",
       "d   8  66  50  46\n",
       "e  62  36  19  19\n",
       "f  77  17   7  63\n",
       "g  28  47  46  65\n",
       "h  63  12  16  24\n",
       "i  14  51  34  56\n",
       "j  29  59  92  79\n",
       "a  38  38  46  46"
      ]
     },
     "execution_count": 176,
     "metadata": {},
     "output_type": "execute_result"
    }
   ],
   "source": [
    "df.loc[[ 'b', 'c', 'd', 'e', 'f', 'g', 'h', 'i', 'j', 'a']]"
   ]
  },
  {
   "cell_type": "code",
   "execution_count": 79,
   "id": "b401295a",
   "metadata": {},
   "outputs": [],
   "source": [
    "new_df_index = list(df.index[1:])"
   ]
  },
  {
   "cell_type": "code",
   "execution_count": 84,
   "id": "aa5cbaa1",
   "metadata": {},
   "outputs": [],
   "source": [
    "new_df_index = new_df_index + [df.index[0]]"
   ]
  },
  {
   "cell_type": "code",
   "execution_count": 85,
   "id": "e7bfd086",
   "metadata": {},
   "outputs": [
    {
     "data": {
      "text/plain": [
       "['b', 'c', 'd', 'e', 'f', 'g', 'h', 'i', 'j', 'a']"
      ]
     },
     "execution_count": 85,
     "metadata": {},
     "output_type": "execute_result"
    }
   ],
   "source": [
    "new_df_index"
   ]
  },
  {
   "cell_type": "code",
   "execution_count": null,
   "id": "ac507a99",
   "metadata": {},
   "outputs": [],
   "source": []
  },
  {
   "cell_type": "code",
   "execution_count": 24,
   "id": "6c58122b",
   "metadata": {},
   "outputs": [
    {
     "data": {
      "text/plain": [
       "52.28766584960549"
      ]
     },
     "execution_count": 24,
     "metadata": {},
     "output_type": "execute_result"
    }
   ],
   "source": [
    "np.sqrt((df.iloc[0][0] - df.iloc[1][0])**2 + (df.iloc[0][1] - df.iloc[1][1])**2 + (df.iloc[0][2] - df.iloc[1][2])**2   + (df.iloc[0][3] - df.iloc[1][3])**2)"
   ]
  },
  {
   "cell_type": "code",
   "execution_count": null,
   "id": "d7ae6b24",
   "metadata": {},
   "outputs": [],
   "source": []
  },
  {
   "cell_type": "code",
   "execution_count": 153,
   "id": "627529a0",
   "metadata": {},
   "outputs": [
    {
     "data": {
      "text/html": [
       "<div>\n",
       "<style scoped>\n",
       "    .dataframe tbody tr th:only-of-type {\n",
       "        vertical-align: middle;\n",
       "    }\n",
       "\n",
       "    .dataframe tbody tr th {\n",
       "        vertical-align: top;\n",
       "    }\n",
       "\n",
       "    .dataframe thead th {\n",
       "        text-align: right;\n",
       "    }\n",
       "</style>\n",
       "<table border=\"1\" class=\"dataframe\">\n",
       "  <thead>\n",
       "    <tr style=\"text-align: right;\">\n",
       "      <th></th>\n",
       "      <th>a</th>\n",
       "      <th>b</th>\n",
       "      <th>c</th>\n",
       "      <th>d</th>\n",
       "    </tr>\n",
       "  </thead>\n",
       "  <tbody>\n",
       "    <tr>\n",
       "      <th>a</th>\n",
       "      <td>38</td>\n",
       "      <td>38</td>\n",
       "      <td>46</td>\n",
       "      <td>46</td>\n",
       "    </tr>\n",
       "    <tr>\n",
       "      <th>b</th>\n",
       "      <td>13</td>\n",
       "      <td>24</td>\n",
       "      <td>3</td>\n",
       "      <td>54</td>\n",
       "    </tr>\n",
       "    <tr>\n",
       "      <th>c</th>\n",
       "      <td>18</td>\n",
       "      <td>47</td>\n",
       "      <td>4</td>\n",
       "      <td>42</td>\n",
       "    </tr>\n",
       "    <tr>\n",
       "      <th>d</th>\n",
       "      <td>8</td>\n",
       "      <td>66</td>\n",
       "      <td>50</td>\n",
       "      <td>46</td>\n",
       "    </tr>\n",
       "    <tr>\n",
       "      <th>e</th>\n",
       "      <td>62</td>\n",
       "      <td>36</td>\n",
       "      <td>19</td>\n",
       "      <td>19</td>\n",
       "    </tr>\n",
       "    <tr>\n",
       "      <th>f</th>\n",
       "      <td>77</td>\n",
       "      <td>17</td>\n",
       "      <td>7</td>\n",
       "      <td>63</td>\n",
       "    </tr>\n",
       "    <tr>\n",
       "      <th>g</th>\n",
       "      <td>28</td>\n",
       "      <td>47</td>\n",
       "      <td>46</td>\n",
       "      <td>65</td>\n",
       "    </tr>\n",
       "    <tr>\n",
       "      <th>h</th>\n",
       "      <td>63</td>\n",
       "      <td>12</td>\n",
       "      <td>16</td>\n",
       "      <td>24</td>\n",
       "    </tr>\n",
       "    <tr>\n",
       "      <th>i</th>\n",
       "      <td>14</td>\n",
       "      <td>51</td>\n",
       "      <td>34</td>\n",
       "      <td>56</td>\n",
       "    </tr>\n",
       "    <tr>\n",
       "      <th>j</th>\n",
       "      <td>29</td>\n",
       "      <td>59</td>\n",
       "      <td>92</td>\n",
       "      <td>79</td>\n",
       "    </tr>\n",
       "  </tbody>\n",
       "</table>\n",
       "</div>"
      ],
      "text/plain": [
       "    a   b   c   d\n",
       "a  38  38  46  46\n",
       "b  13  24   3  54\n",
       "c  18  47   4  42\n",
       "d   8  66  50  46\n",
       "e  62  36  19  19\n",
       "f  77  17   7  63\n",
       "g  28  47  46  65\n",
       "h  63  12  16  24\n",
       "i  14  51  34  56\n",
       "j  29  59  92  79"
      ]
     },
     "execution_count": 153,
     "metadata": {},
     "output_type": "execute_result"
    }
   ],
   "source": [
    "df"
   ]
  },
  {
   "cell_type": "code",
   "execution_count": null,
   "id": "542d0526",
   "metadata": {},
   "outputs": [],
   "source": []
  },
  {
   "cell_type": "code",
   "execution_count": 185,
   "id": "c5c11617",
   "metadata": {},
   "outputs": [
    {
     "name": "stdout",
     "output_type": "stream",
     "text": [
      "0.0\n",
      "52.28766584960549\n",
      "47.54997371187496\n",
      "41.23105625617661\n",
      "45.14421336118285\n",
      "61.41661013113635\n",
      "23.280893453645632\n",
      "51.81698563212646\n",
      "31.448370387032774\n",
      "61.04916051838878\n",
      "0.0\n",
      "26.43860813280457\n",
      "63.733821476512766\n",
      "63.45076831686122\n",
      "65.13063795173512\n",
      "52.191953402799555\n",
      "60.93439094632849\n",
      "41.1703777004778\n",
      "100.13490899781155\n",
      "52.28766584960549\n",
      "0.0\n",
      "50.92150822589606\n",
      "53.018864567246254\n",
      "69.50539547402057\n",
      "48.91829923454004\n",
      "60.975404877704584\n",
      "33.58571124749333\n",
      "96.84007434941384\n",
      "47.54997371187496\n",
      "26.43860813280457\n",
      "0.0\n",
      "74.2024258363566\n",
      "96.43650760992955\n",
      "33.734255586866\n",
      "87.06893820416096\n",
      "24.839484696748443\n",
      "57.81868210189506\n",
      "41.23105625617661\n",
      "63.733821476512766\n",
      "50.92150822589606\n",
      "0.0\n",
      "51.633322573702344\n",
      "64.20280367709809\n",
      "24.71841418861655\n",
      "64.21059102671458\n",
      "102.69858811103491\n",
      "45.14421336118285\n",
      "63.45076831686122\n",
      "53.018864567246254\n",
      "74.2024258363566\n",
      "0.0\n",
      "69.46941773183363\n",
      "42.69660408041839\n",
      "76.83098333354845\n",
      "107.46627377926528\n",
      "61.41661013113635\n",
      "65.13063795173512\n",
      "69.50539547402057\n",
      "96.43650760992955\n",
      "51.633322573702344\n",
      "0.0\n",
      "70.92954250522133\n",
      "20.904544960366874\n",
      "49.56813492557492\n",
      "23.280893453645632\n",
      "52.191953402799555\n",
      "48.91829923454004\n",
      "33.734255586866\n",
      "64.20280367709809\n",
      "69.46941773183363\n",
      "0.0\n",
      "72.59476565152615\n",
      "110.29959202100432\n",
      "51.81698563212646\n",
      "60.93439094632849\n",
      "60.975404877704584\n",
      "87.06893820416096\n",
      "24.71841418861655\n",
      "42.69660408041839\n",
      "70.92954250522133\n",
      "0.0\n",
      "64.66838485689897\n",
      "31.448370387032774\n",
      "41.1703777004778\n",
      "33.58571124749333\n",
      "24.839484696748443\n",
      "64.21059102671458\n",
      "76.83098333354845\n",
      "20.904544960366874\n",
      "72.59476565152615\n",
      "0.0\n",
      "61.04916051838878\n",
      "100.13490899781155\n",
      "96.84007434941384\n",
      "57.81868210189506\n",
      "102.69858811103491\n",
      "107.46627377926528\n",
      "49.56813492557492\n",
      "110.29959202100432\n",
      "64.66838485689897\n"
     ]
    }
   ],
   "source": [
    "ind = []\n",
    "val_max = []\n",
    "\n",
    "for i in range (10):\n",
    "\n",
    "    y = len(df)\n",
    "    x = 0\n",
    "    i = 0\n",
    "    a = []\n",
    "    for x in range(y):\n",
    "\n",
    "#         print(np.sqrt((df.iloc[i][0] - df.iloc[i + x][0])**2 + (df.iloc[i][1] - df.iloc[i + x][1])**2 + (df.iloc[i][2] - df.iloc[i + x][2])**2   + (df.iloc[i][3] - df.iloc[i + x][3])**2))\n",
    "        a.append(np.sqrt((df.iloc[i][0] - df.iloc[i + x][0])**2 + (df.iloc[i][1] - df.iloc[i + x][1])**2 + (df.iloc[i][2] - df.iloc[i + x][2])**2   + (df.iloc[i][3] - df.iloc[i + x][3])**2))\n",
    "\n",
    "\n",
    "        aa = pd.Series(a)\n",
    "        x+=1\n",
    "\n",
    "\n",
    "    b = aa.argmax()\n",
    "    \n",
    "    \n",
    "\n",
    "    ind.append(df.index[b])\n",
    "    val_max.append(max(a))\n",
    "\n",
    "    new_df_index = list(df.index[1:])\n",
    "\n",
    "    new_df_index = new_df_index + [df.index[0]]\n",
    "\n",
    "    df = df.loc[new_df_index]\n",
    "        \n",
    "        \n",
    "        "
   ]
  },
  {
   "cell_type": "code",
   "execution_count": 186,
   "id": "60970530",
   "metadata": {},
   "outputs": [
    {
     "data": {
      "text/plain": [
       "['f', 'j', 'j', 'f', 'j', 'j', 'h', 'j', 'f', 'h']"
      ]
     },
     "execution_count": 186,
     "metadata": {},
     "output_type": "execute_result"
    }
   ],
   "source": [
    "ind"
   ]
  },
  {
   "cell_type": "code",
   "execution_count": 188,
   "id": "0a850148",
   "metadata": {},
   "outputs": [
    {
     "data": {
      "text/plain": [
       "[61.41661013113635,\n",
       " 100.13490899781155,\n",
       " 96.84007434941384,\n",
       " 96.43650760992955,\n",
       " 102.69858811103491,\n",
       " 107.46627377926528,\n",
       " 70.92954250522133,\n",
       " 110.29959202100432,\n",
       " 76.83098333354845,\n",
       " 110.29959202100432]"
      ]
     },
     "execution_count": 188,
     "metadata": {},
     "output_type": "execute_result"
    }
   ],
   "source": [
    "val_max"
   ]
  },
  {
   "cell_type": "code",
   "execution_count": 189,
   "id": "65d1e6ff",
   "metadata": {},
   "outputs": [],
   "source": [
    "df['nearest_row'] = ind"
   ]
  },
  {
   "cell_type": "code",
   "execution_count": 194,
   "id": "fd67035a",
   "metadata": {},
   "outputs": [],
   "source": [
    "df['dist'] = np.round(np.array(val_max)).astype('int64')"
   ]
  },
  {
   "cell_type": "code",
   "execution_count": 195,
   "id": "e1308f1e",
   "metadata": {},
   "outputs": [
    {
     "data": {
      "text/html": [
       "<div>\n",
       "<style scoped>\n",
       "    .dataframe tbody tr th:only-of-type {\n",
       "        vertical-align: middle;\n",
       "    }\n",
       "\n",
       "    .dataframe tbody tr th {\n",
       "        vertical-align: top;\n",
       "    }\n",
       "\n",
       "    .dataframe thead th {\n",
       "        text-align: right;\n",
       "    }\n",
       "</style>\n",
       "<table border=\"1\" class=\"dataframe\">\n",
       "  <thead>\n",
       "    <tr style=\"text-align: right;\">\n",
       "      <th></th>\n",
       "      <th>a</th>\n",
       "      <th>b</th>\n",
       "      <th>c</th>\n",
       "      <th>d</th>\n",
       "      <th>nearest_row</th>\n",
       "      <th>dist</th>\n",
       "    </tr>\n",
       "  </thead>\n",
       "  <tbody>\n",
       "    <tr>\n",
       "      <th>a</th>\n",
       "      <td>38</td>\n",
       "      <td>38</td>\n",
       "      <td>46</td>\n",
       "      <td>46</td>\n",
       "      <td>f</td>\n",
       "      <td>61</td>\n",
       "    </tr>\n",
       "    <tr>\n",
       "      <th>b</th>\n",
       "      <td>13</td>\n",
       "      <td>24</td>\n",
       "      <td>3</td>\n",
       "      <td>54</td>\n",
       "      <td>j</td>\n",
       "      <td>100</td>\n",
       "    </tr>\n",
       "    <tr>\n",
       "      <th>c</th>\n",
       "      <td>18</td>\n",
       "      <td>47</td>\n",
       "      <td>4</td>\n",
       "      <td>42</td>\n",
       "      <td>j</td>\n",
       "      <td>97</td>\n",
       "    </tr>\n",
       "    <tr>\n",
       "      <th>d</th>\n",
       "      <td>8</td>\n",
       "      <td>66</td>\n",
       "      <td>50</td>\n",
       "      <td>46</td>\n",
       "      <td>f</td>\n",
       "      <td>96</td>\n",
       "    </tr>\n",
       "    <tr>\n",
       "      <th>e</th>\n",
       "      <td>62</td>\n",
       "      <td>36</td>\n",
       "      <td>19</td>\n",
       "      <td>19</td>\n",
       "      <td>j</td>\n",
       "      <td>103</td>\n",
       "    </tr>\n",
       "    <tr>\n",
       "      <th>f</th>\n",
       "      <td>77</td>\n",
       "      <td>17</td>\n",
       "      <td>7</td>\n",
       "      <td>63</td>\n",
       "      <td>j</td>\n",
       "      <td>107</td>\n",
       "    </tr>\n",
       "    <tr>\n",
       "      <th>g</th>\n",
       "      <td>28</td>\n",
       "      <td>47</td>\n",
       "      <td>46</td>\n",
       "      <td>65</td>\n",
       "      <td>h</td>\n",
       "      <td>71</td>\n",
       "    </tr>\n",
       "    <tr>\n",
       "      <th>h</th>\n",
       "      <td>63</td>\n",
       "      <td>12</td>\n",
       "      <td>16</td>\n",
       "      <td>24</td>\n",
       "      <td>j</td>\n",
       "      <td>110</td>\n",
       "    </tr>\n",
       "    <tr>\n",
       "      <th>i</th>\n",
       "      <td>14</td>\n",
       "      <td>51</td>\n",
       "      <td>34</td>\n",
       "      <td>56</td>\n",
       "      <td>f</td>\n",
       "      <td>77</td>\n",
       "    </tr>\n",
       "    <tr>\n",
       "      <th>j</th>\n",
       "      <td>29</td>\n",
       "      <td>59</td>\n",
       "      <td>92</td>\n",
       "      <td>79</td>\n",
       "      <td>h</td>\n",
       "      <td>110</td>\n",
       "    </tr>\n",
       "  </tbody>\n",
       "</table>\n",
       "</div>"
      ],
      "text/plain": [
       "    a   b   c   d nearest_row  dist\n",
       "a  38  38  46  46           f    61\n",
       "b  13  24   3  54           j   100\n",
       "c  18  47   4  42           j    97\n",
       "d   8  66  50  46           f    96\n",
       "e  62  36  19  19           j   103\n",
       "f  77  17   7  63           j   107\n",
       "g  28  47  46  65           h    71\n",
       "h  63  12  16  24           j   110\n",
       "i  14  51  34  56           f    77\n",
       "j  29  59  92  79           h   110"
      ]
     },
     "execution_count": 195,
     "metadata": {},
     "output_type": "execute_result"
    }
   ],
   "source": [
    "df"
   ]
  },
  {
   "cell_type": "code",
   "execution_count": null,
   "id": "3797ffae",
   "metadata": {},
   "outputs": [],
   "source": []
  },
  {
   "cell_type": "markdown",
   "id": "4e6fec87",
   "metadata": {},
   "source": [
    "# Задача №44"
   ]
  },
  {
   "cell_type": "code",
   "execution_count": 2,
   "id": "9f2c9999",
   "metadata": {},
   "outputs": [],
   "source": [
    "# Определите максимально возможное значение корреляции каждого столбца по сравнению с другими столбцами датафрейма.\n",
    "\n",
    "df = pd.DataFrame(np.random.RandomState(25).randint(1,100, 80).reshape(8, -1), columns=list('pqrstuvwxy'), index=list('abcdefgh'))\n",
    "\n"
   ]
  },
  {
   "cell_type": "code",
   "execution_count": 3,
   "id": "2806b80f",
   "metadata": {},
   "outputs": [
    {
     "data": {
      "text/html": [
       "<div>\n",
       "<style scoped>\n",
       "    .dataframe tbody tr th:only-of-type {\n",
       "        vertical-align: middle;\n",
       "    }\n",
       "\n",
       "    .dataframe tbody tr th {\n",
       "        vertical-align: top;\n",
       "    }\n",
       "\n",
       "    .dataframe thead th {\n",
       "        text-align: right;\n",
       "    }\n",
       "</style>\n",
       "<table border=\"1\" class=\"dataframe\">\n",
       "  <thead>\n",
       "    <tr style=\"text-align: right;\">\n",
       "      <th></th>\n",
       "      <th>p</th>\n",
       "      <th>q</th>\n",
       "      <th>r</th>\n",
       "      <th>s</th>\n",
       "      <th>t</th>\n",
       "      <th>u</th>\n",
       "      <th>v</th>\n",
       "      <th>w</th>\n",
       "      <th>x</th>\n",
       "      <th>y</th>\n",
       "    </tr>\n",
       "  </thead>\n",
       "  <tbody>\n",
       "    <tr>\n",
       "      <th>a</th>\n",
       "      <td>5</td>\n",
       "      <td>63</td>\n",
       "      <td>91</td>\n",
       "      <td>16</td>\n",
       "      <td>62</td>\n",
       "      <td>24</td>\n",
       "      <td>45</td>\n",
       "      <td>51</td>\n",
       "      <td>9</td>\n",
       "      <td>29</td>\n",
       "    </tr>\n",
       "    <tr>\n",
       "      <th>b</th>\n",
       "      <td>5</td>\n",
       "      <td>90</td>\n",
       "      <td>32</td>\n",
       "      <td>70</td>\n",
       "      <td>2</td>\n",
       "      <td>40</td>\n",
       "      <td>4</td>\n",
       "      <td>89</td>\n",
       "      <td>56</td>\n",
       "      <td>4</td>\n",
       "    </tr>\n",
       "    <tr>\n",
       "      <th>c</th>\n",
       "      <td>85</td>\n",
       "      <td>46</td>\n",
       "      <td>4</td>\n",
       "      <td>2</td>\n",
       "      <td>23</td>\n",
       "      <td>32</td>\n",
       "      <td>49</td>\n",
       "      <td>48</td>\n",
       "      <td>74</td>\n",
       "      <td>17</td>\n",
       "    </tr>\n",
       "    <tr>\n",
       "      <th>d</th>\n",
       "      <td>51</td>\n",
       "      <td>86</td>\n",
       "      <td>37</td>\n",
       "      <td>10</td>\n",
       "      <td>33</td>\n",
       "      <td>11</td>\n",
       "      <td>61</td>\n",
       "      <td>48</td>\n",
       "      <td>2</td>\n",
       "      <td>87</td>\n",
       "    </tr>\n",
       "    <tr>\n",
       "      <th>e</th>\n",
       "      <td>92</td>\n",
       "      <td>50</td>\n",
       "      <td>19</td>\n",
       "      <td>93</td>\n",
       "      <td>37</td>\n",
       "      <td>99</td>\n",
       "      <td>31</td>\n",
       "      <td>39</td>\n",
       "      <td>3</td>\n",
       "      <td>6</td>\n",
       "    </tr>\n",
       "    <tr>\n",
       "      <th>f</th>\n",
       "      <td>58</td>\n",
       "      <td>74</td>\n",
       "      <td>23</td>\n",
       "      <td>12</td>\n",
       "      <td>3</td>\n",
       "      <td>44</td>\n",
       "      <td>91</td>\n",
       "      <td>62</td>\n",
       "      <td>85</td>\n",
       "      <td>84</td>\n",
       "    </tr>\n",
       "    <tr>\n",
       "      <th>g</th>\n",
       "      <td>75</td>\n",
       "      <td>18</td>\n",
       "      <td>15</td>\n",
       "      <td>84</td>\n",
       "      <td>38</td>\n",
       "      <td>88</td>\n",
       "      <td>51</td>\n",
       "      <td>52</td>\n",
       "      <td>15</td>\n",
       "      <td>72</td>\n",
       "    </tr>\n",
       "    <tr>\n",
       "      <th>h</th>\n",
       "      <td>63</td>\n",
       "      <td>91</td>\n",
       "      <td>16</td>\n",
       "      <td>15</td>\n",
       "      <td>77</td>\n",
       "      <td>40</td>\n",
       "      <td>89</td>\n",
       "      <td>47</td>\n",
       "      <td>54</td>\n",
       "      <td>30</td>\n",
       "    </tr>\n",
       "  </tbody>\n",
       "</table>\n",
       "</div>"
      ],
      "text/plain": [
       "    p   q   r   s   t   u   v   w   x   y\n",
       "a   5  63  91  16  62  24  45  51   9  29\n",
       "b   5  90  32  70   2  40   4  89  56   4\n",
       "c  85  46   4   2  23  32  49  48  74  17\n",
       "d  51  86  37  10  33  11  61  48   2  87\n",
       "e  92  50  19  93  37  99  31  39   3   6\n",
       "f  58  74  23  12   3  44  91  62  85  84\n",
       "g  75  18  15  84  38  88  51  52  15  72\n",
       "h  63  91  16  15  77  40  89  47  54  30"
      ]
     },
     "execution_count": 3,
     "metadata": {},
     "output_type": "execute_result"
    }
   ],
   "source": [
    "df"
   ]
  },
  {
   "cell_type": "code",
   "execution_count": 13,
   "id": "a077c0d5",
   "metadata": {},
   "outputs": [],
   "source": [
    "df_1 = df.corr()"
   ]
  },
  {
   "cell_type": "code",
   "execution_count": 14,
   "id": "30c0d466",
   "metadata": {},
   "outputs": [
    {
     "data": {
      "text/html": [
       "<div>\n",
       "<style scoped>\n",
       "    .dataframe tbody tr th:only-of-type {\n",
       "        vertical-align: middle;\n",
       "    }\n",
       "\n",
       "    .dataframe tbody tr th {\n",
       "        vertical-align: top;\n",
       "    }\n",
       "\n",
       "    .dataframe thead th {\n",
       "        text-align: right;\n",
       "    }\n",
       "</style>\n",
       "<table border=\"1\" class=\"dataframe\">\n",
       "  <thead>\n",
       "    <tr style=\"text-align: right;\">\n",
       "      <th></th>\n",
       "      <th>p</th>\n",
       "      <th>q</th>\n",
       "      <th>r</th>\n",
       "      <th>s</th>\n",
       "      <th>t</th>\n",
       "      <th>u</th>\n",
       "      <th>v</th>\n",
       "      <th>w</th>\n",
       "      <th>x</th>\n",
       "      <th>y</th>\n",
       "    </tr>\n",
       "  </thead>\n",
       "  <tbody>\n",
       "    <tr>\n",
       "      <th>p</th>\n",
       "      <td>1.000000</td>\n",
       "      <td>-0.512107</td>\n",
       "      <td>-0.767901</td>\n",
       "      <td>0.139413</td>\n",
       "      <td>0.052365</td>\n",
       "      <td>0.544037</td>\n",
       "      <td>0.335403</td>\n",
       "      <td>-0.666213</td>\n",
       "      <td>0.036061</td>\n",
       "      <td>0.113365</td>\n",
       "    </tr>\n",
       "    <tr>\n",
       "      <th>q</th>\n",
       "      <td>-0.512107</td>\n",
       "      <td>1.000000</td>\n",
       "      <td>0.209535</td>\n",
       "      <td>-0.424986</td>\n",
       "      <td>-0.013054</td>\n",
       "      <td>-0.639377</td>\n",
       "      <td>0.142553</td>\n",
       "      <td>0.391215</td>\n",
       "      <td>0.249027</td>\n",
       "      <td>-0.049830</td>\n",
       "    </tr>\n",
       "    <tr>\n",
       "      <th>r</th>\n",
       "      <td>-0.767901</td>\n",
       "      <td>0.209535</td>\n",
       "      <td>1.000000</td>\n",
       "      <td>-0.187936</td>\n",
       "      <td>0.295132</td>\n",
       "      <td>-0.408626</td>\n",
       "      <td>-0.171527</td>\n",
       "      <td>0.083154</td>\n",
       "      <td>-0.433272</td>\n",
       "      <td>-0.013345</td>\n",
       "    </tr>\n",
       "    <tr>\n",
       "      <th>s</th>\n",
       "      <td>0.139413</td>\n",
       "      <td>-0.424986</td>\n",
       "      <td>-0.187936</td>\n",
       "      <td>1.000000</td>\n",
       "      <td>-0.152527</td>\n",
       "      <td>0.845489</td>\n",
       "      <td>-0.606281</td>\n",
       "      <td>0.150114</td>\n",
       "      <td>-0.410009</td>\n",
       "      <td>-0.297120</td>\n",
       "    </tr>\n",
       "    <tr>\n",
       "      <th>t</th>\n",
       "      <td>0.052365</td>\n",
       "      <td>-0.013054</td>\n",
       "      <td>0.295132</td>\n",
       "      <td>-0.152527</td>\n",
       "      <td>1.000000</td>\n",
       "      <td>-0.019302</td>\n",
       "      <td>0.319836</td>\n",
       "      <td>-0.619769</td>\n",
       "      <td>-0.440047</td>\n",
       "      <td>-0.114302</td>\n",
       "    </tr>\n",
       "    <tr>\n",
       "      <th>u</th>\n",
       "      <td>0.544037</td>\n",
       "      <td>-0.639377</td>\n",
       "      <td>-0.408626</td>\n",
       "      <td>0.845489</td>\n",
       "      <td>-0.019302</td>\n",
       "      <td>1.000000</td>\n",
       "      <td>-0.210305</td>\n",
       "      <td>-0.215764</td>\n",
       "      <td>-0.237842</td>\n",
       "      <td>-0.184201</td>\n",
       "    </tr>\n",
       "    <tr>\n",
       "      <th>v</th>\n",
       "      <td>0.335403</td>\n",
       "      <td>0.142553</td>\n",
       "      <td>-0.171527</td>\n",
       "      <td>-0.606281</td>\n",
       "      <td>0.319836</td>\n",
       "      <td>-0.210305</td>\n",
       "      <td>1.000000</td>\n",
       "      <td>-0.430686</td>\n",
       "      <td>0.308671</td>\n",
       "      <td>0.621780</td>\n",
       "    </tr>\n",
       "    <tr>\n",
       "      <th>w</th>\n",
       "      <td>-0.666213</td>\n",
       "      <td>0.391215</td>\n",
       "      <td>0.083154</td>\n",
       "      <td>0.150114</td>\n",
       "      <td>-0.619769</td>\n",
       "      <td>-0.215764</td>\n",
       "      <td>-0.430686</td>\n",
       "      <td>1.000000</td>\n",
       "      <td>0.429285</td>\n",
       "      <td>-0.136803</td>\n",
       "    </tr>\n",
       "    <tr>\n",
       "      <th>x</th>\n",
       "      <td>0.036061</td>\n",
       "      <td>0.249027</td>\n",
       "      <td>-0.433272</td>\n",
       "      <td>-0.410009</td>\n",
       "      <td>-0.440047</td>\n",
       "      <td>-0.237842</td>\n",
       "      <td>0.308671</td>\n",
       "      <td>0.429285</td>\n",
       "      <td>1.000000</td>\n",
       "      <td>-0.058826</td>\n",
       "    </tr>\n",
       "    <tr>\n",
       "      <th>y</th>\n",
       "      <td>0.113365</td>\n",
       "      <td>-0.049830</td>\n",
       "      <td>-0.013345</td>\n",
       "      <td>-0.297120</td>\n",
       "      <td>-0.114302</td>\n",
       "      <td>-0.184201</td>\n",
       "      <td>0.621780</td>\n",
       "      <td>-0.136803</td>\n",
       "      <td>-0.058826</td>\n",
       "      <td>1.000000</td>\n",
       "    </tr>\n",
       "  </tbody>\n",
       "</table>\n",
       "</div>"
      ],
      "text/plain": [
       "          p         q         r         s         t         u         v  \\\n",
       "p  1.000000 -0.512107 -0.767901  0.139413  0.052365  0.544037  0.335403   \n",
       "q -0.512107  1.000000  0.209535 -0.424986 -0.013054 -0.639377  0.142553   \n",
       "r -0.767901  0.209535  1.000000 -0.187936  0.295132 -0.408626 -0.171527   \n",
       "s  0.139413 -0.424986 -0.187936  1.000000 -0.152527  0.845489 -0.606281   \n",
       "t  0.052365 -0.013054  0.295132 -0.152527  1.000000 -0.019302  0.319836   \n",
       "u  0.544037 -0.639377 -0.408626  0.845489 -0.019302  1.000000 -0.210305   \n",
       "v  0.335403  0.142553 -0.171527 -0.606281  0.319836 -0.210305  1.000000   \n",
       "w -0.666213  0.391215  0.083154  0.150114 -0.619769 -0.215764 -0.430686   \n",
       "x  0.036061  0.249027 -0.433272 -0.410009 -0.440047 -0.237842  0.308671   \n",
       "y  0.113365 -0.049830 -0.013345 -0.297120 -0.114302 -0.184201  0.621780   \n",
       "\n",
       "          w         x         y  \n",
       "p -0.666213  0.036061  0.113365  \n",
       "q  0.391215  0.249027 -0.049830  \n",
       "r  0.083154 -0.433272 -0.013345  \n",
       "s  0.150114 -0.410009 -0.297120  \n",
       "t -0.619769 -0.440047 -0.114302  \n",
       "u -0.215764 -0.237842 -0.184201  \n",
       "v -0.430686  0.308671  0.621780  \n",
       "w  1.000000  0.429285 -0.136803  \n",
       "x  0.429285  1.000000 -0.058826  \n",
       "y -0.136803 -0.058826  1.000000  "
      ]
     },
     "execution_count": 14,
     "metadata": {},
     "output_type": "execute_result"
    }
   ],
   "source": [
    "df_1"
   ]
  },
  {
   "cell_type": "code",
   "execution_count": 31,
   "id": "0c340c21",
   "metadata": {},
   "outputs": [
    {
     "data": {
      "text/plain": [
       "0.77"
      ]
     },
     "execution_count": 31,
     "metadata": {},
     "output_type": "execute_result"
    }
   ],
   "source": [
    "np.round(sorted(abs(df_1.iloc[0]))[-2], 2)"
   ]
  },
  {
   "cell_type": "code",
   "execution_count": null,
   "id": "2ede8091",
   "metadata": {},
   "outputs": [],
   "source": []
  },
  {
   "cell_type": "code",
   "execution_count": 68,
   "id": "74ab1086",
   "metadata": {},
   "outputs": [],
   "source": [
    "lst = df_1.apply(lambda x: np.round(sorted(abs(x))[-2], 2)).values"
   ]
  },
  {
   "cell_type": "code",
   "execution_count": 82,
   "id": "2d58aa92",
   "metadata": {},
   "outputs": [
    {
     "data": {
      "text/plain": [
       "array([0.77, 0.64, 0.77, 0.85, 0.62, 0.85, 0.62, 0.67, 0.44, 0.62])"
      ]
     },
     "execution_count": 82,
     "metadata": {},
     "output_type": "execute_result"
    }
   ],
   "source": [
    "lst"
   ]
  },
  {
   "cell_type": "code",
   "execution_count": 83,
   "id": "a1f66770",
   "metadata": {},
   "outputs": [
    {
     "data": {
      "text/plain": [
       "[0.77, 0.64, 0.77, 0.85, 0.62, 0.85, 0.62, 0.67, 0.44, 0.62]"
      ]
     },
     "execution_count": 83,
     "metadata": {},
     "output_type": "execute_result"
    }
   ],
   "source": [
    "list(lst)"
   ]
  },
  {
   "cell_type": "code",
   "execution_count": 84,
   "id": "82b9f2eb",
   "metadata": {},
   "outputs": [
    {
     "name": "stdout",
     "output_type": "stream",
     "text": [
      "[0.77 0.64 0.77 0.85 0.62 0.85 0.62 0.67 0.44 0.62]\n"
     ]
    }
   ],
   "source": [
    "print(lst)"
   ]
  },
  {
   "cell_type": "code",
   "execution_count": null,
   "id": "c4b96fd3",
   "metadata": {},
   "outputs": [],
   "source": []
  },
  {
   "cell_type": "code",
   "execution_count": null,
   "id": "3ee1043e",
   "metadata": {},
   "outputs": [],
   "source": []
  },
  {
   "cell_type": "markdown",
   "id": "746e7fe5",
   "metadata": {},
   "source": [
    "# Задача №45"
   ]
  },
  {
   "cell_type": "code",
   "execution_count": 2,
   "id": "e3690743",
   "metadata": {},
   "outputs": [],
   "source": [
    "# Определите отношение минимума к максимуму для каждой строки.\n",
    "\n",
    "df = pd.DataFrame(np.random.RandomState(25).randint(1,100, 80).reshape(8, -1))\n"
   ]
  },
  {
   "cell_type": "code",
   "execution_count": 3,
   "id": "b38b3e46",
   "metadata": {},
   "outputs": [
    {
     "data": {
      "text/html": [
       "<div>\n",
       "<style scoped>\n",
       "    .dataframe tbody tr th:only-of-type {\n",
       "        vertical-align: middle;\n",
       "    }\n",
       "\n",
       "    .dataframe tbody tr th {\n",
       "        vertical-align: top;\n",
       "    }\n",
       "\n",
       "    .dataframe thead th {\n",
       "        text-align: right;\n",
       "    }\n",
       "</style>\n",
       "<table border=\"1\" class=\"dataframe\">\n",
       "  <thead>\n",
       "    <tr style=\"text-align: right;\">\n",
       "      <th></th>\n",
       "      <th>0</th>\n",
       "      <th>1</th>\n",
       "      <th>2</th>\n",
       "      <th>3</th>\n",
       "      <th>4</th>\n",
       "      <th>5</th>\n",
       "      <th>6</th>\n",
       "      <th>7</th>\n",
       "      <th>8</th>\n",
       "      <th>9</th>\n",
       "    </tr>\n",
       "  </thead>\n",
       "  <tbody>\n",
       "    <tr>\n",
       "      <th>0</th>\n",
       "      <td>5</td>\n",
       "      <td>63</td>\n",
       "      <td>91</td>\n",
       "      <td>16</td>\n",
       "      <td>62</td>\n",
       "      <td>24</td>\n",
       "      <td>45</td>\n",
       "      <td>51</td>\n",
       "      <td>9</td>\n",
       "      <td>29</td>\n",
       "    </tr>\n",
       "    <tr>\n",
       "      <th>1</th>\n",
       "      <td>5</td>\n",
       "      <td>90</td>\n",
       "      <td>32</td>\n",
       "      <td>70</td>\n",
       "      <td>2</td>\n",
       "      <td>40</td>\n",
       "      <td>4</td>\n",
       "      <td>89</td>\n",
       "      <td>56</td>\n",
       "      <td>4</td>\n",
       "    </tr>\n",
       "    <tr>\n",
       "      <th>2</th>\n",
       "      <td>85</td>\n",
       "      <td>46</td>\n",
       "      <td>4</td>\n",
       "      <td>2</td>\n",
       "      <td>23</td>\n",
       "      <td>32</td>\n",
       "      <td>49</td>\n",
       "      <td>48</td>\n",
       "      <td>74</td>\n",
       "      <td>17</td>\n",
       "    </tr>\n",
       "    <tr>\n",
       "      <th>3</th>\n",
       "      <td>51</td>\n",
       "      <td>86</td>\n",
       "      <td>37</td>\n",
       "      <td>10</td>\n",
       "      <td>33</td>\n",
       "      <td>11</td>\n",
       "      <td>61</td>\n",
       "      <td>48</td>\n",
       "      <td>2</td>\n",
       "      <td>87</td>\n",
       "    </tr>\n",
       "    <tr>\n",
       "      <th>4</th>\n",
       "      <td>92</td>\n",
       "      <td>50</td>\n",
       "      <td>19</td>\n",
       "      <td>93</td>\n",
       "      <td>37</td>\n",
       "      <td>99</td>\n",
       "      <td>31</td>\n",
       "      <td>39</td>\n",
       "      <td>3</td>\n",
       "      <td>6</td>\n",
       "    </tr>\n",
       "    <tr>\n",
       "      <th>5</th>\n",
       "      <td>58</td>\n",
       "      <td>74</td>\n",
       "      <td>23</td>\n",
       "      <td>12</td>\n",
       "      <td>3</td>\n",
       "      <td>44</td>\n",
       "      <td>91</td>\n",
       "      <td>62</td>\n",
       "      <td>85</td>\n",
       "      <td>84</td>\n",
       "    </tr>\n",
       "    <tr>\n",
       "      <th>6</th>\n",
       "      <td>75</td>\n",
       "      <td>18</td>\n",
       "      <td>15</td>\n",
       "      <td>84</td>\n",
       "      <td>38</td>\n",
       "      <td>88</td>\n",
       "      <td>51</td>\n",
       "      <td>52</td>\n",
       "      <td>15</td>\n",
       "      <td>72</td>\n",
       "    </tr>\n",
       "    <tr>\n",
       "      <th>7</th>\n",
       "      <td>63</td>\n",
       "      <td>91</td>\n",
       "      <td>16</td>\n",
       "      <td>15</td>\n",
       "      <td>77</td>\n",
       "      <td>40</td>\n",
       "      <td>89</td>\n",
       "      <td>47</td>\n",
       "      <td>54</td>\n",
       "      <td>30</td>\n",
       "    </tr>\n",
       "  </tbody>\n",
       "</table>\n",
       "</div>"
      ],
      "text/plain": [
       "    0   1   2   3   4   5   6   7   8   9\n",
       "0   5  63  91  16  62  24  45  51   9  29\n",
       "1   5  90  32  70   2  40   4  89  56   4\n",
       "2  85  46   4   2  23  32  49  48  74  17\n",
       "3  51  86  37  10  33  11  61  48   2  87\n",
       "4  92  50  19  93  37  99  31  39   3   6\n",
       "5  58  74  23  12   3  44  91  62  85  84\n",
       "6  75  18  15  84  38  88  51  52  15  72\n",
       "7  63  91  16  15  77  40  89  47  54  30"
      ]
     },
     "execution_count": 3,
     "metadata": {},
     "output_type": "execute_result"
    }
   ],
   "source": [
    "df"
   ]
  },
  {
   "cell_type": "code",
   "execution_count": 13,
   "id": "f892b894",
   "metadata": {},
   "outputs": [
    {
     "data": {
      "text/plain": [
       "0     5\n",
       "1    63\n",
       "2    91\n",
       "3    16\n",
       "4    62\n",
       "5    24\n",
       "6    45\n",
       "7    51\n",
       "8     9\n",
       "9    29\n",
       "Name: 0, dtype: int32"
      ]
     },
     "execution_count": 13,
     "metadata": {},
     "output_type": "execute_result"
    }
   ],
   "source": [
    "df.loc[0]"
   ]
  },
  {
   "cell_type": "code",
   "execution_count": 6,
   "id": "4b1226f9",
   "metadata": {},
   "outputs": [
    {
     "data": {
      "text/plain": [
       "91"
      ]
     },
     "execution_count": 6,
     "metadata": {},
     "output_type": "execute_result"
    }
   ],
   "source": [
    "df.loc[0].max()"
   ]
  },
  {
   "cell_type": "code",
   "execution_count": 7,
   "id": "1e5bbc7f",
   "metadata": {},
   "outputs": [
    {
     "data": {
      "text/plain": [
       "5"
      ]
     },
     "execution_count": 7,
     "metadata": {},
     "output_type": "execute_result"
    }
   ],
   "source": [
    "df.loc[0].min()"
   ]
  },
  {
   "cell_type": "code",
   "execution_count": 14,
   "id": "ce7d11de",
   "metadata": {},
   "outputs": [
    {
     "data": {
      "text/plain": [
       "0    0.054945\n",
       "1    0.022222\n",
       "2    0.023529\n",
       "3    0.022989\n",
       "4    0.030303\n",
       "5    0.032967\n",
       "6    0.170455\n",
       "7    0.164835\n",
       "dtype: float64"
      ]
     },
     "execution_count": 14,
     "metadata": {},
     "output_type": "execute_result"
    }
   ],
   "source": [
    "df.apply(lambda x: (x.min()/x.max()), axis = 1)"
   ]
  },
  {
   "cell_type": "code",
   "execution_count": null,
   "id": "6b4bb87a",
   "metadata": {},
   "outputs": [],
   "source": []
  },
  {
   "cell_type": "markdown",
   "id": "04cbb8b8",
   "metadata": {},
   "source": [
    "# Задача №46"
   ]
  },
  {
   "cell_type": "code",
   "execution_count": 30,
   "id": "51f4197f",
   "metadata": {},
   "outputs": [],
   "source": [
    "# Создайте новый столбец penultimate (с англ. предпоследний), который \n",
    "# имеет второе по величине значение каждой строки датафрейма:\n",
    "\n",
    "df = pd.DataFrame(np.random.RandomState(25).randint(1,100, 80).reshape(8, -1))"
   ]
  },
  {
   "cell_type": "code",
   "execution_count": 31,
   "id": "4d6179f2",
   "metadata": {},
   "outputs": [
    {
     "data": {
      "text/html": [
       "<div>\n",
       "<style scoped>\n",
       "    .dataframe tbody tr th:only-of-type {\n",
       "        vertical-align: middle;\n",
       "    }\n",
       "\n",
       "    .dataframe tbody tr th {\n",
       "        vertical-align: top;\n",
       "    }\n",
       "\n",
       "    .dataframe thead th {\n",
       "        text-align: right;\n",
       "    }\n",
       "</style>\n",
       "<table border=\"1\" class=\"dataframe\">\n",
       "  <thead>\n",
       "    <tr style=\"text-align: right;\">\n",
       "      <th></th>\n",
       "      <th>0</th>\n",
       "      <th>1</th>\n",
       "      <th>2</th>\n",
       "      <th>3</th>\n",
       "      <th>4</th>\n",
       "      <th>5</th>\n",
       "      <th>6</th>\n",
       "      <th>7</th>\n",
       "      <th>8</th>\n",
       "      <th>9</th>\n",
       "    </tr>\n",
       "  </thead>\n",
       "  <tbody>\n",
       "    <tr>\n",
       "      <th>0</th>\n",
       "      <td>5</td>\n",
       "      <td>63</td>\n",
       "      <td>91</td>\n",
       "      <td>16</td>\n",
       "      <td>62</td>\n",
       "      <td>24</td>\n",
       "      <td>45</td>\n",
       "      <td>51</td>\n",
       "      <td>9</td>\n",
       "      <td>29</td>\n",
       "    </tr>\n",
       "    <tr>\n",
       "      <th>1</th>\n",
       "      <td>5</td>\n",
       "      <td>90</td>\n",
       "      <td>32</td>\n",
       "      <td>70</td>\n",
       "      <td>2</td>\n",
       "      <td>40</td>\n",
       "      <td>4</td>\n",
       "      <td>89</td>\n",
       "      <td>56</td>\n",
       "      <td>4</td>\n",
       "    </tr>\n",
       "    <tr>\n",
       "      <th>2</th>\n",
       "      <td>85</td>\n",
       "      <td>46</td>\n",
       "      <td>4</td>\n",
       "      <td>2</td>\n",
       "      <td>23</td>\n",
       "      <td>32</td>\n",
       "      <td>49</td>\n",
       "      <td>48</td>\n",
       "      <td>74</td>\n",
       "      <td>17</td>\n",
       "    </tr>\n",
       "    <tr>\n",
       "      <th>3</th>\n",
       "      <td>51</td>\n",
       "      <td>86</td>\n",
       "      <td>37</td>\n",
       "      <td>10</td>\n",
       "      <td>33</td>\n",
       "      <td>11</td>\n",
       "      <td>61</td>\n",
       "      <td>48</td>\n",
       "      <td>2</td>\n",
       "      <td>87</td>\n",
       "    </tr>\n",
       "    <tr>\n",
       "      <th>4</th>\n",
       "      <td>92</td>\n",
       "      <td>50</td>\n",
       "      <td>19</td>\n",
       "      <td>93</td>\n",
       "      <td>37</td>\n",
       "      <td>99</td>\n",
       "      <td>31</td>\n",
       "      <td>39</td>\n",
       "      <td>3</td>\n",
       "      <td>6</td>\n",
       "    </tr>\n",
       "    <tr>\n",
       "      <th>5</th>\n",
       "      <td>58</td>\n",
       "      <td>74</td>\n",
       "      <td>23</td>\n",
       "      <td>12</td>\n",
       "      <td>3</td>\n",
       "      <td>44</td>\n",
       "      <td>91</td>\n",
       "      <td>62</td>\n",
       "      <td>85</td>\n",
       "      <td>84</td>\n",
       "    </tr>\n",
       "    <tr>\n",
       "      <th>6</th>\n",
       "      <td>75</td>\n",
       "      <td>18</td>\n",
       "      <td>15</td>\n",
       "      <td>84</td>\n",
       "      <td>38</td>\n",
       "      <td>88</td>\n",
       "      <td>51</td>\n",
       "      <td>52</td>\n",
       "      <td>15</td>\n",
       "      <td>72</td>\n",
       "    </tr>\n",
       "    <tr>\n",
       "      <th>7</th>\n",
       "      <td>63</td>\n",
       "      <td>91</td>\n",
       "      <td>16</td>\n",
       "      <td>15</td>\n",
       "      <td>77</td>\n",
       "      <td>40</td>\n",
       "      <td>89</td>\n",
       "      <td>47</td>\n",
       "      <td>54</td>\n",
       "      <td>30</td>\n",
       "    </tr>\n",
       "  </tbody>\n",
       "</table>\n",
       "</div>"
      ],
      "text/plain": [
       "    0   1   2   3   4   5   6   7   8   9\n",
       "0   5  63  91  16  62  24  45  51   9  29\n",
       "1   5  90  32  70   2  40   4  89  56   4\n",
       "2  85  46   4   2  23  32  49  48  74  17\n",
       "3  51  86  37  10  33  11  61  48   2  87\n",
       "4  92  50  19  93  37  99  31  39   3   6\n",
       "5  58  74  23  12   3  44  91  62  85  84\n",
       "6  75  18  15  84  38  88  51  52  15  72\n",
       "7  63  91  16  15  77  40  89  47  54  30"
      ]
     },
     "execution_count": 31,
     "metadata": {},
     "output_type": "execute_result"
    }
   ],
   "source": [
    "df"
   ]
  },
  {
   "cell_type": "code",
   "execution_count": 32,
   "id": "540d5ecd",
   "metadata": {},
   "outputs": [
    {
     "data": {
      "text/plain": [
       "[5, 9, 16, 24, 29, 45, 51, 62, 63, 91]"
      ]
     },
     "execution_count": 32,
     "metadata": {},
     "output_type": "execute_result"
    }
   ],
   "source": [
    "sorted(df.loc[0])"
   ]
  },
  {
   "cell_type": "code",
   "execution_count": 33,
   "id": "dd9f34fe",
   "metadata": {},
   "outputs": [],
   "source": [
    "df['penultimate'] = df.apply(lambda x: sorted(x)[-2], axis = 1)"
   ]
  },
  {
   "cell_type": "code",
   "execution_count": 34,
   "id": "80e095bc",
   "metadata": {},
   "outputs": [
    {
     "data": {
      "text/html": [
       "<div>\n",
       "<style scoped>\n",
       "    .dataframe tbody tr th:only-of-type {\n",
       "        vertical-align: middle;\n",
       "    }\n",
       "\n",
       "    .dataframe tbody tr th {\n",
       "        vertical-align: top;\n",
       "    }\n",
       "\n",
       "    .dataframe thead th {\n",
       "        text-align: right;\n",
       "    }\n",
       "</style>\n",
       "<table border=\"1\" class=\"dataframe\">\n",
       "  <thead>\n",
       "    <tr style=\"text-align: right;\">\n",
       "      <th></th>\n",
       "      <th>0</th>\n",
       "      <th>1</th>\n",
       "      <th>2</th>\n",
       "      <th>3</th>\n",
       "      <th>4</th>\n",
       "      <th>5</th>\n",
       "      <th>6</th>\n",
       "      <th>7</th>\n",
       "      <th>8</th>\n",
       "      <th>9</th>\n",
       "      <th>penultimate</th>\n",
       "    </tr>\n",
       "  </thead>\n",
       "  <tbody>\n",
       "    <tr>\n",
       "      <th>0</th>\n",
       "      <td>5</td>\n",
       "      <td>63</td>\n",
       "      <td>91</td>\n",
       "      <td>16</td>\n",
       "      <td>62</td>\n",
       "      <td>24</td>\n",
       "      <td>45</td>\n",
       "      <td>51</td>\n",
       "      <td>9</td>\n",
       "      <td>29</td>\n",
       "      <td>63</td>\n",
       "    </tr>\n",
       "    <tr>\n",
       "      <th>1</th>\n",
       "      <td>5</td>\n",
       "      <td>90</td>\n",
       "      <td>32</td>\n",
       "      <td>70</td>\n",
       "      <td>2</td>\n",
       "      <td>40</td>\n",
       "      <td>4</td>\n",
       "      <td>89</td>\n",
       "      <td>56</td>\n",
       "      <td>4</td>\n",
       "      <td>89</td>\n",
       "    </tr>\n",
       "    <tr>\n",
       "      <th>2</th>\n",
       "      <td>85</td>\n",
       "      <td>46</td>\n",
       "      <td>4</td>\n",
       "      <td>2</td>\n",
       "      <td>23</td>\n",
       "      <td>32</td>\n",
       "      <td>49</td>\n",
       "      <td>48</td>\n",
       "      <td>74</td>\n",
       "      <td>17</td>\n",
       "      <td>74</td>\n",
       "    </tr>\n",
       "    <tr>\n",
       "      <th>3</th>\n",
       "      <td>51</td>\n",
       "      <td>86</td>\n",
       "      <td>37</td>\n",
       "      <td>10</td>\n",
       "      <td>33</td>\n",
       "      <td>11</td>\n",
       "      <td>61</td>\n",
       "      <td>48</td>\n",
       "      <td>2</td>\n",
       "      <td>87</td>\n",
       "      <td>86</td>\n",
       "    </tr>\n",
       "    <tr>\n",
       "      <th>4</th>\n",
       "      <td>92</td>\n",
       "      <td>50</td>\n",
       "      <td>19</td>\n",
       "      <td>93</td>\n",
       "      <td>37</td>\n",
       "      <td>99</td>\n",
       "      <td>31</td>\n",
       "      <td>39</td>\n",
       "      <td>3</td>\n",
       "      <td>6</td>\n",
       "      <td>93</td>\n",
       "    </tr>\n",
       "    <tr>\n",
       "      <th>5</th>\n",
       "      <td>58</td>\n",
       "      <td>74</td>\n",
       "      <td>23</td>\n",
       "      <td>12</td>\n",
       "      <td>3</td>\n",
       "      <td>44</td>\n",
       "      <td>91</td>\n",
       "      <td>62</td>\n",
       "      <td>85</td>\n",
       "      <td>84</td>\n",
       "      <td>85</td>\n",
       "    </tr>\n",
       "    <tr>\n",
       "      <th>6</th>\n",
       "      <td>75</td>\n",
       "      <td>18</td>\n",
       "      <td>15</td>\n",
       "      <td>84</td>\n",
       "      <td>38</td>\n",
       "      <td>88</td>\n",
       "      <td>51</td>\n",
       "      <td>52</td>\n",
       "      <td>15</td>\n",
       "      <td>72</td>\n",
       "      <td>84</td>\n",
       "    </tr>\n",
       "    <tr>\n",
       "      <th>7</th>\n",
       "      <td>63</td>\n",
       "      <td>91</td>\n",
       "      <td>16</td>\n",
       "      <td>15</td>\n",
       "      <td>77</td>\n",
       "      <td>40</td>\n",
       "      <td>89</td>\n",
       "      <td>47</td>\n",
       "      <td>54</td>\n",
       "      <td>30</td>\n",
       "      <td>89</td>\n",
       "    </tr>\n",
       "  </tbody>\n",
       "</table>\n",
       "</div>"
      ],
      "text/plain": [
       "    0   1   2   3   4   5   6   7   8   9  penultimate\n",
       "0   5  63  91  16  62  24  45  51   9  29           63\n",
       "1   5  90  32  70   2  40   4  89  56   4           89\n",
       "2  85  46   4   2  23  32  49  48  74  17           74\n",
       "3  51  86  37  10  33  11  61  48   2  87           86\n",
       "4  92  50  19  93  37  99  31  39   3   6           93\n",
       "5  58  74  23  12   3  44  91  62  85  84           85\n",
       "6  75  18  15  84  38  88  51  52  15  72           84\n",
       "7  63  91  16  15  77  40  89  47  54  30           89"
      ]
     },
     "execution_count": 34,
     "metadata": {},
     "output_type": "execute_result"
    }
   ],
   "source": [
    "df"
   ]
  },
  {
   "cell_type": "code",
   "execution_count": null,
   "id": "7ade26c9",
   "metadata": {},
   "outputs": [],
   "source": []
  },
  {
   "cell_type": "markdown",
   "id": "8aad80d2",
   "metadata": {},
   "source": [
    "# Задача №47"
   ]
  },
  {
   "cell_type": "code",
   "execution_count": 2,
   "id": "420ce5e7",
   "metadata": {},
   "outputs": [],
   "source": [
    "# Нормализуйте все столбцы датафрейма, вычитая среднее значение столбца и разделив на стандартное отклонение:\n",
    "\n",
    "df = pd.DataFrame(np.random.RandomState(20).randint(1,100, 80).reshape(8, -1))\n",
    "\n"
   ]
  },
  {
   "cell_type": "code",
   "execution_count": 3,
   "id": "a973eb44",
   "metadata": {},
   "outputs": [
    {
     "data": {
      "text/html": [
       "<div>\n",
       "<style scoped>\n",
       "    .dataframe tbody tr th:only-of-type {\n",
       "        vertical-align: middle;\n",
       "    }\n",
       "\n",
       "    .dataframe tbody tr th {\n",
       "        vertical-align: top;\n",
       "    }\n",
       "\n",
       "    .dataframe thead th {\n",
       "        text-align: right;\n",
       "    }\n",
       "</style>\n",
       "<table border=\"1\" class=\"dataframe\">\n",
       "  <thead>\n",
       "    <tr style=\"text-align: right;\">\n",
       "      <th></th>\n",
       "      <th>0</th>\n",
       "      <th>1</th>\n",
       "      <th>2</th>\n",
       "      <th>3</th>\n",
       "      <th>4</th>\n",
       "      <th>5</th>\n",
       "      <th>6</th>\n",
       "      <th>7</th>\n",
       "      <th>8</th>\n",
       "      <th>9</th>\n",
       "    </tr>\n",
       "  </thead>\n",
       "  <tbody>\n",
       "    <tr>\n",
       "      <th>0</th>\n",
       "      <td>91</td>\n",
       "      <td>16</td>\n",
       "      <td>96</td>\n",
       "      <td>29</td>\n",
       "      <td>91</td>\n",
       "      <td>10</td>\n",
       "      <td>21</td>\n",
       "      <td>76</td>\n",
       "      <td>23</td>\n",
       "      <td>72</td>\n",
       "    </tr>\n",
       "    <tr>\n",
       "      <th>1</th>\n",
       "      <td>35</td>\n",
       "      <td>97</td>\n",
       "      <td>41</td>\n",
       "      <td>86</td>\n",
       "      <td>91</td>\n",
       "      <td>27</td>\n",
       "      <td>84</td>\n",
       "      <td>17</td>\n",
       "      <td>63</td>\n",
       "      <td>17</td>\n",
       "    </tr>\n",
       "    <tr>\n",
       "      <th>2</th>\n",
       "      <td>8</td>\n",
       "      <td>99</td>\n",
       "      <td>7</td>\n",
       "      <td>27</td>\n",
       "      <td>14</td>\n",
       "      <td>76</td>\n",
       "      <td>59</td>\n",
       "      <td>26</td>\n",
       "      <td>4</td>\n",
       "      <td>75</td>\n",
       "    </tr>\n",
       "    <tr>\n",
       "      <th>3</th>\n",
       "      <td>76</td>\n",
       "      <td>62</td>\n",
       "      <td>78</td>\n",
       "      <td>84</td>\n",
       "      <td>58</td>\n",
       "      <td>95</td>\n",
       "      <td>33</td>\n",
       "      <td>11</td>\n",
       "      <td>7</td>\n",
       "      <td>76</td>\n",
       "    </tr>\n",
       "    <tr>\n",
       "      <th>4</th>\n",
       "      <td>19</td>\n",
       "      <td>4</td>\n",
       "      <td>78</td>\n",
       "      <td>18</td>\n",
       "      <td>44</td>\n",
       "      <td>17</td>\n",
       "      <td>19</td>\n",
       "      <td>80</td>\n",
       "      <td>91</td>\n",
       "      <td>60</td>\n",
       "    </tr>\n",
       "    <tr>\n",
       "      <th>5</th>\n",
       "      <td>72</td>\n",
       "      <td>76</td>\n",
       "      <td>30</td>\n",
       "      <td>46</td>\n",
       "      <td>7</td>\n",
       "      <td>64</td>\n",
       "      <td>79</td>\n",
       "      <td>25</td>\n",
       "      <td>19</td>\n",
       "      <td>94</td>\n",
       "    </tr>\n",
       "    <tr>\n",
       "      <th>6</th>\n",
       "      <td>34</td>\n",
       "      <td>79</td>\n",
       "      <td>43</td>\n",
       "      <td>95</td>\n",
       "      <td>4</td>\n",
       "      <td>19</td>\n",
       "      <td>71</td>\n",
       "      <td>53</td>\n",
       "      <td>23</td>\n",
       "      <td>15</td>\n",
       "    </tr>\n",
       "    <tr>\n",
       "      <th>7</th>\n",
       "      <td>5</td>\n",
       "      <td>28</td>\n",
       "      <td>76</td>\n",
       "      <td>9</td>\n",
       "      <td>7</td>\n",
       "      <td>27</td>\n",
       "      <td>80</td>\n",
       "      <td>83</td>\n",
       "      <td>79</td>\n",
       "      <td>11</td>\n",
       "    </tr>\n",
       "  </tbody>\n",
       "</table>\n",
       "</div>"
      ],
      "text/plain": [
       "    0   1   2   3   4   5   6   7   8   9\n",
       "0  91  16  96  29  91  10  21  76  23  72\n",
       "1  35  97  41  86  91  27  84  17  63  17\n",
       "2   8  99   7  27  14  76  59  26   4  75\n",
       "3  76  62  78  84  58  95  33  11   7  76\n",
       "4  19   4  78  18  44  17  19  80  91  60\n",
       "5  72  76  30  46   7  64  79  25  19  94\n",
       "6  34  79  43  95   4  19  71  53  23  15\n",
       "7   5  28  76   9   7  27  80  83  79  11"
      ]
     },
     "execution_count": 3,
     "metadata": {},
     "output_type": "execute_result"
    }
   ],
   "source": [
    "df"
   ]
  },
  {
   "cell_type": "code",
   "execution_count": 4,
   "id": "391b142f",
   "metadata": {},
   "outputs": [
    {
     "data": {
      "text/plain": [
       "0    42.500\n",
       "1    57.625\n",
       "2    56.125\n",
       "3    49.250\n",
       "4    39.500\n",
       "5    41.875\n",
       "6    55.750\n",
       "7    46.375\n",
       "8    38.625\n",
       "9    52.500\n",
       "dtype: float64"
      ]
     },
     "execution_count": 4,
     "metadata": {},
     "output_type": "execute_result"
    }
   ],
   "source": [
    "df.mean()"
   ]
  },
  {
   "cell_type": "code",
   "execution_count": 7,
   "id": "20d95471",
   "metadata": {},
   "outputs": [
    {
     "data": {
      "text/plain": [
       "32.99783542684494"
      ]
     },
     "execution_count": 7,
     "metadata": {},
     "output_type": "execute_result"
    }
   ],
   "source": [
    "df[0].std()"
   ]
  },
  {
   "cell_type": "code",
   "execution_count": 9,
   "id": "bd2e2108",
   "metadata": {},
   "outputs": [
    {
     "data": {
      "text/html": [
       "<div>\n",
       "<style scoped>\n",
       "    .dataframe tbody tr th:only-of-type {\n",
       "        vertical-align: middle;\n",
       "    }\n",
       "\n",
       "    .dataframe tbody tr th {\n",
       "        vertical-align: top;\n",
       "    }\n",
       "\n",
       "    .dataframe thead th {\n",
       "        text-align: right;\n",
       "    }\n",
       "</style>\n",
       "<table border=\"1\" class=\"dataframe\">\n",
       "  <thead>\n",
       "    <tr style=\"text-align: right;\">\n",
       "      <th></th>\n",
       "      <th>0</th>\n",
       "      <th>1</th>\n",
       "      <th>2</th>\n",
       "      <th>3</th>\n",
       "      <th>4</th>\n",
       "      <th>5</th>\n",
       "      <th>6</th>\n",
       "      <th>7</th>\n",
       "      <th>8</th>\n",
       "      <th>9</th>\n",
       "    </tr>\n",
       "  </thead>\n",
       "  <tbody>\n",
       "    <tr>\n",
       "      <th>0</th>\n",
       "      <td>1.47</td>\n",
       "      <td>-1.13</td>\n",
       "      <td>1.31</td>\n",
       "      <td>-0.59</td>\n",
       "      <td>1.38</td>\n",
       "      <td>-1.00</td>\n",
       "      <td>-1.27</td>\n",
       "      <td>0.98</td>\n",
       "      <td>-0.46</td>\n",
       "      <td>0.59</td>\n",
       "    </tr>\n",
       "    <tr>\n",
       "      <th>1</th>\n",
       "      <td>-0.23</td>\n",
       "      <td>1.07</td>\n",
       "      <td>-0.50</td>\n",
       "      <td>1.08</td>\n",
       "      <td>1.38</td>\n",
       "      <td>-0.47</td>\n",
       "      <td>1.03</td>\n",
       "      <td>-0.97</td>\n",
       "      <td>0.72</td>\n",
       "      <td>-1.08</td>\n",
       "    </tr>\n",
       "    <tr>\n",
       "      <th>2</th>\n",
       "      <td>-1.05</td>\n",
       "      <td>1.12</td>\n",
       "      <td>-1.62</td>\n",
       "      <td>-0.65</td>\n",
       "      <td>-0.69</td>\n",
       "      <td>1.07</td>\n",
       "      <td>0.12</td>\n",
       "      <td>-0.67</td>\n",
       "      <td>-1.02</td>\n",
       "      <td>0.68</td>\n",
       "    </tr>\n",
       "    <tr>\n",
       "      <th>3</th>\n",
       "      <td>1.02</td>\n",
       "      <td>0.12</td>\n",
       "      <td>0.72</td>\n",
       "      <td>1.02</td>\n",
       "      <td>0.50</td>\n",
       "      <td>1.67</td>\n",
       "      <td>-0.83</td>\n",
       "      <td>-1.17</td>\n",
       "      <td>-0.93</td>\n",
       "      <td>0.71</td>\n",
       "    </tr>\n",
       "    <tr>\n",
       "      <th>4</th>\n",
       "      <td>-0.71</td>\n",
       "      <td>-1.45</td>\n",
       "      <td>0.72</td>\n",
       "      <td>-0.92</td>\n",
       "      <td>0.12</td>\n",
       "      <td>-0.78</td>\n",
       "      <td>-1.34</td>\n",
       "      <td>1.11</td>\n",
       "      <td>1.55</td>\n",
       "      <td>0.23</td>\n",
       "    </tr>\n",
       "    <tr>\n",
       "      <th>5</th>\n",
       "      <td>0.89</td>\n",
       "      <td>0.50</td>\n",
       "      <td>-0.86</td>\n",
       "      <td>-0.10</td>\n",
       "      <td>-0.87</td>\n",
       "      <td>0.70</td>\n",
       "      <td>0.85</td>\n",
       "      <td>-0.71</td>\n",
       "      <td>-0.58</td>\n",
       "      <td>1.26</td>\n",
       "    </tr>\n",
       "    <tr>\n",
       "      <th>6</th>\n",
       "      <td>-0.26</td>\n",
       "      <td>0.58</td>\n",
       "      <td>-0.43</td>\n",
       "      <td>1.34</td>\n",
       "      <td>-0.95</td>\n",
       "      <td>-0.72</td>\n",
       "      <td>0.56</td>\n",
       "      <td>0.22</td>\n",
       "      <td>-0.46</td>\n",
       "      <td>-1.14</td>\n",
       "    </tr>\n",
       "    <tr>\n",
       "      <th>7</th>\n",
       "      <td>-1.14</td>\n",
       "      <td>-0.80</td>\n",
       "      <td>0.66</td>\n",
       "      <td>-1.18</td>\n",
       "      <td>-0.87</td>\n",
       "      <td>-0.47</td>\n",
       "      <td>0.89</td>\n",
       "      <td>1.21</td>\n",
       "      <td>1.19</td>\n",
       "      <td>-1.26</td>\n",
       "    </tr>\n",
       "  </tbody>\n",
       "</table>\n",
       "</div>"
      ],
      "text/plain": [
       "      0     1     2     3     4     5     6     7     8     9\n",
       "0  1.47 -1.13  1.31 -0.59  1.38 -1.00 -1.27  0.98 -0.46  0.59\n",
       "1 -0.23  1.07 -0.50  1.08  1.38 -0.47  1.03 -0.97  0.72 -1.08\n",
       "2 -1.05  1.12 -1.62 -0.65 -0.69  1.07  0.12 -0.67 -1.02  0.68\n",
       "3  1.02  0.12  0.72  1.02  0.50  1.67 -0.83 -1.17 -0.93  0.71\n",
       "4 -0.71 -1.45  0.72 -0.92  0.12 -0.78 -1.34  1.11  1.55  0.23\n",
       "5  0.89  0.50 -0.86 -0.10 -0.87  0.70  0.85 -0.71 -0.58  1.26\n",
       "6 -0.26  0.58 -0.43  1.34 -0.95 -0.72  0.56  0.22 -0.46 -1.14\n",
       "7 -1.14 -0.80  0.66 -1.18 -0.87 -0.47  0.89  1.21  1.19 -1.26"
      ]
     },
     "execution_count": 9,
     "metadata": {},
     "output_type": "execute_result"
    }
   ],
   "source": [
    "df.apply(lambda x: np.round((x-x.mean())/x.std(),2))"
   ]
  },
  {
   "cell_type": "code",
   "execution_count": 10,
   "id": "c23a48a3",
   "metadata": {},
   "outputs": [
    {
     "data": {
      "text/html": [
       "<div>\n",
       "<style scoped>\n",
       "    .dataframe tbody tr th:only-of-type {\n",
       "        vertical-align: middle;\n",
       "    }\n",
       "\n",
       "    .dataframe tbody tr th {\n",
       "        vertical-align: top;\n",
       "    }\n",
       "\n",
       "    .dataframe thead th {\n",
       "        text-align: right;\n",
       "    }\n",
       "</style>\n",
       "<table border=\"1\" class=\"dataframe\">\n",
       "  <thead>\n",
       "    <tr style=\"text-align: right;\">\n",
       "      <th></th>\n",
       "      <th>0</th>\n",
       "      <th>1</th>\n",
       "      <th>2</th>\n",
       "      <th>3</th>\n",
       "      <th>4</th>\n",
       "      <th>5</th>\n",
       "      <th>6</th>\n",
       "      <th>7</th>\n",
       "      <th>8</th>\n",
       "      <th>9</th>\n",
       "    </tr>\n",
       "  </thead>\n",
       "  <tbody>\n",
       "    <tr>\n",
       "      <th>0</th>\n",
       "      <td>91</td>\n",
       "      <td>16</td>\n",
       "      <td>96</td>\n",
       "      <td>29</td>\n",
       "      <td>91</td>\n",
       "      <td>10</td>\n",
       "      <td>21</td>\n",
       "      <td>76</td>\n",
       "      <td>23</td>\n",
       "      <td>72</td>\n",
       "    </tr>\n",
       "    <tr>\n",
       "      <th>1</th>\n",
       "      <td>35</td>\n",
       "      <td>97</td>\n",
       "      <td>41</td>\n",
       "      <td>86</td>\n",
       "      <td>91</td>\n",
       "      <td>27</td>\n",
       "      <td>84</td>\n",
       "      <td>17</td>\n",
       "      <td>63</td>\n",
       "      <td>17</td>\n",
       "    </tr>\n",
       "    <tr>\n",
       "      <th>2</th>\n",
       "      <td>8</td>\n",
       "      <td>99</td>\n",
       "      <td>7</td>\n",
       "      <td>27</td>\n",
       "      <td>14</td>\n",
       "      <td>76</td>\n",
       "      <td>59</td>\n",
       "      <td>26</td>\n",
       "      <td>4</td>\n",
       "      <td>75</td>\n",
       "    </tr>\n",
       "    <tr>\n",
       "      <th>3</th>\n",
       "      <td>76</td>\n",
       "      <td>62</td>\n",
       "      <td>78</td>\n",
       "      <td>84</td>\n",
       "      <td>58</td>\n",
       "      <td>95</td>\n",
       "      <td>33</td>\n",
       "      <td>11</td>\n",
       "      <td>7</td>\n",
       "      <td>76</td>\n",
       "    </tr>\n",
       "    <tr>\n",
       "      <th>4</th>\n",
       "      <td>19</td>\n",
       "      <td>4</td>\n",
       "      <td>78</td>\n",
       "      <td>18</td>\n",
       "      <td>44</td>\n",
       "      <td>17</td>\n",
       "      <td>19</td>\n",
       "      <td>80</td>\n",
       "      <td>91</td>\n",
       "      <td>60</td>\n",
       "    </tr>\n",
       "    <tr>\n",
       "      <th>5</th>\n",
       "      <td>72</td>\n",
       "      <td>76</td>\n",
       "      <td>30</td>\n",
       "      <td>46</td>\n",
       "      <td>7</td>\n",
       "      <td>64</td>\n",
       "      <td>79</td>\n",
       "      <td>25</td>\n",
       "      <td>19</td>\n",
       "      <td>94</td>\n",
       "    </tr>\n",
       "    <tr>\n",
       "      <th>6</th>\n",
       "      <td>34</td>\n",
       "      <td>79</td>\n",
       "      <td>43</td>\n",
       "      <td>95</td>\n",
       "      <td>4</td>\n",
       "      <td>19</td>\n",
       "      <td>71</td>\n",
       "      <td>53</td>\n",
       "      <td>23</td>\n",
       "      <td>15</td>\n",
       "    </tr>\n",
       "    <tr>\n",
       "      <th>7</th>\n",
       "      <td>5</td>\n",
       "      <td>28</td>\n",
       "      <td>76</td>\n",
       "      <td>9</td>\n",
       "      <td>7</td>\n",
       "      <td>27</td>\n",
       "      <td>80</td>\n",
       "      <td>83</td>\n",
       "      <td>79</td>\n",
       "      <td>11</td>\n",
       "    </tr>\n",
       "  </tbody>\n",
       "</table>\n",
       "</div>"
      ],
      "text/plain": [
       "    0   1   2   3   4   5   6   7   8   9\n",
       "0  91  16  96  29  91  10  21  76  23  72\n",
       "1  35  97  41  86  91  27  84  17  63  17\n",
       "2   8  99   7  27  14  76  59  26   4  75\n",
       "3  76  62  78  84  58  95  33  11   7  76\n",
       "4  19   4  78  18  44  17  19  80  91  60\n",
       "5  72  76  30  46   7  64  79  25  19  94\n",
       "6  34  79  43  95   4  19  71  53  23  15\n",
       "7   5  28  76   9   7  27  80  83  79  11"
      ]
     },
     "execution_count": 10,
     "metadata": {},
     "output_type": "execute_result"
    }
   ],
   "source": [
    "df"
   ]
  },
  {
   "cell_type": "code",
   "execution_count": null,
   "id": "053c0760",
   "metadata": {},
   "outputs": [],
   "source": []
  },
  {
   "cell_type": "markdown",
   "id": "a29d813c",
   "metadata": {},
   "source": [
    "# Задача № 48"
   ]
  },
  {
   "cell_type": "code",
   "execution_count": 2,
   "id": "3be39fa4",
   "metadata": {},
   "outputs": [],
   "source": [
    "# Для вас подготовлен датафрейм содержащий имена пользователей и их теги. \n",
    "# Ваша задача заключается в том чтобы вытянуть самый первый тег из списка \n",
    "# и сформировать отдельную колонку:\n",
    "\n",
    "initial_df = pd.DataFrame({'user_name' : ['Ivan 007', 'Petr 911', 'Nikolay 112'], 'user_tags' : [\"['sport', 'law', 'cars']\", \"['cars', 'law', 'girls']\" ,\"['law', 'travels', 'cars']\"]})"
   ]
  },
  {
   "cell_type": "code",
   "execution_count": 3,
   "id": "d8b54c86",
   "metadata": {},
   "outputs": [
    {
     "data": {
      "text/html": [
       "<div>\n",
       "<style scoped>\n",
       "    .dataframe tbody tr th:only-of-type {\n",
       "        vertical-align: middle;\n",
       "    }\n",
       "\n",
       "    .dataframe tbody tr th {\n",
       "        vertical-align: top;\n",
       "    }\n",
       "\n",
       "    .dataframe thead th {\n",
       "        text-align: right;\n",
       "    }\n",
       "</style>\n",
       "<table border=\"1\" class=\"dataframe\">\n",
       "  <thead>\n",
       "    <tr style=\"text-align: right;\">\n",
       "      <th></th>\n",
       "      <th>user_name</th>\n",
       "      <th>user_tags</th>\n",
       "    </tr>\n",
       "  </thead>\n",
       "  <tbody>\n",
       "    <tr>\n",
       "      <th>0</th>\n",
       "      <td>Ivan 007</td>\n",
       "      <td>['sport', 'law', 'cars']</td>\n",
       "    </tr>\n",
       "    <tr>\n",
       "      <th>1</th>\n",
       "      <td>Petr 911</td>\n",
       "      <td>['cars', 'law', 'girls']</td>\n",
       "    </tr>\n",
       "    <tr>\n",
       "      <th>2</th>\n",
       "      <td>Nikolay 112</td>\n",
       "      <td>['law', 'travels', 'cars']</td>\n",
       "    </tr>\n",
       "  </tbody>\n",
       "</table>\n",
       "</div>"
      ],
      "text/plain": [
       "     user_name                   user_tags\n",
       "0     Ivan 007    ['sport', 'law', 'cars']\n",
       "1     Petr 911    ['cars', 'law', 'girls']\n",
       "2  Nikolay 112  ['law', 'travels', 'cars']"
      ]
     },
     "execution_count": 3,
     "metadata": {},
     "output_type": "execute_result"
    }
   ],
   "source": [
    "initial_df"
   ]
  },
  {
   "cell_type": "code",
   "execution_count": 31,
   "id": "89d72772",
   "metadata": {},
   "outputs": [
    {
     "data": {
      "text/plain": [
       "'sport'"
      ]
     },
     "execution_count": 31,
     "metadata": {},
     "output_type": "execute_result"
    }
   ],
   "source": [
    "initial_df.user_tags.str.split(\"'\")[0][1]"
   ]
  },
  {
   "cell_type": "code",
   "execution_count": 41,
   "id": "75e06a5b",
   "metadata": {},
   "outputs": [
    {
     "data": {
      "text/plain": [
       "0    sport\n",
       "1     cars\n",
       "2      law\n",
       "Name: user_tags, dtype: object"
      ]
     },
     "execution_count": 41,
     "metadata": {},
     "output_type": "execute_result"
    }
   ],
   "source": [
    "initial_df['user_tags'].apply(lambda x: x.split(\"'\")[1])"
   ]
  },
  {
   "cell_type": "code",
   "execution_count": 42,
   "id": "573b8a22",
   "metadata": {},
   "outputs": [],
   "source": [
    "new_col = initial_df['user_tags'].apply(lambda x: x.split(\"'\")[1])"
   ]
  },
  {
   "cell_type": "code",
   "execution_count": 43,
   "id": "fbe53e75",
   "metadata": {},
   "outputs": [],
   "source": [
    "initial_df['user_main_tag'] = new_col"
   ]
  },
  {
   "cell_type": "code",
   "execution_count": 44,
   "id": "428c3172",
   "metadata": {},
   "outputs": [
    {
     "data": {
      "text/html": [
       "<div>\n",
       "<style scoped>\n",
       "    .dataframe tbody tr th:only-of-type {\n",
       "        vertical-align: middle;\n",
       "    }\n",
       "\n",
       "    .dataframe tbody tr th {\n",
       "        vertical-align: top;\n",
       "    }\n",
       "\n",
       "    .dataframe thead th {\n",
       "        text-align: right;\n",
       "    }\n",
       "</style>\n",
       "<table border=\"1\" class=\"dataframe\">\n",
       "  <thead>\n",
       "    <tr style=\"text-align: right;\">\n",
       "      <th></th>\n",
       "      <th>user_name</th>\n",
       "      <th>user_tags</th>\n",
       "      <th>user_main_tag</th>\n",
       "    </tr>\n",
       "  </thead>\n",
       "  <tbody>\n",
       "    <tr>\n",
       "      <th>0</th>\n",
       "      <td>Ivan 007</td>\n",
       "      <td>['sport', 'law', 'cars']</td>\n",
       "      <td>sport</td>\n",
       "    </tr>\n",
       "    <tr>\n",
       "      <th>1</th>\n",
       "      <td>Petr 911</td>\n",
       "      <td>['cars', 'law', 'girls']</td>\n",
       "      <td>cars</td>\n",
       "    </tr>\n",
       "    <tr>\n",
       "      <th>2</th>\n",
       "      <td>Nikolay 112</td>\n",
       "      <td>['law', 'travels', 'cars']</td>\n",
       "      <td>law</td>\n",
       "    </tr>\n",
       "  </tbody>\n",
       "</table>\n",
       "</div>"
      ],
      "text/plain": [
       "     user_name                   user_tags user_main_tag\n",
       "0     Ivan 007    ['sport', 'law', 'cars']         sport\n",
       "1     Petr 911    ['cars', 'law', 'girls']          cars\n",
       "2  Nikolay 112  ['law', 'travels', 'cars']           law"
      ]
     },
     "execution_count": 44,
     "metadata": {},
     "output_type": "execute_result"
    }
   ],
   "source": [
    "initial_df"
   ]
  },
  {
   "cell_type": "code",
   "execution_count": null,
   "id": "baf5d012",
   "metadata": {},
   "outputs": [],
   "source": []
  },
  {
   "cell_type": "markdown",
   "id": "79b5ea42",
   "metadata": {},
   "source": [
    "# Задача № 49"
   ]
  },
  {
   "cell_type": "code",
   "execution_count": 3,
   "id": "13db90a5",
   "metadata": {},
   "outputs": [],
   "source": [
    "# Некоторые значения в столбце FlightNumber отсутствуют. Значения в столбце \n",
    "# должны увеличиваться на 10 с каждой строкой, поэтому в пропусках необходимо \n",
    "# установить 10055 и 10075. Заполните эти недостающие числа и измените тип столбца с float на int\n",
    "\n",
    "\n",
    "initial_df = pd.DataFrame({'From_To': ['LoNDon_paris', 'MAdrid_miLAN', 'londON_StockhOlm', \n",
    "                               'Budapest_PaRis', 'Brussels_londOn'],\n",
    "              'FlightNumber': [10045, np.nan, 10065, np.nan, 10085],\n",
    "              'RecentDelays': [[23, 47], [], [24, 43, 87], [13], [67, 32]],\n",
    "                   'Airline': ['KLM(!)', '<Air France> (12)', '(British Airways. )', \n",
    "                               '12. Air France', '\"Swiss Air\"']})"
   ]
  },
  {
   "cell_type": "code",
   "execution_count": 4,
   "id": "f24516f8",
   "metadata": {},
   "outputs": [
    {
     "data": {
      "text/html": [
       "<div>\n",
       "<style scoped>\n",
       "    .dataframe tbody tr th:only-of-type {\n",
       "        vertical-align: middle;\n",
       "    }\n",
       "\n",
       "    .dataframe tbody tr th {\n",
       "        vertical-align: top;\n",
       "    }\n",
       "\n",
       "    .dataframe thead th {\n",
       "        text-align: right;\n",
       "    }\n",
       "</style>\n",
       "<table border=\"1\" class=\"dataframe\">\n",
       "  <thead>\n",
       "    <tr style=\"text-align: right;\">\n",
       "      <th></th>\n",
       "      <th>From_To</th>\n",
       "      <th>FlightNumber</th>\n",
       "      <th>RecentDelays</th>\n",
       "      <th>Airline</th>\n",
       "    </tr>\n",
       "  </thead>\n",
       "  <tbody>\n",
       "    <tr>\n",
       "      <th>0</th>\n",
       "      <td>LoNDon_paris</td>\n",
       "      <td>10045.0</td>\n",
       "      <td>[23, 47]</td>\n",
       "      <td>KLM(!)</td>\n",
       "    </tr>\n",
       "    <tr>\n",
       "      <th>1</th>\n",
       "      <td>MAdrid_miLAN</td>\n",
       "      <td>NaN</td>\n",
       "      <td>[]</td>\n",
       "      <td>&lt;Air France&gt; (12)</td>\n",
       "    </tr>\n",
       "    <tr>\n",
       "      <th>2</th>\n",
       "      <td>londON_StockhOlm</td>\n",
       "      <td>10065.0</td>\n",
       "      <td>[24, 43, 87]</td>\n",
       "      <td>(British Airways. )</td>\n",
       "    </tr>\n",
       "    <tr>\n",
       "      <th>3</th>\n",
       "      <td>Budapest_PaRis</td>\n",
       "      <td>NaN</td>\n",
       "      <td>[13]</td>\n",
       "      <td>12. Air France</td>\n",
       "    </tr>\n",
       "    <tr>\n",
       "      <th>4</th>\n",
       "      <td>Brussels_londOn</td>\n",
       "      <td>10085.0</td>\n",
       "      <td>[67, 32]</td>\n",
       "      <td>\"Swiss Air\"</td>\n",
       "    </tr>\n",
       "  </tbody>\n",
       "</table>\n",
       "</div>"
      ],
      "text/plain": [
       "            From_To  FlightNumber  RecentDelays              Airline\n",
       "0      LoNDon_paris       10045.0      [23, 47]               KLM(!)\n",
       "1      MAdrid_miLAN           NaN            []    <Air France> (12)\n",
       "2  londON_StockhOlm       10065.0  [24, 43, 87]  (British Airways. )\n",
       "3    Budapest_PaRis           NaN          [13]       12. Air France\n",
       "4   Brussels_londOn       10085.0      [67, 32]          \"Swiss Air\""
      ]
     },
     "execution_count": 4,
     "metadata": {},
     "output_type": "execute_result"
    }
   ],
   "source": [
    "initial_df"
   ]
  },
  {
   "cell_type": "code",
   "execution_count": 6,
   "id": "c7f4e695",
   "metadata": {},
   "outputs": [],
   "source": [
    "initial_df['FlightNumber'] = initial_df['FlightNumber'].interpolate()"
   ]
  },
  {
   "cell_type": "code",
   "execution_count": null,
   "id": "14bb7097",
   "metadata": {},
   "outputs": [],
   "source": []
  },
  {
   "cell_type": "markdown",
   "id": "1973eb2c",
   "metadata": {},
   "source": [
    "# Задача № 50"
   ]
  },
  {
   "cell_type": "code",
   "execution_count": 27,
   "id": "7d9f5038",
   "metadata": {},
   "outputs": [],
   "source": [
    "# Разбейте данные из столбца From_To на два столбца From и То. Исходный столбец удалите.\n",
    "\n",
    "initial_df = pd.DataFrame({'From_To': ['LoNDon_paris', 'MAdrid_miLAN', 'londON_StockhOlm', \n",
    "                               'Budapest_PaRis', 'Brussels_londOn'],\n",
    "              'FlightNumber': [10045, np.nan, 10065, np.nan, 10085],\n",
    "              'RecentDelays': [[23, 47], [], [24, 43, 87], [13], [67, 32]],\n",
    "                   'Airline': ['KLM(!)', '<Air France> (12)', '(British Airways. )', \n",
    "                               '12. Air France', '\"Swiss Air\"']})"
   ]
  },
  {
   "cell_type": "code",
   "execution_count": 3,
   "id": "5a7f8482",
   "metadata": {},
   "outputs": [
    {
     "data": {
      "text/html": [
       "<div>\n",
       "<style scoped>\n",
       "    .dataframe tbody tr th:only-of-type {\n",
       "        vertical-align: middle;\n",
       "    }\n",
       "\n",
       "    .dataframe tbody tr th {\n",
       "        vertical-align: top;\n",
       "    }\n",
       "\n",
       "    .dataframe thead th {\n",
       "        text-align: right;\n",
       "    }\n",
       "</style>\n",
       "<table border=\"1\" class=\"dataframe\">\n",
       "  <thead>\n",
       "    <tr style=\"text-align: right;\">\n",
       "      <th></th>\n",
       "      <th>From_To</th>\n",
       "      <th>FlightNumber</th>\n",
       "      <th>RecentDelays</th>\n",
       "      <th>Airline</th>\n",
       "    </tr>\n",
       "  </thead>\n",
       "  <tbody>\n",
       "    <tr>\n",
       "      <th>0</th>\n",
       "      <td>LoNDon_paris</td>\n",
       "      <td>10045.0</td>\n",
       "      <td>[23, 47]</td>\n",
       "      <td>KLM(!)</td>\n",
       "    </tr>\n",
       "    <tr>\n",
       "      <th>1</th>\n",
       "      <td>MAdrid_miLAN</td>\n",
       "      <td>NaN</td>\n",
       "      <td>[]</td>\n",
       "      <td>&lt;Air France&gt; (12)</td>\n",
       "    </tr>\n",
       "    <tr>\n",
       "      <th>2</th>\n",
       "      <td>londON_StockhOlm</td>\n",
       "      <td>10065.0</td>\n",
       "      <td>[24, 43, 87]</td>\n",
       "      <td>(British Airways. )</td>\n",
       "    </tr>\n",
       "    <tr>\n",
       "      <th>3</th>\n",
       "      <td>Budapest_PaRis</td>\n",
       "      <td>NaN</td>\n",
       "      <td>[13]</td>\n",
       "      <td>12. Air France</td>\n",
       "    </tr>\n",
       "    <tr>\n",
       "      <th>4</th>\n",
       "      <td>Brussels_londOn</td>\n",
       "      <td>10085.0</td>\n",
       "      <td>[67, 32]</td>\n",
       "      <td>\"Swiss Air\"</td>\n",
       "    </tr>\n",
       "  </tbody>\n",
       "</table>\n",
       "</div>"
      ],
      "text/plain": [
       "            From_To  FlightNumber  RecentDelays              Airline\n",
       "0      LoNDon_paris       10045.0      [23, 47]               KLM(!)\n",
       "1      MAdrid_miLAN           NaN            []    <Air France> (12)\n",
       "2  londON_StockhOlm       10065.0  [24, 43, 87]  (British Airways. )\n",
       "3    Budapest_PaRis           NaN          [13]       12. Air France\n",
       "4   Brussels_londOn       10085.0      [67, 32]          \"Swiss Air\""
      ]
     },
     "execution_count": 3,
     "metadata": {},
     "output_type": "execute_result"
    }
   ],
   "source": [
    "initial_df"
   ]
  },
  {
   "cell_type": "code",
   "execution_count": 14,
   "id": "054238d5",
   "metadata": {},
   "outputs": [
    {
     "data": {
      "text/plain": [
       "'London'"
      ]
     },
     "execution_count": 14,
     "metadata": {},
     "output_type": "execute_result"
    }
   ],
   "source": [
    "initial_df['From_To'].str.split('_')[0][0].title()"
   ]
  },
  {
   "cell_type": "code",
   "execution_count": 28,
   "id": "ea1a0281",
   "metadata": {},
   "outputs": [
    {
     "data": {
      "text/plain": [
       "0      London\n",
       "1      Madrid\n",
       "2      London\n",
       "3    Budapest\n",
       "4    Brussels\n",
       "Name: From_To, dtype: object"
      ]
     },
     "execution_count": 28,
     "metadata": {},
     "output_type": "execute_result"
    }
   ],
   "source": [
    "initial_df['From_To'].apply(lambda x: x.split('_')[0].title())"
   ]
  },
  {
   "cell_type": "code",
   "execution_count": 29,
   "id": "1488063a",
   "metadata": {},
   "outputs": [
    {
     "data": {
      "text/plain": [
       "0        Paris\n",
       "1        Milan\n",
       "2    Stockholm\n",
       "3        Paris\n",
       "4       London\n",
       "Name: From_To, dtype: object"
      ]
     },
     "execution_count": 29,
     "metadata": {},
     "output_type": "execute_result"
    }
   ],
   "source": [
    "initial_df['From_To'].apply(lambda x: x.split('_')[1].title())"
   ]
  },
  {
   "cell_type": "code",
   "execution_count": 30,
   "id": "9c166158",
   "metadata": {},
   "outputs": [],
   "source": [
    "initial_df['From'] = initial_df['From_To'].apply(lambda x: x.split('_')[0].title())"
   ]
  },
  {
   "cell_type": "code",
   "execution_count": 31,
   "id": "30a1a839",
   "metadata": {},
   "outputs": [],
   "source": [
    "initial_df['To'] = initial_df['From_To'].apply(lambda x: x.split('_')[1].title())"
   ]
  },
  {
   "cell_type": "code",
   "execution_count": 33,
   "id": "b579c270",
   "metadata": {},
   "outputs": [],
   "source": [
    "df = initial_df.drop('From_To', axis = 1)"
   ]
  },
  {
   "cell_type": "code",
   "execution_count": 34,
   "id": "6b4c6d16",
   "metadata": {},
   "outputs": [
    {
     "data": {
      "text/html": [
       "<div>\n",
       "<style scoped>\n",
       "    .dataframe tbody tr th:only-of-type {\n",
       "        vertical-align: middle;\n",
       "    }\n",
       "\n",
       "    .dataframe tbody tr th {\n",
       "        vertical-align: top;\n",
       "    }\n",
       "\n",
       "    .dataframe thead th {\n",
       "        text-align: right;\n",
       "    }\n",
       "</style>\n",
       "<table border=\"1\" class=\"dataframe\">\n",
       "  <thead>\n",
       "    <tr style=\"text-align: right;\">\n",
       "      <th></th>\n",
       "      <th>FlightNumber</th>\n",
       "      <th>RecentDelays</th>\n",
       "      <th>Airline</th>\n",
       "      <th>From</th>\n",
       "      <th>To</th>\n",
       "    </tr>\n",
       "  </thead>\n",
       "  <tbody>\n",
       "    <tr>\n",
       "      <th>0</th>\n",
       "      <td>10045.0</td>\n",
       "      <td>[23, 47]</td>\n",
       "      <td>KLM(!)</td>\n",
       "      <td>London</td>\n",
       "      <td>Paris</td>\n",
       "    </tr>\n",
       "    <tr>\n",
       "      <th>1</th>\n",
       "      <td>NaN</td>\n",
       "      <td>[]</td>\n",
       "      <td>&lt;Air France&gt; (12)</td>\n",
       "      <td>Madrid</td>\n",
       "      <td>Milan</td>\n",
       "    </tr>\n",
       "    <tr>\n",
       "      <th>2</th>\n",
       "      <td>10065.0</td>\n",
       "      <td>[24, 43, 87]</td>\n",
       "      <td>(British Airways. )</td>\n",
       "      <td>London</td>\n",
       "      <td>Stockholm</td>\n",
       "    </tr>\n",
       "    <tr>\n",
       "      <th>3</th>\n",
       "      <td>NaN</td>\n",
       "      <td>[13]</td>\n",
       "      <td>12. Air France</td>\n",
       "      <td>Budapest</td>\n",
       "      <td>Paris</td>\n",
       "    </tr>\n",
       "    <tr>\n",
       "      <th>4</th>\n",
       "      <td>10085.0</td>\n",
       "      <td>[67, 32]</td>\n",
       "      <td>\"Swiss Air\"</td>\n",
       "      <td>Brussels</td>\n",
       "      <td>London</td>\n",
       "    </tr>\n",
       "  </tbody>\n",
       "</table>\n",
       "</div>"
      ],
      "text/plain": [
       "   FlightNumber  RecentDelays              Airline      From         To\n",
       "0       10045.0      [23, 47]               KLM(!)    London      Paris\n",
       "1           NaN            []    <Air France> (12)    Madrid      Milan\n",
       "2       10065.0  [24, 43, 87]  (British Airways. )    London  Stockholm\n",
       "3           NaN          [13]       12. Air France  Budapest      Paris\n",
       "4       10085.0      [67, 32]          \"Swiss Air\"  Brussels     London"
      ]
     },
     "execution_count": 34,
     "metadata": {},
     "output_type": "execute_result"
    }
   ],
   "source": [
    "df"
   ]
  },
  {
   "cell_type": "code",
   "execution_count": null,
   "id": "49db0253",
   "metadata": {},
   "outputs": [],
   "source": []
  },
  {
   "cell_type": "markdown",
   "id": "ec33ba88",
   "metadata": {},
   "source": [
    "# Задача № 51"
   ]
  },
  {
   "cell_type": "code",
   "execution_count": null,
   "id": "36184d94",
   "metadata": {},
   "outputs": [],
   "source": [
    "# В столбце Airline содержатся наименования авиакомпаний. \n",
    "# Можно заметить, что в названиях присутствуют 'лишние' символы. \n",
    "# Выполните преобразование столбца Airline:"
   ]
  },
  {
   "cell_type": "code",
   "execution_count": 28,
   "id": "a4fdabeb",
   "metadata": {},
   "outputs": [
    {
     "data": {
      "text/html": [
       "<div>\n",
       "<style scoped>\n",
       "    .dataframe tbody tr th:only-of-type {\n",
       "        vertical-align: middle;\n",
       "    }\n",
       "\n",
       "    .dataframe tbody tr th {\n",
       "        vertical-align: top;\n",
       "    }\n",
       "\n",
       "    .dataframe thead th {\n",
       "        text-align: right;\n",
       "    }\n",
       "</style>\n",
       "<table border=\"1\" class=\"dataframe\">\n",
       "  <thead>\n",
       "    <tr style=\"text-align: right;\">\n",
       "      <th></th>\n",
       "      <th>From_To</th>\n",
       "      <th>FlightNumber</th>\n",
       "      <th>RecentDelays</th>\n",
       "      <th>Airline</th>\n",
       "    </tr>\n",
       "  </thead>\n",
       "  <tbody>\n",
       "    <tr>\n",
       "      <th>0</th>\n",
       "      <td>LoNDon_paris</td>\n",
       "      <td>10045.0</td>\n",
       "      <td>[23, 47]</td>\n",
       "      <td>KLM(!)</td>\n",
       "    </tr>\n",
       "    <tr>\n",
       "      <th>1</th>\n",
       "      <td>MAdrid_miLAN</td>\n",
       "      <td>NaN</td>\n",
       "      <td>[]</td>\n",
       "      <td>&lt;Air France&gt; (12)</td>\n",
       "    </tr>\n",
       "    <tr>\n",
       "      <th>2</th>\n",
       "      <td>londON_StockhOlm</td>\n",
       "      <td>10065.0</td>\n",
       "      <td>[24, 43, 87]</td>\n",
       "      <td>(British Airways. )</td>\n",
       "    </tr>\n",
       "    <tr>\n",
       "      <th>3</th>\n",
       "      <td>Budapest_PaRis</td>\n",
       "      <td>NaN</td>\n",
       "      <td>[13]</td>\n",
       "      <td>12. Air France</td>\n",
       "    </tr>\n",
       "    <tr>\n",
       "      <th>4</th>\n",
       "      <td>Brussels_londOn</td>\n",
       "      <td>10085.0</td>\n",
       "      <td>[67, 32]</td>\n",
       "      <td>\"Swiss Air\"</td>\n",
       "    </tr>\n",
       "  </tbody>\n",
       "</table>\n",
       "</div>"
      ],
      "text/plain": [
       "            From_To  FlightNumber  RecentDelays              Airline\n",
       "0      LoNDon_paris       10045.0      [23, 47]               KLM(!)\n",
       "1      MAdrid_miLAN           NaN            []    <Air France> (12)\n",
       "2  londON_StockhOlm       10065.0  [24, 43, 87]  (British Airways. )\n",
       "3    Budapest_PaRis           NaN          [13]       12. Air France\n",
       "4   Brussels_londOn       10085.0      [67, 32]          \"Swiss Air\""
      ]
     },
     "execution_count": 28,
     "metadata": {},
     "output_type": "execute_result"
    }
   ],
   "source": [
    "initial_df"
   ]
  },
  {
   "cell_type": "code",
   "execution_count": 12,
   "id": "3ea810b2",
   "metadata": {},
   "outputs": [
    {
     "data": {
      "text/plain": [
       "'KLM'"
      ]
     },
     "execution_count": 12,
     "metadata": {},
     "output_type": "execute_result"
    }
   ],
   "source": [
    "initial_df['Airline'][0].strip('(!)')"
   ]
  },
  {
   "cell_type": "code",
   "execution_count": 14,
   "id": "db1979a2",
   "metadata": {},
   "outputs": [
    {
     "data": {
      "text/plain": [
       "0                KLM\n",
       "1         Air France\n",
       "2    British Airways\n",
       "3         Air France\n",
       "4          Swiss Air\n",
       "Name: Airline, dtype: object"
      ]
     },
     "execution_count": 14,
     "metadata": {},
     "output_type": "execute_result"
    }
   ],
   "source": [
    "initial_df['Airline'].apply(lambda x: x.strip('\"\".12()! <>'))"
   ]
  },
  {
   "cell_type": "code",
   "execution_count": 15,
   "id": "ff7fbf87",
   "metadata": {},
   "outputs": [],
   "source": [
    "initial_df['Airline'] = initial_df['Airline'].apply(lambda x: x.strip('\"\".12()! <>'))"
   ]
  },
  {
   "cell_type": "code",
   "execution_count": 16,
   "id": "98b136ad",
   "metadata": {},
   "outputs": [
    {
     "data": {
      "text/html": [
       "<div>\n",
       "<style scoped>\n",
       "    .dataframe tbody tr th:only-of-type {\n",
       "        vertical-align: middle;\n",
       "    }\n",
       "\n",
       "    .dataframe tbody tr th {\n",
       "        vertical-align: top;\n",
       "    }\n",
       "\n",
       "    .dataframe thead th {\n",
       "        text-align: right;\n",
       "    }\n",
       "</style>\n",
       "<table border=\"1\" class=\"dataframe\">\n",
       "  <thead>\n",
       "    <tr style=\"text-align: right;\">\n",
       "      <th></th>\n",
       "      <th>From_To</th>\n",
       "      <th>FlightNumber</th>\n",
       "      <th>RecentDelays</th>\n",
       "      <th>Airline</th>\n",
       "    </tr>\n",
       "  </thead>\n",
       "  <tbody>\n",
       "    <tr>\n",
       "      <th>0</th>\n",
       "      <td>LoNDon_paris</td>\n",
       "      <td>10045.0</td>\n",
       "      <td>[23, 47]</td>\n",
       "      <td>KLM</td>\n",
       "    </tr>\n",
       "    <tr>\n",
       "      <th>1</th>\n",
       "      <td>MAdrid_miLAN</td>\n",
       "      <td>NaN</td>\n",
       "      <td>[]</td>\n",
       "      <td>Air France</td>\n",
       "    </tr>\n",
       "    <tr>\n",
       "      <th>2</th>\n",
       "      <td>londON_StockhOlm</td>\n",
       "      <td>10065.0</td>\n",
       "      <td>[24, 43, 87]</td>\n",
       "      <td>British Airways</td>\n",
       "    </tr>\n",
       "    <tr>\n",
       "      <th>3</th>\n",
       "      <td>Budapest_PaRis</td>\n",
       "      <td>NaN</td>\n",
       "      <td>[13]</td>\n",
       "      <td>Air France</td>\n",
       "    </tr>\n",
       "    <tr>\n",
       "      <th>4</th>\n",
       "      <td>Brussels_londOn</td>\n",
       "      <td>10085.0</td>\n",
       "      <td>[67, 32]</td>\n",
       "      <td>Swiss Air</td>\n",
       "    </tr>\n",
       "  </tbody>\n",
       "</table>\n",
       "</div>"
      ],
      "text/plain": [
       "            From_To  FlightNumber  RecentDelays          Airline\n",
       "0      LoNDon_paris       10045.0      [23, 47]              KLM\n",
       "1      MAdrid_miLAN           NaN            []       Air France\n",
       "2  londON_StockhOlm       10065.0  [24, 43, 87]  British Airways\n",
       "3    Budapest_PaRis           NaN          [13]       Air France\n",
       "4   Brussels_londOn       10085.0      [67, 32]        Swiss Air"
      ]
     },
     "execution_count": 16,
     "metadata": {},
     "output_type": "execute_result"
    }
   ],
   "source": [
    "initial_df"
   ]
  },
  {
   "cell_type": "code",
   "execution_count": null,
   "id": "2b941fc1",
   "metadata": {},
   "outputs": [],
   "source": []
  },
  {
   "cell_type": "markdown",
   "id": "cc716471",
   "metadata": {},
   "source": [
    "# Задача № 52"
   ]
  },
  {
   "cell_type": "code",
   "execution_count": 402,
   "id": "9077f760",
   "metadata": {},
   "outputs": [],
   "source": [
    "# Распакуйте данные из RecentDelays по столбцам delay_1 ... delay_n. После распаковки удалите столбец RecentDelays.\n",
    "\n",
    "initial_df = pd.DataFrame({'From_To': ['LoNDon_paris', 'MAdrid_miLAN', 'londON_StockhOlm', \n",
    "                               'Budapest_PaRis', 'Brussels_londOn'],\n",
    "              'FlightNumber': [10045, np.nan, 10065, np.nan, 10085],\n",
    "              'RecentDelays': [[23, 47], [], [24, 43, 87], [13], [67, 32]],\n",
    "                   'Airline': ['KLM(!)', '<Air France> (12)', '(British Airways. )', \n",
    "                               '12. Air France', '\"Swiss Air\"']})"
   ]
  },
  {
   "cell_type": "code",
   "execution_count": 400,
   "id": "13f35d17",
   "metadata": {},
   "outputs": [],
   "source": [
    "\n",
    "for i in range(len(initial_df)):\n",
    "    \n",
    "    col_num = 1\n",
    "    \n",
    "    for j in initial_df['RecentDelays'].iloc[i]:\n",
    "        \n",
    "        col_name = 'delay_' + str(col_num)\n",
    "\n",
    "        initial_df[col_name] = np.nan\n",
    "        initial_df[col_name].astype('float64')\n",
    "        col_num += 1\n",
    "        \n",
    "        "
   ]
  },
  {
   "cell_type": "code",
   "execution_count": 401,
   "id": "c009bdaa",
   "metadata": {},
   "outputs": [
    {
     "data": {
      "text/html": [
       "<div>\n",
       "<style scoped>\n",
       "    .dataframe tbody tr th:only-of-type {\n",
       "        vertical-align: middle;\n",
       "    }\n",
       "\n",
       "    .dataframe tbody tr th {\n",
       "        vertical-align: top;\n",
       "    }\n",
       "\n",
       "    .dataframe thead th {\n",
       "        text-align: right;\n",
       "    }\n",
       "</style>\n",
       "<table border=\"1\" class=\"dataframe\">\n",
       "  <thead>\n",
       "    <tr style=\"text-align: right;\">\n",
       "      <th></th>\n",
       "      <th>From_To</th>\n",
       "      <th>FlightNumber</th>\n",
       "      <th>RecentDelays</th>\n",
       "      <th>Airline</th>\n",
       "      <th>delay_1</th>\n",
       "      <th>delay_2</th>\n",
       "      <th>delay_3</th>\n",
       "    </tr>\n",
       "  </thead>\n",
       "  <tbody>\n",
       "    <tr>\n",
       "      <th>0</th>\n",
       "      <td>LoNDon_paris</td>\n",
       "      <td>10045.0</td>\n",
       "      <td>[23, 47]</td>\n",
       "      <td>KLM(!)</td>\n",
       "      <td>NaN</td>\n",
       "      <td>NaN</td>\n",
       "      <td>NaN</td>\n",
       "    </tr>\n",
       "    <tr>\n",
       "      <th>1</th>\n",
       "      <td>MAdrid_miLAN</td>\n",
       "      <td>NaN</td>\n",
       "      <td>[]</td>\n",
       "      <td>&lt;Air France&gt; (12)</td>\n",
       "      <td>NaN</td>\n",
       "      <td>NaN</td>\n",
       "      <td>NaN</td>\n",
       "    </tr>\n",
       "    <tr>\n",
       "      <th>2</th>\n",
       "      <td>londON_StockhOlm</td>\n",
       "      <td>10065.0</td>\n",
       "      <td>[24, 43, 87]</td>\n",
       "      <td>(British Airways. )</td>\n",
       "      <td>NaN</td>\n",
       "      <td>NaN</td>\n",
       "      <td>NaN</td>\n",
       "    </tr>\n",
       "    <tr>\n",
       "      <th>3</th>\n",
       "      <td>Budapest_PaRis</td>\n",
       "      <td>NaN</td>\n",
       "      <td>[13]</td>\n",
       "      <td>12. Air France</td>\n",
       "      <td>NaN</td>\n",
       "      <td>NaN</td>\n",
       "      <td>NaN</td>\n",
       "    </tr>\n",
       "    <tr>\n",
       "      <th>4</th>\n",
       "      <td>Brussels_londOn</td>\n",
       "      <td>10085.0</td>\n",
       "      <td>[67, 32]</td>\n",
       "      <td>\"Swiss Air\"</td>\n",
       "      <td>NaN</td>\n",
       "      <td>NaN</td>\n",
       "      <td>NaN</td>\n",
       "    </tr>\n",
       "  </tbody>\n",
       "</table>\n",
       "</div>"
      ],
      "text/plain": [
       "            From_To  FlightNumber  RecentDelays              Airline  delay_1  \\\n",
       "0      LoNDon_paris       10045.0      [23, 47]               KLM(!)      NaN   \n",
       "1      MAdrid_miLAN           NaN            []    <Air France> (12)      NaN   \n",
       "2  londON_StockhOlm       10065.0  [24, 43, 87]  (British Airways. )      NaN   \n",
       "3    Budapest_PaRis           NaN          [13]       12. Air France      NaN   \n",
       "4   Brussels_londOn       10085.0      [67, 32]          \"Swiss Air\"      NaN   \n",
       "\n",
       "   delay_2  delay_3  \n",
       "0      NaN      NaN  \n",
       "1      NaN      NaN  \n",
       "2      NaN      NaN  \n",
       "3      NaN      NaN  \n",
       "4      NaN      NaN  "
      ]
     },
     "execution_count": 401,
     "metadata": {},
     "output_type": "execute_result"
    }
   ],
   "source": [
    "initial_df.apply(pd.Series)"
   ]
  },
  {
   "cell_type": "code",
   "execution_count": null,
   "id": "d3559cbd",
   "metadata": {},
   "outputs": [],
   "source": []
  },
  {
   "cell_type": "code",
   "execution_count": null,
   "id": "d42d2b05",
   "metadata": {},
   "outputs": [],
   "source": []
  },
  {
   "cell_type": "code",
   "execution_count": 377,
   "id": "2dd3d39d",
   "metadata": {},
   "outputs": [],
   "source": [
    "df = initial_df.copy()"
   ]
  },
  {
   "cell_type": "code",
   "execution_count": 378,
   "id": "a107fc8b",
   "metadata": {},
   "outputs": [],
   "source": [
    "for i in range(len(initial_df)):\n",
    "    \n",
    "    col_num = 1\n",
    "    \n",
    "    for j in initial_df['RecentDelays'].iloc[i]:\n",
    "        \n",
    "        col_name = 'delay_' + str(col_num)\n",
    "        \n",
    "        \n",
    "        initial_df[col_name] = j                \n",
    "        \n",
    "        \n",
    "        df.iloc[i] = initial_df.iloc[i].copy()        \n",
    "\n",
    "        col_num += 1\n",
    "        \n",
    "    initial_df[initial_df.columns[4:]] = np.nan     \n",
    "        \n"
   ]
  },
  {
   "cell_type": "code",
   "execution_count": 379,
   "id": "7552037d",
   "metadata": {},
   "outputs": [
    {
     "data": {
      "text/html": [
       "<div>\n",
       "<style scoped>\n",
       "    .dataframe tbody tr th:only-of-type {\n",
       "        vertical-align: middle;\n",
       "    }\n",
       "\n",
       "    .dataframe tbody tr th {\n",
       "        vertical-align: top;\n",
       "    }\n",
       "\n",
       "    .dataframe thead th {\n",
       "        text-align: right;\n",
       "    }\n",
       "</style>\n",
       "<table border=\"1\" class=\"dataframe\">\n",
       "  <thead>\n",
       "    <tr style=\"text-align: right;\">\n",
       "      <th></th>\n",
       "      <th>From_To</th>\n",
       "      <th>FlightNumber</th>\n",
       "      <th>RecentDelays</th>\n",
       "      <th>Airline</th>\n",
       "      <th>delay_1</th>\n",
       "      <th>delay_2</th>\n",
       "      <th>delay_3</th>\n",
       "    </tr>\n",
       "  </thead>\n",
       "  <tbody>\n",
       "    <tr>\n",
       "      <th>0</th>\n",
       "      <td>LoNDon_paris</td>\n",
       "      <td>10045.0</td>\n",
       "      <td>[23, 47]</td>\n",
       "      <td>KLM(!)</td>\n",
       "      <td>23.0</td>\n",
       "      <td>47.0</td>\n",
       "      <td>NaN</td>\n",
       "    </tr>\n",
       "    <tr>\n",
       "      <th>1</th>\n",
       "      <td>MAdrid_miLAN</td>\n",
       "      <td>NaN</td>\n",
       "      <td>[]</td>\n",
       "      <td>&lt;Air France&gt; (12)</td>\n",
       "      <td>NaN</td>\n",
       "      <td>NaN</td>\n",
       "      <td>NaN</td>\n",
       "    </tr>\n",
       "    <tr>\n",
       "      <th>2</th>\n",
       "      <td>londON_StockhOlm</td>\n",
       "      <td>10065.0</td>\n",
       "      <td>[24, 43, 87]</td>\n",
       "      <td>(British Airways. )</td>\n",
       "      <td>24.0</td>\n",
       "      <td>43.0</td>\n",
       "      <td>87.0</td>\n",
       "    </tr>\n",
       "    <tr>\n",
       "      <th>3</th>\n",
       "      <td>Budapest_PaRis</td>\n",
       "      <td>NaN</td>\n",
       "      <td>[13]</td>\n",
       "      <td>12. Air France</td>\n",
       "      <td>13.0</td>\n",
       "      <td>NaN</td>\n",
       "      <td>NaN</td>\n",
       "    </tr>\n",
       "    <tr>\n",
       "      <th>4</th>\n",
       "      <td>Brussels_londOn</td>\n",
       "      <td>10085.0</td>\n",
       "      <td>[67, 32]</td>\n",
       "      <td>\"Swiss Air\"</td>\n",
       "      <td>67.0</td>\n",
       "      <td>32.0</td>\n",
       "      <td>NaN</td>\n",
       "    </tr>\n",
       "  </tbody>\n",
       "</table>\n",
       "</div>"
      ],
      "text/plain": [
       "            From_To  FlightNumber  RecentDelays              Airline  delay_1  \\\n",
       "0      LoNDon_paris       10045.0      [23, 47]               KLM(!)     23.0   \n",
       "1      MAdrid_miLAN           NaN            []    <Air France> (12)      NaN   \n",
       "2  londON_StockhOlm       10065.0  [24, 43, 87]  (British Airways. )     24.0   \n",
       "3    Budapest_PaRis           NaN          [13]       12. Air France     13.0   \n",
       "4   Brussels_londOn       10085.0      [67, 32]          \"Swiss Air\"     67.0   \n",
       "\n",
       "   delay_2  delay_3  \n",
       "0     47.0      NaN  \n",
       "1      NaN      NaN  \n",
       "2     43.0     87.0  \n",
       "3      NaN      NaN  \n",
       "4     32.0      NaN  "
      ]
     },
     "execution_count": 379,
     "metadata": {},
     "output_type": "execute_result"
    }
   ],
   "source": [
    "df"
   ]
  },
  {
   "cell_type": "code",
   "execution_count": 380,
   "id": "5ca1b8ec",
   "metadata": {},
   "outputs": [],
   "source": [
    "df = df.drop('RecentDelays', axis = 1)"
   ]
  },
  {
   "cell_type": "code",
   "execution_count": 381,
   "id": "a21a4ffb",
   "metadata": {},
   "outputs": [
    {
     "name": "stdout",
     "output_type": "stream",
     "text": [
      "<class 'pandas.core.frame.DataFrame'>\n",
      "RangeIndex: 5 entries, 0 to 4\n",
      "Data columns (total 6 columns):\n",
      " #   Column        Non-Null Count  Dtype  \n",
      "---  ------        --------------  -----  \n",
      " 0   From_To       5 non-null      object \n",
      " 1   FlightNumber  3 non-null      float64\n",
      " 2   Airline       5 non-null      object \n",
      " 3   delay_1       4 non-null      float64\n",
      " 4   delay_2       3 non-null      float64\n",
      " 5   delay_3       1 non-null      float64\n",
      "dtypes: float64(4), object(2)\n",
      "memory usage: 368.0+ bytes\n"
     ]
    }
   ],
   "source": [
    "df.info()"
   ]
  },
  {
   "cell_type": "code",
   "execution_count": 382,
   "id": "3a47ddd4",
   "metadata": {},
   "outputs": [
    {
     "name": "stdout",
     "output_type": "stream",
     "text": [
      "<class 'pandas.core.frame.DataFrame'>\n",
      "RangeIndex: 5 entries, 0 to 4\n",
      "Data columns (total 7 columns):\n",
      " #   Column        Non-Null Count  Dtype  \n",
      "---  ------        --------------  -----  \n",
      " 0   From_To       5 non-null      object \n",
      " 1   FlightNumber  3 non-null      float64\n",
      " 2   RecentDelays  5 non-null      object \n",
      " 3   Airline       5 non-null      object \n",
      " 4   delay_1       0 non-null      float64\n",
      " 5   delay_2       0 non-null      float64\n",
      " 6   delay_3       0 non-null      float64\n",
      "dtypes: float64(4), object(3)\n",
      "memory usage: 408.0+ bytes\n"
     ]
    }
   ],
   "source": [
    "initial_df.info()"
   ]
  },
  {
   "cell_type": "code",
   "execution_count": null,
   "id": "b2eef756",
   "metadata": {},
   "outputs": [],
   "source": []
  },
  {
   "cell_type": "code",
   "execution_count": 403,
   "id": "17043fe3",
   "metadata": {},
   "outputs": [],
   "source": [
    "import pandas as pd\n",
    "import numpy as np\n",
    "\n",
    "def solution(df):\n",
    "    for i in range(len(initial_df)):\n",
    "    \n",
    "        col_num = 1\n",
    "    \n",
    "        for j in initial_df['RecentDelays'].iloc[i]:\n",
    "        \n",
    "            col_name = 'delay_' + str(col_num)\n",
    "\n",
    "            initial_df[col_name] = np.nan\n",
    "        \n",
    "            col_num += 1\n",
    "        \n",
    "        \n",
    "        \n",
    "        \n",
    "    df = initial_df.copy()\n",
    "    \n",
    "    \n",
    "    \n",
    "    \n",
    "    \n",
    "    for i in range(len(initial_df)):\n",
    "    \n",
    "        col_num = 1\n",
    "    \n",
    "        for j in initial_df['RecentDelays'].iloc[i]:\n",
    "        \n",
    "            col_name = 'delay_' + str(col_num)\n",
    "        \n",
    "        \n",
    "            initial_df[col_name] = j                \n",
    "        \n",
    "        \n",
    "            df.iloc[i] = initial_df.iloc[i].copy()        \n",
    "\n",
    "            col_num += 1\n",
    "        \n",
    "        initial_df[initial_df.columns[4:]] = np.nan\n",
    "    \n",
    "    df = df.drop('RecentDelays', axis = 1)\n",
    "    \n",
    "    return df"
   ]
  },
  {
   "cell_type": "code",
   "execution_count": 405,
   "id": "ea25b852",
   "metadata": {},
   "outputs": [
    {
     "data": {
      "text/html": [
       "<div>\n",
       "<style scoped>\n",
       "    .dataframe tbody tr th:only-of-type {\n",
       "        vertical-align: middle;\n",
       "    }\n",
       "\n",
       "    .dataframe tbody tr th {\n",
       "        vertical-align: top;\n",
       "    }\n",
       "\n",
       "    .dataframe thead th {\n",
       "        text-align: right;\n",
       "    }\n",
       "</style>\n",
       "<table border=\"1\" class=\"dataframe\">\n",
       "  <thead>\n",
       "    <tr style=\"text-align: right;\">\n",
       "      <th></th>\n",
       "      <th>From_To</th>\n",
       "      <th>FlightNumber</th>\n",
       "      <th>Airline</th>\n",
       "      <th>delay_1</th>\n",
       "      <th>delay_2</th>\n",
       "      <th>delay_3</th>\n",
       "    </tr>\n",
       "  </thead>\n",
       "  <tbody>\n",
       "    <tr>\n",
       "      <th>0</th>\n",
       "      <td>LoNDon_paris</td>\n",
       "      <td>10045.0</td>\n",
       "      <td>KLM(!)</td>\n",
       "      <td>23.0</td>\n",
       "      <td>47.0</td>\n",
       "      <td>NaN</td>\n",
       "    </tr>\n",
       "    <tr>\n",
       "      <th>1</th>\n",
       "      <td>MAdrid_miLAN</td>\n",
       "      <td>NaN</td>\n",
       "      <td>&lt;Air France&gt; (12)</td>\n",
       "      <td>NaN</td>\n",
       "      <td>NaN</td>\n",
       "      <td>NaN</td>\n",
       "    </tr>\n",
       "    <tr>\n",
       "      <th>2</th>\n",
       "      <td>londON_StockhOlm</td>\n",
       "      <td>10065.0</td>\n",
       "      <td>(British Airways. )</td>\n",
       "      <td>24.0</td>\n",
       "      <td>43.0</td>\n",
       "      <td>87.0</td>\n",
       "    </tr>\n",
       "    <tr>\n",
       "      <th>3</th>\n",
       "      <td>Budapest_PaRis</td>\n",
       "      <td>NaN</td>\n",
       "      <td>12. Air France</td>\n",
       "      <td>13.0</td>\n",
       "      <td>NaN</td>\n",
       "      <td>NaN</td>\n",
       "    </tr>\n",
       "    <tr>\n",
       "      <th>4</th>\n",
       "      <td>Brussels_londOn</td>\n",
       "      <td>10085.0</td>\n",
       "      <td>\"Swiss Air\"</td>\n",
       "      <td>67.0</td>\n",
       "      <td>32.0</td>\n",
       "      <td>NaN</td>\n",
       "    </tr>\n",
       "  </tbody>\n",
       "</table>\n",
       "</div>"
      ],
      "text/plain": [
       "            From_To  FlightNumber              Airline  delay_1  delay_2  \\\n",
       "0      LoNDon_paris       10045.0               KLM(!)     23.0     47.0   \n",
       "1      MAdrid_miLAN           NaN    <Air France> (12)      NaN      NaN   \n",
       "2  londON_StockhOlm       10065.0  (British Airways. )     24.0     43.0   \n",
       "3    Budapest_PaRis           NaN       12. Air France     13.0      NaN   \n",
       "4   Brussels_londOn       10085.0          \"Swiss Air\"     67.0     32.0   \n",
       "\n",
       "   delay_3  \n",
       "0      NaN  \n",
       "1      NaN  \n",
       "2     87.0  \n",
       "3      NaN  \n",
       "4      NaN  "
      ]
     },
     "execution_count": 405,
     "metadata": {},
     "output_type": "execute_result"
    }
   ],
   "source": [
    "solution(initial_df)"
   ]
  },
  {
   "cell_type": "code",
   "execution_count": null,
   "id": "4bd7be8f",
   "metadata": {},
   "outputs": [],
   "source": []
  },
  {
   "cell_type": "code",
   "execution_count": null,
   "id": "419f8fb1",
   "metadata": {},
   "outputs": [],
   "source": []
  },
  {
   "cell_type": "markdown",
   "id": "a00a2351",
   "metadata": {},
   "source": [
    "# Задача №53"
   ]
  },
  {
   "cell_type": "code",
   "execution_count": 458,
   "id": "6af63066",
   "metadata": {},
   "outputs": [
    {
     "data": {
      "text/html": [
       "<div>\n",
       "<style scoped>\n",
       "    .dataframe tbody tr th:only-of-type {\n",
       "        vertical-align: middle;\n",
       "    }\n",
       "\n",
       "    .dataframe tbody tr th {\n",
       "        vertical-align: top;\n",
       "    }\n",
       "\n",
       "    .dataframe thead th {\n",
       "        text-align: right;\n",
       "    }\n",
       "</style>\n",
       "<table border=\"1\" class=\"dataframe\">\n",
       "  <thead>\n",
       "    <tr style=\"text-align: right;\">\n",
       "      <th></th>\n",
       "      <th>0</th>\n",
       "      <th>1</th>\n",
       "      <th>2</th>\n",
       "      <th>3</th>\n",
       "      <th>4</th>\n",
       "      <th>5</th>\n",
       "      <th>6</th>\n",
       "      <th>7</th>\n",
       "      <th>8</th>\n",
       "      <th>9</th>\n",
       "    </tr>\n",
       "  </thead>\n",
       "  <tbody>\n",
       "    <tr>\n",
       "      <th>0</th>\n",
       "      <td>10</td>\n",
       "      <td>16</td>\n",
       "      <td>65</td>\n",
       "      <td>29</td>\n",
       "      <td>90</td>\n",
       "      <td>94</td>\n",
       "      <td>30</td>\n",
       "      <td>9</td>\n",
       "      <td>74</td>\n",
       "      <td>1</td>\n",
       "    </tr>\n",
       "    <tr>\n",
       "      <th>1</th>\n",
       "      <td>41</td>\n",
       "      <td>37</td>\n",
       "      <td>17</td>\n",
       "      <td>12</td>\n",
       "      <td>55</td>\n",
       "      <td>89</td>\n",
       "      <td>63</td>\n",
       "      <td>34</td>\n",
       "      <td>73</td>\n",
       "      <td>79</td>\n",
       "    </tr>\n",
       "    <tr>\n",
       "      <th>2</th>\n",
       "      <td>50</td>\n",
       "      <td>52</td>\n",
       "      <td>55</td>\n",
       "      <td>78</td>\n",
       "      <td>70</td>\n",
       "      <td>14</td>\n",
       "      <td>26</td>\n",
       "      <td>14</td>\n",
       "      <td>93</td>\n",
       "      <td>87</td>\n",
       "    </tr>\n",
       "    <tr>\n",
       "      <th>3</th>\n",
       "      <td>31</td>\n",
       "      <td>31</td>\n",
       "      <td>90</td>\n",
       "      <td>13</td>\n",
       "      <td>66</td>\n",
       "      <td>32</td>\n",
       "      <td>58</td>\n",
       "      <td>37</td>\n",
       "      <td>28</td>\n",
       "      <td>19</td>\n",
       "    </tr>\n",
       "    <tr>\n",
       "      <th>4</th>\n",
       "      <td>94</td>\n",
       "      <td>78</td>\n",
       "      <td>23</td>\n",
       "      <td>24</td>\n",
       "      <td>95</td>\n",
       "      <td>12</td>\n",
       "      <td>29</td>\n",
       "      <td>75</td>\n",
       "      <td>89</td>\n",
       "      <td>10</td>\n",
       "    </tr>\n",
       "    <tr>\n",
       "      <th>5</th>\n",
       "      <td>16</td>\n",
       "      <td>19</td>\n",
       "      <td>81</td>\n",
       "      <td>72</td>\n",
       "      <td>89</td>\n",
       "      <td>12</td>\n",
       "      <td>18</td>\n",
       "      <td>47</td>\n",
       "      <td>8</td>\n",
       "      <td>76</td>\n",
       "    </tr>\n",
       "    <tr>\n",
       "      <th>6</th>\n",
       "      <td>29</td>\n",
       "      <td>34</td>\n",
       "      <td>85</td>\n",
       "      <td>97</td>\n",
       "      <td>89</td>\n",
       "      <td>45</td>\n",
       "      <td>6</td>\n",
       "      <td>5</td>\n",
       "      <td>72</td>\n",
       "      <td>89</td>\n",
       "    </tr>\n",
       "    <tr>\n",
       "      <th>7</th>\n",
       "      <td>89</td>\n",
       "      <td>51</td>\n",
       "      <td>55</td>\n",
       "      <td>35</td>\n",
       "      <td>16</td>\n",
       "      <td>78</td>\n",
       "      <td>89</td>\n",
       "      <td>16</td>\n",
       "      <td>7</td>\n",
       "      <td>86</td>\n",
       "    </tr>\n",
       "    <tr>\n",
       "      <th>8</th>\n",
       "      <td>23</td>\n",
       "      <td>12</td>\n",
       "      <td>13</td>\n",
       "      <td>93</td>\n",
       "      <td>97</td>\n",
       "      <td>63</td>\n",
       "      <td>58</td>\n",
       "      <td>80</td>\n",
       "      <td>43</td>\n",
       "      <td>58</td>\n",
       "    </tr>\n",
       "    <tr>\n",
       "      <th>9</th>\n",
       "      <td>98</td>\n",
       "      <td>51</td>\n",
       "      <td>46</td>\n",
       "      <td>41</td>\n",
       "      <td>90</td>\n",
       "      <td>74</td>\n",
       "      <td>38</td>\n",
       "      <td>1</td>\n",
       "      <td>19</td>\n",
       "      <td>24</td>\n",
       "    </tr>\n",
       "  </tbody>\n",
       "</table>\n",
       "</div>"
      ],
      "text/plain": [
       "    0   1   2   3   4   5   6   7   8   9\n",
       "0  10  16  65  29  90  94  30   9  74   1\n",
       "1  41  37  17  12  55  89  63  34  73  79\n",
       "2  50  52  55  78  70  14  26  14  93  87\n",
       "3  31  31  90  13  66  32  58  37  28  19\n",
       "4  94  78  23  24  95  12  29  75  89  10\n",
       "5  16  19  81  72  89  12  18  47   8  76\n",
       "6  29  34  85  97  89  45   6   5  72  89\n",
       "7  89  51  55  35  16  78  89  16   7  86\n",
       "8  23  12  13  93  97  63  58  80  43  58\n",
       "9  98  51  46  41  90  74  38   1  19  24"
      ]
     },
     "execution_count": 458,
     "metadata": {},
     "output_type": "execute_result"
    }
   ],
   "source": [
    "\n",
    "# Замените на 0 все значения на диагоналях матрицы:\n",
    "\n",
    "df = pd.DataFrame(np.random.RandomState(10).randint(1,100, 100).reshape(10, -1))\n",
    "df"
   ]
  },
  {
   "cell_type": "code",
   "execution_count": 421,
   "id": "584f7bde",
   "metadata": {},
   "outputs": [
    {
     "data": {
      "text/plain": [
       "array([10, 37, 55, 13, 95, 12,  6, 16, 43, 24])"
      ]
     },
     "execution_count": 421,
     "metadata": {},
     "output_type": "execute_result"
    }
   ],
   "source": [
    "np.diag(df)"
   ]
  },
  {
   "cell_type": "code",
   "execution_count": 420,
   "id": "d3aeecd0",
   "metadata": {},
   "outputs": [
    {
     "data": {
      "text/plain": [
       "array([10, 37, 55, 13, 95, 12,  6, 16, 43, 24])"
      ]
     },
     "execution_count": 420,
     "metadata": {},
     "output_type": "execute_result"
    }
   ],
   "source": [
    "np.diag(np.array(df))"
   ]
  },
  {
   "cell_type": "code",
   "execution_count": 426,
   "id": "7e815ee8",
   "metadata": {},
   "outputs": [
    {
     "data": {
      "text/plain": [
       "16"
      ]
     },
     "execution_count": 426,
     "metadata": {},
     "output_type": "execute_result"
    }
   ],
   "source": [
    "df.loc[0][1]"
   ]
  },
  {
   "cell_type": "code",
   "execution_count": 430,
   "id": "51f30e90",
   "metadata": {},
   "outputs": [],
   "source": [
    "for i in df.columns:\n",
    "    for j in df.index:\n",
    "        if i == j:\n",
    "            df.loc[i][j] = 0\n",
    "            \n",
    "            \n",
    "            "
   ]
  },
  {
   "cell_type": "code",
   "execution_count": 431,
   "id": "dd1d37da",
   "metadata": {},
   "outputs": [
    {
     "data": {
      "text/html": [
       "<div>\n",
       "<style scoped>\n",
       "    .dataframe tbody tr th:only-of-type {\n",
       "        vertical-align: middle;\n",
       "    }\n",
       "\n",
       "    .dataframe tbody tr th {\n",
       "        vertical-align: top;\n",
       "    }\n",
       "\n",
       "    .dataframe thead th {\n",
       "        text-align: right;\n",
       "    }\n",
       "</style>\n",
       "<table border=\"1\" class=\"dataframe\">\n",
       "  <thead>\n",
       "    <tr style=\"text-align: right;\">\n",
       "      <th></th>\n",
       "      <th>0</th>\n",
       "      <th>1</th>\n",
       "      <th>2</th>\n",
       "      <th>3</th>\n",
       "      <th>4</th>\n",
       "      <th>5</th>\n",
       "      <th>6</th>\n",
       "      <th>7</th>\n",
       "      <th>8</th>\n",
       "      <th>9</th>\n",
       "    </tr>\n",
       "  </thead>\n",
       "  <tbody>\n",
       "    <tr>\n",
       "      <th>0</th>\n",
       "      <td>0</td>\n",
       "      <td>16</td>\n",
       "      <td>65</td>\n",
       "      <td>29</td>\n",
       "      <td>90</td>\n",
       "      <td>94</td>\n",
       "      <td>30</td>\n",
       "      <td>9</td>\n",
       "      <td>74</td>\n",
       "      <td>1</td>\n",
       "    </tr>\n",
       "    <tr>\n",
       "      <th>1</th>\n",
       "      <td>41</td>\n",
       "      <td>0</td>\n",
       "      <td>17</td>\n",
       "      <td>12</td>\n",
       "      <td>55</td>\n",
       "      <td>89</td>\n",
       "      <td>63</td>\n",
       "      <td>34</td>\n",
       "      <td>73</td>\n",
       "      <td>79</td>\n",
       "    </tr>\n",
       "    <tr>\n",
       "      <th>2</th>\n",
       "      <td>50</td>\n",
       "      <td>52</td>\n",
       "      <td>0</td>\n",
       "      <td>78</td>\n",
       "      <td>70</td>\n",
       "      <td>14</td>\n",
       "      <td>26</td>\n",
       "      <td>14</td>\n",
       "      <td>93</td>\n",
       "      <td>87</td>\n",
       "    </tr>\n",
       "    <tr>\n",
       "      <th>3</th>\n",
       "      <td>31</td>\n",
       "      <td>31</td>\n",
       "      <td>90</td>\n",
       "      <td>0</td>\n",
       "      <td>66</td>\n",
       "      <td>32</td>\n",
       "      <td>58</td>\n",
       "      <td>37</td>\n",
       "      <td>28</td>\n",
       "      <td>19</td>\n",
       "    </tr>\n",
       "    <tr>\n",
       "      <th>4</th>\n",
       "      <td>94</td>\n",
       "      <td>78</td>\n",
       "      <td>23</td>\n",
       "      <td>24</td>\n",
       "      <td>0</td>\n",
       "      <td>12</td>\n",
       "      <td>29</td>\n",
       "      <td>75</td>\n",
       "      <td>89</td>\n",
       "      <td>10</td>\n",
       "    </tr>\n",
       "    <tr>\n",
       "      <th>5</th>\n",
       "      <td>16</td>\n",
       "      <td>19</td>\n",
       "      <td>81</td>\n",
       "      <td>72</td>\n",
       "      <td>89</td>\n",
       "      <td>0</td>\n",
       "      <td>18</td>\n",
       "      <td>47</td>\n",
       "      <td>8</td>\n",
       "      <td>76</td>\n",
       "    </tr>\n",
       "    <tr>\n",
       "      <th>6</th>\n",
       "      <td>29</td>\n",
       "      <td>34</td>\n",
       "      <td>85</td>\n",
       "      <td>97</td>\n",
       "      <td>89</td>\n",
       "      <td>45</td>\n",
       "      <td>0</td>\n",
       "      <td>5</td>\n",
       "      <td>72</td>\n",
       "      <td>89</td>\n",
       "    </tr>\n",
       "    <tr>\n",
       "      <th>7</th>\n",
       "      <td>89</td>\n",
       "      <td>51</td>\n",
       "      <td>55</td>\n",
       "      <td>35</td>\n",
       "      <td>16</td>\n",
       "      <td>78</td>\n",
       "      <td>89</td>\n",
       "      <td>0</td>\n",
       "      <td>7</td>\n",
       "      <td>86</td>\n",
       "    </tr>\n",
       "    <tr>\n",
       "      <th>8</th>\n",
       "      <td>23</td>\n",
       "      <td>12</td>\n",
       "      <td>13</td>\n",
       "      <td>93</td>\n",
       "      <td>97</td>\n",
       "      <td>63</td>\n",
       "      <td>58</td>\n",
       "      <td>80</td>\n",
       "      <td>0</td>\n",
       "      <td>58</td>\n",
       "    </tr>\n",
       "    <tr>\n",
       "      <th>9</th>\n",
       "      <td>98</td>\n",
       "      <td>51</td>\n",
       "      <td>46</td>\n",
       "      <td>41</td>\n",
       "      <td>90</td>\n",
       "      <td>74</td>\n",
       "      <td>38</td>\n",
       "      <td>1</td>\n",
       "      <td>19</td>\n",
       "      <td>0</td>\n",
       "    </tr>\n",
       "  </tbody>\n",
       "</table>\n",
       "</div>"
      ],
      "text/plain": [
       "    0   1   2   3   4   5   6   7   8   9\n",
       "0   0  16  65  29  90  94  30   9  74   1\n",
       "1  41   0  17  12  55  89  63  34  73  79\n",
       "2  50  52   0  78  70  14  26  14  93  87\n",
       "3  31  31  90   0  66  32  58  37  28  19\n",
       "4  94  78  23  24   0  12  29  75  89  10\n",
       "5  16  19  81  72  89   0  18  47   8  76\n",
       "6  29  34  85  97  89  45   0   5  72  89\n",
       "7  89  51  55  35  16  78  89   0   7  86\n",
       "8  23  12  13  93  97  63  58  80   0  58\n",
       "9  98  51  46  41  90  74  38   1  19   0"
      ]
     },
     "execution_count": 431,
     "metadata": {},
     "output_type": "execute_result"
    }
   ],
   "source": [
    "df"
   ]
  },
  {
   "cell_type": "code",
   "execution_count": 455,
   "id": "978f28b6",
   "metadata": {},
   "outputs": [],
   "source": [
    "a = len(df.columns)-1\n",
    "b = 0\n",
    "\n",
    "while b  < len(df.index):\n",
    "    df.iloc[b][a] = 0\n",
    "    a -= 1\n",
    "    b += 1       \n"
   ]
  },
  {
   "cell_type": "code",
   "execution_count": 456,
   "id": "5a44e9c1",
   "metadata": {},
   "outputs": [
    {
     "data": {
      "text/html": [
       "<div>\n",
       "<style scoped>\n",
       "    .dataframe tbody tr th:only-of-type {\n",
       "        vertical-align: middle;\n",
       "    }\n",
       "\n",
       "    .dataframe tbody tr th {\n",
       "        vertical-align: top;\n",
       "    }\n",
       "\n",
       "    .dataframe thead th {\n",
       "        text-align: right;\n",
       "    }\n",
       "</style>\n",
       "<table border=\"1\" class=\"dataframe\">\n",
       "  <thead>\n",
       "    <tr style=\"text-align: right;\">\n",
       "      <th></th>\n",
       "      <th>0</th>\n",
       "      <th>1</th>\n",
       "      <th>2</th>\n",
       "      <th>3</th>\n",
       "      <th>4</th>\n",
       "      <th>5</th>\n",
       "      <th>6</th>\n",
       "      <th>7</th>\n",
       "      <th>8</th>\n",
       "      <th>9</th>\n",
       "    </tr>\n",
       "  </thead>\n",
       "  <tbody>\n",
       "    <tr>\n",
       "      <th>0</th>\n",
       "      <td>0</td>\n",
       "      <td>16</td>\n",
       "      <td>65</td>\n",
       "      <td>29</td>\n",
       "      <td>90</td>\n",
       "      <td>94</td>\n",
       "      <td>30</td>\n",
       "      <td>9</td>\n",
       "      <td>74</td>\n",
       "      <td>0</td>\n",
       "    </tr>\n",
       "    <tr>\n",
       "      <th>1</th>\n",
       "      <td>41</td>\n",
       "      <td>0</td>\n",
       "      <td>17</td>\n",
       "      <td>12</td>\n",
       "      <td>55</td>\n",
       "      <td>89</td>\n",
       "      <td>63</td>\n",
       "      <td>34</td>\n",
       "      <td>0</td>\n",
       "      <td>79</td>\n",
       "    </tr>\n",
       "    <tr>\n",
       "      <th>2</th>\n",
       "      <td>50</td>\n",
       "      <td>52</td>\n",
       "      <td>0</td>\n",
       "      <td>78</td>\n",
       "      <td>70</td>\n",
       "      <td>14</td>\n",
       "      <td>26</td>\n",
       "      <td>0</td>\n",
       "      <td>93</td>\n",
       "      <td>87</td>\n",
       "    </tr>\n",
       "    <tr>\n",
       "      <th>3</th>\n",
       "      <td>31</td>\n",
       "      <td>31</td>\n",
       "      <td>90</td>\n",
       "      <td>0</td>\n",
       "      <td>66</td>\n",
       "      <td>32</td>\n",
       "      <td>0</td>\n",
       "      <td>37</td>\n",
       "      <td>28</td>\n",
       "      <td>19</td>\n",
       "    </tr>\n",
       "    <tr>\n",
       "      <th>4</th>\n",
       "      <td>94</td>\n",
       "      <td>78</td>\n",
       "      <td>23</td>\n",
       "      <td>24</td>\n",
       "      <td>0</td>\n",
       "      <td>0</td>\n",
       "      <td>29</td>\n",
       "      <td>75</td>\n",
       "      <td>89</td>\n",
       "      <td>10</td>\n",
       "    </tr>\n",
       "    <tr>\n",
       "      <th>5</th>\n",
       "      <td>16</td>\n",
       "      <td>19</td>\n",
       "      <td>81</td>\n",
       "      <td>72</td>\n",
       "      <td>0</td>\n",
       "      <td>0</td>\n",
       "      <td>18</td>\n",
       "      <td>47</td>\n",
       "      <td>8</td>\n",
       "      <td>76</td>\n",
       "    </tr>\n",
       "    <tr>\n",
       "      <th>6</th>\n",
       "      <td>29</td>\n",
       "      <td>34</td>\n",
       "      <td>85</td>\n",
       "      <td>0</td>\n",
       "      <td>89</td>\n",
       "      <td>45</td>\n",
       "      <td>0</td>\n",
       "      <td>5</td>\n",
       "      <td>72</td>\n",
       "      <td>89</td>\n",
       "    </tr>\n",
       "    <tr>\n",
       "      <th>7</th>\n",
       "      <td>89</td>\n",
       "      <td>51</td>\n",
       "      <td>0</td>\n",
       "      <td>35</td>\n",
       "      <td>16</td>\n",
       "      <td>78</td>\n",
       "      <td>89</td>\n",
       "      <td>0</td>\n",
       "      <td>7</td>\n",
       "      <td>86</td>\n",
       "    </tr>\n",
       "    <tr>\n",
       "      <th>8</th>\n",
       "      <td>23</td>\n",
       "      <td>0</td>\n",
       "      <td>13</td>\n",
       "      <td>93</td>\n",
       "      <td>97</td>\n",
       "      <td>63</td>\n",
       "      <td>58</td>\n",
       "      <td>80</td>\n",
       "      <td>0</td>\n",
       "      <td>58</td>\n",
       "    </tr>\n",
       "    <tr>\n",
       "      <th>9</th>\n",
       "      <td>0</td>\n",
       "      <td>51</td>\n",
       "      <td>46</td>\n",
       "      <td>41</td>\n",
       "      <td>90</td>\n",
       "      <td>74</td>\n",
       "      <td>38</td>\n",
       "      <td>1</td>\n",
       "      <td>19</td>\n",
       "      <td>0</td>\n",
       "    </tr>\n",
       "  </tbody>\n",
       "</table>\n",
       "</div>"
      ],
      "text/plain": [
       "    0   1   2   3   4   5   6   7   8   9\n",
       "0   0  16  65  29  90  94  30   9  74   0\n",
       "1  41   0  17  12  55  89  63  34   0  79\n",
       "2  50  52   0  78  70  14  26   0  93  87\n",
       "3  31  31  90   0  66  32   0  37  28  19\n",
       "4  94  78  23  24   0   0  29  75  89  10\n",
       "5  16  19  81  72   0   0  18  47   8  76\n",
       "6  29  34  85   0  89  45   0   5  72  89\n",
       "7  89  51   0  35  16  78  89   0   7  86\n",
       "8  23   0  13  93  97  63  58  80   0  58\n",
       "9   0  51  46  41  90  74  38   1  19   0"
      ]
     },
     "execution_count": 456,
     "metadata": {},
     "output_type": "execute_result"
    }
   ],
   "source": [
    "df"
   ]
  },
  {
   "cell_type": "code",
   "execution_count": null,
   "id": "249dc74f",
   "metadata": {},
   "outputs": [],
   "source": []
  },
  {
   "cell_type": "code",
   "execution_count": null,
   "id": "2a2e7d07",
   "metadata": {},
   "outputs": [],
   "source": [
    "# Внимание правильный ответ по диагоналям:\n",
    "    \n",
    "\n",
    "np.fill_diagonal(df.values, 0)\n",
    "np.fill_diagonal(df.values[::-1], 0)\n",
    "\n",
    "еще:\n",
    "numpy.fill_diagonal устанавливает значения главной диагонали,\n",
    "np.fliplr разворачивает матрицу зеркально"
   ]
  },
  {
   "cell_type": "code",
   "execution_count": 460,
   "id": "a85811e3",
   "metadata": {},
   "outputs": [],
   "source": [
    "np.fill_diagonal(df.values, 0)"
   ]
  },
  {
   "cell_type": "code",
   "execution_count": 461,
   "id": "b65ce169",
   "metadata": {},
   "outputs": [
    {
     "data": {
      "text/html": [
       "<div>\n",
       "<style scoped>\n",
       "    .dataframe tbody tr th:only-of-type {\n",
       "        vertical-align: middle;\n",
       "    }\n",
       "\n",
       "    .dataframe tbody tr th {\n",
       "        vertical-align: top;\n",
       "    }\n",
       "\n",
       "    .dataframe thead th {\n",
       "        text-align: right;\n",
       "    }\n",
       "</style>\n",
       "<table border=\"1\" class=\"dataframe\">\n",
       "  <thead>\n",
       "    <tr style=\"text-align: right;\">\n",
       "      <th></th>\n",
       "      <th>0</th>\n",
       "      <th>1</th>\n",
       "      <th>2</th>\n",
       "      <th>3</th>\n",
       "      <th>4</th>\n",
       "      <th>5</th>\n",
       "      <th>6</th>\n",
       "      <th>7</th>\n",
       "      <th>8</th>\n",
       "      <th>9</th>\n",
       "    </tr>\n",
       "  </thead>\n",
       "  <tbody>\n",
       "    <tr>\n",
       "      <th>0</th>\n",
       "      <td>0</td>\n",
       "      <td>16</td>\n",
       "      <td>65</td>\n",
       "      <td>29</td>\n",
       "      <td>90</td>\n",
       "      <td>94</td>\n",
       "      <td>30</td>\n",
       "      <td>9</td>\n",
       "      <td>74</td>\n",
       "      <td>1</td>\n",
       "    </tr>\n",
       "    <tr>\n",
       "      <th>1</th>\n",
       "      <td>41</td>\n",
       "      <td>0</td>\n",
       "      <td>17</td>\n",
       "      <td>12</td>\n",
       "      <td>55</td>\n",
       "      <td>89</td>\n",
       "      <td>63</td>\n",
       "      <td>34</td>\n",
       "      <td>73</td>\n",
       "      <td>79</td>\n",
       "    </tr>\n",
       "    <tr>\n",
       "      <th>2</th>\n",
       "      <td>50</td>\n",
       "      <td>52</td>\n",
       "      <td>0</td>\n",
       "      <td>78</td>\n",
       "      <td>70</td>\n",
       "      <td>14</td>\n",
       "      <td>26</td>\n",
       "      <td>14</td>\n",
       "      <td>93</td>\n",
       "      <td>87</td>\n",
       "    </tr>\n",
       "    <tr>\n",
       "      <th>3</th>\n",
       "      <td>31</td>\n",
       "      <td>31</td>\n",
       "      <td>90</td>\n",
       "      <td>0</td>\n",
       "      <td>66</td>\n",
       "      <td>32</td>\n",
       "      <td>58</td>\n",
       "      <td>37</td>\n",
       "      <td>28</td>\n",
       "      <td>19</td>\n",
       "    </tr>\n",
       "    <tr>\n",
       "      <th>4</th>\n",
       "      <td>94</td>\n",
       "      <td>78</td>\n",
       "      <td>23</td>\n",
       "      <td>24</td>\n",
       "      <td>0</td>\n",
       "      <td>12</td>\n",
       "      <td>29</td>\n",
       "      <td>75</td>\n",
       "      <td>89</td>\n",
       "      <td>10</td>\n",
       "    </tr>\n",
       "    <tr>\n",
       "      <th>5</th>\n",
       "      <td>16</td>\n",
       "      <td>19</td>\n",
       "      <td>81</td>\n",
       "      <td>72</td>\n",
       "      <td>89</td>\n",
       "      <td>0</td>\n",
       "      <td>18</td>\n",
       "      <td>47</td>\n",
       "      <td>8</td>\n",
       "      <td>76</td>\n",
       "    </tr>\n",
       "    <tr>\n",
       "      <th>6</th>\n",
       "      <td>29</td>\n",
       "      <td>34</td>\n",
       "      <td>85</td>\n",
       "      <td>97</td>\n",
       "      <td>89</td>\n",
       "      <td>45</td>\n",
       "      <td>0</td>\n",
       "      <td>5</td>\n",
       "      <td>72</td>\n",
       "      <td>89</td>\n",
       "    </tr>\n",
       "    <tr>\n",
       "      <th>7</th>\n",
       "      <td>89</td>\n",
       "      <td>51</td>\n",
       "      <td>55</td>\n",
       "      <td>35</td>\n",
       "      <td>16</td>\n",
       "      <td>78</td>\n",
       "      <td>89</td>\n",
       "      <td>0</td>\n",
       "      <td>7</td>\n",
       "      <td>86</td>\n",
       "    </tr>\n",
       "    <tr>\n",
       "      <th>8</th>\n",
       "      <td>23</td>\n",
       "      <td>12</td>\n",
       "      <td>13</td>\n",
       "      <td>93</td>\n",
       "      <td>97</td>\n",
       "      <td>63</td>\n",
       "      <td>58</td>\n",
       "      <td>80</td>\n",
       "      <td>0</td>\n",
       "      <td>58</td>\n",
       "    </tr>\n",
       "    <tr>\n",
       "      <th>9</th>\n",
       "      <td>98</td>\n",
       "      <td>51</td>\n",
       "      <td>46</td>\n",
       "      <td>41</td>\n",
       "      <td>90</td>\n",
       "      <td>74</td>\n",
       "      <td>38</td>\n",
       "      <td>1</td>\n",
       "      <td>19</td>\n",
       "      <td>0</td>\n",
       "    </tr>\n",
       "  </tbody>\n",
       "</table>\n",
       "</div>"
      ],
      "text/plain": [
       "    0   1   2   3   4   5   6   7   8   9\n",
       "0   0  16  65  29  90  94  30   9  74   1\n",
       "1  41   0  17  12  55  89  63  34  73  79\n",
       "2  50  52   0  78  70  14  26  14  93  87\n",
       "3  31  31  90   0  66  32  58  37  28  19\n",
       "4  94  78  23  24   0  12  29  75  89  10\n",
       "5  16  19  81  72  89   0  18  47   8  76\n",
       "6  29  34  85  97  89  45   0   5  72  89\n",
       "7  89  51  55  35  16  78  89   0   7  86\n",
       "8  23  12  13  93  97  63  58  80   0  58\n",
       "9  98  51  46  41  90  74  38   1  19   0"
      ]
     },
     "execution_count": 461,
     "metadata": {},
     "output_type": "execute_result"
    }
   ],
   "source": [
    "df"
   ]
  },
  {
   "cell_type": "code",
   "execution_count": 462,
   "id": "cff7c533",
   "metadata": {},
   "outputs": [],
   "source": [
    "np.fill_diagonal(np.fliplr(df), 0)"
   ]
  },
  {
   "cell_type": "code",
   "execution_count": 463,
   "id": "ac536cd0",
   "metadata": {},
   "outputs": [
    {
     "data": {
      "text/html": [
       "<div>\n",
       "<style scoped>\n",
       "    .dataframe tbody tr th:only-of-type {\n",
       "        vertical-align: middle;\n",
       "    }\n",
       "\n",
       "    .dataframe tbody tr th {\n",
       "        vertical-align: top;\n",
       "    }\n",
       "\n",
       "    .dataframe thead th {\n",
       "        text-align: right;\n",
       "    }\n",
       "</style>\n",
       "<table border=\"1\" class=\"dataframe\">\n",
       "  <thead>\n",
       "    <tr style=\"text-align: right;\">\n",
       "      <th></th>\n",
       "      <th>0</th>\n",
       "      <th>1</th>\n",
       "      <th>2</th>\n",
       "      <th>3</th>\n",
       "      <th>4</th>\n",
       "      <th>5</th>\n",
       "      <th>6</th>\n",
       "      <th>7</th>\n",
       "      <th>8</th>\n",
       "      <th>9</th>\n",
       "    </tr>\n",
       "  </thead>\n",
       "  <tbody>\n",
       "    <tr>\n",
       "      <th>0</th>\n",
       "      <td>0</td>\n",
       "      <td>16</td>\n",
       "      <td>65</td>\n",
       "      <td>29</td>\n",
       "      <td>90</td>\n",
       "      <td>94</td>\n",
       "      <td>30</td>\n",
       "      <td>9</td>\n",
       "      <td>74</td>\n",
       "      <td>0</td>\n",
       "    </tr>\n",
       "    <tr>\n",
       "      <th>1</th>\n",
       "      <td>41</td>\n",
       "      <td>0</td>\n",
       "      <td>17</td>\n",
       "      <td>12</td>\n",
       "      <td>55</td>\n",
       "      <td>89</td>\n",
       "      <td>63</td>\n",
       "      <td>34</td>\n",
       "      <td>0</td>\n",
       "      <td>79</td>\n",
       "    </tr>\n",
       "    <tr>\n",
       "      <th>2</th>\n",
       "      <td>50</td>\n",
       "      <td>52</td>\n",
       "      <td>0</td>\n",
       "      <td>78</td>\n",
       "      <td>70</td>\n",
       "      <td>14</td>\n",
       "      <td>26</td>\n",
       "      <td>0</td>\n",
       "      <td>93</td>\n",
       "      <td>87</td>\n",
       "    </tr>\n",
       "    <tr>\n",
       "      <th>3</th>\n",
       "      <td>31</td>\n",
       "      <td>31</td>\n",
       "      <td>90</td>\n",
       "      <td>0</td>\n",
       "      <td>66</td>\n",
       "      <td>32</td>\n",
       "      <td>0</td>\n",
       "      <td>37</td>\n",
       "      <td>28</td>\n",
       "      <td>19</td>\n",
       "    </tr>\n",
       "    <tr>\n",
       "      <th>4</th>\n",
       "      <td>94</td>\n",
       "      <td>78</td>\n",
       "      <td>23</td>\n",
       "      <td>24</td>\n",
       "      <td>0</td>\n",
       "      <td>0</td>\n",
       "      <td>29</td>\n",
       "      <td>75</td>\n",
       "      <td>89</td>\n",
       "      <td>10</td>\n",
       "    </tr>\n",
       "    <tr>\n",
       "      <th>5</th>\n",
       "      <td>16</td>\n",
       "      <td>19</td>\n",
       "      <td>81</td>\n",
       "      <td>72</td>\n",
       "      <td>0</td>\n",
       "      <td>0</td>\n",
       "      <td>18</td>\n",
       "      <td>47</td>\n",
       "      <td>8</td>\n",
       "      <td>76</td>\n",
       "    </tr>\n",
       "    <tr>\n",
       "      <th>6</th>\n",
       "      <td>29</td>\n",
       "      <td>34</td>\n",
       "      <td>85</td>\n",
       "      <td>0</td>\n",
       "      <td>89</td>\n",
       "      <td>45</td>\n",
       "      <td>0</td>\n",
       "      <td>5</td>\n",
       "      <td>72</td>\n",
       "      <td>89</td>\n",
       "    </tr>\n",
       "    <tr>\n",
       "      <th>7</th>\n",
       "      <td>89</td>\n",
       "      <td>51</td>\n",
       "      <td>0</td>\n",
       "      <td>35</td>\n",
       "      <td>16</td>\n",
       "      <td>78</td>\n",
       "      <td>89</td>\n",
       "      <td>0</td>\n",
       "      <td>7</td>\n",
       "      <td>86</td>\n",
       "    </tr>\n",
       "    <tr>\n",
       "      <th>8</th>\n",
       "      <td>23</td>\n",
       "      <td>0</td>\n",
       "      <td>13</td>\n",
       "      <td>93</td>\n",
       "      <td>97</td>\n",
       "      <td>63</td>\n",
       "      <td>58</td>\n",
       "      <td>80</td>\n",
       "      <td>0</td>\n",
       "      <td>58</td>\n",
       "    </tr>\n",
       "    <tr>\n",
       "      <th>9</th>\n",
       "      <td>0</td>\n",
       "      <td>51</td>\n",
       "      <td>46</td>\n",
       "      <td>41</td>\n",
       "      <td>90</td>\n",
       "      <td>74</td>\n",
       "      <td>38</td>\n",
       "      <td>1</td>\n",
       "      <td>19</td>\n",
       "      <td>0</td>\n",
       "    </tr>\n",
       "  </tbody>\n",
       "</table>\n",
       "</div>"
      ],
      "text/plain": [
       "    0   1   2   3   4   5   6   7   8   9\n",
       "0   0  16  65  29  90  94  30   9  74   0\n",
       "1  41   0  17  12  55  89  63  34   0  79\n",
       "2  50  52   0  78  70  14  26   0  93  87\n",
       "3  31  31  90   0  66  32   0  37  28  19\n",
       "4  94  78  23  24   0   0  29  75  89  10\n",
       "5  16  19  81  72   0   0  18  47   8  76\n",
       "6  29  34  85   0  89  45   0   5  72  89\n",
       "7  89  51   0  35  16  78  89   0   7  86\n",
       "8  23   0  13  93  97  63  58  80   0  58\n",
       "9   0  51  46  41  90  74  38   1  19   0"
      ]
     },
     "execution_count": 463,
     "metadata": {},
     "output_type": "execute_result"
    }
   ],
   "source": [
    "df"
   ]
  },
  {
   "cell_type": "code",
   "execution_count": null,
   "id": "e0a721f7",
   "metadata": {},
   "outputs": [],
   "source": []
  },
  {
   "cell_type": "markdown",
   "id": "e4ebe2a3",
   "metadata": {},
   "source": [
    "# Задача № 54"
   ]
  },
  {
   "cell_type": "code",
   "execution_count": 75,
   "id": "80b486ce",
   "metadata": {},
   "outputs": [],
   "source": [
    "# Создайте два новых столбца, один из которых является lag1 (сдвиг значений столбца А вниз на 1 строку), \n",
    "# а другой — lead1 (сдвиг значений столбца B вверх на 1 строку):\n",
    "    \n",
    "df = pd.DataFrame(np.random.RandomState(10).randint(1, 100, 20).reshape(-1, 4), columns = list('abcd'))"
   ]
  },
  {
   "cell_type": "code",
   "execution_count": 76,
   "id": "b42fca25",
   "metadata": {},
   "outputs": [
    {
     "data": {
      "text/html": [
       "<div>\n",
       "<style scoped>\n",
       "    .dataframe tbody tr th:only-of-type {\n",
       "        vertical-align: middle;\n",
       "    }\n",
       "\n",
       "    .dataframe tbody tr th {\n",
       "        vertical-align: top;\n",
       "    }\n",
       "\n",
       "    .dataframe thead th {\n",
       "        text-align: right;\n",
       "    }\n",
       "</style>\n",
       "<table border=\"1\" class=\"dataframe\">\n",
       "  <thead>\n",
       "    <tr style=\"text-align: right;\">\n",
       "      <th></th>\n",
       "      <th>a</th>\n",
       "      <th>b</th>\n",
       "      <th>c</th>\n",
       "      <th>d</th>\n",
       "    </tr>\n",
       "  </thead>\n",
       "  <tbody>\n",
       "    <tr>\n",
       "      <th>0</th>\n",
       "      <td>10</td>\n",
       "      <td>16</td>\n",
       "      <td>65</td>\n",
       "      <td>29</td>\n",
       "    </tr>\n",
       "    <tr>\n",
       "      <th>1</th>\n",
       "      <td>90</td>\n",
       "      <td>94</td>\n",
       "      <td>30</td>\n",
       "      <td>9</td>\n",
       "    </tr>\n",
       "    <tr>\n",
       "      <th>2</th>\n",
       "      <td>74</td>\n",
       "      <td>1</td>\n",
       "      <td>41</td>\n",
       "      <td>37</td>\n",
       "    </tr>\n",
       "    <tr>\n",
       "      <th>3</th>\n",
       "      <td>17</td>\n",
       "      <td>12</td>\n",
       "      <td>55</td>\n",
       "      <td>89</td>\n",
       "    </tr>\n",
       "    <tr>\n",
       "      <th>4</th>\n",
       "      <td>63</td>\n",
       "      <td>34</td>\n",
       "      <td>73</td>\n",
       "      <td>79</td>\n",
       "    </tr>\n",
       "  </tbody>\n",
       "</table>\n",
       "</div>"
      ],
      "text/plain": [
       "    a   b   c   d\n",
       "0  10  16  65  29\n",
       "1  90  94  30   9\n",
       "2  74   1  41  37\n",
       "3  17  12  55  89\n",
       "4  63  34  73  79"
      ]
     },
     "execution_count": 76,
     "metadata": {},
     "output_type": "execute_result"
    }
   ],
   "source": [
    "df"
   ]
  },
  {
   "cell_type": "code",
   "execution_count": 65,
   "id": "d9404138",
   "metadata": {},
   "outputs": [
    {
     "data": {
      "text/plain": [
       "[10, 90, 74, 17, 63]"
      ]
     },
     "execution_count": 65,
     "metadata": {},
     "output_type": "execute_result"
    }
   ],
   "source": [
    "# list(df.a)"
   ]
  },
  {
   "cell_type": "code",
   "execution_count": 66,
   "id": "84a41f53",
   "metadata": {},
   "outputs": [],
   "source": [
    "# lst = [np.nan]"
   ]
  },
  {
   "cell_type": "code",
   "execution_count": 67,
   "id": "4824b1d4",
   "metadata": {},
   "outputs": [],
   "source": [
    "# lst = lst + (list(df.a)[:-1])"
   ]
  },
  {
   "cell_type": "code",
   "execution_count": 68,
   "id": "fd5289c3",
   "metadata": {},
   "outputs": [
    {
     "data": {
      "text/plain": [
       "[nan, 10, 90, 74, 17]"
      ]
     },
     "execution_count": 68,
     "metadata": {},
     "output_type": "execute_result"
    }
   ],
   "source": [
    "# lst"
   ]
  },
  {
   "cell_type": "code",
   "execution_count": 69,
   "id": "ae9dc946",
   "metadata": {},
   "outputs": [],
   "source": [
    "# lst_b = (list(df.b)[1:]) + [np.nan]"
   ]
  },
  {
   "cell_type": "code",
   "execution_count": 70,
   "id": "59717761",
   "metadata": {},
   "outputs": [
    {
     "data": {
      "text/plain": [
       "[94, 1, 12, 34, nan]"
      ]
     },
     "execution_count": 70,
     "metadata": {},
     "output_type": "execute_result"
    }
   ],
   "source": [
    "# lst_b"
   ]
  },
  {
   "cell_type": "code",
   "execution_count": 72,
   "id": "8010719a",
   "metadata": {},
   "outputs": [],
   "source": [
    "df['a_lag_1'] = [np.nan] + (list(df.a)[:-1])"
   ]
  },
  {
   "cell_type": "code",
   "execution_count": 73,
   "id": "e9993e2a",
   "metadata": {},
   "outputs": [],
   "source": [
    "df['b_lead_1'] = (list(df.b)[1:]) + [np.nan]"
   ]
  },
  {
   "cell_type": "code",
   "execution_count": 74,
   "id": "61135549",
   "metadata": {},
   "outputs": [
    {
     "data": {
      "text/html": [
       "<div>\n",
       "<style scoped>\n",
       "    .dataframe tbody tr th:only-of-type {\n",
       "        vertical-align: middle;\n",
       "    }\n",
       "\n",
       "    .dataframe tbody tr th {\n",
       "        vertical-align: top;\n",
       "    }\n",
       "\n",
       "    .dataframe thead th {\n",
       "        text-align: right;\n",
       "    }\n",
       "</style>\n",
       "<table border=\"1\" class=\"dataframe\">\n",
       "  <thead>\n",
       "    <tr style=\"text-align: right;\">\n",
       "      <th></th>\n",
       "      <th>a</th>\n",
       "      <th>b</th>\n",
       "      <th>c</th>\n",
       "      <th>d</th>\n",
       "      <th>a_lag_1</th>\n",
       "      <th>b_lead_1</th>\n",
       "    </tr>\n",
       "  </thead>\n",
       "  <tbody>\n",
       "    <tr>\n",
       "      <th>0</th>\n",
       "      <td>10</td>\n",
       "      <td>16</td>\n",
       "      <td>65</td>\n",
       "      <td>29</td>\n",
       "      <td>NaN</td>\n",
       "      <td>94.0</td>\n",
       "    </tr>\n",
       "    <tr>\n",
       "      <th>1</th>\n",
       "      <td>90</td>\n",
       "      <td>94</td>\n",
       "      <td>30</td>\n",
       "      <td>9</td>\n",
       "      <td>10.0</td>\n",
       "      <td>1.0</td>\n",
       "    </tr>\n",
       "    <tr>\n",
       "      <th>2</th>\n",
       "      <td>74</td>\n",
       "      <td>1</td>\n",
       "      <td>41</td>\n",
       "      <td>37</td>\n",
       "      <td>90.0</td>\n",
       "      <td>12.0</td>\n",
       "    </tr>\n",
       "    <tr>\n",
       "      <th>3</th>\n",
       "      <td>17</td>\n",
       "      <td>12</td>\n",
       "      <td>55</td>\n",
       "      <td>89</td>\n",
       "      <td>74.0</td>\n",
       "      <td>34.0</td>\n",
       "    </tr>\n",
       "    <tr>\n",
       "      <th>4</th>\n",
       "      <td>63</td>\n",
       "      <td>34</td>\n",
       "      <td>73</td>\n",
       "      <td>79</td>\n",
       "      <td>17.0</td>\n",
       "      <td>NaN</td>\n",
       "    </tr>\n",
       "  </tbody>\n",
       "</table>\n",
       "</div>"
      ],
      "text/plain": [
       "    a   b   c   d  a_lag_1  b_lead_1\n",
       "0  10  16  65  29      NaN      94.0\n",
       "1  90  94  30   9     10.0       1.0\n",
       "2  74   1  41  37     90.0      12.0\n",
       "3  17  12  55  89     74.0      34.0\n",
       "4  63  34  73  79     17.0       NaN"
      ]
     },
     "execution_count": 74,
     "metadata": {},
     "output_type": "execute_result"
    }
   ],
   "source": [
    "df"
   ]
  },
  {
   "cell_type": "code",
   "execution_count": 79,
   "id": "01fb338e",
   "metadata": {},
   "outputs": [
    {
     "data": {
      "text/plain": [
       "0     NaN\n",
       "1    10.0\n",
       "2    90.0\n",
       "3    74.0\n",
       "4    17.0\n",
       "Name: a, dtype: float64"
      ]
     },
     "execution_count": 79,
     "metadata": {},
     "output_type": "execute_result"
    }
   ],
   "source": [
    "# Правильно через shift:\n",
    "\n",
    "df['a'].shift(1)"
   ]
  },
  {
   "cell_type": "code",
   "execution_count": 80,
   "id": "65f231d6",
   "metadata": {},
   "outputs": [
    {
     "data": {
      "text/plain": [
       "0    94.0\n",
       "1     1.0\n",
       "2    12.0\n",
       "3    34.0\n",
       "4     NaN\n",
       "Name: b, dtype: float64"
      ]
     },
     "execution_count": 80,
     "metadata": {},
     "output_type": "execute_result"
    }
   ],
   "source": [
    "df['b'].shift(-1)"
   ]
  },
  {
   "cell_type": "code",
   "execution_count": null,
   "id": "5feffd1d",
   "metadata": {},
   "outputs": [],
   "source": []
  },
  {
   "cell_type": "markdown",
   "id": "6c25f550",
   "metadata": {},
   "source": [
    "# Задача № 55"
   ]
  },
  {
   "cell_type": "code",
   "execution_count": 187,
   "id": "634dae67",
   "metadata": {},
   "outputs": [],
   "source": [
    "# Сложность: 💪💪💪\n",
    "\n",
    "# В исходном датафрейме содержится информация о затратах во время командировок по \n",
    "# каждому месяцу для каждого сотрудника. Выполните преобразование датафрейма:\n",
    "\n",
    "df = pd.DataFrame({'city' : ['Moscow', 'Berlin', 'Paris'], 'agent' : ['Ivan', 'Valter', 'Ali Abu'],  'Jan-2022' : [5000, 3000, 2000], 'Feb-2022' : [3000, 2000, 4000], 'March-2022' : [0, 5000, 7000] })"
   ]
  },
  {
   "cell_type": "code",
   "execution_count": 188,
   "id": "41fc0333",
   "metadata": {},
   "outputs": [
    {
     "data": {
      "text/html": [
       "<div>\n",
       "<style scoped>\n",
       "    .dataframe tbody tr th:only-of-type {\n",
       "        vertical-align: middle;\n",
       "    }\n",
       "\n",
       "    .dataframe tbody tr th {\n",
       "        vertical-align: top;\n",
       "    }\n",
       "\n",
       "    .dataframe thead th {\n",
       "        text-align: right;\n",
       "    }\n",
       "</style>\n",
       "<table border=\"1\" class=\"dataframe\">\n",
       "  <thead>\n",
       "    <tr style=\"text-align: right;\">\n",
       "      <th></th>\n",
       "      <th>city</th>\n",
       "      <th>agent</th>\n",
       "      <th>Jan-2022</th>\n",
       "      <th>Feb-2022</th>\n",
       "      <th>March-2022</th>\n",
       "    </tr>\n",
       "  </thead>\n",
       "  <tbody>\n",
       "    <tr>\n",
       "      <th>0</th>\n",
       "      <td>Moscow</td>\n",
       "      <td>Ivan</td>\n",
       "      <td>5000</td>\n",
       "      <td>3000</td>\n",
       "      <td>0</td>\n",
       "    </tr>\n",
       "    <tr>\n",
       "      <th>1</th>\n",
       "      <td>Berlin</td>\n",
       "      <td>Valter</td>\n",
       "      <td>3000</td>\n",
       "      <td>2000</td>\n",
       "      <td>5000</td>\n",
       "    </tr>\n",
       "    <tr>\n",
       "      <th>2</th>\n",
       "      <td>Paris</td>\n",
       "      <td>Ali Abu</td>\n",
       "      <td>2000</td>\n",
       "      <td>4000</td>\n",
       "      <td>7000</td>\n",
       "    </tr>\n",
       "  </tbody>\n",
       "</table>\n",
       "</div>"
      ],
      "text/plain": [
       "     city    agent  Jan-2022  Feb-2022  March-2022\n",
       "0  Moscow     Ivan      5000      3000           0\n",
       "1  Berlin   Valter      3000      2000        5000\n",
       "2   Paris  Ali Abu      2000      4000        7000"
      ]
     },
     "execution_count": 188,
     "metadata": {},
     "output_type": "execute_result"
    }
   ],
   "source": [
    "df"
   ]
  },
  {
   "cell_type": "code",
   "execution_count": 189,
   "id": "ef8e1526",
   "metadata": {},
   "outputs": [],
   "source": [
    "df = pd.melt(df, id_vars = ['city', 'agent'])"
   ]
  },
  {
   "cell_type": "code",
   "execution_count": 190,
   "id": "ced93c7b",
   "metadata": {},
   "outputs": [],
   "source": [
    "df.columns = ['city', 'agent', 'Date', 'Value']"
   ]
  },
  {
   "cell_type": "code",
   "execution_count": 191,
   "id": "ba5dd26e",
   "metadata": {},
   "outputs": [
    {
     "data": {
      "text/html": [
       "<div>\n",
       "<style scoped>\n",
       "    .dataframe tbody tr th:only-of-type {\n",
       "        vertical-align: middle;\n",
       "    }\n",
       "\n",
       "    .dataframe tbody tr th {\n",
       "        vertical-align: top;\n",
       "    }\n",
       "\n",
       "    .dataframe thead th {\n",
       "        text-align: right;\n",
       "    }\n",
       "</style>\n",
       "<table border=\"1\" class=\"dataframe\">\n",
       "  <thead>\n",
       "    <tr style=\"text-align: right;\">\n",
       "      <th></th>\n",
       "      <th>city</th>\n",
       "      <th>agent</th>\n",
       "      <th>Date</th>\n",
       "      <th>Value</th>\n",
       "    </tr>\n",
       "  </thead>\n",
       "  <tbody>\n",
       "    <tr>\n",
       "      <th>0</th>\n",
       "      <td>Moscow</td>\n",
       "      <td>Ivan</td>\n",
       "      <td>Jan-2022</td>\n",
       "      <td>5000</td>\n",
       "    </tr>\n",
       "    <tr>\n",
       "      <th>1</th>\n",
       "      <td>Berlin</td>\n",
       "      <td>Valter</td>\n",
       "      <td>Jan-2022</td>\n",
       "      <td>3000</td>\n",
       "    </tr>\n",
       "    <tr>\n",
       "      <th>2</th>\n",
       "      <td>Paris</td>\n",
       "      <td>Ali Abu</td>\n",
       "      <td>Jan-2022</td>\n",
       "      <td>2000</td>\n",
       "    </tr>\n",
       "    <tr>\n",
       "      <th>3</th>\n",
       "      <td>Moscow</td>\n",
       "      <td>Ivan</td>\n",
       "      <td>Feb-2022</td>\n",
       "      <td>3000</td>\n",
       "    </tr>\n",
       "    <tr>\n",
       "      <th>4</th>\n",
       "      <td>Berlin</td>\n",
       "      <td>Valter</td>\n",
       "      <td>Feb-2022</td>\n",
       "      <td>2000</td>\n",
       "    </tr>\n",
       "    <tr>\n",
       "      <th>5</th>\n",
       "      <td>Paris</td>\n",
       "      <td>Ali Abu</td>\n",
       "      <td>Feb-2022</td>\n",
       "      <td>4000</td>\n",
       "    </tr>\n",
       "    <tr>\n",
       "      <th>6</th>\n",
       "      <td>Moscow</td>\n",
       "      <td>Ivan</td>\n",
       "      <td>March-2022</td>\n",
       "      <td>0</td>\n",
       "    </tr>\n",
       "    <tr>\n",
       "      <th>7</th>\n",
       "      <td>Berlin</td>\n",
       "      <td>Valter</td>\n",
       "      <td>March-2022</td>\n",
       "      <td>5000</td>\n",
       "    </tr>\n",
       "    <tr>\n",
       "      <th>8</th>\n",
       "      <td>Paris</td>\n",
       "      <td>Ali Abu</td>\n",
       "      <td>March-2022</td>\n",
       "      <td>7000</td>\n",
       "    </tr>\n",
       "  </tbody>\n",
       "</table>\n",
       "</div>"
      ],
      "text/plain": [
       "     city    agent        Date  Value\n",
       "0  Moscow     Ivan    Jan-2022   5000\n",
       "1  Berlin   Valter    Jan-2022   3000\n",
       "2   Paris  Ali Abu    Jan-2022   2000\n",
       "3  Moscow     Ivan    Feb-2022   3000\n",
       "4  Berlin   Valter    Feb-2022   2000\n",
       "5   Paris  Ali Abu    Feb-2022   4000\n",
       "6  Moscow     Ivan  March-2022      0\n",
       "7  Berlin   Valter  March-2022   5000\n",
       "8   Paris  Ali Abu  March-2022   7000"
      ]
     },
     "execution_count": 191,
     "metadata": {},
     "output_type": "execute_result"
    }
   ],
   "source": [
    "df"
   ]
  },
  {
   "cell_type": "code",
   "execution_count": 142,
   "id": "18500a40",
   "metadata": {},
   "outputs": [
    {
     "data": {
      "text/html": [
       "<div>\n",
       "<style scoped>\n",
       "    .dataframe tbody tr th:only-of-type {\n",
       "        vertical-align: middle;\n",
       "    }\n",
       "\n",
       "    .dataframe tbody tr th {\n",
       "        vertical-align: top;\n",
       "    }\n",
       "\n",
       "    .dataframe thead th {\n",
       "        text-align: right;\n",
       "    }\n",
       "</style>\n",
       "<table border=\"1\" class=\"dataframe\">\n",
       "  <thead>\n",
       "    <tr style=\"text-align: right;\">\n",
       "      <th></th>\n",
       "      <th>A</th>\n",
       "      <th>B</th>\n",
       "      <th>C</th>\n",
       "    </tr>\n",
       "  </thead>\n",
       "  <tbody>\n",
       "    <tr>\n",
       "      <th>0</th>\n",
       "      <td>a</td>\n",
       "      <td>1</td>\n",
       "      <td>2</td>\n",
       "    </tr>\n",
       "    <tr>\n",
       "      <th>1</th>\n",
       "      <td>b</td>\n",
       "      <td>3</td>\n",
       "      <td>4</td>\n",
       "    </tr>\n",
       "    <tr>\n",
       "      <th>2</th>\n",
       "      <td>c</td>\n",
       "      <td>5</td>\n",
       "      <td>6</td>\n",
       "    </tr>\n",
       "  </tbody>\n",
       "</table>\n",
       "</div>"
      ],
      "text/plain": [
       "   A  B  C\n",
       "0  a  1  2\n",
       "1  b  3  4\n",
       "2  c  5  6"
      ]
     },
     "execution_count": 142,
     "metadata": {},
     "output_type": "execute_result"
    }
   ],
   "source": [
    "# Something about melt\n",
    "\n",
    "df = pd.DataFrame({'A': {0: 'a', 1: 'b', 2: 'c'},\n",
    "                   'B': {0: 1, 1: 3, 2: 5},\n",
    "                   'C': {0: 2, 1: 4, 2: 6}})\n",
    "df"
   ]
  },
  {
   "cell_type": "code",
   "execution_count": 143,
   "id": "31ac1984",
   "metadata": {},
   "outputs": [
    {
     "data": {
      "text/html": [
       "<div>\n",
       "<style scoped>\n",
       "    .dataframe tbody tr th:only-of-type {\n",
       "        vertical-align: middle;\n",
       "    }\n",
       "\n",
       "    .dataframe tbody tr th {\n",
       "        vertical-align: top;\n",
       "    }\n",
       "\n",
       "    .dataframe thead th {\n",
       "        text-align: right;\n",
       "    }\n",
       "</style>\n",
       "<table border=\"1\" class=\"dataframe\">\n",
       "  <thead>\n",
       "    <tr style=\"text-align: right;\">\n",
       "      <th></th>\n",
       "      <th>A</th>\n",
       "      <th>variable</th>\n",
       "      <th>value</th>\n",
       "    </tr>\n",
       "  </thead>\n",
       "  <tbody>\n",
       "    <tr>\n",
       "      <th>0</th>\n",
       "      <td>a</td>\n",
       "      <td>B</td>\n",
       "      <td>1</td>\n",
       "    </tr>\n",
       "    <tr>\n",
       "      <th>1</th>\n",
       "      <td>b</td>\n",
       "      <td>B</td>\n",
       "      <td>3</td>\n",
       "    </tr>\n",
       "    <tr>\n",
       "      <th>2</th>\n",
       "      <td>c</td>\n",
       "      <td>B</td>\n",
       "      <td>5</td>\n",
       "    </tr>\n",
       "  </tbody>\n",
       "</table>\n",
       "</div>"
      ],
      "text/plain": [
       "   A variable  value\n",
       "0  a        B      1\n",
       "1  b        B      3\n",
       "2  c        B      5"
      ]
     },
     "execution_count": 143,
     "metadata": {},
     "output_type": "execute_result"
    }
   ],
   "source": [
    "pd.melt(df, id_vars=['A'], value_vars=['B'])"
   ]
  },
  {
   "cell_type": "code",
   "execution_count": null,
   "id": "cd53aa41",
   "metadata": {},
   "outputs": [],
   "source": []
  },
  {
   "cell_type": "markdown",
   "id": "7952c3cf",
   "metadata": {},
   "source": [
    "# Задача № 56"
   ]
  },
  {
   "cell_type": "code",
   "execution_count": 374,
   "id": "4878b166",
   "metadata": {},
   "outputs": [
    {
     "data": {
      "text/html": [
       "<div>\n",
       "<style scoped>\n",
       "    .dataframe tbody tr th:only-of-type {\n",
       "        vertical-align: middle;\n",
       "    }\n",
       "\n",
       "    .dataframe tbody tr th {\n",
       "        vertical-align: top;\n",
       "    }\n",
       "\n",
       "    .dataframe thead th {\n",
       "        text-align: right;\n",
       "    }\n",
       "</style>\n",
       "<table border=\"1\" class=\"dataframe\">\n",
       "  <thead>\n",
       "    <tr style=\"text-align: right;\">\n",
       "      <th></th>\n",
       "      <th>index</th>\n",
       "      <th>city</th>\n",
       "      <th>agent</th>\n",
       "      <th>Date</th>\n",
       "      <th>Value</th>\n",
       "    </tr>\n",
       "  </thead>\n",
       "  <tbody>\n",
       "    <tr>\n",
       "      <th>0</th>\n",
       "      <td>0</td>\n",
       "      <td>Moscow</td>\n",
       "      <td>Ivan</td>\n",
       "      <td>Jan-2022</td>\n",
       "      <td>5000</td>\n",
       "    </tr>\n",
       "    <tr>\n",
       "      <th>1</th>\n",
       "      <td>1</td>\n",
       "      <td>Berlin</td>\n",
       "      <td>Valter</td>\n",
       "      <td>Jan-2022</td>\n",
       "      <td>3000</td>\n",
       "    </tr>\n",
       "    <tr>\n",
       "      <th>2</th>\n",
       "      <td>2</td>\n",
       "      <td>Paris</td>\n",
       "      <td>Ali Abu</td>\n",
       "      <td>Jan-2022</td>\n",
       "      <td>2000</td>\n",
       "    </tr>\n",
       "    <tr>\n",
       "      <th>3</th>\n",
       "      <td>3</td>\n",
       "      <td>Moscow</td>\n",
       "      <td>Ivan</td>\n",
       "      <td>Feb-2022</td>\n",
       "      <td>3000</td>\n",
       "    </tr>\n",
       "    <tr>\n",
       "      <th>4</th>\n",
       "      <td>4</td>\n",
       "      <td>Berlin</td>\n",
       "      <td>Valter</td>\n",
       "      <td>Feb-2022</td>\n",
       "      <td>2000</td>\n",
       "    </tr>\n",
       "    <tr>\n",
       "      <th>5</th>\n",
       "      <td>5</td>\n",
       "      <td>Paris</td>\n",
       "      <td>Ali Abu</td>\n",
       "      <td>Feb-2022</td>\n",
       "      <td>4000</td>\n",
       "    </tr>\n",
       "    <tr>\n",
       "      <th>6</th>\n",
       "      <td>6</td>\n",
       "      <td>Moscow</td>\n",
       "      <td>Ivan</td>\n",
       "      <td>March-2022</td>\n",
       "      <td>0</td>\n",
       "    </tr>\n",
       "    <tr>\n",
       "      <th>7</th>\n",
       "      <td>7</td>\n",
       "      <td>Berlin</td>\n",
       "      <td>Valter</td>\n",
       "      <td>March-2022</td>\n",
       "      <td>5000</td>\n",
       "    </tr>\n",
       "    <tr>\n",
       "      <th>8</th>\n",
       "      <td>8</td>\n",
       "      <td>Paris</td>\n",
       "      <td>Ali Abu</td>\n",
       "      <td>March-2022</td>\n",
       "      <td>7000</td>\n",
       "    </tr>\n",
       "  </tbody>\n",
       "</table>\n",
       "</div>"
      ],
      "text/plain": [
       "   index    city    agent        Date  Value\n",
       "0      0  Moscow     Ivan    Jan-2022   5000\n",
       "1      1  Berlin   Valter    Jan-2022   3000\n",
       "2      2   Paris  Ali Abu    Jan-2022   2000\n",
       "3      3  Moscow     Ivan    Feb-2022   3000\n",
       "4      4  Berlin   Valter    Feb-2022   2000\n",
       "5      5   Paris  Ali Abu    Feb-2022   4000\n",
       "6      6  Moscow     Ivan  March-2022      0\n",
       "7      7  Berlin   Valter  March-2022   5000\n",
       "8      8   Paris  Ali Abu  March-2022   7000"
      ]
     },
     "execution_count": 374,
     "metadata": {},
     "output_type": "execute_result"
    }
   ],
   "source": [
    "# Для каждого месяца определите, кто затратил больше всего денег:\n",
    "\n",
    "df = pd.DataFrame({'city' : ['Moscow', 'Berlin', 'Paris'], 'agent' : ['Ivan', 'Valter', 'Ali Abu'],  'Jan-2022' : [5000, 3000, 2000], 'Feb-2022' : [3000, 2000, 4000], 'March-2022' : [0, 5000, 7000] }).melt(id_vars=[\"city\", \"agent\"], var_name=\"Date\", value_name=\"Value\")\n",
    "df = df.reset_index()\n",
    "df"
   ]
  },
  {
   "cell_type": "code",
   "execution_count": 375,
   "id": "d6aa1981",
   "metadata": {},
   "outputs": [],
   "source": [
    "df_1 = df.groupby(['Date'])['Value'].agg('max').to_frame()"
   ]
  },
  {
   "cell_type": "code",
   "execution_count": 376,
   "id": "19b38de6",
   "metadata": {},
   "outputs": [
    {
     "data": {
      "text/html": [
       "<div>\n",
       "<style scoped>\n",
       "    .dataframe tbody tr th:only-of-type {\n",
       "        vertical-align: middle;\n",
       "    }\n",
       "\n",
       "    .dataframe tbody tr th {\n",
       "        vertical-align: top;\n",
       "    }\n",
       "\n",
       "    .dataframe thead th {\n",
       "        text-align: right;\n",
       "    }\n",
       "</style>\n",
       "<table border=\"1\" class=\"dataframe\">\n",
       "  <thead>\n",
       "    <tr style=\"text-align: right;\">\n",
       "      <th></th>\n",
       "      <th>Value</th>\n",
       "    </tr>\n",
       "    <tr>\n",
       "      <th>Date</th>\n",
       "      <th></th>\n",
       "    </tr>\n",
       "  </thead>\n",
       "  <tbody>\n",
       "    <tr>\n",
       "      <th>Feb-2022</th>\n",
       "      <td>4000</td>\n",
       "    </tr>\n",
       "    <tr>\n",
       "      <th>Jan-2022</th>\n",
       "      <td>5000</td>\n",
       "    </tr>\n",
       "    <tr>\n",
       "      <th>March-2022</th>\n",
       "      <td>7000</td>\n",
       "    </tr>\n",
       "  </tbody>\n",
       "</table>\n",
       "</div>"
      ],
      "text/plain": [
       "            Value\n",
       "Date             \n",
       "Feb-2022     4000\n",
       "Jan-2022     5000\n",
       "March-2022   7000"
      ]
     },
     "execution_count": 376,
     "metadata": {},
     "output_type": "execute_result"
    }
   ],
   "source": [
    "df_1"
   ]
  },
  {
   "cell_type": "code",
   "execution_count": 377,
   "id": "fbdf26aa",
   "metadata": {},
   "outputs": [],
   "source": [
    "df_2 = df.merge(df_1, on = ['Date', 'Value'])"
   ]
  },
  {
   "cell_type": "code",
   "execution_count": 378,
   "id": "02577eb6",
   "metadata": {},
   "outputs": [
    {
     "data": {
      "text/html": [
       "<div>\n",
       "<style scoped>\n",
       "    .dataframe tbody tr th:only-of-type {\n",
       "        vertical-align: middle;\n",
       "    }\n",
       "\n",
       "    .dataframe tbody tr th {\n",
       "        vertical-align: top;\n",
       "    }\n",
       "\n",
       "    .dataframe thead th {\n",
       "        text-align: right;\n",
       "    }\n",
       "</style>\n",
       "<table border=\"1\" class=\"dataframe\">\n",
       "  <thead>\n",
       "    <tr style=\"text-align: right;\">\n",
       "      <th></th>\n",
       "      <th>index</th>\n",
       "      <th>city</th>\n",
       "      <th>agent</th>\n",
       "      <th>Date</th>\n",
       "      <th>Value</th>\n",
       "    </tr>\n",
       "  </thead>\n",
       "  <tbody>\n",
       "    <tr>\n",
       "      <th>0</th>\n",
       "      <td>0</td>\n",
       "      <td>Moscow</td>\n",
       "      <td>Ivan</td>\n",
       "      <td>Jan-2022</td>\n",
       "      <td>5000</td>\n",
       "    </tr>\n",
       "    <tr>\n",
       "      <th>1</th>\n",
       "      <td>5</td>\n",
       "      <td>Paris</td>\n",
       "      <td>Ali Abu</td>\n",
       "      <td>Feb-2022</td>\n",
       "      <td>4000</td>\n",
       "    </tr>\n",
       "    <tr>\n",
       "      <th>2</th>\n",
       "      <td>8</td>\n",
       "      <td>Paris</td>\n",
       "      <td>Ali Abu</td>\n",
       "      <td>March-2022</td>\n",
       "      <td>7000</td>\n",
       "    </tr>\n",
       "  </tbody>\n",
       "</table>\n",
       "</div>"
      ],
      "text/plain": [
       "   index    city    agent        Date  Value\n",
       "0      0  Moscow     Ivan    Jan-2022   5000\n",
       "1      5   Paris  Ali Abu    Feb-2022   4000\n",
       "2      8   Paris  Ali Abu  March-2022   7000"
      ]
     },
     "execution_count": 378,
     "metadata": {},
     "output_type": "execute_result"
    }
   ],
   "source": [
    "df_2"
   ]
  },
  {
   "cell_type": "code",
   "execution_count": null,
   "id": "3ef6e3f3",
   "metadata": {},
   "outputs": [],
   "source": []
  },
  {
   "cell_type": "code",
   "execution_count": null,
   "id": "a4103055",
   "metadata": {},
   "outputs": [],
   "source": []
  },
  {
   "cell_type": "code",
   "execution_count": 379,
   "id": "cf7b3f43",
   "metadata": {},
   "outputs": [],
   "source": [
    "df_3 = df_2.set_index(df_2['index'])"
   ]
  },
  {
   "cell_type": "code",
   "execution_count": 380,
   "id": "4cf6c218",
   "metadata": {},
   "outputs": [
    {
     "data": {
      "text/html": [
       "<div>\n",
       "<style scoped>\n",
       "    .dataframe tbody tr th:only-of-type {\n",
       "        vertical-align: middle;\n",
       "    }\n",
       "\n",
       "    .dataframe tbody tr th {\n",
       "        vertical-align: top;\n",
       "    }\n",
       "\n",
       "    .dataframe thead th {\n",
       "        text-align: right;\n",
       "    }\n",
       "</style>\n",
       "<table border=\"1\" class=\"dataframe\">\n",
       "  <thead>\n",
       "    <tr style=\"text-align: right;\">\n",
       "      <th></th>\n",
       "      <th>index</th>\n",
       "      <th>city</th>\n",
       "      <th>agent</th>\n",
       "      <th>Date</th>\n",
       "      <th>Value</th>\n",
       "    </tr>\n",
       "    <tr>\n",
       "      <th>index</th>\n",
       "      <th></th>\n",
       "      <th></th>\n",
       "      <th></th>\n",
       "      <th></th>\n",
       "      <th></th>\n",
       "    </tr>\n",
       "  </thead>\n",
       "  <tbody>\n",
       "    <tr>\n",
       "      <th>0</th>\n",
       "      <td>0</td>\n",
       "      <td>Moscow</td>\n",
       "      <td>Ivan</td>\n",
       "      <td>Jan-2022</td>\n",
       "      <td>5000</td>\n",
       "    </tr>\n",
       "    <tr>\n",
       "      <th>5</th>\n",
       "      <td>5</td>\n",
       "      <td>Paris</td>\n",
       "      <td>Ali Abu</td>\n",
       "      <td>Feb-2022</td>\n",
       "      <td>4000</td>\n",
       "    </tr>\n",
       "    <tr>\n",
       "      <th>8</th>\n",
       "      <td>8</td>\n",
       "      <td>Paris</td>\n",
       "      <td>Ali Abu</td>\n",
       "      <td>March-2022</td>\n",
       "      <td>7000</td>\n",
       "    </tr>\n",
       "  </tbody>\n",
       "</table>\n",
       "</div>"
      ],
      "text/plain": [
       "       index    city    agent        Date  Value\n",
       "index                                           \n",
       "0          0  Moscow     Ivan    Jan-2022   5000\n",
       "5          5   Paris  Ali Abu    Feb-2022   4000\n",
       "8          8   Paris  Ali Abu  March-2022   7000"
      ]
     },
     "execution_count": 380,
     "metadata": {},
     "output_type": "execute_result"
    }
   ],
   "source": [
    "df_3"
   ]
  },
  {
   "cell_type": "code",
   "execution_count": 381,
   "id": "89fee2da",
   "metadata": {},
   "outputs": [
    {
     "data": {
      "text/html": [
       "<div>\n",
       "<style scoped>\n",
       "    .dataframe tbody tr th:only-of-type {\n",
       "        vertical-align: middle;\n",
       "    }\n",
       "\n",
       "    .dataframe tbody tr th {\n",
       "        vertical-align: top;\n",
       "    }\n",
       "\n",
       "    .dataframe thead th {\n",
       "        text-align: right;\n",
       "    }\n",
       "</style>\n",
       "<table border=\"1\" class=\"dataframe\">\n",
       "  <thead>\n",
       "    <tr style=\"text-align: right;\">\n",
       "      <th></th>\n",
       "      <th>index</th>\n",
       "      <th>city</th>\n",
       "      <th>agent</th>\n",
       "      <th>Date</th>\n",
       "      <th>Value</th>\n",
       "    </tr>\n",
       "  </thead>\n",
       "  <tbody>\n",
       "    <tr>\n",
       "      <th>0</th>\n",
       "      <td>0</td>\n",
       "      <td>Moscow</td>\n",
       "      <td>Ivan</td>\n",
       "      <td>Jan-2022</td>\n",
       "      <td>5000</td>\n",
       "    </tr>\n",
       "    <tr>\n",
       "      <th>5</th>\n",
       "      <td>5</td>\n",
       "      <td>Paris</td>\n",
       "      <td>Ali Abu</td>\n",
       "      <td>Feb-2022</td>\n",
       "      <td>4000</td>\n",
       "    </tr>\n",
       "    <tr>\n",
       "      <th>8</th>\n",
       "      <td>8</td>\n",
       "      <td>Paris</td>\n",
       "      <td>Ali Abu</td>\n",
       "      <td>March-2022</td>\n",
       "      <td>7000</td>\n",
       "    </tr>\n",
       "  </tbody>\n",
       "</table>\n",
       "</div>"
      ],
      "text/plain": [
       "   index    city    agent        Date  Value\n",
       "0      0  Moscow     Ivan    Jan-2022   5000\n",
       "5      5   Paris  Ali Abu    Feb-2022   4000\n",
       "8      8   Paris  Ali Abu  March-2022   7000"
      ]
     },
     "execution_count": 381,
     "metadata": {},
     "output_type": "execute_result"
    }
   ],
   "source": [
    "# !!! Лёгкий способ сбросить мультииндексы и название индекса при set_index !!!\n",
    "\n",
    "df_3.rename_axis(None)"
   ]
  },
  {
   "cell_type": "code",
   "execution_count": 382,
   "id": "13552a57",
   "metadata": {},
   "outputs": [
    {
     "data": {
      "text/html": [
       "<div>\n",
       "<style scoped>\n",
       "    .dataframe tbody tr th:only-of-type {\n",
       "        vertical-align: middle;\n",
       "    }\n",
       "\n",
       "    .dataframe tbody tr th {\n",
       "        vertical-align: top;\n",
       "    }\n",
       "\n",
       "    .dataframe thead th {\n",
       "        text-align: right;\n",
       "    }\n",
       "</style>\n",
       "<table border=\"1\" class=\"dataframe\">\n",
       "  <thead>\n",
       "    <tr style=\"text-align: right;\">\n",
       "      <th></th>\n",
       "      <th>index</th>\n",
       "      <th>city</th>\n",
       "      <th>agent</th>\n",
       "      <th>Date</th>\n",
       "      <th>Value</th>\n",
       "    </tr>\n",
       "    <tr>\n",
       "      <th>index</th>\n",
       "      <th></th>\n",
       "      <th></th>\n",
       "      <th></th>\n",
       "      <th></th>\n",
       "      <th></th>\n",
       "    </tr>\n",
       "  </thead>\n",
       "  <tbody>\n",
       "    <tr>\n",
       "      <th>0</th>\n",
       "      <td>0</td>\n",
       "      <td>Moscow</td>\n",
       "      <td>Ivan</td>\n",
       "      <td>Jan-2022</td>\n",
       "      <td>5000</td>\n",
       "    </tr>\n",
       "    <tr>\n",
       "      <th>5</th>\n",
       "      <td>5</td>\n",
       "      <td>Paris</td>\n",
       "      <td>Ali Abu</td>\n",
       "      <td>Feb-2022</td>\n",
       "      <td>4000</td>\n",
       "    </tr>\n",
       "    <tr>\n",
       "      <th>8</th>\n",
       "      <td>8</td>\n",
       "      <td>Paris</td>\n",
       "      <td>Ali Abu</td>\n",
       "      <td>March-2022</td>\n",
       "      <td>7000</td>\n",
       "    </tr>\n",
       "  </tbody>\n",
       "</table>\n",
       "</div>"
      ],
      "text/plain": [
       "       index    city    agent        Date  Value\n",
       "index                                           \n",
       "0          0  Moscow     Ivan    Jan-2022   5000\n",
       "5          5   Paris  Ali Abu    Feb-2022   4000\n",
       "8          8   Paris  Ali Abu  March-2022   7000"
      ]
     },
     "execution_count": 382,
     "metadata": {},
     "output_type": "execute_result"
    }
   ],
   "source": [
    "df_3"
   ]
  },
  {
   "cell_type": "code",
   "execution_count": null,
   "id": "5c6484e5",
   "metadata": {},
   "outputs": [],
   "source": []
  },
  {
   "cell_type": "code",
   "execution_count": 298,
   "id": "63cdc4b9",
   "metadata": {},
   "outputs": [],
   "source": [
    "df_3 = df_2.set_index('index')"
   ]
  },
  {
   "cell_type": "code",
   "execution_count": 306,
   "id": "4d6bf5d9",
   "metadata": {},
   "outputs": [],
   "source": [
    "df_3.index.nameFalse"
   ]
  },
  {
   "cell_type": "code",
   "execution_count": 307,
   "id": "ea65b09a",
   "metadata": {},
   "outputs": [
    {
     "data": {
      "text/html": [
       "<div>\n",
       "<style scoped>\n",
       "    .dataframe tbody tr th:only-of-type {\n",
       "        vertical-align: middle;\n",
       "    }\n",
       "\n",
       "    .dataframe tbody tr th {\n",
       "        vertical-align: top;\n",
       "    }\n",
       "\n",
       "    .dataframe thead th {\n",
       "        text-align: right;\n",
       "    }\n",
       "</style>\n",
       "<table border=\"1\" class=\"dataframe\">\n",
       "  <thead>\n",
       "    <tr style=\"text-align: right;\">\n",
       "      <th></th>\n",
       "      <th>city</th>\n",
       "      <th>agent</th>\n",
       "      <th>Date</th>\n",
       "      <th>Value</th>\n",
       "    </tr>\n",
       "    <tr>\n",
       "      <th>False</th>\n",
       "      <th></th>\n",
       "      <th></th>\n",
       "      <th></th>\n",
       "      <th></th>\n",
       "    </tr>\n",
       "  </thead>\n",
       "  <tbody>\n",
       "    <tr>\n",
       "      <th>0</th>\n",
       "      <td>Moscow</td>\n",
       "      <td>Ivan</td>\n",
       "      <td>Jan-2022</td>\n",
       "      <td>5000</td>\n",
       "    </tr>\n",
       "    <tr>\n",
       "      <th>5</th>\n",
       "      <td>Paris</td>\n",
       "      <td>Ali Abu</td>\n",
       "      <td>Feb-2022</td>\n",
       "      <td>4000</td>\n",
       "    </tr>\n",
       "    <tr>\n",
       "      <th>8</th>\n",
       "      <td>Paris</td>\n",
       "      <td>Ali Abu</td>\n",
       "      <td>March-2022</td>\n",
       "      <td>7000</td>\n",
       "    </tr>\n",
       "  </tbody>\n",
       "</table>\n",
       "</div>"
      ],
      "text/plain": [
       "         city    agent        Date  Value\n",
       "False                                    \n",
       "0      Moscow     Ivan    Jan-2022   5000\n",
       "5       Paris  Ali Abu    Feb-2022   4000\n",
       "8       Paris  Ali Abu  March-2022   7000"
      ]
     },
     "execution_count": 307,
     "metadata": {},
     "output_type": "execute_result"
    }
   ],
   "source": [
    "df_3"
   ]
  },
  {
   "cell_type": "code",
   "execution_count": null,
   "id": "e375fe46",
   "metadata": {},
   "outputs": [],
   "source": []
  }
 ],
 "metadata": {
  "kernelspec": {
   "display_name": "Python 3 (ipykernel)",
   "language": "python",
   "name": "python3"
  },
  "language_info": {
   "codemirror_mode": {
    "name": "ipython",
    "version": 3
   },
   "file_extension": ".py",
   "mimetype": "text/x-python",
   "name": "python",
   "nbconvert_exporter": "python",
   "pygments_lexer": "ipython3",
   "version": "3.10.0"
  }
 },
 "nbformat": 4,
 "nbformat_minor": 5
}
