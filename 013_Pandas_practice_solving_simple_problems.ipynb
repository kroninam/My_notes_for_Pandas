{
 "cells": [
  {
   "cell_type": "code",
   "execution_count": 1,
   "id": "3c873b67",
   "metadata": {},
   "outputs": [],
   "source": [
    "import numpy as np\n",
    "import pandas as pd"
   ]
  },
  {
   "cell_type": "markdown",
   "id": "36925d2e",
   "metadata": {},
   "source": [
    "# ЗАДАЧА № 0"
   ]
  },
  {
   "cell_type": "code",
   "execution_count": 3,
   "id": "c7ff9bf4",
   "metadata": {},
   "outputs": [],
   "source": [
    "# Получите элементы s1, которые не присутствуют в s2. Функция должна вернуть серию."
   ]
  },
  {
   "cell_type": "code",
   "execution_count": 2,
   "id": "ac9b2ba1",
   "metadata": {},
   "outputs": [],
   "source": [
    "s1 = pd.Series([1, 2, 3, 4, 5])\n",
    "s2 = pd.Series([4, 5, 6, 7, 8])"
   ]
  },
  {
   "cell_type": "code",
   "execution_count": 3,
   "id": "96ca07aa",
   "metadata": {},
   "outputs": [
    {
     "data": {
      "text/plain": [
       "0    1\n",
       "1    2\n",
       "2    3\n",
       "3    4\n",
       "4    5\n",
       "dtype: int64"
      ]
     },
     "execution_count": 3,
     "metadata": {},
     "output_type": "execute_result"
    }
   ],
   "source": [
    "s1"
   ]
  },
  {
   "cell_type": "code",
   "execution_count": 4,
   "id": "8a90ef01",
   "metadata": {
    "scrolled": true
   },
   "outputs": [
    {
     "data": {
      "text/plain": [
       "0    4\n",
       "1    5\n",
       "2    6\n",
       "3    7\n",
       "4    8\n",
       "dtype: int64"
      ]
     },
     "execution_count": 4,
     "metadata": {},
     "output_type": "execute_result"
    }
   ],
   "source": [
    "s2"
   ]
  },
  {
   "cell_type": "code",
   "execution_count": 5,
   "id": "155a1e15",
   "metadata": {},
   "outputs": [
    {
     "data": {
      "text/plain": [
       "3    4\n",
       "4    5\n",
       "dtype: int64"
      ]
     },
     "execution_count": 5,
     "metadata": {},
     "output_type": "execute_result"
    }
   ],
   "source": [
    "s1[s1.isin(s2)]"
   ]
  },
  {
   "cell_type": "code",
   "execution_count": 6,
   "id": "97480550",
   "metadata": {
    "scrolled": true
   },
   "outputs": [
    {
     "data": {
      "text/plain": [
       "0    1\n",
       "1    2\n",
       "2    3\n",
       "dtype: int64"
      ]
     },
     "execution_count": 6,
     "metadata": {},
     "output_type": "execute_result"
    }
   ],
   "source": [
    "s1[~s1.isin(s2)]"
   ]
  },
  {
   "cell_type": "code",
   "execution_count": 7,
   "id": "e2ef3c68",
   "metadata": {},
   "outputs": [
    {
     "data": {
      "text/plain": [
       "0    1\n",
       "1    2\n",
       "2    3\n",
       "dtype: int64"
      ]
     },
     "execution_count": 7,
     "metadata": {},
     "output_type": "execute_result"
    }
   ],
   "source": [
    "s1[~np.isin(s1, s2)]"
   ]
  },
  {
   "cell_type": "code",
   "execution_count": 8,
   "id": "0f839593",
   "metadata": {},
   "outputs": [
    {
     "data": {
      "text/plain": [
       "2    3\n",
       "3    4\n",
       "4    5\n",
       "dtype: int64"
      ]
     },
     "execution_count": 8,
     "metadata": {},
     "output_type": "execute_result"
    }
   ],
   "source": [
    "s1[~np.isin(s2, s1)]"
   ]
  },
  {
   "cell_type": "code",
   "execution_count": 10,
   "id": "a11dae15",
   "metadata": {},
   "outputs": [
    {
     "data": {
      "text/plain": [
       "array([False, False, False,  True,  True])"
      ]
     },
     "execution_count": 10,
     "metadata": {},
     "output_type": "execute_result"
    }
   ],
   "source": [
    "np.isin(s1, s2)"
   ]
  },
  {
   "cell_type": "code",
   "execution_count": 11,
   "id": "1fc45a39",
   "metadata": {},
   "outputs": [
    {
     "data": {
      "text/plain": [
       "array([ True,  True, False, False, False])"
      ]
     },
     "execution_count": 11,
     "metadata": {},
     "output_type": "execute_result"
    }
   ],
   "source": [
    "np.isin(s2, s1)"
   ]
  },
  {
   "cell_type": "code",
   "execution_count": null,
   "id": "c5ad4051",
   "metadata": {},
   "outputs": [],
   "source": []
  },
  {
   "cell_type": "markdown",
   "id": "d947e375",
   "metadata": {},
   "source": [
    "# ЗАДАЧА №1"
   ]
  },
  {
   "cell_type": "code",
   "execution_count": null,
   "id": "e449a847",
   "metadata": {},
   "outputs": [],
   "source": [
    "# Создайте новый pandas.Series из элементов, которые присутствуют только в \n",
    "# одном из двух pandas.Series (переменные s1, s2).\n",
    "\n",
    "# Если элемент присутствует в двух Series, то включать его не надо."
   ]
  },
  {
   "cell_type": "code",
   "execution_count": 12,
   "id": "51b0d13d",
   "metadata": {},
   "outputs": [],
   "source": [
    "s1 = pd.Series([1, 2, 3, 4, 5])\n",
    "s2 = pd.Series([4, 5, 6, 7, 8])"
   ]
  },
  {
   "cell_type": "code",
   "execution_count": 13,
   "id": "cd49648a",
   "metadata": {},
   "outputs": [
    {
     "data": {
      "text/plain": [
       "0    1\n",
       "1    2\n",
       "2    3\n",
       "3    4\n",
       "4    5\n",
       "dtype: int64"
      ]
     },
     "execution_count": 13,
     "metadata": {},
     "output_type": "execute_result"
    }
   ],
   "source": [
    "s1"
   ]
  },
  {
   "cell_type": "code",
   "execution_count": 14,
   "id": "bffffc84",
   "metadata": {},
   "outputs": [
    {
     "data": {
      "text/plain": [
       "0    4\n",
       "1    5\n",
       "2    6\n",
       "3    7\n",
       "4    8\n",
       "dtype: int64"
      ]
     },
     "execution_count": 14,
     "metadata": {},
     "output_type": "execute_result"
    }
   ],
   "source": [
    "s2"
   ]
  },
  {
   "cell_type": "code",
   "execution_count": 17,
   "id": "1818a7c3",
   "metadata": {},
   "outputs": [
    {
     "data": {
      "text/plain": [
       "array([1, 2, 3, 4, 5, 6, 7, 8], dtype=int64)"
      ]
     },
     "execution_count": 17,
     "metadata": {},
     "output_type": "execute_result"
    }
   ],
   "source": [
    "s3 = np.union1d(s1,s2)\n",
    "s3"
   ]
  },
  {
   "cell_type": "code",
   "execution_count": 18,
   "id": "6ffd3d8c",
   "metadata": {},
   "outputs": [
    {
     "data": {
      "text/plain": [
       "array([4, 5], dtype=int64)"
      ]
     },
     "execution_count": 18,
     "metadata": {},
     "output_type": "execute_result"
    }
   ],
   "source": [
    "s4 = np.intersect1d(s1,s2)\n",
    "s4"
   ]
  },
  {
   "cell_type": "code",
   "execution_count": 61,
   "id": "7700c51a",
   "metadata": {},
   "outputs": [
    {
     "data": {
      "text/plain": [
       "array([1, 2, 3, 6, 7, 8], dtype=int64)"
      ]
     },
     "execution_count": 61,
     "metadata": {},
     "output_type": "execute_result"
    }
   ],
   "source": [
    "# можно так:\n",
    "s3[~np.isin(s3, s4)]"
   ]
  },
  {
   "cell_type": "code",
   "execution_count": 19,
   "id": "ce8188c3",
   "metadata": {},
   "outputs": [
    {
     "data": {
      "text/plain": [
       "array([False, False, False,  True,  True, False, False, False])"
      ]
     },
     "execution_count": 19,
     "metadata": {},
     "output_type": "execute_result"
    }
   ],
   "source": [
    "np.isin(s3, s4)"
   ]
  },
  {
   "cell_type": "code",
   "execution_count": null,
   "id": "19d6305d",
   "metadata": {},
   "outputs": [],
   "source": []
  },
  {
   "cell_type": "code",
   "execution_count": 92,
   "id": "a2f41cae",
   "metadata": {
    "scrolled": true
   },
   "outputs": [
    {
     "data": {
      "text/plain": [
       "0    1\n",
       "1    2\n",
       "2    3\n",
       "5    6\n",
       "6    7\n",
       "7    8\n",
       "dtype: int64"
      ]
     },
     "execution_count": 92,
     "metadata": {},
     "output_type": "execute_result"
    }
   ],
   "source": [
    "# можно так:\n",
    "s3[~s3.isin(s4)]"
   ]
  },
  {
   "cell_type": "code",
   "execution_count": 95,
   "id": "07d83888",
   "metadata": {},
   "outputs": [
    {
     "data": {
      "text/plain": [
       "0    1\n",
       "1    2\n",
       "2    3\n",
       "5    6\n",
       "6    7\n",
       "7    8\n",
       "dtype: int64"
      ]
     },
     "execution_count": 95,
     "metadata": {},
     "output_type": "execute_result"
    }
   ],
   "source": [
    "# можно так:\n",
    "s3[~np.isin(s3, np.intersect1d(s1,s2))]"
   ]
  },
  {
   "cell_type": "code",
   "execution_count": 126,
   "id": "004df143",
   "metadata": {},
   "outputs": [
    {
     "data": {
      "text/plain": [
       "0    1\n",
       "1    2\n",
       "2    3\n",
       "3    4\n",
       "4    5\n",
       "5    6\n",
       "6    7\n",
       "7    8\n",
       "dtype: int64"
      ]
     },
     "execution_count": 126,
     "metadata": {},
     "output_type": "execute_result"
    }
   ],
   "source": [
    "# чтобы Stepik принял задание нужно так:\n",
    "\n",
    "s3 = pd.Series(np.union1d(s1,s2))\n",
    "s3"
   ]
  },
  {
   "cell_type": "code",
   "execution_count": 127,
   "id": "4ecddfdc",
   "metadata": {},
   "outputs": [
    {
     "data": {
      "text/plain": [
       "0    4\n",
       "1    5\n",
       "dtype: int64"
      ]
     },
     "execution_count": 127,
     "metadata": {},
     "output_type": "execute_result"
    }
   ],
   "source": [
    "s4 = pd.Series(np.intersect1d(s1,s2))\n",
    "s4"
   ]
  },
  {
   "cell_type": "code",
   "execution_count": 130,
   "id": "64a18967",
   "metadata": {},
   "outputs": [
    {
     "data": {
      "text/plain": [
       "0    1\n",
       "1    2\n",
       "2    3\n",
       "5    6\n",
       "6    7\n",
       "7    8\n",
       "dtype: int64"
      ]
     },
     "execution_count": 130,
     "metadata": {},
     "output_type": "execute_result"
    }
   ],
   "source": [
    "s3[~s3.isin(s4)]"
   ]
  },
  {
   "cell_type": "code",
   "execution_count": 135,
   "id": "cf795c1d",
   "metadata": {},
   "outputs": [
    {
     "data": {
      "text/plain": [
       "0    1\n",
       "1    2\n",
       "2    3\n",
       "5    6\n",
       "6    7\n",
       "7    8\n",
       "dtype: int64"
      ]
     },
     "execution_count": 135,
     "metadata": {},
     "output_type": "execute_result"
    }
   ],
   "source": [
    "s3[~np.isin(s3,s4)]"
   ]
  },
  {
   "cell_type": "code",
   "execution_count": null,
   "id": "5cfc92d7",
   "metadata": {},
   "outputs": [],
   "source": []
  },
  {
   "cell_type": "markdown",
   "id": "94c871b5",
   "metadata": {},
   "source": [
    "# Задача №2"
   ]
  },
  {
   "cell_type": "code",
   "execution_count": null,
   "id": "d229942a",
   "metadata": {},
   "outputs": [],
   "source": [
    "# На вход подается pd.Series\n",
    "\n",
    "# Найти:\n",
    "\n",
    "# наименьшее значение\n",
    "# 25 перцентиль\n",
    "# медиану\n",
    "# 75 перцентиль\n",
    "# наибольшее значение\n",
    "# Все значения должны быть упакованы в серию."
   ]
  },
  {
   "cell_type": "code",
   "execution_count": 20,
   "id": "859653c0",
   "metadata": {},
   "outputs": [],
   "source": [
    "ser = pd.Series([12.539048, 5.688863, 16.247349, 9.601944, 5.551343, 5.591008, 10.093195, 11.189223, 10.067743, 1.822353])"
   ]
  },
  {
   "cell_type": "code",
   "execution_count": 21,
   "id": "a3247268",
   "metadata": {},
   "outputs": [
    {
     "data": {
      "text/plain": [
       "0    12.539048\n",
       "1     5.688863\n",
       "2    16.247349\n",
       "3     9.601944\n",
       "4     5.551343\n",
       "5     5.591008\n",
       "6    10.093195\n",
       "7    11.189223\n",
       "8    10.067743\n",
       "9     1.822353\n",
       "dtype: float64"
      ]
     },
     "execution_count": 21,
     "metadata": {},
     "output_type": "execute_result"
    }
   ],
   "source": [
    "ser"
   ]
  },
  {
   "cell_type": "code",
   "execution_count": 27,
   "id": "7fae8463",
   "metadata": {},
   "outputs": [
    {
     "data": {
      "text/plain": [
       "1.822353"
      ]
     },
     "execution_count": 27,
     "metadata": {},
     "output_type": "execute_result"
    }
   ],
   "source": [
    "minima = np.min(ser)\n",
    "minima"
   ]
  },
  {
   "cell_type": "code",
   "execution_count": 28,
   "id": "5f9ca0ca",
   "metadata": {},
   "outputs": [
    {
     "data": {
      "text/plain": [
       "5.61547175"
      ]
     },
     "execution_count": 28,
     "metadata": {},
     "output_type": "execute_result"
    }
   ],
   "source": [
    "percentile_25 = np.percentile(ser, 25)\n",
    "percentile_25"
   ]
  },
  {
   "cell_type": "code",
   "execution_count": 29,
   "id": "4ec2c856",
   "metadata": {},
   "outputs": [
    {
     "data": {
      "text/plain": [
       "9.8348435"
      ]
     },
     "execution_count": 29,
     "metadata": {},
     "output_type": "execute_result"
    }
   ],
   "source": [
    "mediana = np.median(ser)\n",
    "mediana"
   ]
  },
  {
   "cell_type": "code",
   "execution_count": 30,
   "id": "62a4c279",
   "metadata": {},
   "outputs": [
    {
     "data": {
      "text/plain": [
       "10.915216000000001"
      ]
     },
     "execution_count": 30,
     "metadata": {},
     "output_type": "execute_result"
    }
   ],
   "source": [
    "percentile_75 = np.percentile(ser, 75)\n",
    "percentile_75"
   ]
  },
  {
   "cell_type": "code",
   "execution_count": 31,
   "id": "b6cc2762",
   "metadata": {},
   "outputs": [
    {
     "data": {
      "text/plain": [
       "16.247349"
      ]
     },
     "execution_count": 31,
     "metadata": {},
     "output_type": "execute_result"
    }
   ],
   "source": [
    "maxi = np.max(ser)\n",
    "maxi"
   ]
  },
  {
   "cell_type": "code",
   "execution_count": 32,
   "id": "c496c2a6",
   "metadata": {},
   "outputs": [
    {
     "data": {
      "text/plain": [
       "0     1.822353\n",
       "1     5.615472\n",
       "2     9.834843\n",
       "3    10.915216\n",
       "4    16.247349\n",
       "dtype: float64"
      ]
     },
     "execution_count": 32,
     "metadata": {},
     "output_type": "execute_result"
    }
   ],
   "source": [
    "result = pd.Series([minima, percentile_25, mediana, percentile_75, maxi])\n",
    "result"
   ]
  },
  {
   "cell_type": "code",
   "execution_count": 33,
   "id": "4ff25909",
   "metadata": {},
   "outputs": [
    {
     "data": {
      "text/plain": [
       "array([ 1.822353  ,  5.61547175,  9.8348435 , 10.915216  , 16.247349  ])"
      ]
     },
     "execution_count": 33,
     "metadata": {},
     "output_type": "execute_result"
    }
   ],
   "source": [
    "# Процентиль - это некая граница, которая делит всю выборку данных на определенные части \n",
    "# соглано их частоте повторений. Другими словами, если у нас 100 студентов сдали экзамен \n",
    "# с некоторым результатом (5 студентов на отлично, 45 студентов на хорошо, 15 студентов \n",
    "# на удовлетворительно, а остальные - на неудовлетворительно), \n",
    "# то интерпретация будет такой: 5% студентов сдали на отлично (5% процентиль, т.е. все \n",
    "# отличники попали в группу, которая занимает не более 5% от всей выборки. \n",
    "# По остальным студентоам аналогично).\n",
    "# Поэтому, например, 25-я процентиль отсекает данные от общей выборки так, что в\n",
    "# ней остаются только те данные, что имеют частоту появления ниже 25%. Аналогично \n",
    "# и с 75-ой процентилью, которая делит выборку так, что остаются только те данные, \n",
    "# что встречаются не более 75%. С медианой (50%) всё аналогично.\n",
    "# А вот с минимум и максимум могу добавить только то, что наименьшему значению \n",
    "# соответствует нулевой процентиль, наибольшему - 100-й процентиль, как в аналогии, \n",
    "# что медиане соответствует 50-й процентиль и т.д.\n",
    "\n",
    "# https://www.youtube.com/watch?v=SaF2G5WMwt   \n",
    "\n",
    "\n",
    "# Поэтому правильный и локоничный код будет следующим:\n",
    "\n",
    "np.percentile(ser, [0, 25, 50, 75, 100])"
   ]
  },
  {
   "cell_type": "code",
   "execution_count": null,
   "id": "20e37ca4",
   "metadata": {},
   "outputs": [],
   "source": []
  },
  {
   "cell_type": "markdown",
   "id": "1123063e",
   "metadata": {},
   "source": [
    "# Задача №3"
   ]
  },
  {
   "cell_type": "code",
   "execution_count": null,
   "id": "56a1b9e5",
   "metadata": {},
   "outputs": [],
   "source": [
    "# Определите сколько раз встречается каждое значение в исходном pandas.Series (переменная s). \n",
    "# Функция должна вернуть серию с подсчитанным количеством каждого символа."
   ]
  },
  {
   "cell_type": "code",
   "execution_count": 33,
   "id": "6ffb790c",
   "metadata": {},
   "outputs": [],
   "source": [
    "s = pd.Series(list('abdcbdhafceeabcahbcaedadaecbbbecafgh'))"
   ]
  },
  {
   "cell_type": "code",
   "execution_count": 34,
   "id": "5ea35043",
   "metadata": {},
   "outputs": [
    {
     "data": {
      "text/plain": [
       "a    8\n",
       "b    7\n",
       "c    6\n",
       "e    5\n",
       "d    4\n",
       "h    3\n",
       "f    2\n",
       "g    1\n",
       "dtype: int64"
      ]
     },
     "execution_count": 34,
     "metadata": {},
     "output_type": "execute_result"
    }
   ],
   "source": [
    "s.value_counts()"
   ]
  },
  {
   "cell_type": "code",
   "execution_count": null,
   "id": "d3a235ea",
   "metadata": {},
   "outputs": [],
   "source": []
  },
  {
   "cell_type": "markdown",
   "id": "de21474c",
   "metadata": {},
   "source": [
    "# Задача №4"
   ]
  },
  {
   "cell_type": "code",
   "execution_count": 2,
   "id": "20e7adeb",
   "metadata": {},
   "outputs": [],
   "source": [
    "# Доработайте код таким образом, чтобы оставить только 2 наиболее встречающихся значения, а для остальных установите \n",
    "# значение 'Yet another value'.\n",
    "\n",
    "# Функция solution должна возвращать серию.\n",
    "\n",
    "# Финальный результат, который должен получиться:\n",
    "# 0                     a\n",
    "# 1                     b\n",
    "# 2     Yet another value\n",
    "# 3     Yet another value\n",
    "# 4                     b\n",
    "# .........................\n",
    "\n",
    "s = pd.Series(list('abdcbdhafceeabcahbcaedadaecbbbecafgh'))"
   ]
  },
  {
   "cell_type": "code",
   "execution_count": 3,
   "id": "37dd223a",
   "metadata": {},
   "outputs": [
    {
     "data": {
      "text/plain": [
       "c    erre\n",
       "e    erre\n",
       "d    erre\n",
       "h    erre\n",
       "f    erre\n",
       "g    erre\n",
       "dtype: object"
      ]
     },
     "execution_count": 3,
     "metadata": {},
     "output_type": "execute_result"
    }
   ],
   "source": [
    "s.value_counts()[2:].replace([s.value_counts()[2:]], 'erre')"
   ]
  },
  {
   "cell_type": "code",
   "execution_count": 13,
   "id": "65fa5897",
   "metadata": {},
   "outputs": [
    {
     "data": {
      "text/plain": [
       "a    8\n",
       "b    7\n",
       "c    6\n",
       "e    5\n",
       "d    4\n",
       "h    3\n",
       "f    2\n",
       "g    1\n",
       "dtype: int64"
      ]
     },
     "execution_count": 13,
     "metadata": {},
     "output_type": "execute_result"
    }
   ],
   "source": [
    "s.value_counts()"
   ]
  },
  {
   "cell_type": "code",
   "execution_count": 40,
   "id": "85896835",
   "metadata": {},
   "outputs": [
    {
     "data": {
      "text/plain": [
       "Index(['c', 'e', 'd', 'h', 'f', 'g'], dtype='object')"
      ]
     },
     "execution_count": 40,
     "metadata": {},
     "output_type": "execute_result"
    }
   ],
   "source": [
    "s.value_counts()[2:].index"
   ]
  },
  {
   "cell_type": "code",
   "execution_count": 15,
   "id": "f97ff5e7",
   "metadata": {
    "scrolled": false
   },
   "outputs": [
    {
     "data": {
      "text/plain": [
       "2     d\n",
       "3     c\n",
       "5     d\n",
       "6     h\n",
       "8     f\n",
       "9     c\n",
       "10    e\n",
       "11    e\n",
       "14    c\n",
       "16    h\n",
       "18    c\n",
       "20    e\n",
       "21    d\n",
       "23    d\n",
       "25    e\n",
       "26    c\n",
       "30    e\n",
       "31    c\n",
       "33    f\n",
       "34    g\n",
       "35    h\n",
       "dtype: object"
      ]
     },
     "execution_count": 15,
     "metadata": {},
     "output_type": "execute_result"
    }
   ],
   "source": [
    "s[s.isin(s.value_counts()[2:].index)]"
   ]
  },
  {
   "cell_type": "code",
   "execution_count": 59,
   "id": "26a0d337",
   "metadata": {},
   "outputs": [
    {
     "data": {
      "text/plain": [
       "['c', 'e', 'd', 'h', 'f', 'g']"
      ]
     },
     "execution_count": 59,
     "metadata": {},
     "output_type": "execute_result"
    }
   ],
   "source": [
    "list(s.value_counts()[2:].index)"
   ]
  },
  {
   "cell_type": "code",
   "execution_count": 18,
   "id": "7572c882",
   "metadata": {},
   "outputs": [
    {
     "data": {
      "text/plain": [
       "0                     a\n",
       "1                     b\n",
       "2     Yet another value\n",
       "3     Yet another value\n",
       "4                     b\n",
       "5     Yet another value\n",
       "6     Yet another value\n",
       "7                     a\n",
       "8     Yet another value\n",
       "9     Yet another value\n",
       "10    Yet another value\n",
       "11    Yet another value\n",
       "12                    a\n",
       "13                    b\n",
       "14    Yet another value\n",
       "15                    a\n",
       "16    Yet another value\n",
       "17                    b\n",
       "18    Yet another value\n",
       "19                    a\n",
       "20    Yet another value\n",
       "21    Yet another value\n",
       "22                    a\n",
       "23    Yet another value\n",
       "24                    a\n",
       "25    Yet another value\n",
       "26    Yet another value\n",
       "27                    b\n",
       "28                    b\n",
       "29                    b\n",
       "30    Yet another value\n",
       "31    Yet another value\n",
       "32                    a\n",
       "33    Yet another value\n",
       "34    Yet another value\n",
       "35    Yet another value\n",
       "dtype: object"
      ]
     },
     "execution_count": 18,
     "metadata": {},
     "output_type": "execute_result"
    }
   ],
   "source": [
    "s.replace(['c', 'e', 'd', 'h', 'f', 'g'], 'Yet another value')"
   ]
  },
  {
   "cell_type": "code",
   "execution_count": null,
   "id": "fbc010fa",
   "metadata": {},
   "outputs": [],
   "source": []
  },
  {
   "cell_type": "code",
   "execution_count": null,
   "id": "a6bc05ce",
   "metadata": {},
   "outputs": [],
   "source": []
  },
  {
   "cell_type": "code",
   "execution_count": null,
   "id": "7171e8b1",
   "metadata": {},
   "outputs": [],
   "source": []
  },
  {
   "cell_type": "markdown",
   "id": "b4ec7fe8",
   "metadata": {},
   "source": [
    "# Задача №5"
   ]
  },
  {
   "cell_type": "code",
   "execution_count": 50,
   "id": "f86f581e",
   "metadata": {},
   "outputs": [],
   "source": [
    "# Разбейте все значения из pandas.Series (переменная s1) на 3 интервала равного размера. Функция должна вернуть серию.\n",
    "\n",
    "s1 = pd.Series(reversed(range(0, 10)))"
   ]
  },
  {
   "cell_type": "code",
   "execution_count": 51,
   "id": "95647d17",
   "metadata": {},
   "outputs": [
    {
     "data": {
      "text/plain": [
       "0    9\n",
       "1    8\n",
       "2    7\n",
       "3    6\n",
       "4    5\n",
       "5    4\n",
       "6    3\n",
       "7    2\n",
       "8    1\n",
       "9    0\n",
       "dtype: int64"
      ]
     },
     "execution_count": 51,
     "metadata": {},
     "output_type": "execute_result"
    }
   ],
   "source": [
    "s1"
   ]
  },
  {
   "cell_type": "code",
   "execution_count": 52,
   "id": "6ad6f84e",
   "metadata": {},
   "outputs": [
    {
     "data": {
      "text/plain": [
       "0       (6.0, 9.0]\n",
       "1       (6.0, 9.0]\n",
       "2       (6.0, 9.0]\n",
       "3       (3.0, 6.0]\n",
       "4       (3.0, 6.0]\n",
       "5       (3.0, 6.0]\n",
       "6    (-0.001, 3.0]\n",
       "7    (-0.001, 3.0]\n",
       "8    (-0.001, 3.0]\n",
       "9    (-0.001, 3.0]\n",
       "dtype: category\n",
       "Categories (3, interval[float64, right]): [(-0.001, 3.0] < (3.0, 6.0] < (6.0, 9.0]]"
      ]
     },
     "execution_count": 52,
     "metadata": {},
     "output_type": "execute_result"
    }
   ],
   "source": [
    "pd.Series(pd.qcut(s1,3))"
   ]
  },
  {
   "cell_type": "code",
   "execution_count": null,
   "id": "3bc0c285",
   "metadata": {},
   "outputs": [],
   "source": []
  },
  {
   "cell_type": "markdown",
   "id": "1a3ec20c",
   "metadata": {},
   "source": [
    "# Задача №6"
   ]
  },
  {
   "cell_type": "code",
   "execution_count": 59,
   "id": "94deba57",
   "metadata": {},
   "outputs": [],
   "source": [
    "# Преобразуйте pandas.Series (переменная s1) в pandas.DataFrame размером 2 х 5.\n",
    "\n",
    "s1 = pd.Series(range(0, 10))"
   ]
  },
  {
   "cell_type": "code",
   "execution_count": 60,
   "id": "d050394a",
   "metadata": {},
   "outputs": [
    {
     "data": {
      "text/plain": [
       "0    0\n",
       "1    1\n",
       "2    2\n",
       "3    3\n",
       "4    4\n",
       "5    5\n",
       "6    6\n",
       "7    7\n",
       "8    8\n",
       "9    9\n",
       "dtype: int64"
      ]
     },
     "execution_count": 60,
     "metadata": {},
     "output_type": "execute_result"
    }
   ],
   "source": [
    "s1"
   ]
  },
  {
   "cell_type": "code",
   "execution_count": 61,
   "id": "1bf4c9ce",
   "metadata": {},
   "outputs": [
    {
     "data": {
      "text/plain": [
       "array([[0, 1, 2, 3, 4],\n",
       "       [5, 6, 7, 8, 9]], dtype=int64)"
      ]
     },
     "execution_count": 61,
     "metadata": {},
     "output_type": "execute_result"
    }
   ],
   "source": [
    "s1 = s1.values.reshape(2,5)\n",
    "s1"
   ]
  },
  {
   "cell_type": "code",
   "execution_count": 62,
   "id": "804ec22c",
   "metadata": {},
   "outputs": [
    {
     "data": {
      "text/html": [
       "<div>\n",
       "<style scoped>\n",
       "    .dataframe tbody tr th:only-of-type {\n",
       "        vertical-align: middle;\n",
       "    }\n",
       "\n",
       "    .dataframe tbody tr th {\n",
       "        vertical-align: top;\n",
       "    }\n",
       "\n",
       "    .dataframe thead th {\n",
       "        text-align: right;\n",
       "    }\n",
       "</style>\n",
       "<table border=\"1\" class=\"dataframe\">\n",
       "  <thead>\n",
       "    <tr style=\"text-align: right;\">\n",
       "      <th></th>\n",
       "      <th>0</th>\n",
       "      <th>1</th>\n",
       "      <th>2</th>\n",
       "      <th>3</th>\n",
       "      <th>4</th>\n",
       "    </tr>\n",
       "  </thead>\n",
       "  <tbody>\n",
       "    <tr>\n",
       "      <th>0</th>\n",
       "      <td>0</td>\n",
       "      <td>1</td>\n",
       "      <td>2</td>\n",
       "      <td>3</td>\n",
       "      <td>4</td>\n",
       "    </tr>\n",
       "    <tr>\n",
       "      <th>1</th>\n",
       "      <td>5</td>\n",
       "      <td>6</td>\n",
       "      <td>7</td>\n",
       "      <td>8</td>\n",
       "      <td>9</td>\n",
       "    </tr>\n",
       "  </tbody>\n",
       "</table>\n",
       "</div>"
      ],
      "text/plain": [
       "   0  1  2  3  4\n",
       "0  0  1  2  3  4\n",
       "1  5  6  7  8  9"
      ]
     },
     "execution_count": 62,
     "metadata": {},
     "output_type": "execute_result"
    }
   ],
   "source": [
    "pd.DataFrame(s1)"
   ]
  },
  {
   "cell_type": "code",
   "execution_count": null,
   "id": "2d7a219e",
   "metadata": {},
   "outputs": [],
   "source": []
  },
  {
   "cell_type": "code",
   "execution_count": null,
   "id": "3958acae",
   "metadata": {},
   "outputs": [],
   "source": [
    "# 27.05.2023"
   ]
  },
  {
   "cell_type": "markdown",
   "id": "294356a6",
   "metadata": {},
   "source": [
    "# Задача №7"
   ]
  },
  {
   "cell_type": "code",
   "execution_count": 63,
   "id": "6d9fa136",
   "metadata": {},
   "outputs": [],
   "source": [
    "# Найдите индексы значений, которые кратны 2.\n",
    "\n",
    "s1 = pd.Series([5, 10, 2, 3, 9, 12, 1])"
   ]
  },
  {
   "cell_type": "code",
   "execution_count": 64,
   "id": "12b8fc88",
   "metadata": {},
   "outputs": [
    {
     "data": {
      "text/plain": [
       "array([1, 2, 5], dtype=int64)"
      ]
     },
     "execution_count": 64,
     "metadata": {},
     "output_type": "execute_result"
    }
   ],
   "source": [
    "# не сходится с ответом т.к. каждое значение должно быть в []\n",
    "np.array(s1[s1%2 == 0].index)"
   ]
  },
  {
   "cell_type": "code",
   "execution_count": 42,
   "id": "80d718e6",
   "metadata": {},
   "outputs": [
    {
     "data": {
      "text/plain": [
       "array([[0, 1],\n",
       "       [0, 2],\n",
       "       [0, 5]], dtype=int64)"
      ]
     },
     "execution_count": 42,
     "metadata": {},
     "output_type": "execute_result"
    }
   ],
   "source": [
    "# так выдает с нулевым индексом, видимо потому что объект pd.Series\n",
    "np.argwhere([s1%2 == 0])"
   ]
  },
  {
   "cell_type": "code",
   "execution_count": 19,
   "id": "ec7faa5f",
   "metadata": {},
   "outputs": [
    {
     "data": {
      "text/plain": [
       "array([[1],\n",
       "       [2],\n",
       "       [5]], dtype=int64)"
      ]
     },
     "execution_count": 19,
     "metadata": {},
     "output_type": "execute_result"
    }
   ],
   "source": [
    "# в итоге надо: обернуть в np.array и уже потом искать по условию:\n",
    "\n",
    "np.argwhere(np.array(s1) % 2 == 0)"
   ]
  },
  {
   "cell_type": "code",
   "execution_count": null,
   "id": "8e0d9b95",
   "metadata": {},
   "outputs": [],
   "source": []
  },
  {
   "cell_type": "markdown",
   "id": "93672bab",
   "metadata": {},
   "source": [
    "# Задача №8"
   ]
  },
  {
   "cell_type": "code",
   "execution_count": 50,
   "id": "b3f41d66",
   "metadata": {},
   "outputs": [],
   "source": [
    "# Создайте новый pandas.Series из элементов, которые находятся по индексам: 0, 7, 12, 15, 19.\n",
    "# Функция solution должна вернуть серию.\n",
    "\n",
    "s1 = pd.Series(list('abcdefghijklmnopqrstuvwxyz'))"
   ]
  },
  {
   "cell_type": "code",
   "execution_count": 58,
   "id": "329278cd",
   "metadata": {},
   "outputs": [],
   "source": [
    "df = pd.DataFrame(s1)"
   ]
  },
  {
   "cell_type": "code",
   "execution_count": 63,
   "id": "ca8bf58b",
   "metadata": {},
   "outputs": [
    {
     "data": {
      "text/plain": [
       "0     a\n",
       "7     h\n",
       "12    m\n",
       "15    p\n",
       "19    t\n",
       "dtype: object"
      ]
     },
     "execution_count": 63,
     "metadata": {},
     "output_type": "execute_result"
    }
   ],
   "source": [
    "s1.take([0, 7, 12, 15, 19])"
   ]
  },
  {
   "cell_type": "code",
   "execution_count": 71,
   "id": "8760ede8",
   "metadata": {},
   "outputs": [
    {
     "data": {
      "text/plain": [
       "3    d\n",
       "dtype: object"
      ]
     },
     "execution_count": 71,
     "metadata": {},
     "output_type": "execute_result"
    }
   ],
   "source": [
    "s1.take([3])"
   ]
  },
  {
   "cell_type": "code",
   "execution_count": null,
   "id": "2225d966",
   "metadata": {},
   "outputs": [],
   "source": []
  },
  {
   "cell_type": "markdown",
   "id": "407450d8",
   "metadata": {},
   "source": [
    "# Задача №9"
   ]
  },
  {
   "cell_type": "code",
   "execution_count": 72,
   "id": "f0177f49",
   "metadata": {},
   "outputs": [],
   "source": [
    "# Преобразуйте элементы pandas.Series (переменная s1) из строк в даты. Функция solution должна вернуть серию.\n",
    "\n",
    "s1 = pd.Series(['01 Jan 2022', '02-02-2022', '20220303', '2022/04/04', '2022-05-05', '2022-06-06T12:20'])\n",
    "\n",
    "pandas.to_datetime"
   ]
  },
  {
   "cell_type": "code",
   "execution_count": 73,
   "id": "4686cc17",
   "metadata": {},
   "outputs": [
    {
     "data": {
      "text/plain": [
       "0         01 Jan 2022\n",
       "1          02-02-2022\n",
       "2            20220303\n",
       "3          2022/04/04\n",
       "4          2022-05-05\n",
       "5    2022-06-06T12:20\n",
       "dtype: object"
      ]
     },
     "execution_count": 73,
     "metadata": {},
     "output_type": "execute_result"
    }
   ],
   "source": [
    "s1"
   ]
  },
  {
   "cell_type": "code",
   "execution_count": 75,
   "id": "59de8676",
   "metadata": {},
   "outputs": [
    {
     "data": {
      "text/plain": [
       "0   2022-01-01 00:00:00\n",
       "1   2022-02-02 00:00:00\n",
       "2   2022-03-03 00:00:00\n",
       "3   2022-04-04 00:00:00\n",
       "4   2022-05-05 00:00:00\n",
       "5   2022-06-06 12:20:00\n",
       "dtype: datetime64[ns]"
      ]
     },
     "execution_count": 75,
     "metadata": {},
     "output_type": "execute_result"
    }
   ],
   "source": [
    "pd.to_datetime(s1)"
   ]
  },
  {
   "cell_type": "code",
   "execution_count": null,
   "id": "e9f9ec9f",
   "metadata": {},
   "outputs": [],
   "source": []
  },
  {
   "cell_type": "markdown",
   "id": "e3a0df64",
   "metadata": {},
   "source": [
    "# Задача №10"
   ]
  },
  {
   "cell_type": "code",
   "execution_count": 65,
   "id": "9bc22d95",
   "metadata": {},
   "outputs": [],
   "source": [
    "# Объект pandas.Series (переменная s1) содержит некоторые числовые значения. \n",
    "# Для значений хранящихся в s2 определите индексы под которыми они хранятся  \n",
    "# в s1. Функция должна вернуть список (python list):\n",
    "    \n",
    "# [5, 4, 0, 8]\n",
    "\n",
    "s1 = pd.Series([10, 9, 6, 5, 3, 1, 12, 8, 13])\n",
    "s2 = pd.Series([1, 3, 10, 13])"
   ]
  },
  {
   "cell_type": "code",
   "execution_count": 66,
   "id": "921fb90a",
   "metadata": {},
   "outputs": [
    {
     "data": {
      "text/plain": [
       "0    10\n",
       "1     9\n",
       "2     6\n",
       "3     5\n",
       "4     3\n",
       "5     1\n",
       "6    12\n",
       "7     8\n",
       "8    13\n",
       "dtype: int64"
      ]
     },
     "execution_count": 66,
     "metadata": {},
     "output_type": "execute_result"
    }
   ],
   "source": [
    "s1"
   ]
  },
  {
   "cell_type": "code",
   "execution_count": 67,
   "id": "79ce5f08",
   "metadata": {},
   "outputs": [
    {
     "data": {
      "text/plain": [
       "0     1\n",
       "1     3\n",
       "2    10\n",
       "3    13\n",
       "dtype: int64"
      ]
     },
     "execution_count": 67,
     "metadata": {},
     "output_type": "execute_result"
    }
   ],
   "source": [
    "s2"
   ]
  },
  {
   "cell_type": "code",
   "execution_count": 68,
   "id": "a34f9388",
   "metadata": {},
   "outputs": [
    {
     "data": {
      "text/plain": [
       "array([ 1,  3, 10, 13], dtype=int64)"
      ]
     },
     "execution_count": 68,
     "metadata": {},
     "output_type": "execute_result"
    }
   ],
   "source": [
    "s2.values"
   ]
  },
  {
   "cell_type": "code",
   "execution_count": 6,
   "id": "8049307b",
   "metadata": {},
   "outputs": [],
   "source": [
    "lst = []\n",
    "for i in s2:\n",
    "    lst += (s1[s1 == i].index.to_list())"
   ]
  },
  {
   "cell_type": "code",
   "execution_count": 7,
   "id": "e5997030",
   "metadata": {},
   "outputs": [
    {
     "data": {
      "text/plain": [
       "[5, 4, 0, 8]"
      ]
     },
     "execution_count": 7,
     "metadata": {},
     "output_type": "execute_result"
    }
   ],
   "source": [
    "lst"
   ]
  },
  {
   "cell_type": "code",
   "execution_count": 8,
   "id": "c122449e",
   "metadata": {
    "scrolled": true
   },
   "outputs": [
    {
     "data": {
      "text/plain": [
       "[5, 4, 0, 8]"
      ]
     },
     "execution_count": 8,
     "metadata": {},
     "output_type": "execute_result"
    }
   ],
   "source": [
    "# Внимание правильный ответ:\n",
    "\n",
    "list(pd.Index(s1).get_indexer(s2))"
   ]
  },
  {
   "cell_type": "code",
   "execution_count": 9,
   "id": "d27acc5e",
   "metadata": {},
   "outputs": [
    {
     "data": {
      "text/plain": [
       "Int64Index([10, 9, 6, 5, 3, 1, 12, 8, 13], dtype='int64')"
      ]
     },
     "execution_count": 9,
     "metadata": {},
     "output_type": "execute_result"
    }
   ],
   "source": [
    "# get_indexer работает с pd.Index\n",
    "\n",
    "pd.Index(s1)"
   ]
  },
  {
   "cell_type": "code",
   "execution_count": 14,
   "id": "f3687edd",
   "metadata": {},
   "outputs": [
    {
     "data": {
      "text/plain": [
       "array([2], dtype=int64)"
      ]
     },
     "execution_count": 14,
     "metadata": {},
     "output_type": "execute_result"
    }
   ],
   "source": [
    "# передавать в get_indexer надо коллекцию например так [10]\n",
    "\n",
    "pd.Index(s2).get_indexer([10])"
   ]
  },
  {
   "cell_type": "code",
   "execution_count": null,
   "id": "3cf76ca0",
   "metadata": {},
   "outputs": [],
   "source": []
  },
  {
   "cell_type": "code",
   "execution_count": null,
   "id": "4010e07e",
   "metadata": {},
   "outputs": [],
   "source": [
    "28.05.2023"
   ]
  },
  {
   "cell_type": "code",
   "execution_count": null,
   "id": "c6d4dee3",
   "metadata": {},
   "outputs": [],
   "source": []
  },
  {
   "cell_type": "markdown",
   "id": "13daf393",
   "metadata": {},
   "source": [
    "# Задача № 11"
   ]
  },
  {
   "cell_type": "code",
   "execution_count": 4,
   "id": "c0f29d1e",
   "metadata": {},
   "outputs": [],
   "source": [
    "# Даны следующие ряды данных:\n",
    "\n",
    "# s_forecast - ряд прогнозных значений\n",
    "\n",
    "# s_real - ряд фактических значений\n",
    " \n",
    "\n",
    "# Вычислите среднеквадратичную ошибку.\n",
    "\n",
    "\n",
    "s_forecast = pd.Series(range(10))\n",
    "s_real  = pd.Series(reversed(range(10)))\n"
   ]
  },
  {
   "cell_type": "code",
   "execution_count": 10,
   "id": "97440b26",
   "metadata": {},
   "outputs": [
    {
     "data": {
      "text/plain": [
       "0    0\n",
       "1    1\n",
       "2    2\n",
       "3    3\n",
       "4    4\n",
       "5    5\n",
       "6    6\n",
       "7    7\n",
       "8    8\n",
       "9    9\n",
       "dtype: int64"
      ]
     },
     "execution_count": 10,
     "metadata": {},
     "output_type": "execute_result"
    }
   ],
   "source": [
    "s1 = s_forecast\n",
    "s1"
   ]
  },
  {
   "cell_type": "code",
   "execution_count": 11,
   "id": "7b4c1075",
   "metadata": {},
   "outputs": [
    {
     "data": {
      "text/plain": [
       "0    9\n",
       "1    8\n",
       "2    7\n",
       "3    6\n",
       "4    5\n",
       "5    4\n",
       "6    3\n",
       "7    2\n",
       "8    1\n",
       "9    0\n",
       "dtype: int64"
      ]
     },
     "execution_count": 11,
     "metadata": {},
     "output_type": "execute_result"
    }
   ],
   "source": [
    "s2 = s_real\n",
    "s2"
   ]
  },
  {
   "cell_type": "code",
   "execution_count": null,
   "id": "ef2f72fc",
   "metadata": {},
   "outputs": [],
   "source": [
    "# Среднеквадратичная ошибка (Mean Squared Error) – Среднее арифметическое (Mean) \n",
    "# квадратов разностей между предсказанными и реальными значениями Модели (Model) \n",
    "# Машинного обучения (ML):\n",
    "\n",
    "# MSE позволяет оценить, насколько хорошо модель приближает истинные значения. \n",
    "# Чем меньше значение MSE, тем ближе предсказания модели к истинным значениям."
   ]
  },
  {
   "cell_type": "code",
   "execution_count": 14,
   "id": "a589c603",
   "metadata": {},
   "outputs": [
    {
     "data": {
      "text/plain": [
       "33.0"
      ]
     },
     "execution_count": 14,
     "metadata": {},
     "output_type": "execute_result"
    }
   ],
   "source": [
    "((s1 - s2)**2).mean()"
   ]
  },
  {
   "cell_type": "code",
   "execution_count": null,
   "id": "77d170fa",
   "metadata": {},
   "outputs": [],
   "source": []
  },
  {
   "cell_type": "markdown",
   "id": "9be2fdb0",
   "metadata": {},
   "source": [
    "# Задача № 12"
   ]
  },
  {
   "cell_type": "code",
   "execution_count": 50,
   "id": "3fba4036",
   "metadata": {},
   "outputs": [],
   "source": [
    "# Измените первый символ каждого слова на верхний регистр.\n",
    "\n",
    "s1 = pd.Series(['the', 'weather', 'is', 'fine']) "
   ]
  },
  {
   "cell_type": "code",
   "execution_count": 23,
   "id": "13d9733c",
   "metadata": {},
   "outputs": [
    {
     "data": {
      "text/plain": [
       "'t'"
      ]
     },
     "execution_count": 23,
     "metadata": {},
     "output_type": "execute_result"
    }
   ],
   "source": [
    "s1[0][0]"
   ]
  },
  {
   "cell_type": "code",
   "execution_count": 37,
   "id": "10dc0bde",
   "metadata": {},
   "outputs": [],
   "source": [
    "# с циклом:\n",
    "for i in range(len(s1)):\n",
    "    s1[i] = np.char.replace(s1[i], s1[i][0], s1[i][0].upper())"
   ]
  },
  {
   "cell_type": "code",
   "execution_count": 38,
   "id": "d3027195",
   "metadata": {
    "scrolled": true
   },
   "outputs": [
    {
     "data": {
      "text/plain": [
       "0        The\n",
       "1    Weather\n",
       "2         Is\n",
       "3       Fine\n",
       "dtype: object"
      ]
     },
     "execution_count": 38,
     "metadata": {},
     "output_type": "execute_result"
    }
   ],
   "source": [
    "s1"
   ]
  },
  {
   "cell_type": "code",
   "execution_count": null,
   "id": "918c6041",
   "metadata": {},
   "outputs": [],
   "source": [
    "# без цикла"
   ]
  },
  {
   "cell_type": "code",
   "execution_count": 53,
   "id": "b28c44b9",
   "metadata": {},
   "outputs": [
    {
     "data": {
      "text/plain": [
       "0        The\n",
       "1    Weather\n",
       "2         Is\n",
       "3       Fine\n",
       "dtype: object"
      ]
     },
     "execution_count": 53,
     "metadata": {},
     "output_type": "execute_result"
    }
   ],
   "source": [
    "s1.str.capitalize()"
   ]
  },
  {
   "cell_type": "code",
   "execution_count": null,
   "id": "a0282b5e",
   "metadata": {},
   "outputs": [],
   "source": []
  },
  {
   "cell_type": "markdown",
   "id": "2e97f37f",
   "metadata": {},
   "source": [
    "# Задача №13"
   ]
  },
  {
   "cell_type": "code",
   "execution_count": 66,
   "id": "a361f529",
   "metadata": {},
   "outputs": [],
   "source": [
    "# Подсчитайте количество символов в каждом слове. Функция solution должна вернуть серию.\n",
    "\n",
    "s1 = pd.Series(['the', 'weather', 'is', 'fine'])"
   ]
  },
  {
   "cell_type": "code",
   "execution_count": 77,
   "id": "d0bb1704",
   "metadata": {},
   "outputs": [
    {
     "data": {
      "text/plain": [
       "0    3\n",
       "1    7\n",
       "2    2\n",
       "3    4\n",
       "dtype: int64"
      ]
     },
     "execution_count": 77,
     "metadata": {},
     "output_type": "execute_result"
    }
   ],
   "source": [
    "result = pd.Series(s1.str.len())\n",
    "result"
   ]
  },
  {
   "cell_type": "code",
   "execution_count": null,
   "id": "fdeb6f1f",
   "metadata": {},
   "outputs": [],
   "source": []
  },
  {
   "cell_type": "code",
   "execution_count": null,
   "id": "39e7b854",
   "metadata": {},
   "outputs": [],
   "source": [
    "20.06.2023"
   ]
  },
  {
   "cell_type": "markdown",
   "id": "29ab8f6e",
   "metadata": {},
   "source": [
    "# Задача №14"
   ]
  },
  {
   "cell_type": "code",
   "execution_count": null,
   "id": "39e18b4d",
   "metadata": {},
   "outputs": [],
   "source": [
    "# Вытяните день месяца, номер недели, день года и день недели из серии (s1)\n",
    "\n",
    "# Date:  [5, 4, 3, 4, 5, 6]\n",
    "# Week number:  [1, 5, 13, 22, 9, 9]\n",
    "# Day number of year:  [5, 35, 93, 155, 64, 65]\n",
    "# Day of week:  ['Tuesday', 'Thursday', 'Saturday', 'Friday', 'Friday', 'Saturday']"
   ]
  },
  {
   "cell_type": "code",
   "execution_count": 69,
   "id": "27523a6e",
   "metadata": {},
   "outputs": [],
   "source": [
    "s1 = pd.Series(['05 Jan 2021', '02-04-2021', '20210403', '2021/06/04', '2021-03-05', '2021-03-06T12:20'])"
   ]
  },
  {
   "cell_type": "code",
   "execution_count": 91,
   "id": "916103fd",
   "metadata": {},
   "outputs": [
    {
     "name": "stdout",
     "output_type": "stream",
     "text": [
      "Date:  [5, 4, 3, 4, 5, 6]\n",
      "Week number:  [1, 5, 13, 22, 9, 9]\n",
      "Day number of year:  [5, 35, 93, 155, 64, 65]\n",
      "Day of week:  ['Tuesday', 'Thursday', 'Saturday', 'Friday', 'Friday', 'Saturday']\n"
     ]
    }
   ],
   "source": [
    "print('Date: ', list(pd.to_datetime(s1).dt.day))\n",
    "\n",
    "print('Week number: ', list(pd.to_datetime(s1).dt.isocalendar().week))\n",
    "\n",
    "print('Day number of year: ', list(pd.to_datetime(s1).dt.dayofyear))\n",
    "\n",
    "print('Day of week: ', list(pd.to_datetime(s1).dt.day_name()))"
   ]
  },
  {
   "cell_type": "code",
   "execution_count": null,
   "id": "d5c87570",
   "metadata": {},
   "outputs": [],
   "source": []
  },
  {
   "cell_type": "markdown",
   "id": "f4f6de0a",
   "metadata": {},
   "source": [
    "# Задача №15"
   ]
  },
  {
   "cell_type": "code",
   "execution_count": null,
   "id": "3717609c",
   "metadata": {},
   "outputs": [],
   "source": [
    "# Измените даты лежащие в серии (s1) таким образом чтобы они начинались с 10-го числа соответствующего месяца.\n",
    "\n",
    "# Требуемый финальный результат (наполнение):\n",
    "# 0   2022-01-10\n",
    "# 1   2022-02-10\n",
    "# 2   2022-03-10\n",
    "# dtype: datetime64[ns]"
   ]
  },
  {
   "cell_type": "code",
   "execution_count": 110,
   "id": "fbda2a30",
   "metadata": {},
   "outputs": [],
   "source": [
    "s1 = pd.Series(['Jan 2022', 'Feb 2022', 'Mar 2022'])"
   ]
  },
  {
   "cell_type": "code",
   "execution_count": 93,
   "id": "08cfacde",
   "metadata": {},
   "outputs": [
    {
     "data": {
      "text/plain": [
       "0    Jan 2022\n",
       "1    Feb 2022\n",
       "2    Mar 2022\n",
       "dtype: object"
      ]
     },
     "execution_count": 93,
     "metadata": {},
     "output_type": "execute_result"
    }
   ],
   "source": [
    "s1"
   ]
  },
  {
   "cell_type": "code",
   "execution_count": 96,
   "id": "4d5e17bc",
   "metadata": {},
   "outputs": [
    {
     "data": {
      "text/plain": [
       "0   2022-01-01\n",
       "1   2022-02-01\n",
       "2   2022-03-01\n",
       "dtype: datetime64[ns]"
      ]
     },
     "execution_count": 96,
     "metadata": {},
     "output_type": "execute_result"
    }
   ],
   "source": [
    "pd.to_datetime(s1)"
   ]
  },
  {
   "cell_type": "code",
   "execution_count": 101,
   "id": "42e6de2d",
   "metadata": {},
   "outputs": [
    {
     "data": {
      "text/plain": [
       "0    2022\n",
       "1    2022\n",
       "2    2022\n",
       "dtype: int64"
      ]
     },
     "execution_count": 101,
     "metadata": {},
     "output_type": "execute_result"
    }
   ],
   "source": [
    "pd.to_datetime(s1).dt.year"
   ]
  },
  {
   "cell_type": "code",
   "execution_count": 102,
   "id": "4bd7f59d",
   "metadata": {},
   "outputs": [
    {
     "data": {
      "text/plain": [
       "0    1\n",
       "1    2\n",
       "2    3\n",
       "dtype: int64"
      ]
     },
     "execution_count": 102,
     "metadata": {},
     "output_type": "execute_result"
    }
   ],
   "source": [
    "pd.to_datetime(s1).dt.month"
   ]
  },
  {
   "cell_type": "code",
   "execution_count": 114,
   "id": "da8693b2",
   "metadata": {},
   "outputs": [],
   "source": [
    "df = pd.DataFrame({'year': list(pd.to_datetime(s1).dt.year),\n",
    "                   'month': list(pd.to_datetime(s1).dt.month),\n",
    "                   'day': [10 for i in range (len(s1))]})"
   ]
  },
  {
   "cell_type": "code",
   "execution_count": 115,
   "id": "00996817",
   "metadata": {
    "scrolled": true
   },
   "outputs": [
    {
     "data": {
      "text/html": [
       "<div>\n",
       "<style scoped>\n",
       "    .dataframe tbody tr th:only-of-type {\n",
       "        vertical-align: middle;\n",
       "    }\n",
       "\n",
       "    .dataframe tbody tr th {\n",
       "        vertical-align: top;\n",
       "    }\n",
       "\n",
       "    .dataframe thead th {\n",
       "        text-align: right;\n",
       "    }\n",
       "</style>\n",
       "<table border=\"1\" class=\"dataframe\">\n",
       "  <thead>\n",
       "    <tr style=\"text-align: right;\">\n",
       "      <th></th>\n",
       "      <th>year</th>\n",
       "      <th>month</th>\n",
       "      <th>day</th>\n",
       "    </tr>\n",
       "  </thead>\n",
       "  <tbody>\n",
       "    <tr>\n",
       "      <th>0</th>\n",
       "      <td>2022</td>\n",
       "      <td>1</td>\n",
       "      <td>10</td>\n",
       "    </tr>\n",
       "    <tr>\n",
       "      <th>1</th>\n",
       "      <td>2022</td>\n",
       "      <td>2</td>\n",
       "      <td>10</td>\n",
       "    </tr>\n",
       "    <tr>\n",
       "      <th>2</th>\n",
       "      <td>2022</td>\n",
       "      <td>3</td>\n",
       "      <td>10</td>\n",
       "    </tr>\n",
       "  </tbody>\n",
       "</table>\n",
       "</div>"
      ],
      "text/plain": [
       "   year  month  day\n",
       "0  2022      1   10\n",
       "1  2022      2   10\n",
       "2  2022      3   10"
      ]
     },
     "execution_count": 115,
     "metadata": {},
     "output_type": "execute_result"
    }
   ],
   "source": [
    "df"
   ]
  },
  {
   "cell_type": "code",
   "execution_count": 117,
   "id": "a8a0806c",
   "metadata": {},
   "outputs": [
    {
     "data": {
      "text/plain": [
       "0   2022-01-10\n",
       "1   2022-02-10\n",
       "2   2022-03-10\n",
       "dtype: datetime64[ns]"
      ]
     },
     "execution_count": 117,
     "metadata": {},
     "output_type": "execute_result"
    }
   ],
   "source": [
    "pd.to_datetime(df)"
   ]
  },
  {
   "cell_type": "code",
   "execution_count": null,
   "id": "fb5611a5",
   "metadata": {},
   "outputs": [],
   "source": []
  },
  {
   "cell_type": "markdown",
   "id": "3d8d6f47",
   "metadata": {},
   "source": [
    "### Несколько вариантов решения этой задачи из комментариев:"
   ]
  },
  {
   "cell_type": "markdown",
   "id": "e047341d",
   "metadata": {},
   "source": [
    "### Вариант №1"
   ]
  },
  {
   "cell_type": "code",
   "execution_count": 120,
   "id": "e3055ad3",
   "metadata": {},
   "outputs": [],
   "source": [
    "# Шаг 1. Преобразуем изначальную серию old_series в серию с датами new_series:\n",
    "new_series = pd.to_datetime(s1)"
   ]
  },
  {
   "cell_type": "code",
   "execution_count": 121,
   "id": "33bf9207",
   "metadata": {},
   "outputs": [
    {
     "data": {
      "text/plain": [
       "0   2022-01-01\n",
       "1   2022-02-01\n",
       "2   2022-03-01\n",
       "dtype: datetime64[ns]"
      ]
     },
     "execution_count": 121,
     "metadata": {},
     "output_type": "execute_result"
    }
   ],
   "source": [
    "new_series"
   ]
  },
  {
   "cell_type": "code",
   "execution_count": 122,
   "id": "08ec925b",
   "metadata": {},
   "outputs": [],
   "source": [
    "# Шаг 2. Создадим значение количества дней, на которое нужно изменить new_serias:\n",
    "days_amount = pd.Timedelta(days=9)"
   ]
  },
  {
   "cell_type": "code",
   "execution_count": 125,
   "id": "8bdcbb24",
   "metadata": {},
   "outputs": [
    {
     "data": {
      "text/plain": [
       "Timedelta('9 days 00:00:00')"
      ]
     },
     "execution_count": 125,
     "metadata": {},
     "output_type": "execute_result"
    }
   ],
   "source": [
    "days_amount"
   ]
  },
  {
   "cell_type": "code",
   "execution_count": 123,
   "id": "cedbf4f5",
   "metadata": {},
   "outputs": [],
   "source": [
    "# Шаг 3. Преобразуем new_series в финальную с нужной датой final_series:\n",
    "final_series = new_series + days_amount"
   ]
  },
  {
   "cell_type": "code",
   "execution_count": 126,
   "id": "c3c93940",
   "metadata": {},
   "outputs": [
    {
     "data": {
      "text/plain": [
       "0   2022-01-10\n",
       "1   2022-02-10\n",
       "2   2022-03-10\n",
       "dtype: datetime64[ns]"
      ]
     },
     "execution_count": 126,
     "metadata": {},
     "output_type": "execute_result"
    }
   ],
   "source": [
    "final_series"
   ]
  },
  {
   "cell_type": "markdown",
   "id": "b7a398ed",
   "metadata": {},
   "source": [
    "### Вариант№2"
   ]
  },
  {
   "cell_type": "code",
   "execution_count": 127,
   "id": "a7cef2d3",
   "metadata": {},
   "outputs": [
    {
     "data": {
      "text/plain": [
       "0    Jan 2022\n",
       "1    Feb 2022\n",
       "2    Mar 2022\n",
       "dtype: object"
      ]
     },
     "execution_count": 127,
     "metadata": {},
     "output_type": "execute_result"
    }
   ],
   "source": [
    "s1"
   ]
  },
  {
   "cell_type": "code",
   "execution_count": 138,
   "id": "48c0f0f0",
   "metadata": {},
   "outputs": [],
   "source": [
    "s11 = pd.to_datetime(s1)"
   ]
  },
  {
   "cell_type": "code",
   "execution_count": 152,
   "id": "737ede07",
   "metadata": {},
   "outputs": [
    {
     "data": {
      "text/plain": [
       "0   2022-01-01\n",
       "1   2022-02-01\n",
       "2   2022-03-01\n",
       "dtype: datetime64[ns]"
      ]
     },
     "execution_count": 152,
     "metadata": {},
     "output_type": "execute_result"
    }
   ],
   "source": [
    "s11"
   ]
  },
  {
   "cell_type": "code",
   "execution_count": 154,
   "id": "a424c41c",
   "metadata": {},
   "outputs": [
    {
     "data": {
      "text/plain": [
       "0   2022-01-10\n",
       "1   2022-02-10\n",
       "2   2022-03-10\n",
       "dtype: datetime64[ns]"
      ]
     },
     "execution_count": 154,
     "metadata": {},
     "output_type": "execute_result"
    }
   ],
   "source": [
    "s11.apply(lambda x: x.replace(day=10))"
   ]
  },
  {
   "cell_type": "code",
   "execution_count": 157,
   "id": "1e27f433",
   "metadata": {},
   "outputs": [
    {
     "data": {
      "text/plain": [
       "Timestamp('2022-01-10 00:00:00')"
      ]
     },
     "execution_count": 157,
     "metadata": {},
     "output_type": "execute_result"
    }
   ],
   "source": [
    "s11[0].replace(day=10)"
   ]
  },
  {
   "cell_type": "code",
   "execution_count": null,
   "id": "aa468419",
   "metadata": {},
   "outputs": [],
   "source": []
  },
  {
   "cell_type": "code",
   "execution_count": null,
   "id": "ce52350e",
   "metadata": {},
   "outputs": [],
   "source": [
    "26.06.2023"
   ]
  },
  {
   "cell_type": "markdown",
   "id": "f846ce96",
   "metadata": {},
   "source": [
    "# Задача №16"
   ]
  },
  {
   "cell_type": "code",
   "execution_count": 138,
   "id": "5aee1041",
   "metadata": {},
   "outputs": [],
   "source": [
    "# Из серии (s1) вытяните слова, содержащие не менее 2 гласных.\n",
    "\n",
    "# Сложность: 💪💪💪 \n",
    "    \n",
    "s1 = pd.Series(['Apple', 'Orange', 'Plan', 'Sky', 'Money'])"
   ]
  },
  {
   "cell_type": "code",
   "execution_count": 69,
   "id": "953e519b",
   "metadata": {},
   "outputs": [],
   "source": [
    "vow = ['a', 'e', 'i', 'o', 'u']"
   ]
  },
  {
   "cell_type": "code",
   "execution_count": 37,
   "id": "b959db1c",
   "metadata": {
    "scrolled": true
   },
   "outputs": [
    {
     "data": {
      "text/plain": [
       "0    False\n",
       "1    False\n",
       "2    False\n",
       "3    False\n",
       "4    False\n",
       "dtype: bool"
      ]
     },
     "execution_count": 37,
     "metadata": {},
     "output_type": "execute_result"
    }
   ],
   "source": [
    "s1.apply(lambda x: x in vow)"
   ]
  },
  {
   "cell_type": "code",
   "execution_count": 136,
   "id": "71cb66a1",
   "metadata": {},
   "outputs": [],
   "source": [
    "lst = []\n",
    "lst_index = []\n",
    "def calc_vows(x):    \n",
    "    cnt = 0\n",
    "    for i in vow:\n",
    "        if i in x.lower():\n",
    "            cnt +=1\n",
    "            if cnt >= 2:\n",
    "                lst.append(x)\n",
    "                lst_index.append()\n",
    "                break\n",
    "    return lst"
   ]
  },
  {
   "cell_type": "code",
   "execution_count": 133,
   "id": "051b7b77",
   "metadata": {},
   "outputs": [
    {
     "data": {
      "text/plain": [
       "['Apple', 'Orange', 'Money']"
      ]
     },
     "execution_count": 133,
     "metadata": {},
     "output_type": "execute_result"
    }
   ],
   "source": [
    "lst"
   ]
  },
  {
   "cell_type": "code",
   "execution_count": 135,
   "id": "53a51219",
   "metadata": {},
   "outputs": [
    {
     "data": {
      "text/plain": [
       "[<function str.index>, <function str.index>, <function str.index>]"
      ]
     },
     "execution_count": 135,
     "metadata": {},
     "output_type": "execute_result"
    }
   ],
   "source": [
    "lst_index"
   ]
  },
  {
   "cell_type": "code",
   "execution_count": 121,
   "id": "3704b45b",
   "metadata": {},
   "outputs": [
    {
     "data": {
      "text/plain": [
       "0     Apple\n",
       "1    Orange\n",
       "2     Money\n",
       "dtype: object"
      ]
     },
     "execution_count": 121,
     "metadata": {},
     "output_type": "execute_result"
    }
   ],
   "source": [
    "pd.Series(lst)"
   ]
  },
  {
   "cell_type": "code",
   "execution_count": 150,
   "id": "93022b27",
   "metadata": {},
   "outputs": [],
   "source": [
    "import pandas as pd\n",
    "import numpy as np\n",
    "\n",
    "lst = []\n",
    "vow = ['a', 'e', 'i', 'o', 'u']\n",
    "def calc_vows(x):    \n",
    "    cnt = 0\n",
    "    for i in vow:\n",
    "        if i in x.lower():\n",
    "            cnt +=1\n",
    "            if cnt >= 2:\n",
    "                lst.append(x)\n",
    "                break\n",
    "    return lst\n",
    "\n",
    "\n",
    "def solution():\n",
    "    s1 = pd.Series(['Apple', 'Orange', 'Plan', 'Sky', 'Money'])\n",
    "    \n",
    "    s1.apply(lambda x: calc_vows(x))\n",
    "    result = pd.Series(list(lst), index = [pd.Index(s1).get_indexer(lst)])\n",
    "    return result"
   ]
  },
  {
   "cell_type": "code",
   "execution_count": 151,
   "id": "4d5d54c4",
   "metadata": {},
   "outputs": [
    {
     "data": {
      "text/plain": [
       "0     Apple\n",
       "1    Orange\n",
       "4     Money\n",
       "dtype: object"
      ]
     },
     "execution_count": 151,
     "metadata": {},
     "output_type": "execute_result"
    }
   ],
   "source": [
    "solution()"
   ]
  },
  {
   "cell_type": "code",
   "execution_count": 2,
   "id": "71a153b2",
   "metadata": {},
   "outputs": [
    {
     "name": "stdout",
     "output_type": "stream",
     "text": [
      "0     Apple\n",
      "1    Orange\n",
      "4     Money\n",
      "dtype: object\n"
     ]
    }
   ],
   "source": [
    "# Внимание правильное решение:\n",
    "\n",
    "import pandas as pd\n",
    "import numpy as np\n",
    "\n",
    "s1 = pd.Series(['Apple', 'Orange', 'Plan', 'Sky', 'Money'])\n",
    "s2 = s1.str.count('[aeiouyAEIOUY]')\n",
    "\n",
    "print(s1[s2 >= 2])"
   ]
  },
  {
   "cell_type": "code",
   "execution_count": 162,
   "id": "52e6c9e2",
   "metadata": {},
   "outputs": [
    {
     "data": {
      "text/plain": [
       "0    2\n",
       "1    3\n",
       "2    1\n",
       "3    1\n",
       "4    3\n",
       "dtype: int64"
      ]
     },
     "execution_count": 162,
     "metadata": {},
     "output_type": "execute_result"
    }
   ],
   "source": [
    "s1.str.count('[aeiouyAEIOUY]')"
   ]
  },
  {
   "cell_type": "code",
   "execution_count": null,
   "id": "6539dbaa",
   "metadata": {},
   "outputs": [],
   "source": []
  },
  {
   "cell_type": "code",
   "execution_count": null,
   "id": "2517cc38",
   "metadata": {},
   "outputs": [],
   "source": [
    "27.06.2023"
   ]
  },
  {
   "cell_type": "markdown",
   "id": "afc4c96a",
   "metadata": {},
   "source": [
    "# Задача №17"
   ]
  },
  {
   "cell_type": "code",
   "execution_count": null,
   "id": "82117913",
   "metadata": {},
   "outputs": [],
   "source": [
    "# Сложность: 💪💪💪 \n",
    "\n",
    "# Извлеките корректные почтовые адреса из серии (s1). Используйте pattern для этой задачи.\n",
    "\n",
    "# Требуемый финальный результат (наполнение):\n",
    "# 1          help@stepik.com\n",
    "# 2                user@t.co\n",
    "# 3    lovepandas@google.com\n",
    "# dtype: object"
   ]
  },
  {
   "cell_type": "code",
   "execution_count": 14,
   "id": "05bb7845",
   "metadata": {},
   "outputs": [],
   "source": [
    "# import pandas as pd\n",
    "# import numpy as np\n",
    "\n",
    "# def solution():\n",
    "#     s1 = pd.Series(['teach pandas at stepik.com', 'help@stepik.com', 'user@t.co', 'lovepandas@google.com'])\n",
    "#     pattern ='[A-Za-z0-9._%+-]+@[A-Za-z0-9.-]+\\\\.[A-Za-z]{2,4}'\n",
    "#     result = # ваш код здесь)\n",
    "#     return result"
   ]
  },
  {
   "cell_type": "code",
   "execution_count": 16,
   "id": "965cdf71",
   "metadata": {},
   "outputs": [],
   "source": [
    "s1 = pd.Series(['teach pandas at stepik.com', 'help@stepik.com', 'user@t.co', 'lovepandas@google.com'])\n",
    "pattern ='[A-Za-z0-9._%+-]+@[A-Za-z0-9.-]+\\\\.[A-Za-z]{2,4}'"
   ]
  },
  {
   "cell_type": "code",
   "execution_count": 44,
   "id": "73a78293",
   "metadata": {},
   "outputs": [
    {
     "data": {
      "text/plain": [
       "0                         []\n",
       "1          [help@stepik.com]\n",
       "2                [user@t.co]\n",
       "3    [lovepandas@google.com]\n",
       "dtype: object"
      ]
     },
     "execution_count": 44,
     "metadata": {},
     "output_type": "execute_result"
    }
   ],
   "source": [
    "# И снова рубрика \"небольшие подсказки\".\n",
    "# Шаг 1. Воспользуемся супер функций pandas.Series.str.findall (спасибо Роману Медведеву за подсказку),\n",
    "# эта функция принимает в себя аргумент в виде паттерна (или регулярное выражение), а возвращает все\n",
    "# совпадения с этим паттерном каждой строки серии. Т.е. если не будет совпадения, \n",
    "# то функция вернут пустой список.\n",
    "\n",
    "s = s1.str.findall(pattern)\n",
    "s"
   ]
  },
  {
   "cell_type": "code",
   "execution_count": 50,
   "id": "b09a87bd",
   "metadata": {},
   "outputs": [
    {
     "data": {
      "text/plain": [
       "1          [help@stepik.com]\n",
       "2                [user@t.co]\n",
       "3    [lovepandas@google.com]\n",
       "dtype: object"
      ]
     },
     "execution_count": 50,
     "metadata": {},
     "output_type": "execute_result"
    }
   ],
   "source": [
    "ss = s[s.str.len() != 0]\n",
    "ss"
   ]
  },
  {
   "cell_type": "code",
   "execution_count": 52,
   "id": "6f64b5a0",
   "metadata": {},
   "outputs": [],
   "source": [
    "# Избавимся от квадратных скобок. Нам поможет функция pandas.Series.explode,\n",
    "# которая ничего не принимает в виде аргумента, а возвращает dtype строк \n",
    "# подмножества в виде object. Нам это и нужно.\n",
    "# код:\n",
    "# s4 = s3.explode()"
   ]
  },
  {
   "cell_type": "code",
   "execution_count": 53,
   "id": "3f7d5dd8",
   "metadata": {},
   "outputs": [
    {
     "data": {
      "text/plain": [
       "1          help@stepik.com\n",
       "2                user@t.co\n",
       "3    lovepandas@google.com\n",
       "dtype: object"
      ]
     },
     "execution_count": 53,
     "metadata": {},
     "output_type": "execute_result"
    }
   ],
   "source": [
    "ss.explode()"
   ]
  },
  {
   "cell_type": "code",
   "execution_count": 49,
   "id": "cc1ad46e",
   "metadata": {},
   "outputs": [
    {
     "data": {
      "text/plain": [
       "1          help@stepik.com\n",
       "2                user@t.co\n",
       "3    lovepandas@google.com\n",
       "dtype: object"
      ]
     },
     "execution_count": 49,
     "metadata": {},
     "output_type": "execute_result"
    }
   ],
   "source": [
    "result = ss.apply(lambda x: x[0])\n",
    "result"
   ]
  },
  {
   "cell_type": "code",
   "execution_count": 51,
   "id": "33eca755",
   "metadata": {},
   "outputs": [
    {
     "data": {
      "text/plain": [
       "1          help@stepik.com\n",
       "2                user@t.co\n",
       "3    lovepandas@google.com\n",
       "dtype: object"
      ]
     },
     "execution_count": 51,
     "metadata": {},
     "output_type": "execute_result"
    }
   ],
   "source": [
    "s[s.str.len() != 0].apply(lambda x: x[0])"
   ]
  },
  {
   "cell_type": "code",
   "execution_count": null,
   "id": "9f49a04d",
   "metadata": {},
   "outputs": [],
   "source": []
  },
  {
   "cell_type": "code",
   "execution_count": null,
   "id": "4dc4528d",
   "metadata": {},
   "outputs": [],
   "source": []
  },
  {
   "cell_type": "code",
   "execution_count": null,
   "id": "f72265e0",
   "metadata": {},
   "outputs": [],
   "source": []
  },
  {
   "cell_type": "code",
   "execution_count": null,
   "id": "1abcc9ca",
   "metadata": {},
   "outputs": [],
   "source": []
  },
  {
   "cell_type": "code",
   "execution_count": null,
   "id": "81846cb9",
   "metadata": {},
   "outputs": [],
   "source": []
  },
  {
   "cell_type": "code",
   "execution_count": null,
   "id": "06667f12",
   "metadata": {},
   "outputs": [],
   "source": []
  },
  {
   "cell_type": "code",
   "execution_count": null,
   "id": "c9a7e8d5",
   "metadata": {},
   "outputs": [],
   "source": []
  },
  {
   "cell_type": "code",
   "execution_count": null,
   "id": "d94fd4aa",
   "metadata": {},
   "outputs": [],
   "source": []
  },
  {
   "cell_type": "code",
   "execution_count": null,
   "id": "f0c37876",
   "metadata": {},
   "outputs": [],
   "source": []
  },
  {
   "cell_type": "code",
   "execution_count": null,
   "id": "2529ce3d",
   "metadata": {},
   "outputs": [],
   "source": []
  },
  {
   "cell_type": "code",
   "execution_count": null,
   "id": "4cc7e4f7",
   "metadata": {},
   "outputs": [],
   "source": []
  }
 ],
 "metadata": {
  "kernelspec": {
   "display_name": "Python 3 (ipykernel)",
   "language": "python",
   "name": "python3"
  },
  "language_info": {
   "codemirror_mode": {
    "name": "ipython",
    "version": 3
   },
   "file_extension": ".py",
   "mimetype": "text/x-python",
   "name": "python",
   "nbconvert_exporter": "python",
   "pygments_lexer": "ipython3",
   "version": "3.10.0"
  }
 },
 "nbformat": 4,
 "nbformat_minor": 5
}
