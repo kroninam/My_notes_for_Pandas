{
 "cells": [
  {
   "cell_type": "markdown",
   "metadata": {},
   "source": [
    "## Контрольная работа"
   ]
  },
  {
   "cell_type": "code",
   "execution_count": 1,
   "metadata": {},
   "outputs": [],
   "source": [
    "import pandas as pd\n",
    "import numpy as np"
   ]
  },
  {
   "cell_type": "markdown",
   "metadata": {},
   "source": [
    "### Датафрейм с которым вы будете сегодня работать"
   ]
  },
  {
   "cell_type": "code",
   "execution_count": 2,
   "metadata": {},
   "outputs": [],
   "source": [
    "data = [['Girev', 'Andrey', 'ВИП', 2815, 29, 58, 6358, 'Moscow', 'Xiaomi'],\n",
    "       ['Bykin', 'Stas', 'Все за 300', 3634, 37, 78, 602, 'Kazan',\n",
    "        'Samsung'],\n",
    "       ['Ivanov', 'Alex', 'Всё за 800', 410, 47, 81, 3582, 'Moscow',\n",
    "        'Huawei'],\n",
    "       ['Andreev', 'Sergey', 'Всё за 500', 1981, 75, 98, 5442, 'Kazan',\n",
    "        'Apple'],\n",
    "       ['Girev', 'Stas', 'Всё за 800', 4969, 43, 61, 8510, 'Moscow',\n",
    "        'Samsung'],\n",
    "       ['Bykin', 'Andrey', 'Всё за 500', 4308, 49, 39, 2525, 'Moscow',\n",
    "        'Xiaomi'],\n",
    "       ['Kozlov', 'Igor', 'Всё за 800', 300, 60, 31, 8543, 'Yakutsk',\n",
    "        'Samsung'],\n",
    "       ['Girev', 'Alex', 'Промо', 4199, 47, 90, 3925, 'Kazan', 'Apple'],\n",
    "       ['Petrov', 'Nikolay', 'ВИП', 4810, 72, 88, 7188, 'Moscow',\n",
    "        'Apple'],\n",
    "       ['Andreev', 'Sergey', 'Всё за 800', 4118, 52, 53, 419, 'Yakutsk',\n",
    "        'Apple'],\n",
    "       ['Smolov', 'Stas', 'Промо', 1991, 28, 67, 5016, 'Kazan', 'Xiaomi'],\n",
    "       ['Girev', 'Igor', 'Корпоративный', 1430, 69, 19, 9520, 'Yakutsk',\n",
    "        'Samsung'],\n",
    "       ['Kozlov', 'Andrey', 'Корпоративный', 113, 71, 82, 2785, 'Kazan',\n",
    "        'Apple'],\n",
    "       ['Ivanov', 'Sergey', 'Промо', 3394, 39, 12, 2718, 'Yakutsk',\n",
    "        'Xiaomi'],\n",
    "       ['Smolov', 'Sergey', 'Всё за 250 (архив)', 3493, 32, 6, 8959,\n",
    "        'Yakutsk', 'Huawei'],\n",
    "       ['Kozlov', 'Stas', 'Всё за 800', 4565, 59, 82, 3168, 'Moscow',\n",
    "        'Apple'],\n",
    "       ['Vlasov', 'Andrey', 'Всё за 800', 3192, 29, 74, 2852, 'Yakutsk',\n",
    "        'Xiaomi'],\n",
    "       ['Smolov', 'Alex', 'Корпоративный', 3764, 71, 22, 2768, 'Moscow',\n",
    "        'Huawei'],\n",
    "       ['Vlasov', 'Sergey', 'Всё за 800', 3816, 28, 35, 5734,\n",
    "        'Vladivostok', 'Apple'],\n",
    "       ['Bykin', 'Alex', 'Промо', 817, 65, 34, 2131, 'Vladivostok',\n",
    "        'Samsung'],\n",
    "       ['Andreev', 'Nikolay', 'Всё за 500', 385, 49, 62, 1815, 'Kazan',\n",
    "        'Xiaomi'],\n",
    "       ['Bykin', 'Igor', 'Всё за 500', 2642, 38, 11, 3787, 'Moscow',\n",
    "        'Xiaomi'],\n",
    "       ['Girev', 'Sergey', 'Все за 300', 4230, 62, 68, 5512,\n",
    "        'Vladivostok', 'Samsung'],\n",
    "       ['Bykin', 'Sergey', 'Всё за 800', 4100, 48, 39, 227, 'Moscow',\n",
    "        'Xiaomi'],\n",
    "       ['Girev', 'Stas', 'Все за 300', 3371, 53, 24, 7946, 'Kazan',\n",
    "        'Apple'],\n",
    "       ['Smolov', 'Sergey', 'Корпоративный', 3577, 70, 71, 8847,\n",
    "        'Yakutsk', 'Huawei'],\n",
    "       ['Mezov', 'Nikolay', 'Всё за 250 (архив)', 2742, 28, 19, 7115,\n",
    "        'Yakutsk', 'Huawei'],\n",
    "       ['Smolov', 'Stas', 'Всё за 500', 2644, 41, 33, 8341, 'Moscow',\n",
    "        'Xiaomi'],\n",
    "       ['Vlasov', 'Andrey', 'Всё за 500', 4725, 26, 93, 9441,\n",
    "        'Vladivostok', 'Xiaomi'],\n",
    "       ['Ivanov', 'Nikolay', 'Всё за 500', 2785, 41, 5, 2901, 'Moscow',\n",
    "        'Samsung']]\n",
    "\n",
    "df = pd.DataFrame(data, columns = ['surname', 'name', 'tarif', 'balance', 'age', 'sms', 'voice', 'city', 'phone'])"
   ]
  },
  {
   "cell_type": "code",
   "execution_count": 3,
   "metadata": {},
   "outputs": [
    {
     "data": {
      "text/html": [
       "<div>\n",
       "<style scoped>\n",
       "    .dataframe tbody tr th:only-of-type {\n",
       "        vertical-align: middle;\n",
       "    }\n",
       "\n",
       "    .dataframe tbody tr th {\n",
       "        vertical-align: top;\n",
       "    }\n",
       "\n",
       "    .dataframe thead th {\n",
       "        text-align: right;\n",
       "    }\n",
       "</style>\n",
       "<table border=\"1\" class=\"dataframe\">\n",
       "  <thead>\n",
       "    <tr style=\"text-align: right;\">\n",
       "      <th></th>\n",
       "      <th>surname</th>\n",
       "      <th>name</th>\n",
       "      <th>tarif</th>\n",
       "      <th>balance</th>\n",
       "      <th>age</th>\n",
       "      <th>sms</th>\n",
       "      <th>voice</th>\n",
       "      <th>city</th>\n",
       "      <th>phone</th>\n",
       "    </tr>\n",
       "  </thead>\n",
       "  <tbody>\n",
       "    <tr>\n",
       "      <th>0</th>\n",
       "      <td>Girev</td>\n",
       "      <td>Andrey</td>\n",
       "      <td>ВИП</td>\n",
       "      <td>2815</td>\n",
       "      <td>29</td>\n",
       "      <td>58</td>\n",
       "      <td>6358</td>\n",
       "      <td>Moscow</td>\n",
       "      <td>Xiaomi</td>\n",
       "    </tr>\n",
       "    <tr>\n",
       "      <th>1</th>\n",
       "      <td>Bykin</td>\n",
       "      <td>Stas</td>\n",
       "      <td>Все за 300</td>\n",
       "      <td>3634</td>\n",
       "      <td>37</td>\n",
       "      <td>78</td>\n",
       "      <td>602</td>\n",
       "      <td>Kazan</td>\n",
       "      <td>Samsung</td>\n",
       "    </tr>\n",
       "    <tr>\n",
       "      <th>2</th>\n",
       "      <td>Ivanov</td>\n",
       "      <td>Alex</td>\n",
       "      <td>Всё за 800</td>\n",
       "      <td>410</td>\n",
       "      <td>47</td>\n",
       "      <td>81</td>\n",
       "      <td>3582</td>\n",
       "      <td>Moscow</td>\n",
       "      <td>Huawei</td>\n",
       "    </tr>\n",
       "    <tr>\n",
       "      <th>3</th>\n",
       "      <td>Andreev</td>\n",
       "      <td>Sergey</td>\n",
       "      <td>Всё за 500</td>\n",
       "      <td>1981</td>\n",
       "      <td>75</td>\n",
       "      <td>98</td>\n",
       "      <td>5442</td>\n",
       "      <td>Kazan</td>\n",
       "      <td>Apple</td>\n",
       "    </tr>\n",
       "    <tr>\n",
       "      <th>4</th>\n",
       "      <td>Girev</td>\n",
       "      <td>Stas</td>\n",
       "      <td>Всё за 800</td>\n",
       "      <td>4969</td>\n",
       "      <td>43</td>\n",
       "      <td>61</td>\n",
       "      <td>8510</td>\n",
       "      <td>Moscow</td>\n",
       "      <td>Samsung</td>\n",
       "    </tr>\n",
       "    <tr>\n",
       "      <th>5</th>\n",
       "      <td>Bykin</td>\n",
       "      <td>Andrey</td>\n",
       "      <td>Всё за 500</td>\n",
       "      <td>4308</td>\n",
       "      <td>49</td>\n",
       "      <td>39</td>\n",
       "      <td>2525</td>\n",
       "      <td>Moscow</td>\n",
       "      <td>Xiaomi</td>\n",
       "    </tr>\n",
       "    <tr>\n",
       "      <th>6</th>\n",
       "      <td>Kozlov</td>\n",
       "      <td>Igor</td>\n",
       "      <td>Всё за 800</td>\n",
       "      <td>300</td>\n",
       "      <td>60</td>\n",
       "      <td>31</td>\n",
       "      <td>8543</td>\n",
       "      <td>Yakutsk</td>\n",
       "      <td>Samsung</td>\n",
       "    </tr>\n",
       "    <tr>\n",
       "      <th>7</th>\n",
       "      <td>Girev</td>\n",
       "      <td>Alex</td>\n",
       "      <td>Промо</td>\n",
       "      <td>4199</td>\n",
       "      <td>47</td>\n",
       "      <td>90</td>\n",
       "      <td>3925</td>\n",
       "      <td>Kazan</td>\n",
       "      <td>Apple</td>\n",
       "    </tr>\n",
       "    <tr>\n",
       "      <th>8</th>\n",
       "      <td>Petrov</td>\n",
       "      <td>Nikolay</td>\n",
       "      <td>ВИП</td>\n",
       "      <td>4810</td>\n",
       "      <td>72</td>\n",
       "      <td>88</td>\n",
       "      <td>7188</td>\n",
       "      <td>Moscow</td>\n",
       "      <td>Apple</td>\n",
       "    </tr>\n",
       "    <tr>\n",
       "      <th>9</th>\n",
       "      <td>Andreev</td>\n",
       "      <td>Sergey</td>\n",
       "      <td>Всё за 800</td>\n",
       "      <td>4118</td>\n",
       "      <td>52</td>\n",
       "      <td>53</td>\n",
       "      <td>419</td>\n",
       "      <td>Yakutsk</td>\n",
       "      <td>Apple</td>\n",
       "    </tr>\n",
       "    <tr>\n",
       "      <th>10</th>\n",
       "      <td>Smolov</td>\n",
       "      <td>Stas</td>\n",
       "      <td>Промо</td>\n",
       "      <td>1991</td>\n",
       "      <td>28</td>\n",
       "      <td>67</td>\n",
       "      <td>5016</td>\n",
       "      <td>Kazan</td>\n",
       "      <td>Xiaomi</td>\n",
       "    </tr>\n",
       "    <tr>\n",
       "      <th>11</th>\n",
       "      <td>Girev</td>\n",
       "      <td>Igor</td>\n",
       "      <td>Корпоративный</td>\n",
       "      <td>1430</td>\n",
       "      <td>69</td>\n",
       "      <td>19</td>\n",
       "      <td>9520</td>\n",
       "      <td>Yakutsk</td>\n",
       "      <td>Samsung</td>\n",
       "    </tr>\n",
       "    <tr>\n",
       "      <th>12</th>\n",
       "      <td>Kozlov</td>\n",
       "      <td>Andrey</td>\n",
       "      <td>Корпоративный</td>\n",
       "      <td>113</td>\n",
       "      <td>71</td>\n",
       "      <td>82</td>\n",
       "      <td>2785</td>\n",
       "      <td>Kazan</td>\n",
       "      <td>Apple</td>\n",
       "    </tr>\n",
       "    <tr>\n",
       "      <th>13</th>\n",
       "      <td>Ivanov</td>\n",
       "      <td>Sergey</td>\n",
       "      <td>Промо</td>\n",
       "      <td>3394</td>\n",
       "      <td>39</td>\n",
       "      <td>12</td>\n",
       "      <td>2718</td>\n",
       "      <td>Yakutsk</td>\n",
       "      <td>Xiaomi</td>\n",
       "    </tr>\n",
       "    <tr>\n",
       "      <th>14</th>\n",
       "      <td>Smolov</td>\n",
       "      <td>Sergey</td>\n",
       "      <td>Всё за 250 (архив)</td>\n",
       "      <td>3493</td>\n",
       "      <td>32</td>\n",
       "      <td>6</td>\n",
       "      <td>8959</td>\n",
       "      <td>Yakutsk</td>\n",
       "      <td>Huawei</td>\n",
       "    </tr>\n",
       "    <tr>\n",
       "      <th>15</th>\n",
       "      <td>Kozlov</td>\n",
       "      <td>Stas</td>\n",
       "      <td>Всё за 800</td>\n",
       "      <td>4565</td>\n",
       "      <td>59</td>\n",
       "      <td>82</td>\n",
       "      <td>3168</td>\n",
       "      <td>Moscow</td>\n",
       "      <td>Apple</td>\n",
       "    </tr>\n",
       "    <tr>\n",
       "      <th>16</th>\n",
       "      <td>Vlasov</td>\n",
       "      <td>Andrey</td>\n",
       "      <td>Всё за 800</td>\n",
       "      <td>3192</td>\n",
       "      <td>29</td>\n",
       "      <td>74</td>\n",
       "      <td>2852</td>\n",
       "      <td>Yakutsk</td>\n",
       "      <td>Xiaomi</td>\n",
       "    </tr>\n",
       "    <tr>\n",
       "      <th>17</th>\n",
       "      <td>Smolov</td>\n",
       "      <td>Alex</td>\n",
       "      <td>Корпоративный</td>\n",
       "      <td>3764</td>\n",
       "      <td>71</td>\n",
       "      <td>22</td>\n",
       "      <td>2768</td>\n",
       "      <td>Moscow</td>\n",
       "      <td>Huawei</td>\n",
       "    </tr>\n",
       "    <tr>\n",
       "      <th>18</th>\n",
       "      <td>Vlasov</td>\n",
       "      <td>Sergey</td>\n",
       "      <td>Всё за 800</td>\n",
       "      <td>3816</td>\n",
       "      <td>28</td>\n",
       "      <td>35</td>\n",
       "      <td>5734</td>\n",
       "      <td>Vladivostok</td>\n",
       "      <td>Apple</td>\n",
       "    </tr>\n",
       "    <tr>\n",
       "      <th>19</th>\n",
       "      <td>Bykin</td>\n",
       "      <td>Alex</td>\n",
       "      <td>Промо</td>\n",
       "      <td>817</td>\n",
       "      <td>65</td>\n",
       "      <td>34</td>\n",
       "      <td>2131</td>\n",
       "      <td>Vladivostok</td>\n",
       "      <td>Samsung</td>\n",
       "    </tr>\n",
       "    <tr>\n",
       "      <th>20</th>\n",
       "      <td>Andreev</td>\n",
       "      <td>Nikolay</td>\n",
       "      <td>Всё за 500</td>\n",
       "      <td>385</td>\n",
       "      <td>49</td>\n",
       "      <td>62</td>\n",
       "      <td>1815</td>\n",
       "      <td>Kazan</td>\n",
       "      <td>Xiaomi</td>\n",
       "    </tr>\n",
       "    <tr>\n",
       "      <th>21</th>\n",
       "      <td>Bykin</td>\n",
       "      <td>Igor</td>\n",
       "      <td>Всё за 500</td>\n",
       "      <td>2642</td>\n",
       "      <td>38</td>\n",
       "      <td>11</td>\n",
       "      <td>3787</td>\n",
       "      <td>Moscow</td>\n",
       "      <td>Xiaomi</td>\n",
       "    </tr>\n",
       "    <tr>\n",
       "      <th>22</th>\n",
       "      <td>Girev</td>\n",
       "      <td>Sergey</td>\n",
       "      <td>Все за 300</td>\n",
       "      <td>4230</td>\n",
       "      <td>62</td>\n",
       "      <td>68</td>\n",
       "      <td>5512</td>\n",
       "      <td>Vladivostok</td>\n",
       "      <td>Samsung</td>\n",
       "    </tr>\n",
       "    <tr>\n",
       "      <th>23</th>\n",
       "      <td>Bykin</td>\n",
       "      <td>Sergey</td>\n",
       "      <td>Всё за 800</td>\n",
       "      <td>4100</td>\n",
       "      <td>48</td>\n",
       "      <td>39</td>\n",
       "      <td>227</td>\n",
       "      <td>Moscow</td>\n",
       "      <td>Xiaomi</td>\n",
       "    </tr>\n",
       "    <tr>\n",
       "      <th>24</th>\n",
       "      <td>Girev</td>\n",
       "      <td>Stas</td>\n",
       "      <td>Все за 300</td>\n",
       "      <td>3371</td>\n",
       "      <td>53</td>\n",
       "      <td>24</td>\n",
       "      <td>7946</td>\n",
       "      <td>Kazan</td>\n",
       "      <td>Apple</td>\n",
       "    </tr>\n",
       "    <tr>\n",
       "      <th>25</th>\n",
       "      <td>Smolov</td>\n",
       "      <td>Sergey</td>\n",
       "      <td>Корпоративный</td>\n",
       "      <td>3577</td>\n",
       "      <td>70</td>\n",
       "      <td>71</td>\n",
       "      <td>8847</td>\n",
       "      <td>Yakutsk</td>\n",
       "      <td>Huawei</td>\n",
       "    </tr>\n",
       "    <tr>\n",
       "      <th>26</th>\n",
       "      <td>Mezov</td>\n",
       "      <td>Nikolay</td>\n",
       "      <td>Всё за 250 (архив)</td>\n",
       "      <td>2742</td>\n",
       "      <td>28</td>\n",
       "      <td>19</td>\n",
       "      <td>7115</td>\n",
       "      <td>Yakutsk</td>\n",
       "      <td>Huawei</td>\n",
       "    </tr>\n",
       "    <tr>\n",
       "      <th>27</th>\n",
       "      <td>Smolov</td>\n",
       "      <td>Stas</td>\n",
       "      <td>Всё за 500</td>\n",
       "      <td>2644</td>\n",
       "      <td>41</td>\n",
       "      <td>33</td>\n",
       "      <td>8341</td>\n",
       "      <td>Moscow</td>\n",
       "      <td>Xiaomi</td>\n",
       "    </tr>\n",
       "    <tr>\n",
       "      <th>28</th>\n",
       "      <td>Vlasov</td>\n",
       "      <td>Andrey</td>\n",
       "      <td>Всё за 500</td>\n",
       "      <td>4725</td>\n",
       "      <td>26</td>\n",
       "      <td>93</td>\n",
       "      <td>9441</td>\n",
       "      <td>Vladivostok</td>\n",
       "      <td>Xiaomi</td>\n",
       "    </tr>\n",
       "    <tr>\n",
       "      <th>29</th>\n",
       "      <td>Ivanov</td>\n",
       "      <td>Nikolay</td>\n",
       "      <td>Всё за 500</td>\n",
       "      <td>2785</td>\n",
       "      <td>41</td>\n",
       "      <td>5</td>\n",
       "      <td>2901</td>\n",
       "      <td>Moscow</td>\n",
       "      <td>Samsung</td>\n",
       "    </tr>\n",
       "  </tbody>\n",
       "</table>\n",
       "</div>"
      ],
      "text/plain": [
       "    surname     name               tarif  balance  age  sms  voice  \\\n",
       "0     Girev   Andrey                 ВИП     2815   29   58   6358   \n",
       "1     Bykin     Stas          Все за 300     3634   37   78    602   \n",
       "2    Ivanov     Alex          Всё за 800      410   47   81   3582   \n",
       "3   Andreev   Sergey          Всё за 500     1981   75   98   5442   \n",
       "4     Girev     Stas          Всё за 800     4969   43   61   8510   \n",
       "5     Bykin   Andrey          Всё за 500     4308   49   39   2525   \n",
       "6    Kozlov     Igor          Всё за 800      300   60   31   8543   \n",
       "7     Girev     Alex               Промо     4199   47   90   3925   \n",
       "8    Petrov  Nikolay                 ВИП     4810   72   88   7188   \n",
       "9   Andreev   Sergey          Всё за 800     4118   52   53    419   \n",
       "10   Smolov     Stas               Промо     1991   28   67   5016   \n",
       "11    Girev     Igor       Корпоративный     1430   69   19   9520   \n",
       "12   Kozlov   Andrey       Корпоративный      113   71   82   2785   \n",
       "13   Ivanov   Sergey               Промо     3394   39   12   2718   \n",
       "14   Smolov   Sergey  Всё за 250 (архив)     3493   32    6   8959   \n",
       "15   Kozlov     Stas          Всё за 800     4565   59   82   3168   \n",
       "16   Vlasov   Andrey          Всё за 800     3192   29   74   2852   \n",
       "17   Smolov     Alex       Корпоративный     3764   71   22   2768   \n",
       "18   Vlasov   Sergey          Всё за 800     3816   28   35   5734   \n",
       "19    Bykin     Alex               Промо      817   65   34   2131   \n",
       "20  Andreev  Nikolay          Всё за 500      385   49   62   1815   \n",
       "21    Bykin     Igor          Всё за 500     2642   38   11   3787   \n",
       "22    Girev   Sergey          Все за 300     4230   62   68   5512   \n",
       "23    Bykin   Sergey          Всё за 800     4100   48   39    227   \n",
       "24    Girev     Stas          Все за 300     3371   53   24   7946   \n",
       "25   Smolov   Sergey       Корпоративный     3577   70   71   8847   \n",
       "26    Mezov  Nikolay  Всё за 250 (архив)     2742   28   19   7115   \n",
       "27   Smolov     Stas          Всё за 500     2644   41   33   8341   \n",
       "28   Vlasov   Andrey          Всё за 500     4725   26   93   9441   \n",
       "29   Ivanov  Nikolay          Всё за 500     2785   41    5   2901   \n",
       "\n",
       "           city    phone  \n",
       "0        Moscow   Xiaomi  \n",
       "1         Kazan  Samsung  \n",
       "2        Moscow   Huawei  \n",
       "3         Kazan    Apple  \n",
       "4        Moscow  Samsung  \n",
       "5        Moscow   Xiaomi  \n",
       "6       Yakutsk  Samsung  \n",
       "7         Kazan    Apple  \n",
       "8        Moscow    Apple  \n",
       "9       Yakutsk    Apple  \n",
       "10        Kazan   Xiaomi  \n",
       "11      Yakutsk  Samsung  \n",
       "12        Kazan    Apple  \n",
       "13      Yakutsk   Xiaomi  \n",
       "14      Yakutsk   Huawei  \n",
       "15       Moscow    Apple  \n",
       "16      Yakutsk   Xiaomi  \n",
       "17       Moscow   Huawei  \n",
       "18  Vladivostok    Apple  \n",
       "19  Vladivostok  Samsung  \n",
       "20        Kazan   Xiaomi  \n",
       "21       Moscow   Xiaomi  \n",
       "22  Vladivostok  Samsung  \n",
       "23       Moscow   Xiaomi  \n",
       "24        Kazan    Apple  \n",
       "25      Yakutsk   Huawei  \n",
       "26      Yakutsk   Huawei  \n",
       "27       Moscow   Xiaomi  \n",
       "28  Vladivostok   Xiaomi  \n",
       "29       Moscow  Samsung  "
      ]
     },
     "execution_count": 3,
     "metadata": {},
     "output_type": "execute_result"
    }
   ],
   "source": [
    "df"
   ]
  },
  {
   "cell_type": "code",
   "execution_count": 1,
   "metadata": {},
   "outputs": [],
   "source": [
    "#surname    - Фамилия клиента \n",
    "#name       - Имя клиента\n",
    "#tarif      - Тариф клиента\n",
    "#balance\t- Баланс клиента\n",
    "#age\t    - Возраст клиента\n",
    "#sms\t    - Количество отправленных СМС\n",
    "#voice\t    - Количество секунд разговора (звонки)\n",
    "#city\t    - Город клиента\n",
    "#phone      - Марка телефона клиента"
   ]
  },
  {
   "cell_type": "markdown",
   "metadata": {},
   "source": [
    "## Ответы на вопросы загрузите на степик"
   ]
  },
  {
   "cell_type": "markdown",
   "metadata": {},
   "source": [
    "### Вопрос 1: определите средний возраст клиента"
   ]
  },
  {
   "cell_type": "code",
   "execution_count": 5,
   "metadata": {},
   "outputs": [
    {
     "data": {
      "text/plain": [
       "48.6"
      ]
     },
     "execution_count": 5,
     "metadata": {},
     "output_type": "execute_result"
    }
   ],
   "source": [
    "df.age.mean()"
   ]
  },
  {
   "cell_type": "markdown",
   "metadata": {},
   "source": [
    "### Вопрос 2: на каком тарифе средний возраст клиента наименьший"
   ]
  },
  {
   "cell_type": "code",
   "execution_count": 8,
   "metadata": {},
   "outputs": [
    {
     "data": {
      "text/html": [
       "<div>\n",
       "<style scoped>\n",
       "    .dataframe tbody tr th:only-of-type {\n",
       "        vertical-align: middle;\n",
       "    }\n",
       "\n",
       "    .dataframe tbody tr th {\n",
       "        vertical-align: top;\n",
       "    }\n",
       "\n",
       "    .dataframe thead th {\n",
       "        text-align: right;\n",
       "    }\n",
       "</style>\n",
       "<table border=\"1\" class=\"dataframe\">\n",
       "  <thead>\n",
       "    <tr style=\"text-align: right;\">\n",
       "      <th></th>\n",
       "      <th>tarif</th>\n",
       "      <th>age</th>\n",
       "    </tr>\n",
       "  </thead>\n",
       "  <tbody>\n",
       "    <tr>\n",
       "      <th>0</th>\n",
       "      <td>ВИП</td>\n",
       "      <td>29</td>\n",
       "    </tr>\n",
       "    <tr>\n",
       "      <th>1</th>\n",
       "      <td>Все за 300</td>\n",
       "      <td>37</td>\n",
       "    </tr>\n",
       "    <tr>\n",
       "      <th>2</th>\n",
       "      <td>Всё за 800</td>\n",
       "      <td>47</td>\n",
       "    </tr>\n",
       "    <tr>\n",
       "      <th>3</th>\n",
       "      <td>Всё за 500</td>\n",
       "      <td>75</td>\n",
       "    </tr>\n",
       "    <tr>\n",
       "      <th>4</th>\n",
       "      <td>Всё за 800</td>\n",
       "      <td>43</td>\n",
       "    </tr>\n",
       "    <tr>\n",
       "      <th>5</th>\n",
       "      <td>Всё за 500</td>\n",
       "      <td>49</td>\n",
       "    </tr>\n",
       "    <tr>\n",
       "      <th>6</th>\n",
       "      <td>Всё за 800</td>\n",
       "      <td>60</td>\n",
       "    </tr>\n",
       "    <tr>\n",
       "      <th>7</th>\n",
       "      <td>Промо</td>\n",
       "      <td>47</td>\n",
       "    </tr>\n",
       "    <tr>\n",
       "      <th>8</th>\n",
       "      <td>ВИП</td>\n",
       "      <td>72</td>\n",
       "    </tr>\n",
       "    <tr>\n",
       "      <th>9</th>\n",
       "      <td>Всё за 800</td>\n",
       "      <td>52</td>\n",
       "    </tr>\n",
       "    <tr>\n",
       "      <th>10</th>\n",
       "      <td>Промо</td>\n",
       "      <td>28</td>\n",
       "    </tr>\n",
       "    <tr>\n",
       "      <th>11</th>\n",
       "      <td>Корпоративный</td>\n",
       "      <td>69</td>\n",
       "    </tr>\n",
       "    <tr>\n",
       "      <th>12</th>\n",
       "      <td>Корпоративный</td>\n",
       "      <td>71</td>\n",
       "    </tr>\n",
       "    <tr>\n",
       "      <th>13</th>\n",
       "      <td>Промо</td>\n",
       "      <td>39</td>\n",
       "    </tr>\n",
       "    <tr>\n",
       "      <th>14</th>\n",
       "      <td>Всё за 250 (архив)</td>\n",
       "      <td>32</td>\n",
       "    </tr>\n",
       "    <tr>\n",
       "      <th>15</th>\n",
       "      <td>Всё за 800</td>\n",
       "      <td>59</td>\n",
       "    </tr>\n",
       "    <tr>\n",
       "      <th>16</th>\n",
       "      <td>Всё за 800</td>\n",
       "      <td>29</td>\n",
       "    </tr>\n",
       "    <tr>\n",
       "      <th>17</th>\n",
       "      <td>Корпоративный</td>\n",
       "      <td>71</td>\n",
       "    </tr>\n",
       "    <tr>\n",
       "      <th>18</th>\n",
       "      <td>Всё за 800</td>\n",
       "      <td>28</td>\n",
       "    </tr>\n",
       "    <tr>\n",
       "      <th>19</th>\n",
       "      <td>Промо</td>\n",
       "      <td>65</td>\n",
       "    </tr>\n",
       "    <tr>\n",
       "      <th>20</th>\n",
       "      <td>Всё за 500</td>\n",
       "      <td>49</td>\n",
       "    </tr>\n",
       "    <tr>\n",
       "      <th>21</th>\n",
       "      <td>Всё за 500</td>\n",
       "      <td>38</td>\n",
       "    </tr>\n",
       "    <tr>\n",
       "      <th>22</th>\n",
       "      <td>Все за 300</td>\n",
       "      <td>62</td>\n",
       "    </tr>\n",
       "    <tr>\n",
       "      <th>23</th>\n",
       "      <td>Всё за 800</td>\n",
       "      <td>48</td>\n",
       "    </tr>\n",
       "    <tr>\n",
       "      <th>24</th>\n",
       "      <td>Все за 300</td>\n",
       "      <td>53</td>\n",
       "    </tr>\n",
       "    <tr>\n",
       "      <th>25</th>\n",
       "      <td>Корпоративный</td>\n",
       "      <td>70</td>\n",
       "    </tr>\n",
       "    <tr>\n",
       "      <th>26</th>\n",
       "      <td>Всё за 250 (архив)</td>\n",
       "      <td>28</td>\n",
       "    </tr>\n",
       "    <tr>\n",
       "      <th>27</th>\n",
       "      <td>Всё за 500</td>\n",
       "      <td>41</td>\n",
       "    </tr>\n",
       "    <tr>\n",
       "      <th>28</th>\n",
       "      <td>Всё за 500</td>\n",
       "      <td>26</td>\n",
       "    </tr>\n",
       "    <tr>\n",
       "      <th>29</th>\n",
       "      <td>Всё за 500</td>\n",
       "      <td>41</td>\n",
       "    </tr>\n",
       "  </tbody>\n",
       "</table>\n",
       "</div>"
      ],
      "text/plain": [
       "                 tarif  age\n",
       "0                  ВИП   29\n",
       "1           Все за 300   37\n",
       "2           Всё за 800   47\n",
       "3           Всё за 500   75\n",
       "4           Всё за 800   43\n",
       "5           Всё за 500   49\n",
       "6           Всё за 800   60\n",
       "7                Промо   47\n",
       "8                  ВИП   72\n",
       "9           Всё за 800   52\n",
       "10               Промо   28\n",
       "11       Корпоративный   69\n",
       "12       Корпоративный   71\n",
       "13               Промо   39\n",
       "14  Всё за 250 (архив)   32\n",
       "15          Всё за 800   59\n",
       "16          Всё за 800   29\n",
       "17       Корпоративный   71\n",
       "18          Всё за 800   28\n",
       "19               Промо   65\n",
       "20          Всё за 500   49\n",
       "21          Всё за 500   38\n",
       "22          Все за 300   62\n",
       "23          Всё за 800   48\n",
       "24          Все за 300   53\n",
       "25       Корпоративный   70\n",
       "26  Всё за 250 (архив)   28\n",
       "27          Всё за 500   41\n",
       "28          Всё за 500   26\n",
       "29          Всё за 500   41"
      ]
     },
     "execution_count": 8,
     "metadata": {},
     "output_type": "execute_result"
    }
   ],
   "source": [
    "df.reindex(['tarif', 'age'], axis = 1)"
   ]
  },
  {
   "cell_type": "code",
   "execution_count": 14,
   "metadata": {},
   "outputs": [
    {
     "data": {
      "text/plain": [
       "array(['ВИП', 'Все за 300', 'Всё за 800', 'Всё за 500', 'Промо',\n",
       "       'Корпоративный', 'Всё за 250 (архив)'], dtype=object)"
      ]
     },
     "execution_count": 14,
     "metadata": {},
     "output_type": "execute_result"
    }
   ],
   "source": [
    "df.tarif.unique()"
   ]
  },
  {
   "cell_type": "code",
   "execution_count": 17,
   "metadata": {},
   "outputs": [
    {
     "data": {
      "text/plain": [
       "3     Всё за 500\n",
       "5     Всё за 500\n",
       "20    Всё за 500\n",
       "21    Всё за 500\n",
       "27    Всё за 500\n",
       "28    Всё за 500\n",
       "29    Всё за 500\n",
       "Name: tarif, dtype: object"
      ]
     },
     "execution_count": 17,
     "metadata": {},
     "output_type": "execute_result"
    }
   ],
   "source": [
    "df.tarif[df.tarif == 'Всё за 500']"
   ]
  },
  {
   "cell_type": "code",
   "execution_count": 20,
   "metadata": {},
   "outputs": [
    {
     "data": {
      "text/plain": [
       "45.57142857142857"
      ]
     },
     "execution_count": 20,
     "metadata": {},
     "output_type": "execute_result"
    }
   ],
   "source": [
    "df[df.tarif == 'Всё за 500'].age.mean()"
   ]
  },
  {
   "cell_type": "code",
   "execution_count": 25,
   "metadata": {},
   "outputs": [],
   "source": [
    "d = {}\n",
    "for i in df.tarif.unique():\n",
    "    d.setdefault(i, df[df.tarif == i].age.mean())\n",
    "    "
   ]
  },
  {
   "cell_type": "code",
   "execution_count": 27,
   "metadata": {},
   "outputs": [
    {
     "data": {
      "text/plain": [
       "{'ВИП': 50.5,\n",
       " 'Все за 300': 50.666666666666664,\n",
       " 'Всё за 800': 45.75,\n",
       " 'Всё за 500': 45.57142857142857,\n",
       " 'Промо': 44.75,\n",
       " 'Корпоративный': 70.25,\n",
       " 'Всё за 250 (архив)': 30.0}"
      ]
     },
     "execution_count": 27,
     "metadata": {},
     "output_type": "execute_result"
    }
   ],
   "source": [
    "d"
   ]
  },
  {
   "cell_type": "code",
   "execution_count": 29,
   "metadata": {},
   "outputs": [
    {
     "name": "stdout",
     "output_type": "stream",
     "text": [
      "Всё за 250 (архив) 30.0\n",
      "Промо 44.75\n",
      "Всё за 500 45.57142857142857\n",
      "Всё за 800 45.75\n",
      "ВИП 50.5\n",
      "Все за 300 50.666666666666664\n",
      "Корпоративный 70.25\n"
     ]
    }
   ],
   "source": [
    "for k,w in sorted(d.items(), key = lambda x: x[1]):\n",
    "    print (k,w)"
   ]
  },
  {
   "cell_type": "code",
   "execution_count": null,
   "metadata": {},
   "outputs": [],
   "source": []
  },
  {
   "cell_type": "markdown",
   "metadata": {},
   "source": [
    "### Вопрос 3: с какого города больше всего клиентов?"
   ]
  },
  {
   "cell_type": "code",
   "execution_count": 37,
   "metadata": {},
   "outputs": [
    {
     "data": {
      "text/plain": [
       "count         30\n",
       "unique         4\n",
       "top       Moscow\n",
       "freq          11\n",
       "Name: city, dtype: object"
      ]
     },
     "execution_count": 37,
     "metadata": {},
     "output_type": "execute_result"
    }
   ],
   "source": [
    "df.city.describe()\n"
   ]
  },
  {
   "cell_type": "code",
   "execution_count": null,
   "metadata": {},
   "outputs": [],
   "source": []
  },
  {
   "cell_type": "markdown",
   "metadata": {},
   "source": [
    "### Вопрос 4: на каком тарифе отправили больше всего СМС?"
   ]
  },
  {
   "cell_type": "code",
   "execution_count": 39,
   "metadata": {},
   "outputs": [
    {
     "data": {
      "text/plain": [
       "array(['ВИП', 'Все за 300', 'Всё за 800', 'Всё за 500', 'Промо',\n",
       "       'Корпоративный', 'Всё за 250 (архив)'], dtype=object)"
      ]
     },
     "execution_count": 39,
     "metadata": {},
     "output_type": "execute_result"
    }
   ],
   "source": [
    "df.tarif.unique()"
   ]
  },
  {
   "cell_type": "code",
   "execution_count": 41,
   "metadata": {},
   "outputs": [
    {
     "data": {
      "text/html": [
       "<div>\n",
       "<style scoped>\n",
       "    .dataframe tbody tr th:only-of-type {\n",
       "        vertical-align: middle;\n",
       "    }\n",
       "\n",
       "    .dataframe tbody tr th {\n",
       "        vertical-align: top;\n",
       "    }\n",
       "\n",
       "    .dataframe thead th {\n",
       "        text-align: right;\n",
       "    }\n",
       "</style>\n",
       "<table border=\"1\" class=\"dataframe\">\n",
       "  <thead>\n",
       "    <tr style=\"text-align: right;\">\n",
       "      <th></th>\n",
       "      <th>tarif</th>\n",
       "      <th>sms</th>\n",
       "    </tr>\n",
       "  </thead>\n",
       "  <tbody>\n",
       "    <tr>\n",
       "      <th>0</th>\n",
       "      <td>ВИП</td>\n",
       "      <td>58</td>\n",
       "    </tr>\n",
       "    <tr>\n",
       "      <th>1</th>\n",
       "      <td>Все за 300</td>\n",
       "      <td>78</td>\n",
       "    </tr>\n",
       "    <tr>\n",
       "      <th>2</th>\n",
       "      <td>Всё за 800</td>\n",
       "      <td>81</td>\n",
       "    </tr>\n",
       "    <tr>\n",
       "      <th>3</th>\n",
       "      <td>Всё за 500</td>\n",
       "      <td>98</td>\n",
       "    </tr>\n",
       "    <tr>\n",
       "      <th>4</th>\n",
       "      <td>Всё за 800</td>\n",
       "      <td>61</td>\n",
       "    </tr>\n",
       "    <tr>\n",
       "      <th>5</th>\n",
       "      <td>Всё за 500</td>\n",
       "      <td>39</td>\n",
       "    </tr>\n",
       "    <tr>\n",
       "      <th>6</th>\n",
       "      <td>Всё за 800</td>\n",
       "      <td>31</td>\n",
       "    </tr>\n",
       "    <tr>\n",
       "      <th>7</th>\n",
       "      <td>Промо</td>\n",
       "      <td>90</td>\n",
       "    </tr>\n",
       "    <tr>\n",
       "      <th>8</th>\n",
       "      <td>ВИП</td>\n",
       "      <td>88</td>\n",
       "    </tr>\n",
       "    <tr>\n",
       "      <th>9</th>\n",
       "      <td>Всё за 800</td>\n",
       "      <td>53</td>\n",
       "    </tr>\n",
       "    <tr>\n",
       "      <th>10</th>\n",
       "      <td>Промо</td>\n",
       "      <td>67</td>\n",
       "    </tr>\n",
       "    <tr>\n",
       "      <th>11</th>\n",
       "      <td>Корпоративный</td>\n",
       "      <td>19</td>\n",
       "    </tr>\n",
       "    <tr>\n",
       "      <th>12</th>\n",
       "      <td>Корпоративный</td>\n",
       "      <td>82</td>\n",
       "    </tr>\n",
       "    <tr>\n",
       "      <th>13</th>\n",
       "      <td>Промо</td>\n",
       "      <td>12</td>\n",
       "    </tr>\n",
       "    <tr>\n",
       "      <th>14</th>\n",
       "      <td>Всё за 250 (архив)</td>\n",
       "      <td>6</td>\n",
       "    </tr>\n",
       "    <tr>\n",
       "      <th>15</th>\n",
       "      <td>Всё за 800</td>\n",
       "      <td>82</td>\n",
       "    </tr>\n",
       "    <tr>\n",
       "      <th>16</th>\n",
       "      <td>Всё за 800</td>\n",
       "      <td>74</td>\n",
       "    </tr>\n",
       "    <tr>\n",
       "      <th>17</th>\n",
       "      <td>Корпоративный</td>\n",
       "      <td>22</td>\n",
       "    </tr>\n",
       "    <tr>\n",
       "      <th>18</th>\n",
       "      <td>Всё за 800</td>\n",
       "      <td>35</td>\n",
       "    </tr>\n",
       "    <tr>\n",
       "      <th>19</th>\n",
       "      <td>Промо</td>\n",
       "      <td>34</td>\n",
       "    </tr>\n",
       "    <tr>\n",
       "      <th>20</th>\n",
       "      <td>Всё за 500</td>\n",
       "      <td>62</td>\n",
       "    </tr>\n",
       "    <tr>\n",
       "      <th>21</th>\n",
       "      <td>Всё за 500</td>\n",
       "      <td>11</td>\n",
       "    </tr>\n",
       "    <tr>\n",
       "      <th>22</th>\n",
       "      <td>Все за 300</td>\n",
       "      <td>68</td>\n",
       "    </tr>\n",
       "    <tr>\n",
       "      <th>23</th>\n",
       "      <td>Всё за 800</td>\n",
       "      <td>39</td>\n",
       "    </tr>\n",
       "    <tr>\n",
       "      <th>24</th>\n",
       "      <td>Все за 300</td>\n",
       "      <td>24</td>\n",
       "    </tr>\n",
       "    <tr>\n",
       "      <th>25</th>\n",
       "      <td>Корпоративный</td>\n",
       "      <td>71</td>\n",
       "    </tr>\n",
       "    <tr>\n",
       "      <th>26</th>\n",
       "      <td>Всё за 250 (архив)</td>\n",
       "      <td>19</td>\n",
       "    </tr>\n",
       "    <tr>\n",
       "      <th>27</th>\n",
       "      <td>Всё за 500</td>\n",
       "      <td>33</td>\n",
       "    </tr>\n",
       "    <tr>\n",
       "      <th>28</th>\n",
       "      <td>Всё за 500</td>\n",
       "      <td>93</td>\n",
       "    </tr>\n",
       "    <tr>\n",
       "      <th>29</th>\n",
       "      <td>Всё за 500</td>\n",
       "      <td>5</td>\n",
       "    </tr>\n",
       "  </tbody>\n",
       "</table>\n",
       "</div>"
      ],
      "text/plain": [
       "                 tarif  sms\n",
       "0                  ВИП   58\n",
       "1           Все за 300   78\n",
       "2           Всё за 800   81\n",
       "3           Всё за 500   98\n",
       "4           Всё за 800   61\n",
       "5           Всё за 500   39\n",
       "6           Всё за 800   31\n",
       "7                Промо   90\n",
       "8                  ВИП   88\n",
       "9           Всё за 800   53\n",
       "10               Промо   67\n",
       "11       Корпоративный   19\n",
       "12       Корпоративный   82\n",
       "13               Промо   12\n",
       "14  Всё за 250 (архив)    6\n",
       "15          Всё за 800   82\n",
       "16          Всё за 800   74\n",
       "17       Корпоративный   22\n",
       "18          Всё за 800   35\n",
       "19               Промо   34\n",
       "20          Всё за 500   62\n",
       "21          Всё за 500   11\n",
       "22          Все за 300   68\n",
       "23          Всё за 800   39\n",
       "24          Все за 300   24\n",
       "25       Корпоративный   71\n",
       "26  Всё за 250 (архив)   19\n",
       "27          Всё за 500   33\n",
       "28          Всё за 500   93\n",
       "29          Всё за 500    5"
      ]
     },
     "execution_count": 41,
     "metadata": {},
     "output_type": "execute_result"
    }
   ],
   "source": [
    "df.reindex(['tarif', 'sms'], axis=1)"
   ]
  },
  {
   "cell_type": "code",
   "execution_count": 48,
   "metadata": {},
   "outputs": [
    {
     "data": {
      "text/plain": [
       "341"
      ]
     },
     "execution_count": 48,
     "metadata": {},
     "output_type": "execute_result"
    }
   ],
   "source": [
    "sum(df.sms[df.tarif == 'Всё за 500'])"
   ]
  },
  {
   "cell_type": "code",
   "execution_count": 50,
   "metadata": {},
   "outputs": [],
   "source": [
    "d = {}\n",
    "for i in df.tarif.unique():\n",
    "    d.setdefault(i, sum(df.sms[df.tarif == i]))"
   ]
  },
  {
   "cell_type": "code",
   "execution_count": 56,
   "metadata": {},
   "outputs": [
    {
     "name": "stdout",
     "output_type": "stream",
     "text": [
      "Всё за 800 -  456\n",
      "Всё за 500 -  341\n",
      "Промо -  203\n",
      "Корпоративный -  194\n",
      "Все за 300 -  170\n",
      "ВИП -  146\n",
      "Всё за 250 (архив) -  25\n"
     ]
    }
   ],
   "source": [
    "for k,w in sorted(d.items(), key = lambda x: x[1], reverse = True):\n",
    "    print(k, \"- \", w)"
   ]
  },
  {
   "cell_type": "code",
   "execution_count": null,
   "metadata": {},
   "outputs": [],
   "source": []
  },
  {
   "cell_type": "markdown",
   "metadata": {},
   "source": [
    "### Вопрос 5: определите самую популярную марку смартфона у пользователей до 40 (включительно) "
   ]
  },
  {
   "cell_type": "code",
   "execution_count": 63,
   "metadata": {},
   "outputs": [
    {
     "data": {
      "text/html": [
       "<div>\n",
       "<style scoped>\n",
       "    .dataframe tbody tr th:only-of-type {\n",
       "        vertical-align: middle;\n",
       "    }\n",
       "\n",
       "    .dataframe tbody tr th {\n",
       "        vertical-align: top;\n",
       "    }\n",
       "\n",
       "    .dataframe thead th {\n",
       "        text-align: right;\n",
       "    }\n",
       "</style>\n",
       "<table border=\"1\" class=\"dataframe\">\n",
       "  <thead>\n",
       "    <tr style=\"text-align: right;\">\n",
       "      <th></th>\n",
       "      <th>age</th>\n",
       "      <th>phone</th>\n",
       "    </tr>\n",
       "  </thead>\n",
       "  <tbody>\n",
       "    <tr>\n",
       "      <th>0</th>\n",
       "      <td>29</td>\n",
       "      <td>Xiaomi</td>\n",
       "    </tr>\n",
       "    <tr>\n",
       "      <th>1</th>\n",
       "      <td>37</td>\n",
       "      <td>Samsung</td>\n",
       "    </tr>\n",
       "    <tr>\n",
       "      <th>10</th>\n",
       "      <td>28</td>\n",
       "      <td>Xiaomi</td>\n",
       "    </tr>\n",
       "    <tr>\n",
       "      <th>13</th>\n",
       "      <td>39</td>\n",
       "      <td>Xiaomi</td>\n",
       "    </tr>\n",
       "    <tr>\n",
       "      <th>14</th>\n",
       "      <td>32</td>\n",
       "      <td>Huawei</td>\n",
       "    </tr>\n",
       "    <tr>\n",
       "      <th>16</th>\n",
       "      <td>29</td>\n",
       "      <td>Xiaomi</td>\n",
       "    </tr>\n",
       "    <tr>\n",
       "      <th>18</th>\n",
       "      <td>28</td>\n",
       "      <td>Apple</td>\n",
       "    </tr>\n",
       "    <tr>\n",
       "      <th>21</th>\n",
       "      <td>38</td>\n",
       "      <td>Xiaomi</td>\n",
       "    </tr>\n",
       "    <tr>\n",
       "      <th>26</th>\n",
       "      <td>28</td>\n",
       "      <td>Huawei</td>\n",
       "    </tr>\n",
       "    <tr>\n",
       "      <th>28</th>\n",
       "      <td>26</td>\n",
       "      <td>Xiaomi</td>\n",
       "    </tr>\n",
       "  </tbody>\n",
       "</table>\n",
       "</div>"
      ],
      "text/plain": [
       "    age    phone\n",
       "0    29   Xiaomi\n",
       "1    37  Samsung\n",
       "10   28   Xiaomi\n",
       "13   39   Xiaomi\n",
       "14   32   Huawei\n",
       "16   29   Xiaomi\n",
       "18   28    Apple\n",
       "21   38   Xiaomi\n",
       "26   28   Huawei\n",
       "28   26   Xiaomi"
      ]
     },
     "execution_count": 63,
     "metadata": {},
     "output_type": "execute_result"
    }
   ],
   "source": [
    "df.reindex(['age','phone'], axis = 1)[df.age<=40]"
   ]
  },
  {
   "cell_type": "code",
   "execution_count": 64,
   "metadata": {},
   "outputs": [
    {
     "data": {
      "text/html": [
       "<div>\n",
       "<style scoped>\n",
       "    .dataframe tbody tr th:only-of-type {\n",
       "        vertical-align: middle;\n",
       "    }\n",
       "\n",
       "    .dataframe tbody tr th {\n",
       "        vertical-align: top;\n",
       "    }\n",
       "\n",
       "    .dataframe thead th {\n",
       "        text-align: right;\n",
       "    }\n",
       "</style>\n",
       "<table border=\"1\" class=\"dataframe\">\n",
       "  <thead>\n",
       "    <tr style=\"text-align: right;\">\n",
       "      <th></th>\n",
       "      <th>phone</th>\n",
       "    </tr>\n",
       "  </thead>\n",
       "  <tbody>\n",
       "    <tr>\n",
       "      <th>count</th>\n",
       "      <td>10</td>\n",
       "    </tr>\n",
       "    <tr>\n",
       "      <th>unique</th>\n",
       "      <td>4</td>\n",
       "    </tr>\n",
       "    <tr>\n",
       "      <th>top</th>\n",
       "      <td>Xiaomi</td>\n",
       "    </tr>\n",
       "    <tr>\n",
       "      <th>freq</th>\n",
       "      <td>6</td>\n",
       "    </tr>\n",
       "  </tbody>\n",
       "</table>\n",
       "</div>"
      ],
      "text/plain": [
       "         phone\n",
       "count       10\n",
       "unique       4\n",
       "top     Xiaomi\n",
       "freq         6"
      ]
     },
     "execution_count": 64,
     "metadata": {},
     "output_type": "execute_result"
    }
   ],
   "source": [
    "df.reindex(['phone'], axis = 1)[df.age<=40].describe()"
   ]
  },
  {
   "cell_type": "code",
   "execution_count": null,
   "metadata": {},
   "outputs": [],
   "source": []
  },
  {
   "cell_type": "markdown",
   "metadata": {},
   "source": [
    "### Вопрос 6: определите самую популярную марку смартфона у пользователей старше 40 "
   ]
  },
  {
   "cell_type": "code",
   "execution_count": 72,
   "metadata": {},
   "outputs": [
    {
     "data": {
      "text/html": [
       "<div>\n",
       "<style scoped>\n",
       "    .dataframe tbody tr th:only-of-type {\n",
       "        vertical-align: middle;\n",
       "    }\n",
       "\n",
       "    .dataframe tbody tr th {\n",
       "        vertical-align: top;\n",
       "    }\n",
       "\n",
       "    .dataframe thead th {\n",
       "        text-align: right;\n",
       "    }\n",
       "</style>\n",
       "<table border=\"1\" class=\"dataframe\">\n",
       "  <thead>\n",
       "    <tr style=\"text-align: right;\">\n",
       "      <th></th>\n",
       "      <th>age</th>\n",
       "      <th>phone</th>\n",
       "    </tr>\n",
       "  </thead>\n",
       "  <tbody>\n",
       "    <tr>\n",
       "      <th>2</th>\n",
       "      <td>47</td>\n",
       "      <td>Huawei</td>\n",
       "    </tr>\n",
       "    <tr>\n",
       "      <th>3</th>\n",
       "      <td>75</td>\n",
       "      <td>Apple</td>\n",
       "    </tr>\n",
       "    <tr>\n",
       "      <th>4</th>\n",
       "      <td>43</td>\n",
       "      <td>Samsung</td>\n",
       "    </tr>\n",
       "    <tr>\n",
       "      <th>5</th>\n",
       "      <td>49</td>\n",
       "      <td>Xiaomi</td>\n",
       "    </tr>\n",
       "    <tr>\n",
       "      <th>6</th>\n",
       "      <td>60</td>\n",
       "      <td>Samsung</td>\n",
       "    </tr>\n",
       "    <tr>\n",
       "      <th>7</th>\n",
       "      <td>47</td>\n",
       "      <td>Apple</td>\n",
       "    </tr>\n",
       "    <tr>\n",
       "      <th>8</th>\n",
       "      <td>72</td>\n",
       "      <td>Apple</td>\n",
       "    </tr>\n",
       "    <tr>\n",
       "      <th>9</th>\n",
       "      <td>52</td>\n",
       "      <td>Apple</td>\n",
       "    </tr>\n",
       "    <tr>\n",
       "      <th>11</th>\n",
       "      <td>69</td>\n",
       "      <td>Samsung</td>\n",
       "    </tr>\n",
       "    <tr>\n",
       "      <th>12</th>\n",
       "      <td>71</td>\n",
       "      <td>Apple</td>\n",
       "    </tr>\n",
       "    <tr>\n",
       "      <th>15</th>\n",
       "      <td>59</td>\n",
       "      <td>Apple</td>\n",
       "    </tr>\n",
       "    <tr>\n",
       "      <th>17</th>\n",
       "      <td>71</td>\n",
       "      <td>Huawei</td>\n",
       "    </tr>\n",
       "    <tr>\n",
       "      <th>19</th>\n",
       "      <td>65</td>\n",
       "      <td>Samsung</td>\n",
       "    </tr>\n",
       "    <tr>\n",
       "      <th>20</th>\n",
       "      <td>49</td>\n",
       "      <td>Xiaomi</td>\n",
       "    </tr>\n",
       "    <tr>\n",
       "      <th>22</th>\n",
       "      <td>62</td>\n",
       "      <td>Samsung</td>\n",
       "    </tr>\n",
       "    <tr>\n",
       "      <th>23</th>\n",
       "      <td>48</td>\n",
       "      <td>Xiaomi</td>\n",
       "    </tr>\n",
       "    <tr>\n",
       "      <th>24</th>\n",
       "      <td>53</td>\n",
       "      <td>Apple</td>\n",
       "    </tr>\n",
       "    <tr>\n",
       "      <th>25</th>\n",
       "      <td>70</td>\n",
       "      <td>Huawei</td>\n",
       "    </tr>\n",
       "    <tr>\n",
       "      <th>27</th>\n",
       "      <td>41</td>\n",
       "      <td>Xiaomi</td>\n",
       "    </tr>\n",
       "    <tr>\n",
       "      <th>29</th>\n",
       "      <td>41</td>\n",
       "      <td>Samsung</td>\n",
       "    </tr>\n",
       "  </tbody>\n",
       "</table>\n",
       "</div>"
      ],
      "text/plain": [
       "    age    phone\n",
       "2    47   Huawei\n",
       "3    75    Apple\n",
       "4    43  Samsung\n",
       "5    49   Xiaomi\n",
       "6    60  Samsung\n",
       "7    47    Apple\n",
       "8    72    Apple\n",
       "9    52    Apple\n",
       "11   69  Samsung\n",
       "12   71    Apple\n",
       "15   59    Apple\n",
       "17   71   Huawei\n",
       "19   65  Samsung\n",
       "20   49   Xiaomi\n",
       "22   62  Samsung\n",
       "23   48   Xiaomi\n",
       "24   53    Apple\n",
       "25   70   Huawei\n",
       "27   41   Xiaomi\n",
       "29   41  Samsung"
      ]
     },
     "execution_count": 72,
     "metadata": {},
     "output_type": "execute_result"
    }
   ],
   "source": [
    "df.reindex(['age','phone'], axis = 1)[df.age>40]"
   ]
  },
  {
   "cell_type": "code",
   "execution_count": 74,
   "metadata": {},
   "outputs": [
    {
     "data": {
      "text/html": [
       "<div>\n",
       "<style scoped>\n",
       "    .dataframe tbody tr th:only-of-type {\n",
       "        vertical-align: middle;\n",
       "    }\n",
       "\n",
       "    .dataframe tbody tr th {\n",
       "        vertical-align: top;\n",
       "    }\n",
       "\n",
       "    .dataframe thead th {\n",
       "        text-align: right;\n",
       "    }\n",
       "</style>\n",
       "<table border=\"1\" class=\"dataframe\">\n",
       "  <thead>\n",
       "    <tr style=\"text-align: right;\">\n",
       "      <th></th>\n",
       "      <th>phone</th>\n",
       "    </tr>\n",
       "  </thead>\n",
       "  <tbody>\n",
       "    <tr>\n",
       "      <th>count</th>\n",
       "      <td>20</td>\n",
       "    </tr>\n",
       "    <tr>\n",
       "      <th>unique</th>\n",
       "      <td>4</td>\n",
       "    </tr>\n",
       "    <tr>\n",
       "      <th>top</th>\n",
       "      <td>Apple</td>\n",
       "    </tr>\n",
       "    <tr>\n",
       "      <th>freq</th>\n",
       "      <td>7</td>\n",
       "    </tr>\n",
       "  </tbody>\n",
       "</table>\n",
       "</div>"
      ],
      "text/plain": [
       "        phone\n",
       "count      20\n",
       "unique      4\n",
       "top     Apple\n",
       "freq        7"
      ]
     },
     "execution_count": 74,
     "metadata": {},
     "output_type": "execute_result"
    }
   ],
   "source": [
    "df.reindex(['phone'], axis = 1)[df.age>40].describe()"
   ]
  },
  {
   "cell_type": "code",
   "execution_count": null,
   "metadata": {},
   "outputs": [],
   "source": []
  },
  {
   "cell_type": "markdown",
   "metadata": {},
   "source": [
    "### Вопрос 7: В каком городе клиенты меньше всего отправляют СМС"
   ]
  },
  {
   "cell_type": "code",
   "execution_count": 76,
   "metadata": {},
   "outputs": [
    {
     "data": {
      "text/plain": [
       "array(['Moscow', 'Kazan', 'Yakutsk', 'Vladivostok'], dtype=object)"
      ]
     },
     "execution_count": 76,
     "metadata": {},
     "output_type": "execute_result"
    }
   ],
   "source": [
    "df['city'].unique()"
   ]
  },
  {
   "cell_type": "code",
   "execution_count": 78,
   "metadata": {},
   "outputs": [
    {
     "data": {
      "text/plain": [
       "519"
      ]
     },
     "execution_count": 78,
     "metadata": {},
     "output_type": "execute_result"
    }
   ],
   "source": [
    "sum(df.sms[df.city == 'Moscow'])"
   ]
  },
  {
   "cell_type": "code",
   "execution_count": null,
   "metadata": {},
   "outputs": [],
   "source": []
  },
  {
   "cell_type": "code",
   "execution_count": 79,
   "metadata": {},
   "outputs": [],
   "source": [
    "d = {}\n",
    "for i in df['city'].unique():\n",
    "    d.setdefault(i, sum(df.sms[df.city==i]))\n",
    "       "
   ]
  },
  {
   "cell_type": "code",
   "execution_count": 85,
   "metadata": {},
   "outputs": [
    {
     "data": {
      "text/plain": [
       "[('Kazan', 501), ('Moscow', 519), ('Vladivostok', 230), ('Yakutsk', 285)]"
      ]
     },
     "execution_count": 85,
     "metadata": {},
     "output_type": "execute_result"
    }
   ],
   "source": [
    "sorted(d.items())"
   ]
  },
  {
   "cell_type": "code",
   "execution_count": null,
   "metadata": {},
   "outputs": [],
   "source": []
  },
  {
   "cell_type": "markdown",
   "metadata": {},
   "source": [
    "### Вопрос 8: В каком городе клиенты больше всего говорят по телефону?"
   ]
  },
  {
   "cell_type": "code",
   "execution_count": 87,
   "metadata": {},
   "outputs": [],
   "source": [
    "d = {}\n",
    "for i in df.city.unique():\n",
    "    d.setdefault(i, sum(df.voice[df.city == i]))"
   ]
  },
  {
   "cell_type": "code",
   "execution_count": 92,
   "metadata": {},
   "outputs": [
    {
     "data": {
      "text/plain": [
       "[('Moscow', 49355),\n",
       " ('Yakutsk', 48973),\n",
       " ('Kazan', 27531),\n",
       " ('Vladivostok', 22818)]"
      ]
     },
     "execution_count": 92,
     "metadata": {},
     "output_type": "execute_result"
    }
   ],
   "source": [
    "sorted(d.items(), key = lambda x: x[1], reverse = True)"
   ]
  },
  {
   "cell_type": "code",
   "execution_count": null,
   "metadata": {},
   "outputs": [],
   "source": []
  },
  {
   "cell_type": "markdown",
   "metadata": {},
   "source": [
    "### Вопрос 9: Сколько заработала фирма на СМС сообщениях? Стоимость одного сообщения 3 рубля."
   ]
  },
  {
   "cell_type": "code",
   "execution_count": 100,
   "metadata": {},
   "outputs": [
    {
     "data": {
      "text/plain": [
       "4605"
      ]
     },
     "execution_count": 100,
     "metadata": {},
     "output_type": "execute_result"
    }
   ],
   "source": [
    "df['sms'].sum()*3"
   ]
  },
  {
   "cell_type": "code",
   "execution_count": null,
   "metadata": {},
   "outputs": [],
   "source": []
  },
  {
   "cell_type": "markdown",
   "metadata": {},
   "source": [
    "### Вопрос 10: Сколько заработала фирма на СМС сообщениях? Тарифная сетка:\n",
    "#### ВИП                   - 1 рубль за СМС\n",
    "####  Все за 300            - 2 рубля за СМС\n",
    "####  Всё за 500            - 3 рубля за СМС\n",
    "####  Всё за 800            - 4 рубля за СМС\n",
    "####  Промо                 - 7 рублей за СМС\n",
    "####  Корпоративный         - 0 рублей за СМС\n",
    "####  Всё за 250 (архив)    - 5 рублей за СМС"
   ]
  },
  {
   "cell_type": "code",
   "execution_count": 101,
   "metadata": {},
   "outputs": [
    {
     "data": {
      "text/plain": [
       "array(['ВИП', 'Все за 300', 'Всё за 800', 'Всё за 500', 'Промо',\n",
       "       'Корпоративный', 'Всё за 250 (архив)'], dtype=object)"
      ]
     },
     "execution_count": 101,
     "metadata": {},
     "output_type": "execute_result"
    }
   ],
   "source": [
    "df.tarif.unique()"
   ]
  },
  {
   "cell_type": "code",
   "execution_count": 102,
   "metadata": {},
   "outputs": [],
   "source": [
    "d = {}\n",
    "for i in df.tarif.unique():    \n",
    "    d.setdefault(i, sum(df.sms[df.tarif==i]))\n",
    "    "
   ]
  },
  {
   "cell_type": "code",
   "execution_count": 103,
   "metadata": {},
   "outputs": [
    {
     "data": {
      "text/plain": [
       "{'ВИП': 146,\n",
       " 'Все за 300': 170,\n",
       " 'Всё за 800': 456,\n",
       " 'Всё за 500': 341,\n",
       " 'Промо': 203,\n",
       " 'Корпоративный': 194,\n",
       " 'Всё за 250 (архив)': 25}"
      ]
     },
     "execution_count": 103,
     "metadata": {},
     "output_type": "execute_result"
    }
   ],
   "source": [
    "d"
   ]
  },
  {
   "cell_type": "code",
   "execution_count": 104,
   "metadata": {},
   "outputs": [
    {
     "name": "stdout",
     "output_type": "stream",
     "text": [
      "4879\n"
     ]
    }
   ],
   "source": [
    "s = 0\n",
    "for k,w in d.items():\n",
    "    if k == 'ВИП':\n",
    "        s +=w\n",
    "    if k == 'Все за 300':\n",
    "         s +=w*2\n",
    "    if k == 'Всё за 500':\n",
    "        s +=w*3\n",
    "    if k == 'Всё за 800':\n",
    "        s +=w*4\n",
    "    if k == 'Промо':\n",
    "        s +=w*7\n",
    "    if k == 'Всё за 250 (архив)':\n",
    "        s +=w*5\n",
    "print(s)"
   ]
  },
  {
   "cell_type": "code",
   "execution_count": null,
   "metadata": {},
   "outputs": [],
   "source": []
  },
  {
   "cell_type": "markdown",
   "metadata": {},
   "source": [
    "### Вопрос 11: Определите процент клиентов, у которых баланс выше 4000"
   ]
  },
  {
   "cell_type": "code",
   "execution_count": 106,
   "metadata": {},
   "outputs": [
    {
     "data": {
      "text/plain": [
       "30"
      ]
     },
     "execution_count": 106,
     "metadata": {},
     "output_type": "execute_result"
    }
   ],
   "source": [
    "df.balance.count()"
   ]
  },
  {
   "cell_type": "code",
   "execution_count": 108,
   "metadata": {},
   "outputs": [
    {
     "data": {
      "text/plain": [
       "9"
      ]
     },
     "execution_count": 108,
     "metadata": {},
     "output_type": "execute_result"
    }
   ],
   "source": [
    "df.balance[df.balance>4000].count()"
   ]
  },
  {
   "cell_type": "code",
   "execution_count": 109,
   "metadata": {},
   "outputs": [],
   "source": [
    "percentaje = df.balance[df.balance>4000].count()/df.balance.count()*100"
   ]
  },
  {
   "cell_type": "code",
   "execution_count": 111,
   "metadata": {},
   "outputs": [
    {
     "data": {
      "text/plain": [
       "30.0"
      ]
     },
     "execution_count": 111,
     "metadata": {},
     "output_type": "execute_result"
    }
   ],
   "source": [
    "percentaje"
   ]
  },
  {
   "cell_type": "code",
   "execution_count": null,
   "metadata": {},
   "outputs": [],
   "source": []
  },
  {
   "cell_type": "markdown",
   "metadata": {},
   "source": [
    "### Вопрос 12: Определите процент клиентов, у которых баланс выше 2000 и тариф 'Всё за 500'"
   ]
  },
  {
   "cell_type": "code",
   "execution_count": 113,
   "metadata": {},
   "outputs": [
    {
     "data": {
      "text/plain": [
       "30"
      ]
     },
     "execution_count": 113,
     "metadata": {},
     "output_type": "execute_result"
    }
   ],
   "source": [
    "df.name.count()"
   ]
  },
  {
   "cell_type": "code",
   "execution_count": null,
   "metadata": {},
   "outputs": [],
   "source": []
  },
  {
   "cell_type": "code",
   "execution_count": 117,
   "metadata": {},
   "outputs": [
    {
     "data": {
      "text/plain": [
       "5"
      ]
     },
     "execution_count": 117,
     "metadata": {},
     "output_type": "execute_result"
    }
   ],
   "source": [
    "df.name[(df.balance>2000) & (df.tarif == 'Всё за 500')].count()"
   ]
  },
  {
   "cell_type": "code",
   "execution_count": 118,
   "metadata": {},
   "outputs": [],
   "source": [
    "perc = df.name[(df.balance>2000) & (df.tarif == 'Всё за 500')].count()/df.name.count()*100"
   ]
  },
  {
   "cell_type": "code",
   "execution_count": 119,
   "metadata": {},
   "outputs": [
    {
     "data": {
      "text/plain": [
       "16.666666666666664"
      ]
     },
     "execution_count": 119,
     "metadata": {},
     "output_type": "execute_result"
    }
   ],
   "source": [
    "perc"
   ]
  },
  {
   "cell_type": "code",
   "execution_count": null,
   "metadata": {},
   "outputs": [],
   "source": []
  },
  {
   "cell_type": "markdown",
   "metadata": {},
   "source": [
    "### Вопрос 13: Сколько клиентов из Москвы, у которых баланс выше 1500 и марка телефона 'Apple'?"
   ]
  },
  {
   "cell_type": "code",
   "execution_count": 121,
   "metadata": {},
   "outputs": [
    {
     "data": {
      "text/plain": [
       "30"
      ]
     },
     "execution_count": 121,
     "metadata": {},
     "output_type": "execute_result"
    }
   ],
   "source": [
    "df.name.count()"
   ]
  },
  {
   "cell_type": "code",
   "execution_count": 125,
   "metadata": {},
   "outputs": [
    {
     "data": {
      "text/plain": [
       "2"
      ]
     },
     "execution_count": 125,
     "metadata": {},
     "output_type": "execute_result"
    }
   ],
   "source": [
    "df.name[(df.city == 'Moscow') & (df.phone == 'Apple') & (df.balance > 1500)].count()"
   ]
  },
  {
   "cell_type": "code",
   "execution_count": null,
   "metadata": {},
   "outputs": [],
   "source": []
  },
  {
   "cell_type": "markdown",
   "metadata": {},
   "source": [
    "### Вопрос 14: Самое распространённое имя среди наших клиентов?"
   ]
  },
  {
   "cell_type": "code",
   "execution_count": 126,
   "metadata": {},
   "outputs": [
    {
     "data": {
      "text/plain": [
       "count         30\n",
       "unique         6\n",
       "top       Sergey\n",
       "freq           8\n",
       "Name: name, dtype: object"
      ]
     },
     "execution_count": 126,
     "metadata": {},
     "output_type": "execute_result"
    }
   ],
   "source": [
    "df.name.describe()"
   ]
  },
  {
   "cell_type": "code",
   "execution_count": null,
   "metadata": {},
   "outputs": [],
   "source": []
  },
  {
   "cell_type": "markdown",
   "metadata": {},
   "source": [
    "### Вопрос 15: Определите процент клиентов у которых телефон Apple и они из Владивостока"
   ]
  },
  {
   "cell_type": "code",
   "execution_count": 127,
   "metadata": {},
   "outputs": [
    {
     "data": {
      "text/plain": [
       "30"
      ]
     },
     "execution_count": 127,
     "metadata": {},
     "output_type": "execute_result"
    }
   ],
   "source": [
    "df.name.count()"
   ]
  },
  {
   "cell_type": "code",
   "execution_count": 128,
   "metadata": {},
   "outputs": [
    {
     "data": {
      "text/plain": [
       "1"
      ]
     },
     "execution_count": 128,
     "metadata": {},
     "output_type": "execute_result"
    }
   ],
   "source": [
    "df.name[(df.city == 'Vladivostok') & (df.phone == 'Apple')].count()"
   ]
  },
  {
   "cell_type": "code",
   "execution_count": 129,
   "metadata": {},
   "outputs": [],
   "source": [
    "per = df.name[(df.city == 'Vladivostok') & (df.phone == 'Apple')].count()/df.name.count()*100"
   ]
  },
  {
   "cell_type": "code",
   "execution_count": 130,
   "metadata": {},
   "outputs": [
    {
     "data": {
      "text/plain": [
       "3.3333333333333335"
      ]
     },
     "execution_count": 130,
     "metadata": {},
     "output_type": "execute_result"
    }
   ],
   "source": [
    "per"
   ]
  },
  {
   "cell_type": "code",
   "execution_count": null,
   "metadata": {},
   "outputs": [],
   "source": []
  }
 ],
 "metadata": {
  "kernelspec": {
   "display_name": "Python 3 (ipykernel)",
   "language": "python",
   "name": "python3"
  },
  "language_info": {
   "codemirror_mode": {
    "name": "ipython",
    "version": 3
   },
   "file_extension": ".py",
   "mimetype": "text/x-python",
   "name": "python",
   "nbconvert_exporter": "python",
   "pygments_lexer": "ipython3",
   "version": "3.10.0"
  }
 },
 "nbformat": 4,
 "nbformat_minor": 4
}
