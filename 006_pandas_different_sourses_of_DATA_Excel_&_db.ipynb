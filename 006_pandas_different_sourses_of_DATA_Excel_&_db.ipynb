{
 "cells": [
  {
   "cell_type": "code",
   "execution_count": 15,
   "id": "6b5067e7",
   "metadata": {},
   "outputs": [],
   "source": [
    "import pandas as pd\n",
    "import numpy as np"
   ]
  },
  {
   "cell_type": "code",
   "execution_count": 8,
   "id": "ce3047cb",
   "metadata": {},
   "outputs": [],
   "source": [
    "df = pd.read_excel('EQ.xlsx') # читаем файл Excel (по умолчанию 1 лист !! или скрытый лист. Листы лучше всегда прописывать!)"
   ]
  },
  {
   "cell_type": "code",
   "execution_count": 38,
   "id": "cd4de877",
   "metadata": {},
   "outputs": [
    {
     "data": {
      "text/html": [
       "<div>\n",
       "<style scoped>\n",
       "    .dataframe tbody tr th:only-of-type {\n",
       "        vertical-align: middle;\n",
       "    }\n",
       "\n",
       "    .dataframe tbody tr th {\n",
       "        vertical-align: top;\n",
       "    }\n",
       "\n",
       "    .dataframe thead th {\n",
       "        text-align: right;\n",
       "    }\n",
       "</style>\n",
       "<table border=\"1\" class=\"dataframe\">\n",
       "  <thead>\n",
       "    <tr style=\"text-align: right;\">\n",
       "      <th></th>\n",
       "      <th>дата</th>\n",
       "      <th>время по Гринвичу</th>\n",
       "      <th>широта</th>\n",
       "      <th>долгота</th>\n",
       "      <th>Класс</th>\n",
       "      <th>Unnamed: 5</th>\n",
       "    </tr>\n",
       "  </thead>\n",
       "  <tbody>\n",
       "    <tr>\n",
       "      <th>0</th>\n",
       "      <td>2021-01-14</td>\n",
       "      <td>13:13:22.4</td>\n",
       "      <td>55.22</td>\n",
       "      <td>110.41</td>\n",
       "      <td>10.3</td>\n",
       "      <td>NaN</td>\n",
       "    </tr>\n",
       "    <tr>\n",
       "      <th>1</th>\n",
       "      <td>2021-01-15</td>\n",
       "      <td>17:29:55.4</td>\n",
       "      <td>55.22</td>\n",
       "      <td>110.43</td>\n",
       "      <td>9.3</td>\n",
       "      <td>NaN</td>\n",
       "    </tr>\n",
       "    <tr>\n",
       "      <th>2</th>\n",
       "      <td>2021-01-15</td>\n",
       "      <td>18:45:59.0</td>\n",
       "      <td>56.28</td>\n",
       "      <td>113.40</td>\n",
       "      <td>10.4</td>\n",
       "      <td>NaN</td>\n",
       "    </tr>\n",
       "    <tr>\n",
       "      <th>3</th>\n",
       "      <td>2021-01-15</td>\n",
       "      <td>22:29:47.3</td>\n",
       "      <td>54.88</td>\n",
       "      <td>111.72</td>\n",
       "      <td>11.0</td>\n",
       "      <td>NaN</td>\n",
       "    </tr>\n",
       "    <tr>\n",
       "      <th>4</th>\n",
       "      <td>2021-01-27</td>\n",
       "      <td>02:46:05.8</td>\n",
       "      <td>56.55</td>\n",
       "      <td>121.08</td>\n",
       "      <td>9.7</td>\n",
       "      <td>NaN</td>\n",
       "    </tr>\n",
       "  </tbody>\n",
       "</table>\n",
       "</div>"
      ],
      "text/plain": [
       "        дата время по Гринвичу  широта  долгота  Класс Unnamed: 5\n",
       "0 2021-01-14        13:13:22.4   55.22   110.41   10.3        NaN\n",
       "1 2021-01-15        17:29:55.4   55.22   110.43    9.3        NaN\n",
       "2 2021-01-15        18:45:59.0   56.28   113.40   10.4        NaN\n",
       "3 2021-01-15        22:29:47.3   54.88   111.72   11.0        NaN\n",
       "4 2021-01-27        02:46:05.8   56.55   121.08    9.7        NaN"
      ]
     },
     "execution_count": 38,
     "metadata": {},
     "output_type": "execute_result"
    }
   ],
   "source": [
    "df.head(5)"
   ]
  },
  {
   "cell_type": "code",
   "execution_count": 13,
   "id": "f918358d",
   "metadata": {},
   "outputs": [],
   "source": [
    "df2 = pd.read_excel('EQ.xlsx', sheet_name = 'Лист2') # читаем файл Excel (открываем другой лист)"
   ]
  },
  {
   "cell_type": "code",
   "execution_count": 37,
   "id": "ac7b407d",
   "metadata": {},
   "outputs": [
    {
     "data": {
      "text/html": [
       "<div>\n",
       "<style scoped>\n",
       "    .dataframe tbody tr th:only-of-type {\n",
       "        vertical-align: middle;\n",
       "    }\n",
       "\n",
       "    .dataframe tbody tr th {\n",
       "        vertical-align: top;\n",
       "    }\n",
       "\n",
       "    .dataframe thead th {\n",
       "        text-align: right;\n",
       "    }\n",
       "</style>\n",
       "<table border=\"1\" class=\"dataframe\">\n",
       "  <thead>\n",
       "    <tr style=\"text-align: right;\">\n",
       "      <th></th>\n",
       "      <th>дата</th>\n",
       "      <th>время по Гринвичу</th>\n",
       "      <th>широта</th>\n",
       "      <th>долгота</th>\n",
       "      <th>Класс</th>\n",
       "      <th>Unnamed: 5</th>\n",
       "    </tr>\n",
       "  </thead>\n",
       "  <tbody>\n",
       "    <tr>\n",
       "      <th>0</th>\n",
       "      <td>2021-01-14</td>\n",
       "      <td>13:13:22.4</td>\n",
       "      <td>55.22</td>\n",
       "      <td>110.41</td>\n",
       "      <td>10.3</td>\n",
       "      <td>NaN</td>\n",
       "    </tr>\n",
       "    <tr>\n",
       "      <th>1</th>\n",
       "      <td>2021-01-15</td>\n",
       "      <td>17:29:55.4</td>\n",
       "      <td>55.22</td>\n",
       "      <td>110.43</td>\n",
       "      <td>9.3</td>\n",
       "      <td>NaN</td>\n",
       "    </tr>\n",
       "    <tr>\n",
       "      <th>2</th>\n",
       "      <td>2021-01-15</td>\n",
       "      <td>18:45:59.0</td>\n",
       "      <td>56.28</td>\n",
       "      <td>113.40</td>\n",
       "      <td>10.4</td>\n",
       "      <td>NaN</td>\n",
       "    </tr>\n",
       "    <tr>\n",
       "      <th>3</th>\n",
       "      <td>2021-01-15</td>\n",
       "      <td>22:29:47.3</td>\n",
       "      <td>54.88</td>\n",
       "      <td>111.72</td>\n",
       "      <td>11.0</td>\n",
       "      <td>NaN</td>\n",
       "    </tr>\n",
       "    <tr>\n",
       "      <th>4</th>\n",
       "      <td>2021-01-27</td>\n",
       "      <td>02:46:05.8</td>\n",
       "      <td>56.55</td>\n",
       "      <td>121.08</td>\n",
       "      <td>9.7</td>\n",
       "      <td>NaN</td>\n",
       "    </tr>\n",
       "  </tbody>\n",
       "</table>\n",
       "</div>"
      ],
      "text/plain": [
       "        дата время по Гринвичу  широта  долгота  Класс Unnamed: 5\n",
       "0 2021-01-14        13:13:22.4   55.22   110.41   10.3        NaN\n",
       "1 2021-01-15        17:29:55.4   55.22   110.43    9.3        NaN\n",
       "2 2021-01-15        18:45:59.0   56.28   113.40   10.4        NaN\n",
       "3 2021-01-15        22:29:47.3   54.88   111.72   11.0        NaN\n",
       "4 2021-01-27        02:46:05.8   56.55   121.08    9.7        NaN"
      ]
     },
     "execution_count": 37,
     "metadata": {},
     "output_type": "execute_result"
    }
   ],
   "source": [
    "df.head(5)"
   ]
  },
  {
   "cell_type": "code",
   "execution_count": null,
   "id": "11e4ea5d",
   "metadata": {},
   "outputs": [],
   "source": [
    "# Если таблица начинается не с первой строки - необходимо добавлять header = 1,2,3..."
   ]
  },
  {
   "cell_type": "code",
   "execution_count": 19,
   "id": "2f3e5bfb",
   "metadata": {},
   "outputs": [],
   "source": [
    "# Пример открытия без header:\n",
    "\n",
    "df3 = pd.read_excel('EQ.xlsx', sheet_name = 'Лист3') # заголовок идет в название столбца"
   ]
  },
  {
   "cell_type": "code",
   "execution_count": 39,
   "id": "e0297602",
   "metadata": {},
   "outputs": [
    {
     "data": {
      "text/html": [
       "<div>\n",
       "<style scoped>\n",
       "    .dataframe tbody tr th:only-of-type {\n",
       "        vertical-align: middle;\n",
       "    }\n",
       "\n",
       "    .dataframe tbody tr th {\n",
       "        vertical-align: top;\n",
       "    }\n",
       "\n",
       "    .dataframe thead th {\n",
       "        text-align: right;\n",
       "    }\n",
       "</style>\n",
       "<table border=\"1\" class=\"dataframe\">\n",
       "  <thead>\n",
       "    <tr style=\"text-align: right;\">\n",
       "      <th></th>\n",
       "      <th>ЭТО ЗАГОЛОВОК ДЛЯ ВСЕЙ ТАБЛИЦЫ HEADER</th>\n",
       "      <th>Unnamed: 1</th>\n",
       "      <th>Unnamed: 2</th>\n",
       "      <th>Unnamed: 3</th>\n",
       "      <th>Unnamed: 4</th>\n",
       "      <th>Unnamed: 5</th>\n",
       "    </tr>\n",
       "  </thead>\n",
       "  <tbody>\n",
       "    <tr>\n",
       "      <th>0</th>\n",
       "      <td>Дата и Время</td>\n",
       "      <td>Широта</td>\n",
       "      <td>Долгота</td>\n",
       "      <td>K</td>\n",
       "      <td>fm</td>\n",
       "      <td>Интенсивность, баллы</td>\n",
       "    </tr>\n",
       "    <tr>\n",
       "      <th>1</th>\n",
       "      <td>2023-01-18 22:02:24</td>\n",
       "      <td>52.94</td>\n",
       "      <td>106.95</td>\n",
       "      <td>9.8</td>\n",
       "      <td></td>\n",
       "      <td>NaN</td>\n",
       "    </tr>\n",
       "    <tr>\n",
       "      <th>2</th>\n",
       "      <td>2023-01-20 04:01:51</td>\n",
       "      <td>56.12</td>\n",
       "      <td>113.74</td>\n",
       "      <td>9.6</td>\n",
       "      <td></td>\n",
       "      <td>NaN</td>\n",
       "    </tr>\n",
       "    <tr>\n",
       "      <th>3</th>\n",
       "      <td>2023-01-20 13:08:59</td>\n",
       "      <td>51.06</td>\n",
       "      <td>99.97</td>\n",
       "      <td>11.2</td>\n",
       "      <td></td>\n",
       "      <td>Иркутск 2б</td>\n",
       "    </tr>\n",
       "    <tr>\n",
       "      <th>4</th>\n",
       "      <td>2023-01-20 19:01:44</td>\n",
       "      <td>52.92</td>\n",
       "      <td>106.97</td>\n",
       "      <td>9.7</td>\n",
       "      <td></td>\n",
       "      <td>NaN</td>\n",
       "    </tr>\n",
       "  </tbody>\n",
       "</table>\n",
       "</div>"
      ],
      "text/plain": [
       "  ЭТО ЗАГОЛОВОК ДЛЯ ВСЕЙ ТАБЛИЦЫ HEADER Unnamed: 1 Unnamed: 2 Unnamed: 3  \\\n",
       "0                          Дата и Время     Широта    Долгота          K   \n",
       "1                   2023-01-18 22:02:24      52.94     106.95        9.8   \n",
       "2                   2023-01-20 04:01:51      56.12     113.74        9.6   \n",
       "3                   2023-01-20 13:08:59      51.06      99.97       11.2   \n",
       "4                   2023-01-20 19:01:44      52.92     106.97        9.7   \n",
       "\n",
       "  Unnamed: 4            Unnamed: 5  \n",
       "0         fm  Интенсивность, баллы  \n",
       "1                              NaN  \n",
       "2                              NaN  \n",
       "3                       Иркутск 2б  \n",
       "4                              NaN  "
      ]
     },
     "execution_count": 39,
     "metadata": {},
     "output_type": "execute_result"
    }
   ],
   "source": [
    "df3.head(5)"
   ]
  },
  {
   "cell_type": "code",
   "execution_count": 21,
   "id": "a899686b",
   "metadata": {},
   "outputs": [],
   "source": [
    "# попробуем открыть с header = 1 (с какой строки начинается таблица)\n",
    "df4 = pd.read_excel('EQ.xlsx', sheet_name = 'Лист3', header = 1)"
   ]
  },
  {
   "cell_type": "code",
   "execution_count": 40,
   "id": "fd5e6749",
   "metadata": {},
   "outputs": [
    {
     "data": {
      "text/html": [
       "<div>\n",
       "<style scoped>\n",
       "    .dataframe tbody tr th:only-of-type {\n",
       "        vertical-align: middle;\n",
       "    }\n",
       "\n",
       "    .dataframe tbody tr th {\n",
       "        vertical-align: top;\n",
       "    }\n",
       "\n",
       "    .dataframe thead th {\n",
       "        text-align: right;\n",
       "    }\n",
       "</style>\n",
       "<table border=\"1\" class=\"dataframe\">\n",
       "  <thead>\n",
       "    <tr style=\"text-align: right;\">\n",
       "      <th></th>\n",
       "      <th>Дата и Время</th>\n",
       "      <th>Широта</th>\n",
       "      <th>Долгота</th>\n",
       "      <th>K</th>\n",
       "      <th>fm</th>\n",
       "      <th>Интенсивность, баллы</th>\n",
       "    </tr>\n",
       "  </thead>\n",
       "  <tbody>\n",
       "    <tr>\n",
       "      <th>0</th>\n",
       "      <td>2023-01-18 22:02:24</td>\n",
       "      <td>52.94</td>\n",
       "      <td>106.95</td>\n",
       "      <td>9.8</td>\n",
       "      <td></td>\n",
       "      <td>NaN</td>\n",
       "    </tr>\n",
       "    <tr>\n",
       "      <th>1</th>\n",
       "      <td>2023-01-20 04:01:51</td>\n",
       "      <td>56.12</td>\n",
       "      <td>113.74</td>\n",
       "      <td>9.6</td>\n",
       "      <td></td>\n",
       "      <td>NaN</td>\n",
       "    </tr>\n",
       "    <tr>\n",
       "      <th>2</th>\n",
       "      <td>2023-01-20 13:08:59</td>\n",
       "      <td>51.06</td>\n",
       "      <td>99.97</td>\n",
       "      <td>11.2</td>\n",
       "      <td></td>\n",
       "      <td>Иркутск 2б</td>\n",
       "    </tr>\n",
       "    <tr>\n",
       "      <th>3</th>\n",
       "      <td>2023-01-20 19:01:44</td>\n",
       "      <td>52.92</td>\n",
       "      <td>106.97</td>\n",
       "      <td>9.7</td>\n",
       "      <td></td>\n",
       "      <td>NaN</td>\n",
       "    </tr>\n",
       "    <tr>\n",
       "      <th>4</th>\n",
       "      <td>2023-01-21 07:52:56</td>\n",
       "      <td>51.10</td>\n",
       "      <td>99.96</td>\n",
       "      <td>10.2</td>\n",
       "      <td></td>\n",
       "      <td>NaN</td>\n",
       "    </tr>\n",
       "  </tbody>\n",
       "</table>\n",
       "</div>"
      ],
      "text/plain": [
       "         Дата и Время  Широта  Долгота     K  fm Интенсивность, баллы\n",
       "0 2023-01-18 22:02:24   52.94   106.95   9.8                      NaN\n",
       "1 2023-01-20 04:01:51   56.12   113.74   9.6                      NaN\n",
       "2 2023-01-20 13:08:59   51.06    99.97  11.2               Иркутск 2б\n",
       "3 2023-01-20 19:01:44   52.92   106.97   9.7                      NaN\n",
       "4 2023-01-21 07:52:56   51.10    99.96  10.2                      NaN"
      ]
     },
     "execution_count": 40,
     "metadata": {},
     "output_type": "execute_result"
    }
   ],
   "source": [
    "df4.head(5)"
   ]
  },
  {
   "cell_type": "code",
   "execution_count": null,
   "id": "365f83ec",
   "metadata": {},
   "outputs": [],
   "source": []
  },
  {
   "cell_type": "markdown",
   "id": "897bdc12",
   "metadata": {},
   "source": [
    "# Если данных очень много в документе Excel"
   ]
  },
  {
   "cell_type": "code",
   "execution_count": null,
   "id": "00637310",
   "metadata": {},
   "outputs": [],
   "source": [
    "# лучше применять такой подход если данных очень много (и они например продолжаются на листах)"
   ]
  },
  {
   "cell_type": "code",
   "execution_count": 23,
   "id": "2435ecdf",
   "metadata": {},
   "outputs": [],
   "source": [
    "file = pd.ExcelFile('D:\\Magic\\Git\\!Pandas\\EQ.xlsx')"
   ]
  },
  {
   "cell_type": "code",
   "execution_count": 24,
   "id": "f4ce8542",
   "metadata": {},
   "outputs": [],
   "source": [
    "df11 = pd.read_excel(file)"
   ]
  },
  {
   "cell_type": "code",
   "execution_count": 41,
   "id": "ba3ce713",
   "metadata": {},
   "outputs": [
    {
     "data": {
      "text/html": [
       "<div>\n",
       "<style scoped>\n",
       "    .dataframe tbody tr th:only-of-type {\n",
       "        vertical-align: middle;\n",
       "    }\n",
       "\n",
       "    .dataframe tbody tr th {\n",
       "        vertical-align: top;\n",
       "    }\n",
       "\n",
       "    .dataframe thead th {\n",
       "        text-align: right;\n",
       "    }\n",
       "</style>\n",
       "<table border=\"1\" class=\"dataframe\">\n",
       "  <thead>\n",
       "    <tr style=\"text-align: right;\">\n",
       "      <th></th>\n",
       "      <th>дата</th>\n",
       "      <th>время по Гринвичу</th>\n",
       "      <th>широта</th>\n",
       "      <th>долгота</th>\n",
       "      <th>Класс</th>\n",
       "      <th>Unnamed: 5</th>\n",
       "    </tr>\n",
       "  </thead>\n",
       "  <tbody>\n",
       "    <tr>\n",
       "      <th>0</th>\n",
       "      <td>2021-01-14</td>\n",
       "      <td>13:13:22.4</td>\n",
       "      <td>55.22</td>\n",
       "      <td>110.41</td>\n",
       "      <td>10.3</td>\n",
       "      <td>NaN</td>\n",
       "    </tr>\n",
       "    <tr>\n",
       "      <th>1</th>\n",
       "      <td>2021-01-15</td>\n",
       "      <td>17:29:55.4</td>\n",
       "      <td>55.22</td>\n",
       "      <td>110.43</td>\n",
       "      <td>9.3</td>\n",
       "      <td>NaN</td>\n",
       "    </tr>\n",
       "    <tr>\n",
       "      <th>2</th>\n",
       "      <td>2021-01-15</td>\n",
       "      <td>18:45:59.0</td>\n",
       "      <td>56.28</td>\n",
       "      <td>113.40</td>\n",
       "      <td>10.4</td>\n",
       "      <td>NaN</td>\n",
       "    </tr>\n",
       "    <tr>\n",
       "      <th>3</th>\n",
       "      <td>2021-01-15</td>\n",
       "      <td>22:29:47.3</td>\n",
       "      <td>54.88</td>\n",
       "      <td>111.72</td>\n",
       "      <td>11.0</td>\n",
       "      <td>NaN</td>\n",
       "    </tr>\n",
       "    <tr>\n",
       "      <th>4</th>\n",
       "      <td>2021-01-27</td>\n",
       "      <td>02:46:05.8</td>\n",
       "      <td>56.55</td>\n",
       "      <td>121.08</td>\n",
       "      <td>9.7</td>\n",
       "      <td>NaN</td>\n",
       "    </tr>\n",
       "  </tbody>\n",
       "</table>\n",
       "</div>"
      ],
      "text/plain": [
       "        дата время по Гринвичу  широта  долгота  Класс Unnamed: 5\n",
       "0 2021-01-14        13:13:22.4   55.22   110.41   10.3        NaN\n",
       "1 2021-01-15        17:29:55.4   55.22   110.43    9.3        NaN\n",
       "2 2021-01-15        18:45:59.0   56.28   113.40   10.4        NaN\n",
       "3 2021-01-15        22:29:47.3   54.88   111.72   11.0        NaN\n",
       "4 2021-01-27        02:46:05.8   56.55   121.08    9.7        NaN"
      ]
     },
     "execution_count": 41,
     "metadata": {},
     "output_type": "execute_result"
    }
   ],
   "source": [
    "df11.head(5)"
   ]
  },
  {
   "cell_type": "code",
   "execution_count": null,
   "id": "3a516dae",
   "metadata": {},
   "outputs": [],
   "source": []
  },
  {
   "cell_type": "code",
   "execution_count": 28,
   "id": "2f2e6efe",
   "metadata": {},
   "outputs": [],
   "source": [
    "df22 = pd.read_excel(file, sheet_name = 2, header = 1)"
   ]
  },
  {
   "cell_type": "code",
   "execution_count": 42,
   "id": "2766a65c",
   "metadata": {},
   "outputs": [
    {
     "data": {
      "text/html": [
       "<div>\n",
       "<style scoped>\n",
       "    .dataframe tbody tr th:only-of-type {\n",
       "        vertical-align: middle;\n",
       "    }\n",
       "\n",
       "    .dataframe tbody tr th {\n",
       "        vertical-align: top;\n",
       "    }\n",
       "\n",
       "    .dataframe thead th {\n",
       "        text-align: right;\n",
       "    }\n",
       "</style>\n",
       "<table border=\"1\" class=\"dataframe\">\n",
       "  <thead>\n",
       "    <tr style=\"text-align: right;\">\n",
       "      <th></th>\n",
       "      <th>Дата и Время</th>\n",
       "      <th>Широта</th>\n",
       "      <th>Долгота</th>\n",
       "      <th>K</th>\n",
       "      <th>fm</th>\n",
       "      <th>Интенсивность, баллы</th>\n",
       "    </tr>\n",
       "  </thead>\n",
       "  <tbody>\n",
       "    <tr>\n",
       "      <th>0</th>\n",
       "      <td>2023-01-18 22:02:24</td>\n",
       "      <td>52.94</td>\n",
       "      <td>106.95</td>\n",
       "      <td>9.8</td>\n",
       "      <td></td>\n",
       "      <td>NaN</td>\n",
       "    </tr>\n",
       "    <tr>\n",
       "      <th>1</th>\n",
       "      <td>2023-01-20 04:01:51</td>\n",
       "      <td>56.12</td>\n",
       "      <td>113.74</td>\n",
       "      <td>9.6</td>\n",
       "      <td></td>\n",
       "      <td>NaN</td>\n",
       "    </tr>\n",
       "    <tr>\n",
       "      <th>2</th>\n",
       "      <td>2023-01-20 13:08:59</td>\n",
       "      <td>51.06</td>\n",
       "      <td>99.97</td>\n",
       "      <td>11.2</td>\n",
       "      <td></td>\n",
       "      <td>Иркутск 2б</td>\n",
       "    </tr>\n",
       "    <tr>\n",
       "      <th>3</th>\n",
       "      <td>2023-01-20 19:01:44</td>\n",
       "      <td>52.92</td>\n",
       "      <td>106.97</td>\n",
       "      <td>9.7</td>\n",
       "      <td></td>\n",
       "      <td>NaN</td>\n",
       "    </tr>\n",
       "    <tr>\n",
       "      <th>4</th>\n",
       "      <td>2023-01-21 07:52:56</td>\n",
       "      <td>51.10</td>\n",
       "      <td>99.96</td>\n",
       "      <td>10.2</td>\n",
       "      <td></td>\n",
       "      <td>NaN</td>\n",
       "    </tr>\n",
       "  </tbody>\n",
       "</table>\n",
       "</div>"
      ],
      "text/plain": [
       "         Дата и Время  Широта  Долгота     K  fm Интенсивность, баллы\n",
       "0 2023-01-18 22:02:24   52.94   106.95   9.8                      NaN\n",
       "1 2023-01-20 04:01:51   56.12   113.74   9.6                      NaN\n",
       "2 2023-01-20 13:08:59   51.06    99.97  11.2               Иркутск 2б\n",
       "3 2023-01-20 19:01:44   52.92   106.97   9.7                      NaN\n",
       "4 2023-01-21 07:52:56   51.10    99.96  10.2                      NaN"
      ]
     },
     "execution_count": 42,
     "metadata": {},
     "output_type": "execute_result"
    }
   ],
   "source": [
    "df22.head(5)"
   ]
  },
  {
   "cell_type": "markdown",
   "id": "989db80f",
   "metadata": {},
   "source": [
    "# Сохранение DataFrame в Excel "
   ]
  },
  {
   "cell_type": "code",
   "execution_count": 32,
   "id": "26e0013f",
   "metadata": {},
   "outputs": [],
   "source": [
    "df22.to_excel('D:\\Magic\\Git\\!Pandas\\df_to_excel.xlsx')"
   ]
  },
  {
   "cell_type": "code",
   "execution_count": 33,
   "id": "92a571f7",
   "metadata": {},
   "outputs": [],
   "source": [
    "# убираем столбец с дефолтными индексами:\n",
    "df22.to_excel('D:\\Magic\\Git\\!Pandas\\df_to_excel_2.xlsx', index = False)"
   ]
  },
  {
   "cell_type": "code",
   "execution_count": 35,
   "id": "cd689bf1",
   "metadata": {},
   "outputs": [],
   "source": [
    "# по дефолту название листа sheet_name = Sheet1, для того, чтобы кастомизировать:\n",
    "df22.to_excel('D:\\Magic\\Git\\!Pandas\\df_to_excel_3.xlsx', index = False, sheet_name = 'Some_EQs')"
   ]
  },
  {
   "cell_type": "code",
   "execution_count": 45,
   "id": "4ab0a948",
   "metadata": {},
   "outputs": [
    {
     "name": "stderr",
     "output_type": "stream",
     "text": [
      "C:\\Users\\roman\\AppData\\Local\\Temp\\ipykernel_8204\\3309918427.py:9: FutureWarning: save is not part of the public API, usage can give unexpected results and will be removed in a future version\n",
      "  writer.save()\n"
     ]
    }
   ],
   "source": [
    "# ЕСЛИ ЗАПИСЫВАТЬ В ОДИН ФАЙЛ ДАЖЕ ПОД РАЗНЫМИ ЛИСТАМИ - ПРОИСХОДИТ ПЕРЕЗАПИСЬ\n",
    "writer = pd.ExcelWriter('D:\\Magic\\Git\\!Pandas\\df_to_excel_4.xlsx') # сохраняет объект writer (он не открывается Excel)\n",
    "\n",
    "# а теперь через writer записываем листы:\n",
    "df22.to_excel(writer, index = False, sheet_name = 'Some_EQs')\n",
    "df11.to_excel(writer, index = False, sheet_name = 'Some_EQs_sheet_2')\n",
    "\n",
    "# для сохранения НЕОБХОДИМО:\n",
    "writer.save()\n"
   ]
  },
  {
   "cell_type": "code",
   "execution_count": null,
   "id": "4470507d",
   "metadata": {},
   "outputs": [],
   "source": []
  },
  {
   "cell_type": "code",
   "execution_count": null,
   "id": "940720f6",
   "metadata": {},
   "outputs": [],
   "source": []
  },
  {
   "cell_type": "markdown",
   "id": "0df1f422",
   "metadata": {},
   "source": [
    "# DATA BASES"
   ]
  },
  {
   "cell_type": "code",
   "execution_count": 1,
   "id": "4e1b298d",
   "metadata": {},
   "outputs": [
    {
     "name": "stdout",
     "output_type": "stream",
     "text": [
      "Note: you may need to restart the kernel to use updated packages.\n"
     ]
    },
    {
     "name": "stderr",
     "output_type": "stream",
     "text": [
      "ERROR: Could not find a version that satisfies the requirement sqlite (from versions: none)\n",
      "ERROR: No matching distribution found for sqlite\n",
      "\n",
      "[notice] A new release of pip is available: 23.0 -> 23.1.2\n",
      "[notice] To update, run: python.exe -m pip install --upgrade pip\n"
     ]
    }
   ],
   "source": [
    "pip install sqlite"
   ]
  },
  {
   "cell_type": "code",
   "execution_count": 2,
   "id": "8aa18f92",
   "metadata": {},
   "outputs": [],
   "source": [
    "import sqlite3"
   ]
  },
  {
   "cell_type": "code",
   "execution_count": 5,
   "id": "c4b7b260",
   "metadata": {},
   "outputs": [],
   "source": [
    "con = sqlite3.connect('D:\\Magic\\Git\\!Pandas\\db.sqlite3')"
   ]
  },
  {
   "cell_type": "code",
   "execution_count": 9,
   "id": "14cb96a6",
   "metadata": {},
   "outputs": [
    {
     "data": {
      "text/plain": [
       "<sqlite3.Cursor at 0x16ad20d1340>"
      ]
     },
     "execution_count": 9,
     "metadata": {},
     "output_type": "execute_result"
    }
   ],
   "source": [
    "con.execute('select * from towns_town')"
   ]
  },
  {
   "cell_type": "code",
   "execution_count": 10,
   "id": "e73be981",
   "metadata": {},
   "outputs": [],
   "source": [
    "cursor = con.execute('select * from towns_town')"
   ]
  },
  {
   "cell_type": "code",
   "execution_count": 11,
   "id": "c271dad7",
   "metadata": {},
   "outputs": [
    {
     "data": {
      "text/plain": [
       "<sqlite3.Cursor at 0x16ad20d32c0>"
      ]
     },
     "execution_count": 11,
     "metadata": {},
     "output_type": "execute_result"
    }
   ],
   "source": [
    "cursor"
   ]
  },
  {
   "cell_type": "code",
   "execution_count": 12,
   "id": "25b234f7",
   "metadata": {},
   "outputs": [],
   "source": [
    "row = cursor.fetchall()"
   ]
  },
  {
   "cell_type": "code",
   "execution_count": 13,
   "id": "8ce37001",
   "metadata": {},
   "outputs": [
    {
     "data": {
      "text/plain": [
       "[(33,\n",
       "  'London',\n",
       "  'Второй по величине город Европы. Столица Соединённого Королевства Великобритании и Северной Ирландии. Административно образует регион Англии Большой Лондон, разделённый на 32 самоуправляемых района и Сити.',\n",
       "  8173900),\n",
       " (34,\n",
       "  'Birnengem',\n",
       "  'Город является центром региона Уэст-Мидлендс и вторым по населению городом Англии.',\n",
       "  1028700),\n",
       " (35,\n",
       "  'Lids',\n",
       "  'Третий по величине город Великобритании. Название «Лидс» применяется как по отношению к историческому центру города, так и к более широкому образованию, которое включает в себя небольшие города Отли и Уэзерби.',\n",
       "  751485),\n",
       " (36,\n",
       "  'Sheffild',\n",
       "  'Один из восьми региональных центров, образующих группу основных городов Англии. Население агломерации 640 720 человек.',\n",
       "  551800),\n",
       " (37,\n",
       "  'Bristol',\n",
       "  'Город на юго-западе Англии. Известен своим культурным наследием, доками и прекрасными парками. Население города около 467 099 человек.',\n",
       "  467099),\n",
       " (38,\n",
       "  'Manchester',\n",
       "  'Город в Северо-Западной Англии. Известен своей культурной, спортивной и экономической значимостью. Население города около 547 627 человек.',\n",
       "  547627),\n",
       " (39,\n",
       "  'Newcastle',\n",
       "  'Город на северо-востоке Англии. Известен своими историческими зданиями, культурой и кулинарными традициями. Население города около 300 196 человек.',\n",
       "  300196),\n",
       " (40,\n",
       "  'Nottingham',\n",
       "  'Город в Восточной Англии. Известен своей архитектурой, культурными мероприятиями и богатой историей. Население города около 330 000 человек.',\n",
       "  330000),\n",
       " (41,\n",
       "  'Southampton',\n",
       "  'Город на юге Англии, расположенный на берегу реки Итон. Известен своими историческими достопримечательностями, портом и круизными лайнерами. Население города около 253 651 человек.',\n",
       "  253651)]"
      ]
     },
     "execution_count": 13,
     "metadata": {},
     "output_type": "execute_result"
    }
   ],
   "source": [
    "row"
   ]
  },
  {
   "cell_type": "code",
   "execution_count": null,
   "id": "0a3b4065",
   "metadata": {},
   "outputs": [],
   "source": []
  },
  {
   "cell_type": "code",
   "execution_count": 17,
   "id": "ed23359b",
   "metadata": {},
   "outputs": [],
   "source": [
    "df = pd.DataFrame(row)"
   ]
  },
  {
   "cell_type": "code",
   "execution_count": 18,
   "id": "4ac90473",
   "metadata": {},
   "outputs": [
    {
     "data": {
      "text/html": [
       "<div>\n",
       "<style scoped>\n",
       "    .dataframe tbody tr th:only-of-type {\n",
       "        vertical-align: middle;\n",
       "    }\n",
       "\n",
       "    .dataframe tbody tr th {\n",
       "        vertical-align: top;\n",
       "    }\n",
       "\n",
       "    .dataframe thead th {\n",
       "        text-align: right;\n",
       "    }\n",
       "</style>\n",
       "<table border=\"1\" class=\"dataframe\">\n",
       "  <thead>\n",
       "    <tr style=\"text-align: right;\">\n",
       "      <th></th>\n",
       "      <th>0</th>\n",
       "      <th>1</th>\n",
       "      <th>2</th>\n",
       "      <th>3</th>\n",
       "    </tr>\n",
       "  </thead>\n",
       "  <tbody>\n",
       "    <tr>\n",
       "      <th>0</th>\n",
       "      <td>33</td>\n",
       "      <td>London</td>\n",
       "      <td>Второй по величине город Европы. Столица Соеди...</td>\n",
       "      <td>8173900</td>\n",
       "    </tr>\n",
       "    <tr>\n",
       "      <th>1</th>\n",
       "      <td>34</td>\n",
       "      <td>Birnengem</td>\n",
       "      <td>Город является центром региона Уэст-Мидлендс и...</td>\n",
       "      <td>1028700</td>\n",
       "    </tr>\n",
       "    <tr>\n",
       "      <th>2</th>\n",
       "      <td>35</td>\n",
       "      <td>Lids</td>\n",
       "      <td>Третий по величине город Великобритании. Назва...</td>\n",
       "      <td>751485</td>\n",
       "    </tr>\n",
       "    <tr>\n",
       "      <th>3</th>\n",
       "      <td>36</td>\n",
       "      <td>Sheffild</td>\n",
       "      <td>Один из восьми региональных центров, образующи...</td>\n",
       "      <td>551800</td>\n",
       "    </tr>\n",
       "    <tr>\n",
       "      <th>4</th>\n",
       "      <td>37</td>\n",
       "      <td>Bristol</td>\n",
       "      <td>Город на юго-западе Англии. Известен своим кул...</td>\n",
       "      <td>467099</td>\n",
       "    </tr>\n",
       "    <tr>\n",
       "      <th>5</th>\n",
       "      <td>38</td>\n",
       "      <td>Manchester</td>\n",
       "      <td>Город в Северо-Западной Англии. Известен своей...</td>\n",
       "      <td>547627</td>\n",
       "    </tr>\n",
       "    <tr>\n",
       "      <th>6</th>\n",
       "      <td>39</td>\n",
       "      <td>Newcastle</td>\n",
       "      <td>Город на северо-востоке Англии. Известен своим...</td>\n",
       "      <td>300196</td>\n",
       "    </tr>\n",
       "    <tr>\n",
       "      <th>7</th>\n",
       "      <td>40</td>\n",
       "      <td>Nottingham</td>\n",
       "      <td>Город в Восточной Англии. Известен своей архит...</td>\n",
       "      <td>330000</td>\n",
       "    </tr>\n",
       "    <tr>\n",
       "      <th>8</th>\n",
       "      <td>41</td>\n",
       "      <td>Southampton</td>\n",
       "      <td>Город на юге Англии, расположенный на берегу р...</td>\n",
       "      <td>253651</td>\n",
       "    </tr>\n",
       "  </tbody>\n",
       "</table>\n",
       "</div>"
      ],
      "text/plain": [
       "    0            1                                                  2        3\n",
       "0  33       London  Второй по величине город Европы. Столица Соеди...  8173900\n",
       "1  34    Birnengem  Город является центром региона Уэст-Мидлендс и...  1028700\n",
       "2  35         Lids  Третий по величине город Великобритании. Назва...   751485\n",
       "3  36     Sheffild  Один из восьми региональных центров, образующи...   551800\n",
       "4  37      Bristol  Город на юго-западе Англии. Известен своим кул...   467099\n",
       "5  38   Manchester  Город в Северо-Западной Англии. Известен своей...   547627\n",
       "6  39    Newcastle  Город на северо-востоке Англии. Известен своим...   300196\n",
       "7  40   Nottingham  Город в Восточной Англии. Известен своей архит...   330000\n",
       "8  41  Southampton  Город на юге Англии, расположенный на берегу р...   253651"
      ]
     },
     "execution_count": 18,
     "metadata": {},
     "output_type": "execute_result"
    }
   ],
   "source": [
    "df"
   ]
  },
  {
   "cell_type": "code",
   "execution_count": null,
   "id": "8753f81d",
   "metadata": {},
   "outputs": [],
   "source": []
  },
  {
   "cell_type": "code",
   "execution_count": 19,
   "id": "ba38b5b4",
   "metadata": {},
   "outputs": [
    {
     "data": {
      "text/plain": [
       "(('id', None, None, None, None, None, None),\n",
       " ('name', None, None, None, None, None, None),\n",
       " ('description', None, None, None, None, None, None),\n",
       " ('population', None, None, None, None, None, None))"
      ]
     },
     "execution_count": 19,
     "metadata": {},
     "output_type": "execute_result"
    }
   ],
   "source": [
    "# вытягиваем названия колонок\n",
    "cursor.description"
   ]
  },
  {
   "cell_type": "code",
   "execution_count": 20,
   "id": "4d7dc3f6",
   "metadata": {},
   "outputs": [],
   "source": [
    "df2 = pd.DataFrame(row, columns = [x[0] for x in cursor.description])"
   ]
  },
  {
   "cell_type": "code",
   "execution_count": 22,
   "id": "33b89f07",
   "metadata": {},
   "outputs": [
    {
     "data": {
      "text/html": [
       "<div>\n",
       "<style scoped>\n",
       "    .dataframe tbody tr th:only-of-type {\n",
       "        vertical-align: middle;\n",
       "    }\n",
       "\n",
       "    .dataframe tbody tr th {\n",
       "        vertical-align: top;\n",
       "    }\n",
       "\n",
       "    .dataframe thead th {\n",
       "        text-align: right;\n",
       "    }\n",
       "</style>\n",
       "<table border=\"1\" class=\"dataframe\">\n",
       "  <thead>\n",
       "    <tr style=\"text-align: right;\">\n",
       "      <th></th>\n",
       "      <th>id</th>\n",
       "      <th>name</th>\n",
       "      <th>description</th>\n",
       "      <th>population</th>\n",
       "    </tr>\n",
       "  </thead>\n",
       "  <tbody>\n",
       "    <tr>\n",
       "      <th>0</th>\n",
       "      <td>33</td>\n",
       "      <td>London</td>\n",
       "      <td>Второй по величине город Европы. Столица Соеди...</td>\n",
       "      <td>8173900</td>\n",
       "    </tr>\n",
       "    <tr>\n",
       "      <th>1</th>\n",
       "      <td>34</td>\n",
       "      <td>Birnengem</td>\n",
       "      <td>Город является центром региона Уэст-Мидлендс и...</td>\n",
       "      <td>1028700</td>\n",
       "    </tr>\n",
       "    <tr>\n",
       "      <th>2</th>\n",
       "      <td>35</td>\n",
       "      <td>Lids</td>\n",
       "      <td>Третий по величине город Великобритании. Назва...</td>\n",
       "      <td>751485</td>\n",
       "    </tr>\n",
       "    <tr>\n",
       "      <th>3</th>\n",
       "      <td>36</td>\n",
       "      <td>Sheffild</td>\n",
       "      <td>Один из восьми региональных центров, образующи...</td>\n",
       "      <td>551800</td>\n",
       "    </tr>\n",
       "    <tr>\n",
       "      <th>4</th>\n",
       "      <td>37</td>\n",
       "      <td>Bristol</td>\n",
       "      <td>Город на юго-западе Англии. Известен своим кул...</td>\n",
       "      <td>467099</td>\n",
       "    </tr>\n",
       "    <tr>\n",
       "      <th>5</th>\n",
       "      <td>38</td>\n",
       "      <td>Manchester</td>\n",
       "      <td>Город в Северо-Западной Англии. Известен своей...</td>\n",
       "      <td>547627</td>\n",
       "    </tr>\n",
       "    <tr>\n",
       "      <th>6</th>\n",
       "      <td>39</td>\n",
       "      <td>Newcastle</td>\n",
       "      <td>Город на северо-востоке Англии. Известен своим...</td>\n",
       "      <td>300196</td>\n",
       "    </tr>\n",
       "    <tr>\n",
       "      <th>7</th>\n",
       "      <td>40</td>\n",
       "      <td>Nottingham</td>\n",
       "      <td>Город в Восточной Англии. Известен своей архит...</td>\n",
       "      <td>330000</td>\n",
       "    </tr>\n",
       "    <tr>\n",
       "      <th>8</th>\n",
       "      <td>41</td>\n",
       "      <td>Southampton</td>\n",
       "      <td>Город на юге Англии, расположенный на берегу р...</td>\n",
       "      <td>253651</td>\n",
       "    </tr>\n",
       "  </tbody>\n",
       "</table>\n",
       "</div>"
      ],
      "text/plain": [
       "   id         name                                        description  \\\n",
       "0  33       London  Второй по величине город Европы. Столица Соеди...   \n",
       "1  34    Birnengem  Город является центром региона Уэст-Мидлендс и...   \n",
       "2  35         Lids  Третий по величине город Великобритании. Назва...   \n",
       "3  36     Sheffild  Один из восьми региональных центров, образующи...   \n",
       "4  37      Bristol  Город на юго-западе Англии. Известен своим кул...   \n",
       "5  38   Manchester  Город в Северо-Западной Англии. Известен своей...   \n",
       "6  39    Newcastle  Город на северо-востоке Англии. Известен своим...   \n",
       "7  40   Nottingham  Город в Восточной Англии. Известен своей архит...   \n",
       "8  41  Southampton  Город на юге Англии, расположенный на берегу р...   \n",
       "\n",
       "   population  \n",
       "0     8173900  \n",
       "1     1028700  \n",
       "2      751485  \n",
       "3      551800  \n",
       "4      467099  \n",
       "5      547627  \n",
       "6      300196  \n",
       "7      330000  \n",
       "8      253651  "
      ]
     },
     "execution_count": 22,
     "metadata": {},
     "output_type": "execute_result"
    }
   ],
   "source": [
    "df2"
   ]
  },
  {
   "cell_type": "code",
   "execution_count": null,
   "id": "81d2a33a",
   "metadata": {},
   "outputs": [],
   "source": []
  },
  {
   "cell_type": "code",
   "execution_count": 25,
   "id": "339e4302",
   "metadata": {},
   "outputs": [
    {
     "name": "stdout",
     "output_type": "stream",
     "text": [
      "Requirement already satisfied: sqlalchemy in c:\\users\\roman\\appdata\\local\\programs\\python\\python310\\lib\\site-packages (2.0.11)\n",
      "Requirement already satisfied: greenlet!=0.4.17 in c:\\users\\roman\\appdata\\local\\programs\\python\\python310\\lib\\site-packages (from sqlalchemy) (2.0.2)\n",
      "Requirement already satisfied: typing-extensions>=4.2.0 in c:\\users\\roman\\appdata\\local\\programs\\python\\python310\\lib\\site-packages (from sqlalchemy) (4.5.0)\n"
     ]
    },
    {
     "name": "stderr",
     "output_type": "stream",
     "text": [
      "\n",
      "[notice] A new release of pip is available: 23.0 -> 23.1.2\n",
      "[notice] To update, run: python.exe -m pip install --upgrade pip\n"
     ]
    }
   ],
   "source": [
    "# все манипуляции, проделанные выше выполняются проще с sqlalchemy\n",
    "!pip install sqlalchemy"
   ]
  },
  {
   "cell_type": "code",
   "execution_count": 36,
   "id": "f4ee9fa6",
   "metadata": {},
   "outputs": [],
   "source": [
    "import sqlalchemy as sql"
   ]
  },
  {
   "cell_type": "code",
   "execution_count": 48,
   "id": "bbc8aced",
   "metadata": {},
   "outputs": [],
   "source": [
    "conn = sql.create_engine('sqlite:///D:\\Magic\\Git\\!Pandas\\db.sqlite3')"
   ]
  },
  {
   "cell_type": "code",
   "execution_count": 51,
   "id": "72d3d708",
   "metadata": {},
   "outputs": [
    {
     "ename": "AttributeError",
     "evalue": "'OptionEngine' object has no attribute 'execute'",
     "output_type": "error",
     "traceback": [
      "\u001b[1;31m---------------------------------------------------------------------------\u001b[0m",
      "\u001b[1;31mAttributeError\u001b[0m                            Traceback (most recent call last)",
      "Cell \u001b[1;32mIn[51], line 1\u001b[0m\n\u001b[1;32m----> 1\u001b[0m df33 \u001b[38;5;241m=\u001b[39m \u001b[43mpd\u001b[49m\u001b[38;5;241;43m.\u001b[39;49m\u001b[43mread_sql\u001b[49m\u001b[43m(\u001b[49m\u001b[38;5;124;43m'\u001b[39;49m\u001b[38;5;124;43mselect * from town\u001b[39;49m\u001b[38;5;124;43m'\u001b[39;49m\u001b[43m,\u001b[49m\u001b[43m \u001b[49m\u001b[43mconn\u001b[49m\u001b[43m)\u001b[49m\n",
      "File \u001b[1;32m~\\AppData\\Local\\Programs\\Python\\Python310\\lib\\site-packages\\pandas\\io\\sql.py:590\u001b[0m, in \u001b[0;36mread_sql\u001b[1;34m(sql, con, index_col, coerce_float, params, parse_dates, columns, chunksize)\u001b[0m\n\u001b[0;32m    581\u001b[0m     \u001b[38;5;28;01mreturn\u001b[39;00m pandas_sql\u001b[38;5;241m.\u001b[39mread_table(\n\u001b[0;32m    582\u001b[0m         sql,\n\u001b[0;32m    583\u001b[0m         index_col\u001b[38;5;241m=\u001b[39mindex_col,\n\u001b[1;32m   (...)\u001b[0m\n\u001b[0;32m    587\u001b[0m         chunksize\u001b[38;5;241m=\u001b[39mchunksize,\n\u001b[0;32m    588\u001b[0m     )\n\u001b[0;32m    589\u001b[0m \u001b[38;5;28;01melse\u001b[39;00m:\n\u001b[1;32m--> 590\u001b[0m     \u001b[38;5;28;01mreturn\u001b[39;00m \u001b[43mpandas_sql\u001b[49m\u001b[38;5;241;43m.\u001b[39;49m\u001b[43mread_query\u001b[49m\u001b[43m(\u001b[49m\n\u001b[0;32m    591\u001b[0m \u001b[43m        \u001b[49m\u001b[43msql\u001b[49m\u001b[43m,\u001b[49m\n\u001b[0;32m    592\u001b[0m \u001b[43m        \u001b[49m\u001b[43mindex_col\u001b[49m\u001b[38;5;241;43m=\u001b[39;49m\u001b[43mindex_col\u001b[49m\u001b[43m,\u001b[49m\n\u001b[0;32m    593\u001b[0m \u001b[43m        \u001b[49m\u001b[43mparams\u001b[49m\u001b[38;5;241;43m=\u001b[39;49m\u001b[43mparams\u001b[49m\u001b[43m,\u001b[49m\n\u001b[0;32m    594\u001b[0m \u001b[43m        \u001b[49m\u001b[43mcoerce_float\u001b[49m\u001b[38;5;241;43m=\u001b[39;49m\u001b[43mcoerce_float\u001b[49m\u001b[43m,\u001b[49m\n\u001b[0;32m    595\u001b[0m \u001b[43m        \u001b[49m\u001b[43mparse_dates\u001b[49m\u001b[38;5;241;43m=\u001b[39;49m\u001b[43mparse_dates\u001b[49m\u001b[43m,\u001b[49m\n\u001b[0;32m    596\u001b[0m \u001b[43m        \u001b[49m\u001b[43mchunksize\u001b[49m\u001b[38;5;241;43m=\u001b[39;49m\u001b[43mchunksize\u001b[49m\u001b[43m,\u001b[49m\n\u001b[0;32m    597\u001b[0m \u001b[43m    \u001b[49m\u001b[43m)\u001b[49m\n",
      "File \u001b[1;32m~\\AppData\\Local\\Programs\\Python\\Python310\\lib\\site-packages\\pandas\\io\\sql.py:1560\u001b[0m, in \u001b[0;36mSQLDatabase.read_query\u001b[1;34m(self, sql, index_col, coerce_float, parse_dates, params, chunksize, dtype)\u001b[0m\n\u001b[0;32m   1512\u001b[0m \u001b[38;5;250m\u001b[39m\u001b[38;5;124;03m\"\"\"\u001b[39;00m\n\u001b[0;32m   1513\u001b[0m \u001b[38;5;124;03mRead SQL query into a DataFrame.\u001b[39;00m\n\u001b[0;32m   1514\u001b[0m \n\u001b[1;32m   (...)\u001b[0m\n\u001b[0;32m   1556\u001b[0m \n\u001b[0;32m   1557\u001b[0m \u001b[38;5;124;03m\"\"\"\u001b[39;00m\n\u001b[0;32m   1558\u001b[0m args \u001b[38;5;241m=\u001b[39m _convert_params(sql, params)\n\u001b[1;32m-> 1560\u001b[0m result \u001b[38;5;241m=\u001b[39m \u001b[38;5;28;43mself\u001b[39;49m\u001b[38;5;241;43m.\u001b[39;49m\u001b[43mexecute\u001b[49m\u001b[43m(\u001b[49m\u001b[38;5;241;43m*\u001b[39;49m\u001b[43margs\u001b[49m\u001b[43m)\u001b[49m\n\u001b[0;32m   1561\u001b[0m columns \u001b[38;5;241m=\u001b[39m result\u001b[38;5;241m.\u001b[39mkeys()\n\u001b[0;32m   1563\u001b[0m \u001b[38;5;28;01mif\u001b[39;00m chunksize \u001b[38;5;129;01mis\u001b[39;00m \u001b[38;5;129;01mnot\u001b[39;00m \u001b[38;5;28;01mNone\u001b[39;00m:\n",
      "File \u001b[1;32m~\\AppData\\Local\\Programs\\Python\\Python310\\lib\\site-packages\\pandas\\io\\sql.py:1405\u001b[0m, in \u001b[0;36mSQLDatabase.execute\u001b[1;34m(self, *args, **kwargs)\u001b[0m\n\u001b[0;32m   1403\u001b[0m \u001b[38;5;28;01mdef\u001b[39;00m \u001b[38;5;21mexecute\u001b[39m(\u001b[38;5;28mself\u001b[39m, \u001b[38;5;241m*\u001b[39margs, \u001b[38;5;241m*\u001b[39m\u001b[38;5;241m*\u001b[39mkwargs):\n\u001b[0;32m   1404\u001b[0m \u001b[38;5;250m    \u001b[39m\u001b[38;5;124;03m\"\"\"Simple passthrough to SQLAlchemy connectable\"\"\"\u001b[39;00m\n\u001b[1;32m-> 1405\u001b[0m     \u001b[38;5;28;01mreturn\u001b[39;00m \u001b[38;5;28;43mself\u001b[39;49m\u001b[38;5;241;43m.\u001b[39;49m\u001b[43mconnectable\u001b[49m\u001b[38;5;241;43m.\u001b[39;49m\u001b[43mexecution_options\u001b[49m\u001b[43m(\u001b[49m\u001b[43m)\u001b[49m\u001b[38;5;241;43m.\u001b[39;49m\u001b[43mexecute\u001b[49m(\u001b[38;5;241m*\u001b[39margs, \u001b[38;5;241m*\u001b[39m\u001b[38;5;241m*\u001b[39mkwargs)\n",
      "\u001b[1;31mAttributeError\u001b[0m: 'OptionEngine' object has no attribute 'execute'"
     ]
    }
   ],
   "source": [
    "df33 = pd.read_sql('select * from town', conn)"
   ]
  },
  {
   "cell_type": "code",
   "execution_count": 44,
   "id": "cdc45c3e",
   "metadata": {},
   "outputs": [
    {
     "ename": "NameError",
     "evalue": "name 'df33' is not defined",
     "output_type": "error",
     "traceback": [
      "\u001b[1;31m---------------------------------------------------------------------------\u001b[0m",
      "\u001b[1;31mNameError\u001b[0m                                 Traceback (most recent call last)",
      "Cell \u001b[1;32mIn[44], line 1\u001b[0m\n\u001b[1;32m----> 1\u001b[0m \u001b[43mdf33\u001b[49m\n",
      "\u001b[1;31mNameError\u001b[0m: name 'df33' is not defined"
     ]
    }
   ],
   "source": [
    "df33"
   ]
  },
  {
   "cell_type": "code",
   "execution_count": null,
   "id": "6ad02ebf",
   "metadata": {},
   "outputs": [],
   "source": []
  },
  {
   "cell_type": "code",
   "execution_count": null,
   "id": "a41fb1ff",
   "metadata": {},
   "outputs": [],
   "source": []
  }
 ],
 "metadata": {
  "kernelspec": {
   "display_name": "Python 3 (ipykernel)",
   "language": "python",
   "name": "python3"
  },
  "language_info": {
   "codemirror_mode": {
    "name": "ipython",
    "version": 3
   },
   "file_extension": ".py",
   "mimetype": "text/x-python",
   "name": "python",
   "nbconvert_exporter": "python",
   "pygments_lexer": "ipython3",
   "version": "3.10.0"
  }
 },
 "nbformat": 4,
 "nbformat_minor": 5
}
