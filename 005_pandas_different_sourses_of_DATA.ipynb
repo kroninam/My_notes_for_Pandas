{
 "cells": [
  {
   "cell_type": "code",
   "execution_count": 2,
   "id": "571b2028",
   "metadata": {},
   "outputs": [],
   "source": [
    "import pandas as pd\n",
    "import numpy as np"
   ]
  },
  {
   "cell_type": "code",
   "execution_count": 13,
   "id": "7076ee10",
   "metadata": {},
   "outputs": [],
   "source": [
    "f = open('example.csv')"
   ]
  },
  {
   "cell_type": "code",
   "execution_count": 7,
   "id": "9a4d6d00",
   "metadata": {},
   "outputs": [
    {
     "name": "stdout",
     "output_type": "stream",
     "text": [
      "a,b,c\n",
      "\n",
      "1,2,3\n",
      "\n",
      "4,5,6\n",
      "\n",
      "7,8,9\n"
     ]
    }
   ],
   "source": [
    "for i in f:\n",
    "    print(i)\n",
    "f.close()"
   ]
  },
  {
   "cell_type": "code",
   "execution_count": null,
   "id": "f587a93f",
   "metadata": {},
   "outputs": [],
   "source": []
  },
  {
   "cell_type": "code",
   "execution_count": 12,
   "id": "dfa9a598",
   "metadata": {},
   "outputs": [
    {
     "name": "stdout",
     "output_type": "stream",
     "text": [
      "['a', 'b', 'c\\n']\n",
      "['1', '2', '3\\n']\n",
      "['4', '5', '6\\n']\n",
      "['7', '8', '9']\n"
     ]
    }
   ],
   "source": [
    "for i in f:\n",
    "    print(i.split(','))\n",
    "f.close()"
   ]
  },
  {
   "cell_type": "code",
   "execution_count": null,
   "id": "3157dd90",
   "metadata": {},
   "outputs": [],
   "source": []
  },
  {
   "cell_type": "code",
   "execution_count": 14,
   "id": "e0a48bb8",
   "metadata": {},
   "outputs": [],
   "source": [
    "matrix = []\n",
    "for i in f:\n",
    "    matrix.append((i.split(',')))\n",
    "f.close()"
   ]
  },
  {
   "cell_type": "code",
   "execution_count": 15,
   "id": "a14048e7",
   "metadata": {},
   "outputs": [
    {
     "data": {
      "text/plain": [
       "[['a', 'b', 'c\\n'], ['1', '2', '3\\n'], ['4', '5', '6\\n'], ['7', '8', '9']]"
      ]
     },
     "execution_count": 15,
     "metadata": {},
     "output_type": "execute_result"
    }
   ],
   "source": [
    "matrix"
   ]
  },
  {
   "cell_type": "code",
   "execution_count": null,
   "id": "24f715f3",
   "metadata": {},
   "outputs": [],
   "source": []
  },
  {
   "cell_type": "code",
   "execution_count": 16,
   "id": "a8cf69c2",
   "metadata": {},
   "outputs": [],
   "source": [
    "df = pd.DataFrame(matrix)"
   ]
  },
  {
   "cell_type": "code",
   "execution_count": 17,
   "id": "6e60c967",
   "metadata": {},
   "outputs": [
    {
     "data": {
      "text/html": [
       "<div>\n",
       "<style scoped>\n",
       "    .dataframe tbody tr th:only-of-type {\n",
       "        vertical-align: middle;\n",
       "    }\n",
       "\n",
       "    .dataframe tbody tr th {\n",
       "        vertical-align: top;\n",
       "    }\n",
       "\n",
       "    .dataframe thead th {\n",
       "        text-align: right;\n",
       "    }\n",
       "</style>\n",
       "<table border=\"1\" class=\"dataframe\">\n",
       "  <thead>\n",
       "    <tr style=\"text-align: right;\">\n",
       "      <th></th>\n",
       "      <th>0</th>\n",
       "      <th>1</th>\n",
       "      <th>2</th>\n",
       "    </tr>\n",
       "  </thead>\n",
       "  <tbody>\n",
       "    <tr>\n",
       "      <th>0</th>\n",
       "      <td>a</td>\n",
       "      <td>b</td>\n",
       "      <td>c\\n</td>\n",
       "    </tr>\n",
       "    <tr>\n",
       "      <th>1</th>\n",
       "      <td>1</td>\n",
       "      <td>2</td>\n",
       "      <td>3\\n</td>\n",
       "    </tr>\n",
       "    <tr>\n",
       "      <th>2</th>\n",
       "      <td>4</td>\n",
       "      <td>5</td>\n",
       "      <td>6\\n</td>\n",
       "    </tr>\n",
       "    <tr>\n",
       "      <th>3</th>\n",
       "      <td>7</td>\n",
       "      <td>8</td>\n",
       "      <td>9</td>\n",
       "    </tr>\n",
       "  </tbody>\n",
       "</table>\n",
       "</div>"
      ],
      "text/plain": [
       "   0  1    2\n",
       "0  a  b  c\\n\n",
       "1  1  2  3\\n\n",
       "2  4  5  6\\n\n",
       "3  7  8    9"
      ]
     },
     "execution_count": 17,
     "metadata": {},
     "output_type": "execute_result"
    }
   ],
   "source": [
    "df"
   ]
  },
  {
   "cell_type": "code",
   "execution_count": null,
   "id": "9c8fe908",
   "metadata": {},
   "outputs": [],
   "source": []
  },
  {
   "cell_type": "code",
   "execution_count": 18,
   "id": "b0281749",
   "metadata": {},
   "outputs": [
    {
     "data": {
      "text/html": [
       "<div>\n",
       "<style scoped>\n",
       "    .dataframe tbody tr th:only-of-type {\n",
       "        vertical-align: middle;\n",
       "    }\n",
       "\n",
       "    .dataframe tbody tr th {\n",
       "        vertical-align: top;\n",
       "    }\n",
       "\n",
       "    .dataframe thead th {\n",
       "        text-align: right;\n",
       "    }\n",
       "</style>\n",
       "<table border=\"1\" class=\"dataframe\">\n",
       "  <thead>\n",
       "    <tr style=\"text-align: right;\">\n",
       "      <th></th>\n",
       "      <th>a</th>\n",
       "      <th>b</th>\n",
       "      <th>c</th>\n",
       "    </tr>\n",
       "  </thead>\n",
       "  <tbody>\n",
       "    <tr>\n",
       "      <th>0</th>\n",
       "      <td>1</td>\n",
       "      <td>2</td>\n",
       "      <td>3</td>\n",
       "    </tr>\n",
       "    <tr>\n",
       "      <th>1</th>\n",
       "      <td>4</td>\n",
       "      <td>5</td>\n",
       "      <td>6</td>\n",
       "    </tr>\n",
       "    <tr>\n",
       "      <th>2</th>\n",
       "      <td>7</td>\n",
       "      <td>8</td>\n",
       "      <td>9</td>\n",
       "    </tr>\n",
       "  </tbody>\n",
       "</table>\n",
       "</div>"
      ],
      "text/plain": [
       "   a  b  c\n",
       "0  1  2  3\n",
       "1  4  5  6\n",
       "2  7  8  9"
      ]
     },
     "execution_count": 18,
     "metadata": {},
     "output_type": "execute_result"
    }
   ],
   "source": [
    "pd.read_csv('example.csv')"
   ]
  },
  {
   "cell_type": "code",
   "execution_count": null,
   "id": "3fcc7041",
   "metadata": {},
   "outputs": [],
   "source": []
  },
  {
   "cell_type": "code",
   "execution_count": null,
   "id": "fd92e8a7",
   "metadata": {},
   "outputs": [],
   "source": [
    "## Задание\n",
    "\n",
    "# Скачайте набор данных в формате CSV. Набор данных содержит подробную информацию об общем \n",
    "# количестве проходов пассажиров на станции метрополитена через турникеты по входу и об общем количестве выходов, \n",
    "# осуществленных пассажирами со станций метрополитена.\n",
    "\n",
    "# Источник данных: Портал открытых данных Правительства Москвы: Пассажиропоток по станциям Московского метрополитена\n",
    "\n",
    "\n",
    "# Задание:\n",
    "\n",
    "# 1) скачайте файл с данными \n",
    "# (файл скачан и перемещен в эту же папку с jupyter notebook - название - Пассажиропоток_МосМетро_2.csv)\n",
    "\n",
    "# 2) определите разделитель и загрузите данные в датафрейм\n",
    "\n",
    "# 3) определите название станции, на которой было наибольшее количество входов за 4 квартал 2021 года\n",
    "\n",
    "# В ответе укажите название станции"
   ]
  },
  {
   "cell_type": "code",
   "execution_count": 24,
   "id": "76acd237",
   "metadata": {},
   "outputs": [],
   "source": [
    "df = pd.read_csv('Пассажиропоток_МосМетро_2.csv', sep = ';')"
   ]
  },
  {
   "cell_type": "code",
   "execution_count": 32,
   "id": "bfca5720",
   "metadata": {},
   "outputs": [],
   "source": [
    "# если открывать из загрузок\n",
    "df = pd.read_csv('C:/Users/roman/Downloads/Пассажиропоток_МосМетро_2.csv', sep = ';')"
   ]
  },
  {
   "cell_type": "code",
   "execution_count": 33,
   "id": "801769ef",
   "metadata": {},
   "outputs": [
    {
     "data": {
      "text/html": [
       "<div>\n",
       "<style scoped>\n",
       "    .dataframe tbody tr th:only-of-type {\n",
       "        vertical-align: middle;\n",
       "    }\n",
       "\n",
       "    .dataframe tbody tr th {\n",
       "        vertical-align: top;\n",
       "    }\n",
       "\n",
       "    .dataframe thead th {\n",
       "        text-align: right;\n",
       "    }\n",
       "</style>\n",
       "<table border=\"1\" class=\"dataframe\">\n",
       "  <thead>\n",
       "    <tr style=\"text-align: right;\">\n",
       "      <th></th>\n",
       "      <th>NameOfStation</th>\n",
       "      <th>Line</th>\n",
       "      <th>Year</th>\n",
       "      <th>Quarter</th>\n",
       "      <th>IncomingPassengers</th>\n",
       "      <th>OutgoingPassengers</th>\n",
       "      <th>global_id</th>\n",
       "      <th>NameOfStation_en</th>\n",
       "      <th>Line_en</th>\n",
       "      <th>Year_en</th>\n",
       "      <th>Quarter_en</th>\n",
       "      <th>IncomingPassengers_en</th>\n",
       "      <th>OutgoingPassengers_en</th>\n",
       "      <th>Unnamed: 13</th>\n",
       "    </tr>\n",
       "  </thead>\n",
       "  <tbody>\n",
       "    <tr>\n",
       "      <th>0</th>\n",
       "      <td>Станция метрополитена</td>\n",
       "      <td>Линия</td>\n",
       "      <td>Год</td>\n",
       "      <td>Квартал</td>\n",
       "      <td>Входы пассажиров</td>\n",
       "      <td>Выходы пассажиров</td>\n",
       "      <td>global_id</td>\n",
       "      <td>NameOfStation_en</td>\n",
       "      <td>Line_en</td>\n",
       "      <td>Year_en</td>\n",
       "      <td>Quarter_en</td>\n",
       "      <td>IncomingPassengers_en</td>\n",
       "      <td>OutgoingPassengers_en</td>\n",
       "      <td>NaN</td>\n",
       "    </tr>\n",
       "    <tr>\n",
       "      <th>1</th>\n",
       "      <td>Митино</td>\n",
       "      <td>Арбатско-Покровская линия</td>\n",
       "      <td>2021</td>\n",
       "      <td>I квартал</td>\n",
       "      <td>1913498</td>\n",
       "      <td>1829031</td>\n",
       "      <td>1138975996</td>\n",
       "      <td>NaN</td>\n",
       "      <td>NaN</td>\n",
       "      <td>NaN</td>\n",
       "      <td>NaN</td>\n",
       "      <td>NaN</td>\n",
       "      <td>NaN</td>\n",
       "      <td>NaN</td>\n",
       "    </tr>\n",
       "    <tr>\n",
       "      <th>2</th>\n",
       "      <td>Волоколамская</td>\n",
       "      <td>Арбатско-Покровская линия</td>\n",
       "      <td>2021</td>\n",
       "      <td>I квартал</td>\n",
       "      <td>1236714</td>\n",
       "      <td>1222309</td>\n",
       "      <td>1138975997</td>\n",
       "      <td>NaN</td>\n",
       "      <td>NaN</td>\n",
       "      <td>NaN</td>\n",
       "      <td>NaN</td>\n",
       "      <td>NaN</td>\n",
       "      <td>NaN</td>\n",
       "      <td>NaN</td>\n",
       "    </tr>\n",
       "    <tr>\n",
       "      <th>3</th>\n",
       "      <td>Строгино</td>\n",
       "      <td>Арбатско-Покровская линия</td>\n",
       "      <td>2021</td>\n",
       "      <td>I квартал</td>\n",
       "      <td>1938816</td>\n",
       "      <td>1903731</td>\n",
       "      <td>1138975999</td>\n",
       "      <td>NaN</td>\n",
       "      <td>NaN</td>\n",
       "      <td>NaN</td>\n",
       "      <td>NaN</td>\n",
       "      <td>NaN</td>\n",
       "      <td>NaN</td>\n",
       "      <td>NaN</td>\n",
       "    </tr>\n",
       "    <tr>\n",
       "      <th>4</th>\n",
       "      <td>Крылатское</td>\n",
       "      <td>Арбатско-Покровская линия</td>\n",
       "      <td>2021</td>\n",
       "      <td>I квартал</td>\n",
       "      <td>1849616</td>\n",
       "      <td>1818208</td>\n",
       "      <td>1138976000</td>\n",
       "      <td>NaN</td>\n",
       "      <td>NaN</td>\n",
       "      <td>NaN</td>\n",
       "      <td>NaN</td>\n",
       "      <td>NaN</td>\n",
       "      <td>NaN</td>\n",
       "      <td>NaN</td>\n",
       "    </tr>\n",
       "    <tr>\n",
       "      <th>...</th>\n",
       "      <td>...</td>\n",
       "      <td>...</td>\n",
       "      <td>...</td>\n",
       "      <td>...</td>\n",
       "      <td>...</td>\n",
       "      <td>...</td>\n",
       "      <td>...</td>\n",
       "      <td>...</td>\n",
       "      <td>...</td>\n",
       "      <td>...</td>\n",
       "      <td>...</td>\n",
       "      <td>...</td>\n",
       "      <td>...</td>\n",
       "      <td>...</td>\n",
       "    </tr>\n",
       "    <tr>\n",
       "      <th>1368</th>\n",
       "      <td>Китай-город</td>\n",
       "      <td>Таганско-Краснопресненская линия</td>\n",
       "      <td>2022</td>\n",
       "      <td>I квартал</td>\n",
       "      <td>0</td>\n",
       "      <td>0</td>\n",
       "      <td>2363487484</td>\n",
       "      <td>NaN</td>\n",
       "      <td>NaN</td>\n",
       "      <td>NaN</td>\n",
       "      <td>NaN</td>\n",
       "      <td>NaN</td>\n",
       "      <td>NaN</td>\n",
       "      <td>NaN</td>\n",
       "    </tr>\n",
       "    <tr>\n",
       "      <th>1369</th>\n",
       "      <td>Киевская</td>\n",
       "      <td>Филёвская линия</td>\n",
       "      <td>2022</td>\n",
       "      <td>I квартал</td>\n",
       "      <td>0</td>\n",
       "      <td>0</td>\n",
       "      <td>2363487549</td>\n",
       "      <td>NaN</td>\n",
       "      <td>NaN</td>\n",
       "      <td>NaN</td>\n",
       "      <td>NaN</td>\n",
       "      <td>NaN</td>\n",
       "      <td>NaN</td>\n",
       "      <td>NaN</td>\n",
       "    </tr>\n",
       "    <tr>\n",
       "      <th>1370</th>\n",
       "      <td>Улица Милашенкова</td>\n",
       "      <td>Московская монорельсовая транспортная система</td>\n",
       "      <td>2021</td>\n",
       "      <td>IV квартал</td>\n",
       "      <td>17991</td>\n",
       "      <td>17295</td>\n",
       "      <td>2363643842</td>\n",
       "      <td>NaN</td>\n",
       "      <td>NaN</td>\n",
       "      <td>NaN</td>\n",
       "      <td>NaN</td>\n",
       "      <td>NaN</td>\n",
       "      <td>NaN</td>\n",
       "      <td>NaN</td>\n",
       "    </tr>\n",
       "    <tr>\n",
       "      <th>1371</th>\n",
       "      <td>Кунцевская</td>\n",
       "      <td>Филёвская линия</td>\n",
       "      <td>2022</td>\n",
       "      <td>I квартал</td>\n",
       "      <td>543507</td>\n",
       "      <td>529972</td>\n",
       "      <td>2363644363</td>\n",
       "      <td>NaN</td>\n",
       "      <td>NaN</td>\n",
       "      <td>NaN</td>\n",
       "      <td>NaN</td>\n",
       "      <td>NaN</td>\n",
       "      <td>NaN</td>\n",
       "      <td>NaN</td>\n",
       "    </tr>\n",
       "    <tr>\n",
       "      <th>1372</th>\n",
       "      <td>Смоленская</td>\n",
       "      <td>Филёвская линия</td>\n",
       "      <td>2022</td>\n",
       "      <td>I квартал</td>\n",
       "      <td>726197</td>\n",
       "      <td>742423</td>\n",
       "      <td>2363644369</td>\n",
       "      <td>NaN</td>\n",
       "      <td>NaN</td>\n",
       "      <td>NaN</td>\n",
       "      <td>NaN</td>\n",
       "      <td>NaN</td>\n",
       "      <td>NaN</td>\n",
       "      <td>NaN</td>\n",
       "    </tr>\n",
       "  </tbody>\n",
       "</table>\n",
       "<p>1373 rows × 14 columns</p>\n",
       "</div>"
      ],
      "text/plain": [
       "              NameOfStation                                           Line  \\\n",
       "0     Станция метрополитена                                          Линия   \n",
       "1                    Митино                      Арбатско-Покровская линия   \n",
       "2             Волоколамская                      Арбатско-Покровская линия   \n",
       "3                  Строгино                      Арбатско-Покровская линия   \n",
       "4                Крылатское                      Арбатско-Покровская линия   \n",
       "...                     ...                                            ...   \n",
       "1368            Китай-город               Таганско-Краснопресненская линия   \n",
       "1369               Киевская                                Филёвская линия   \n",
       "1370      Улица Милашенкова  Московская монорельсовая транспортная система   \n",
       "1371             Кунцевская                                Филёвская линия   \n",
       "1372             Смоленская                                Филёвская линия   \n",
       "\n",
       "      Year     Quarter IncomingPassengers OutgoingPassengers   global_id  \\\n",
       "0      Год     Квартал   Входы пассажиров  Выходы пассажиров   global_id   \n",
       "1     2021   I квартал            1913498            1829031  1138975996   \n",
       "2     2021   I квартал            1236714            1222309  1138975997   \n",
       "3     2021   I квартал            1938816            1903731  1138975999   \n",
       "4     2021   I квартал            1849616            1818208  1138976000   \n",
       "...    ...         ...                ...                ...         ...   \n",
       "1368  2022   I квартал                  0                  0  2363487484   \n",
       "1369  2022   I квартал                  0                  0  2363487549   \n",
       "1370  2021  IV квартал              17991              17295  2363643842   \n",
       "1371  2022   I квартал             543507             529972  2363644363   \n",
       "1372  2022   I квартал             726197             742423  2363644369   \n",
       "\n",
       "      NameOfStation_en  Line_en  Year_en  Quarter_en  IncomingPassengers_en  \\\n",
       "0     NameOfStation_en  Line_en  Year_en  Quarter_en  IncomingPassengers_en   \n",
       "1                  NaN      NaN      NaN         NaN                    NaN   \n",
       "2                  NaN      NaN      NaN         NaN                    NaN   \n",
       "3                  NaN      NaN      NaN         NaN                    NaN   \n",
       "4                  NaN      NaN      NaN         NaN                    NaN   \n",
       "...                ...      ...      ...         ...                    ...   \n",
       "1368               NaN      NaN      NaN         NaN                    NaN   \n",
       "1369               NaN      NaN      NaN         NaN                    NaN   \n",
       "1370               NaN      NaN      NaN         NaN                    NaN   \n",
       "1371               NaN      NaN      NaN         NaN                    NaN   \n",
       "1372               NaN      NaN      NaN         NaN                    NaN   \n",
       "\n",
       "      OutgoingPassengers_en  Unnamed: 13  \n",
       "0     OutgoingPassengers_en          NaN  \n",
       "1                       NaN          NaN  \n",
       "2                       NaN          NaN  \n",
       "3                       NaN          NaN  \n",
       "4                       NaN          NaN  \n",
       "...                     ...          ...  \n",
       "1368                    NaN          NaN  \n",
       "1369                    NaN          NaN  \n",
       "1370                    NaN          NaN  \n",
       "1371                    NaN          NaN  \n",
       "1372                    NaN          NaN  \n",
       "\n",
       "[1373 rows x 14 columns]"
      ]
     },
     "execution_count": 33,
     "metadata": {},
     "output_type": "execute_result"
    }
   ],
   "source": [
    "df"
   ]
  },
  {
   "cell_type": "code",
   "execution_count": 61,
   "id": "333591f9",
   "metadata": {},
   "outputs": [],
   "source": [
    "mask = df.IncomingPassengers[1:].astype('int64').max()"
   ]
  },
  {
   "cell_type": "code",
   "execution_count": 62,
   "id": "a2ef1f0c",
   "metadata": {},
   "outputs": [
    {
     "data": {
      "text/plain": [
       "'7660212'"
      ]
     },
     "execution_count": 62,
     "metadata": {},
     "output_type": "execute_result"
    }
   ],
   "source": [
    "str(mask)"
   ]
  },
  {
   "cell_type": "code",
   "execution_count": null,
   "id": "ed35e48e",
   "metadata": {},
   "outputs": [],
   "source": []
  },
  {
   "cell_type": "code",
   "execution_count": 68,
   "id": "2330df3b",
   "metadata": {},
   "outputs": [
    {
     "data": {
      "text/plain": [
       "957    Комсомольская\n",
       "Name: NameOfStation, dtype: object"
      ]
     },
     "execution_count": 68,
     "metadata": {},
     "output_type": "execute_result"
    }
   ],
   "source": [
    "df.NameOfStation[1:][(df.IncomingPassengers[1:] == str(mask)) & (df.Quarter[1:] == 'IV квартал') & (df.Year[1:] == '2021')]"
   ]
  },
  {
   "cell_type": "code",
   "execution_count": null,
   "id": "e0c222cf",
   "metadata": {},
   "outputs": [],
   "source": []
  },
  {
   "cell_type": "code",
   "execution_count": null,
   "id": "adfe0f6e",
   "metadata": {},
   "outputs": [],
   "source": [
    "## Задание"
   ]
  },
  {
   "cell_type": "code",
   "execution_count": null,
   "id": "1ef9de7b",
   "metadata": {},
   "outputs": [],
   "source": [
    "Скачайте набор данных в формате CSV. Набор данных содержит подробную информацию об общем \n",
    "количестве проходов пассажиров на станции метрополитена через турникеты по входу и об \n",
    "общем количестве выходов, осуществленных пассажирами со станций метрополитена.\n",
    "\n",
    "Источник данных: Портал открытых данных Правительства Москвы: Пассажиропоток по станциям Московского метрополитена\n",
    "\n",
    "В файл были внесены некоторые изменения для отработки навыков.\n",
    "\n",
    " \n",
    "\n",
    "Задание:\n",
    "\n",
    "1) скачайте файл с данными - файл скачен в директорию с jupyter notebook с названием 'Пассажиропоток_МосМетро_3.csv'\n",
    "\n",
    "2) определите разделитель и загрузите данные в датафрейм. Возможно потребуется пропустить \n",
    "какие-то записи для того чтобы загрузка прошла успешно.\n",
    "\n",
    "3) определите сколько всего было входов по всем станциям за всё время (сумма по столбцу IncomingPassengers)\n",
    "\n",
    "В ответе укажите целое число без пробелов"
   ]
  },
  {
   "cell_type": "code",
   "execution_count": 126,
   "id": "7c1d1a29",
   "metadata": {},
   "outputs": [],
   "source": [
    "df = pd.read_csv('C:/Users/roman/Downloads/Пассажиропоток_МосМетро_3.csv', sep = '|', skiprows = [0, 1, 2, 3, 5,6], na_values = ['\\n'])"
   ]
  },
  {
   "cell_type": "code",
   "execution_count": null,
   "id": "2e316ff3",
   "metadata": {},
   "outputs": [],
   "source": []
  },
  {
   "cell_type": "code",
   "execution_count": null,
   "id": "1569ff15",
   "metadata": {},
   "outputs": [],
   "source": []
  },
  {
   "cell_type": "code",
   "execution_count": 127,
   "id": "5cfe6c8b",
   "metadata": {},
   "outputs": [
    {
     "data": {
      "text/html": [
       "<div>\n",
       "<style scoped>\n",
       "    .dataframe tbody tr th:only-of-type {\n",
       "        vertical-align: middle;\n",
       "    }\n",
       "\n",
       "    .dataframe tbody tr th {\n",
       "        vertical-align: top;\n",
       "    }\n",
       "\n",
       "    .dataframe thead th {\n",
       "        text-align: right;\n",
       "    }\n",
       "</style>\n",
       "<table border=\"1\" class=\"dataframe\">\n",
       "  <thead>\n",
       "    <tr style=\"text-align: right;\">\n",
       "      <th></th>\n",
       "      <th>NameOfStation</th>\n",
       "      <th>Line</th>\n",
       "      <th>Year</th>\n",
       "      <th>Quarter</th>\n",
       "      <th>IncomingPassengers</th>\n",
       "      <th>OutgoingPassengers</th>\n",
       "      <th>global_id</th>\n",
       "      <th>NameOfStation_en</th>\n",
       "      <th>Line_en</th>\n",
       "      <th>Year_en</th>\n",
       "      <th>Quarter_en</th>\n",
       "      <th>IncomingPassengers_en</th>\n",
       "      <th>OutgoingPassengers_en</th>\n",
       "      <th>Unnamed: 13</th>\n",
       "    </tr>\n",
       "  </thead>\n",
       "  <tbody>\n",
       "    <tr>\n",
       "      <th>0</th>\n",
       "      <td>Митино</td>\n",
       "      <td>Арбатско-Покровская линия</td>\n",
       "      <td>2021.0</td>\n",
       "      <td>I квартал</td>\n",
       "      <td>1913498.0</td>\n",
       "      <td>1829031.0</td>\n",
       "      <td>1.138976e+09</td>\n",
       "      <td>NaN</td>\n",
       "      <td>NaN</td>\n",
       "      <td>NaN</td>\n",
       "      <td>NaN</td>\n",
       "      <td>NaN</td>\n",
       "      <td>NaN</td>\n",
       "      <td>NaN</td>\n",
       "    </tr>\n",
       "    <tr>\n",
       "      <th>1</th>\n",
       "      <td>Волоколамская</td>\n",
       "      <td>Арбатско-Покровская линия</td>\n",
       "      <td>2021.0</td>\n",
       "      <td>I квартал</td>\n",
       "      <td>1236714.0</td>\n",
       "      <td>1222309.0</td>\n",
       "      <td>1.138976e+09</td>\n",
       "      <td>NaN</td>\n",
       "      <td>NaN</td>\n",
       "      <td>NaN</td>\n",
       "      <td>NaN</td>\n",
       "      <td>NaN</td>\n",
       "      <td>NaN</td>\n",
       "      <td>NaN</td>\n",
       "    </tr>\n",
       "    <tr>\n",
       "      <th>2</th>\n",
       "      <td>Строгино</td>\n",
       "      <td>Арбатско-Покровская линия</td>\n",
       "      <td>2021.0</td>\n",
       "      <td>I квартал</td>\n",
       "      <td>1938816.0</td>\n",
       "      <td>1903731.0</td>\n",
       "      <td>1.138976e+09</td>\n",
       "      <td>NaN</td>\n",
       "      <td>NaN</td>\n",
       "      <td>NaN</td>\n",
       "      <td>NaN</td>\n",
       "      <td>NaN</td>\n",
       "      <td>NaN</td>\n",
       "      <td>NaN</td>\n",
       "    </tr>\n",
       "    <tr>\n",
       "      <th>3</th>\n",
       "      <td>Крылатское</td>\n",
       "      <td>Арбатско-Покровская линия</td>\n",
       "      <td>2021.0</td>\n",
       "      <td>I квартал</td>\n",
       "      <td>1849616.0</td>\n",
       "      <td>1818208.0</td>\n",
       "      <td>1.138976e+09</td>\n",
       "      <td>NaN</td>\n",
       "      <td>NaN</td>\n",
       "      <td>NaN</td>\n",
       "      <td>NaN</td>\n",
       "      <td>NaN</td>\n",
       "      <td>NaN</td>\n",
       "      <td>NaN</td>\n",
       "    </tr>\n",
       "    <tr>\n",
       "      <th>4</th>\n",
       "      <td>Площадь Революции</td>\n",
       "      <td>Арбатско-Покровская линия</td>\n",
       "      <td>2021.0</td>\n",
       "      <td>I квартал</td>\n",
       "      <td>2324687.0</td>\n",
       "      <td>2319343.0</td>\n",
       "      <td>1.138976e+09</td>\n",
       "      <td>NaN</td>\n",
       "      <td>NaN</td>\n",
       "      <td>NaN</td>\n",
       "      <td>NaN</td>\n",
       "      <td>NaN</td>\n",
       "      <td>NaN</td>\n",
       "      <td>NaN</td>\n",
       "    </tr>\n",
       "    <tr>\n",
       "      <th>...</th>\n",
       "      <td>...</td>\n",
       "      <td>...</td>\n",
       "      <td>...</td>\n",
       "      <td>...</td>\n",
       "      <td>...</td>\n",
       "      <td>...</td>\n",
       "      <td>...</td>\n",
       "      <td>...</td>\n",
       "      <td>...</td>\n",
       "      <td>...</td>\n",
       "      <td>...</td>\n",
       "      <td>...</td>\n",
       "      <td>...</td>\n",
       "      <td>...</td>\n",
       "    </tr>\n",
       "    <tr>\n",
       "      <th>1369</th>\n",
       "      <td>Киевская</td>\n",
       "      <td>Филёвская линия</td>\n",
       "      <td>2022.0</td>\n",
       "      <td>I квартал</td>\n",
       "      <td>0.0</td>\n",
       "      <td>0.0</td>\n",
       "      <td>2.363488e+09</td>\n",
       "      <td>NaN</td>\n",
       "      <td>NaN</td>\n",
       "      <td>NaN</td>\n",
       "      <td>NaN</td>\n",
       "      <td>NaN</td>\n",
       "      <td>NaN</td>\n",
       "      <td>NaN</td>\n",
       "    </tr>\n",
       "    <tr>\n",
       "      <th>1370</th>\n",
       "      <td>Улица Милашенкова</td>\n",
       "      <td>Московская монорельсовая транспортная система</td>\n",
       "      <td>2021.0</td>\n",
       "      <td>IV квартал</td>\n",
       "      <td>17991.0</td>\n",
       "      <td>17295.0</td>\n",
       "      <td>2.363644e+09</td>\n",
       "      <td>NaN</td>\n",
       "      <td>NaN</td>\n",
       "      <td>NaN</td>\n",
       "      <td>NaN</td>\n",
       "      <td>NaN</td>\n",
       "      <td>NaN</td>\n",
       "      <td>NaN</td>\n",
       "    </tr>\n",
       "    <tr>\n",
       "      <th>1371</th>\n",
       "      <td>Кунцевская</td>\n",
       "      <td>Филёвская линия</td>\n",
       "      <td>2022.0</td>\n",
       "      <td>I квартал</td>\n",
       "      <td>543507.0</td>\n",
       "      <td>529972.0</td>\n",
       "      <td>2.363644e+09</td>\n",
       "      <td>NaN</td>\n",
       "      <td>NaN</td>\n",
       "      <td>NaN</td>\n",
       "      <td>NaN</td>\n",
       "      <td>NaN</td>\n",
       "      <td>NaN</td>\n",
       "      <td>NaN</td>\n",
       "    </tr>\n",
       "    <tr>\n",
       "      <th>1372</th>\n",
       "      <td>Смоленская</td>\n",
       "      <td>Филёвская линия</td>\n",
       "      <td>2022.0</td>\n",
       "      <td>I квартал</td>\n",
       "      <td>726197.0</td>\n",
       "      <td>742423.0</td>\n",
       "      <td>2.363644e+09</td>\n",
       "      <td>NaN</td>\n",
       "      <td>NaN</td>\n",
       "      <td>NaN</td>\n",
       "      <td>NaN</td>\n",
       "      <td>NaN</td>\n",
       "      <td>NaN</td>\n",
       "      <td>NaN</td>\n",
       "    </tr>\n",
       "    <tr>\n",
       "      <th>1373</th>\n",
       "      <td>#конец данных</td>\n",
       "      <td>NaN</td>\n",
       "      <td>NaN</td>\n",
       "      <td>NaN</td>\n",
       "      <td>NaN</td>\n",
       "      <td>NaN</td>\n",
       "      <td>NaN</td>\n",
       "      <td>NaN</td>\n",
       "      <td>NaN</td>\n",
       "      <td>NaN</td>\n",
       "      <td>NaN</td>\n",
       "      <td>NaN</td>\n",
       "      <td>NaN</td>\n",
       "      <td>NaN</td>\n",
       "    </tr>\n",
       "  </tbody>\n",
       "</table>\n",
       "<p>1374 rows × 14 columns</p>\n",
       "</div>"
      ],
      "text/plain": [
       "          NameOfStation                                           Line  \\\n",
       "0                Митино                      Арбатско-Покровская линия   \n",
       "1         Волоколамская                      Арбатско-Покровская линия   \n",
       "2              Строгино                      Арбатско-Покровская линия   \n",
       "3            Крылатское                      Арбатско-Покровская линия   \n",
       "4     Площадь Революции                      Арбатско-Покровская линия   \n",
       "...                 ...                                            ...   \n",
       "1369           Киевская                                Филёвская линия   \n",
       "1370  Улица Милашенкова  Московская монорельсовая транспортная система   \n",
       "1371         Кунцевская                                Филёвская линия   \n",
       "1372         Смоленская                                Филёвская линия   \n",
       "1373      #конец данных                                            NaN   \n",
       "\n",
       "        Year     Quarter  IncomingPassengers  OutgoingPassengers  \\\n",
       "0     2021.0   I квартал           1913498.0           1829031.0   \n",
       "1     2021.0   I квартал           1236714.0           1222309.0   \n",
       "2     2021.0   I квартал           1938816.0           1903731.0   \n",
       "3     2021.0   I квартал           1849616.0           1818208.0   \n",
       "4     2021.0   I квартал           2324687.0           2319343.0   \n",
       "...      ...         ...                 ...                 ...   \n",
       "1369  2022.0   I квартал                 0.0                 0.0   \n",
       "1370  2021.0  IV квартал             17991.0             17295.0   \n",
       "1371  2022.0   I квартал            543507.0            529972.0   \n",
       "1372  2022.0   I квартал            726197.0            742423.0   \n",
       "1373     NaN         NaN                 NaN                 NaN   \n",
       "\n",
       "         global_id  NameOfStation_en  Line_en  Year_en  Quarter_en  \\\n",
       "0     1.138976e+09               NaN      NaN      NaN         NaN   \n",
       "1     1.138976e+09               NaN      NaN      NaN         NaN   \n",
       "2     1.138976e+09               NaN      NaN      NaN         NaN   \n",
       "3     1.138976e+09               NaN      NaN      NaN         NaN   \n",
       "4     1.138976e+09               NaN      NaN      NaN         NaN   \n",
       "...            ...               ...      ...      ...         ...   \n",
       "1369  2.363488e+09               NaN      NaN      NaN         NaN   \n",
       "1370  2.363644e+09               NaN      NaN      NaN         NaN   \n",
       "1371  2.363644e+09               NaN      NaN      NaN         NaN   \n",
       "1372  2.363644e+09               NaN      NaN      NaN         NaN   \n",
       "1373           NaN               NaN      NaN      NaN         NaN   \n",
       "\n",
       "      IncomingPassengers_en  OutgoingPassengers_en  Unnamed: 13  \n",
       "0                       NaN                    NaN          NaN  \n",
       "1                       NaN                    NaN          NaN  \n",
       "2                       NaN                    NaN          NaN  \n",
       "3                       NaN                    NaN          NaN  \n",
       "4                       NaN                    NaN          NaN  \n",
       "...                     ...                    ...          ...  \n",
       "1369                    NaN                    NaN          NaN  \n",
       "1370                    NaN                    NaN          NaN  \n",
       "1371                    NaN                    NaN          NaN  \n",
       "1372                    NaN                    NaN          NaN  \n",
       "1373                    NaN                    NaN          NaN  \n",
       "\n",
       "[1374 rows x 14 columns]"
      ]
     },
     "execution_count": 127,
     "metadata": {},
     "output_type": "execute_result"
    }
   ],
   "source": [
    "df"
   ]
  },
  {
   "cell_type": "code",
   "execution_count": null,
   "id": "a4190321",
   "metadata": {},
   "outputs": [],
   "source": []
  },
  {
   "cell_type": "code",
   "execution_count": null,
   "id": "3261c20a",
   "metadata": {},
   "outputs": [],
   "source": []
  },
  {
   "cell_type": "code",
   "execution_count": 114,
   "id": "bae6785e",
   "metadata": {},
   "outputs": [
    {
     "data": {
      "text/plain": [
       "0       True\n",
       "1       True\n",
       "2       True\n",
       "3       True\n",
       "4       True\n",
       "        ... \n",
       "1369    True\n",
       "1370    True\n",
       "1371    True\n",
       "1372    True\n",
       "1373    True\n",
       "Name: IncomingPassengers, Length: 1374, dtype: bool"
      ]
     },
     "execution_count": 114,
     "metadata": {},
     "output_type": "execute_result"
    }
   ],
   "source": [
    "~df.IncomingPassengers.isna()"
   ]
  },
  {
   "cell_type": "code",
   "execution_count": 115,
   "id": "1e83f56b",
   "metadata": {},
   "outputs": [
    {
     "data": {
      "text/plain": [
       "1374"
      ]
     },
     "execution_count": 115,
     "metadata": {},
     "output_type": "execute_result"
    }
   ],
   "source": [
    "sum(~df.IncomingPassengers.isna())"
   ]
  },
  {
   "cell_type": "code",
   "execution_count": null,
   "id": "532e34fa",
   "metadata": {},
   "outputs": [],
   "source": []
  },
  {
   "cell_type": "code",
   "execution_count": 128,
   "id": "108a9584",
   "metadata": {},
   "outputs": [
    {
     "data": {
      "text/plain": [
       "0       1913498.0\n",
       "1       1236714.0\n",
       "2       1938816.0\n",
       "3       1849616.0\n",
       "4       2324687.0\n",
       "          ...    \n",
       "1368          0.0\n",
       "1369          0.0\n",
       "1370      17991.0\n",
       "1371     543507.0\n",
       "1372     726197.0\n",
       "Name: IncomingPassengers, Length: 1372, dtype: float64"
      ]
     },
     "execution_count": 128,
     "metadata": {},
     "output_type": "execute_result"
    }
   ],
   "source": [
    "df.IncomingPassengers[(~df.IncomingPassengers.isnull()) & (~(df.IncomingPassengers == ''))]"
   ]
  },
  {
   "cell_type": "code",
   "execution_count": null,
   "id": "9a7e505c",
   "metadata": {},
   "outputs": [],
   "source": []
  },
  {
   "cell_type": "code",
   "execution_count": 130,
   "id": "a053341d",
   "metadata": {},
   "outputs": [
    {
     "data": {
      "text/plain": [
       "2514195123.0"
      ]
     },
     "execution_count": 130,
     "metadata": {},
     "output_type": "execute_result"
    }
   ],
   "source": [
    "sum(df.IncomingPassengers[(~df.IncomingPassengers.isnull()) & (~(df.IncomingPassengers == ''))])"
   ]
  },
  {
   "cell_type": "code",
   "execution_count": null,
   "id": "3fbc2cc9",
   "metadata": {},
   "outputs": [],
   "source": []
  },
  {
   "cell_type": "code",
   "execution_count": null,
   "id": "d158cf35",
   "metadata": {},
   "outputs": [],
   "source": []
  },
  {
   "cell_type": "code",
   "execution_count": null,
   "id": "f3c322f7",
   "metadata": {},
   "outputs": [],
   "source": []
  },
  {
   "cell_type": "code",
   "execution_count": null,
   "id": "51695e3b",
   "metadata": {},
   "outputs": [],
   "source": []
  },
  {
   "cell_type": "code",
   "execution_count": null,
   "id": "541ce563",
   "metadata": {},
   "outputs": [],
   "source": []
  },
  {
   "cell_type": "code",
   "execution_count": null,
   "id": "5784fade",
   "metadata": {},
   "outputs": [],
   "source": []
  },
  {
   "cell_type": "code",
   "execution_count": null,
   "id": "aeca339d",
   "metadata": {},
   "outputs": [],
   "source": []
  },
  {
   "cell_type": "code",
   "execution_count": null,
   "id": "0731c9b0",
   "metadata": {},
   "outputs": [],
   "source": []
  },
  {
   "cell_type": "code",
   "execution_count": null,
   "id": "c4d9e980",
   "metadata": {},
   "outputs": [],
   "source": []
  },
  {
   "cell_type": "code",
   "execution_count": null,
   "id": "d67792e7",
   "metadata": {},
   "outputs": [],
   "source": []
  },
  {
   "cell_type": "code",
   "execution_count": null,
   "id": "9b5f6f4b",
   "metadata": {},
   "outputs": [],
   "source": []
  },
  {
   "cell_type": "code",
   "execution_count": null,
   "id": "805e4042",
   "metadata": {},
   "outputs": [],
   "source": []
  },
  {
   "cell_type": "code",
   "execution_count": null,
   "id": "1c6b6edb",
   "metadata": {},
   "outputs": [],
   "source": []
  },
  {
   "cell_type": "code",
   "execution_count": null,
   "id": "859f366a",
   "metadata": {},
   "outputs": [],
   "source": []
  },
  {
   "cell_type": "code",
   "execution_count": null,
   "id": "883dee77",
   "metadata": {},
   "outputs": [],
   "source": []
  },
  {
   "cell_type": "code",
   "execution_count": null,
   "id": "d241ecc2",
   "metadata": {},
   "outputs": [],
   "source": []
  },
  {
   "cell_type": "code",
   "execution_count": null,
   "id": "7dbbf547",
   "metadata": {},
   "outputs": [],
   "source": []
  },
  {
   "cell_type": "code",
   "execution_count": null,
   "id": "fbd4a119",
   "metadata": {},
   "outputs": [],
   "source": []
  },
  {
   "cell_type": "code",
   "execution_count": null,
   "id": "4c28781b",
   "metadata": {},
   "outputs": [],
   "source": []
  },
  {
   "cell_type": "code",
   "execution_count": null,
   "id": "743e0bda",
   "metadata": {},
   "outputs": [],
   "source": []
  }
 ],
 "metadata": {
  "kernelspec": {
   "display_name": "Python 3 (ipykernel)",
   "language": "python",
   "name": "python3"
  },
  "language_info": {
   "codemirror_mode": {
    "name": "ipython",
    "version": 3
   },
   "file_extension": ".py",
   "mimetype": "text/x-python",
   "name": "python",
   "nbconvert_exporter": "python",
   "pygments_lexer": "ipython3",
   "version": "3.10.0"
  }
 },
 "nbformat": 4,
 "nbformat_minor": 5
}
